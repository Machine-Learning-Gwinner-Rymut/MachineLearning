{
 "cells": [
  {
   "cell_type": "code",
   "execution_count": 1,
   "id": "b0a1a5b7",
   "metadata": {
    "execution": {
     "iopub.execute_input": "2021-05-05T08:46:57.402036Z",
     "iopub.status.busy": "2021-05-05T08:46:57.401113Z",
     "iopub.status.idle": "2021-05-05T08:46:58.024807Z",
     "shell.execute_reply": "2021-05-05T08:46:58.025214Z"
    },
    "slideshow": {
     "slide_type": "skip"
    }
   },
   "outputs": [],
   "source": [
    "import matplotlib.pyplot as plt\n",
    "import numpy as np\n",
    "import pandas as pd"
   ]
  },
  {
   "cell_type": "code",
   "execution_count": 2,
   "id": "62534bb7",
   "metadata": {
    "execution": {
     "iopub.execute_input": "2021-05-05T08:46:58.030916Z",
     "iopub.status.busy": "2021-05-05T08:46:58.030229Z",
     "iopub.status.idle": "2021-05-05T08:46:58.032538Z",
     "shell.execute_reply": "2021-05-05T08:46:58.032066Z"
    },
    "slideshow": {
     "slide_type": "skip"
    }
   },
   "outputs": [],
   "source": [
    "%matplotlib inline\n",
    "plt.rcParams[\"figure.figsize\"] = [12,8]"
   ]
  },
  {
   "cell_type": "markdown",
   "id": "0bdb142f",
   "metadata": {
    "slideshow": {
     "slide_type": "slide"
    }
   },
   "source": [
    "## Training (Naive) Bayes"
   ]
  },
  {
   "cell_type": "markdown",
   "id": "145df468",
   "metadata": {
    "slideshow": {
     "slide_type": "notes"
    }
   },
   "source": [
    "As we have shown in the previous lectures training a Bayes classifier amounts to finding the conditional probability distributions of the features $\\mathbf{f}$ given the class label $c$. "
   ]
  },
  {
   "cell_type": "markdown",
   "id": "73115935",
   "metadata": {
    "slideshow": {
     "slide_type": "-"
    }
   },
   "source": [
    "$$P(\\mathbf{F}=\\mathbf{f}|C=c)$$"
   ]
  },
  {
   "cell_type": "markdown",
   "id": "82816e5e",
   "metadata": {
    "slideshow": {
     "slide_type": "notes"
    }
   },
   "source": [
    "In case of the Naive bayes classifier the $n_f$ features are conditionally independent "
   ]
  },
  {
   "cell_type": "markdown",
   "id": "236b56d4",
   "metadata": {
    "slideshow": {
     "slide_type": "fragment"
    }
   },
   "source": [
    "$$P(\\mathbf{F}=\\mathbf{f}|C=c)=\\prod_{i=0}^{n_f-1} P(F_i=f_i|C=c)$$"
   ]
  },
  {
   "cell_type": "markdown",
   "id": "d5f407b9",
   "metadata": {
    "slideshow": {
     "slide_type": "notes"
    }
   },
   "source": [
    "so we can estimate   probality distribution  for each feature separately. "
   ]
  },
  {
   "cell_type": "markdown",
   "id": "479d5f3f",
   "metadata": {
    "slideshow": {
     "slide_type": "notes"
    }
   },
   "source": [
    "In case of categorical features each $x_i$ has a finite $m_i$  number of possible values (categories) that, without any loss of generality we can  assume, take values $0,\\ldots,m_i-1$. In the same way we  will assume that the class labels take $n_c$ integer values $c=0,\\ldots,n_c-1$. \n",
    "\n",
    "So for each feature we have  to estimate  $n_c\\times m_i$ probabilities "
   ]
  },
  {
   "cell_type": "markdown",
   "id": "a2e4214d",
   "metadata": {
    "slideshow": {
     "slide_type": "slide"
    }
   },
   "source": [
    "$$p^{(c)}_{ij} = P(F_i = j|C = c)$$"
   ]
  },
  {
   "cell_type": "markdown",
   "id": "ff26098e",
   "metadata": {
    "slideshow": {
     "slide_type": "notes"
    }
   },
   "source": [
    "Of course they are not all idependent. Normalisation requires"
   ]
  },
  {
   "cell_type": "markdown",
   "id": "df1a2cfa",
   "metadata": {
    "slideshow": {
     "slide_type": "fragment"
    }
   },
   "source": [
    "$$\\sum_{j=0}^{m_i-1} p^{(c)}_{ij}=1,\\quad i=0,\\ldots,n_f,\\; c=0,\\ldots,n_c$$"
   ]
  },
  {
   "cell_type": "markdown",
   "id": "2a0afac1",
   "metadata": {
    "slideshow": {
     "slide_type": "notes"
    }
   },
   "source": [
    "Let $\\mathbf{X}$ denote the $n_s \\times n_f$ matrix of training data where $n_s$ is the number of samples. So $X_{hi}$ denotes the value of the ith   feature in  sample $h$. Let  $y_h$ denote the corresponding label"
   ]
  },
  {
   "cell_type": "markdown",
   "id": "55d95437",
   "metadata": {
    "slideshow": {
     "slide_type": "slide"
    }
   },
   "source": [
    "$$X_{hi} \\in \\{0,\\ldots,m_i-1\\},\\quad  y_h \\in \\{0,\\ldots,n_c-1\\},\\quad h = 0,\\ldots,n_s-1$$"
   ]
  },
  {
   "cell_type": "markdown",
   "id": "da402f8d",
   "metadata": {
    "slideshow": {
     "slide_type": "skip"
    }
   },
   "source": [
    "Let's introduce some more notation. $n_c$ will denote the number of samples belonging to class $c$"
   ]
  },
  {
   "cell_type": "markdown",
   "id": "8a431570",
   "metadata": {
    "slideshow": {
     "slide_type": "fragment"
    }
   },
   "source": [
    "$$n^{c}=\\sum_{h=0}^{n_s-1}\\delta_{y_h,c},\\qquad \\delta_{a,b}=\n",
    "\\begin{cases}\n",
    "1 & a=b\\\\\n",
    "0 & a\\neq b\n",
    "\\end{cases}$$"
   ]
  },
  {
   "cell_type": "markdown",
   "id": "ccf91607",
   "metadata": {
    "slideshow": {
     "slide_type": "notes"
    }
   },
   "source": [
    "and $n^{(c)}_{ij}$ the number of samples of class $c$ with feature $i$ equal to  $j$"
   ]
  },
  {
   "cell_type": "markdown",
   "id": "e33e7c35",
   "metadata": {
    "slideshow": {
     "slide_type": "fragment"
    }
   },
   "source": [
    "$$n^{(c)}_{ij} = \\displaystyle\n",
    "\\sum_{h=0}^{n_s-1} \\delta_{X_{hi},j}\\delta_{y_h,c}\n",
    "$$"
   ]
  },
  {
   "cell_type": "markdown",
   "id": "7bb6c633",
   "metadata": {
    "slideshow": {
     "slide_type": "skip"
    }
   },
   "source": [
    "To estimate the probabilities we will use a smoothed estimator "
   ]
  },
  {
   "cell_type": "markdown",
   "id": "e1d33f46",
   "metadata": {
    "slideshow": {
     "slide_type": "fragment"
    }
   },
   "source": [
    "$$p^{(c)}_{ij} = \\frac{n^{(c)}_{ij}+\\alpha}{n^c+m_i\\alpha} $$"
   ]
  },
  {
   "cell_type": "markdown",
   "id": "2b550dc2",
   "metadata": {},
   "source": [
    "where $\\alpha\\ge 0$ is a smoothing parameter. The use of  non-zero smoothing parameter ensures a non-vanishing probability even when $n^{(c)}_{ij}=0$. "
   ]
  },
  {
   "cell_type": "markdown",
   "id": "c63f4bf6",
   "metadata": {
    "slideshow": {
     "slide_type": "slide"
    }
   },
   "source": [
    "## Example: Car evaluation data set"
   ]
  },
  {
   "cell_type": "markdown",
   "id": "f100fd01",
   "metadata": {
    "slideshow": {
     "slide_type": "skip"
    }
   },
   "source": [
    "As an example we will use the [car evaluation dataset](http://archive.ics.uci.edu/ml/datasets/Car+Evaluation) from [UCI Machine Learning repository](http://archive.ics.uci.edu/ml/). It contains 1728 samples with six atttributes (features) each. The class label is the evaluation of the car: $\\{unacc, acc, good, vgood\\}$."
   ]
  },
  {
   "cell_type": "markdown",
   "id": "ef253330",
   "metadata": {
    "slideshow": {
     "slide_type": "skip"
    }
   },
   "source": [
    "All six parameters are categorical and the data contains exactly one sample for each possible combination of attributes values (in this respect this is quite peculiar dataset)."
   ]
  },
  {
   "cell_type": "markdown",
   "id": "860dbe17",
   "metadata": {
    "slideshow": {
     "slide_type": "skip"
    }
   },
   "source": [
    "As before we will use pandas to read and proccess the data."
   ]
  },
  {
   "cell_type": "code",
   "execution_count": 3,
   "id": "9ae506a0",
   "metadata": {
    "execution": {
     "iopub.execute_input": "2021-05-05T08:46:58.036528Z",
     "iopub.status.busy": "2021-05-05T08:46:58.035946Z",
     "iopub.status.idle": "2021-05-05T08:46:58.042070Z",
     "shell.execute_reply": "2021-05-05T08:46:58.042508Z"
    },
    "slideshow": {
     "slide_type": "slide"
    }
   },
   "outputs": [],
   "source": [
    "cars_data = pd.read_csv(\"../../Data/Cars/car_data.csv\", names=['buying', 'maint', 'doors', 'persons', 'lug_boot', 'safety', 'class'])"
   ]
  },
  {
   "cell_type": "code",
   "execution_count": 4,
   "id": "3b74ffc6",
   "metadata": {
    "execution": {
     "iopub.execute_input": "2021-05-05T08:46:58.047268Z",
     "iopub.status.busy": "2021-05-05T08:46:58.046674Z",
     "iopub.status.idle": "2021-05-05T08:46:58.057754Z",
     "shell.execute_reply": "2021-05-05T08:46:58.058154Z"
    },
    "slideshow": {
     "slide_type": "fragment"
    }
   },
   "outputs": [
    {
     "data": {
      "text/html": [
       "<div>\n",
       "<style scoped>\n",
       "    .dataframe tbody tr th:only-of-type {\n",
       "        vertical-align: middle;\n",
       "    }\n",
       "\n",
       "    .dataframe tbody tr th {\n",
       "        vertical-align: top;\n",
       "    }\n",
       "\n",
       "    .dataframe thead th {\n",
       "        text-align: right;\n",
       "    }\n",
       "</style>\n",
       "<table border=\"1\" class=\"dataframe\">\n",
       "  <thead>\n",
       "    <tr style=\"text-align: right;\">\n",
       "      <th></th>\n",
       "      <th>buying</th>\n",
       "      <th>maint</th>\n",
       "      <th>doors</th>\n",
       "      <th>persons</th>\n",
       "      <th>lug_boot</th>\n",
       "      <th>safety</th>\n",
       "      <th>class</th>\n",
       "    </tr>\n",
       "  </thead>\n",
       "  <tbody>\n",
       "    <tr>\n",
       "      <th>0</th>\n",
       "      <td>vhigh</td>\n",
       "      <td>vhigh</td>\n",
       "      <td>2</td>\n",
       "      <td>2</td>\n",
       "      <td>small</td>\n",
       "      <td>low</td>\n",
       "      <td>unacc</td>\n",
       "    </tr>\n",
       "    <tr>\n",
       "      <th>1</th>\n",
       "      <td>vhigh</td>\n",
       "      <td>vhigh</td>\n",
       "      <td>2</td>\n",
       "      <td>2</td>\n",
       "      <td>small</td>\n",
       "      <td>med</td>\n",
       "      <td>unacc</td>\n",
       "    </tr>\n",
       "    <tr>\n",
       "      <th>2</th>\n",
       "      <td>vhigh</td>\n",
       "      <td>vhigh</td>\n",
       "      <td>2</td>\n",
       "      <td>2</td>\n",
       "      <td>small</td>\n",
       "      <td>high</td>\n",
       "      <td>unacc</td>\n",
       "    </tr>\n",
       "    <tr>\n",
       "      <th>3</th>\n",
       "      <td>vhigh</td>\n",
       "      <td>vhigh</td>\n",
       "      <td>2</td>\n",
       "      <td>2</td>\n",
       "      <td>med</td>\n",
       "      <td>low</td>\n",
       "      <td>unacc</td>\n",
       "    </tr>\n",
       "    <tr>\n",
       "      <th>4</th>\n",
       "      <td>vhigh</td>\n",
       "      <td>vhigh</td>\n",
       "      <td>2</td>\n",
       "      <td>2</td>\n",
       "      <td>med</td>\n",
       "      <td>med</td>\n",
       "      <td>unacc</td>\n",
       "    </tr>\n",
       "  </tbody>\n",
       "</table>\n",
       "</div>"
      ],
      "text/plain": [
       "  buying  maint doors persons lug_boot safety  class\n",
       "0  vhigh  vhigh     2       2    small    low  unacc\n",
       "1  vhigh  vhigh     2       2    small    med  unacc\n",
       "2  vhigh  vhigh     2       2    small   high  unacc\n",
       "3  vhigh  vhigh     2       2      med    low  unacc\n",
       "4  vhigh  vhigh     2       2      med    med  unacc"
      ]
     },
     "execution_count": 4,
     "metadata": {},
     "output_type": "execute_result"
    }
   ],
   "source": [
    "cars_data.head()"
   ]
  },
  {
   "cell_type": "code",
   "execution_count": 5,
   "id": "0d64553b",
   "metadata": {
    "execution": {
     "iopub.execute_input": "2021-05-05T08:46:58.067556Z",
     "iopub.status.busy": "2021-05-05T08:46:58.066919Z",
     "iopub.status.idle": "2021-05-05T08:46:58.069139Z",
     "shell.execute_reply": "2021-05-05T08:46:58.069632Z"
    },
    "slideshow": {
     "slide_type": "fragment"
    }
   },
   "outputs": [
    {
     "name": "stdout",
     "output_type": "stream",
     "text": [
      "<class 'pandas.core.frame.DataFrame'>\n",
      "RangeIndex: 1728 entries, 0 to 1727\n",
      "Data columns (total 7 columns):\n",
      " #   Column    Non-Null Count  Dtype \n",
      "---  ------    --------------  ----- \n",
      " 0   buying    1728 non-null   object\n",
      " 1   maint     1728 non-null   object\n",
      " 2   doors     1728 non-null   object\n",
      " 3   persons   1728 non-null   object\n",
      " 4   lug_boot  1728 non-null   object\n",
      " 5   safety    1728 non-null   object\n",
      " 6   class     1728 non-null   object\n",
      "dtypes: object(7)\n",
      "memory usage: 94.6+ KB\n"
     ]
    }
   ],
   "source": [
    "cars_data.info()"
   ]
  },
  {
   "cell_type": "markdown",
   "id": "041be951",
   "metadata": {
    "slideshow": {
     "slide_type": "skip"
    }
   },
   "source": [
    "Method `groupby`  divides the data frame into goups based on the value of the given colum(s)"
   ]
  },
  {
   "cell_type": "code",
   "execution_count": 6,
   "id": "f1df528c",
   "metadata": {
    "execution": {
     "iopub.execute_input": "2021-05-05T08:46:58.072873Z",
     "iopub.status.busy": "2021-05-05T08:46:58.072336Z",
     "iopub.status.idle": "2021-05-05T08:46:58.074562Z",
     "shell.execute_reply": "2021-05-05T08:46:58.074153Z"
    },
    "slideshow": {
     "slide_type": "slide"
    }
   },
   "outputs": [],
   "source": [
    "cars_by_class = cars_data.groupby('class')"
   ]
  },
  {
   "cell_type": "markdown",
   "id": "0b623f75",
   "metadata": {
    "slideshow": {
     "slide_type": "skip"
    }
   },
   "source": [
    "The size of each group can be calculated using method `size`"
   ]
  },
  {
   "cell_type": "code",
   "execution_count": 7,
   "id": "94c5cbf8",
   "metadata": {
    "execution": {
     "iopub.execute_input": "2021-05-05T08:46:58.079008Z",
     "iopub.status.busy": "2021-05-05T08:46:58.078460Z",
     "iopub.status.idle": "2021-05-05T08:46:58.081137Z",
     "shell.execute_reply": "2021-05-05T08:46:58.080688Z"
    },
    "slideshow": {
     "slide_type": "fragment"
    }
   },
   "outputs": [
    {
     "data": {
      "text/plain": [
       "class\n",
       "acc       384\n",
       "good       69\n",
       "unacc    1210\n",
       "vgood      65\n",
       "dtype: int64"
      ]
     },
     "execution_count": 7,
     "metadata": {},
     "output_type": "execute_result"
    }
   ],
   "source": [
    "cars_by_class.size()"
   ]
  },
  {
   "cell_type": "markdown",
   "id": "cedb699d",
   "metadata": {
    "slideshow": {
     "slide_type": "skip"
    }
   },
   "source": [
    "As we can see the classes are not very well ballanced with relatively small number of cars in two best  classes.  So I have decided to join those two classes together introducing a new classification"
   ]
  },
  {
   "cell_type": "code",
   "execution_count": 8,
   "id": "11ecdff0",
   "metadata": {
    "execution": {
     "iopub.execute_input": "2021-05-05T08:46:58.084319Z",
     "iopub.status.busy": "2021-05-05T08:46:58.083732Z",
     "iopub.status.idle": "2021-05-05T08:46:58.085595Z",
     "shell.execute_reply": "2021-05-05T08:46:58.085964Z"
    },
    "slideshow": {
     "slide_type": "slide"
    }
   },
   "outputs": [],
   "source": [
    "def bargain(c):\n",
    "    if c in ['good', 'vgood']:\n",
    "        return 'good'\n",
    "    elif c=='acc':\n",
    "        return 'fair'\n",
    "    else:\n",
    "        return 'bad'"
   ]
  },
  {
   "cell_type": "code",
   "execution_count": 9,
   "id": "9c583a52",
   "metadata": {
    "execution": {
     "iopub.execute_input": "2021-05-05T08:46:58.090492Z",
     "iopub.status.busy": "2021-05-05T08:46:58.089980Z",
     "iopub.status.idle": "2021-05-05T08:46:58.091793Z",
     "shell.execute_reply": "2021-05-05T08:46:58.092151Z"
    },
    "slideshow": {
     "slide_type": "-"
    }
   },
   "outputs": [],
   "source": [
    "cars_data['bargain'] = cars_data['class'].apply(bargain)\n",
    "cars_data = cars_data.drop('class',1)"
   ]
  },
  {
   "cell_type": "markdown",
   "id": "914e2f1a",
   "metadata": {
    "slideshow": {
     "slide_type": "skip"
    }
   },
   "source": [
    "We start by dividing the data set into training and testing. "
   ]
  },
  {
   "cell_type": "code",
   "execution_count": 10,
   "id": "08203533",
   "metadata": {
    "execution": {
     "iopub.execute_input": "2021-05-05T08:46:58.094912Z",
     "iopub.status.busy": "2021-05-05T08:46:58.094345Z",
     "iopub.status.idle": "2021-05-05T08:46:58.679522Z",
     "shell.execute_reply": "2021-05-05T08:46:58.679951Z"
    },
    "slideshow": {
     "slide_type": "skip"
    }
   },
   "outputs": [],
   "source": [
    "from sklearn.model_selection import train_test_split"
   ]
  },
  {
   "cell_type": "code",
   "execution_count": 11,
   "id": "f65ebff4",
   "metadata": {
    "execution": {
     "iopub.execute_input": "2021-05-05T08:46:58.683295Z",
     "iopub.status.busy": "2021-05-05T08:46:58.682640Z",
     "iopub.status.idle": "2021-05-05T08:46:58.684623Z",
     "shell.execute_reply": "2021-05-05T08:46:58.685050Z"
    },
    "slideshow": {
     "slide_type": "skip"
    }
   },
   "outputs": [],
   "source": [
    "seed = 678565"
   ]
  },
  {
   "cell_type": "code",
   "execution_count": 12,
   "id": "5ad19abe",
   "metadata": {
    "execution": {
     "iopub.execute_input": "2021-05-05T08:46:58.688838Z",
     "iopub.status.busy": "2021-05-05T08:46:58.688207Z",
     "iopub.status.idle": "2021-05-05T08:46:58.690628Z",
     "shell.execute_reply": "2021-05-05T08:46:58.691089Z"
    },
    "slideshow": {
     "slide_type": "slide"
    }
   },
   "outputs": [],
   "source": [
    "cars_train, cars_test = train_test_split(cars_data, train_size=0.75, random_state=seed)"
   ]
  },
  {
   "cell_type": "code",
   "execution_count": 13,
   "id": "573ed2a0",
   "metadata": {
    "execution": {
     "iopub.execute_input": "2021-05-05T08:46:58.695801Z",
     "iopub.status.busy": "2021-05-05T08:46:58.695171Z",
     "iopub.status.idle": "2021-05-05T08:46:58.697442Z",
     "shell.execute_reply": "2021-05-05T08:46:58.697835Z"
    },
    "slideshow": {
     "slide_type": "-"
    }
   },
   "outputs": [
    {
     "data": {
      "text/plain": [
       "bad     916\n",
       "fair    275\n",
       "good    105\n",
       "Name: bargain, dtype: int64"
      ]
     },
     "execution_count": 13,
     "metadata": {},
     "output_type": "execute_result"
    }
   ],
   "source": [
    "cars_train['bargain'].value_counts()"
   ]
  },
  {
   "cell_type": "code",
   "execution_count": 14,
   "id": "71876627",
   "metadata": {
    "execution": {
     "iopub.execute_input": "2021-05-05T08:46:58.702418Z",
     "iopub.status.busy": "2021-05-05T08:46:58.701802Z",
     "iopub.status.idle": "2021-05-05T08:46:58.704182Z",
     "shell.execute_reply": "2021-05-05T08:46:58.704646Z"
    },
    "slideshow": {
     "slide_type": "-"
    }
   },
   "outputs": [
    {
     "data": {
      "text/plain": [
       "bad     294\n",
       "fair    109\n",
       "good     29\n",
       "Name: bargain, dtype: int64"
      ]
     },
     "execution_count": 14,
     "metadata": {},
     "output_type": "execute_result"
    }
   ],
   "source": [
    "cars_test['bargain'].value_counts()"
   ]
  },
  {
   "cell_type": "markdown",
   "id": "81a77964",
   "metadata": {
    "slideshow": {
     "slide_type": "skip"
    }
   },
   "source": [
    "Function `train_test_split` has an option to _stratify_ data based on the values of one colum"
   ]
  },
  {
   "cell_type": "code",
   "execution_count": 15,
   "id": "0a4cfc13",
   "metadata": {
    "execution": {
     "iopub.execute_input": "2021-05-05T08:46:58.708527Z",
     "iopub.status.busy": "2021-05-05T08:46:58.707994Z",
     "iopub.status.idle": "2021-05-05T08:46:58.711208Z",
     "shell.execute_reply": "2021-05-05T08:46:58.711588Z"
    },
    "slideshow": {
     "slide_type": "slide"
    }
   },
   "outputs": [],
   "source": [
    "cars_train, cars_test = train_test_split(cars_data, train_size=0.75, stratify=cars_data['bargain'],\n",
    "                                         random_state = seed)"
   ]
  },
  {
   "cell_type": "markdown",
   "id": "26ca6013",
   "metadata": {
    "slideshow": {
     "slide_type": "skip"
    }
   },
   "source": [
    "In this way the split was done separately for each  class label. That way we obtain as a result slightly more balanced sets"
   ]
  },
  {
   "cell_type": "code",
   "execution_count": 16,
   "id": "337ebbca",
   "metadata": {
    "execution": {
     "iopub.execute_input": "2021-05-05T08:46:58.716214Z",
     "iopub.status.busy": "2021-05-05T08:46:58.715579Z",
     "iopub.status.idle": "2021-05-05T08:46:58.717774Z",
     "shell.execute_reply": "2021-05-05T08:46:58.718173Z"
    },
    "slideshow": {
     "slide_type": "-"
    }
   },
   "outputs": [
    {
     "data": {
      "text/plain": [
       "bad     908\n",
       "fair    288\n",
       "good    100\n",
       "Name: bargain, dtype: int64"
      ]
     },
     "execution_count": 16,
     "metadata": {},
     "output_type": "execute_result"
    }
   ],
   "source": [
    "cars_train['bargain'].value_counts()"
   ]
  },
  {
   "cell_type": "code",
   "execution_count": 17,
   "id": "75c29d92",
   "metadata": {
    "execution": {
     "iopub.execute_input": "2021-05-05T08:46:58.722773Z",
     "iopub.status.busy": "2021-05-05T08:46:58.722054Z",
     "iopub.status.idle": "2021-05-05T08:46:58.724365Z",
     "shell.execute_reply": "2021-05-05T08:46:58.724833Z"
    },
    "slideshow": {
     "slide_type": "-"
    }
   },
   "outputs": [
    {
     "data": {
      "text/plain": [
       "bad     302\n",
       "fair     96\n",
       "good     34\n",
       "Name: bargain, dtype: int64"
      ]
     },
     "execution_count": 17,
     "metadata": {},
     "output_type": "execute_result"
    }
   ],
   "source": [
    "cars_test['bargain'].value_counts()"
   ]
  },
  {
   "cell_type": "markdown",
   "id": "cb33f0e1",
   "metadata": {
    "slideshow": {
     "slide_type": "skip"
    }
   },
   "source": [
    "We will use the Naive Bayes.\n",
    "There are many ways that we can calculate the estimators. We can start by grouping the dataframe according to  feature values"
   ]
  },
  {
   "cell_type": "code",
   "execution_count": 18,
   "id": "fc47c7b2",
   "metadata": {
    "execution": {
     "iopub.execute_input": "2021-05-05T08:46:58.728369Z",
     "iopub.status.busy": "2021-05-05T08:46:58.727841Z",
     "iopub.status.idle": "2021-05-05T08:46:58.729645Z",
     "shell.execute_reply": "2021-05-05T08:46:58.730022Z"
    },
    "slideshow": {
     "slide_type": "slide"
    }
   },
   "outputs": [],
   "source": [
    "cars_training_grouped = cars_train.groupby(['bargain', \n",
    "                                            'buying',\n",
    "                                            'maint',\n",
    "                                            'doors', \n",
    "                                            'persons', \n",
    "                                            'lug_boot',\n",
    "                                            'safety'])"
   ]
  },
  {
   "cell_type": "markdown",
   "id": "2fe8155c",
   "metadata": {
    "slideshow": {
     "slide_type": "skip"
    }
   },
   "source": [
    "and count the size of each group"
   ]
  },
  {
   "cell_type": "code",
   "execution_count": 19,
   "id": "fc39788a",
   "metadata": {
    "execution": {
     "iopub.execute_input": "2021-05-05T08:46:58.732780Z",
     "iopub.status.busy": "2021-05-05T08:46:58.732229Z",
     "iopub.status.idle": "2021-05-05T08:46:58.738660Z",
     "shell.execute_reply": "2021-05-05T08:46:58.739120Z"
    },
    "slideshow": {
     "slide_type": "skip"
    }
   },
   "outputs": [],
   "source": [
    "group_counts=cars_training_grouped.size()"
   ]
  },
  {
   "cell_type": "markdown",
   "id": "8f17a590",
   "metadata": {
    "slideshow": {
     "slide_type": "skip"
    }
   },
   "source": [
    "The `sum` method can make a partial sums (see Titanic problem) which we can use to extract $n^{c}_{ij}$ values"
   ]
  },
  {
   "cell_type": "code",
   "execution_count": 20,
   "id": "8f668d2a",
   "metadata": {
    "execution": {
     "iopub.execute_input": "2021-05-05T08:46:58.742536Z",
     "iopub.status.busy": "2021-05-05T08:46:58.741999Z",
     "iopub.status.idle": "2021-05-05T08:46:58.747411Z",
     "shell.execute_reply": "2021-05-05T08:46:58.747862Z"
    },
    "slideshow": {
     "slide_type": "slide"
    }
   },
   "outputs": [
    {
     "data": {
      "text/plain": [
       "bargain  buying\n",
       "bad      high      257\n",
       "         low       186\n",
       "         med       201\n",
       "         vhigh     264\n",
       "fair     high       83\n",
       "         low        72\n",
       "         med        83\n",
       "         vhigh      50\n",
       "good     low        63\n",
       "         med        37\n",
       "dtype: int64"
      ]
     },
     "execution_count": 20,
     "metadata": {},
     "output_type": "execute_result"
    }
   ],
   "source": [
    "# The level argument list the levels not summed over i.e. left in the result.\n",
    "group_counts.sum(level = ['bargain', 'buying'] )"
   ]
  },
  {
   "cell_type": "markdown",
   "id": "f0cc82bf",
   "metadata": {
    "slideshow": {
     "slide_type": "skip"
    }
   },
   "source": [
    "and finally calculate the probabilities"
   ]
  },
  {
   "cell_type": "code",
   "execution_count": 21,
   "id": "b24847bf",
   "metadata": {
    "execution": {
     "iopub.execute_input": "2021-05-05T08:46:58.752707Z",
     "iopub.status.busy": "2021-05-05T08:46:58.752069Z",
     "iopub.status.idle": "2021-05-05T08:46:58.760078Z",
     "shell.execute_reply": "2021-05-05T08:46:58.760528Z"
    },
    "slideshow": {
     "slide_type": "slide"
    }
   },
   "outputs": [
    {
     "data": {
      "text/plain": [
       "bargain  buying\n",
       "bad      high      0.282895\n",
       "         low       0.205044\n",
       "         med       0.221491\n",
       "         vhigh     0.290570\n",
       "fair     high      0.287671\n",
       "         low       0.250000\n",
       "         med       0.287671\n",
       "         vhigh     0.174658\n",
       "good     low       0.615385\n",
       "         med       0.365385\n",
       "dtype: float64"
      ]
     },
     "execution_count": 21,
     "metadata": {},
     "output_type": "execute_result"
    }
   ],
   "source": [
    "(group_counts.sum(level = ['bargain', 'buying'] ) +1 )/(group_counts.sum(level='bargain')+4)"
   ]
  },
  {
   "cell_type": "markdown",
   "id": "888c48c2",
   "metadata": {
    "slideshow": {
     "slide_type": "slide"
    }
   },
   "source": [
    "## Scikit-learn"
   ]
  },
  {
   "cell_type": "markdown",
   "id": "70256b8b",
   "metadata": {
    "slideshow": {
     "slide_type": "skip"
    }
   },
   "source": [
    "However if you look closely you will notice one problem: the 'good' class does not contain any values for 'high' and 'vhigh'  attribute values! That means of course that they are zero, but it complicates the calculations. Instead of fixing this by hand we will use the tools from the [scikit-learn](https://scikit-learn.org/stable/index.html) library. This library has a class implementing just what we need"
   ]
  },
  {
   "cell_type": "code",
   "execution_count": 22,
   "id": "c4f529e7",
   "metadata": {
    "execution": {
     "iopub.execute_input": "2021-05-05T08:46:58.763371Z",
     "iopub.status.busy": "2021-05-05T08:46:58.762836Z",
     "iopub.status.idle": "2021-05-05T08:46:58.765360Z",
     "shell.execute_reply": "2021-05-05T08:46:58.765748Z"
    },
    "slideshow": {
     "slide_type": "fragment"
    }
   },
   "outputs": [],
   "source": [
    "from sklearn.naive_bayes import CategoricalNB"
   ]
  },
  {
   "cell_type": "code",
   "execution_count": 23,
   "id": "7c648ff4",
   "metadata": {
    "execution": {
     "iopub.execute_input": "2021-05-05T08:46:58.768625Z",
     "iopub.status.busy": "2021-05-05T08:46:58.768070Z",
     "iopub.status.idle": "2021-05-05T08:46:58.769489Z",
     "shell.execute_reply": "2021-05-05T08:46:58.770081Z"
    },
    "slideshow": {
     "slide_type": "fragment"
    }
   },
   "outputs": [],
   "source": [
    "cnb = CategoricalNB(alpha=1)"
   ]
  },
  {
   "cell_type": "markdown",
   "id": "bf005600",
   "metadata": {
    "slideshow": {
     "slide_type": "skip"
    }
   },
   "source": [
    "However this classifier requires the  class labels and attributes to be  integer numbers counted from zero. Fortunatelly scikit-learn also includes a class for converting from labels to ordinals:"
   ]
  },
  {
   "cell_type": "code",
   "execution_count": 24,
   "id": "e0c8034d",
   "metadata": {
    "execution": {
     "iopub.execute_input": "2021-05-05T08:46:58.772857Z",
     "iopub.status.busy": "2021-05-05T08:46:58.772332Z",
     "iopub.status.idle": "2021-05-05T08:46:58.774024Z",
     "shell.execute_reply": "2021-05-05T08:46:58.774543Z"
    },
    "slideshow": {
     "slide_type": "slide"
    }
   },
   "outputs": [],
   "source": [
    "from sklearn.preprocessing import  OrdinalEncoder"
   ]
  },
  {
   "cell_type": "code",
   "execution_count": 25,
   "id": "37382272",
   "metadata": {
    "execution": {
     "iopub.execute_input": "2021-05-05T08:46:58.781241Z",
     "iopub.status.busy": "2021-05-05T08:46:58.779785Z",
     "iopub.status.idle": "2021-05-05T08:46:58.782940Z",
     "shell.execute_reply": "2021-05-05T08:46:58.783475Z"
    },
    "slideshow": {
     "slide_type": "fragment"
    }
   },
   "outputs": [],
   "source": [
    "features_encoder = OrdinalEncoder(dtype='int32')\n",
    "train_encoded = features_encoder.fit_transform(cars_train)"
   ]
  },
  {
   "cell_type": "code",
   "execution_count": 26,
   "id": "beeb9512",
   "metadata": {
    "execution": {
     "iopub.execute_input": "2021-05-05T08:46:58.786881Z",
     "iopub.status.busy": "2021-05-05T08:46:58.786342Z",
     "iopub.status.idle": "2021-05-05T08:46:58.788598Z",
     "shell.execute_reply": "2021-05-05T08:46:58.789016Z"
    }
   },
   "outputs": [
    {
     "data": {
      "text/plain": [
       "array([908, 288, 100])"
      ]
     },
     "execution_count": 26,
     "metadata": {},
     "output_type": "execute_result"
    }
   ],
   "source": [
    "np.bincount(train_encoded[:,-1])"
   ]
  },
  {
   "cell_type": "code",
   "execution_count": 27,
   "id": "0a1c585f",
   "metadata": {
    "execution": {
     "iopub.execute_input": "2021-05-05T08:46:58.791814Z",
     "iopub.status.busy": "2021-05-05T08:46:58.791321Z",
     "iopub.status.idle": "2021-05-05T08:46:58.796156Z",
     "shell.execute_reply": "2021-05-05T08:46:58.796552Z"
    },
    "slideshow": {
     "slide_type": "slide"
    }
   },
   "outputs": [
    {
     "data": {
      "text/plain": [
       "CategoricalNB(alpha=1)"
      ]
     },
     "execution_count": 27,
     "metadata": {},
     "output_type": "execute_result"
    }
   ],
   "source": [
    "cnb.fit(train_encoded[:,:-1], train_encoded[:,-1])"
   ]
  },
  {
   "cell_type": "markdown",
   "id": "bce9484c",
   "metadata": {
    "slideshow": {
     "slide_type": "skip"
    }
   },
   "source": [
    "We can view the learned probabilities of this classifier  using its `feature_log_prob` attribute:"
   ]
  },
  {
   "cell_type": "code",
   "execution_count": 28,
   "id": "f48ff024",
   "metadata": {
    "execution": {
     "iopub.execute_input": "2021-05-05T08:46:58.799888Z",
     "iopub.status.busy": "2021-05-05T08:46:58.799214Z",
     "iopub.status.idle": "2021-05-05T08:46:58.801259Z",
     "shell.execute_reply": "2021-05-05T08:46:58.801575Z"
    },
    "slideshow": {
     "slide_type": "fragment"
    }
   },
   "outputs": [
    {
     "data": {
      "text/plain": [
       "array([[0.28289474, 0.20504386, 0.22149123, 0.29057018],\n",
       "       [0.28767123, 0.25      , 0.28767123, 0.17465753],\n",
       "       [0.00961538, 0.61538462, 0.36538462, 0.00961538]])"
      ]
     },
     "execution_count": 28,
     "metadata": {},
     "output_type": "execute_result"
    }
   ],
   "source": [
    "np.exp( cnb.feature_log_prob_[0] )"
   ]
  },
  {
   "cell_type": "markdown",
   "id": "9c6b05a7",
   "metadata": {
    "slideshow": {
     "slide_type": "skip"
    }
   },
   "source": [
    "Comparing with our calculations we see a almost perfect agreement. Mowever we get all four probabilities in the last line like required. The two values are not zero because of smoothing. "
   ]
  },
  {
   "cell_type": "code",
   "execution_count": 29,
   "id": "a56e5169",
   "metadata": {
    "execution": {
     "iopub.execute_input": "2021-05-05T08:46:58.804682Z",
     "iopub.status.busy": "2021-05-05T08:46:58.804225Z",
     "iopub.status.idle": "2021-05-05T08:46:58.807419Z",
     "shell.execute_reply": "2021-05-05T08:46:58.807802Z"
    }
   },
   "outputs": [
    {
     "data": {
      "text/plain": [
       "0.8804012345679012"
      ]
     },
     "execution_count": 29,
     "metadata": {},
     "output_type": "execute_result"
    }
   ],
   "source": [
    "from sklearn.metrics import accuracy_score\n",
    "accuracy_score(train_encoded[:,-1], cnb.predict(train_encoded[:,0:-1]), normalize=True)"
   ]
  },
  {
   "cell_type": "markdown",
   "id": "ca1941ba",
   "metadata": {
    "slideshow": {
     "slide_type": "skip"
    }
   },
   "source": [
    "After training the classifier we can use it to  make predictions on the test set"
   ]
  },
  {
   "cell_type": "code",
   "execution_count": 30,
   "id": "1a9d7eb8",
   "metadata": {
    "execution": {
     "iopub.execute_input": "2021-05-05T08:46:58.811865Z",
     "iopub.status.busy": "2021-05-05T08:46:58.811414Z",
     "iopub.status.idle": "2021-05-05T08:46:58.812960Z",
     "shell.execute_reply": "2021-05-05T08:46:58.813422Z"
    },
    "slideshow": {
     "slide_type": "slide"
    }
   },
   "outputs": [],
   "source": [
    "test_encoded = features_encoder.transform(cars_test)\n",
    "encoded_test_class = test_encoded[:,-1]"
   ]
  },
  {
   "cell_type": "code",
   "execution_count": 31,
   "id": "1e3db320",
   "metadata": {
    "execution": {
     "iopub.execute_input": "2021-05-05T08:46:58.816441Z",
     "iopub.status.busy": "2021-05-05T08:46:58.815940Z",
     "iopub.status.idle": "2021-05-05T08:46:58.817822Z",
     "shell.execute_reply": "2021-05-05T08:46:58.818158Z"
    },
    "slideshow": {
     "slide_type": "fragment"
    }
   },
   "outputs": [],
   "source": [
    "predicted_test_class = cnb.predict(test_encoded[:,:-1])"
   ]
  },
  {
   "cell_type": "markdown",
   "id": "4596eb1f",
   "metadata": {
    "slideshow": {
     "slide_type": "skip"
    }
   },
   "source": [
    "and test them"
   ]
  },
  {
   "cell_type": "code",
   "execution_count": 32,
   "id": "78139df6",
   "metadata": {
    "execution": {
     "iopub.execute_input": "2021-05-05T08:46:58.820494Z",
     "iopub.status.busy": "2021-05-05T08:46:58.820048Z",
     "iopub.status.idle": "2021-05-05T08:46:58.822058Z",
     "shell.execute_reply": "2021-05-05T08:46:58.822405Z"
    },
    "slideshow": {
     "slide_type": "slide"
    }
   },
   "outputs": [],
   "source": [
    "from sklearn.metrics import accuracy_score"
   ]
  },
  {
   "cell_type": "code",
   "execution_count": 33,
   "id": "baedbe2e",
   "metadata": {
    "execution": {
     "iopub.execute_input": "2021-05-05T08:46:58.825696Z",
     "iopub.status.busy": "2021-05-05T08:46:58.825201Z",
     "iopub.status.idle": "2021-05-05T08:46:58.827509Z",
     "shell.execute_reply": "2021-05-05T08:46:58.827915Z"
    }
   },
   "outputs": [
    {
     "data": {
      "text/plain": [
       "0.8888888888888888"
      ]
     },
     "execution_count": 33,
     "metadata": {},
     "output_type": "execute_result"
    }
   ],
   "source": [
    "accuracy_score(encoded_test_class, predicted_test_class, normalize=True)"
   ]
  },
  {
   "cell_type": "markdown",
   "id": "a6ba4f4c",
   "metadata": {
    "slideshow": {
     "slide_type": "skip"
    }
   },
   "source": [
    "Actually the classifier has a method for predicting and measuring accuracy"
   ]
  },
  {
   "cell_type": "code",
   "execution_count": 34,
   "id": "119398f3",
   "metadata": {
    "execution": {
     "iopub.execute_input": "2021-05-05T08:46:58.830477Z",
     "iopub.status.busy": "2021-05-05T08:46:58.830025Z",
     "iopub.status.idle": "2021-05-05T08:46:58.832708Z",
     "shell.execute_reply": "2021-05-05T08:46:58.833025Z"
    },
    "slideshow": {
     "slide_type": "fragment"
    }
   },
   "outputs": [
    {
     "data": {
      "text/plain": [
       "0.8888888888888888"
      ]
     },
     "execution_count": 34,
     "metadata": {},
     "output_type": "execute_result"
    }
   ],
   "source": [
    "cnb.score(test_encoded[:,:-1], encoded_test_class)"
   ]
  },
  {
   "cell_type": "markdown",
   "id": "50d65ead",
   "metadata": {
    "slideshow": {
     "slide_type": "skip"
    }
   },
   "source": [
    "which unsuprisingly gives same results"
   ]
  },
  {
   "cell_type": "markdown",
   "id": "97d63668",
   "metadata": {
    "slideshow": {
     "slide_type": "skip"
    }
   },
   "source": [
    "As a last check I will look at the class distribution in the predicted and real labels. As it may happen that with unbalanced  classes  one class can be e.g. totaly misclassified without affecting accuracy. "
   ]
  },
  {
   "cell_type": "code",
   "execution_count": 35,
   "id": "850d9dac",
   "metadata": {
    "execution": {
     "iopub.execute_input": "2021-05-05T08:46:58.835904Z",
     "iopub.status.busy": "2021-05-05T08:46:58.835383Z",
     "iopub.status.idle": "2021-05-05T08:46:58.837579Z",
     "shell.execute_reply": "2021-05-05T08:46:58.837958Z"
    },
    "slideshow": {
     "slide_type": "slide"
    }
   },
   "outputs": [
    {
     "data": {
      "text/plain": [
       "array([317,  94,  21])"
      ]
     },
     "execution_count": 35,
     "metadata": {},
     "output_type": "execute_result"
    }
   ],
   "source": [
    "np.bincount(predicted_test_class.astype('int64'))"
   ]
  },
  {
   "cell_type": "code",
   "execution_count": 36,
   "id": "dcb8cce2",
   "metadata": {
    "execution": {
     "iopub.execute_input": "2021-05-05T08:46:58.840852Z",
     "iopub.status.busy": "2021-05-05T08:46:58.840342Z",
     "iopub.status.idle": "2021-05-05T08:46:58.842286Z",
     "shell.execute_reply": "2021-05-05T08:46:58.842604Z"
    },
    "slideshow": {
     "slide_type": "-"
    }
   },
   "outputs": [
    {
     "data": {
      "text/plain": [
       "array([302,  96,  34])"
      ]
     },
     "execution_count": 36,
     "metadata": {},
     "output_type": "execute_result"
    }
   ],
   "source": [
    "np.bincount(encoded_test_class.astype('int64'))"
   ]
  },
  {
   "cell_type": "markdown",
   "id": "e809b2b4",
   "metadata": {
    "slideshow": {
     "slide_type": "slide"
    }
   },
   "source": [
    "## Multiclass metrics"
   ]
  },
  {
   "cell_type": "markdown",
   "id": "996349db",
   "metadata": {
    "slideshow": {
     "slide_type": "notes"
    }
   },
   "source": [
    "The accuracy  generalises intuitively to non-binary classification. Other metrics are defined only for binary classification problem as they rely on the confusion matrix.  A way to generalise them to multiclass classification it to treat a $k$ class classifcation problem as $k$ binary classification problems: class $C_i$ against the rest. We combine the final score out of binary metrics for each binary classification. "
   ]
  },
  {
   "cell_type": "code",
   "execution_count": 37,
   "id": "53aa6756",
   "metadata": {
    "execution": {
     "iopub.execute_input": "2021-05-05T08:46:58.844967Z",
     "iopub.status.busy": "2021-05-05T08:46:58.844521Z",
     "iopub.status.idle": "2021-05-05T08:46:58.846035Z",
     "shell.execute_reply": "2021-05-05T08:46:58.846415Z"
    }
   },
   "outputs": [],
   "source": [
    "from sklearn.metrics import multilabel_confusion_matrix"
   ]
  },
  {
   "cell_type": "code",
   "execution_count": 38,
   "id": "9434f885",
   "metadata": {
    "execution": {
     "iopub.execute_input": "2021-05-05T08:46:58.848648Z",
     "iopub.status.busy": "2021-05-05T08:46:58.848196Z",
     "iopub.status.idle": "2021-05-05T08:46:58.849708Z",
     "shell.execute_reply": "2021-05-05T08:46:58.850103Z"
    },
    "slideshow": {
     "slide_type": "fragment"
    }
   },
   "outputs": [],
   "source": [
    "pred = predicted_test_class\n",
    "true = encoded_test_class"
   ]
  },
  {
   "cell_type": "code",
   "execution_count": 39,
   "id": "cb514103",
   "metadata": {
    "execution": {
     "iopub.execute_input": "2021-05-05T08:46:58.853861Z",
     "iopub.status.busy": "2021-05-05T08:46:58.853234Z",
     "iopub.status.idle": "2021-05-05T08:46:58.855279Z",
     "shell.execute_reply": "2021-05-05T08:46:58.855600Z"
    },
    "slideshow": {
     "slide_type": "fragment"
    }
   },
   "outputs": [],
   "source": [
    "def stat(y_true, y_pred, c):\n",
    "    lbl_true = np.where(y_true==c,1,0)\n",
    "    lbl_pred = np.where(y_pred==c,1,0)\n",
    "    TP = np.sum(lbl_true * lbl_pred)\n",
    "    FP = np.sum( (1-lbl_true)*lbl_pred)\n",
    "    TN = np.sum((1-lbl_true) * (1-lbl_pred))\n",
    "    FN = np.sum(lbl_true * (1-lbl_pred))            \n",
    "    return TP, FP,FN, TN"
   ]
  },
  {
   "cell_type": "code",
   "execution_count": 40,
   "id": "f8bc823c",
   "metadata": {
    "execution": {
     "iopub.execute_input": "2021-05-05T08:46:58.858817Z",
     "iopub.status.busy": "2021-05-05T08:46:58.858045Z",
     "iopub.status.idle": "2021-05-05T08:46:58.860336Z",
     "shell.execute_reply": "2021-05-05T08:46:58.860688Z"
    },
    "slideshow": {
     "slide_type": "fragment"
    }
   },
   "outputs": [
    {
     "name": "stdout",
     "output_type": "stream",
     "text": [
      "(294, 23, 8, 107)\n",
      "(71, 23, 25, 313)\n",
      "(19, 2, 15, 396)\n"
     ]
    }
   ],
   "source": [
    "for i in range(3):\n",
    "    print( stat(true,pred, i))"
   ]
  },
  {
   "cell_type": "markdown",
   "id": "a52aff09",
   "metadata": {
    "slideshow": {
     "slide_type": "skip"
    }
   },
   "source": [
    "Once we have the statistics for each binary classifier we can combine the together. We will consider _micro_ and _macro_ averaging. "
   ]
  },
  {
   "cell_type": "code",
   "execution_count": 41,
   "id": "c6849589",
   "metadata": {
    "execution": {
     "iopub.execute_input": "2021-05-05T08:46:58.863731Z",
     "iopub.status.busy": "2021-05-05T08:46:58.863275Z",
     "iopub.status.idle": "2021-05-05T08:46:58.866272Z",
     "shell.execute_reply": "2021-05-05T08:46:58.866720Z"
    }
   },
   "outputs": [
    {
     "name": "stdout",
     "output_type": "stream",
     "text": [
      "[[[107  23]\n",
      "  [  8 294]]\n",
      "\n",
      " [[313  23]\n",
      "  [ 25  71]]\n",
      "\n",
      " [[396   2]\n",
      "  [ 15  19]]]\n"
     ]
    }
   ],
   "source": [
    "mcf = multilabel_confusion_matrix(true, pred)\n",
    "print(mcf)"
   ]
  },
  {
   "cell_type": "markdown",
   "id": "61e3997a",
   "metadata": {
    "slideshow": {
     "slide_type": "fragment",
     "slideshow": {
      "slide_type": "slide"
     }
    }
   },
   "source": [
    "<table style=\"font-size:1.5em;\">\n",
    "<tr> <th>         </th> <th colspan=2>actual</th></tr>\n",
    "<tr> <th>predicted</th> <th>N  </th> <th>P  </th></tr>\n",
    "<tr> <th> N       </th> <td>TN </td> <td>FP </td></tr>\n",
    "<tr> <th> P       </th> <td>FN </td> <td>TP </td></tr>\n",
    "<tr> <th>total</th> <td> P</td> <td>N</td></tr>\n",
    "</table>"
   ]
  },
  {
   "cell_type": "markdown",
   "id": "6acbe82a",
   "metadata": {
    "slideshow": {
     "slide_type": "slide"
    }
   },
   "source": [
    "### Micro averaging"
   ]
  },
  {
   "cell_type": "markdown",
   "id": "faae96d0",
   "metadata": {
    "slideshow": {
     "slide_type": "notes"
    }
   },
   "source": [
    "In micro averaging we first calculate the summary values of TP, FP, TN and TN and use them to calculate the total score. \n",
    "We will start with _recall_ which is just another name for true positives rate."
   ]
  },
  {
   "cell_type": "markdown",
   "id": "dbc9417b",
   "metadata": {
    "slideshow": {
     "slide_type": "fragment"
    }
   },
   "source": [
    "$$Recall_\\mu = \\frac{\\sum_i TP_i}{\\sum_i(TP_i+FN_i)}$$"
   ]
  },
  {
   "cell_type": "code",
   "execution_count": 42,
   "id": "71770a0d",
   "metadata": {
    "execution": {
     "iopub.execute_input": "2021-05-05T08:46:58.870482Z",
     "iopub.status.busy": "2021-05-05T08:46:58.869815Z",
     "iopub.status.idle": "2021-05-05T08:46:58.872552Z",
     "shell.execute_reply": "2021-05-05T08:46:58.873153Z"
    },
    "slideshow": {
     "slide_type": "fragment"
    }
   },
   "outputs": [
    {
     "name": "stdout",
     "output_type": "stream",
     "text": [
      "384 432 0.8888888888888888\n"
     ]
    }
   ],
   "source": [
    "num = 0\n",
    "den = 0\n",
    "for i in range(3):\n",
    "    ((tn, fp), (fn, tp)) =  mcf[i]\n",
    "    num += tp\n",
    "    den += tp+fn\n",
    "recall_mu = num/den    \n",
    "print(num, den, recall_mu   )"
   ]
  },
  {
   "cell_type": "markdown",
   "id": "e14da0d2",
   "metadata": {
    "slideshow": {
     "slide_type": "slide"
    }
   },
   "source": [
    "$$Precision_\\mu = \\frac{\\sum_i TP_i}{\\sum_i(TP_i+FP_i)}$$"
   ]
  },
  {
   "cell_type": "code",
   "execution_count": 43,
   "id": "6aa8b0ae",
   "metadata": {
    "execution": {
     "iopub.execute_input": "2021-05-05T08:46:58.877067Z",
     "iopub.status.busy": "2021-05-05T08:46:58.876507Z",
     "iopub.status.idle": "2021-05-05T08:46:58.878596Z",
     "shell.execute_reply": "2021-05-05T08:46:58.878981Z"
    },
    "slideshow": {
     "slide_type": "fragment"
    }
   },
   "outputs": [
    {
     "name": "stdout",
     "output_type": "stream",
     "text": [
      "384 432 0.8888888888888888\n"
     ]
    }
   ],
   "source": [
    "num = 0\n",
    "den = 0\n",
    "for i in range(3):\n",
    "    ((tn, fp), (fn, tp)) =  mcf[i]\n",
    "    num += tp\n",
    "    den += tp+fp\n",
    "precision_mu = num/den    \n",
    "print(num, den, precision_mu    )"
   ]
  },
  {
   "cell_type": "markdown",
   "id": "e2fbd267",
   "metadata": {
    "slideshow": {
     "slide_type": "skip"
    }
   },
   "source": [
    "and $F_1$ is then  harmonic mean of the two"
   ]
  },
  {
   "cell_type": "markdown",
   "id": "87763d59",
   "metadata": {
    "slideshow": {
     "slide_type": "slide"
    }
   },
   "source": [
    "$$F_\\mu = 2\\cdot\\frac{Precision_\\mu\\cdot Recall_\\mu}{Precision_\\mu + Recall_\\mu}$$"
   ]
  },
  {
   "cell_type": "code",
   "execution_count": 44,
   "id": "6a328e77",
   "metadata": {
    "execution": {
     "iopub.execute_input": "2021-05-05T08:46:58.882112Z",
     "iopub.status.busy": "2021-05-05T08:46:58.881578Z",
     "iopub.status.idle": "2021-05-05T08:46:58.883495Z",
     "shell.execute_reply": "2021-05-05T08:46:58.883913Z"
    }
   },
   "outputs": [
    {
     "name": "stdout",
     "output_type": "stream",
     "text": [
      "0.8888888888888888\n"
     ]
    }
   ],
   "source": [
    "print(2*precision_mu*recall_mu/(precision_mu+recall_mu))"
   ]
  },
  {
   "cell_type": "markdown",
   "id": "0d947aeb",
   "metadata": {
    "slideshow": {
     "slide_type": "slide"
    },
    "tags": [
     "problem"
    ]
   },
   "source": [
    "#### Problem"
   ]
  },
  {
   "cell_type": "markdown",
   "id": "5077341d",
   "metadata": {
    "slideshow": {
     "slide_type": "-"
    },
    "tags": [
     "problem"
    ]
   },
   "source": [
    "  Show that $Recall_\\mu$ = $Precision_\\mu = Accuracy$"
   ]
  },
  {
   "cell_type": "markdown",
   "id": "8f4333ac",
   "metadata": {
    "slideshow": {
     "slide_type": "skip"
    }
   },
   "source": [
    "There is no surprise that scikit-learn library has functions to calculate those metrics"
   ]
  },
  {
   "cell_type": "code",
   "execution_count": 45,
   "id": "3a293628",
   "metadata": {
    "execution": {
     "iopub.execute_input": "2021-05-05T08:46:58.886978Z",
     "iopub.status.busy": "2021-05-05T08:46:58.886455Z",
     "iopub.status.idle": "2021-05-05T08:46:58.888179Z",
     "shell.execute_reply": "2021-05-05T08:46:58.888564Z"
    },
    "slideshow": {
     "slide_type": "slide"
    }
   },
   "outputs": [],
   "source": [
    "from sklearn.metrics import *"
   ]
  },
  {
   "cell_type": "code",
   "execution_count": 46,
   "id": "c0c656aa",
   "metadata": {
    "execution": {
     "iopub.execute_input": "2021-05-05T08:46:58.891838Z",
     "iopub.status.busy": "2021-05-05T08:46:58.891306Z",
     "iopub.status.idle": "2021-05-05T08:46:58.896030Z",
     "shell.execute_reply": "2021-05-05T08:46:58.896418Z"
    },
    "slideshow": {
     "slide_type": "-"
    }
   },
   "outputs": [
    {
     "name": "stdout",
     "output_type": "stream",
     "text": [
      "0.8888888888888888 0.8888888888888888 0.8888888888888888\n"
     ]
    }
   ],
   "source": [
    "print(\n",
    "    recall_score(encoded_test_class, predicted_test_class, average='micro'),\n",
    "    precision_score(encoded_test_class, predicted_test_class, average='micro'),\n",
    "    f1_score(encoded_test_class, predicted_test_class, average='micro'))"
   ]
  },
  {
   "cell_type": "markdown",
   "id": "4407e2c6",
   "metadata": {
    "slideshow": {
     "slide_type": "slide"
    }
   },
   "source": [
    "### Macro averaging"
   ]
  },
  {
   "cell_type": "markdown",
   "id": "f50da276",
   "metadata": {
    "slideshow": {
     "slide_type": "notes"
    }
   },
   "source": [
    "With macro averaging we  calculate  score for each binary classifier separately and average them. So for recall"
   ]
  },
  {
   "cell_type": "markdown",
   "id": "432646d4",
   "metadata": {
    "slideshow": {
     "slide_type": "fragment"
    }
   },
   "source": [
    "$$Recall_M = \\frac{1}{k}\\sum_{i=0}^{k-1}\\frac{TP_i}{TP_i+FN_i}$$"
   ]
  },
  {
   "cell_type": "code",
   "execution_count": 47,
   "id": "add5435c",
   "metadata": {
    "execution": {
     "iopub.execute_input": "2021-05-05T08:46:58.900037Z",
     "iopub.status.busy": "2021-05-05T08:46:58.899375Z",
     "iopub.status.idle": "2021-05-05T08:46:58.901399Z",
     "shell.execute_reply": "2021-05-05T08:46:58.901832Z"
    },
    "slideshow": {
     "slide_type": "fragment"
    }
   },
   "outputs": [
    {
     "name": "stdout",
     "output_type": "stream",
     "text": [
      "0.7573055988399776\n"
     ]
    }
   ],
   "source": [
    "tot = 0\n",
    "for i in range(3):\n",
    "    ((tn, fp), (fn, tp)) =  mcf[i]\n",
    "    tot +=tp/(tp+fn)\n",
    "rec = tot/3    \n",
    "print(rec)"
   ]
  },
  {
   "cell_type": "code",
   "execution_count": 48,
   "id": "62786dea",
   "metadata": {
    "execution": {
     "iopub.execute_input": "2021-05-05T08:46:58.904920Z",
     "iopub.status.busy": "2021-05-05T08:46:58.904337Z",
     "iopub.status.idle": "2021-05-05T08:46:58.908245Z",
     "shell.execute_reply": "2021-05-05T08:46:58.908683Z"
    },
    "slideshow": {
     "slide_type": "fragment"
    }
   },
   "outputs": [
    {
     "data": {
      "text/plain": [
       "0.7573055988399776"
      ]
     },
     "execution_count": 48,
     "metadata": {},
     "output_type": "execute_result"
    }
   ],
   "source": [
    "recall_score(encoded_test_class, predicted_test_class, average='macro')"
   ]
  },
  {
   "cell_type": "markdown",
   "id": "4c6200ef",
   "metadata": {
    "slideshow": {
     "slide_type": "skip"
    }
   },
   "source": [
    "and for precision"
   ]
  },
  {
   "cell_type": "markdown",
   "id": "4e47366c",
   "metadata": {
    "slideshow": {
     "slide_type": "slide"
    }
   },
   "source": [
    "$$Precision_M = \\frac{1}{k}\\sum_{i=0}^{k-1}\\frac{TP_i}{TP_i+FP_i}$$"
   ]
  },
  {
   "cell_type": "code",
   "execution_count": 49,
   "id": "495d538b",
   "metadata": {
    "execution": {
     "iopub.execute_input": "2021-05-05T08:46:58.912277Z",
     "iopub.status.busy": "2021-05-05T08:46:58.911698Z",
     "iopub.status.idle": "2021-05-05T08:46:58.914129Z",
     "shell.execute_reply": "2021-05-05T08:46:58.913727Z"
    },
    "slideshow": {
     "slide_type": "fragment"
    }
   },
   "outputs": [
    {
     "name": "stdout",
     "output_type": "stream",
     "text": [
      "0.8625086162169188\n"
     ]
    }
   ],
   "source": [
    "tot = 0\n",
    "for i in range(3):\n",
    "    ((tn, fp), (fn, tp)) =  mcf[i]\n",
    "    tot +=tp/(tp+fp)\n",
    "prec =  tot/3   \n",
    "print(prec)"
   ]
  },
  {
   "cell_type": "code",
   "execution_count": 50,
   "id": "61c0e382",
   "metadata": {
    "execution": {
     "iopub.execute_input": "2021-05-05T08:46:58.917242Z",
     "iopub.status.busy": "2021-05-05T08:46:58.916708Z",
     "iopub.status.idle": "2021-05-05T08:46:58.920502Z",
     "shell.execute_reply": "2021-05-05T08:46:58.920940Z"
    },
    "slideshow": {
     "slide_type": "fragment"
    }
   },
   "outputs": [
    {
     "data": {
      "text/plain": [
       "0.8625086162169188"
      ]
     },
     "execution_count": 50,
     "metadata": {},
     "output_type": "execute_result"
    }
   ],
   "source": [
    "precision_score(encoded_test_class, predicted_test_class, average='macro')"
   ]
  },
  {
   "cell_type": "markdown",
   "id": "5b9b0f63",
   "metadata": {
    "slideshow": {
     "slide_type": "skip"
    }
   },
   "source": [
    "and $F_1$ score is"
   ]
  },
  {
   "cell_type": "markdown",
   "id": "3cbddc54",
   "metadata": {
    "slideshow": {
     "slide_type": "slide"
    }
   },
   "source": [
    "$$F_1 = \\frac{1}{k}\\sum_{i=0}^{k-1}\\frac{2\\cdot TP_i}{TP_i+FP_i +TP_i +FN_i}$$"
   ]
  },
  {
   "cell_type": "code",
   "execution_count": 51,
   "id": "c0dc08f9",
   "metadata": {
    "execution": {
     "iopub.execute_input": "2021-05-05T08:46:58.925125Z",
     "iopub.status.busy": "2021-05-05T08:46:58.924454Z",
     "iopub.status.idle": "2021-05-05T08:46:58.926628Z",
     "shell.execute_reply": "2021-05-05T08:46:58.927065Z"
    },
    "slideshow": {
     "slide_type": "fragment"
    }
   },
   "outputs": [
    {
     "name": "stdout",
     "output_type": "stream",
     "text": [
      "0.7960655788391525\n"
     ]
    }
   ],
   "source": [
    "tot = 0\n",
    "for i in range(3):\n",
    "    ((tn, fp), (fn, tp)) =  mcf[i]\n",
    "    tot +=2 * tp/(tp+fp+tp+fn)\n",
    "f =  tot/3   \n",
    "print(f)"
   ]
  },
  {
   "cell_type": "code",
   "execution_count": 52,
   "id": "787e98d6",
   "metadata": {
    "execution": {
     "iopub.execute_input": "2021-05-05T08:46:58.930330Z",
     "iopub.status.busy": "2021-05-05T08:46:58.929769Z",
     "iopub.status.idle": "2021-05-05T08:46:58.933893Z",
     "shell.execute_reply": "2021-05-05T08:46:58.934288Z"
    }
   },
   "outputs": [
    {
     "data": {
      "text/plain": [
       "0.7960655788391525"
      ]
     },
     "execution_count": 52,
     "metadata": {},
     "output_type": "execute_result"
    }
   ],
   "source": [
    "f1_score(encoded_test_class, predicted_test_class, average='macro')"
   ]
  },
  {
   "cell_type": "markdown",
   "id": "546c9574",
   "metadata": {
    "slideshow": {
     "slide_type": "slide"
    }
   },
   "source": [
    "### Weighted averaging "
   ]
  },
  {
   "cell_type": "markdown",
   "id": "1b46d07e",
   "metadata": {
    "slideshow": {
     "slide_type": "-"
    }
   },
   "source": [
    "And finally the weighted averaging is like macro averaging but we  weight the average by the support of each class _i.e._ the number of labels of each class. E.g. for precision"
   ]
  },
  {
   "cell_type": "code",
   "execution_count": 53,
   "id": "71c5172d",
   "metadata": {
    "execution": {
     "iopub.execute_input": "2021-05-05T08:46:58.938368Z",
     "iopub.status.busy": "2021-05-05T08:46:58.937823Z",
     "iopub.status.idle": "2021-05-05T08:46:58.939791Z",
     "shell.execute_reply": "2021-05-05T08:46:58.940177Z"
    },
    "slideshow": {
     "slide_type": "fragment"
    }
   },
   "outputs": [
    {
     "name": "stdout",
     "output_type": "stream",
     "text": [
      "0.8874094239247382\n"
     ]
    }
   ],
   "source": [
    "tot = 0\n",
    "den = 0\n",
    "for i in range(3):\n",
    "    tp, fp, fn, tn =  stat(true,pred, i)\n",
    "    tot +=tp/(tp+fp) *(tp+fn)\n",
    "    den += (tp+fn)\n",
    "prec = tot/den\n",
    "print(prec)"
   ]
  },
  {
   "cell_type": "code",
   "execution_count": 54,
   "id": "fbf846ce",
   "metadata": {
    "execution": {
     "iopub.execute_input": "2021-05-05T08:46:58.943229Z",
     "iopub.status.busy": "2021-05-05T08:46:58.942707Z",
     "iopub.status.idle": "2021-05-05T08:46:58.946383Z",
     "shell.execute_reply": "2021-05-05T08:46:58.946761Z"
    },
    "slideshow": {
     "slide_type": "fragment"
    }
   },
   "outputs": [
    {
     "data": {
      "text/plain": [
       "0.8874094239247382"
      ]
     },
     "execution_count": 54,
     "metadata": {},
     "output_type": "execute_result"
    }
   ],
   "source": [
    "precision_score(encoded_test_class, predicted_test_class, average='weighted')"
   ]
  },
  {
   "cell_type": "markdown",
   "id": "f0dcefa6",
   "metadata": {
    "slideshow": {
     "slide_type": "slide"
    },
    "tags": [
     "problem"
    ]
   },
   "source": [
    "#### Problem "
   ]
  },
  {
   "cell_type": "markdown",
   "id": "1c97bbe5",
   "metadata": {
    "slideshow": {
     "slide_type": "-"
    },
    "tags": [
     "problem"
    ]
   },
   "source": [
    " Show that weighted averaging for recall gives same result as micro averaging."
   ]
  },
  {
   "cell_type": "markdown",
   "id": "70295aad",
   "metadata": {
    "slideshow": {
     "slide_type": "notes"
    },
    "tags": []
   },
   "source": [
    "As you may have guessed scikit-learn library has some convenient functions that calculate those metrics at once."
   ]
  },
  {
   "cell_type": "code",
   "execution_count": 55,
   "id": "d847b5f5",
   "metadata": {
    "execution": {
     "iopub.execute_input": "2021-05-05T08:46:58.949617Z",
     "iopub.status.busy": "2021-05-05T08:46:58.949092Z",
     "iopub.status.idle": "2021-05-05T08:46:58.950847Z",
     "shell.execute_reply": "2021-05-05T08:46:58.951220Z"
    },
    "slideshow": {
     "slide_type": "slide"
    },
    "tags": []
   },
   "outputs": [],
   "source": [
    "from sklearn.metrics import precision_recall_fscore_support,  classification_report"
   ]
  },
  {
   "cell_type": "code",
   "execution_count": 56,
   "id": "c3f177dc",
   "metadata": {
    "execution": {
     "iopub.execute_input": "2021-05-05T08:46:58.954591Z",
     "iopub.status.busy": "2021-05-05T08:46:58.953989Z",
     "iopub.status.idle": "2021-05-05T08:46:58.957401Z",
     "shell.execute_reply": "2021-05-05T08:46:58.957781Z"
    },
    "slideshow": {
     "slide_type": "fragment"
    },
    "tags": []
   },
   "outputs": [
    {
     "data": {
      "text/plain": [
       "(0.8625086162169188, 0.7573055988399776, 0.7705692639661881, None)"
      ]
     },
     "execution_count": 56,
     "metadata": {},
     "output_type": "execute_result"
    }
   ],
   "source": [
    "precision_recall_fscore_support(encoded_test_class, predicted_test_class, beta = 2, average = 'macro')"
   ]
  },
  {
   "cell_type": "code",
   "execution_count": 57,
   "id": "316d1ecd",
   "metadata": {
    "execution": {
     "iopub.execute_input": "2021-05-05T08:46:58.960720Z",
     "iopub.status.busy": "2021-05-05T08:46:58.960196Z",
     "iopub.status.idle": "2021-05-05T08:46:58.965510Z",
     "shell.execute_reply": "2021-05-05T08:46:58.965882Z"
    },
    "slideshow": {
     "slide_type": "fragment"
    },
    "tags": []
   },
   "outputs": [
    {
     "name": "stdout",
     "output_type": "stream",
     "text": [
      "              precision    recall  f1-score   support\n",
      "\n",
      "           0       0.93      0.97      0.95       302\n",
      "           1       0.76      0.74      0.75        96\n",
      "           2       0.90      0.56      0.69        34\n",
      "\n",
      "    accuracy                           0.89       432\n",
      "   macro avg       0.86      0.76      0.80       432\n",
      "weighted avg       0.89      0.89      0.88       432\n",
      "\n"
     ]
    }
   ],
   "source": [
    "print(classification_report(encoded_test_class, predicted_test_class))"
   ]
  },
  {
   "cell_type": "markdown",
   "id": "a8866cb7",
   "metadata": {
    "slideshow": {
     "slide_type": "slide"
    },
    "tags": []
   },
   "source": [
    "### Confusion matrix "
   ]
  },
  {
   "cell_type": "code",
   "execution_count": 58,
   "id": "42428f7c",
   "metadata": {
    "execution": {
     "iopub.execute_input": "2021-05-05T08:46:58.968707Z",
     "iopub.status.busy": "2021-05-05T08:46:58.968195Z",
     "iopub.status.idle": "2021-05-05T08:46:58.969782Z",
     "shell.execute_reply": "2021-05-05T08:46:58.970128Z"
    },
    "tags": []
   },
   "outputs": [],
   "source": [
    "from sklearn.metrics import confusion_matrix, plot_confusion_matrix , ConfusionMatrixDisplay"
   ]
  },
  {
   "cell_type": "code",
   "execution_count": 59,
   "id": "ce30ce0f",
   "metadata": {
    "execution": {
     "iopub.execute_input": "2021-05-05T08:46:58.972891Z",
     "iopub.status.busy": "2021-05-05T08:46:58.972419Z",
     "iopub.status.idle": "2021-05-05T08:46:58.975522Z",
     "shell.execute_reply": "2021-05-05T08:46:58.975918Z"
    },
    "slideshow": {
     "slide_type": "-"
    },
    "tags": []
   },
   "outputs": [
    {
     "data": {
      "text/plain": [
       "array([[294,   8,   0],\n",
       "       [ 23,  71,   2],\n",
       "       [  0,  15,  19]])"
      ]
     },
     "execution_count": 59,
     "metadata": {},
     "output_type": "execute_result"
    }
   ],
   "source": [
    "cm = confusion_matrix(encoded_test_class, predicted_test_class)\n",
    "cm"
   ]
  },
  {
   "cell_type": "code",
   "execution_count": 60,
   "id": "f8bf4b34",
   "metadata": {
    "execution": {
     "iopub.execute_input": "2021-05-05T08:46:59.022717Z",
     "iopub.status.busy": "2021-05-05T08:46:59.009333Z",
     "iopub.status.idle": "2021-05-05T08:46:59.123339Z",
     "shell.execute_reply": "2021-05-05T08:46:59.123755Z"
    }
   },
   "outputs": [
    {
     "data": {
      "image/png": "[encoded data removed]",
      "text/plain": [
       "<Figure size 864x576 with 2 Axes>"
      ]
     },
     "metadata": {
      "needs_background": "light"
     },
     "output_type": "display_data"
    }
   ],
   "source": [
    "cm_display = ConfusionMatrixDisplay(cm, display_labels=['bad', 'fair', 'good'])\n",
    "fig, ax = plt.subplots(figsize=(12,8))\n",
    "cm_display.plot(ax=ax);\n",
    "ax.set_xlabel('predicted ratings')\n",
    "ax.set_ylabel('true ratings');"
   ]
  },
  {
   "cell_type": "code",
   "execution_count": 61,
   "id": "5f47ff33",
   "metadata": {
    "execution": {
     "iopub.execute_input": "2021-05-05T08:46:59.127076Z",
     "iopub.status.busy": "2021-05-05T08:46:59.126622Z",
     "iopub.status.idle": "2021-05-05T08:46:59.251003Z",
     "shell.execute_reply": "2021-05-05T08:46:59.251321Z"
    },
    "slideshow": {
     "slide_type": "slide"
    },
    "tags": []
   },
   "outputs": [
    {
     "data": {
      "image/png": "[encoded data removed]",
      "text/plain": [
       "<Figure size 864x576 with 2 Axes>"
      ]
     },
     "metadata": {
      "needs_background": "light"
     },
     "output_type": "display_data"
    }
   ],
   "source": [
    "plot_confusion_matrix(cnb, test_encoded[:,:-1], encoded_test_class, display_labels=['bad', 'fair', 'true']);"
   ]
  },
  {
   "cell_type": "code",
   "execution_count": null,
   "id": "a342fe50",
   "metadata": {},
   "outputs": [],
   "source": []
  }
 ],
 "metadata": {
  "jupytext": {
   "text_representation": {
    "extension": ".Rmd",
    "format_name": "rmarkdown",
    "format_version": "1.2",
    "jupytext_version": "1.11.1"
   }
  },
  "kernelspec": {
   "display_name": "Python 3",
   "language": "python",
   "name": "python3"
  },
  "language_info": {
   "codemirror_mode": {
    "name": "ipython",
    "version": 3
   },
   "file_extension": ".py",
   "mimetype": "text/x-python",
   "name": "python",
   "nbconvert_exporter": "python",
   "pygments_lexer": "ipython3",
   "version": "3.9.2"
  }
 },
 "nbformat": 4,
 "nbformat_minor": 5
}