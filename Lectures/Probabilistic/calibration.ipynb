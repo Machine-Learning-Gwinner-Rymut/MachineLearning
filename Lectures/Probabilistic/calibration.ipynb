{
 "cells": [
  {
   "cell_type": "code",
   "execution_count": 1,
   "id": "5ee494dd",
   "metadata": {
    "execution": {
     "iopub.execute_input": "2021-05-05T13:58:19.768405Z",
     "iopub.status.busy": "2021-05-05T13:58:19.767715Z",
     "iopub.status.idle": "2021-05-05T13:58:19.787009Z",
     "shell.execute_reply": "2021-05-05T13:58:19.786371Z"
    },
    "slideshow": {
     "slide_type": "skip"
    },
    "tags": [
     "hide"
    ]
   },
   "outputs": [],
   "source": [
    "# This is a handy extension when using and debuging external modules.\n",
    "# Normally the notebook kernel load the module only once. If we make any changes in the module and want to see them \n",
    "# we have to restart the kernel. Setting autoreload to 2 forces kernel to reaload. all modules before running the code.\n",
    "# (see https://ipython.org/ipython-doc/stable/config/extensions/autoreload.html)\n",
    "\n",
    "%load_ext autoreload\n",
    "%autoreload 2"
   ]
  },
  {
   "cell_type": "code",
   "execution_count": 2,
   "id": "d7eebc54",
   "metadata": {
    "execution": {
     "iopub.execute_input": "2021-05-05T13:58:19.791541Z",
     "iopub.status.busy": "2021-05-05T13:58:19.790849Z",
     "iopub.status.idle": "2021-05-05T13:58:21.000831Z",
     "shell.execute_reply": "2021-05-05T13:58:21.001301Z"
    },
    "slideshow": {
     "slide_type": "skip"
    },
    "tags": [
     "hide"
    ]
   },
   "outputs": [],
   "source": [
    "import matplotlib.pyplot as plt\n",
    "import numpy as np\n",
    "import scipy.stats as st\n",
    "%matplotlib inline\n",
    "plt.rcParams[\"figure.figsize\"] = [12,8]\n",
    "import pandas as pd"
   ]
  },
  {
   "cell_type": "code",
   "execution_count": 3,
   "id": "cd9fc715",
   "metadata": {
    "execution": {
     "iopub.execute_input": "2021-05-05T13:58:21.005074Z",
     "iopub.status.busy": "2021-05-05T13:58:21.004289Z",
     "iopub.status.idle": "2021-05-05T13:58:21.034591Z",
     "shell.execute_reply": "2021-05-05T13:58:21.035112Z"
    },
    "slideshow": {
     "slide_type": "skip"
    }
   },
   "outputs": [],
   "source": [
    "# Adds repo root dir to python system path used to search for packages \n",
    "# and modules. This enables  loading modules from mchlearn package provided\n",
    "# in this repo. \n",
    "import sys\n",
    "sys.path.append('../..') "
   ]
  },
  {
   "cell_type": "markdown",
   "id": "c783c36f",
   "metadata": {
    "slideshow": {
     "slide_type": "slide"
    }
   },
   "source": [
    "# Calibration"
   ]
  },
  {
   "cell_type": "markdown",
   "id": "177c618f",
   "metadata": {
    "slideshow": {
     "slide_type": "notes"
    }
   },
   "source": [
    "So far we have tried hard to estimate the probability of examplar belonging to class $c$ given the features $x$"
   ]
  },
  {
   "cell_type": "markdown",
   "id": "ea16373e",
   "metadata": {
    "slideshow": {
     "slide_type": "fragment"
    }
   },
   "source": [
    "$$P(C = c|X=x)$$"
   ]
  },
  {
   "cell_type": "markdown",
   "id": "617b670d",
   "metadata": {
    "slideshow": {
     "slide_type": "skip"
    }
   },
   "source": [
    "but  we have not really made use of the fact that this is a probability.  We have treated the output of the classifier as a _score_ that we  have used for thresholding. While the ultimate goal of the classfier is to  classify,  we can treat the probabilistic classifiers presented so far as doing _regression_  by learning the probability function and instead of measuring solely the   classification performance we  can also ask how well is the classifier predicting the  probabilities? "
   ]
  },
  {
   "cell_type": "markdown",
   "id": "e54633d3",
   "metadata": {
    "slideshow": {
     "slide_type": "skip"
    }
   },
   "source": [
    "This is a question about the _calibration_ of the classifier. Let me illustrate this on the example of weather prediction. When discussing the probability calculus at  the begining of those lectures I have stated that it's problematic to give exact meaning to the statement that e.g. \"the probability of rain tomorrow is 25%\". Historically we can however check the  calibration of the predictor as follow: we look at all days where \"25% of rain\" was forecasted. If the forecast is well calibrated we should see rain in about 25% of the cases. We can perform this check for  other values of the rain forecast. If we plot the real observed fraction of rainy days against the predicted value we obtain the _calibration curve_ or _reliability diagram_. If the forecast is well calibrated the points should lie on the $y=x$ diagonal line. "
   ]
  },
  {
   "cell_type": "markdown",
   "id": "31de0207",
   "metadata": {
    "slideshow": {
     "slide_type": "skip"
    }
   },
   "source": [
    "As I do not have any historical weather forecast data, I will illustrate this on our height and weight example. I will start by loading the dataset and training the  quadratic discriminative analiser classifier that discussed in the  previous notebook. "
   ]
  },
  {
   "cell_type": "code",
   "execution_count": 4,
   "id": "bd8071ab",
   "metadata": {
    "execution": {
     "iopub.execute_input": "2021-05-05T13:58:21.038736Z",
     "iopub.status.busy": "2021-05-05T13:58:21.037915Z",
     "iopub.status.idle": "2021-05-05T13:58:21.079236Z",
     "shell.execute_reply": "2021-05-05T13:58:21.079757Z"
    },
    "slideshow": {
     "slide_type": "slide"
    }
   },
   "outputs": [],
   "source": [
    "# I have added a helper function to mchlearn package that loads the HW data, performs units conversion and adds BMI\n",
    "from mchlearn.datasets import load_height_weight\n",
    "\n",
    "data = load_height_weight('../../Data/HeightWeight/weight-height.csv')"
   ]
  },
  {
   "cell_type": "code",
   "execution_count": 5,
   "id": "a6f649bd",
   "metadata": {
    "execution": {
     "iopub.execute_input": "2021-05-05T13:58:21.083306Z",
     "iopub.status.busy": "2021-05-05T13:58:21.082689Z",
     "iopub.status.idle": "2021-05-05T13:58:21.120175Z",
     "shell.execute_reply": "2021-05-05T13:58:21.120621Z"
    },
    "slideshow": {
     "slide_type": "-"
    }
   },
   "outputs": [
    {
     "data": {
      "text/html": [
       "<div>\n",
       "<style scoped>\n",
       "    .dataframe tbody tr th:only-of-type {\n",
       "        vertical-align: middle;\n",
       "    }\n",
       "\n",
       "    .dataframe tbody tr th {\n",
       "        vertical-align: top;\n",
       "    }\n",
       "\n",
       "    .dataframe thead th {\n",
       "        text-align: right;\n",
       "    }\n",
       "</style>\n",
       "<table border=\"1\" class=\"dataframe\">\n",
       "  <thead>\n",
       "    <tr style=\"text-align: right;\">\n",
       "      <th></th>\n",
       "      <th>Gender</th>\n",
       "      <th>Height</th>\n",
       "      <th>Weight</th>\n",
       "      <th>BMI</th>\n",
       "    </tr>\n",
       "  </thead>\n",
       "  <tbody>\n",
       "    <tr>\n",
       "      <th>0</th>\n",
       "      <td>Male</td>\n",
       "      <td>1.875714</td>\n",
       "      <td>109.577784</td>\n",
       "      <td>31.145060</td>\n",
       "    </tr>\n",
       "    <tr>\n",
       "      <th>1</th>\n",
       "      <td>Male</td>\n",
       "      <td>1.747060</td>\n",
       "      <td>73.526644</td>\n",
       "      <td>24.089563</td>\n",
       "    </tr>\n",
       "    <tr>\n",
       "      <th>2</th>\n",
       "      <td>Male</td>\n",
       "      <td>1.882397</td>\n",
       "      <td>96.371608</td>\n",
       "      <td>27.197364</td>\n",
       "    </tr>\n",
       "  </tbody>\n",
       "</table>\n",
       "</div>"
      ],
      "text/plain": [
       "  Gender    Height      Weight        BMI\n",
       "0   Male  1.875714  109.577784  31.145060\n",
       "1   Male  1.747060   73.526644  24.089563\n",
       "2   Male  1.882397   96.371608  27.197364"
      ]
     },
     "execution_count": 5,
     "metadata": {},
     "output_type": "execute_result"
    }
   ],
   "source": [
    "data.head(3)"
   ]
  },
  {
   "cell_type": "markdown",
   "id": "4c41e9d2",
   "metadata": {
    "slideshow": {
     "slide_type": "skip"
    }
   },
   "source": [
    "As always we will split the data into training and testing sets"
   ]
  },
  {
   "cell_type": "code",
   "execution_count": 6,
   "id": "439e94cc",
   "metadata": {
    "execution": {
     "iopub.execute_input": "2021-05-05T13:58:21.124413Z",
     "iopub.status.busy": "2021-05-05T13:58:21.123728Z",
     "iopub.status.idle": "2021-05-05T13:58:21.484166Z",
     "shell.execute_reply": "2021-05-05T13:58:21.484588Z"
    },
    "slideshow": {
     "slide_type": "slide"
    }
   },
   "outputs": [],
   "source": [
    "from sklearn.model_selection import  train_test_split\n",
    "seed = 77678  #By fixing the seed we guarantee that we can split the set in same way each time this maybe handy for debuging purposes\n",
    "train_data, test_data  = train_test_split(data,test_size=0.25, random_state=seed)"
   ]
  },
  {
   "cell_type": "code",
   "execution_count": 7,
   "id": "edb06c46",
   "metadata": {
    "execution": {
     "iopub.execute_input": "2021-05-05T13:58:21.488073Z",
     "iopub.status.busy": "2021-05-05T13:58:21.487420Z",
     "iopub.status.idle": "2021-05-05T13:58:21.578288Z",
     "shell.execute_reply": "2021-05-05T13:58:21.578839Z"
    },
    "slideshow": {
     "slide_type": "fragment"
    }
   },
   "outputs": [],
   "source": [
    "from sklearn.discriminant_analysis import QuadraticDiscriminantAnalysis"
   ]
  },
  {
   "cell_type": "code",
   "execution_count": 8,
   "id": "3bdb496b",
   "metadata": {
    "execution": {
     "iopub.execute_input": "2021-05-05T13:58:21.582311Z",
     "iopub.status.busy": "2021-05-05T13:58:21.581706Z",
     "iopub.status.idle": "2021-05-05T13:58:21.612294Z",
     "shell.execute_reply": "2021-05-05T13:58:21.612756Z"
    },
    "slideshow": {
     "slide_type": "fragment"
    }
   },
   "outputs": [],
   "source": [
    "qda =  QuadraticDiscriminantAnalysis()"
   ]
  },
  {
   "cell_type": "code",
   "execution_count": 9,
   "id": "339f3d06",
   "metadata": {
    "execution": {
     "iopub.execute_input": "2021-05-05T13:58:21.616162Z",
     "iopub.status.busy": "2021-05-05T13:58:21.615573Z",
     "iopub.status.idle": "2021-05-05T13:58:21.651483Z",
     "shell.execute_reply": "2021-05-05T13:58:21.651914Z"
    },
    "slideshow": {
     "slide_type": "fragment"
    }
   },
   "outputs": [
    {
     "data": {
      "text/plain": [
       "QuadraticDiscriminantAnalysis()"
      ]
     },
     "execution_count": 9,
     "metadata": {},
     "output_type": "execute_result"
    }
   ],
   "source": [
    "qda.fit(train_data[['Height','Weight']], train_data.Gender=='Female')"
   ]
  },
  {
   "cell_type": "code",
   "execution_count": 10,
   "id": "5f24cc1f",
   "metadata": {
    "execution": {
     "iopub.execute_input": "2021-05-05T13:58:21.655102Z",
     "iopub.status.busy": "2021-05-05T13:58:21.654540Z",
     "iopub.status.idle": "2021-05-05T13:58:21.684880Z",
     "shell.execute_reply": "2021-05-05T13:58:21.685287Z"
    },
    "slideshow": {
     "slide_type": "fragment"
    }
   },
   "outputs": [],
   "source": [
    "test_predicted_proba = qda.predict_proba(test_data[['Height', 'Weight']])[:,1] "
   ]
  },
  {
   "cell_type": "code",
   "execution_count": 11,
   "id": "f344d893",
   "metadata": {
    "execution": {
     "iopub.execute_input": "2021-05-05T13:58:21.688561Z",
     "iopub.status.busy": "2021-05-05T13:58:21.687883Z",
     "iopub.status.idle": "2021-05-05T13:58:21.714457Z",
     "shell.execute_reply": "2021-05-05T13:58:21.714821Z"
    },
    "slideshow": {
     "slide_type": "fragment"
    }
   },
   "outputs": [],
   "source": [
    "from sklearn.metrics import confusion_matrix, roc_auc_score, roc_curve"
   ]
  },
  {
   "cell_type": "code",
   "execution_count": 12,
   "id": "95ce7304",
   "metadata": {
    "execution": {
     "iopub.execute_input": "2021-05-05T13:58:21.718179Z",
     "iopub.status.busy": "2021-05-05T13:58:21.717620Z",
     "iopub.status.idle": "2021-05-05T13:58:21.749789Z",
     "shell.execute_reply": "2021-05-05T13:58:21.750189Z"
    },
    "slideshow": {
     "slide_type": "fragment"
    }
   },
   "outputs": [
    {
     "data": {
      "text/html": [
       "<div>\n",
       "<style scoped>\n",
       "    .dataframe tbody tr th:only-of-type {\n",
       "        vertical-align: middle;\n",
       "    }\n",
       "\n",
       "    .dataframe tbody tr th {\n",
       "        vertical-align: top;\n",
       "    }\n",
       "\n",
       "    .dataframe thead th {\n",
       "        text-align: right;\n",
       "    }\n",
       "</style>\n",
       "<table border=\"1\" class=\"dataframe\">\n",
       "  <thead>\n",
       "    <tr style=\"text-align: right;\">\n",
       "      <th></th>\n",
       "      <th>0</th>\n",
       "      <th>1</th>\n",
       "    </tr>\n",
       "  </thead>\n",
       "  <tbody>\n",
       "    <tr>\n",
       "      <th>0</th>\n",
       "      <td>0.914489</td>\n",
       "      <td>0.085511</td>\n",
       "    </tr>\n",
       "    <tr>\n",
       "      <th>1</th>\n",
       "      <td>0.084883</td>\n",
       "      <td>0.915117</td>\n",
       "    </tr>\n",
       "  </tbody>\n",
       "</table>\n",
       "</div>"
      ],
      "text/plain": [
       "          0         1\n",
       "0  0.914489  0.085511\n",
       "1  0.084883  0.915117"
      ]
     },
     "execution_count": 12,
     "metadata": {},
     "output_type": "execute_result"
    }
   ],
   "source": [
    "pd.DataFrame(confusion_matrix(test_data.Gender=='Female', test_predicted_proba>0.5, normalize='true')) "
   ]
  },
  {
   "cell_type": "markdown",
   "id": "7651914a",
   "metadata": {
    "slideshow": {
     "slide_type": "skip"
    }
   },
   "source": [
    "Let's plot the ROC curve"
   ]
  },
  {
   "cell_type": "code",
   "execution_count": 13,
   "id": "d1c25473",
   "metadata": {
    "execution": {
     "iopub.execute_input": "2021-05-05T13:58:21.753434Z",
     "iopub.status.busy": "2021-05-05T13:58:21.752782Z",
     "iopub.status.idle": "2021-05-05T13:58:21.780782Z",
     "shell.execute_reply": "2021-05-05T13:58:21.781188Z"
    },
    "slideshow": {
     "slide_type": "skip"
    }
   },
   "outputs": [],
   "source": [
    "from mchlearn.plotting import roc_plot, add_roc_curve"
   ]
  },
  {
   "cell_type": "code",
   "execution_count": 14,
   "id": "01e6987a",
   "metadata": {
    "execution": {
     "iopub.execute_input": "2021-05-05T13:58:21.784557Z",
     "iopub.status.busy": "2021-05-05T13:58:21.783921Z",
     "iopub.status.idle": "2021-05-05T13:58:21.934628Z",
     "shell.execute_reply": "2021-05-05T13:58:21.935062Z"
    },
    "slideshow": {
     "slide_type": "slide"
    }
   },
   "outputs": [
    {
     "data": {
      "image/png": "[encoded data removed]",
      "text/plain": [
       "<Figure size 576x576 with 1 Axes>"
      ]
     },
     "metadata": {
      "needs_background": "light"
     },
     "output_type": "display_data"
    }
   ],
   "source": [
    "fig, ax = roc_plot()\n",
    "add_roc_curve(test_data.Gender=='Female', test_predicted_proba, \"QDA\", ax=ax)\n",
    "ax.legend(title='AUC');"
   ]
  },
  {
   "cell_type": "markdown",
   "id": "aaca6409",
   "metadata": {
    "slideshow": {
     "slide_type": "skip"
    }
   },
   "source": [
    "Please notice that the  ROC curve does not depend on the fact that classifier returns a probability! All  what is needed is a _score_ value , such that a bigger score indicates bigger chance of positive examplar. The ROC curve will not change if we transform the value returned from classifier by any monoticaly  increasing function: "
   ]
  },
  {
   "cell_type": "code",
   "execution_count": 15,
   "id": "5a3e0d31",
   "metadata": {
    "execution": {
     "iopub.execute_input": "2021-05-05T13:58:21.938832Z",
     "iopub.status.busy": "2021-05-05T13:58:21.938168Z",
     "iopub.status.idle": "2021-05-05T13:58:22.226804Z",
     "shell.execute_reply": "2021-05-05T13:58:22.227123Z"
    },
    "slideshow": {
     "slide_type": "slide"
    }
   },
   "outputs": [
    {
     "data": {
      "image/png": "[encoded data removed]",
      "text/plain": [
       "<Figure size 576x576 with 1 Axes>"
      ]
     },
     "metadata": {
      "needs_background": "light"
     },
     "output_type": "display_data"
    }
   ],
   "source": [
    "fig, ax = roc_plot()\n",
    "add_roc_curve(test_data.Gender=='Female', test_predicted_proba, \"QDA $f(x)=x$\", ax=ax)\n",
    "add_roc_curve(test_data.Gender=='Female', test_predicted_proba**2, \"QDA $f(x)=x^2$\", ax=ax)\n",
    "add_roc_curve(test_data.Gender=='Female', test_predicted_proba/(1+test_predicted_proba), \"QDA $f(x)=x/(1+x)$\", ax=ax)\n",
    "ax.legend(title='AUC');"
   ]
  },
  {
   "cell_type": "markdown",
   "id": "6464aef0",
   "metadata": {
    "slideshow": {
     "slide_type": "skip"
    }
   },
   "source": [
    "As you can see the  all the curves are identical."
   ]
  },
  {
   "cell_type": "markdown",
   "id": "8bf20455",
   "metadata": {
    "slideshow": {
     "slide_type": "slide"
    }
   },
   "source": [
    "## Calibration curves"
   ]
  },
  {
   "cell_type": "markdown",
   "id": "a56eb40b",
   "metadata": {
    "slideshow": {
     "slide_type": "skip"
    }
   },
   "source": [
    "So how can we test that the classifier returns a probability? As the probability is a continous variable, we cannot check all the possible prediction values. We must first somehow discretize it by  dividing  possible values into a number of bins. Let's divide the probability space in 20 uniform bins and see how the output of the classifier is distributed by plotting a histogram"
   ]
  },
  {
   "cell_type": "code",
   "execution_count": 16,
   "id": "7a1aae54",
   "metadata": {
    "execution": {
     "iopub.execute_input": "2021-05-05T13:58:22.230006Z",
     "iopub.status.busy": "2021-05-05T13:58:22.229562Z",
     "iopub.status.idle": "2021-05-05T13:58:22.357526Z",
     "shell.execute_reply": "2021-05-05T13:58:22.357847Z"
    },
    "slideshow": {
     "slide_type": "fragment"
    }
   },
   "outputs": [
    {
     "data": {
      "image/png": "[encoded data removed]",
      "text/plain": [
       "<Figure size 864x576 with 1 Axes>"
      ]
     },
     "metadata": {
      "needs_background": "light"
     },
     "output_type": "display_data"
    }
   ],
   "source": [
    "counts, edges, _ = plt.hist(test_predicted_proba, bins=np.linspace(0,1,21), edgecolor='red');"
   ]
  },
  {
   "cell_type": "markdown",
   "id": "66bf518e",
   "metadata": {
    "slideshow": {
     "slide_type": "skip"
    }
   },
   "source": [
    "As we can see most in most of the cases the classifier is pretty sure, the scores are concentrated close to zero and one, however the examples are not uniformly distributed in the bins, especially the outer ones:"
   ]
  },
  {
   "cell_type": "code",
   "execution_count": 17,
   "id": "7b646146",
   "metadata": {
    "execution": {
     "iopub.execute_input": "2021-05-05T13:58:22.361569Z",
     "iopub.status.busy": "2021-05-05T13:58:22.361123Z",
     "iopub.status.idle": "2021-05-05T13:58:22.567050Z",
     "shell.execute_reply": "2021-05-05T13:58:22.567411Z"
    },
    "slideshow": {
     "slide_type": "slide"
    }
   },
   "outputs": [
    {
     "data": {
      "image/png": "[encoded data removed]",
      "text/plain": [
       "<Figure size 864x576 with 1 Axes>"
      ]
     },
     "metadata": {
      "needs_background": "light"
     },
     "output_type": "display_data"
    }
   ],
   "source": [
    "# Plots all test data points inside  the histogram. The x value is the predicted probability, the y value is uniform random in the range = [0, bin_height).\n",
    "bins = np.digitize(test_predicted_proba, bins=edges).astype('int32')\n",
    "ys = counts[bins-1]*np.random.uniform(0,1,size = len(test_predicted_proba))\n",
    "women = test_data.Gender=='Female'\n",
    "men = test_data.Gender=='Male'\n",
    "plt.scatter(test_predicted_proba[women], ys[women], s=8, alpha = 0.5, c='blue', label='Women')\n",
    "plt.scatter(test_predicted_proba[men], ys[men], s=5, alpha = 0.5, c= 'orange', label ='Men')\n",
    "counts, edges, _ = plt.hist(test_predicted_proba, bins=np.linspace(0,1,21), histtype='step');\n",
    "plt.legend();"
   ]
  },
  {
   "cell_type": "markdown",
   "id": "80fdd369",
   "metadata": {
    "slideshow": {
     "slide_type": "skip"
    }
   },
   "source": [
    "We will now look at our cases bin by bin. For each bin the observed probability is the number of positive examples (women) in the bin. As the  predicted value we will take the mean of all predicited probabilities contained in the bin. This in general will not be equal to the bin center as you can see from the  plot above."
   ]
  },
  {
   "cell_type": "markdown",
   "id": "a13931ca",
   "metadata": {
    "slideshow": {
     "slide_type": "skip"
    }
   },
   "source": [
    "I have implemented this in the function below. I  have also added error estimates for both observed (true)  and predicted probability. "
   ]
  },
  {
   "cell_type": "code",
   "execution_count": 18,
   "id": "ea2f69ac",
   "metadata": {
    "execution": {
     "iopub.execute_input": "2021-05-05T13:58:22.572355Z",
     "iopub.status.busy": "2021-05-05T13:58:22.571850Z",
     "iopub.status.idle": "2021-05-05T13:58:22.596352Z",
     "shell.execute_reply": "2021-05-05T13:58:22.596744Z"
    },
    "slideshow": {
     "slide_type": "slide"
    }
   },
   "outputs": [],
   "source": [
    "import pandas.core.series\n",
    "def reliability_diagram1(y_true, y_proba, bins):\n",
    "    # If bins is a list or numpy array uses it as bin edges. If not it assumes that it is an integer\n",
    "    # and  uses bins number of bins of the same width in the range [0,1)\n",
    "    edges = bins if isinstance(bins,(list, np.ndarray)) else np.linspace(0,1,bins+1)\n",
    "    n_bins = len(edges)-1\n",
    "    \n",
    "    # If y_true is a pandas Series it converts it to numpy array. \n",
    "    true_values = y_true.values if isinstance(y_true, pandas.core.series.Series) else y_true\n",
    "    \n",
    "    #Takes the the array of probabilities y_proba and returns the bin corresponding number\n",
    "    #Bin index 0 indicates values smaller the zero (should not happen!)\n",
    "    #Bin index n_bins+1 indicates values greater or equal to 1.0 (can happen)\n",
    "    prob_bins = np.digitize(y_proba, bins=edges).astype('int32')\n",
    "    \n",
    "    #arrays that will accumulate counts in the bins (two more bins for bin 0 and n_bins+1)\n",
    "    total = np.zeros(n_bins+2)\n",
    "    positive  = np.zeros(n_bins+2)\n",
    "    bin_mean  = np.zeros(n_bins+2)\n",
    "    bin_mean2 = np.zeros(n_bins+2)\n",
    "    # accumulation loop\n",
    "    for i,p in enumerate(y_proba):\n",
    "        bin_index = prob_bins[i]\n",
    "        total[bin_index]    += 1\n",
    "        positive[bin_index] += true_values[i]\n",
    "        bin_mean[bin_index] += p\n",
    "        bin_mean2[bin_index] += p*p #needed for mean variance calculations. \n",
    "    \n",
    "    #taking only non empty bins\n",
    "    non_empty = (total>0)\n",
    "    ne_total  = total[non_empty]\n",
    "    p_true = positive[non_empty]/ne_total \n",
    "    p_pred = bin_mean[non_empty]/ne_total \n",
    "    p_pred2 =  bin_mean2[non_empty]/ne_total \n",
    "    \n",
    "    #Error estimates (samples standard deviation)\n",
    "    e_true = np.sqrt(np.clip(p_true*(1-p_true),0,None)/ne_total)\n",
    "    e_pred =  np.sqrt(np.clip(p_pred2-p_pred*p_pred,0,None)/ne_total)\n",
    "    \n",
    "    return  p_true, p_pred, e_true,  e_pred"
   ]
  },
  {
   "cell_type": "markdown",
   "id": "c03cf0ab",
   "metadata": {
    "slideshow": {
     "slide_type": "skip"
    }
   },
   "source": [
    "And here are some more helper functions for plotting the calibration curves"
   ]
  },
  {
   "cell_type": "code",
   "execution_count": 19,
   "id": "5cbdfda6",
   "metadata": {
    "execution": {
     "iopub.execute_input": "2021-05-05T13:58:22.601962Z",
     "iopub.status.busy": "2021-05-05T13:58:22.601427Z",
     "iopub.status.idle": "2021-05-05T13:58:22.627777Z",
     "shell.execute_reply": "2021-05-05T13:58:22.628262Z"
    },
    "slideshow": {
     "slide_type": "skip"
    }
   },
   "outputs": [],
   "source": [
    "def reliability_diagram_plot(**kwargs):\n",
    "    \"\"\"\n",
    "    Returns the fig and ax objects for a aspect 1 plot with predefined axes labels and\n",
    "    diagonal line for plotting the reliability diagram (calibration curve)\n",
    "    \"\"\"\n",
    "    fig, ax = plt.subplots(**kwargs)\n",
    "    ax.set_aspect(1)\n",
    "    ax.set_ylabel('p observed')\n",
    "    ax.set_xlabel('p predicted')\n",
    "    ax.plot([0,1],[0,1], linewidth=1, linestyle='--', color = 'grey');\n",
    "    return fig, ax\n",
    "\n",
    "def add_reliability_diagram(p_pred, p_true,  e_pred=None, e_true=None, color ='blue', ax=None, **kwargs):\n",
    "    \"\"\"\n",
    "    Plots the  reliability diagram given by p_pred, p_true,  e_pred, e_true on the given axes. If axis is not \n",
    "    given it uses the current Axes instance.\n",
    "    \"\"\"\n",
    "    if not ax:\n",
    "        ax = plt.gca()\n",
    "    ax.scatter(p_true,p_pred, facecolor = 'white', edgecolor = color, zorder = 10, **kwargs)\n",
    "    if not (e_pred is None):\n",
    "        ax.errorbar(p_true,p_pred, yerr = e_pred, fmt = 'none', ecolor=color, capsize=4, elinewidth=1)    \n",
    "    if not (e_true is None):\n",
    "        ax.errorbar(p_true,p_pred, xerr = e_true, fmt = 'none', ecolor=color, capsize=4, elinewidth=1)        "
   ]
  },
  {
   "cell_type": "markdown",
   "id": "c4e86575",
   "metadata": {
    "slideshow": {
     "slide_type": "skip"
    }
   },
   "source": [
    "And finally here is our calibration plot:"
   ]
  },
  {
   "cell_type": "code",
   "execution_count": 20,
   "id": "10110826",
   "metadata": {
    "execution": {
     "iopub.execute_input": "2021-05-05T13:58:22.631773Z",
     "iopub.status.busy": "2021-05-05T13:58:22.631188Z",
     "iopub.status.idle": "2021-05-05T13:58:22.774619Z",
     "shell.execute_reply": "2021-05-05T13:58:22.774939Z"
    },
    "slideshow": {
     "slide_type": "slide"
    }
   },
   "outputs": [
    {
     "data": {
      "image/png": "[encoded data removed]",
      "text/plain": [
       "<Figure size 864x576 with 1 Axes>"
      ]
     },
     "metadata": {
      "needs_background": "light"
     },
     "output_type": "display_data"
    }
   ],
   "source": [
    "qda_test_rd =  reliability_diagram1(test_data.Gender=='Female', test_predicted_proba, 20)\n",
    "\n",
    "fig, ax = reliability_diagram_plot()\n",
    "#The * notation 'splices' the array into function arguments i.e. f(*[a,b,c]) = f(a,b,c)\n",
    "add_reliability_diagram(*qda_test_rd, ax = ax, label='qda')\n",
    "ax.legend();"
   ]
  },
  {
   "cell_type": "markdown",
   "id": "492e83ab",
   "metadata": {
    "slideshow": {
     "slide_type": "skip"
    }
   },
   "source": [
    "As you can see  it look rather well calibrated, especially considering the errors."
   ]
  },
  {
   "cell_type": "markdown",
   "id": "8c986271",
   "metadata": {
    "slideshow": {
     "slide_type": "skip"
    }
   },
   "source": [
    "Maybe now is the time to  mention that such function as above  is already provided in the scikit-learn library (minus the errors) ..."
   ]
  },
  {
   "cell_type": "code",
   "execution_count": 21,
   "id": "a24a226a",
   "metadata": {
    "execution": {
     "iopub.execute_input": "2021-05-05T13:58:22.778252Z",
     "iopub.status.busy": "2021-05-05T13:58:22.777806Z",
     "iopub.status.idle": "2021-05-05T13:58:22.989630Z",
     "shell.execute_reply": "2021-05-05T13:58:22.990053Z"
    },
    "slideshow": {
     "slide_type": "slide"
    }
   },
   "outputs": [
    {
     "data": {
      "image/png": "[encoded data removed]",
      "text/plain": [
       "<Figure size 864x576 with 1 Axes>"
      ]
     },
     "metadata": {
      "needs_background": "light"
     },
     "output_type": "display_data"
    }
   ],
   "source": [
    "from sklearn.calibration import calibration_curve\n",
    "\n",
    "prob_true, prob_pred = calibration_curve(test_data.Gender == 'Female',qda.predict_proba(test_data[['Height','Weight']])[:,1], n_bins=20)\n",
    "\n",
    "fig, ax = reliability_diagram_plot()\n",
    "add_reliability_diagram(*qda_test_rd[:2], color='blue', label ='this notebook')\n",
    "add_reliability_diagram( prob_true, prob_pred+0.007,    color='red', label='sklearn')\n",
    "ax.legend();"
   ]
  },
  {
   "cell_type": "markdown",
   "id": "e071d63d",
   "metadata": {
    "slideshow": {
     "slide_type": "skip"
    }
   },
   "source": [
    "As you can see the results are exactly the same (I have shifted points slightly to make them distinct). "
   ]
  },
  {
   "cell_type": "markdown",
   "id": "af67751c",
   "metadata": {
    "slideshow": {
     "slide_type": "slide"
    }
   },
   "source": [
    "### Quantile bins"
   ]
  },
  {
   "cell_type": "markdown",
   "id": "7fc24e7c",
   "metadata": {
    "slideshow": {
     "slide_type": "skip"
    }
   },
   "source": [
    "Because the distribution of entries in the bins is not uniform as we could see on the histogram above, we can consider divide the interval $[0,1)$  in such a way that each bin contains approximatelly same number of entries. The function below generates such partitioning"
   ]
  },
  {
   "cell_type": "code",
   "execution_count": 22,
   "id": "43e6bd1b",
   "metadata": {
    "execution": {
     "iopub.execute_input": "2021-05-05T13:58:22.993326Z",
     "iopub.status.busy": "2021-05-05T13:58:22.992839Z",
     "iopub.status.idle": "2021-05-05T13:58:23.018091Z",
     "shell.execute_reply": "2021-05-05T13:58:23.018491Z"
    },
    "slideshow": {
     "slide_type": "fragment"
    }
   },
   "outputs": [],
   "source": [
    "def equiprobable_bins(proba, n_bins):\n",
    "    \"\"\"\n",
    "    Quick and dirty: uses the numpy.array_split function that divides array in n\n",
    "    almost equal arrays. We only need to adjust the end points to zero and one.\n",
    "    \"\"\"\n",
    "    sorted_proba = np.sort(proba)\n",
    "    split = np.array_split(sorted_proba,n_bins)\n",
    "    mins = [a[-1] for a in split]\n",
    "    edges = np.asarray([0]+mins)\n",
    "    edges[-1]=1.0\n",
    "    return edges\n"
   ]
  },
  {
   "cell_type": "markdown",
   "id": "0b277862",
   "metadata": {
    "slideshow": {
     "slide_type": "skip"
    }
   },
   "source": [
    "and we can check that indeed it works"
   ]
  },
  {
   "cell_type": "code",
   "execution_count": 23,
   "id": "a3d9f28d",
   "metadata": {
    "execution": {
     "iopub.execute_input": "2021-05-05T13:58:23.021667Z",
     "iopub.status.busy": "2021-05-05T13:58:23.021132Z",
     "iopub.status.idle": "2021-05-05T13:58:23.146672Z",
     "shell.execute_reply": "2021-05-05T13:58:23.147228Z"
    },
    "slideshow": {
     "slide_type": "slide"
    }
   },
   "outputs": [
    {
     "data": {
      "image/png": "[encoded data removed]",
      "text/plain": [
       "<Figure size 864x576 with 1 Axes>"
      ]
     },
     "metadata": {
      "needs_background": "light"
     },
     "output_type": "display_data"
    }
   ],
   "source": [
    "plt.hist(test_predicted_proba, bins=equiprobable_bins(test_predicted_proba, 12), edgecolor='red');"
   ]
  },
  {
   "cell_type": "markdown",
   "id": "cbc201c8",
   "metadata": {
    "slideshow": {
     "slide_type": "skip"
    }
   },
   "source": [
    "the histogram is flat but the bins have differentwidth."
   ]
  },
  {
   "cell_type": "markdown",
   "id": "2b3f64d9",
   "metadata": {
    "slideshow": {
     "slide_type": "skip"
    }
   },
   "source": [
    "If we use this partitioning for the calibration plot we get a much nicer picture"
   ]
  },
  {
   "cell_type": "code",
   "execution_count": 24,
   "id": "69c5c5df",
   "metadata": {
    "execution": {
     "iopub.execute_input": "2021-05-05T13:58:23.150100Z",
     "iopub.status.busy": "2021-05-05T13:58:23.149621Z",
     "iopub.status.idle": "2021-05-05T13:58:23.182518Z",
     "shell.execute_reply": "2021-05-05T13:58:23.182905Z"
    },
    "slideshow": {
     "slide_type": "slide"
    }
   },
   "outputs": [],
   "source": [
    "qda_test_q_rd= reliability_diagram1(test_data.Gender=='Female', test_predicted_proba, bins=equiprobable_bins(test_predicted_proba, 12))"
   ]
  },
  {
   "cell_type": "code",
   "execution_count": 25,
   "id": "850cebb7",
   "metadata": {
    "execution": {
     "iopub.execute_input": "2021-05-05T13:58:23.185972Z",
     "iopub.status.busy": "2021-05-05T13:58:23.185462Z",
     "iopub.status.idle": "2021-05-05T13:58:23.320755Z",
     "shell.execute_reply": "2021-05-05T13:58:23.321074Z"
    },
    "slideshow": {
     "slide_type": "-"
    }
   },
   "outputs": [
    {
     "data": {
      "image/png": "[encoded data removed]",
      "text/plain": [
       "<Figure size 864x576 with 1 Axes>"
      ]
     },
     "metadata": {
      "needs_background": "light"
     },
     "output_type": "display_data"
    }
   ],
   "source": [
    "fig, ax = reliability_diagram_plot()\n",
    "add_reliability_diagram(*qda_test_q_rd, ax = ax, label='qda')\n",
    "ax.legend();"
   ]
  },
  {
   "cell_type": "markdown",
   "id": "721e7c4e",
   "metadata": {
    "slideshow": {
     "slide_type": "skip"
    }
   },
   "source": [
    "To make my function mimick the built if function `calibration_plot` I will slightly change the interface of the `reliability_diagram` function:"
   ]
  },
  {
   "cell_type": "code",
   "execution_count": 26,
   "id": "8319087a",
   "metadata": {
    "execution": {
     "iopub.execute_input": "2021-05-05T13:58:23.326625Z",
     "iopub.status.busy": "2021-05-05T13:58:23.326167Z",
     "iopub.status.idle": "2021-05-05T13:58:23.349363Z",
     "shell.execute_reply": "2021-05-05T13:58:23.349751Z"
    },
    "slideshow": {
     "slide_type": "skip"
    }
   },
   "outputs": [],
   "source": [
    "import pandas.core.series\n",
    "def reliability_diagram(y_true, y_proba, n_bins, strategy = 'uniform'):\n",
    "    if strategy == 'uniform':\n",
    "        edges =p.linspace(0,1,bins+1) #uniform bins\n",
    "    elif strategy ==  'quantile':\n",
    "         edges = equiprobable_bins(y_proba, n_bins) #same number of points in bin\n",
    "    else:\n",
    "        raise ValueError(\"strategy argument got an unexpected value '{:s}'\".format(strategy))\n",
    "    \n",
    "    # rest is unchanged\n",
    "    true_values = y_true.values if isinstance(y_true, pandas.core.series.Series) else y_true\n",
    "    prob_bins = np.digitize(y_proba, bins=edges).astype('int32')\n",
    "    total = np.zeros(n_bins+2)\n",
    "    positive  = np.zeros(n_bins+2)\n",
    "    bin_mean  = np.zeros(n_bins+2)\n",
    "    bin_mean2 = np.zeros(n_bins+2)\n",
    "    for i,p in enumerate(y_proba):\n",
    "        bin_index = prob_bins[i]\n",
    "        total[bin_index]    += 1\n",
    "        positive[bin_index] += true_values[i]\n",
    "        bin_mean[bin_index] += p\n",
    "        bin_mean2[bin_index] += p*p\n",
    "        \n",
    "    non_empty = (total>0)\n",
    "    ne_total = total[non_empty]\n",
    "    p_true = positive[non_empty]/ne_total \n",
    "    p_pred = bin_mean[non_empty]/ne_total \n",
    "    p_pred2 =  bin_mean2[non_empty]/ne_total \n",
    "    e_true = np.sqrt(np.clip(p_true*(1-p_true),0,None)/ne_total)\n",
    "    e_pred =  np.sqrt(np.clip(p_pred2-p_pred*p_pred,0,None)/ne_total)\n",
    "    return  p_true, p_pred, e_true,  e_pred"
   ]
  },
  {
   "cell_type": "markdown",
   "id": "ee3a468d",
   "metadata": {
    "slideshow": {
     "slide_type": "slide"
    }
   },
   "source": [
    "## Brier score"
   ]
  },
  {
   "cell_type": "markdown",
   "id": "afd8624f",
   "metadata": {
    "slideshow": {
     "slide_type": "skip"
    }
   },
   "source": [
    "While the calibration curve gives a detailed picture of the predictor performance it can be summarized by so called [Brier score](https://en.wikipedia.org/wiki/Brier_score)"
   ]
  },
  {
   "cell_type": "markdown",
   "id": "11808b2f",
   "metadata": {
    "slideshow": {
     "slide_type": "fragment"
    }
   },
   "source": [
    "$$\\frac{1}{N}\\sum_{i=1}^N\\left(o_i- p(x_i)\\right)^2, \\quad o_i=0,1$$"
   ]
  },
  {
   "cell_type": "markdown",
   "id": "324acf18",
   "metadata": {
    "slideshow": {
     "slide_type": "skip"
    }
   },
   "source": [
    "where $o_i$ is the actual (real) result (0 or 1) and $p(x_i)$ is the predicted probability. The sum is over all data examples."
   ]
  },
  {
   "cell_type": "markdown",
   "id": "65e20ee3",
   "metadata": {
    "slideshow": {
     "slide_type": "fragment"
    }
   },
   "source": [
    "#### Problem\n",
    "\n",
    "What values can the the Brier score take? When is it maximum? When it is minimum?"
   ]
  },
  {
   "cell_type": "markdown",
   "id": "82f166dd",
   "metadata": {
    "slideshow": {
     "slide_type": "skip"
    }
   },
   "source": [
    "To see how it works consider the case where $p(x_i)$ can take only a finite number of values $p_j, j =1,\\ldots,K$. We can split the sum into $K$ parts, each part $j$ corresponding to examples where classifier predicted probability $p_j$:"
   ]
  },
  {
   "cell_type": "markdown",
   "id": "edf58aca",
   "metadata": {
    "slideshow": {
     "slide_type": "slide"
    }
   },
   "source": [
    "$$p(x_j)=p_j,\\quad j =1,\\ldots,K$$"
   ]
  },
  {
   "cell_type": "markdown",
   "id": "90864f90",
   "metadata": {
    "slideshow": {
     "slide_type": "fragment"
    }
   },
   "source": [
    "$$\\frac{1}{N}\\sum_{j=1}^K \\sum_{i=1}^{N_j}\\left(o_{ji}- p_j\\right)^2\n",
    "=\\frac{1}{N}\\sum_{j=1}^K \\sum_{i=1}^{N_j}\\left(o_{ji}^2-2 o_{ji} p_j+ p_j^2\\right)\n",
    "=\\frac{1}{N}\\sum_{j=1}^K N_j \\left(\\overline{o_j^2}-2 \\bar{o}_{j} p_j+ p_j^2\\right)$$"
   ]
  },
  {
   "cell_type": "markdown",
   "id": "a5bbdc8e",
   "metadata": {
    "slideshow": {
     "slide_type": "fragment"
    }
   },
   "source": [
    "$$\\bar{o}_{j}\\equiv \\frac{1}{N_j}\\sum_{i=1}^{N_j}o_{ji}=\\tilde{p}_j$$"
   ]
  },
  {
   "cell_type": "markdown",
   "id": "f9b69844",
   "metadata": {
    "slideshow": {
     "slide_type": "fragment"
    }
   },
   "source": [
    "$$o_{ji}^2=o_{ji},\\quad \\overline{o_j^2}=\\bar{o}_j\\quad $$"
   ]
  },
  {
   "cell_type": "markdown",
   "id": "33aed702",
   "metadata": {
    "slideshow": {
     "slide_type": "skip"
    }
   },
   "source": [
    "$N_j$ is the number of entries in group $j$. In the last equation we  have used the fact that $o_{ij}=0,1$ so $o_{ji}^2=o_{ji}$.  For the same  reason the  average"
   ]
  },
  {
   "cell_type": "markdown",
   "id": "1dbd3570",
   "metadata": {
    "slideshow": {
     "slide_type": "skip"
    }
   },
   "source": [
    "is the observed frequncy of positive examples in group $j$.  Putting this all togheter we finally obtain for the Brier score"
   ]
  },
  {
   "cell_type": "markdown",
   "id": "8f76b951",
   "metadata": {
    "slideshow": {
     "slide_type": "fragment"
    }
   },
   "source": [
    "$$\\frac{1}{N}\\sum_{j=1}^K N_j \\left(\\tilde{p}_j- p_j\\right)^2=\\sum_{j=1}^K \\tilde{\\pi}_j \\left(\\tilde{p}_j- p_j\\right)^2$$"
   ]
  },
  {
   "cell_type": "markdown",
   "id": "213d75df",
   "metadata": {
    "slideshow": {
     "slide_type": "skip"
    }
   },
   "source": [
    "It is now clear that it measures the discrepancy between predicted and observed frequency. "
   ]
  },
  {
   "cell_type": "markdown",
   "id": "91d9ea6b",
   "metadata": {
    "slideshow": {
     "slide_type": "skip"
    }
   },
   "source": [
    "So let's check what is the value of Brier score for our QDA classifier"
   ]
  },
  {
   "cell_type": "code",
   "execution_count": 27,
   "id": "b63a4115",
   "metadata": {
    "execution": {
     "iopub.execute_input": "2021-05-05T13:58:23.352746Z",
     "iopub.status.busy": "2021-05-05T13:58:23.352215Z",
     "iopub.status.idle": "2021-05-05T13:58:23.379022Z",
     "shell.execute_reply": "2021-05-05T13:58:23.379462Z"
    },
    "slideshow": {
     "slide_type": "slide"
    }
   },
   "outputs": [
    {
     "data": {
      "text/plain": [
       "0.06359696364853558"
      ]
     },
     "execution_count": 27,
     "metadata": {},
     "output_type": "execute_result"
    }
   ],
   "source": [
    "np.mean((test_predicted_proba-(test_data.Gender=='Female'))**2)"
   ]
  },
  {
   "cell_type": "markdown",
   "id": "9efd57bd",
   "metadata": {
    "slideshow": {
     "slide_type": "skip"
    }
   },
   "source": [
    "By now you can probably guess that a suitable function is also provided by the scikit-learn library"
   ]
  },
  {
   "cell_type": "code",
   "execution_count": 28,
   "id": "ba327eac",
   "metadata": {
    "execution": {
     "iopub.execute_input": "2021-05-05T13:58:23.382292Z",
     "iopub.status.busy": "2021-05-05T13:58:23.381749Z",
     "iopub.status.idle": "2021-05-05T13:58:23.408892Z",
     "shell.execute_reply": "2021-05-05T13:58:23.409287Z"
    },
    "slideshow": {
     "slide_type": "fragment"
    }
   },
   "outputs": [
    {
     "data": {
      "text/plain": [
       "0.06359696364853558"
      ]
     },
     "execution_count": 28,
     "metadata": {},
     "output_type": "execute_result"
    }
   ],
   "source": [
    "from sklearn.metrics import brier_score_loss\n",
    "brier_score_loss(test_data.Gender=='Female', test_predicted_proba)"
   ]
  },
  {
   "cell_type": "markdown",
   "id": "041f3333",
   "metadata": {
    "slideshow": {
     "slide_type": "skip"
    }
   },
   "source": [
    "The function has a suffix 'loss' which indicates that smaller the value, the better the classifier."
   ]
  },
  {
   "cell_type": "markdown",
   "id": "775a0651",
   "metadata": {
    "slideshow": {
     "slide_type": "slide"
    }
   },
   "source": [
    "## Naive Bayes"
   ]
  },
  {
   "cell_type": "markdown",
   "id": "f32ee387",
   "metadata": {
    "slideshow": {
     "slide_type": "skip"
    }
   },
   "source": [
    "Now let's try  Naive Bayes classifier. As Naive Bayes makes strong independency assumptions which  definitelly are not satisfied in our case (height  and weight are clearly strongly correlated), we can expect that the probabilities are wrong.  Let's check if it shows in the calibration curves"
   ]
  },
  {
   "cell_type": "code",
   "execution_count": 29,
   "id": "c1f87d91",
   "metadata": {
    "execution": {
     "iopub.execute_input": "2021-05-05T13:58:23.412469Z",
     "iopub.status.busy": "2021-05-05T13:58:23.411942Z",
     "iopub.status.idle": "2021-05-05T13:58:23.445695Z",
     "shell.execute_reply": "2021-05-05T13:58:23.446064Z"
    },
    "slideshow": {
     "slide_type": "skip"
    }
   },
   "outputs": [],
   "source": [
    "from sklearn.naive_bayes import GaussianNB\n",
    "nb = GaussianNB()\n",
    "nb.fit(train_data[['Height', 'Weight']], train_data.Gender=='Female')\n",
    "nb_test_predicted_proba = nb.predict_proba(test_data[['Height', 'Weight']])[:,1]"
   ]
  },
  {
   "cell_type": "code",
   "execution_count": 30,
   "id": "b64546f1",
   "metadata": {
    "execution": {
     "iopub.execute_input": "2021-05-05T13:58:23.449756Z",
     "iopub.status.busy": "2021-05-05T13:58:23.449211Z",
     "iopub.status.idle": "2021-05-05T13:58:23.596449Z",
     "shell.execute_reply": "2021-05-05T13:58:23.596830Z"
    },
    "slideshow": {
     "slide_type": "fragment"
    }
   },
   "outputs": [
    {
     "data": {
      "image/png": "[encoded data removed]",
      "text/plain": [
       "<Figure size 864x576 with 1 Axes>"
      ]
     },
     "metadata": {
      "needs_background": "light"
     },
     "output_type": "display_data"
    }
   ],
   "source": [
    "nb_test_q_rd = reliability_diagram(test_data.Gender=='Female', nb_test_predicted_proba, n_bins=12, strategy='quantile')\n",
    "fig, ax = reliability_diagram_plot()\n",
    "brier_nb = brier_score_loss(test_data.Gender=='Female', nb_test_predicted_proba)\n",
    "add_reliability_diagram( *nb_test_q_rd, ax = ax, label='nb {:.4f}'.format(brier_nb) )\n",
    "ax.legend();"
   ]
  },
  {
   "cell_type": "markdown",
   "id": "6150e549",
   "metadata": {
    "slideshow": {
     "slide_type": "skip"
    }
   },
   "source": [
    "We see a characteristic inverted sigmoid function kind of shape. But observe that the Brier score is still quite low. That is because most of the data points are concetrated around probability zero or one where the predictions are quite accurate. "
   ]
  },
  {
   "cell_type": "markdown",
   "id": "9038a100",
   "metadata": {
    "slideshow": {
     "slide_type": "slide"
    }
   },
   "source": [
    "## Calibrating a classifier"
   ]
  },
  {
   "cell_type": "markdown",
   "id": "fafd7988",
   "metadata": {
    "slideshow": {
     "slide_type": "fragment"
    }
   },
   "source": [
    "$$p_c(x) = f(p(x))$$"
   ]
  },
  {
   "cell_type": "markdown",
   "id": "94d41b72",
   "metadata": {
    "slideshow": {
     "slide_type": "skip"
    }
   },
   "source": [
    "Can we correct or _calibrate_ the classifier ? Looking at the reliability diagrams we may think that we could adjust the probabilities output by classifier to correct for miss calibration and indeed this can be done with sufficient data. The simplest method is the _histogram_ method. We take a function that is piecewise constant over each bins that were used to plot the calibration curve. The  value in the bin is the true positive examples frequency in that bin. Thist will correct  the calibration plot _exactly_ (as long as we use same bins). Functions below calculates the correction"
   ]
  },
  {
   "cell_type": "code",
   "execution_count": 31,
   "id": "2a0850ab",
   "metadata": {
    "execution": {
     "iopub.execute_input": "2021-05-05T13:58:23.601927Z",
     "iopub.status.busy": "2021-05-05T13:58:23.601461Z",
     "iopub.status.idle": "2021-05-05T13:58:23.624692Z",
     "shell.execute_reply": "2021-05-05T13:58:23.625062Z"
    },
    "slideshow": {
     "slide_type": "skip"
    }
   },
   "outputs": [],
   "source": [
    "import pandas.core.series\n",
    "#This is a partial repetition of the reliability diagram function\n",
    "def bined_positive_freq(y_true, y_proba, n_bins, strategy = 'uniform'):\n",
    "    if strategy == 'uniform':\n",
    "        edges =p.linspace(0,1,bins+1)\n",
    "    elif strategy ==  'quantile':\n",
    "         edges = equiprobable_bins(y_proba, n_bins)\n",
    "    else:\n",
    "        raise ValueError(\"strategy argument got an unexpected value '{:s}'\".format(strategy))\n",
    "    \n",
    "    \n",
    "    true_values = y_true.values if isinstance(y_true, pandas.core.series.Series) else y_true\n",
    "    prob_bins = np.digitize(y_proba, bins=edges).astype('int32')\n",
    "    total = np.zeros(n_bins+2)\n",
    "    positive  = np.zeros(n_bins+2)\n",
    "    for i,p in enumerate(y_proba):\n",
    "        bin_index = prob_bins[i]\n",
    "        total[bin_index]    += 1\n",
    "        positive[bin_index] += true_values[i]\n",
    "        \n",
    "    p_true = positive/np.clip(total,1,None)#we are  returning all the bins so we must make sure we are not dividing by zero\n",
    "    \n",
    "    return  p_true, edges\n",
    "\n",
    "def make_correction(p_true, bins):\n",
    "    def correction(p):\n",
    "        i = np.digitize(p, bins).astype('int32')\n",
    "        return p_true[i]\n",
    "    \n",
    "    return correction\n",
    "\n",
    "\n",
    "def calibration_function(y_true, y_proba, n_bins, strategy = 'quantile'):\n",
    "    p_true, edges = bined_positive_freq(y_true, y_proba, n_bins, strategy)\n",
    "    \n",
    "    return make_correction(p_true, edges)\n",
    "    "
   ]
  },
  {
   "cell_type": "code",
   "execution_count": 32,
   "id": "878f639b",
   "metadata": {
    "execution": {
     "iopub.execute_input": "2021-05-05T13:58:23.627999Z",
     "iopub.status.busy": "2021-05-05T13:58:23.627481Z",
     "iopub.status.idle": "2021-05-05T13:58:23.661377Z",
     "shell.execute_reply": "2021-05-05T13:58:23.661866Z"
    },
    "slideshow": {
     "slide_type": "slide"
    }
   },
   "outputs": [],
   "source": [
    "f = calibration_function(test_data.Gender=='Female', nb_test_predicted_proba, n_bins=12)"
   ]
  },
  {
   "cell_type": "markdown",
   "id": "1cf3f91c",
   "metadata": {
    "slideshow": {
     "slide_type": "skip"
    }
   },
   "source": [
    "Resulting in a function mimicking the calibration plot"
   ]
  },
  {
   "cell_type": "code",
   "execution_count": 33,
   "id": "1e0cc7ba",
   "metadata": {
    "execution": {
     "iopub.execute_input": "2021-05-05T13:58:23.665271Z",
     "iopub.status.busy": "2021-05-05T13:58:23.664673Z",
     "iopub.status.idle": "2021-05-05T13:58:23.775237Z",
     "shell.execute_reply": "2021-05-05T13:58:23.775558Z"
    },
    "slideshow": {
     "slide_type": "fragment"
    }
   },
   "outputs": [
    {
     "data": {
      "text/plain": [
       "[<matplotlib.lines.Line2D at 0x184190610>]"
      ]
     },
     "execution_count": 33,
     "metadata": {},
     "output_type": "execute_result"
    },
    {
     "data": {
      "image/png": "[encoded data removed]",
      "text/plain": [
       "<Figure size 864x576 with 1 Axes>"
      ]
     },
     "metadata": {
      "needs_background": "light"
     },
     "output_type": "display_data"
    }
   ],
   "source": [
    "ps = np.linspace(0,0.99999,500) # value one falls outside the bins ... \n",
    "plt.plot(ps, f(ps))\n",
    "plt.plot([0,1],[0,1], color ='grey', linewidth=1, linestyle='--')"
   ]
  },
  {
   "cell_type": "markdown",
   "id": "ec00faef",
   "metadata": {
    "slideshow": {
     "slide_type": "skip"
    }
   },
   "source": [
    "After corrections the classifier is calibrated perfectly"
   ]
  },
  {
   "cell_type": "code",
   "execution_count": 34,
   "id": "21db3614",
   "metadata": {
    "execution": {
     "iopub.execute_input": "2021-05-05T13:58:23.778887Z",
     "iopub.status.busy": "2021-05-05T13:58:23.778422Z",
     "iopub.status.idle": "2021-05-05T13:58:23.941273Z",
     "shell.execute_reply": "2021-05-05T13:58:23.941587Z"
    },
    "slideshow": {
     "slide_type": "slide"
    }
   },
   "outputs": [
    {
     "data": {
      "image/png": "[encoded data removed]",
      "text/plain": [
       "<Figure size 864x576 with 1 Axes>"
      ]
     },
     "metadata": {
      "needs_background": "light"
     },
     "output_type": "display_data"
    }
   ],
   "source": [
    "nb_test_predicted_proba_cal = f(nb_test_predicted_proba)\n",
    "nb_test_q_rd_calibrated = reliability_diagram(test_data.Gender=='Female', nb_test_predicted_proba_cal, n_bins=12, strategy='quantile')\n",
    "fig, ax = reliability_diagram_plot()\n",
    "brier_nb_cal = brier_score_loss(test_data.Gender=='Female', nb_test_predicted_proba_cal)\n",
    "add_reliability_diagram(*nb_test_q_rd, ax = ax, label='nb {:.4f}'.format(brier_nb) )\n",
    "add_reliability_diagram(*nb_test_q_rd_calibrated, ax = ax, label='nb  calibrated {:.4f}'.format(brier_nb_cal), color='red' )\n",
    "ax.legend();"
   ]
  },
  {
   "cell_type": "markdown",
   "id": "e47e532e",
   "metadata": {
    "slideshow": {
     "slide_type": "skip"
    }
   },
   "source": [
    "This is however not the right approach, this is cheating! The classifier was calibrated on the same date we used to test it.\n",
    "The proper way is to use different sets for training, calibrating and finally testing. We will use our training set and split it into two sets"
   ]
  },
  {
   "cell_type": "code",
   "execution_count": 35,
   "id": "d9840746",
   "metadata": {
    "execution": {
     "iopub.execute_input": "2021-05-05T13:58:23.944568Z",
     "iopub.status.busy": "2021-05-05T13:58:23.943952Z",
     "iopub.status.idle": "2021-05-05T13:58:23.968750Z",
     "shell.execute_reply": "2021-05-05T13:58:23.969464Z"
    },
    "slideshow": {
     "slide_type": "slide"
    }
   },
   "outputs": [],
   "source": [
    "train_data2, calibration_data = train_test_split(train_data, train_size=0.75, random_state = seed)"
   ]
  },
  {
   "cell_type": "markdown",
   "id": "7fa67715",
   "metadata": {
    "slideshow": {
     "slide_type": "skip"
    }
   },
   "source": [
    "and use it to train a new Naive Bayes classifier"
   ]
  },
  {
   "cell_type": "code",
   "execution_count": 36,
   "id": "319e9bc1",
   "metadata": {
    "execution": {
     "iopub.execute_input": "2021-05-05T13:58:23.972721Z",
     "iopub.status.busy": "2021-05-05T13:58:23.972198Z",
     "iopub.status.idle": "2021-05-05T13:58:24.002307Z",
     "shell.execute_reply": "2021-05-05T13:58:24.002693Z"
    },
    "slideshow": {
     "slide_type": "slide"
    }
   },
   "outputs": [
    {
     "data": {
      "text/plain": [
       "GaussianNB()"
      ]
     },
     "execution_count": 36,
     "metadata": {},
     "output_type": "execute_result"
    }
   ],
   "source": [
    "nb_cal = GaussianNB()\n",
    "nb_cal.fit(train_data2[['Height', 'Weight']], train_data2.Gender=='Female')"
   ]
  },
  {
   "cell_type": "code",
   "execution_count": 37,
   "id": "407156e3",
   "metadata": {
    "execution": {
     "iopub.execute_input": "2021-05-05T13:58:24.006410Z",
     "iopub.status.busy": "2021-05-05T13:58:24.005877Z",
     "iopub.status.idle": "2021-05-05T13:58:24.156508Z",
     "shell.execute_reply": "2021-05-05T13:58:24.156831Z"
    },
    "slideshow": {
     "slide_type": "slide"
    }
   },
   "outputs": [
    {
     "data": {
      "image/png": "[encoded data removed]",
      "text/plain": [
       "<Figure size 864x576 with 1 Axes>"
      ]
     },
     "metadata": {
      "needs_background": "light"
     },
     "output_type": "display_data"
    }
   ],
   "source": [
    "nb_cal_test_predicted_proba = nb_cal.predict_proba(test_data[['Height', 'Weight']])[:,1]\n",
    "nb_cal_test_q_rd = reliability_diagram(test_data.Gender=='Female', \n",
    "                                                                     nb_cal_test_predicted_proba, \n",
    "                                                                     n_bins=12, strategy='quantile')\n",
    "                                                                    \n",
    "fig, ax = reliability_diagram_plot()\n",
    "brier_nb = brier_score_loss(test_data.Gender=='Female', nb_test_predicted_proba)\n",
    "add_reliability_diagram(*nb_cal_test_q_rd, ax = ax, label='nb {:.4f}'.format(brier_nb) )\n",
    "ax.legend();"
   ]
  },
  {
   "cell_type": "markdown",
   "id": "ad89d7da",
   "metadata": {
    "slideshow": {
     "slide_type": "skip"
    }
   },
   "source": [
    "As we can see this classifier exhibits similar miss-calibration as before. We will use the calibration data for  calculating the correction"
   ]
  },
  {
   "cell_type": "code",
   "execution_count": 38,
   "id": "7d430b93",
   "metadata": {
    "execution": {
     "iopub.execute_input": "2021-05-05T13:58:24.159559Z",
     "iopub.status.busy": "2021-05-05T13:58:24.159078Z",
     "iopub.status.idle": "2021-05-05T13:58:24.186134Z",
     "shell.execute_reply": "2021-05-05T13:58:24.186518Z"
    },
    "slideshow": {
     "slide_type": "fragment"
    }
   },
   "outputs": [],
   "source": [
    "nb_cal_calibration_predicted_proba = nb_cal.predict_proba(calibration_data[['Height', 'Weight']])[:,1]"
   ]
  },
  {
   "cell_type": "code",
   "execution_count": 39,
   "id": "6f1ef2b3",
   "metadata": {
    "execution": {
     "iopub.execute_input": "2021-05-05T13:58:24.189561Z",
     "iopub.status.busy": "2021-05-05T13:58:24.189034Z",
     "iopub.status.idle": "2021-05-05T13:58:24.222296Z",
     "shell.execute_reply": "2021-05-05T13:58:24.222833Z"
    },
    "slideshow": {
     "slide_type": "fragment"
    }
   },
   "outputs": [],
   "source": [
    "nb_cal_calibration_q_rd = reliability_diagram(calibration_data.Gender=='Female', nb_cal_calibration_predicted_proba,\n",
    "                                                                                 n_bins=12, strategy='quantile')"
   ]
  },
  {
   "cell_type": "code",
   "execution_count": 40,
   "id": "2a0a165f",
   "metadata": {
    "execution": {
     "iopub.execute_input": "2021-05-05T13:58:24.225895Z",
     "iopub.status.busy": "2021-05-05T13:58:24.225317Z",
     "iopub.status.idle": "2021-05-05T13:58:24.251382Z",
     "shell.execute_reply": "2021-05-05T13:58:24.251778Z"
    },
    "slideshow": {
     "slide_type": "fragment"
    }
   },
   "outputs": [],
   "source": [
    "brier_nb = brier_score_loss(test_data.Gender=='Female', nb_test_predicted_proba)"
   ]
  },
  {
   "cell_type": "markdown",
   "id": "fbdcc4e6",
   "metadata": {
    "slideshow": {
     "slide_type": "skip"
    }
   },
   "source": [
    "And finally here is the effect of the correction"
   ]
  },
  {
   "cell_type": "code",
   "execution_count": 41,
   "id": "c8ba7e71",
   "metadata": {
    "execution": {
     "iopub.execute_input": "2021-05-05T13:58:24.255880Z",
     "iopub.status.busy": "2021-05-05T13:58:24.255344Z",
     "iopub.status.idle": "2021-05-05T13:58:24.431473Z",
     "shell.execute_reply": "2021-05-05T13:58:24.431805Z"
    },
    "slideshow": {
     "slide_type": "slide"
    }
   },
   "outputs": [
    {
     "data": {
      "image/png": "[encoded data removed]",
      "text/plain": [
       "<Figure size 864x576 with 1 Axes>"
      ]
     },
     "metadata": {
      "needs_background": "light"
     },
     "output_type": "display_data"
    }
   ],
   "source": [
    "f = calibration_function(calibration_data.Gender=='Female', nb_cal_calibration_predicted_proba, n_bins=12)\n",
    "nb_test_predicted_proba_cal = f(nb_cal_test_predicted_proba)\n",
    "nb_cal_test_q_rd_calibrated = reliability_diagram(test_data.Gender=='Female', nb_test_predicted_proba_cal, n_bins=12, strategy='quantile')\n",
    "fig, ax = reliability_diagram_plot()\n",
    "brier_nb_cal = brier_score_loss(test_data.Gender=='Female', nb_test_predicted_proba_cal)\n",
    "add_reliability_diagram(*nb_cal_test_q_rd, ax = ax, label='nb {:.4f}'.format(brier_nb) )\n",
    "add_reliability_diagram(*nb_cal_test_q_rd_calibrated, ax = ax, label='nb  calibrated {:.4f}'.format(brier_nb_cal), color='red' )\n",
    "ax.legend();"
   ]
  },
  {
   "cell_type": "markdown",
   "id": "ddcab3e5",
   "metadata": {
    "slideshow": {
     "slide_type": "skip"
    }
   },
   "source": [
    "The output looks fairly good but please remember that we have discretized the response of the classifier into 12 values! Also the calibration  does not make classifier better at classification. Actually it can make it  worse, at least this method :( That's because the correction function is not a strictly increasing function. And indeed the calibrated classifier has slightly worse AUC score."
   ]
  },
  {
   "cell_type": "code",
   "execution_count": 42,
   "id": "8d186fa3",
   "metadata": {
    "execution": {
     "iopub.execute_input": "2021-05-05T13:58:24.434722Z",
     "iopub.status.busy": "2021-05-05T13:58:24.434278Z",
     "iopub.status.idle": "2021-05-05T13:58:24.563971Z",
     "shell.execute_reply": "2021-05-05T13:58:24.564293Z"
    },
    "slideshow": {
     "slide_type": "slide"
    }
   },
   "outputs": [
    {
     "data": {
      "image/png": "[encoded data removed]",
      "text/plain": [
       "<Figure size 576x576 with 1 Axes>"
      ]
     },
     "metadata": {
      "needs_background": "light"
     },
     "output_type": "display_data"
    }
   ],
   "source": [
    "fig, ax = roc_plot()\n",
    "add_roc_curve(test_data.Gender=='Female', nb_test_predicted_proba, \"NB \", ax=ax)\n",
    "add_roc_curve(test_data.Gender=='Female', nb_test_predicted_proba_cal, \"NB calibrated\", ax=ax)\n",
    "ax.legend(title='AUC');"
   ]
  },
  {
   "cell_type": "markdown",
   "id": "6c6414ac",
   "metadata": {
    "slideshow": {
     "slide_type": "skip"
    }
   },
   "source": [
    "This can be corrected if we use more bins, but that means less points in each bin and so bigger errors. "
   ]
  },
  {
   "cell_type": "markdown",
   "id": "ae638756",
   "metadata": {
    "slideshow": {
     "slide_type": "skip"
    }
   },
   "source": [
    "This is only a short introduction to the topic of calibrating the classifiers. There are of course more calibration  methods besides the one I have presented. The scikit-learn library contains class `CalibratedClassifierCV` that can perform calibration using two different methods. You can read more about it [here](https://scikit-learn.org/stable/modules/calibration.html#calibration). "
   ]
  }
 ],
 "metadata": {
  "jupytext": {
   "text_representation": {
    "extension": ".Rmd",
    "format_name": "rmarkdown",
    "format_version": "1.2",
    "jupytext_version": "1.11.1"
   }
  },
  "kernelspec": {
   "display_name": "Python 3",
   "language": "python",
   "name": "python3"
  },
  "language_info": {
   "codemirror_mode": {
    "name": "ipython",
    "version": 3
   },
   "file_extension": ".py",
   "mimetype": "text/x-python",
   "name": "python",
   "nbconvert_exporter": "python",
   "pygments_lexer": "ipython3",
   "version": "3.9.2"
  }
 },
 "nbformat": 4,
 "nbformat_minor": 5
}