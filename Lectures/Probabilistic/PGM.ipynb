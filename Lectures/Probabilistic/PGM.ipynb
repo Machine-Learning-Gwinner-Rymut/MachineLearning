{
 "cells": [
  {
   "cell_type": "markdown",
   "id": "c9941e67",
   "metadata": {
    "slideshow": {
     "slide_type": "slide"
    }
   },
   "source": [
    "# Probabilistic Grapical Models"
   ]
  },
  {
   "cell_type": "markdown",
   "id": "18176712",
   "metadata": {
    "slideshow": {
     "slide_type": "skip"
    }
   },
   "source": [
    "This notebook will require installation of the new Python modules:"
   ]
  },
  {
   "cell_type": "markdown",
   "id": "1aeb7e5b",
   "metadata": {
    "slideshow": {
     "slide_type": "skip"
    }
   },
   "source": [
    "The first is the [Python graphiz module](https://graphviz.readthedocs.io/en/stable/). The module can be installed in standard way using `pip` or `conda`,   but this is a Python interface to [graphviz](https://www.graphviz.org) plotting program __that has  to be installed separately__. Please refer to the [documentation](https://www.graphviz.org/download/) for its installation instructions. "
   ]
  },
  {
   "cell_type": "markdown",
   "id": "8e2923b9",
   "metadata": {
    "slideshow": {
     "slide_type": "skip"
    }
   },
   "source": [
    "The second is the [pgmpy](https://pgmpy.org) Python library for working with graphical models (see  [this paper](https://conference.scipy.org/proceedings/scipy2015/pdfs/ankur_ankan.pdf)). "
   ]
  },
  {
   "cell_type": "markdown",
   "id": "461ad774",
   "metadata": {
    "slideshow": {
     "slide_type": "slide"
    }
   },
   "source": [
    "## Joint probability distribution"
   ]
  },
  {
   "cell_type": "markdown",
   "id": "fa5b5ee2",
   "metadata": {
    "slideshow": {
     "slide_type": "skip"
    }
   },
   "source": [
    "In this notebook we will take a more general view of the generative approach we have been following so far.\n",
    "Please recall that the starting point for generative models is a _joint probability distribution_ for all the random variables considered in the model"
   ]
  },
  {
   "cell_type": "markdown",
   "id": "f415219b",
   "metadata": {
    "slideshow": {
     "slide_type": "fragment"
    }
   },
   "source": [
    "$$\\newcommand{\\b}[1]{\\mathbf{#1}}$$\n",
    "$$P(\\b X_1=\\b x_1, \\ldots, \\b X_N=\\b x_N)$$"
   ]
  },
  {
   "cell_type": "markdown",
   "id": "b2fa0533",
   "metadata": {
    "slideshow": {
     "slide_type": "skip"
    }
   },
   "source": [
    "This notation is not strictly speaking correct for the continous variables, but the idea is the same. For the moment, without any loss of generality you can assume that   all variables are  discrete.  "
   ]
  },
  {
   "cell_type": "markdown",
   "id": "9dbad1c4",
   "metadata": {
    "slideshow": {
     "slide_type": "skip"
    }
   },
   "source": [
    "We can distinguish  three separate issues concerning this distribution:"
   ]
  },
  {
   "cell_type": "markdown",
   "id": "d2ff6ae6",
   "metadata": {
    "slideshow": {
     "slide_type": "slide"
    }
   },
   "source": [
    "### Representation"
   ]
  },
  {
   "cell_type": "markdown",
   "id": "908de95d",
   "metadata": {
    "slideshow": {
     "slide_type": "skip"
    }
   },
   "source": [
    "First issue is how do we represent this distribution. \n",
    "For discrete (and finite) random variables we can in principle just make a big table containig  all possible values of random variables with corresponding probabilities. In practice this only possible for rather small systems. If variable $\\b X_i$ has $n_i$ distinct possible values then we need"
   ]
  },
  {
   "cell_type": "markdown",
   "id": "49350997",
   "metadata": {
    "slideshow": {
     "slide_type": "fragment"
    }
   },
   "source": [
    "$$\\prod_{i=1}^N n_i - 1 $$"
   ]
  },
  {
   "cell_type": "markdown",
   "id": "2d76992e",
   "metadata": {
    "slideshow": {
     "slide_type": "skip"
    }
   },
   "source": [
    "parameters. For _e.g._  ten variables with five values each this already gives  almost ten million parameters"
   ]
  },
  {
   "cell_type": "code",
   "execution_count": 1,
   "id": "76883c16",
   "metadata": {
    "execution": {
     "iopub.execute_input": "2021-05-12T12:44:08.079571Z",
     "iopub.status.busy": "2021-05-12T12:44:08.078846Z",
     "iopub.status.idle": "2021-05-12T12:44:08.081827Z",
     "shell.execute_reply": "2021-05-12T12:44:08.082230Z"
    },
    "slideshow": {
     "slide_type": "fragment"
    }
   },
   "outputs": [
    {
     "data": {
      "text/plain": [
       "9765625"
      ]
     },
     "execution_count": 1,
     "metadata": {},
     "output_type": "execute_result"
    }
   ],
   "source": [
    "5**10"
   ]
  },
  {
   "cell_type": "markdown",
   "id": "f4d27a61",
   "metadata": {
    "slideshow": {
     "slide_type": "skip"
    }
   },
   "source": [
    "Specyfying that number of the parameters by human experts would be clearly impossible. They could be learned, but that would require a large amount of data. "
   ]
  },
  {
   "cell_type": "markdown",
   "id": "35afa80f",
   "metadata": {
    "slideshow": {
     "slide_type": "slide"
    }
   },
   "source": [
    "#### Naive Bayes"
   ]
  },
  {
   "cell_type": "markdown",
   "id": "b106029f",
   "metadata": {
    "slideshow": {
     "slide_type": "skip"
    }
   },
   "source": [
    "But often our model has an internal structure that greatly reduces the number of required parameters. Let's take the Naive Bayes as example. Let's assume that all the variables are conditionally independent conditioned on the variable $\\b X_1$. How many parameters we now need? Please try to answer this question by yourself without looking at the answer below."
   ]
  },
  {
   "cell_type": "markdown",
   "id": "311c11c5",
   "metadata": {
    "jupyter": {
     "source_hidden": true
    },
    "slideshow": {
     "slide_type": "skip"
    },
    "tags": [
     "answer"
    ]
   },
   "source": [
    "Under naive Bayes assumptions "
   ]
  },
  {
   "cell_type": "markdown",
   "id": "529eb4b7",
   "metadata": {
    "jupyter": {
     "source_hidden": true
    },
    "slideshow": {
     "slide_type": "fragment"
    },
    "tags": [
     "answer"
    ]
   },
   "source": [
    "$$\n",
    "\\begin{align}P(\\b X_1=\\b x_1, \\ldots, \\b X_N=\\b x_N)&=P(\\b X_2=\\b x_2, \\ldots, \\b X_N=\\b x_N|\\b X_1 = \\b x_1)P(\\b X_1=\\b x_1)\\\\\n",
    "&=P(\\b X_1=\\b x_1)\\prod_{i=2}^N P(\\b X_i=\\b x_i|\\b X_1=\\b x_1)\\end{align}\n",
    "$$"
   ]
  },
  {
   "cell_type": "markdown",
   "id": "fee6a308",
   "metadata": {
    "jupyter": {
     "source_hidden": true
    },
    "slideshow": {
     "slide_type": "fragment"
    },
    "tags": [
     "answer"
    ]
   },
   "source": [
    "$P(\\b X_1=\\b x_1)$ requires $n_1-1$ parameters and each $P(\\b X_i=\\b x_i|\\b X_1=\\b x_1)$ requires $n_1\\times(n_i-1)$ parameters. "
   ]
  },
  {
   "cell_type": "markdown",
   "id": "6aee86ce",
   "metadata": {
    "jupyter": {
     "source_hidden": true
    },
    "slideshow": {
     "slide_type": "skip"
    },
    "tags": [
     "answer"
    ]
   },
   "source": [
    "Together this gives "
   ]
  },
  {
   "cell_type": "markdown",
   "id": "24281cf3",
   "metadata": {
    "jupyter": {
     "source_hidden": true
    },
    "slideshow": {
     "slide_type": "fragment"
    },
    "tags": [
     "answer"
    ]
   },
   "source": [
    "$$ n_1 \\times \\left(\\sum_{i=2}^N (n_i-1)+1\\right) -1 = n_1 \\times \\left(\\sum_{i=2}^N n_i -N+2\\right) -1$$"
   ]
  },
  {
   "cell_type": "markdown",
   "id": "32e8e41a",
   "metadata": {
    "slideshow": {
     "slide_type": "skip"
    }
   },
   "source": [
    "Using the same example of ten variables with five values each we obtain"
   ]
  },
  {
   "cell_type": "code",
   "execution_count": 2,
   "id": "82ac5224",
   "metadata": {
    "execution": {
     "iopub.execute_input": "2021-05-12T12:44:08.086016Z",
     "iopub.status.busy": "2021-05-12T12:44:08.085393Z",
     "iopub.status.idle": "2021-05-12T12:44:08.087858Z",
     "shell.execute_reply": "2021-05-12T12:44:08.088259Z"
    },
    "slideshow": {
     "slide_type": "fragment"
    }
   },
   "outputs": [
    {
     "data": {
      "text/plain": [
       "59"
      ]
     },
     "execution_count": 2,
     "metadata": {},
     "output_type": "execute_result"
    }
   ],
   "source": [
    "5*(4*5-10+2)-1"
   ]
  },
  {
   "cell_type": "markdown",
   "id": "78ef68ee",
   "metadata": {
    "slideshow": {
     "slide_type": "skip"
    }
   },
   "source": [
    "A huge  decrease by __five orders__ of magnitude! "
   ]
  },
  {
   "cell_type": "markdown",
   "id": "4b82247e",
   "metadata": {
    "slideshow": {
     "slide_type": "skip"
    }
   },
   "source": [
    "While the naive Bayes is an extreme example, in general every independence relation decreases the number  of parameters needed. As we will see modeling the (in)dependecies between the variables can quite intuitively be done using graphical models.  "
   ]
  },
  {
   "cell_type": "markdown",
   "id": "f664410d",
   "metadata": {
    "slideshow": {
     "slide_type": "slide"
    }
   },
   "source": [
    "### Learning"
   ]
  },
  {
   "cell_type": "markdown",
   "id": "394ac416",
   "metadata": {
    "slideshow": {
     "slide_type": "skip"
    }
   },
   "source": [
    "Once we decide on the representation we have to estimate the parameters of the distributions.  In this notebook we will be less concentrated on learning as on the other two aspects. "
   ]
  },
  {
   "cell_type": "markdown",
   "id": "b0744493",
   "metadata": {
    "slideshow": {
     "slide_type": "slide"
    }
   },
   "source": [
    "### Inference"
   ]
  },
  {
   "cell_type": "markdown",
   "id": "124a53b9",
   "metadata": {
    "slideshow": {
     "slide_type": "skip"
    }
   },
   "source": [
    "Assuming that we have our learned representation of the joint probability distribution function the last problem is the _inference_, that is extracting an useful information out of it. "
   ]
  },
  {
   "cell_type": "markdown",
   "id": "38421c93",
   "metadata": {
    "slideshow": {
     "slide_type": "slide"
    }
   },
   "source": [
    "#### Probability query"
   ]
  },
  {
   "cell_type": "markdown",
   "id": "45c5bb15",
   "metadata": {
    "slideshow": {
     "slide_type": "skip"
    }
   },
   "source": [
    "A typical task is a _probability query_: given _evidence_ that is a subset of $m$ variables "
   ]
  },
  {
   "cell_type": "markdown",
   "id": "6f248be1",
   "metadata": {
    "slideshow": {
     "slide_type": "fragment"
    }
   },
   "source": [
    "$$\\b E=\\{\\b X_{i_1},\\ldots,\\b X_{i_m}\\}$$"
   ]
  },
  {
   "cell_type": "markdown",
   "id": "7c6a9bea",
   "metadata": {
    "slideshow": {
     "slide_type": "skip"
    }
   },
   "source": [
    "together with an instantiations of each variable "
   ]
  },
  {
   "cell_type": "markdown",
   "id": "55ca7344",
   "metadata": {
    "slideshow": {
     "slide_type": "fragment"
    }
   },
   "source": [
    "$$\\b e = \\{\\b x_{i_1},\\ldots,\\b x_{i_m}\\}$$"
   ]
  },
  {
   "cell_type": "markdown",
   "id": "cac3d4fb",
   "metadata": {
    "slideshow": {
     "slide_type": "skip"
    }
   },
   "source": [
    "and $k$  _query variables_ "
   ]
  },
  {
   "cell_type": "markdown",
   "id": "a1671eec",
   "metadata": {
    "slideshow": {
     "slide_type": "fragment"
    }
   },
   "source": [
    "$$\\b Y=\\{\\b X_{j_1},\\ldots,\\b X_{j_k}\\}$$"
   ]
  },
  {
   "cell_type": "markdown",
   "id": "7aa6a901",
   "metadata": {
    "slideshow": {
     "slide_type": "skip"
    }
   },
   "source": [
    "we are asking what is the distribution of $\\b Y$ given $\\b E$"
   ]
  },
  {
   "cell_type": "markdown",
   "id": "517792ff",
   "metadata": {
    "slideshow": {
     "slide_type": "fragment"
    }
   },
   "source": [
    "$$P(\\b Y| \\b E = \\b e)$$ "
   ]
  },
  {
   "cell_type": "markdown",
   "id": "9e8979a9",
   "metadata": {
    "slideshow": {
     "slide_type": "skip"
    }
   },
   "source": [
    "If we denote by $\\b Z$ the set of variables not in $\\b Y$ or $\\b E$ then the above distribution can be written as"
   ]
  },
  {
   "cell_type": "markdown",
   "id": "d5017728",
   "metadata": {
    "slideshow": {
     "slide_type": "fragment"
    }
   },
   "source": [
    "$$\\sum_{\\b z} P(\\b Y = \\b y,\\b Z = \\b z|\\b E = \\b e)$$"
   ]
  },
  {
   "cell_type": "markdown",
   "id": "703968f9",
   "metadata": {
    "slideshow": {
     "slide_type": "slide"
    }
   },
   "source": [
    "#### MAP query"
   ]
  },
  {
   "cell_type": "markdown",
   "id": "913e7e7a",
   "metadata": {
    "slideshow": {
     "slide_type": "skip"
    }
   },
   "source": [
    "Another type is the _MAP query_ (Maximal \"a posteriori\"). Given the joint probability distribution $P(\\b X_1, \\ldots,\\b X_N)$ and evidence $\\b E = \\b e$ we are looking for the values of the remaining (non-evidence) variables"
   ]
  },
  {
   "cell_type": "markdown",
   "id": "63de600e",
   "metadata": {
    "slideshow": {
     "slide_type": "fragment"
    }
   },
   "source": [
    "$$\\b W = \\b X \\setminus \\b E = \\{\\b X_i:i\\neq i_1,\\ldots,i_m\\}$$"
   ]
  },
  {
   "cell_type": "markdown",
   "id": "5df7d89f",
   "metadata": {
    "slideshow": {
     "slide_type": "skip"
    }
   },
   "source": [
    "that maximize the probability"
   ]
  },
  {
   "cell_type": "markdown",
   "id": "d8232032",
   "metadata": {
    "slideshow": {
     "slide_type": "fragment"
    }
   },
   "source": [
    "$$MAP(\\b W| \\b e) = \\underset{\\b w}{\\operatorname{arg max}}P(\\b W = \\b w|\\b E = \\b e)$$"
   ]
  },
  {
   "cell_type": "markdown",
   "id": "223c3003",
   "metadata": {
    "slideshow": {
     "slide_type": "slide"
    }
   },
   "source": [
    "#### Marginal MAP query"
   ]
  },
  {
   "cell_type": "markdown",
   "id": "12dfa8e0",
   "metadata": {
    "slideshow": {
     "slide_type": "skip"
    }
   },
   "source": [
    "The marginal MAP query is the generalisation of the MAP query to the case when there are some variables $\\b Z$ that we want to sum over $\\b X =  \\b Y \\cup \\b Z \\cup \\b E$."
   ]
  },
  {
   "cell_type": "markdown",
   "id": "67258171",
   "metadata": {
    "slideshow": {
     "slide_type": "fragment"
    }
   },
   "source": [
    "$$MAP(\\b Y| \\b e) = \\underset{\\b y}{\\operatorname{arg max}}\\sum_{\\b z} P(\\b Y = \\b y,\\b Z = \\b z|\\b E = \\b e)$$"
   ]
  },
  {
   "cell_type": "markdown",
   "id": "40d4e530",
   "metadata": {
    "slideshow": {
     "slide_type": "skip"
    }
   },
   "source": [
    "Please note that running a MAP query is not the same as running several marginal MAP queries as exemplified by the problem below."
   ]
  },
  {
   "cell_type": "markdown",
   "id": "d8a3cb0e",
   "metadata": {
    "slideshow": {
     "slide_type": "slide"
    },
    "tags": [
     "problem"
    ]
   },
   "source": [
    "#### Problem\n",
    "\n",
    "Let $X$ and $Y$ be two discrete random variables taking values $0$ and $1$. Give an example of joint probability distribution $P(X=x, Y=y)$ such that"
   ]
  },
  {
   "cell_type": "markdown",
   "id": "6b8ed26b",
   "metadata": {
    "slideshow": {
     "slide_type": "-"
    },
    "tags": [
     "problem"
    ]
   },
   "source": [
    "$$(x_m,y_m) = \\underset{x,y}{\\operatorname{arg max}} P(X=x, Y=y),\\quad x_M = \\underset{x}{\\operatorname{arg max}} \\sum_y P(X=x, Y=y)$$"
   ]
  },
  {
   "cell_type": "markdown",
   "id": "9415dedf",
   "metadata": {
    "slideshow": {
     "slide_type": "skip"
    },
    "tags": [
     "problem"
    ]
   },
   "source": [
    "and "
   ]
  },
  {
   "cell_type": "markdown",
   "id": "87f1ceed",
   "metadata": {
    "tags": [
     "problem"
    ]
   },
   "source": [
    "$$x_m\\neq x_M$$"
   ]
  },
  {
   "cell_type": "markdown",
   "id": "f6d57a91",
   "metadata": {
    "jupyter": {
     "source_hidden": true
    },
    "slideshow": {
     "slide_type": "skip"
    },
    "tags": [
     "answer"
    ]
   },
   "source": [
    "$$\\begin{array}{c|cc|c}\n",
    " & Y=0& Y=1 &\\\\\\hline\n",
    "X=0 & 0.10 & 0.35& 0.45\\\\\n",
    "X=1 & 0.25 & 0.30& 0.55\n",
    "\\end{array}\n",
    "$$ "
   ]
  },
  {
   "cell_type": "markdown",
   "id": "696ed514",
   "metadata": {
    "slideshow": {
     "slide_type": "slide"
    }
   },
   "source": [
    "### Gender from height and weight"
   ]
  },
  {
   "cell_type": "markdown",
   "id": "466db37b",
   "metadata": {
    "slideshow": {
     "slide_type": "skip"
    }
   },
   "source": [
    "So consider our standard  sex from height and weight example. The joint probability distribution is  a function of three variables"
   ]
  },
  {
   "cell_type": "markdown",
   "id": "63fece47",
   "metadata": {
    "slideshow": {
     "slide_type": "fragment"
    }
   },
   "source": [
    "$$P(h,w,s)$$"
   ]
  },
  {
   "cell_type": "markdown",
   "id": "89be250e",
   "metadata": {
    "slideshow": {
     "slide_type": "skip"
    }
   },
   "source": [
    "Without any loss of information we can represent it as"
   ]
  },
  {
   "cell_type": "markdown",
   "id": "e74b8696",
   "metadata": {
    "slideshow": {
     "slide_type": "fragment"
    }
   },
   "source": [
    "$$P(h,w,s)= P(h,w|s)P(s)$$"
   ]
  },
  {
   "cell_type": "markdown",
   "id": "c77074a0",
   "metadata": {
    "slideshow": {
     "slide_type": "fragment"
    }
   },
   "source": [
    "$$P(h,bmi,s)= P(h,bmi|s)P(s)$$"
   ]
  },
  {
   "cell_type": "markdown",
   "id": "cfd330d0",
   "metadata": {
    "slideshow": {
     "slide_type": "skip"
    }
   },
   "source": [
    "Sex  is a discrete (binary) random variable so  it is characterised by one number: $P(S=female)$. To proceed further we had to make some assumptions on the form of the conditional probability $P(h,w|s)$. We have so far assumed that this is a normal distribution. "
   ]
  },
  {
   "cell_type": "markdown",
   "id": "447fa225",
   "metadata": {
    "slideshow": {
     "slide_type": "skip"
    }
   },
   "source": [
    "In case of the naive bayes classifier we have additionally assumed that height and BMI are conditionally independent"
   ]
  },
  {
   "cell_type": "markdown",
   "id": "269dcd56",
   "metadata": {},
   "source": [
    "#### Naive Bayes"
   ]
  },
  {
   "cell_type": "markdown",
   "id": "5990d1e8",
   "metadata": {
    "slideshow": {
     "slide_type": "fragment"
    }
   },
   "source": [
    "$$P(h,bmi|s)= P(h|s)P(bmi|s)$$"
   ]
  },
  {
   "cell_type": "markdown",
   "id": "174c0e57",
   "metadata": {
    "slideshow": {
     "slide_type": "skip"
    }
   },
   "source": [
    "Once we have choosen the representation the learning consisted of estimating the parameters of the distributions. "
   ]
  },
  {
   "cell_type": "markdown",
   "id": "dbd5744f",
   "metadata": {
    "slideshow": {
     "slide_type": "skip"
    }
   },
   "source": [
    "And finally the inference amounted to calculating probability "
   ]
  },
  {
   "cell_type": "markdown",
   "id": "923067f3",
   "metadata": {
    "slideshow": {
     "slide_type": "fragment"
    }
   },
   "source": [
    "$$P(s=female|\\underbrace{h,bmi}_{\\text{evidence}})$$"
   ]
  },
  {
   "cell_type": "markdown",
   "id": "4c4edc1d",
   "metadata": {
    "slideshow": {
     "slide_type": "skip"
    }
   },
   "source": [
    "In this case sex was the query variable and height and weight the evidence. In this example we could easilly calculate it directly using the Bayes theorem."
   ]
  },
  {
   "cell_type": "markdown",
   "id": "2f5797f5",
   "metadata": {
    "slideshow": {
     "slide_type": "slide"
    }
   },
   "source": [
    "## Graphical models: Bayes Nets"
   ]
  },
  {
   "cell_type": "markdown",
   "id": "833f4426",
   "metadata": {
    "slideshow": {
     "slide_type": "skip"
    }
   },
   "source": [
    "In this very simple example we could manipulate all the formulas directly. For more complicated examples it is useful to use the _graphical notation_. In this notation we represent the joint probability distribution as _directed_ graph."
   ]
  },
  {
   "cell_type": "markdown",
   "id": "009102ae",
   "metadata": {
    "slideshow": {
     "slide_type": "skip"
    }
   },
   "source": [
    "The nodes represent the random variables and edges the conditional probability distribution. The arrows point from _parent_ nodes to the _child_ nodes. The variable in the child node is conditionally dependent on all variables in the parent nodes. "
   ]
  },
  {
   "cell_type": "markdown",
   "id": "012a31d5",
   "metadata": {
    "slideshow": {
     "slide_type": "skip"
    }
   },
   "source": [
    "So for the sex from height and weight we would have the following rather simple graph"
   ]
  },
  {
   "cell_type": "code",
   "execution_count": 3,
   "id": "36497212",
   "metadata": {
    "execution": {
     "iopub.execute_input": "2021-05-12T12:44:08.091477Z",
     "iopub.status.busy": "2021-05-12T12:44:08.090942Z",
     "iopub.status.idle": "2021-05-12T12:44:08.095668Z",
     "shell.execute_reply": "2021-05-12T12:44:08.096055Z"
    },
    "slideshow": {
     "slide_type": "fragment"
    }
   },
   "outputs": [],
   "source": [
    "import graphviz"
   ]
  },
  {
   "cell_type": "code",
   "execution_count": 4,
   "id": "6e5c4e1d",
   "metadata": {
    "execution": {
     "iopub.execute_input": "2021-05-12T12:44:08.100453Z",
     "iopub.status.busy": "2021-05-12T12:44:08.099864Z",
     "iopub.status.idle": "2021-05-12T12:44:08.101589Z",
     "shell.execute_reply": "2021-05-12T12:44:08.101966Z"
    },
    "slideshow": {
     "slide_type": "-"
    }
   },
   "outputs": [],
   "source": [
    "shw = graphviz.Digraph(node_attr = {'shape': 'circle'})\n",
    "shw.attr('node', fixedsize='true')\n",
    "shw.node('S')\n",
    "shw.node('HW','H,W')\n",
    "shw.edge('S','HW')"
   ]
  },
  {
   "cell_type": "code",
   "execution_count": 5,
   "id": "a57976b3",
   "metadata": {
    "execution": {
     "iopub.execute_input": "2021-05-12T12:44:08.106846Z",
     "iopub.status.busy": "2021-05-12T12:44:08.106287Z",
     "iopub.status.idle": "2021-05-12T12:44:08.305597Z",
     "shell.execute_reply": "2021-05-12T12:44:08.305926Z"
    },
    "slideshow": {
     "slide_type": "-"
    }
   },
   "outputs": [
    {
     "data": {
      "image/svg+xml": [
       "<?xml version=\"1.0\" encoding=\"UTF-8\" standalone=\"no\"?>\n",
       "<!DOCTYPE svg PUBLIC \"-//W3C//DTD SVG 1.1//EN\"\n",
       " \"http://www.w3.org/Graphics/SVG/1.1/DTD/svg11.dtd\">\n",
       "<!-- Generated by graphviz version 2.47.1 (0)\n",
       " -->\n",
       "<!-- Pages: 1 -->\n",
       "<svg width=\"44pt\" height=\"116pt\"\n",
       " viewBox=\"0.00 0.00 44.00 116.00\" xmlns=\"http://www.w3.org/2000/svg\" xmlns:xlink=\"http://www.w3.org/1999/xlink\">\n",
       "<g id=\"graph0\" class=\"graph\" transform=\"scale(1 1) rotate(0) translate(4 112)\">\n",
       "<polygon fill=\"white\" stroke=\"transparent\" points=\"-4,4 -4,-112 40,-112 40,4 -4,4\"/>\n",
       "<!-- S -->\n",
       "<g id=\"node1\" class=\"node\">\n",
       "<title>S</title>\n",
       "<ellipse fill=\"none\" stroke=\"black\" cx=\"18\" cy=\"-90\" rx=\"18\" ry=\"18\"/>\n",
       "<text text-anchor=\"middle\" x=\"18\" y=\"-86.3\" font-family=\"Times,serif\" font-size=\"14.00\">S</text>\n",
       "</g>\n",
       "<!-- HW -->\n",
       "<g id=\"node2\" class=\"node\">\n",
       "<title>HW</title>\n",
       "<ellipse fill=\"none\" stroke=\"black\" cx=\"18\" cy=\"-18\" rx=\"18\" ry=\"18\"/>\n",
       "<text text-anchor=\"middle\" x=\"18\" y=\"-14.3\" font-family=\"Times,serif\" font-size=\"14.00\">H,W</text>\n",
       "</g>\n",
       "<!-- S&#45;&gt;HW -->\n",
       "<g id=\"edge1\" class=\"edge\">\n",
       "<title>S&#45;&gt;HW</title>\n",
       "<path fill=\"none\" stroke=\"black\" d=\"M18,-71.7C18,-63.98 18,-54.71 18,-46.11\"/>\n",
       "<polygon fill=\"black\" stroke=\"black\" points=\"21.5,-46.1 18,-36.1 14.5,-46.1 21.5,-46.1\"/>\n",
       "</g>\n",
       "</g>\n",
       "</svg>\n"
      ],
      "text/plain": [
       "<graphviz.dot.Digraph at 0x102e3cb20>"
      ]
     },
     "execution_count": 5,
     "metadata": {},
     "output_type": "execute_result"
    }
   ],
   "source": [
    "shw"
   ]
  },
  {
   "cell_type": "markdown",
   "id": "1ddb73a0",
   "metadata": {
    "slideshow": {
     "slide_type": "skip"
    }
   },
   "source": [
    "Sometimes it is useful to show the explicit dependence of the $P(h,w|s)$ on the parameters"
   ]
  },
  {
   "cell_type": "markdown",
   "id": "265de423",
   "metadata": {
    "slideshow": {
     "slide_type": "skip"
    }
   },
   "source": [
    "When considering the inference it is customary to show the evidence by coloring the apropriate  nodes"
   ]
  },
  {
   "cell_type": "code",
   "execution_count": 6,
   "id": "50c3b449",
   "metadata": {
    "execution": {
     "iopub.execute_input": "2021-05-12T12:44:08.309660Z",
     "iopub.status.busy": "2021-05-12T12:44:08.309194Z",
     "iopub.status.idle": "2021-05-12T12:44:08.311039Z",
     "shell.execute_reply": "2021-05-12T12:44:08.311442Z"
    },
    "slideshow": {
     "slide_type": "skip"
    }
   },
   "outputs": [],
   "source": [
    "shw = graphviz.Digraph(node_attr = {'shape': 'circle'})\n",
    "shw.node('S',)\n",
    "shw.attr('node', style='filled', fillcolor='#dfdfdf',fixedsize='true')\n",
    "shw.node('HW','H,W')\n",
    "shw.edge('S','HW')"
   ]
  },
  {
   "cell_type": "code",
   "execution_count": 7,
   "id": "9637c807",
   "metadata": {
    "execution": {
     "iopub.execute_input": "2021-05-12T12:44:08.314499Z",
     "iopub.status.busy": "2021-05-12T12:44:08.314038Z",
     "iopub.status.idle": "2021-05-12T12:44:08.504672Z",
     "shell.execute_reply": "2021-05-12T12:44:08.505049Z"
    },
    "slideshow": {
     "slide_type": "fragment"
    }
   },
   "outputs": [
    {
     "data": {
      "image/svg+xml": [
       "<?xml version=\"1.0\" encoding=\"UTF-8\" standalone=\"no\"?>\n",
       "<!DOCTYPE svg PUBLIC \"-//W3C//DTD SVG 1.1//EN\"\n",
       " \"http://www.w3.org/Graphics/SVG/1.1/DTD/svg11.dtd\">\n",
       "<!-- Generated by graphviz version 2.47.1 (0)\n",
       " -->\n",
       "<!-- Pages: 1 -->\n",
       "<svg width=\"44pt\" height=\"116pt\"\n",
       " viewBox=\"0.00 0.00 44.00 116.00\" xmlns=\"http://www.w3.org/2000/svg\" xmlns:xlink=\"http://www.w3.org/1999/xlink\">\n",
       "<g id=\"graph0\" class=\"graph\" transform=\"scale(1 1) rotate(0) translate(4 112)\">\n",
       "<polygon fill=\"white\" stroke=\"transparent\" points=\"-4,4 -4,-112 40,-112 40,4 -4,4\"/>\n",
       "<!-- S -->\n",
       "<g id=\"node1\" class=\"node\">\n",
       "<title>S</title>\n",
       "<ellipse fill=\"none\" stroke=\"black\" cx=\"18\" cy=\"-90\" rx=\"18\" ry=\"18\"/>\n",
       "<text text-anchor=\"middle\" x=\"18\" y=\"-86.3\" font-family=\"Times,serif\" font-size=\"14.00\">S</text>\n",
       "</g>\n",
       "<!-- HW -->\n",
       "<g id=\"node2\" class=\"node\">\n",
       "<title>HW</title>\n",
       "<ellipse fill=\"#dfdfdf\" stroke=\"black\" cx=\"18\" cy=\"-18\" rx=\"18\" ry=\"18\"/>\n",
       "<text text-anchor=\"middle\" x=\"18\" y=\"-14.3\" font-family=\"Times,serif\" font-size=\"14.00\">H,W</text>\n",
       "</g>\n",
       "<!-- S&#45;&gt;HW -->\n",
       "<g id=\"edge1\" class=\"edge\">\n",
       "<title>S&#45;&gt;HW</title>\n",
       "<path fill=\"none\" stroke=\"black\" d=\"M18,-71.7C18,-63.98 18,-54.71 18,-46.11\"/>\n",
       "<polygon fill=\"black\" stroke=\"black\" points=\"21.5,-46.1 18,-36.1 14.5,-46.1 21.5,-46.1\"/>\n",
       "</g>\n",
       "</g>\n",
       "</svg>\n"
      ],
      "text/plain": [
       "<graphviz.dot.Digraph at 0x102d802e0>"
      ]
     },
     "execution_count": 7,
     "metadata": {},
     "output_type": "execute_result"
    }
   ],
   "source": [
    "shw"
   ]
  },
  {
   "cell_type": "markdown",
   "id": "23d5443c",
   "metadata": {
    "slideshow": {
     "slide_type": "skip"
    }
   },
   "source": [
    "In case of the naive Bayes we have additional independence assumption and the graph looks as follow"
   ]
  },
  {
   "cell_type": "code",
   "execution_count": 8,
   "id": "996cb7cc",
   "metadata": {
    "execution": {
     "iopub.execute_input": "2021-05-12T12:44:08.508791Z",
     "iopub.status.busy": "2021-05-12T12:44:08.508347Z",
     "iopub.status.idle": "2021-05-12T12:44:08.510199Z",
     "shell.execute_reply": "2021-05-12T12:44:08.510664Z"
    },
    "slideshow": {
     "slide_type": "skip"
    }
   },
   "outputs": [],
   "source": [
    "shw = graphviz.Digraph(node_attr = {'shape': 'circle'})\n",
    "shw.node('S',)\n",
    "shw.attr('node', style='filled', fillcolor='#dfdfdf', fixedsize='true')\n",
    "shw.node('H','H')\n",
    "shw.node('W','BMI')\n",
    "shw.edge('S','H')\n",
    "shw.edge('S','W')"
   ]
  },
  {
   "cell_type": "code",
   "execution_count": 9,
   "id": "298f00c0",
   "metadata": {
    "execution": {
     "iopub.execute_input": "2021-05-12T12:44:08.515200Z",
     "iopub.status.busy": "2021-05-12T12:44:08.514616Z",
     "iopub.status.idle": "2021-05-12T12:44:08.702263Z",
     "shell.execute_reply": "2021-05-12T12:44:08.702827Z"
    },
    "slideshow": {
     "slide_type": "fragment"
    }
   },
   "outputs": [
    {
     "data": {
      "image/svg+xml": [
       "<?xml version=\"1.0\" encoding=\"UTF-8\" standalone=\"no\"?>\n",
       "<!DOCTYPE svg PUBLIC \"-//W3C//DTD SVG 1.1//EN\"\n",
       " \"http://www.w3.org/Graphics/SVG/1.1/DTD/svg11.dtd\">\n",
       "<!-- Generated by graphviz version 2.47.1 (0)\n",
       " -->\n",
       "<!-- Pages: 1 -->\n",
       "<svg width=\"98pt\" height=\"116pt\"\n",
       " viewBox=\"0.00 0.00 98.00 116.00\" xmlns=\"http://www.w3.org/2000/svg\" xmlns:xlink=\"http://www.w3.org/1999/xlink\">\n",
       "<g id=\"graph0\" class=\"graph\" transform=\"scale(1 1) rotate(0) translate(4 112)\">\n",
       "<polygon fill=\"white\" stroke=\"transparent\" points=\"-4,4 -4,-112 94,-112 94,4 -4,4\"/>\n",
       "<!-- S -->\n",
       "<g id=\"node1\" class=\"node\">\n",
       "<title>S</title>\n",
       "<ellipse fill=\"none\" stroke=\"black\" cx=\"45\" cy=\"-90\" rx=\"18\" ry=\"18\"/>\n",
       "<text text-anchor=\"middle\" x=\"45\" y=\"-86.3\" font-family=\"Times,serif\" font-size=\"14.00\">S</text>\n",
       "</g>\n",
       "<!-- H -->\n",
       "<g id=\"node2\" class=\"node\">\n",
       "<title>H</title>\n",
       "<ellipse fill=\"#dfdfdf\" stroke=\"black\" cx=\"18\" cy=\"-18\" rx=\"18\" ry=\"18\"/>\n",
       "<text text-anchor=\"middle\" x=\"18\" y=\"-14.3\" font-family=\"Times,serif\" font-size=\"14.00\">H</text>\n",
       "</g>\n",
       "<!-- S&#45;&gt;H -->\n",
       "<g id=\"edge1\" class=\"edge\">\n",
       "<title>S&#45;&gt;H</title>\n",
       "<path fill=\"none\" stroke=\"black\" d=\"M38.74,-72.76C35.5,-64.37 31.47,-53.93 27.83,-44.5\"/>\n",
       "<polygon fill=\"black\" stroke=\"black\" points=\"31.09,-43.22 24.23,-35.15 24.56,-45.74 31.09,-43.22\"/>\n",
       "</g>\n",
       "<!-- W -->\n",
       "<g id=\"node3\" class=\"node\">\n",
       "<title>W</title>\n",
       "<ellipse fill=\"#dfdfdf\" stroke=\"black\" cx=\"72\" cy=\"-18\" rx=\"18\" ry=\"18\"/>\n",
       "<text text-anchor=\"middle\" x=\"72\" y=\"-14.3\" font-family=\"Times,serif\" font-size=\"14.00\">BMI</text>\n",
       "</g>\n",
       "<!-- S&#45;&gt;W -->\n",
       "<g id=\"edge2\" class=\"edge\">\n",
       "<title>S&#45;&gt;W</title>\n",
       "<path fill=\"none\" stroke=\"black\" d=\"M51.26,-72.76C54.5,-64.37 58.53,-53.93 62.17,-44.5\"/>\n",
       "<polygon fill=\"black\" stroke=\"black\" points=\"65.44,-45.74 65.77,-35.15 58.91,-43.22 65.44,-45.74\"/>\n",
       "</g>\n",
       "</g>\n",
       "</svg>\n"
      ],
      "text/plain": [
       "<graphviz.dot.Digraph at 0x102e3cfd0>"
      ]
     },
     "execution_count": 9,
     "metadata": {},
     "output_type": "execute_result"
    }
   ],
   "source": [
    "shw"
   ]
  },
  {
   "cell_type": "markdown",
   "id": "5eaee547",
   "metadata": {
    "slideshow": {
     "slide_type": "slide"
    }
   },
   "source": [
    "## Monty Hall problem"
   ]
  },
  {
   "cell_type": "markdown",
   "id": "fc872289",
   "metadata": {
    "slideshow": {
     "slide_type": "fragment"
    }
   },
   "source": [
    "As another example consider the \"famous\" [Monty Hall](https://en.wikipedia.org/wiki/Monty_Hall_problem) problem: The host shows you three identical doors, behind one of the doors there is a prize (car). Host  ask you to pick up one of them, but does not open it. Afterwards he pics one of the  two remaining doors and opens it to show that there is no prize behind. Then he let's you switch your choice with the one remaining door. Should you do it? "
   ]
  },
  {
   "cell_type": "markdown",
   "id": "8d28b5e6",
   "metadata": {
    "slideshow": {
     "slide_type": "skip"
    }
   },
   "source": [
    "The puzzle is simple enough to be solved by considering all the possible cases. Please try to do it without looking at the answer."
   ]
  },
  {
   "cell_type": "markdown",
   "id": "6dea569f",
   "metadata": {
    "jupyter": {
     "source_hidden": true
    },
    "slideshow": {
     "slide_type": "skip"
    },
    "tags": [
     "answer"
    ]
   },
   "source": [
    " 1. With probability 1/3 you have  picked the door with the prize. Both remaining doors lead to empty rooms so the probability that the prize is in the other door is zero.\n",
    " 2. With probability 2/3 you have  picked the door without the prize. The host opens the second door without the prize so the probability that the prize is in the other door is one."
   ]
  },
  {
   "cell_type": "markdown",
   "id": "475ebbe8",
   "metadata": {
    "jupyter": {
     "source_hidden": true
    },
    "slideshow": {
     "slide_type": "skip"
    },
    "tags": [
     "answer"
    ]
   },
   "source": [
    "Combining this together gives us "
   ]
  },
  {
   "cell_type": "markdown",
   "id": "832802df",
   "metadata": {
    "jupyter": {
     "source_hidden": true
    },
    "slideshow": {
     "slide_type": "skip"
    },
    "tags": [
     "answer"
    ]
   },
   "source": [
    "$$\\frac{1}{3}\\times 0 + \\frac{2}{3}\\times 1 =\\frac{2}{3}$$"
   ]
  },
  {
   "cell_type": "markdown",
   "id": "d7b1469f",
   "metadata": {
    "jupyter": {
     "source_hidden": true
    },
    "slideshow": {
     "slide_type": "skip"
    },
    "tags": [
     "answer"
    ]
   },
   "source": [
    "for the probability that the prize is behind the other door. So we should switch. "
   ]
  },
  {
   "cell_type": "markdown",
   "id": "48c3adfd",
   "metadata": {
    "slideshow": {
     "slide_type": "slide"
    }
   },
   "source": [
    "### Using Bayes theorem"
   ]
  },
  {
   "cell_type": "markdown",
   "id": "6d73c147",
   "metadata": {
    "slideshow": {
     "slide_type": "skip"
    }
   },
   "source": [
    "We can also solve it in a more systematic way using the Bayes theorem. "
   ]
  },
  {
   "cell_type": "markdown",
   "id": "dd4448d4",
   "metadata": {
    "slideshow": {
     "slide_type": "skip"
    }
   },
   "source": [
    "The prize is placed at random behind a door $p$ with probability $P(P=p)=\\frac{1}{3}$. Similarly we pick a door $c$ at random with probability $P(C=c)=\\frac{1}{3}$ "
   ]
  },
  {
   "cell_type": "markdown",
   "id": "d88dc2de",
   "metadata": {
    "slideshow": {
     "slide_type": "fragment"
    }
   },
   "source": [
    "$$P(P=p)=\\frac{1}{3},\\qquad P(C=c)=\\frac{1}{3}$$"
   ]
  },
  {
   "cell_type": "markdown",
   "id": "944d7aae",
   "metadata": {
    "slideshow": {
     "slide_type": "skip"
    }
   },
   "source": [
    "The host picks  the door $h$ with the conditional probability $P(H=h|P=p, C=c)$ depending on the $p$ and $c$:"
   ]
  },
  {
   "cell_type": "markdown",
   "id": "615ba8a6",
   "metadata": {
    "slideshow": {
     "slide_type": "fragment"
    }
   },
   "source": [
    "$$P(H=h | P=p, C=c)$$\n",
    "\n",
    "<table style=\"text-align: center;\">\n",
    "    <tr><td>p</td> <td/> <td colspan=3 align=\"center\">0</td> <td colspan=3 align=\"center\">1</td> <td colspan=3 align=\"center\">2</td></tr>\n",
    "    <tr style=\"border-bottom: black thin solid\"><td>c</td> <td/> <td style=\"text-align:center;\"> 0 </td> <td> 1 </td> <td> 2 </td> <td> 0 </td> <td> 1 </td> <td> 2 </td> <td> 0 </td> <td> 1 </td> <td> 2 </td> </tr> \n",
    "    <tr><td rowspan=3 >h</td> <td style=\"border-right: black thin solid\">0</td> <td> 0   </td> <td> 0 </td> <td> 0 </td> <td> 0 </td> <td> 1/2 </td> <td> 1 </td> <td> 0 </td> <td > 1 </td> <td> 1/2 </td> </tr> \n",
    "    <tr>              <td style=\"border-right: black thin solid\">1 </td> <td> 1/2 </td> <td> 0 </td> <td> 1 </td> <td> 0 </td> <td> 0 </td>   <td> 0 </td> <td> 1 </td> <td> 0 </td> <td> 1/2 </td> </tr> \n",
    "    <tr>               <td style=\"border-right: black thin solid\">2</td> <td> 1/2 </td> <td> 1 </td> <td> 0 </td> <td> 1 </td> <td> 1/2 </td> <td> 0 </td> <td> 0 </td> <td> 0 </td> <td> 0 </td> </tr> \n",
    "</table>"
   ]
  },
  {
   "cell_type": "markdown",
   "id": "e5aebb54",
   "metadata": {
    "slideshow": {
     "slide_type": "skip"
    }
   },
   "source": [
    "This is implemented in the tables below:"
   ]
  },
  {
   "cell_type": "code",
   "execution_count": 10,
   "id": "c9651171",
   "metadata": {
    "execution": {
     "iopub.execute_input": "2021-05-12T12:44:08.706737Z",
     "iopub.status.busy": "2021-05-12T12:44:08.706236Z",
     "iopub.status.idle": "2021-05-12T12:44:08.775309Z",
     "shell.execute_reply": "2021-05-12T12:44:08.775717Z"
    },
    "slideshow": {
     "slide_type": "skip"
    }
   },
   "outputs": [],
   "source": [
    "import numpy as np"
   ]
  },
  {
   "cell_type": "code",
   "execution_count": 11,
   "id": "fe47cbfd",
   "metadata": {
    "execution": {
     "iopub.execute_input": "2021-05-12T12:44:08.780845Z",
     "iopub.status.busy": "2021-05-12T12:44:08.779855Z",
     "iopub.status.idle": "2021-05-12T12:44:08.782894Z",
     "shell.execute_reply": "2021-05-12T12:44:08.782509Z"
    },
    "slideshow": {
     "slide_type": "skip"
    }
   },
   "outputs": [],
   "source": [
    "prob_p = 1/3* np.ones(3)\n",
    "prob_c = 1/3* np.ones(3)\n",
    "prob_h_c_p = np.asarray([\n",
    "    [ [0,0,0],     [0,1/2,1], [0,1/2,1] ],\n",
    "    [ [1/2, 0, 1], [0,0,0],   [1,0,1/2] ],\n",
    "    [ [1/2, 1, 0], [1,1/2,0], [0,0, 0] ] ])"
   ]
  },
  {
   "cell_type": "markdown",
   "id": "eed91ca0",
   "metadata": {
    "slideshow": {
     "slide_type": "skip"
    }
   },
   "source": [
    "What we are interested in is the conditional probability"
   ]
  },
  {
   "cell_type": "markdown",
   "id": "feb9dce5",
   "metadata": {
    "slideshow": {
     "slide_type": "fragment"
    }
   },
   "source": [
    "$$P(P=p|C=c, H=h)$$"
   ]
  },
  {
   "cell_type": "markdown",
   "id": "bcd9dd6b",
   "metadata": {
    "slideshow": {
     "slide_type": "skip"
    }
   },
   "source": [
    "This can  can be calculated from the Bayes theorem, again try to do it yourself.|"
   ]
  },
  {
   "cell_type": "markdown",
   "id": "ae93401b",
   "metadata": {
    "jupyter": {
     "source_hidden": true
    },
    "slideshow": {
     "slide_type": "fragment"
    },
    "tags": [
     "answer"
    ]
   },
   "source": [
    "$$P(P=p|C=c, H=h)= \n",
    "\\frac{P(H=h|P=p,C=c)P(P=p)P(C=c)}\n",
    "{\\sum\\limits_{p=0}^2 P(H=h|P=p,C=c)P(P=p)P(C=c)}$$"
   ]
  },
  {
   "cell_type": "markdown",
   "id": "ed2f7dec",
   "metadata": {
    "jupyter": {
     "source_hidden": true
    },
    "slideshow": {
     "slide_type": "skip"
    },
    "tags": [
     "answer"
    ]
   },
   "source": [
    "So e.g. if $c=1$  and $h=2$"
   ]
  },
  {
   "cell_type": "code",
   "execution_count": 12,
   "id": "800a4749",
   "metadata": {
    "collapsed": true,
    "execution": {
     "iopub.execute_input": "2021-05-12T12:44:08.787448Z",
     "iopub.status.busy": "2021-05-12T12:44:08.786701Z",
     "iopub.status.idle": "2021-05-12T12:44:08.789536Z",
     "shell.execute_reply": "2021-05-12T12:44:08.789961Z"
    },
    "jupyter": {
     "outputs_hidden": true,
     "source_hidden": true
    },
    "slideshow": {
     "slide_type": "skip"
    },
    "tags": [
     "answer"
    ]
   },
   "outputs": [
    {
     "data": {
      "text/plain": [
       "array([0.66666667, 0.33333333, 0.        ])"
      ]
     },
     "execution_count": 12,
     "metadata": {},
     "output_type": "execute_result"
    }
   ],
   "source": [
    "c=1\n",
    "h=2\n",
    "num = prob_h_c_p[h,:,c]*prob_c[c]*prob_p\n",
    "num/num.sum()"
   ]
  },
  {
   "cell_type": "markdown",
   "id": "896c2d5b",
   "metadata": {
    "jupyter": {
     "source_hidden": true
    },
    "slideshow": {
     "slide_type": "skip"
    },
    "tags": [
     "answer"
    ]
   },
   "source": [
    "As you can see the probability that the prize is behing door $0$ is 2/3 which is twice as large as the probability that it is behind originally picked door. You can check that this does not depend on which door we have picked at the begining. "
   ]
  },
  {
   "cell_type": "markdown",
   "id": "fa615f2c",
   "metadata": {
    "slideshow": {
     "slide_type": "skip"
    }
   },
   "source": [
    "This can be represented by the graphical model:"
   ]
  },
  {
   "cell_type": "code",
   "execution_count": 13,
   "id": "246a7416",
   "metadata": {
    "execution": {
     "iopub.execute_input": "2021-05-12T12:44:08.796003Z",
     "iopub.status.busy": "2021-05-12T12:44:08.793566Z",
     "iopub.status.idle": "2021-05-12T12:44:09.034823Z",
     "shell.execute_reply": "2021-05-12T12:44:09.035203Z"
    },
    "slideshow": {
     "slide_type": "slide"
    }
   },
   "outputs": [
    {
     "data": {
      "image/svg+xml": [
       "<?xml version=\"1.0\" encoding=\"UTF-8\" standalone=\"no\"?>\n",
       "<!DOCTYPE svg PUBLIC \"-//W3C//DTD SVG 1.1//EN\"\n",
       " \"http://www.w3.org/Graphics/SVG/1.1/DTD/svg11.dtd\">\n",
       "<!-- Generated by graphviz version 2.47.1 (0)\n",
       " -->\n",
       "<!-- Pages: 1 -->\n",
       "<svg width=\"98pt\" height=\"116pt\"\n",
       " viewBox=\"0.00 0.00 98.00 116.00\" xmlns=\"http://www.w3.org/2000/svg\" xmlns:xlink=\"http://www.w3.org/1999/xlink\">\n",
       "<g id=\"graph0\" class=\"graph\" transform=\"scale(1 1) rotate(0) translate(4 112)\">\n",
       "<polygon fill=\"white\" stroke=\"transparent\" points=\"-4,4 -4,-112 94,-112 94,4 -4,4\"/>\n",
       "<!-- P -->\n",
       "<g id=\"node1\" class=\"node\">\n",
       "<title>P</title>\n",
       "<ellipse fill=\"none\" stroke=\"black\" cx=\"18\" cy=\"-90\" rx=\"18\" ry=\"18\"/>\n",
       "<text text-anchor=\"middle\" x=\"18\" y=\"-86.3\" font-family=\"Times,serif\" font-size=\"14.00\">P</text>\n",
       "</g>\n",
       "<!-- H -->\n",
       "<g id=\"node2\" class=\"node\">\n",
       "<title>H</title>\n",
       "<ellipse fill=\"lightgrey\" stroke=\"black\" cx=\"45\" cy=\"-18\" rx=\"18\" ry=\"18\"/>\n",
       "<text text-anchor=\"middle\" x=\"45\" y=\"-14.3\" font-family=\"Times,serif\" font-size=\"14.00\">H</text>\n",
       "</g>\n",
       "<!-- P&#45;&gt;H -->\n",
       "<g id=\"edge1\" class=\"edge\">\n",
       "<title>P&#45;&gt;H</title>\n",
       "<path fill=\"none\" stroke=\"black\" d=\"M24.26,-72.76C27.5,-64.37 31.53,-53.93 35.17,-44.5\"/>\n",
       "<polygon fill=\"black\" stroke=\"black\" points=\"38.44,-45.74 38.77,-35.15 31.91,-43.22 38.44,-45.74\"/>\n",
       "</g>\n",
       "<!-- C -->\n",
       "<g id=\"node3\" class=\"node\">\n",
       "<title>C</title>\n",
       "<ellipse fill=\"lightgrey\" stroke=\"black\" cx=\"72\" cy=\"-90\" rx=\"18\" ry=\"18\"/>\n",
       "<text text-anchor=\"middle\" x=\"72\" y=\"-86.3\" font-family=\"Times,serif\" font-size=\"14.00\">C</text>\n",
       "</g>\n",
       "<!-- C&#45;&gt;H -->\n",
       "<g id=\"edge2\" class=\"edge\">\n",
       "<title>C&#45;&gt;H</title>\n",
       "<path fill=\"none\" stroke=\"black\" d=\"M65.74,-72.76C62.5,-64.37 58.47,-53.93 54.83,-44.5\"/>\n",
       "<polygon fill=\"black\" stroke=\"black\" points=\"58.09,-43.22 51.23,-35.15 51.56,-45.74 58.09,-43.22\"/>\n",
       "</g>\n",
       "</g>\n",
       "</svg>\n"
      ],
      "text/plain": [
       "<graphviz.dot.Digraph at 0x102e02220>"
      ]
     },
     "execution_count": 13,
     "metadata": {},
     "output_type": "execute_result"
    }
   ],
   "source": [
    "monty_hall = graphviz.Digraph(node_attr = {'shape': 'circle'})\n",
    "monty_hall.node('P') \n",
    "monty_hall.attr('node', style='filled', fillcolor='lightgrey',color='black')\n",
    "monty_hall.edge('P','H')\n",
    "monty_hall.edge('C','H')\n",
    "monty_hall"
   ]
  },
  {
   "cell_type": "markdown",
   "id": "206d972f",
   "metadata": {
    "slideshow": {
     "slide_type": "slide"
    }
   },
   "source": [
    "## Inference in Probabilistic Graphical Models"
   ]
  },
  {
   "cell_type": "markdown",
   "id": "9a0e834e",
   "metadata": {
    "slideshow": {
     "slide_type": "skip"
    }
   },
   "source": [
    "The examples were simple enough to enable us to get the answers to our queries by using the Bayes theorem directly.  This \"brute force\" approach requires scanning and/or summing over all the values of variables not fixed by the evidence.  This quickly can become prohibitively expensive in more realistic examples. Again we can exploit the structure of the graphical models for efficient inference. "
   ]
  },
  {
   "cell_type": "markdown",
   "id": "529a02be",
   "metadata": {
    "slideshow": {
     "slide_type": "skip"
    }
   },
   "source": [
    "The algorithms for doing this are beyond the scope of this lecture. I will only illustrate them with help of the already mentioned [pgmpy](https://pgmpy.org)  library. For example the Monty Hall problems can be formulated and solved in the following fashion"
   ]
  },
  {
   "cell_type": "code",
   "execution_count": 14,
   "id": "5f620c15",
   "metadata": {
    "execution": {
     "iopub.execute_input": "2021-05-12T12:44:09.038198Z",
     "iopub.status.busy": "2021-05-12T12:44:09.037729Z",
     "iopub.status.idle": "2021-05-12T12:44:09.887165Z",
     "shell.execute_reply": "2021-05-12T12:44:09.887507Z"
    },
    "slideshow": {
     "slide_type": "fragment"
    }
   },
   "outputs": [],
   "source": [
    "from pgmpy.models import BayesianModel\n",
    "from pgmpy.factors.discrete import TabularCPD"
   ]
  },
  {
   "cell_type": "code",
   "execution_count": 15,
   "id": "d1261981",
   "metadata": {
    "execution": {
     "iopub.execute_input": "2021-05-12T12:44:09.895034Z",
     "iopub.status.busy": "2021-05-12T12:44:09.894228Z",
     "iopub.status.idle": "2021-05-12T12:44:09.896775Z",
     "shell.execute_reply": "2021-05-12T12:44:09.897200Z"
    },
    "slideshow": {
     "slide_type": "-"
    }
   },
   "outputs": [
    {
     "data": {
      "text/plain": [
       "True"
      ]
     },
     "execution_count": 15,
     "metadata": {},
     "output_type": "execute_result"
    }
   ],
   "source": [
    "# Defining the network structure\n",
    "model = BayesianModel([('C', 'H'), ('P', 'H')])\n",
    "\n",
    "# Defining the CPDs:\n",
    "cpd_c = TabularCPD('C', 3, [[0.33], [0.33], [0.33]])\n",
    "cpd_p = TabularCPD('P', 3, [[0.33], [0.33], [0.33]])\n",
    "cpd_h = TabularCPD('H', 3, [[0, 0, 0, 0, 0.5, 1, 0, 1, 0.5], \n",
    "                            [0.5, 0, 1, 0, 0, 0, 1, 0, 0.5], \n",
    "                            [0.5, 1, 0, 1, 0.5, 0, 0, 0, 0]],\n",
    "                  evidence=['C', 'P'], evidence_card=[3, 3])\n",
    "\n",
    "# Associating the CPDs with the network structure.\n",
    "model.add_cpds(cpd_c, cpd_p, cpd_h)\n",
    "model.check_model()\n"
   ]
  },
  {
   "cell_type": "markdown",
   "id": "c9bc7747",
   "metadata": {
    "slideshow": {
     "slide_type": "skip"
    }
   },
   "source": [
    "Once we have model we can run queries on it"
   ]
  },
  {
   "cell_type": "code",
   "execution_count": 16,
   "id": "d95de5e0",
   "metadata": {
    "execution": {
     "iopub.execute_input": "2021-05-12T12:44:09.900275Z",
     "iopub.status.busy": "2021-05-12T12:44:09.899653Z",
     "iopub.status.idle": "2021-05-12T12:44:09.903489Z",
     "shell.execute_reply": "2021-05-12T12:44:09.903868Z"
    },
    "slideshow": {
     "slide_type": "slide"
    }
   },
   "outputs": [],
   "source": [
    "from pgmpy.inference import VariableElimination"
   ]
  },
  {
   "cell_type": "markdown",
   "id": "3576a8f5",
   "metadata": {
    "slideshow": {
     "slide_type": "skip"
    }
   },
   "source": [
    "`VariableElimination` is one of the many inference algorithm implemented in the `pgmpy`  module. The method `query` performs the probability query"
   ]
  },
  {
   "cell_type": "code",
   "execution_count": 17,
   "id": "6b4e05f9",
   "metadata": {
    "execution": {
     "iopub.execute_input": "2021-05-12T12:44:09.911184Z",
     "iopub.status.busy": "2021-05-12T12:44:09.910710Z",
     "iopub.status.idle": "2021-05-12T12:44:09.924254Z",
     "shell.execute_reply": "2021-05-12T12:44:09.924644Z"
    },
    "slideshow": {
     "slide_type": "fragment"
    }
   },
   "outputs": [
    {
     "name": "stderr",
     "output_type": "stream",
     "text": [
      "\r",
      "0it [00:00, ?it/s]"
     ]
    },
    {
     "name": "stderr",
     "output_type": "stream",
     "text": [
      "\r",
      "Finding Elimination Order: : : 0it [00:00, ?it/s]"
     ]
    },
    {
     "name": "stderr",
     "output_type": "stream",
     "text": [
      "\n"
     ]
    },
    {
     "name": "stderr",
     "output_type": "stream",
     "text": [
      "\r",
      "0it [00:00, ?it/s]"
     ]
    },
    {
     "name": "stderr",
     "output_type": "stream",
     "text": [
      "\u001b[A"
     ]
    },
    {
     "name": "stderr",
     "output_type": "stream",
     "text": [
      "\r",
      "0it [00:00, ?it/s]"
     ]
    },
    {
     "name": "stdout",
     "output_type": "stream",
     "text": [
      "+------+----------+\n",
      "| P    |   phi(P) |\n",
      "+======+==========+\n",
      "| P(0) |   0.6667 |\n",
      "+------+----------+\n",
      "| P(1) |   0.3333 |\n",
      "+------+----------+\n",
      "| P(2) |   0.0000 |\n",
      "+------+----------+\n"
     ]
    },
    {
     "name": "stderr",
     "output_type": "stream",
     "text": [
      "\n"
     ]
    }
   ],
   "source": [
    "infer = VariableElimination(model)\n",
    "posterior_p = infer.query(['P'], evidence={'C': 1, 'H': 2})\n",
    "print(posterior_p)"
   ]
  },
  {
   "cell_type": "markdown",
   "id": "f1a665b5",
   "metadata": {
    "slideshow": {
     "slide_type": "skip"
    }
   },
   "source": [
    "We see that we get same answer as before: we should switch the door. "
   ]
  },
  {
   "cell_type": "markdown",
   "id": "eaadff33",
   "metadata": {
    "slideshow": {
     "slide_type": "skip"
    }
   },
   "source": [
    "If we are only interested in the door with the highest probability of containing the prize we can execute a MAP query"
   ]
  },
  {
   "cell_type": "code",
   "execution_count": 18,
   "id": "99adaf77",
   "metadata": {
    "execution": {
     "iopub.execute_input": "2021-05-12T12:44:09.932173Z",
     "iopub.status.busy": "2021-05-12T12:44:09.931570Z",
     "iopub.status.idle": "2021-05-12T12:44:09.940656Z",
     "shell.execute_reply": "2021-05-12T12:44:09.939669Z"
    },
    "slideshow": {
     "slide_type": "fragment"
    }
   },
   "outputs": [
    {
     "name": "stderr",
     "output_type": "stream",
     "text": [
      "\n"
     ]
    },
    {
     "name": "stderr",
     "output_type": "stream",
     "text": [
      "\r",
      "0it [00:00, ?it/s]"
     ]
    },
    {
     "name": "stderr",
     "output_type": "stream",
     "text": [
      "\u001b[A"
     ]
    },
    {
     "name": "stderr",
     "output_type": "stream",
     "text": [
      "\n"
     ]
    },
    {
     "name": "stderr",
     "output_type": "stream",
     "text": [
      "\r",
      "Finding Elimination Order: : : 0it [00:00, ?it/s]"
     ]
    },
    {
     "name": "stderr",
     "output_type": "stream",
     "text": [
      "\u001b[A"
     ]
    },
    {
     "name": "stderr",
     "output_type": "stream",
     "text": [
      "\n",
      "\n"
     ]
    },
    {
     "name": "stderr",
     "output_type": "stream",
     "text": [
      "\r",
      "0it [00:00, ?it/s]"
     ]
    },
    {
     "name": "stderr",
     "output_type": "stream",
     "text": [
      "\u001b[A\u001b[A"
     ]
    },
    {
     "name": "stderr",
     "output_type": "stream",
     "text": [
      "\r",
      "0it [00:00, ?it/s]"
     ]
    },
    {
     "name": "stderr",
     "output_type": "stream",
     "text": [
      "\n"
     ]
    },
    {
     "data": {
      "text/plain": [
       "{'P': 0}"
      ]
     },
     "execution_count": 18,
     "metadata": {},
     "output_type": "execute_result"
    }
   ],
   "source": [
    "infer.map_query(['P'], evidence={'C': 1, 'H': 2})"
   ]
  },
  {
   "cell_type": "markdown",
   "id": "aa2784de",
   "metadata": {
    "slideshow": {
     "slide_type": "slide"
    }
   },
   "source": [
    "## Student example"
   ]
  },
  {
   "cell_type": "markdown",
   "id": "652dc8d5",
   "metadata": {
    "slideshow": {
     "slide_type": "-"
    }
   },
   "source": [
    "Now we will consider a more elaborate example taken from the textbook \"Probabilistic Graphical Models, Principles and Techniques\" by D. Koller and N. Friedman. "
   ]
  },
  {
   "cell_type": "markdown",
   "id": "a7d5e103",
   "metadata": {
    "slideshow": {
     "slide_type": "skip"
    }
   },
   "source": [
    "\"Consider the problem\n",
    "faced by a company trying to hire a recent college graduate. The company’s goal is to hire\n",
    "intelligent employees, but there is no way to test intelligence directly. However, the company\n",
    "has access to the student’s SAT scores, which are informative but not fully indicative.\" "
   ]
  },
  {
   "cell_type": "markdown",
   "id": "11863367",
   "metadata": {
    "slideshow": {
     "slide_type": "skip"
    }
   },
   "source": [
    "\"Elaborating our example, we now assume that the company also has access to the student’s\n",
    "grade G in some course.\""
   ]
  },
  {
   "cell_type": "markdown",
   "id": "16331a4a",
   "metadata": {
    "slideshow": {
     "slide_type": "skip"
    }
   },
   "source": [
    "\"The student’s grade, in this case, depends not only on his intelligence but also on the difficulty of\n",
    "the course, represented by a random variable D whose domain is Val(D) = {easy; hard}. Our\n",
    "student asks his professor for a recommendation letter. The professor is absentminded and never\n",
    "remembers the names of her students. She can only look at his grade, and she writes her letter\n",
    "for him based on that information alone. The quality of her letter is a random variable L, whose\n",
    "domain is Val(L) = {strong; weak}. The actual quality of the letter depends stochastically on\n",
    "the grade. (It can vary depending on how stressed the professor is and the quality of the coffee\n",
    "she had that morning.)\""
   ]
  },
  {
   "cell_type": "markdown",
   "id": "56286478",
   "metadata": {
    "slideshow": {
     "slide_type": "skip"
    },
    "tags": [
     "problem"
    ]
   },
   "source": [
    "__Problem__\n",
    "\n",
    "Please draw the graph representing this information."
   ]
  },
  {
   "cell_type": "code",
   "execution_count": 19,
   "id": "77fc67be",
   "metadata": {
    "execution": {
     "iopub.execute_input": "2021-05-12T12:44:09.946318Z",
     "iopub.status.busy": "2021-05-12T12:44:09.945614Z",
     "iopub.status.idle": "2021-05-12T12:44:09.950308Z",
     "shell.execute_reply": "2021-05-12T12:44:09.950657Z"
    },
    "slideshow": {
     "slide_type": "skip"
    },
    "tags": [
     "hide"
    ]
   },
   "outputs": [
    {
     "name": "stderr",
     "output_type": "stream",
     "text": [
      "\r",
      "Finding Elimination Order: : : 0it [00:00, ?it/s]"
     ]
    },
    {
     "name": "stderr",
     "output_type": "stream",
     "text": [
      "\n",
      "\r",
      "Finding Elimination Order: : : 0it [00:00, ?it/s]"
     ]
    },
    {
     "name": "stderr",
     "output_type": "stream",
     "text": [
      "\n"
     ]
    }
   ],
   "source": [
    "student_gr = graphviz.Digraph(node_attr={'shape' : 'oval'})\n",
    "student_gr.node('D', 'Difficulty (2)')\n",
    "student_gr.node('I', 'Intelligence (2)')\n",
    "student_gr.node('S','Sat (2)')\n",
    "student_gr.node('G', 'Grade (3)')\n",
    "student_gr.edges(['DG','IG'])\n",
    "student_gr.node('L','Letter (2)')\n",
    "student_gr.edges(['IS','GL'])"
   ]
  },
  {
   "cell_type": "code",
   "execution_count": 20,
   "id": "6ae0251a",
   "metadata": {
    "execution": {
     "iopub.execute_input": "2021-05-12T12:44:09.953999Z",
     "iopub.status.busy": "2021-05-12T12:44:09.953494Z",
     "iopub.status.idle": "2021-05-12T12:44:10.153569Z",
     "shell.execute_reply": "2021-05-12T12:44:10.153857Z"
    },
    "slideshow": {
     "slide_type": "slide"
    },
    "tags": [
     "hide"
    ]
   },
   "outputs": [
    {
     "data": {
      "image/svg+xml": [
       "<?xml version=\"1.0\" encoding=\"UTF-8\" standalone=\"no\"?>\n",
       "<!DOCTYPE svg PUBLIC \"-//W3C//DTD SVG 1.1//EN\"\n",
       " \"http://www.w3.org/Graphics/SVG/1.1/DTD/svg11.dtd\">\n",
       "<!-- Generated by graphviz version 2.47.1 (0)\n",
       " -->\n",
       "<!-- Pages: 1 -->\n",
       "<svg width=\"276pt\" height=\"188pt\"\n",
       " viewBox=\"0.00 0.00 276.44 188.00\" xmlns=\"http://www.w3.org/2000/svg\" xmlns:xlink=\"http://www.w3.org/1999/xlink\">\n",
       "<g id=\"graph0\" class=\"graph\" transform=\"scale(1 1) rotate(0) translate(4 184)\">\n",
       "<polygon fill=\"white\" stroke=\"transparent\" points=\"-4,4 -4,-184 272.44,-184 272.44,4 -4,4\"/>\n",
       "<!-- D -->\n",
       "<g id=\"node1\" class=\"node\">\n",
       "<title>D</title>\n",
       "<ellipse fill=\"none\" stroke=\"black\" cx=\"59.14\" cy=\"-162\" rx=\"59.29\" ry=\"18\"/>\n",
       "<text text-anchor=\"middle\" x=\"59.14\" y=\"-158.3\" font-family=\"Times,serif\" font-size=\"14.00\">Difficulty (2)</text>\n",
       "</g>\n",
       "<!-- G -->\n",
       "<g id=\"node4\" class=\"node\">\n",
       "<title>G</title>\n",
       "<ellipse fill=\"none\" stroke=\"black\" cx=\"81.14\" cy=\"-90\" rx=\"46.29\" ry=\"18\"/>\n",
       "<text text-anchor=\"middle\" x=\"81.14\" y=\"-86.3\" font-family=\"Times,serif\" font-size=\"14.00\">Grade (3)</text>\n",
       "</g>\n",
       "<!-- D&#45;&gt;G -->\n",
       "<g id=\"edge1\" class=\"edge\">\n",
       "<title>D&#45;&gt;G</title>\n",
       "<path fill=\"none\" stroke=\"black\" d=\"M64.47,-144.05C66.92,-136.26 69.89,-126.82 72.63,-118.08\"/>\n",
       "<polygon fill=\"black\" stroke=\"black\" points=\"76.06,-118.86 75.72,-108.28 69.38,-116.77 76.06,-118.86\"/>\n",
       "</g>\n",
       "<!-- I -->\n",
       "<g id=\"node2\" class=\"node\">\n",
       "<title>I</title>\n",
       "<ellipse fill=\"none\" stroke=\"black\" cx=\"202.14\" cy=\"-162\" rx=\"66.09\" ry=\"18\"/>\n",
       "<text text-anchor=\"middle\" x=\"202.14\" y=\"-158.3\" font-family=\"Times,serif\" font-size=\"14.00\">Intelligence (2)</text>\n",
       "</g>\n",
       "<!-- S -->\n",
       "<g id=\"node3\" class=\"node\">\n",
       "<title>S</title>\n",
       "<ellipse fill=\"none\" stroke=\"black\" cx=\"202.14\" cy=\"-90\" rx=\"35.19\" ry=\"18\"/>\n",
       "<text text-anchor=\"middle\" x=\"202.14\" y=\"-86.3\" font-family=\"Times,serif\" font-size=\"14.00\">Sat (2)</text>\n",
       "</g>\n",
       "<!-- I&#45;&gt;S -->\n",
       "<g id=\"edge3\" class=\"edge\">\n",
       "<title>I&#45;&gt;S</title>\n",
       "<path fill=\"none\" stroke=\"black\" d=\"M202.14,-143.7C202.14,-135.98 202.14,-126.71 202.14,-118.11\"/>\n",
       "<polygon fill=\"black\" stroke=\"black\" points=\"205.64,-118.1 202.14,-108.1 198.64,-118.1 205.64,-118.1\"/>\n",
       "</g>\n",
       "<!-- I&#45;&gt;G -->\n",
       "<g id=\"edge2\" class=\"edge\">\n",
       "<title>I&#45;&gt;G</title>\n",
       "<path fill=\"none\" stroke=\"black\" d=\"M175.29,-145.46C157.38,-135.1 133.7,-121.4 114.57,-110.34\"/>\n",
       "<polygon fill=\"black\" stroke=\"black\" points=\"116.27,-107.28 105.86,-105.3 112.77,-113.34 116.27,-107.28\"/>\n",
       "</g>\n",
       "<!-- L -->\n",
       "<g id=\"node5\" class=\"node\">\n",
       "<title>L</title>\n",
       "<ellipse fill=\"none\" stroke=\"black\" cx=\"81.14\" cy=\"-18\" rx=\"45.49\" ry=\"18\"/>\n",
       "<text text-anchor=\"middle\" x=\"81.14\" y=\"-14.3\" font-family=\"Times,serif\" font-size=\"14.00\">Letter (2)</text>\n",
       "</g>\n",
       "<!-- G&#45;&gt;L -->\n",
       "<g id=\"edge4\" class=\"edge\">\n",
       "<title>G&#45;&gt;L</title>\n",
       "<path fill=\"none\" stroke=\"black\" d=\"M81.14,-71.7C81.14,-63.98 81.14,-54.71 81.14,-46.11\"/>\n",
       "<polygon fill=\"black\" stroke=\"black\" points=\"84.64,-46.1 81.14,-36.1 77.64,-46.1 84.64,-46.1\"/>\n",
       "</g>\n",
       "</g>\n",
       "</svg>\n"
      ],
      "text/plain": [
       "<graphviz.dot.Digraph at 0x188ec0580>"
      ]
     },
     "execution_count": 20,
     "metadata": {},
     "output_type": "execute_result"
    }
   ],
   "source": [
    "student_gr"
   ]
  },
  {
   "cell_type": "markdown",
   "id": "e6d217f5",
   "metadata": {
    "slideshow": {
     "slide_type": "skip"
    }
   },
   "source": [
    "This graph implies the following factorisation of the joint probability distribution function (please try to write it down yourself): "
   ]
  },
  {
   "cell_type": "markdown",
   "id": "03095e08",
   "metadata": {
    "jupyter": {
     "source_hidden": true
    },
    "slideshow": {
     "slide_type": "fragment"
    },
    "tags": [
     "answer"
    ]
   },
   "source": [
    "$$P(D,I,G,S,L)=P(L|G)\\cdot P(G|D,I)\\cdot P(S|I)\\cdot P(I)\\cdot P(D)$$"
   ]
  },
  {
   "cell_type": "markdown",
   "id": "41f58fb1",
   "metadata": {
    "slideshow": {
     "slide_type": "fragment"
    }
   },
   "source": [
    "#### Problem\n",
    "\n",
    "How many parameters are needed in this model? How many would be needed in full joint probability distribution?"
   ]
  },
  {
   "cell_type": "markdown",
   "id": "9f43bcb1",
   "metadata": {
    "jupyter": {
     "source_hidden": true
    },
    "slideshow": {
     "slide_type": "skip"
    },
    "tags": [
     "answer"
    ]
   },
   "source": [
    "Taking into acount that all  distribution are normalized we have "
   ]
  },
  {
   "cell_type": "code",
   "execution_count": 21,
   "id": "9c41e1d4",
   "metadata": {
    "collapsed": true,
    "execution": {
     "iopub.execute_input": "2021-05-12T12:44:10.157417Z",
     "iopub.status.busy": "2021-05-12T12:44:10.156866Z",
     "iopub.status.idle": "2021-05-12T12:44:10.159217Z",
     "shell.execute_reply": "2021-05-12T12:44:10.159532Z"
    },
    "jupyter": {
     "outputs_hidden": true,
     "source_hidden": true
    },
    "slideshow": {
     "slide_type": "skip"
    },
    "tags": [
     "answer"
    ]
   },
   "outputs": [
    {
     "data": {
      "text/plain": [
       "15"
      ]
     },
     "execution_count": 21,
     "metadata": {},
     "output_type": "execute_result"
    }
   ],
   "source": [
    "1+1 + 4*2 + 3 + 2"
   ]
  },
  {
   "cell_type": "markdown",
   "id": "dad2eda3",
   "metadata": {
    "jupyter": {
     "source_hidden": true
    },
    "slideshow": {
     "slide_type": "skip"
    },
    "tags": [
     "answer"
    ]
   },
   "source": [
    "parameters"
   ]
  },
  {
   "cell_type": "markdown",
   "id": "5459ede5",
   "metadata": {
    "jupyter": {
     "source_hidden": true
    },
    "slideshow": {
     "slide_type": "skip"
    },
    "tags": [
     "answer"
    ]
   },
   "source": [
    "Full distribution would require "
   ]
  },
  {
   "cell_type": "code",
   "execution_count": 22,
   "id": "711927c9",
   "metadata": {
    "collapsed": true,
    "execution": {
     "iopub.execute_input": "2021-05-12T12:44:10.162351Z",
     "iopub.status.busy": "2021-05-12T12:44:10.161828Z",
     "iopub.status.idle": "2021-05-12T12:44:10.164009Z",
     "shell.execute_reply": "2021-05-12T12:44:10.164327Z"
    },
    "jupyter": {
     "outputs_hidden": true,
     "source_hidden": true
    },
    "slideshow": {
     "slide_type": "skip"
    },
    "tags": [
     "answer"
    ]
   },
   "outputs": [
    {
     "data": {
      "text/plain": [
       "48"
      ]
     },
     "execution_count": 22,
     "metadata": {},
     "output_type": "execute_result"
    }
   ],
   "source": [
    "2*2*3*2*2"
   ]
  },
  {
   "cell_type": "markdown",
   "id": "11f6717b",
   "metadata": {
    "jupyter": {
     "source_hidden": true
    },
    "slideshow": {
     "slide_type": "skip"
    },
    "tags": [
     "answer"
    ]
   },
   "source": [
    "parameters. More then thrice that many. "
   ]
  },
  {
   "cell_type": "markdown",
   "id": "86205f4e",
   "metadata": {
    "slideshow": {
     "slide_type": "skip"
    }
   },
   "source": [
    "Let's set asside the question \"how\" and just assume that we know all the probability distributions in the graph "
   ]
  },
  {
   "cell_type": "markdown",
   "id": "e0c0a589",
   "metadata": {
    "slideshow": {
     "slide_type": "slide"
    }
   },
   "source": [
    "<table>\n",
    "    <tr><th colspan=2>Inteligence</th> <th colspan=2> Difficulty</th></tr>\n",
    "    <tr><td> medium</td> <td>0.7</td> <td> low </td>  <td>0.6</td></tr>\n",
    "    <tr><td> high  </td> <td>0.3</td> <td> high </td> <td>0.4</td></tr>\n",
    "</table>    "
   ]
  },
  {
   "cell_type": "markdown",
   "id": "ae080744",
   "metadata": {
    "slideshow": {
     "slide_type": "-"
    }
   },
   "source": [
    "<div style=\"width:80%; \">\n",
    "<table style=\"display: inline-block; margin-right: 20px; margin-left:100px; vertical-align:text-top;\">\n",
    "    <tr><th>Grade</th> <th colspan=4>Inteligence,Difficulty</th></tr>\n",
    "    <tr><td/> <td>medium,low</td> <td>medium,high</td><td>high,low</td><td>high,high</td></tr>\n",
    "    <tr><td>A</td> <td>0.3</td> <td>0.05</td> <td>0.9</td> <td>0.5</td> </tr>\n",
    "    <tr><td>B</td> <td>0.4</td> <td>0.25</td> <td>0.08</td> <td>0.3</td></tr>\n",
    "    <tr><td>C</td> <td>0.3</td> <td>0.7</td> <td>0.02</td> <td>0.2</td></tr>\n",
    "</table>    \n",
    "\n",
    "<table style=\"display: inline-block; margin-right: 20px; vertical-align:text-top;\">\n",
    "    <tr><th>Letter</th><th colspan=3> Grade </th></tr>\n",
    "    <tr><td/> <td>A</td> <td>B</td> <td>C</td></tr>\n",
    "    <tr><td>weak</td><td>0.1</td><td>0.4</td><td>0.99</td></tr>\n",
    "     <tr><td>strong</td><td>0.9</td><td>0.6</td><td>0.01</td></tr>\n",
    "</table>\n",
    "\n",
    "<table style=\"display: inline-block; margin-right: auto; vertical-align:text-top;\">\n",
    "    <tr><th>SAT </th><th colspan=2> Intelligence </th></tr>\n",
    "    <tr><td/> <td>medium</td> <td>high</td> </tr>\n",
    "    <tr><td>low</td><td>0.95</td><td>0.2</td></tr>\n",
    "     <tr><td>high</td><td>0.05</td><td>0.8</td></tr>\n",
    "</table>    \n",
    "    \n",
    "</div>"
   ]
  },
  {
   "cell_type": "markdown",
   "id": "22c6adbe",
   "metadata": {
    "slideshow": {
     "slide_type": "skip"
    }
   },
   "source": [
    "We can translate this into the `pgmpy` model"
   ]
  },
  {
   "cell_type": "code",
   "execution_count": 23,
   "id": "872c5265",
   "metadata": {
    "execution": {
     "iopub.execute_input": "2021-05-12T12:44:10.171767Z",
     "iopub.status.busy": "2021-05-12T12:44:10.171091Z",
     "iopub.status.idle": "2021-05-12T12:44:10.173325Z",
     "shell.execute_reply": "2021-05-12T12:44:10.173836Z"
    },
    "slideshow": {
     "slide_type": "slide"
    }
   },
   "outputs": [
    {
     "data": {
      "text/plain": [
       "True"
      ]
     },
     "execution_count": 23,
     "metadata": {},
     "output_type": "execute_result"
    }
   ],
   "source": [
    "# Defining the network structure\n",
    "student = BayesianModel([('D', 'G'), ('I', 'G'),('I','S'),('G','L')])\n",
    "\n",
    "# Defining the CPDs:\n",
    "cpd_I = TabularCPD('I', 2, [[0.7],\n",
    "                            [0.3]])\n",
    "cpd_D = TabularCPD('D', 2, [[0.6], \n",
    "                            [0.4]])\n",
    "\n",
    "cpd_G = TabularCPD('G', 3, [[0.3, 0.05, 0.9, 0.5], \n",
    "                            [0.4, 0.25, 0.08, 0.3], \n",
    "                            [0.3, 0.7, 0.02, 0.2]],\n",
    "                  evidence=['I', 'D'], evidence_card=[2, 2])\n",
    "cpd_L = TabularCPD('L',2,[[0.1, 0.4, 0.99],\n",
    "                         [0.9, 0.6, 0.01]], evidence=['G'], evidence_card=[3])\n",
    "\n",
    "cpd_S = TabularCPD('S',2,[[0.95, 0.2],\n",
    "                          [0.05, 0.8]], evidence=['I'], evidence_card=[2])\n",
    "\n",
    "# Associating the CPDs with the network structure.\n",
    "student.add_cpds(cpd_I, cpd_D, cpd_G, cpd_L, cpd_S)\n",
    "\n",
    "student.check_model()"
   ]
  },
  {
   "cell_type": "markdown",
   "id": "d13df8c3",
   "metadata": {
    "slideshow": {
     "slide_type": "skip"
    }
   },
   "source": [
    "Having specified the model we can use it for inference"
   ]
  },
  {
   "cell_type": "code",
   "execution_count": 24,
   "id": "65fc3e38",
   "metadata": {
    "execution": {
     "iopub.execute_input": "2021-05-12T12:44:10.177157Z",
     "iopub.status.busy": "2021-05-12T12:44:10.176651Z",
     "iopub.status.idle": "2021-05-12T12:44:10.178250Z",
     "shell.execute_reply": "2021-05-12T12:44:10.178584Z"
    },
    "slideshow": {
     "slide_type": "slide"
    }
   },
   "outputs": [],
   "source": [
    "student_infer = VariableElimination(student)"
   ]
  },
  {
   "cell_type": "markdown",
   "id": "bb1d4951",
   "metadata": {
    "jupyter": {
     "source_hidden": true
    },
    "slideshow": {
     "slide_type": "fragment"
    },
    "tags": [
     "answer"
    ]
   },
   "source": [
    "What is posterior probability for students high intelligence knowing that he scored high on SAT test?"
   ]
  },
  {
   "cell_type": "markdown",
   "id": "daf9aafb",
   "metadata": {
    "slideshow": {
     "slide_type": "skip"
    }
   },
   "source": [
    "From Bayes theorem"
   ]
  },
  {
   "cell_type": "markdown",
   "id": "4d358a42",
   "metadata": {
    "slideshow": {
     "slide_type": "fragment"
    }
   },
   "source": [
    "$$P(I=i|SAT=s)=\\frac{P(SAT=s|I=i)P(I=i)}{\\sum_{i'} P(SAT=s|I=i')P(I=i')}$$"
   ]
  },
  {
   "cell_type": "code",
   "execution_count": 25,
   "id": "bc2e35c1",
   "metadata": {
    "execution": {
     "iopub.execute_input": "2021-05-12T12:44:10.181562Z",
     "iopub.status.busy": "2021-05-12T12:44:10.181023Z",
     "iopub.status.idle": "2021-05-12T12:44:10.183069Z",
     "shell.execute_reply": "2021-05-12T12:44:10.183404Z"
    },
    "slideshow": {
     "slide_type": "fragment"
    }
   },
   "outputs": [
    {
     "data": {
      "text/plain": [
       "0.8727272727272728"
      ]
     },
     "execution_count": 25,
     "metadata": {},
     "output_type": "execute_result"
    }
   ],
   "source": [
    "0.8*0.3/(0.8*0.3+0.05*0.7)"
   ]
  },
  {
   "cell_type": "markdown",
   "id": "49d2837a",
   "metadata": {
    "slideshow": {
     "slide_type": "skip"
    }
   },
   "source": [
    "And we get same answer querring our model"
   ]
  },
  {
   "cell_type": "code",
   "execution_count": 26,
   "id": "afcabf59",
   "metadata": {
    "execution": {
     "iopub.execute_input": "2021-05-12T12:44:10.189660Z",
     "iopub.status.busy": "2021-05-12T12:44:10.189017Z",
     "iopub.status.idle": "2021-05-12T12:44:10.201477Z",
     "shell.execute_reply": "2021-05-12T12:44:10.200493Z"
    },
    "slideshow": {
     "slide_type": "slide"
    }
   },
   "outputs": [
    {
     "name": "stderr",
     "output_type": "stream",
     "text": [
      "\r",
      "  0%|          | 0/3 [00:00<?, ?it/s]"
     ]
    },
    {
     "name": "stderr",
     "output_type": "stream",
     "text": [
      "\r",
      "Finding Elimination Order: :   0%|          | 0/3 [00:00<?, ?it/s]"
     ]
    },
    {
     "name": "stderr",
     "output_type": "stream",
     "text": [
      "\n"
     ]
    },
    {
     "name": "stderr",
     "output_type": "stream",
     "text": [
      "\r",
      "  0%|          | 0/3 [00:00<?, ?it/s]"
     ]
    },
    {
     "name": "stderr",
     "output_type": "stream",
     "text": [
      "\u001b[A"
     ]
    },
    {
     "name": "stderr",
     "output_type": "stream",
     "text": [
      "\n"
     ]
    },
    {
     "name": "stderr",
     "output_type": "stream",
     "text": [
      "\r",
      "Eliminating: G:   0%|          | 0/3 [00:00<?, ?it/s]"
     ]
    },
    {
     "name": "stderr",
     "output_type": "stream",
     "text": [
      "\u001b[A"
     ]
    },
    {
     "name": "stderr",
     "output_type": "stream",
     "text": [
      "\n"
     ]
    },
    {
     "name": "stderr",
     "output_type": "stream",
     "text": [
      "\r",
      "Eliminating: L:   0%|          | 0/3 [00:00<?, ?it/s]"
     ]
    },
    {
     "name": "stderr",
     "output_type": "stream",
     "text": [
      "\u001b[A"
     ]
    },
    {
     "name": "stderr",
     "output_type": "stream",
     "text": [
      "\n"
     ]
    },
    {
     "name": "stderr",
     "output_type": "stream",
     "text": [
      "\r",
      "Eliminating: D:   0%|          | 0/3 [00:00<?, ?it/s]"
     ]
    },
    {
     "name": "stderr",
     "output_type": "stream",
     "text": [
      "\u001b[A"
     ]
    },
    {
     "name": "stderr",
     "output_type": "stream",
     "text": [
      "\r",
      "Eliminating: D: 100%|██████████| 3/3 [00:00<00:00, 637.08it/s]"
     ]
    },
    {
     "name": "stdout",
     "output_type": "stream",
     "text": [
      "+------+----------+\n",
      "| I    |   phi(I) |\n",
      "+======+==========+\n",
      "| I(0) |   0.1273 |\n",
      "+------+----------+\n",
      "| I(1) |   0.8727 |\n",
      "+------+----------+\n"
     ]
    },
    {
     "name": "stderr",
     "output_type": "stream",
     "text": [
      "\n"
     ]
    }
   ],
   "source": [
    "posterior_p = student_infer.query(['I'], evidence={'S': 1})\n",
    "print(posterior_p)"
   ]
  },
  {
   "cell_type": "markdown",
   "id": "5b81be2a",
   "metadata": {
    "slideshow": {
     "slide_type": "slide"
    }
   },
   "source": [
    "What is the probability of high intelligence given that she received a strong  letter of recomendation? "
   ]
  },
  {
   "cell_type": "code",
   "execution_count": 27,
   "id": "7e0d32ca",
   "metadata": {
    "execution": {
     "iopub.execute_input": "2021-05-12T12:44:10.208647Z",
     "iopub.status.busy": "2021-05-12T12:44:10.207880Z",
     "iopub.status.idle": "2021-05-12T12:44:10.223766Z",
     "shell.execute_reply": "2021-05-12T12:44:10.221070Z"
    },
    "slideshow": {
     "slide_type": "fragment"
    }
   },
   "outputs": [
    {
     "name": "stderr",
     "output_type": "stream",
     "text": [
      "\n"
     ]
    },
    {
     "name": "stderr",
     "output_type": "stream",
     "text": [
      "\r",
      "  0%|          | 0/3 [00:00<?, ?it/s]"
     ]
    },
    {
     "name": "stderr",
     "output_type": "stream",
     "text": [
      "\u001b[A"
     ]
    },
    {
     "name": "stderr",
     "output_type": "stream",
     "text": [
      "\n"
     ]
    },
    {
     "name": "stderr",
     "output_type": "stream",
     "text": [
      "\r",
      "Finding Elimination Order: :   0%|          | 0/3 [00:00<?, ?it/s]"
     ]
    },
    {
     "name": "stderr",
     "output_type": "stream",
     "text": [
      "\u001b[A"
     ]
    },
    {
     "name": "stderr",
     "output_type": "stream",
     "text": [
      "\n",
      "\n"
     ]
    },
    {
     "name": "stderr",
     "output_type": "stream",
     "text": [
      "\r",
      "  0%|          | 0/3 [00:00<?, ?it/s]"
     ]
    },
    {
     "name": "stderr",
     "output_type": "stream",
     "text": [
      "\u001b[A\u001b[A"
     ]
    },
    {
     "name": "stderr",
     "output_type": "stream",
     "text": [
      "\n",
      "\n"
     ]
    },
    {
     "name": "stderr",
     "output_type": "stream",
     "text": [
      "\r",
      "Eliminating: S:   0%|          | 0/3 [00:00<?, ?it/s]"
     ]
    },
    {
     "name": "stderr",
     "output_type": "stream",
     "text": [
      "\u001b[A\u001b[A"
     ]
    },
    {
     "name": "stderr",
     "output_type": "stream",
     "text": [
      "\n",
      "\n"
     ]
    },
    {
     "name": "stderr",
     "output_type": "stream",
     "text": [
      "\r",
      "Eliminating: G:   0%|          | 0/3 [00:00<?, ?it/s]"
     ]
    },
    {
     "name": "stderr",
     "output_type": "stream",
     "text": [
      "\u001b[A\u001b[A"
     ]
    },
    {
     "name": "stderr",
     "output_type": "stream",
     "text": [
      "\n",
      "\n"
     ]
    },
    {
     "name": "stderr",
     "output_type": "stream",
     "text": [
      "\r",
      "Eliminating: D:   0%|          | 0/3 [00:00<?, ?it/s]"
     ]
    },
    {
     "name": "stderr",
     "output_type": "stream",
     "text": [
      "\u001b[A\u001b[A"
     ]
    },
    {
     "name": "stderr",
     "output_type": "stream",
     "text": [
      "\r",
      "Eliminating: D: 100%|██████████| 3/3 [00:00<00:00, 573.36it/s]"
     ]
    },
    {
     "name": "stdout",
     "output_type": "stream",
     "text": [
      "+------+----------+\n",
      "| I    |   phi(I) |\n",
      "+======+==========+\n",
      "| I(0) |   0.5415 |\n",
      "+------+----------+\n",
      "| I(1) |   0.4585 |\n",
      "+------+----------+\n"
     ]
    },
    {
     "name": "stderr",
     "output_type": "stream",
     "text": [
      "\n"
     ]
    }
   ],
   "source": [
    "posterior_p = student_infer.query(['I'], evidence={'L': 1})\n",
    "print(posterior_p)"
   ]
  },
  {
   "cell_type": "markdown",
   "id": "aed441c9",
   "metadata": {
    "slideshow": {
     "slide_type": "slide"
    }
   },
   "source": [
    "and both?"
   ]
  },
  {
   "cell_type": "code",
   "execution_count": 28,
   "id": "8799ac7a",
   "metadata": {
    "execution": {
     "iopub.execute_input": "2021-05-12T12:44:10.228736Z",
     "iopub.status.busy": "2021-05-12T12:44:10.228208Z",
     "iopub.status.idle": "2021-05-12T12:44:10.238995Z",
     "shell.execute_reply": "2021-05-12T12:44:10.238609Z"
    },
    "slideshow": {
     "slide_type": "fragment"
    }
   },
   "outputs": [
    {
     "name": "stderr",
     "output_type": "stream",
     "text": [
      "\r",
      "Finding Elimination Order: : 100%|██████████| 3/3 [00:00<00:00, 76.93it/s]"
     ]
    },
    {
     "name": "stderr",
     "output_type": "stream",
     "text": [
      "\n",
      "\r",
      "Finding Elimination Order: : 100%|██████████| 3/3 [00:00<00:00, 152.38it/s]"
     ]
    },
    {
     "name": "stderr",
     "output_type": "stream",
     "text": [
      "\n",
      "\r",
      "  0%|          | 0/2 [00:00<?, ?it/s]"
     ]
    },
    {
     "name": "stderr",
     "output_type": "stream",
     "text": [
      "\r",
      "Finding Elimination Order: :   0%|          | 0/2 [00:00<?, ?it/s]"
     ]
    },
    {
     "name": "stderr",
     "output_type": "stream",
     "text": [
      "\n"
     ]
    },
    {
     "name": "stderr",
     "output_type": "stream",
     "text": [
      "\r",
      "  0%|          | 0/2 [00:00<?, ?it/s]"
     ]
    },
    {
     "name": "stderr",
     "output_type": "stream",
     "text": [
      "\u001b[A"
     ]
    },
    {
     "name": "stderr",
     "output_type": "stream",
     "text": [
      "\n"
     ]
    },
    {
     "name": "stderr",
     "output_type": "stream",
     "text": [
      "\r",
      "Eliminating: G:   0%|          | 0/2 [00:00<?, ?it/s]"
     ]
    },
    {
     "name": "stderr",
     "output_type": "stream",
     "text": [
      "\u001b[A"
     ]
    },
    {
     "name": "stderr",
     "output_type": "stream",
     "text": [
      "\n"
     ]
    },
    {
     "name": "stderr",
     "output_type": "stream",
     "text": [
      "\r",
      "Eliminating: D:   0%|          | 0/2 [00:00<?, ?it/s]"
     ]
    },
    {
     "name": "stderr",
     "output_type": "stream",
     "text": [
      "\u001b[A"
     ]
    },
    {
     "name": "stderr",
     "output_type": "stream",
     "text": [
      "\r",
      "Eliminating: D: 100%|██████████| 2/2 [00:00<00:00, 637.97it/s]"
     ]
    },
    {
     "name": "stderr",
     "output_type": "stream",
     "text": [
      "\n"
     ]
    }
   ],
   "source": [
    "posterior_p = student_infer.query(['I'], evidence={'L': 1, 'S':1})"
   ]
  },
  {
   "cell_type": "code",
   "execution_count": 29,
   "id": "d47ea209",
   "metadata": {
    "execution": {
     "iopub.execute_input": "2021-05-12T12:44:10.241826Z",
     "iopub.status.busy": "2021-05-12T12:44:10.241337Z",
     "iopub.status.idle": "2021-05-12T12:44:10.243292Z",
     "shell.execute_reply": "2021-05-12T12:44:10.243612Z"
    },
    "slideshow": {
     "slide_type": "slide"
    }
   },
   "outputs": [
    {
     "name": "stdout",
     "output_type": "stream",
     "text": [
      "+------+----------+\n",
      "| I    |   phi(I) |\n",
      "+======+==========+\n",
      "| I(0) |   0.0687 |\n",
      "+------+----------+\n",
      "| I(1) |   0.9313 |\n",
      "+------+----------+\n"
     ]
    }
   ],
   "source": [
    "print(posterior_p)"
   ]
  },
  {
   "cell_type": "markdown",
   "id": "b44ea878",
   "metadata": {
    "slideshow": {
     "slide_type": "slide"
    }
   },
   "source": [
    "And what if we know that the course was diffcult?"
   ]
  },
  {
   "cell_type": "code",
   "execution_count": 30,
   "id": "c65ea69d",
   "metadata": {
    "execution": {
     "iopub.execute_input": "2021-05-12T12:44:10.250538Z",
     "iopub.status.busy": "2021-05-12T12:44:10.249957Z",
     "iopub.status.idle": "2021-05-12T12:44:10.260305Z",
     "shell.execute_reply": "2021-05-12T12:44:10.258532Z"
    },
    "slideshow": {
     "slide_type": "fragment"
    }
   },
   "outputs": [
    {
     "name": "stderr",
     "output_type": "stream",
     "text": [
      "\n"
     ]
    },
    {
     "name": "stderr",
     "output_type": "stream",
     "text": [
      "\r",
      "  0%|          | 0/1 [00:00<?, ?it/s]"
     ]
    },
    {
     "name": "stderr",
     "output_type": "stream",
     "text": [
      "\u001b[A"
     ]
    },
    {
     "name": "stderr",
     "output_type": "stream",
     "text": [
      "\n"
     ]
    },
    {
     "name": "stderr",
     "output_type": "stream",
     "text": [
      "\r",
      "Finding Elimination Order: :   0%|          | 0/1 [00:00<?, ?it/s]"
     ]
    },
    {
     "name": "stderr",
     "output_type": "stream",
     "text": [
      "\u001b[A"
     ]
    },
    {
     "name": "stderr",
     "output_type": "stream",
     "text": [
      "\n",
      "\n"
     ]
    },
    {
     "name": "stderr",
     "output_type": "stream",
     "text": [
      "\r",
      "  0%|          | 0/1 [00:00<?, ?it/s]"
     ]
    },
    {
     "name": "stderr",
     "output_type": "stream",
     "text": [
      "\u001b[A\u001b[A"
     ]
    },
    {
     "name": "stderr",
     "output_type": "stream",
     "text": [
      "\n",
      "\n"
     ]
    },
    {
     "name": "stderr",
     "output_type": "stream",
     "text": [
      "\r",
      "Eliminating: G:   0%|          | 0/1 [00:00<?, ?it/s]"
     ]
    },
    {
     "name": "stderr",
     "output_type": "stream",
     "text": [
      "\u001b[A\u001b[A"
     ]
    },
    {
     "name": "stderr",
     "output_type": "stream",
     "text": [
      "\r",
      "Eliminating: G: 100%|██████████| 1/1 [00:00<00:00, 647.17it/s]"
     ]
    },
    {
     "name": "stderr",
     "output_type": "stream",
     "text": [
      "\n"
     ]
    }
   ],
   "source": [
    "posterior_p = student_infer.query(['I'], evidence={'L': 1, 'S':1, 'D' :1})"
   ]
  },
  {
   "cell_type": "code",
   "execution_count": 31,
   "id": "96fafe7d",
   "metadata": {
    "execution": {
     "iopub.execute_input": "2021-05-12T12:44:10.263332Z",
     "iopub.status.busy": "2021-05-12T12:44:10.262748Z",
     "iopub.status.idle": "2021-05-12T12:44:10.264730Z",
     "shell.execute_reply": "2021-05-12T12:44:10.265115Z"
    },
    "slideshow": {
     "slide_type": "slide"
    }
   },
   "outputs": [
    {
     "name": "stdout",
     "output_type": "stream",
     "text": [
      "+------+----------+\n",
      "| I    |   phi(I) |\n",
      "+======+==========+\n",
      "| I(0) |   0.0445 |\n",
      "+------+----------+\n",
      "| I(1) |   0.9555 |\n",
      "+------+----------+\n"
     ]
    }
   ],
   "source": [
    "print(posterior_p)"
   ]
  },
  {
   "cell_type": "markdown",
   "id": "96367e16",
   "metadata": {
    "slideshow": {
     "slide_type": "slide"
    }
   },
   "source": [
    "And what we can say about the difficulty of the course given that student had high SAT score and weak recomendation letter ?"
   ]
  },
  {
   "cell_type": "code",
   "execution_count": 32,
   "id": "fb862790",
   "metadata": {
    "execution": {
     "iopub.execute_input": "2021-05-12T12:44:10.271252Z",
     "iopub.status.busy": "2021-05-12T12:44:10.270573Z",
     "iopub.status.idle": "2021-05-12T12:44:10.283145Z",
     "shell.execute_reply": "2021-05-12T12:44:10.280665Z"
    },
    "slideshow": {
     "slide_type": "fragment"
    }
   },
   "outputs": [
    {
     "name": "stderr",
     "output_type": "stream",
     "text": [
      "\n",
      "\n"
     ]
    },
    {
     "name": "stderr",
     "output_type": "stream",
     "text": [
      "\r",
      "  0%|          | 0/2 [00:00<?, ?it/s]"
     ]
    },
    {
     "name": "stderr",
     "output_type": "stream",
     "text": [
      "\u001b[A\u001b[A"
     ]
    },
    {
     "name": "stderr",
     "output_type": "stream",
     "text": [
      "\n",
      "\n"
     ]
    },
    {
     "name": "stderr",
     "output_type": "stream",
     "text": [
      "\r",
      "Finding Elimination Order: :   0%|          | 0/2 [00:00<?, ?it/s]"
     ]
    },
    {
     "name": "stderr",
     "output_type": "stream",
     "text": [
      "\u001b[A\u001b[A"
     ]
    },
    {
     "name": "stderr",
     "output_type": "stream",
     "text": [
      "\n",
      "\n",
      "\n"
     ]
    },
    {
     "name": "stderr",
     "output_type": "stream",
     "text": [
      "\r",
      "  0%|          | 0/2 [00:00<?, ?it/s]"
     ]
    },
    {
     "name": "stderr",
     "output_type": "stream",
     "text": [
      "\u001b[A\u001b[A\u001b[A"
     ]
    },
    {
     "name": "stderr",
     "output_type": "stream",
     "text": [
      "\n",
      "\n",
      "\n"
     ]
    },
    {
     "name": "stderr",
     "output_type": "stream",
     "text": [
      "\r",
      "Eliminating: G:   0%|          | 0/2 [00:00<?, ?it/s]"
     ]
    },
    {
     "name": "stderr",
     "output_type": "stream",
     "text": [
      "\u001b[A\u001b[A\u001b[A"
     ]
    },
    {
     "name": "stderr",
     "output_type": "stream",
     "text": [
      "\n",
      "\n",
      "\n"
     ]
    },
    {
     "name": "stderr",
     "output_type": "stream",
     "text": [
      "\r",
      "Eliminating: I:   0%|          | 0/2 [00:00<?, ?it/s]"
     ]
    },
    {
     "name": "stderr",
     "output_type": "stream",
     "text": [
      "\u001b[A\u001b[A\u001b[A"
     ]
    },
    {
     "name": "stderr",
     "output_type": "stream",
     "text": [
      "\r",
      "Eliminating: I: 100%|██████████| 2/2 [00:00<00:00, 606.99it/s]"
     ]
    },
    {
     "name": "stderr",
     "output_type": "stream",
     "text": [
      "\n"
     ]
    }
   ],
   "source": [
    "posterior_p = student_infer.query(['D'], evidence={'L': 0, 'S':1})"
   ]
  },
  {
   "cell_type": "code",
   "execution_count": 33,
   "id": "b9cdbd49",
   "metadata": {
    "execution": {
     "iopub.execute_input": "2021-05-12T12:44:10.286169Z",
     "iopub.status.busy": "2021-05-12T12:44:10.285685Z",
     "iopub.status.idle": "2021-05-12T12:44:10.287476Z",
     "shell.execute_reply": "2021-05-12T12:44:10.287852Z"
    },
    "slideshow": {
     "slide_type": "slide"
    }
   },
   "outputs": [
    {
     "name": "stdout",
     "output_type": "stream",
     "text": [
      "+------+----------+\n",
      "| D    |   phi(D) |\n",
      "+======+==========+\n",
      "| D(0) |   0.3972 |\n",
      "+------+----------+\n",
      "| D(1) |   0.6028 |\n",
      "+------+----------+\n"
     ]
    }
   ],
   "source": [
    "print(posterior_p)"
   ]
  },
  {
   "cell_type": "markdown",
   "id": "475180d3",
   "metadata": {
    "slideshow": {
     "slide_type": "slide"
    }
   },
   "source": [
    "and what we can say  jointly about student inteligence and diffculty of the class knowing he received strong recomendation letter? "
   ]
  },
  {
   "cell_type": "code",
   "execution_count": 34,
   "id": "1bb639b2",
   "metadata": {
    "execution": {
     "iopub.execute_input": "2021-05-12T12:44:10.293615Z",
     "iopub.status.busy": "2021-05-12T12:44:10.293114Z",
     "iopub.status.idle": "2021-05-12T12:44:10.304913Z",
     "shell.execute_reply": "2021-05-12T12:44:10.303962Z"
    },
    "slideshow": {
     "slide_type": "fragment"
    }
   },
   "outputs": [
    {
     "name": "stderr",
     "output_type": "stream",
     "text": [
      "\r",
      "Finding Elimination Order: : 100%|██████████| 2/2 [00:00<00:00, 31.90it/s]"
     ]
    },
    {
     "name": "stderr",
     "output_type": "stream",
     "text": [
      "\n",
      "\r",
      "Finding Elimination Order: : 100%|██████████| 1/1 [00:00<00:00, 23.49it/s]"
     ]
    },
    {
     "name": "stderr",
     "output_type": "stream",
     "text": [
      "\n",
      "\r",
      "Finding Elimination Order: : 100%|██████████| 2/2 [00:00<00:00, 89.83it/s]"
     ]
    },
    {
     "name": "stderr",
     "output_type": "stream",
     "text": [
      "\n",
      "\r",
      "  0%|          | 0/2 [00:00<?, ?it/s]"
     ]
    },
    {
     "name": "stderr",
     "output_type": "stream",
     "text": [
      "\r",
      "Finding Elimination Order: :   0%|          | 0/2 [00:00<?, ?it/s]"
     ]
    },
    {
     "name": "stderr",
     "output_type": "stream",
     "text": [
      "\n"
     ]
    },
    {
     "name": "stderr",
     "output_type": "stream",
     "text": [
      "\r",
      "  0%|          | 0/2 [00:00<?, ?it/s]"
     ]
    },
    {
     "name": "stderr",
     "output_type": "stream",
     "text": [
      "\u001b[A"
     ]
    },
    {
     "name": "stderr",
     "output_type": "stream",
     "text": [
      "\n"
     ]
    },
    {
     "name": "stderr",
     "output_type": "stream",
     "text": [
      "\r",
      "Eliminating: S:   0%|          | 0/2 [00:00<?, ?it/s]"
     ]
    },
    {
     "name": "stderr",
     "output_type": "stream",
     "text": [
      "\u001b[A"
     ]
    },
    {
     "name": "stderr",
     "output_type": "stream",
     "text": [
      "\n"
     ]
    },
    {
     "name": "stderr",
     "output_type": "stream",
     "text": [
      "\r",
      "Eliminating: G:   0%|          | 0/2 [00:00<?, ?it/s]"
     ]
    },
    {
     "name": "stderr",
     "output_type": "stream",
     "text": [
      "\u001b[A"
     ]
    },
    {
     "name": "stderr",
     "output_type": "stream",
     "text": [
      "\r",
      "Eliminating: G: 100%|██████████| 2/2 [00:00<00:00, 597.39it/s]"
     ]
    },
    {
     "name": "stderr",
     "output_type": "stream",
     "text": [
      "\n"
     ]
    }
   ],
   "source": [
    "posterior_p = student_infer.query(['I','D'], evidence={'L': 1}, joint=True)"
   ]
  },
  {
   "cell_type": "code",
   "execution_count": 35,
   "id": "5a4e2528",
   "metadata": {
    "execution": {
     "iopub.execute_input": "2021-05-12T12:44:10.307938Z",
     "iopub.status.busy": "2021-05-12T12:44:10.307442Z",
     "iopub.status.idle": "2021-05-12T12:44:10.309368Z",
     "shell.execute_reply": "2021-05-12T12:44:10.309711Z"
    },
    "slideshow": {
     "slide_type": "slide"
    }
   },
   "outputs": [
    {
     "name": "stdout",
     "output_type": "stream",
     "text": [
      "+------+------+------------+\n",
      "| I    | D    |   phi(I,D) |\n",
      "+======+======+============+\n",
      "| I(0) | D(0) |     0.4289 |\n",
      "+------+------+------------+\n",
      "| I(0) | D(1) |     0.1126 |\n",
      "+------+------+------------+\n",
      "| I(1) | D(0) |     0.3075 |\n",
      "+------+------+------------+\n",
      "| I(1) | D(1) |     0.1510 |\n",
      "+------+------+------------+\n"
     ]
    }
   ],
   "source": [
    "print(posterior_p)"
   ]
  },
  {
   "cell_type": "code",
   "execution_count": 36,
   "id": "d03186ca",
   "metadata": {
    "execution": {
     "iopub.execute_input": "2021-05-12T12:44:10.315352Z",
     "iopub.status.busy": "2021-05-12T12:44:10.314794Z",
     "iopub.status.idle": "2021-05-12T12:44:10.326316Z",
     "shell.execute_reply": "2021-05-12T12:44:10.324786Z"
    },
    "slideshow": {
     "slide_type": "fragment"
    }
   },
   "outputs": [
    {
     "name": "stderr",
     "output_type": "stream",
     "text": [
      "\n"
     ]
    },
    {
     "name": "stderr",
     "output_type": "stream",
     "text": [
      "\r",
      "  0%|          | 0/2 [00:00<?, ?it/s]"
     ]
    },
    {
     "name": "stderr",
     "output_type": "stream",
     "text": [
      "\u001b[A"
     ]
    },
    {
     "name": "stderr",
     "output_type": "stream",
     "text": [
      "\n"
     ]
    },
    {
     "name": "stderr",
     "output_type": "stream",
     "text": [
      "\r",
      "Finding Elimination Order: :   0%|          | 0/2 [00:00<?, ?it/s]"
     ]
    },
    {
     "name": "stderr",
     "output_type": "stream",
     "text": [
      "\u001b[A"
     ]
    },
    {
     "name": "stderr",
     "output_type": "stream",
     "text": [
      "\n",
      "\n"
     ]
    },
    {
     "name": "stderr",
     "output_type": "stream",
     "text": [
      "\r",
      "  0%|          | 0/2 [00:00<?, ?it/s]"
     ]
    },
    {
     "name": "stderr",
     "output_type": "stream",
     "text": [
      "\u001b[A\u001b[A"
     ]
    },
    {
     "name": "stderr",
     "output_type": "stream",
     "text": [
      "\n",
      "\n"
     ]
    },
    {
     "name": "stderr",
     "output_type": "stream",
     "text": [
      "\r",
      "Eliminating: S:   0%|          | 0/2 [00:00<?, ?it/s]"
     ]
    },
    {
     "name": "stderr",
     "output_type": "stream",
     "text": [
      "\u001b[A\u001b[A"
     ]
    },
    {
     "name": "stderr",
     "output_type": "stream",
     "text": [
      "\n",
      "\n"
     ]
    },
    {
     "name": "stderr",
     "output_type": "stream",
     "text": [
      "\r",
      "Eliminating: G:   0%|          | 0/2 [00:00<?, ?it/s]"
     ]
    },
    {
     "name": "stderr",
     "output_type": "stream",
     "text": [
      "\u001b[A\u001b[A"
     ]
    },
    {
     "name": "stderr",
     "output_type": "stream",
     "text": [
      "\r",
      "Eliminating: G: 100%|██████████| 2/2 [00:00<00:00, 745.39it/s]"
     ]
    },
    {
     "name": "stderr",
     "output_type": "stream",
     "text": [
      "\n"
     ]
    }
   ],
   "source": [
    "posterior_p = student_infer.query(['I','D'], evidence={'L': 1}, joint=False)"
   ]
  },
  {
   "cell_type": "code",
   "execution_count": 37,
   "id": "e191224b",
   "metadata": {
    "execution": {
     "iopub.execute_input": "2021-05-12T12:44:10.329196Z",
     "iopub.status.busy": "2021-05-12T12:44:10.328695Z",
     "iopub.status.idle": "2021-05-12T12:44:10.330606Z",
     "shell.execute_reply": "2021-05-12T12:44:10.330926Z"
    },
    "slideshow": {
     "slide_type": "slide"
    }
   },
   "outputs": [
    {
     "name": "stdout",
     "output_type": "stream",
     "text": [
      "+------+----------+\n",
      "| I    |   phi(I) |\n",
      "+======+==========+\n",
      "| I(0) |   0.5415 |\n",
      "+------+----------+\n",
      "| I(1) |   0.4585 |\n",
      "+------+----------+\n",
      "+------+----------+\n",
      "| D    |   phi(D) |\n",
      "+======+==========+\n",
      "| D(0) |   0.7364 |\n",
      "+------+----------+\n",
      "| D(1) |   0.2636 |\n",
      "+------+----------+\n"
     ]
    }
   ],
   "source": [
    "print(posterior_p['I'])\n",
    "print(posterior_p['D'])"
   ]
  },
  {
   "cell_type": "code",
   "execution_count": 38,
   "id": "d9885821",
   "metadata": {
    "execution": {
     "iopub.execute_input": "2021-05-12T12:44:10.336236Z",
     "iopub.status.busy": "2021-05-12T12:44:10.335673Z",
     "iopub.status.idle": "2021-05-12T12:44:10.347789Z",
     "shell.execute_reply": "2021-05-12T12:44:10.346200Z"
    },
    "slideshow": {
     "slide_type": "slide"
    }
   },
   "outputs": [
    {
     "name": "stderr",
     "output_type": "stream",
     "text": [
      "\n",
      "\n"
     ]
    },
    {
     "name": "stderr",
     "output_type": "stream",
     "text": [
      "\r",
      "  0%|          | 0/2 [00:00<?, ?it/s]"
     ]
    },
    {
     "name": "stderr",
     "output_type": "stream",
     "text": [
      "\u001b[A\u001b[A"
     ]
    },
    {
     "name": "stderr",
     "output_type": "stream",
     "text": [
      "\n",
      "\n"
     ]
    },
    {
     "name": "stderr",
     "output_type": "stream",
     "text": [
      "\r",
      "Finding Elimination Order: :   0%|          | 0/2 [00:00<?, ?it/s]"
     ]
    },
    {
     "name": "stderr",
     "output_type": "stream",
     "text": [
      "\u001b[A\u001b[A"
     ]
    },
    {
     "name": "stderr",
     "output_type": "stream",
     "text": [
      "\n",
      "\n",
      "\n"
     ]
    },
    {
     "name": "stderr",
     "output_type": "stream",
     "text": [
      "\r",
      "  0%|          | 0/2 [00:00<?, ?it/s]"
     ]
    },
    {
     "name": "stderr",
     "output_type": "stream",
     "text": [
      "\u001b[A\u001b[A\u001b[A"
     ]
    },
    {
     "name": "stderr",
     "output_type": "stream",
     "text": [
      "\n",
      "\n",
      "\n"
     ]
    },
    {
     "name": "stderr",
     "output_type": "stream",
     "text": [
      "\r",
      "Eliminating: S:   0%|          | 0/2 [00:00<?, ?it/s]"
     ]
    },
    {
     "name": "stderr",
     "output_type": "stream",
     "text": [
      "\u001b[A\u001b[A\u001b[A"
     ]
    },
    {
     "name": "stderr",
     "output_type": "stream",
     "text": [
      "\n",
      "\n",
      "\n"
     ]
    },
    {
     "name": "stderr",
     "output_type": "stream",
     "text": [
      "\r",
      "Eliminating: G:   0%|          | 0/2 [00:00<?, ?it/s]"
     ]
    },
    {
     "name": "stderr",
     "output_type": "stream",
     "text": [
      "\u001b[A\u001b[A\u001b[A"
     ]
    },
    {
     "name": "stderr",
     "output_type": "stream",
     "text": [
      "\r",
      "Eliminating: G: 100%|██████████| 2/2 [00:00<00:00, 718.45it/s]"
     ]
    },
    {
     "name": "stderr",
     "output_type": "stream",
     "text": [
      "\n"
     ]
    }
   ],
   "source": [
    "posterior_p = student_infer.query(['I','D'], evidence={'L': 0}, joint=True)"
   ]
  },
  {
   "cell_type": "code",
   "execution_count": 39,
   "id": "e81af695",
   "metadata": {
    "execution": {
     "iopub.execute_input": "2021-05-12T12:44:10.350932Z",
     "iopub.status.busy": "2021-05-12T12:44:10.350377Z",
     "iopub.status.idle": "2021-05-12T12:44:10.352367Z",
     "shell.execute_reply": "2021-05-12T12:44:10.352715Z"
    },
    "slideshow": {
     "slide_type": "-"
    }
   },
   "outputs": [
    {
     "name": "stdout",
     "output_type": "stream",
     "text": [
      "+------+------+------------+\n",
      "| D    | I    |   phi(D,I) |\n",
      "+======+======+============+\n",
      "| D(0) | I(0) |     0.4110 |\n",
      "+------+------+------------+\n",
      "| D(0) | I(1) |     0.0513 |\n",
      "+------+------+------------+\n",
      "| D(1) | I(0) |     0.4490 |\n",
      "+------+------+------------+\n",
      "| D(1) | I(1) |     0.0887 |\n",
      "+------+------+------------+\n"
     ]
    }
   ],
   "source": [
    "print(posterior_p)"
   ]
  },
  {
   "cell_type": "markdown",
   "id": "910b95ee",
   "metadata": {
    "slideshow": {
     "slide_type": "skip"
    }
   },
   "source": [
    "This list could go on, and on but I hope you have a feeling how those models can be used. "
   ]
  },
  {
   "cell_type": "markdown",
   "id": "050530e5",
   "metadata": {
    "slideshow": {
     "slide_type": "slide"
    }
   },
   "source": [
    "### Learning"
   ]
  },
  {
   "cell_type": "markdown",
   "id": "99432015",
   "metadata": {
    "slideshow": {
     "slide_type": "skip"
    }
   },
   "source": [
    "So far we have assumed that all the probability distributions in the graph are known. In reality those are the parameters of the model and estimating them is the crucial part of the modeling process. One possibility is to estimate them based on the experts input. This was the original idea behind the expert systems. Unfortunatelly people in general are not  very good in estimating the probabilities. And also even with the reduction provided by the structured graph models the number of parameters is just to big to be estimated by human experts.  "
   ]
  },
  {
   "cell_type": "markdown",
   "id": "262903e1",
   "metadata": {
    "slideshow": {
     "slide_type": "skip"
    }
   },
   "source": [
    "It is nowadays much more realistic to learn those parameters, as in all other models considered so far. As I don't have any real data for this fake example I will generate it using functionality built in the `pgmpy` library. "
   ]
  },
  {
   "cell_type": "code",
   "execution_count": 40,
   "id": "f50eda94",
   "metadata": {
    "execution": {
     "iopub.execute_input": "2021-05-12T12:44:10.355684Z",
     "iopub.status.busy": "2021-05-12T12:44:10.355185Z",
     "iopub.status.idle": "2021-05-12T12:44:10.360778Z",
     "shell.execute_reply": "2021-05-12T12:44:10.361193Z"
    },
    "slideshow": {
     "slide_type": "fragment"
    }
   },
   "outputs": [
    {
     "name": "stderr",
     "output_type": "stream",
     "text": [
      "\r",
      "Finding Elimination Order: : 100%|██████████| 2/2 [00:00<00:00, 32.28it/s]"
     ]
    },
    {
     "name": "stderr",
     "output_type": "stream",
     "text": [
      "\n",
      "\r",
      "Finding Elimination Order: : 100%|██████████| 2/2 [00:00<00:00, 48.36it/s]"
     ]
    },
    {
     "name": "stderr",
     "output_type": "stream",
     "text": [
      "\n",
      "\r",
      "Finding Elimination Order: : 100%|██████████| 2/2 [00:00<00:00, 95.31it/s]"
     ]
    },
    {
     "name": "stderr",
     "output_type": "stream",
     "text": [
      "\n"
     ]
    }
   ],
   "source": [
    "from pgmpy.sampling.Sampling import GibbsSampling, BayesianModelSampling"
   ]
  },
  {
   "cell_type": "code",
   "execution_count": 41,
   "id": "29a3182d",
   "metadata": {
    "execution": {
     "iopub.execute_input": "2021-05-12T12:44:10.372066Z",
     "iopub.status.busy": "2021-05-12T12:44:10.371569Z",
     "iopub.status.idle": "2021-05-12T12:44:10.373353Z",
     "shell.execute_reply": "2021-05-12T12:44:10.373680Z"
    },
    "slideshow": {
     "slide_type": "fragment"
    }
   },
   "outputs": [],
   "source": [
    "gibbs = GibbsSampling(student)"
   ]
  },
  {
   "cell_type": "code",
   "execution_count": 42,
   "id": "df61e02c",
   "metadata": {
    "execution": {
     "iopub.execute_input": "2021-05-12T12:44:10.376806Z",
     "iopub.status.busy": "2021-05-12T12:44:10.376291Z",
     "iopub.status.idle": "2021-05-12T12:44:10.440747Z",
     "shell.execute_reply": "2021-05-12T12:44:10.441105Z"
    },
    "slideshow": {
     "slide_type": "fragment"
    }
   },
   "outputs": [
    {
     "name": "stderr",
     "output_type": "stream",
     "text": [
      "\r",
      "  0%|          | 0/299 [00:00<?, ?it/s]"
     ]
    },
    {
     "name": "stderr",
     "output_type": "stream",
     "text": [
      "\r",
      "100%|██████████| 299/299 [00:00<00:00, 4925.56it/s]"
     ]
    },
    {
     "name": "stderr",
     "output_type": "stream",
     "text": [
      "\n"
     ]
    }
   ],
   "source": [
    "data = gibbs.sample(size=300)"
   ]
  },
  {
   "cell_type": "code",
   "execution_count": 43,
   "id": "31c7f862",
   "metadata": {
    "execution": {
     "iopub.execute_input": "2021-05-12T12:44:10.444549Z",
     "iopub.status.busy": "2021-05-12T12:44:10.444038Z",
     "iopub.status.idle": "2021-05-12T12:44:10.451431Z",
     "shell.execute_reply": "2021-05-12T12:44:10.451753Z"
    },
    "slideshow": {
     "slide_type": "fragment"
    }
   },
   "outputs": [
    {
     "data": {
      "text/html": [
       "<div>\n",
       "<style scoped>\n",
       "    .dataframe tbody tr th:only-of-type {\n",
       "        vertical-align: middle;\n",
       "    }\n",
       "\n",
       "    .dataframe tbody tr th {\n",
       "        vertical-align: top;\n",
       "    }\n",
       "\n",
       "    .dataframe thead th {\n",
       "        text-align: right;\n",
       "    }\n",
       "</style>\n",
       "<table border=\"1\" class=\"dataframe\">\n",
       "  <thead>\n",
       "    <tr style=\"text-align: right;\">\n",
       "      <th></th>\n",
       "      <th>D</th>\n",
       "      <th>G</th>\n",
       "      <th>I</th>\n",
       "      <th>S</th>\n",
       "      <th>L</th>\n",
       "    </tr>\n",
       "  </thead>\n",
       "  <tbody>\n",
       "    <tr>\n",
       "      <th>0</th>\n",
       "      <td>0</td>\n",
       "      <td>0</td>\n",
       "      <td>1</td>\n",
       "      <td>0</td>\n",
       "      <td>1</td>\n",
       "    </tr>\n",
       "    <tr>\n",
       "      <th>1</th>\n",
       "      <td>0</td>\n",
       "      <td>0</td>\n",
       "      <td>0</td>\n",
       "      <td>0</td>\n",
       "      <td>1</td>\n",
       "    </tr>\n",
       "    <tr>\n",
       "      <th>2</th>\n",
       "      <td>0</td>\n",
       "      <td>0</td>\n",
       "      <td>1</td>\n",
       "      <td>1</td>\n",
       "      <td>1</td>\n",
       "    </tr>\n",
       "  </tbody>\n",
       "</table>\n",
       "</div>"
      ],
      "text/plain": [
       "   D  G  I  S  L\n",
       "0  0  0  1  0  1\n",
       "1  0  0  0  0  1\n",
       "2  0  0  1  1  1"
      ]
     },
     "execution_count": 43,
     "metadata": {},
     "output_type": "execute_result"
    }
   ],
   "source": [
    "data.head(3)"
   ]
  },
  {
   "cell_type": "code",
   "execution_count": 44,
   "id": "ebe24d6e",
   "metadata": {
    "execution": {
     "iopub.execute_input": "2021-05-12T12:44:10.456621Z",
     "iopub.status.busy": "2021-05-12T12:44:10.456103Z",
     "iopub.status.idle": "2021-05-12T12:44:10.458274Z",
     "shell.execute_reply": "2021-05-12T12:44:10.458651Z"
    },
    "slideshow": {
     "slide_type": "skip"
    }
   },
   "outputs": [
    {
     "data": {
      "text/plain": [
       "D    0.400000\n",
       "G    0.896667\n",
       "I    0.343333\n",
       "S    0.306667\n",
       "L    0.570000\n",
       "dtype: float64"
      ]
     },
     "execution_count": 44,
     "metadata": {},
     "output_type": "execute_result"
    }
   ],
   "source": [
    "data.mean()"
   ]
  },
  {
   "cell_type": "markdown",
   "id": "a0768969",
   "metadata": {
    "slideshow": {
     "slide_type": "skip"
    }
   },
   "source": [
    "Now I will define a new clean (\"tabula rasa\") model:"
   ]
  },
  {
   "cell_type": "code",
   "execution_count": 45,
   "id": "032de278",
   "metadata": {
    "execution": {
     "iopub.execute_input": "2021-05-12T12:44:10.461721Z",
     "iopub.status.busy": "2021-05-12T12:44:10.461209Z",
     "iopub.status.idle": "2021-05-12T12:44:10.462955Z",
     "shell.execute_reply": "2021-05-12T12:44:10.463280Z"
    },
    "slideshow": {
     "slide_type": "slide"
    }
   },
   "outputs": [],
   "source": [
    "student_tr = BayesianModel([('D', 'G'), ('I', 'G'),('I','S'),('G','L')])"
   ]
  },
  {
   "cell_type": "code",
   "execution_count": 46,
   "id": "c043a400",
   "metadata": {
    "execution": {
     "iopub.execute_input": "2021-05-12T12:44:10.465988Z",
     "iopub.status.busy": "2021-05-12T12:44:10.465498Z",
     "iopub.status.idle": "2021-05-12T12:44:10.467807Z",
     "shell.execute_reply": "2021-05-12T12:44:10.468184Z"
    },
    "slideshow": {
     "slide_type": "skip"
    }
   },
   "outputs": [
    {
     "data": {
      "text/plain": [
       "[]"
      ]
     },
     "execution_count": 46,
     "metadata": {},
     "output_type": "execute_result"
    }
   ],
   "source": [
    "student_tr.get_cpds()"
   ]
  },
  {
   "cell_type": "markdown",
   "id": "15614e1d",
   "metadata": {
    "slideshow": {
     "slide_type": "skip"
    }
   },
   "source": [
    "And estimate the parameters using the `fit` method. "
   ]
  },
  {
   "cell_type": "code",
   "execution_count": 47,
   "id": "0f32cfdc",
   "metadata": {
    "execution": {
     "iopub.execute_input": "2021-05-12T12:44:10.470781Z",
     "iopub.status.busy": "2021-05-12T12:44:10.470246Z",
     "iopub.status.idle": "2021-05-12T12:44:10.765241Z",
     "shell.execute_reply": "2021-05-12T12:44:10.765601Z"
    },
    "slideshow": {
     "slide_type": "fragment"
    }
   },
   "outputs": [],
   "source": [
    "student_tr.fit(data)"
   ]
  },
  {
   "cell_type": "code",
   "execution_count": 48,
   "id": "9e19f032",
   "metadata": {
    "execution": {
     "iopub.execute_input": "2021-05-12T12:44:10.768457Z",
     "iopub.status.busy": "2021-05-12T12:44:10.767928Z",
     "iopub.status.idle": "2021-05-12T12:44:10.769411Z",
     "shell.execute_reply": "2021-05-12T12:44:10.769733Z"
    },
    "slideshow": {
     "slide_type": "fragment"
    }
   },
   "outputs": [],
   "source": [
    "cpds = student_tr.get_cpds()"
   ]
  },
  {
   "cell_type": "code",
   "execution_count": 49,
   "id": "0cab3046",
   "metadata": {
    "execution": {
     "iopub.execute_input": "2021-05-12T12:44:10.772906Z",
     "iopub.status.busy": "2021-05-12T12:44:10.772140Z",
     "iopub.status.idle": "2021-05-12T12:44:10.774540Z",
     "shell.execute_reply": "2021-05-12T12:44:10.774877Z"
    },
    "slideshow": {
     "slide_type": "slide"
    }
   },
   "outputs": [
    {
     "name": "stdout",
     "output_type": "stream",
     "text": [
      "+------+-----+\n",
      "| D(0) | 0.6 |\n",
      "+------+-----+\n",
      "| D(1) | 0.4 |\n",
      "+------+-----+\n"
     ]
    }
   ],
   "source": [
    "print(cpds[0])"
   ]
  },
  {
   "cell_type": "code",
   "execution_count": 50,
   "id": "8896ad49",
   "metadata": {
    "execution": {
     "iopub.execute_input": "2021-05-12T12:44:10.778050Z",
     "iopub.status.busy": "2021-05-12T12:44:10.777595Z",
     "iopub.status.idle": "2021-05-12T12:44:10.779532Z",
     "shell.execute_reply": "2021-05-12T12:44:10.779901Z"
    },
    "slideshow": {
     "slide_type": "slide"
    }
   },
   "outputs": [
    {
     "name": "stdout",
     "output_type": "stream",
     "text": [
      "+------+---------------------+----------------------+----------------------+---------------------+\n",
      "| D    | D(0)                | D(0)                 | D(1)                 | D(1)                |\n",
      "+------+---------------------+----------------------+----------------------+---------------------+\n",
      "| I    | I(0)                | I(1)                 | I(0)                 | I(1)                |\n",
      "+------+---------------------+----------------------+----------------------+---------------------+\n",
      "| G(0) | 0.35714285714285715 | 0.9558823529411765   | 0.011764705882352941 | 0.6285714285714286  |\n",
      "+------+---------------------+----------------------+----------------------+---------------------+\n",
      "| G(1) | 0.39285714285714285 | 0.029411764705882353 | 0.25882352941176473  | 0.2                 |\n",
      "+------+---------------------+----------------------+----------------------+---------------------+\n",
      "| G(2) | 0.25                | 0.014705882352941176 | 0.7294117647058823   | 0.17142857142857143 |\n",
      "+------+---------------------+----------------------+----------------------+---------------------+\n"
     ]
    }
   ],
   "source": [
    "print(cpds[1])"
   ]
  },
  {
   "cell_type": "markdown",
   "id": "a562bddb",
   "metadata": {
    "slideshow": {
     "slide_type": "skip"
    }
   },
   "source": [
    "This should be compared with the original distributions"
   ]
  },
  {
   "cell_type": "code",
   "execution_count": 51,
   "id": "7e44aaac",
   "metadata": {
    "execution": {
     "iopub.execute_input": "2021-05-12T12:44:10.783805Z",
     "iopub.status.busy": "2021-05-12T12:44:10.783102Z",
     "iopub.status.idle": "2021-05-12T12:44:10.785166Z",
     "shell.execute_reply": "2021-05-12T12:44:10.785639Z"
    },
    "slideshow": {
     "slide_type": "fragment"
    }
   },
   "outputs": [
    {
     "name": "stdout",
     "output_type": "stream",
     "text": [
      "+------+------+------+------+------+\n",
      "| I    | I(0) | I(0) | I(1) | I(1) |\n",
      "+------+------+------+------+------+\n",
      "| D    | D(0) | D(1) | D(0) | D(1) |\n",
      "+------+------+------+------+------+\n",
      "| G(0) | 0.3  | 0.05 | 0.9  | 0.5  |\n",
      "+------+------+------+------+------+\n",
      "| G(1) | 0.4  | 0.25 | 0.08 | 0.3  |\n",
      "+------+------+------+------+------+\n",
      "| G(2) | 0.3  | 0.7  | 0.02 | 0.2  |\n",
      "+------+------+------+------+------+\n"
     ]
    }
   ],
   "source": [
    "print(student.get_cpds(node='G'))"
   ]
  },
  {
   "cell_type": "markdown",
   "id": "4fa2b8dd",
   "metadata": {
    "slideshow": {
     "slide_type": "skip"
    }
   },
   "source": [
    "But probably a better idea is to ask some queries and compare the answer with original"
   ]
  },
  {
   "cell_type": "code",
   "execution_count": 52,
   "id": "8b39df29",
   "metadata": {
    "execution": {
     "iopub.execute_input": "2021-05-12T12:44:10.792543Z",
     "iopub.status.busy": "2021-05-12T12:44:10.791999Z",
     "iopub.status.idle": "2021-05-12T12:44:10.803296Z",
     "shell.execute_reply": "2021-05-12T12:44:10.802310Z"
    },
    "slideshow": {
     "slide_type": "slide"
    }
   },
   "outputs": [
    {
     "name": "stderr",
     "output_type": "stream",
     "text": [
      "\r",
      "  0%|          | 0/3 [00:00<?, ?it/s]"
     ]
    },
    {
     "name": "stderr",
     "output_type": "stream",
     "text": [
      "\r",
      "Finding Elimination Order: :   0%|          | 0/3 [00:00<?, ?it/s]"
     ]
    },
    {
     "name": "stderr",
     "output_type": "stream",
     "text": [
      "\n"
     ]
    },
    {
     "name": "stderr",
     "output_type": "stream",
     "text": [
      "\r",
      "  0%|          | 0/3 [00:00<?, ?it/s]"
     ]
    },
    {
     "name": "stderr",
     "output_type": "stream",
     "text": [
      "\u001b[A"
     ]
    },
    {
     "name": "stderr",
     "output_type": "stream",
     "text": [
      "\n"
     ]
    },
    {
     "name": "stderr",
     "output_type": "stream",
     "text": [
      "\r",
      "Eliminating: S:   0%|          | 0/3 [00:00<?, ?it/s]"
     ]
    },
    {
     "name": "stderr",
     "output_type": "stream",
     "text": [
      "\u001b[A"
     ]
    },
    {
     "name": "stderr",
     "output_type": "stream",
     "text": [
      "\n"
     ]
    },
    {
     "name": "stderr",
     "output_type": "stream",
     "text": [
      "\r",
      "Eliminating: G:   0%|          | 0/3 [00:00<?, ?it/s]"
     ]
    },
    {
     "name": "stderr",
     "output_type": "stream",
     "text": [
      "\u001b[A"
     ]
    },
    {
     "name": "stderr",
     "output_type": "stream",
     "text": [
      "\n"
     ]
    },
    {
     "name": "stderr",
     "output_type": "stream",
     "text": [
      "\r",
      "Eliminating: D:   0%|          | 0/3 [00:00<?, ?it/s]"
     ]
    },
    {
     "name": "stderr",
     "output_type": "stream",
     "text": [
      "\u001b[A"
     ]
    },
    {
     "name": "stderr",
     "output_type": "stream",
     "text": [
      "\r",
      "Eliminating: D: 100%|██████████| 3/3 [00:00<00:00, 700.41it/s]"
     ]
    },
    {
     "name": "stderr",
     "output_type": "stream",
     "text": [
      "\n"
     ]
    }
   ],
   "source": [
    "student_tr_infer = VariableElimination(student_tr)\n",
    "posterior_tr_p = student_tr_infer.query(['I'],  evidence={'L': 1,})"
   ]
  },
  {
   "cell_type": "code",
   "execution_count": 53,
   "id": "41cba165",
   "metadata": {
    "execution": {
     "iopub.execute_input": "2021-05-12T12:44:10.806195Z",
     "iopub.status.busy": "2021-05-12T12:44:10.805744Z",
     "iopub.status.idle": "2021-05-12T12:44:10.807502Z",
     "shell.execute_reply": "2021-05-12T12:44:10.807884Z"
    },
    "slideshow": {
     "slide_type": "slide"
    }
   },
   "outputs": [
    {
     "name": "stdout",
     "output_type": "stream",
     "text": [
      "+------+----------+\n",
      "| I    |   phi(I) |\n",
      "+======+==========+\n",
      "| I(0) |   0.5111 |\n",
      "+------+----------+\n",
      "| I(1) |   0.4889 |\n",
      "+------+----------+\n"
     ]
    }
   ],
   "source": [
    "print(posterior_tr_p)"
   ]
  },
  {
   "cell_type": "markdown",
   "id": "4a77c25d",
   "metadata": {
    "slideshow": {
     "slide_type": "skip"
    }
   },
   "source": [
    "Here is the same query on the original model"
   ]
  },
  {
   "cell_type": "code",
   "execution_count": 54,
   "id": "37ace64d",
   "metadata": {
    "execution": {
     "iopub.execute_input": "2021-05-12T12:44:10.812796Z",
     "iopub.status.busy": "2021-05-12T12:44:10.812312Z",
     "iopub.status.idle": "2021-05-12T12:44:10.823992Z",
     "shell.execute_reply": "2021-05-12T12:44:10.823052Z"
    },
    "slideshow": {
     "slide_type": "skip"
    }
   },
   "outputs": [
    {
     "name": "stderr",
     "output_type": "stream",
     "text": [
      "\r",
      "Finding Elimination Order: : 100%|██████████| 3/3 [00:00<00:00, 150.28it/s]"
     ]
    },
    {
     "name": "stderr",
     "output_type": "stream",
     "text": [
      "\n",
      "\r",
      "  0%|          | 0/3 [00:00<?, ?it/s]"
     ]
    },
    {
     "name": "stderr",
     "output_type": "stream",
     "text": [
      "\r",
      "Finding Elimination Order: :   0%|          | 0/3 [00:00<?, ?it/s]"
     ]
    },
    {
     "name": "stderr",
     "output_type": "stream",
     "text": [
      "\n"
     ]
    },
    {
     "name": "stderr",
     "output_type": "stream",
     "text": [
      "\r",
      "  0%|          | 0/3 [00:00<?, ?it/s]"
     ]
    },
    {
     "name": "stderr",
     "output_type": "stream",
     "text": [
      "\u001b[A"
     ]
    },
    {
     "name": "stderr",
     "output_type": "stream",
     "text": [
      "\n"
     ]
    },
    {
     "name": "stderr",
     "output_type": "stream",
     "text": [
      "\r",
      "Eliminating: S:   0%|          | 0/3 [00:00<?, ?it/s]"
     ]
    },
    {
     "name": "stderr",
     "output_type": "stream",
     "text": [
      "\u001b[A"
     ]
    },
    {
     "name": "stderr",
     "output_type": "stream",
     "text": [
      "\n"
     ]
    },
    {
     "name": "stderr",
     "output_type": "stream",
     "text": [
      "\r",
      "Eliminating: G:   0%|          | 0/3 [00:00<?, ?it/s]"
     ]
    },
    {
     "name": "stderr",
     "output_type": "stream",
     "text": [
      "\u001b[A"
     ]
    },
    {
     "name": "stderr",
     "output_type": "stream",
     "text": [
      "\n"
     ]
    },
    {
     "name": "stderr",
     "output_type": "stream",
     "text": [
      "\r",
      "Eliminating: D:   0%|          | 0/3 [00:00<?, ?it/s]"
     ]
    },
    {
     "name": "stderr",
     "output_type": "stream",
     "text": [
      "\u001b[A"
     ]
    },
    {
     "name": "stderr",
     "output_type": "stream",
     "text": [
      "\r",
      "Eliminating: D: 100%|██████████| 3/3 [00:00<00:00, 718.90it/s]"
     ]
    },
    {
     "name": "stderr",
     "output_type": "stream",
     "text": [
      "\n"
     ]
    }
   ],
   "source": [
    "posterior_p = student_infer.query(['I'],  evidence={'L': 1,})"
   ]
  },
  {
   "cell_type": "code",
   "execution_count": 55,
   "id": "10cd7869",
   "metadata": {
    "execution": {
     "iopub.execute_input": "2021-05-12T12:44:10.826695Z",
     "iopub.status.busy": "2021-05-12T12:44:10.826227Z",
     "iopub.status.idle": "2021-05-12T12:44:10.828083Z",
     "shell.execute_reply": "2021-05-12T12:44:10.828417Z"
    },
    "slideshow": {
     "slide_type": "fragment"
    }
   },
   "outputs": [
    {
     "name": "stdout",
     "output_type": "stream",
     "text": [
      "+------+----------+\n",
      "| I    |   phi(I) |\n",
      "+======+==========+\n",
      "| I(0) |   0.5415 |\n",
      "+------+----------+\n",
      "| I(1) |   0.4585 |\n",
      "+------+----------+\n"
     ]
    }
   ],
   "source": [
    "print(posterior_p)"
   ]
  },
  {
   "cell_type": "markdown",
   "id": "8e89dd47",
   "metadata": {
    "slideshow": {
     "slide_type": "skip"
    }
   },
   "source": [
    "Results (at least in my realisation) look very good. Let's try to estimate the error on those number. To this end, we will  repeat same procedure 20 times, each time with new data"
   ]
  },
  {
   "cell_type": "code",
   "execution_count": 56,
   "id": "5e574603",
   "metadata": {
    "execution": {
     "iopub.execute_input": "2021-05-12T12:44:10.832152Z",
     "iopub.status.busy": "2021-05-12T12:44:10.831568Z",
     "iopub.status.idle": "2021-05-12T12:44:12.508160Z",
     "shell.execute_reply": "2021-05-12T12:44:12.508630Z"
    },
    "slideshow": {
     "slide_type": "slide"
    }
   },
   "outputs": [
    {
     "name": "stderr",
     "output_type": "stream",
     "text": [
      "\n"
     ]
    },
    {
     "name": "stderr",
     "output_type": "stream",
     "text": [
      "\r",
      "  0%|          | 0/299 [00:00<?, ?it/s]"
     ]
    },
    {
     "name": "stderr",
     "output_type": "stream",
     "text": [
      "\u001b[A"
     ]
    },
    {
     "name": "stderr",
     "output_type": "stream",
     "text": [
      "\r",
      "Finding Elimination Order: : 100%|██████████| 3/3 [00:00<00:00, 99.82it/s]"
     ]
    },
    {
     "name": "stderr",
     "output_type": "stream",
     "text": [
      "\n",
      "\r",
      "100%|██████████| 299/299 [00:00<00:00, 4917.76it/s]"
     ]
    },
    {
     "name": "stderr",
     "output_type": "stream",
     "text": [
      "\n",
      "\r",
      "  0%|          | 0/299 [00:00<?, ?it/s]"
     ]
    },
    {
     "name": "stderr",
     "output_type": "stream",
     "text": [
      "\r",
      "100%|██████████| 299/299 [00:00<00:00, 5603.75it/s]"
     ]
    },
    {
     "name": "stderr",
     "output_type": "stream",
     "text": [
      "\n"
     ]
    },
    {
     "name": "stderr",
     "output_type": "stream",
     "text": [
      "\r",
      "  0%|          | 0/299 [00:00<?, ?it/s]"
     ]
    },
    {
     "name": "stderr",
     "output_type": "stream",
     "text": [
      "\r",
      "100%|██████████| 299/299 [00:00<00:00, 5293.36it/s]"
     ]
    },
    {
     "name": "stderr",
     "output_type": "stream",
     "text": [
      "\n",
      "\r",
      "  0%|          | 0/299 [00:00<?, ?it/s]"
     ]
    },
    {
     "name": "stderr",
     "output_type": "stream",
     "text": [
      "\r",
      "100%|██████████| 299/299 [00:00<00:00, 5220.79it/s]"
     ]
    },
    {
     "name": "stderr",
     "output_type": "stream",
     "text": [
      "\n",
      "\r",
      "  0%|          | 0/299 [00:00<?, ?it/s]"
     ]
    },
    {
     "name": "stderr",
     "output_type": "stream",
     "text": [
      "\r",
      "100%|██████████| 299/299 [00:00<00:00, 5279.90it/s]"
     ]
    },
    {
     "name": "stderr",
     "output_type": "stream",
     "text": [
      "\n",
      "\r",
      "  0%|          | 0/299 [00:00<?, ?it/s]"
     ]
    },
    {
     "name": "stderr",
     "output_type": "stream",
     "text": [
      "\r",
      "100%|██████████| 299/299 [00:00<00:00, 5353.90it/s]"
     ]
    },
    {
     "name": "stderr",
     "output_type": "stream",
     "text": [
      "\n",
      "\r",
      "  0%|          | 0/299 [00:00<?, ?it/s]"
     ]
    },
    {
     "name": "stderr",
     "output_type": "stream",
     "text": [
      "\r",
      "100%|██████████| 299/299 [00:00<00:00, 5565.68it/s]"
     ]
    },
    {
     "name": "stderr",
     "output_type": "stream",
     "text": [
      "\n",
      "\r",
      "  0%|          | 0/299 [00:00<?, ?it/s]"
     ]
    },
    {
     "name": "stderr",
     "output_type": "stream",
     "text": [
      "\r",
      "100%|██████████| 299/299 [00:00<00:00, 4932.20it/s]"
     ]
    },
    {
     "name": "stderr",
     "output_type": "stream",
     "text": [
      "\n",
      "\r",
      "  0%|          | 0/299 [00:00<?, ?it/s]"
     ]
    },
    {
     "name": "stderr",
     "output_type": "stream",
     "text": [
      "\r",
      "100%|██████████| 299/299 [00:00<00:00, 5197.49it/s]"
     ]
    },
    {
     "name": "stderr",
     "output_type": "stream",
     "text": [
      "\n",
      "\r",
      "  0%|          | 0/299 [00:00<?, ?it/s]"
     ]
    },
    {
     "name": "stderr",
     "output_type": "stream",
     "text": [
      "\r",
      "100%|██████████| 299/299 [00:00<00:00, 5708.07it/s]"
     ]
    },
    {
     "name": "stderr",
     "output_type": "stream",
     "text": [
      "\n",
      "\r",
      "  0%|          | 0/299 [00:00<?, ?it/s]"
     ]
    },
    {
     "name": "stderr",
     "output_type": "stream",
     "text": [
      "\r",
      "100%|██████████| 299/299 [00:00<00:00, 5675.13it/s]"
     ]
    },
    {
     "name": "stderr",
     "output_type": "stream",
     "text": [
      "\n",
      "\r",
      "  0%|          | 0/299 [00:00<?, ?it/s]"
     ]
    },
    {
     "name": "stderr",
     "output_type": "stream",
     "text": [
      "\r",
      "100%|██████████| 299/299 [00:00<00:00, 5545.25it/s]"
     ]
    },
    {
     "name": "stderr",
     "output_type": "stream",
     "text": [
      "\n",
      "\r",
      "  0%|          | 0/299 [00:00<?, ?it/s]"
     ]
    },
    {
     "name": "stderr",
     "output_type": "stream",
     "text": [
      "\r",
      "100%|██████████| 299/299 [00:00<00:00, 5665.14it/s]"
     ]
    },
    {
     "name": "stderr",
     "output_type": "stream",
     "text": [
      "\n",
      "\r",
      "  0%|          | 0/299 [00:00<?, ?it/s]"
     ]
    },
    {
     "name": "stderr",
     "output_type": "stream",
     "text": [
      "\r",
      "100%|██████████| 299/299 [00:00<00:00, 5427.58it/s]"
     ]
    },
    {
     "name": "stderr",
     "output_type": "stream",
     "text": [
      "\n",
      "\r",
      "  0%|          | 0/299 [00:00<?, ?it/s]"
     ]
    },
    {
     "name": "stderr",
     "output_type": "stream",
     "text": [
      "\r",
      "100%|██████████| 299/299 [00:00<00:00, 5560.22it/s]"
     ]
    },
    {
     "name": "stderr",
     "output_type": "stream",
     "text": [
      "\n",
      "\r",
      "  0%|          | 0/299 [00:00<?, ?it/s]"
     ]
    },
    {
     "name": "stderr",
     "output_type": "stream",
     "text": [
      "\r",
      "100%|██████████| 299/299 [00:00<00:00, 5241.04it/s]"
     ]
    },
    {
     "name": "stderr",
     "output_type": "stream",
     "text": [
      "\n",
      "\r",
      "  0%|          | 0/299 [00:00<?, ?it/s]"
     ]
    },
    {
     "name": "stderr",
     "output_type": "stream",
     "text": [
      "\r",
      "100%|██████████| 299/299 [00:00<00:00, 5298.70it/s]"
     ]
    },
    {
     "name": "stderr",
     "output_type": "stream",
     "text": [
      "\n",
      "\r",
      "  0%|          | 0/299 [00:00<?, ?it/s]"
     ]
    },
    {
     "name": "stderr",
     "output_type": "stream",
     "text": [
      "\r",
      "100%|██████████| 299/299 [00:00<00:00, 5501.68it/s]"
     ]
    },
    {
     "name": "stderr",
     "output_type": "stream",
     "text": [
      "\n",
      "\r",
      "  0%|          | 0/299 [00:00<?, ?it/s]"
     ]
    },
    {
     "name": "stderr",
     "output_type": "stream",
     "text": [
      "\r",
      "100%|██████████| 299/299 [00:00<00:00, 5504.43it/s]"
     ]
    },
    {
     "name": "stderr",
     "output_type": "stream",
     "text": [
      "\n",
      "\r",
      "  0%|          | 0/299 [00:00<?, ?it/s]"
     ]
    },
    {
     "name": "stderr",
     "output_type": "stream",
     "text": [
      "\r",
      "100%|██████████| 299/299 [00:00<00:00, 5433.51it/s]"
     ]
    },
    {
     "name": "stderr",
     "output_type": "stream",
     "text": [
      "\n"
     ]
    }
   ],
   "source": [
    "n_samples = 300\n",
    "results = []\n",
    "for i in range(20):\n",
    "    data = gibbs.sample(size=n_samples)\n",
    "    student_tr = BayesianModel([('D', 'G'), ('I', 'G'),('I','S'),('G','L')])\n",
    "    student_tr.fit(data)\n",
    "    student_tr_infer = VariableElimination(student_tr)\n",
    "    posterior_p = student_tr_infer.query(['I'], evidence={'L': 1},show_progress=False)\n",
    "    results.append(posterior_p.values)    \n",
    "dist = np.stack(results, axis=0)    "
   ]
  },
  {
   "cell_type": "markdown",
   "id": "62e76e71",
   "metadata": {
    "slideshow": {
     "slide_type": "skip"
    }
   },
   "source": [
    "The mean value is close to original"
   ]
  },
  {
   "cell_type": "code",
   "execution_count": 57,
   "id": "87102ee5",
   "metadata": {
    "execution": {
     "iopub.execute_input": "2021-05-12T12:44:12.512954Z",
     "iopub.status.busy": "2021-05-12T12:44:12.512122Z",
     "iopub.status.idle": "2021-05-12T12:44:12.514758Z",
     "shell.execute_reply": "2021-05-12T12:44:12.515161Z"
    },
    "slideshow": {
     "slide_type": "slide"
    }
   },
   "outputs": [
    {
     "data": {
      "text/plain": [
       "array([0.52010698, 0.47989302])"
      ]
     },
     "execution_count": 57,
     "metadata": {},
     "output_type": "execute_result"
    }
   ],
   "source": [
    "dist.mean(axis=0)"
   ]
  },
  {
   "cell_type": "markdown",
   "id": "efd38fa1",
   "metadata": {
    "slideshow": {
     "slide_type": "skip"
    }
   },
   "source": [
    "but the errors "
   ]
  },
  {
   "cell_type": "code",
   "execution_count": 58,
   "id": "290da30e",
   "metadata": {
    "execution": {
     "iopub.execute_input": "2021-05-12T12:44:12.519116Z",
     "iopub.status.busy": "2021-05-12T12:44:12.518386Z",
     "iopub.status.idle": "2021-05-12T12:44:12.521006Z",
     "shell.execute_reply": "2021-05-12T12:44:12.521469Z"
    },
    "slideshow": {
     "slide_type": "fragment"
    }
   },
   "outputs": [
    {
     "data": {
      "text/plain": [
       "array([0.07414637, 0.07414637])"
      ]
     },
     "execution_count": 58,
     "metadata": {},
     "output_type": "execute_result"
    }
   ],
   "source": [
    "dist.std(axis=0)"
   ]
  },
  {
   "cell_type": "markdown",
   "id": "ab48fe81",
   "metadata": {
    "slideshow": {
     "slide_type": "skip"
    }
   },
   "source": [
    "are big enough to switch the maximum estimate (MAP) from I(0) to I(1)"
   ]
  },
  {
   "cell_type": "code",
   "execution_count": 59,
   "id": "d94667c3",
   "metadata": {
    "execution": {
     "iopub.execute_input": "2021-05-12T12:44:12.526558Z",
     "iopub.status.busy": "2021-05-12T12:44:12.525853Z",
     "iopub.status.idle": "2021-05-12T12:44:14.102530Z",
     "shell.execute_reply": "2021-05-12T12:44:14.103004Z"
    },
    "slideshow": {
     "slide_type": "slide"
    }
   },
   "outputs": [
    {
     "name": "stderr",
     "output_type": "stream",
     "text": [
      "\r",
      "  0%|          | 0/299 [00:00<?, ?it/s]"
     ]
    },
    {
     "name": "stderr",
     "output_type": "stream",
     "text": [
      "\r",
      "100%|██████████| 299/299 [00:00<00:00, 4806.68it/s]"
     ]
    },
    {
     "name": "stderr",
     "output_type": "stream",
     "text": [
      "\n",
      "\r",
      "  0%|          | 0/299 [00:00<?, ?it/s]"
     ]
    },
    {
     "name": "stderr",
     "output_type": "stream",
     "text": [
      "\r",
      "100%|██████████| 299/299 [00:00<00:00, 5658.49it/s]"
     ]
    },
    {
     "name": "stderr",
     "output_type": "stream",
     "text": [
      "\n",
      "\r",
      "  0%|          | 0/299 [00:00<?, ?it/s]"
     ]
    },
    {
     "name": "stderr",
     "output_type": "stream",
     "text": [
      "\r",
      "100%|██████████| 299/299 [00:00<00:00, 5567.23it/s]"
     ]
    },
    {
     "name": "stderr",
     "output_type": "stream",
     "text": [
      "\n",
      "\r",
      "  0%|          | 0/299 [00:00<?, ?it/s]"
     ]
    },
    {
     "name": "stderr",
     "output_type": "stream",
     "text": [
      "\r",
      "100%|██████████| 299/299 [00:00<00:00, 4934.71it/s]"
     ]
    },
    {
     "name": "stderr",
     "output_type": "stream",
     "text": [
      "\n",
      "\r",
      "  0%|          | 0/299 [00:00<?, ?it/s]"
     ]
    },
    {
     "name": "stderr",
     "output_type": "stream",
     "text": [
      "\r",
      "100%|██████████| 299/299 [00:00<00:00, 5618.08it/s]"
     ]
    },
    {
     "name": "stderr",
     "output_type": "stream",
     "text": [
      "\n",
      "\r",
      "  0%|          | 0/299 [00:00<?, ?it/s]"
     ]
    },
    {
     "name": "stderr",
     "output_type": "stream",
     "text": [
      "\r",
      "100%|██████████| 299/299 [00:00<00:00, 5524.27it/s]"
     ]
    },
    {
     "name": "stderr",
     "output_type": "stream",
     "text": [
      "\n",
      "\r",
      "  0%|          | 0/299 [00:00<?, ?it/s]"
     ]
    },
    {
     "name": "stderr",
     "output_type": "stream",
     "text": [
      "\r",
      "100%|██████████| 299/299 [00:00<00:00, 5128.71it/s]"
     ]
    },
    {
     "name": "stderr",
     "output_type": "stream",
     "text": [
      "\n",
      "\r",
      "  0%|          | 0/299 [00:00<?, ?it/s]"
     ]
    },
    {
     "name": "stderr",
     "output_type": "stream",
     "text": [
      "\r",
      "100%|██████████| 299/299 [00:00<00:00, 5572.35it/s]"
     ]
    },
    {
     "name": "stderr",
     "output_type": "stream",
     "text": [
      "\n",
      "\r",
      "  0%|          | 0/299 [00:00<?, ?it/s]"
     ]
    },
    {
     "name": "stderr",
     "output_type": "stream",
     "text": [
      "\r",
      "100%|██████████| 299/299 [00:00<00:00, 5829.24it/s]"
     ]
    },
    {
     "name": "stderr",
     "output_type": "stream",
     "text": [
      "\n",
      "\r",
      "  0%|          | 0/299 [00:00<?, ?it/s]"
     ]
    },
    {
     "name": "stderr",
     "output_type": "stream",
     "text": [
      "\r",
      "100%|██████████| 299/299 [00:00<00:00, 5597.07it/s]"
     ]
    },
    {
     "name": "stderr",
     "output_type": "stream",
     "text": [
      "\n",
      "\r",
      "  0%|          | 0/299 [00:00<?, ?it/s]"
     ]
    },
    {
     "name": "stderr",
     "output_type": "stream",
     "text": [
      "\r",
      "100%|██████████| 299/299 [00:00<00:00, 5570.64it/s]"
     ]
    },
    {
     "name": "stderr",
     "output_type": "stream",
     "text": [
      "\n",
      "\r",
      "  0%|          | 0/299 [00:00<?, ?it/s]"
     ]
    },
    {
     "name": "stderr",
     "output_type": "stream",
     "text": [
      "\r",
      "100%|██████████| 299/299 [00:00<00:00, 5819.15it/s]"
     ]
    },
    {
     "name": "stderr",
     "output_type": "stream",
     "text": [
      "\n",
      "\r",
      "  0%|          | 0/299 [00:00<?, ?it/s]"
     ]
    },
    {
     "name": "stderr",
     "output_type": "stream",
     "text": [
      "\r",
      "100%|██████████| 299/299 [00:00<00:00, 5848.08it/s]"
     ]
    },
    {
     "name": "stderr",
     "output_type": "stream",
     "text": [
      "\n",
      "\r",
      "  0%|          | 0/299 [00:00<?, ?it/s]"
     ]
    },
    {
     "name": "stderr",
     "output_type": "stream",
     "text": [
      "\r",
      "100%|██████████| 299/299 [00:00<00:00, 5886.65it/s]"
     ]
    },
    {
     "name": "stderr",
     "output_type": "stream",
     "text": [
      "\n",
      "\r",
      "  0%|          | 0/299 [00:00<?, ?it/s]"
     ]
    },
    {
     "name": "stderr",
     "output_type": "stream",
     "text": [
      "\r",
      "100%|██████████| 299/299 [00:00<00:00, 5672.57it/s]"
     ]
    },
    {
     "name": "stderr",
     "output_type": "stream",
     "text": [
      "\n",
      "\r",
      "  0%|          | 0/299 [00:00<?, ?it/s]"
     ]
    },
    {
     "name": "stderr",
     "output_type": "stream",
     "text": [
      "\r",
      "100%|██████████| 299/299 [00:00<00:00, 6003.39it/s]"
     ]
    },
    {
     "name": "stderr",
     "output_type": "stream",
     "text": [
      "\n",
      "\r",
      "  0%|          | 0/299 [00:00<?, ?it/s]"
     ]
    },
    {
     "name": "stderr",
     "output_type": "stream",
     "text": [
      "\r",
      "100%|██████████| 299/299 [00:00<00:00, 5999.57it/s]"
     ]
    },
    {
     "name": "stderr",
     "output_type": "stream",
     "text": [
      "\n",
      "\r",
      "  0%|          | 0/299 [00:00<?, ?it/s]"
     ]
    },
    {
     "name": "stderr",
     "output_type": "stream",
     "text": [
      "\r",
      "100%|██████████| 299/299 [00:00<00:00, 5566.42it/s]"
     ]
    },
    {
     "name": "stderr",
     "output_type": "stream",
     "text": [
      "\n",
      "\r",
      "  0%|          | 0/299 [00:00<?, ?it/s]"
     ]
    },
    {
     "name": "stderr",
     "output_type": "stream",
     "text": [
      "\r",
      "100%|██████████| 299/299 [00:00<00:00, 5523.54it/s]"
     ]
    },
    {
     "name": "stderr",
     "output_type": "stream",
     "text": [
      "\n",
      "\r",
      "  0%|          | 0/299 [00:00<?, ?it/s]"
     ]
    },
    {
     "name": "stderr",
     "output_type": "stream",
     "text": [
      "\r",
      "100%|██████████| 299/299 [00:00<00:00, 5326.07it/s]"
     ]
    },
    {
     "name": "stderr",
     "output_type": "stream",
     "text": [
      "\n"
     ]
    }
   ],
   "source": [
    "map_results=[]\n",
    "for i in range(20):\n",
    "    data = gibbs.sample(size=n_samples)\n",
    "    student_tr = BayesianModel([('D', 'G'), ('I', 'G'),('I','S'),('G','L')])\n",
    "    student_tr.fit(data)\n",
    "    student_tr_infer = VariableElimination(student_tr)\n",
    "    map_q = student_tr_infer.map_query(['I'], evidence={'L': 1},show_progress=False)\n",
    "    map_results.append(map_q['I'])    \n",
    "max_I = np.asarray(map_results)"
   ]
  },
  {
   "cell_type": "code",
   "execution_count": 60,
   "id": "8dbda20d",
   "metadata": {
    "execution": {
     "iopub.execute_input": "2021-05-12T12:44:14.106179Z",
     "iopub.status.busy": "2021-05-12T12:44:14.105714Z",
     "iopub.status.idle": "2021-05-12T12:44:14.107930Z",
     "shell.execute_reply": "2021-05-12T12:44:14.108266Z"
    },
    "slideshow": {
     "slide_type": "fragment"
    }
   },
   "outputs": [
    {
     "data": {
      "text/plain": [
       "0.3"
      ]
     },
     "execution_count": 60,
     "metadata": {},
     "output_type": "execute_result"
    }
   ],
   "source": [
    "max_I.mean()"
   ]
  },
  {
   "cell_type": "markdown",
   "id": "9ca82fb5",
   "metadata": {
    "slideshow": {
     "slide_type": "skip"
    }
   },
   "source": [
    "So once in a while we get the wrong answer: the probability that student is highly inteligent is higher then medium inteligent in oposition to the original model.  While this examples implies caution while interpreting the model inference, we should be aware that in case of so small difference between the probabilities we should probably treat them as equal anyway."
   ]
  },
  {
   "cell_type": "markdown",
   "id": "fb46af69",
   "metadata": {
    "slideshow": {
     "slide_type": "slide"
    }
   },
   "source": [
    "## Conditional independence and d-separability"
   ]
  },
  {
   "cell_type": "markdown",
   "id": "41a9dca2",
   "metadata": {
    "slideshow": {
     "slide_type": "skip"
    }
   },
   "source": [
    "I will now briefly discuss what additional information can be extracted from the graphs."
   ]
  },
  {
   "cell_type": "markdown",
   "id": "9b766448",
   "metadata": {
    "slideshow": {
     "slide_type": "fragment"
    }
   },
   "source": [
    "__1.__\n",
    "\n",
    "Consider the  difficulty of the course and the recomendation letter. Those two random variables are cleary correlated. If the course is more difficult, then the probability of lower grade is higher and hence the probability of strong letter is lower. Formaly we can calculate"
   ]
  },
  {
   "cell_type": "markdown",
   "id": "9dd29843",
   "metadata": {
    "slideshow": {
     "slide_type": "fragment"
    }
   },
   "source": [
    "$$P(L=l,D=d)=\\sum_{g,i} P(L=l|G=g)P(G=g|I=i,D=d)P(I=i)P(D=d)$$"
   ]
  },
  {
   "cell_type": "markdown",
   "id": "9420731b",
   "metadata": {
    "slideshow": {
     "slide_type": "skip"
    }
   },
   "source": [
    "In general this will not be equal to "
   ]
  },
  {
   "cell_type": "markdown",
   "id": "0fae803c",
   "metadata": {
    "slideshow": {
     "slide_type": "fragment"
    }
   },
   "source": [
    "$$P(L=l)\\cdot P(D=d)=P(D=d)\\sum_{g,i,d'} P(L=l|G=g)P(G=g|I=i,D=d')P(D=d')P(I=i)$$"
   ]
  },
  {
   "cell_type": "markdown",
   "id": "f8888b86",
   "metadata": {
    "slideshow": {
     "slide_type": "skip"
    }
   },
   "source": [
    "but you can check it by  explicit substitution of the probability values from the tables above or using the pgmpy library"
   ]
  },
  {
   "cell_type": "code",
   "execution_count": 61,
   "id": "6891c9b9",
   "metadata": {
    "collapsed": true,
    "execution": {
     "iopub.execute_input": "2021-05-12T12:44:14.113058Z",
     "iopub.status.busy": "2021-05-12T12:44:14.112554Z",
     "iopub.status.idle": "2021-05-12T12:44:14.125779Z",
     "shell.execute_reply": "2021-05-12T12:44:14.124811Z"
    },
    "jupyter": {
     "outputs_hidden": true,
     "source_hidden": true
    },
    "slideshow": {
     "slide_type": "skip"
    },
    "tags": [
     "answer"
    ]
   },
   "outputs": [
    {
     "name": "stderr",
     "output_type": "stream",
     "text": [
      "\r",
      "  0%|          | 0/3 [00:00<?, ?it/s]"
     ]
    },
    {
     "name": "stderr",
     "output_type": "stream",
     "text": [
      "\r",
      "Finding Elimination Order: :   0%|          | 0/3 [00:00<?, ?it/s]"
     ]
    },
    {
     "name": "stderr",
     "output_type": "stream",
     "text": [
      "\n"
     ]
    },
    {
     "name": "stderr",
     "output_type": "stream",
     "text": [
      "\r",
      "  0%|          | 0/3 [00:00<?, ?it/s]"
     ]
    },
    {
     "name": "stderr",
     "output_type": "stream",
     "text": [
      "\u001b[A"
     ]
    },
    {
     "name": "stderr",
     "output_type": "stream",
     "text": [
      "\n"
     ]
    },
    {
     "name": "stderr",
     "output_type": "stream",
     "text": [
      "\r",
      "Eliminating: S:   0%|          | 0/3 [00:00<?, ?it/s]"
     ]
    },
    {
     "name": "stderr",
     "output_type": "stream",
     "text": [
      "\u001b[A"
     ]
    },
    {
     "name": "stderr",
     "output_type": "stream",
     "text": [
      "\n"
     ]
    },
    {
     "name": "stderr",
     "output_type": "stream",
     "text": [
      "\r",
      "Eliminating: I:   0%|          | 0/3 [00:00<?, ?it/s]"
     ]
    },
    {
     "name": "stderr",
     "output_type": "stream",
     "text": [
      "\u001b[A"
     ]
    },
    {
     "name": "stderr",
     "output_type": "stream",
     "text": [
      "\n"
     ]
    },
    {
     "name": "stderr",
     "output_type": "stream",
     "text": [
      "\r",
      "Eliminating: G:   0%|          | 0/3 [00:00<?, ?it/s]"
     ]
    },
    {
     "name": "stderr",
     "output_type": "stream",
     "text": [
      "\u001b[A"
     ]
    },
    {
     "name": "stderr",
     "output_type": "stream",
     "text": [
      "\r",
      "Eliminating: G: 100%|██████████| 3/3 [00:00<00:00, 488.66it/s]"
     ]
    },
    {
     "name": "stderr",
     "output_type": "stream",
     "text": [
      "\n"
     ]
    }
   ],
   "source": [
    "p_ld = student_infer.query(['L','D']) "
   ]
  },
  {
   "cell_type": "code",
   "execution_count": 62,
   "id": "c912db56",
   "metadata": {
    "collapsed": true,
    "execution": {
     "iopub.execute_input": "2021-05-12T12:44:14.128551Z",
     "iopub.status.busy": "2021-05-12T12:44:14.128052Z",
     "iopub.status.idle": "2021-05-12T12:44:14.129959Z",
     "shell.execute_reply": "2021-05-12T12:44:14.130275Z"
    },
    "jupyter": {
     "outputs_hidden": true,
     "source_hidden": true
    },
    "slideshow": {
     "slide_type": "skip"
    },
    "tags": [
     "answer"
    ]
   },
   "outputs": [
    {
     "name": "stdout",
     "output_type": "stream",
     "text": [
      "+------+------+------------+\n",
      "| D    | L    |   phi(D,L) |\n",
      "+======+======+============+\n",
      "| D(0) | L(0) |     0.2301 |\n",
      "+------+------+------------+\n",
      "| D(0) | L(1) |     0.3699 |\n",
      "+------+------+------------+\n",
      "| D(1) | L(0) |     0.2676 |\n",
      "+------+------+------------+\n",
      "| D(1) | L(1) |     0.1324 |\n",
      "+------+------+------------+\n"
     ]
    }
   ],
   "source": [
    "print(p_ld)"
   ]
  },
  {
   "cell_type": "code",
   "execution_count": 63,
   "id": "54667bb1",
   "metadata": {
    "execution": {
     "iopub.execute_input": "2021-05-12T12:44:14.135455Z",
     "iopub.status.busy": "2021-05-12T12:44:14.134652Z",
     "iopub.status.idle": "2021-05-12T12:44:14.162795Z",
     "shell.execute_reply": "2021-05-12T12:44:14.161902Z"
    },
    "slideshow": {
     "slide_type": "skip"
    }
   },
   "outputs": [
    {
     "name": "stderr",
     "output_type": "stream",
     "text": [
      "\n"
     ]
    },
    {
     "name": "stderr",
     "output_type": "stream",
     "text": [
      "\r",
      "  0%|          | 0/4 [00:00<?, ?it/s]"
     ]
    },
    {
     "name": "stderr",
     "output_type": "stream",
     "text": [
      "\u001b[A"
     ]
    },
    {
     "name": "stderr",
     "output_type": "stream",
     "text": [
      "\n"
     ]
    },
    {
     "name": "stderr",
     "output_type": "stream",
     "text": [
      "\r",
      "Finding Elimination Order: :   0%|          | 0/4 [00:00<?, ?it/s]"
     ]
    },
    {
     "name": "stderr",
     "output_type": "stream",
     "text": [
      "\u001b[A"
     ]
    },
    {
     "name": "stderr",
     "output_type": "stream",
     "text": [
      "\n",
      "\n"
     ]
    },
    {
     "name": "stderr",
     "output_type": "stream",
     "text": [
      "\r",
      "  0%|          | 0/4 [00:00<?, ?it/s]"
     ]
    },
    {
     "name": "stderr",
     "output_type": "stream",
     "text": [
      "\u001b[A\u001b[A"
     ]
    },
    {
     "name": "stderr",
     "output_type": "stream",
     "text": [
      "\n",
      "\n"
     ]
    },
    {
     "name": "stderr",
     "output_type": "stream",
     "text": [
      "\r",
      "Eliminating: S:   0%|          | 0/4 [00:00<?, ?it/s]"
     ]
    },
    {
     "name": "stderr",
     "output_type": "stream",
     "text": [
      "\u001b[A\u001b[A"
     ]
    },
    {
     "name": "stderr",
     "output_type": "stream",
     "text": [
      "\n",
      "\n"
     ]
    },
    {
     "name": "stderr",
     "output_type": "stream",
     "text": [
      "\r",
      "Eliminating: I:   0%|          | 0/4 [00:00<?, ?it/s]"
     ]
    },
    {
     "name": "stderr",
     "output_type": "stream",
     "text": [
      "\u001b[A\u001b[A"
     ]
    },
    {
     "name": "stderr",
     "output_type": "stream",
     "text": [
      "\n",
      "\n"
     ]
    },
    {
     "name": "stderr",
     "output_type": "stream",
     "text": [
      "\r",
      "Eliminating: G:   0%|          | 0/4 [00:00<?, ?it/s]"
     ]
    },
    {
     "name": "stderr",
     "output_type": "stream",
     "text": [
      "\u001b[A\u001b[A"
     ]
    },
    {
     "name": "stderr",
     "output_type": "stream",
     "text": [
      "\n",
      "\n"
     ]
    },
    {
     "name": "stderr",
     "output_type": "stream",
     "text": [
      "\r",
      "Eliminating: D:   0%|          | 0/4 [00:00<?, ?it/s]"
     ]
    },
    {
     "name": "stderr",
     "output_type": "stream",
     "text": [
      "\u001b[A\u001b[A"
     ]
    },
    {
     "name": "stderr",
     "output_type": "stream",
     "text": [
      "\r",
      "Eliminating: D: 100%|██████████| 4/4 [00:00<00:00, 630.63it/s]"
     ]
    },
    {
     "name": "stderr",
     "output_type": "stream",
     "text": [
      "\n",
      "\r",
      "Finding Elimination Order: : 100%|██████████| 3/3 [00:00<00:00, 85.14it/s]"
     ]
    },
    {
     "name": "stderr",
     "output_type": "stream",
     "text": [
      "\n",
      "\r",
      "Finding Elimination Order: : 100%|██████████| 4/4 [00:00<00:00, 325.02it/s]"
     ]
    },
    {
     "name": "stderr",
     "output_type": "stream",
     "text": [
      "\n",
      "\r",
      "  0%|          | 0/4 [00:00<?, ?it/s]"
     ]
    },
    {
     "name": "stderr",
     "output_type": "stream",
     "text": [
      "\r",
      "Finding Elimination Order: :   0%|          | 0/4 [00:00<?, ?it/s]"
     ]
    },
    {
     "name": "stderr",
     "output_type": "stream",
     "text": [
      "\n"
     ]
    },
    {
     "name": "stderr",
     "output_type": "stream",
     "text": [
      "\r",
      "  0%|          | 0/4 [00:00<?, ?it/s]"
     ]
    },
    {
     "name": "stderr",
     "output_type": "stream",
     "text": [
      "\u001b[A"
     ]
    },
    {
     "name": "stderr",
     "output_type": "stream",
     "text": [
      "\n"
     ]
    },
    {
     "name": "stderr",
     "output_type": "stream",
     "text": [
      "\r",
      "Eliminating: S:   0%|          | 0/4 [00:00<?, ?it/s]"
     ]
    },
    {
     "name": "stderr",
     "output_type": "stream",
     "text": [
      "\u001b[A"
     ]
    },
    {
     "name": "stderr",
     "output_type": "stream",
     "text": [
      "\n"
     ]
    },
    {
     "name": "stderr",
     "output_type": "stream",
     "text": [
      "\r",
      "Eliminating: I:   0%|          | 0/4 [00:00<?, ?it/s]"
     ]
    },
    {
     "name": "stderr",
     "output_type": "stream",
     "text": [
      "\u001b[A"
     ]
    },
    {
     "name": "stderr",
     "output_type": "stream",
     "text": [
      "\n"
     ]
    },
    {
     "name": "stderr",
     "output_type": "stream",
     "text": [
      "\r",
      "Eliminating: G:   0%|          | 0/4 [00:00<?, ?it/s]"
     ]
    },
    {
     "name": "stderr",
     "output_type": "stream",
     "text": [
      "\u001b[A"
     ]
    },
    {
     "name": "stderr",
     "output_type": "stream",
     "text": [
      "\n"
     ]
    },
    {
     "name": "stderr",
     "output_type": "stream",
     "text": [
      "\r",
      "Eliminating: L:   0%|          | 0/4 [00:00<?, ?it/s]"
     ]
    },
    {
     "name": "stderr",
     "output_type": "stream",
     "text": [
      "\u001b[A"
     ]
    },
    {
     "name": "stderr",
     "output_type": "stream",
     "text": [
      "\r",
      "Eliminating: L: 100%|██████████| 4/4 [00:00<00:00, 643.94it/s]"
     ]
    },
    {
     "name": "stderr",
     "output_type": "stream",
     "text": [
      "\n"
     ]
    }
   ],
   "source": [
    "p_l = student_infer.query(['L'])\n",
    "p_d = student_infer.query(['D'])"
   ]
  },
  {
   "cell_type": "code",
   "execution_count": 64,
   "id": "b703de98",
   "metadata": {
    "collapsed": true,
    "execution": {
     "iopub.execute_input": "2021-05-12T12:44:14.165907Z",
     "iopub.status.busy": "2021-05-12T12:44:14.165460Z",
     "iopub.status.idle": "2021-05-12T12:44:14.167525Z",
     "shell.execute_reply": "2021-05-12T12:44:14.167908Z"
    },
    "jupyter": {
     "outputs_hidden": true,
     "source_hidden": true
    },
    "slideshow": {
     "slide_type": "skip"
    },
    "tags": [
     "answer"
    ]
   },
   "outputs": [
    {
     "name": "stdout",
     "output_type": "stream",
     "text": [
      "+------+------+------------+\n",
      "| D    | L    |   phi(D,L) |\n",
      "+======+======+============+\n",
      "| D(0) | L(0) |     0.2986 |\n",
      "+------+------+------------+\n",
      "| D(0) | L(1) |     0.3014 |\n",
      "+------+------+------------+\n",
      "| D(1) | L(0) |     0.1991 |\n",
      "+------+------+------------+\n",
      "| D(1) | L(1) |     0.2009 |\n",
      "+------+------+------------+\n"
     ]
    }
   ],
   "source": [
    "print(p_d.product(p_l, inplace=False))"
   ]
  },
  {
   "cell_type": "markdown",
   "id": "328033a4",
   "metadata": {
    "slideshow": {
     "slide_type": "skip"
    }
   },
   "source": [
    "But let' suppose that we know the grade, then "
   ]
  },
  {
   "cell_type": "markdown",
   "id": "fa1f7ec0",
   "metadata": {
    "slideshow": {
     "slide_type": "slide"
    }
   },
   "source": [
    "$$P(L=l,D=d|G=g)=\\frac{\\sum_{i} P(L=l|G=g)P(G=g|I=i,D=d)P(I=i)P(D=d)}{P(G=g)}$$"
   ]
  },
  {
   "cell_type": "markdown",
   "id": "c15c1196",
   "metadata": {
    "slideshow": {
     "slide_type": "skip"
    }
   },
   "source": [
    "and"
   ]
  },
  {
   "cell_type": "markdown",
   "id": "8ed7d8f1",
   "metadata": {
    "slideshow": {
     "slide_type": "fragment"
    }
   },
   "source": [
    "$$P(L=l|G=g)\\cdot P(D=d|G=g)\n",
    "=P(L=l|G=g)\\frac{\\sum_i P(G=g|D=d,I=i)P(I=i)P(D=d)}{\\sum_{i,d} P(G=g|D=d,I=i)P(I=i)P(D=d)}\n",
    "=P(L=l|G=g)\\frac{\\sum_i P(G=g|D=d,I=i)P(I=i)P(D=d)}{P(G=g)}\n",
    "$$"
   ]
  },
  {
   "cell_type": "markdown",
   "id": "bb7ff03f",
   "metadata": {
    "slideshow": {
     "slide_type": "skip"
    }
   },
   "source": [
    "Both expressions are the same, so variables $L$ nad $D$ when conditioned on $G$ are conditionally independent. Again this is intuitively clear: the letter by assumption depeds only on the grade. Once grade is fixed there is no more dependence on any other variable. We can check this explicitely using pgmpy"
   ]
  },
  {
   "cell_type": "code",
   "execution_count": 65,
   "id": "1a3494d5",
   "metadata": {
    "collapsed": true,
    "execution": {
     "iopub.execute_input": "2021-05-12T12:44:14.174406Z",
     "iopub.status.busy": "2021-05-12T12:44:14.173868Z",
     "iopub.status.idle": "2021-05-12T12:44:14.209396Z",
     "shell.execute_reply": "2021-05-12T12:44:14.209047Z"
    },
    "jupyter": {
     "outputs_hidden": true,
     "source_hidden": true
    },
    "slideshow": {
     "slide_type": "skip"
    },
    "tags": [
     "answer"
    ]
   },
   "outputs": [
    {
     "name": "stderr",
     "output_type": "stream",
     "text": [
      "\n"
     ]
    },
    {
     "name": "stderr",
     "output_type": "stream",
     "text": [
      "\r",
      "  0%|          | 0/2 [00:00<?, ?it/s]"
     ]
    },
    {
     "name": "stderr",
     "output_type": "stream",
     "text": [
      "\u001b[A"
     ]
    },
    {
     "name": "stderr",
     "output_type": "stream",
     "text": [
      "\n"
     ]
    },
    {
     "name": "stderr",
     "output_type": "stream",
     "text": [
      "\r",
      "Finding Elimination Order: :   0%|          | 0/2 [00:00<?, ?it/s]"
     ]
    },
    {
     "name": "stderr",
     "output_type": "stream",
     "text": [
      "\u001b[A"
     ]
    },
    {
     "name": "stderr",
     "output_type": "stream",
     "text": [
      "\n",
      "\n"
     ]
    },
    {
     "name": "stderr",
     "output_type": "stream",
     "text": [
      "\r",
      "  0%|          | 0/2 [00:00<?, ?it/s]"
     ]
    },
    {
     "name": "stderr",
     "output_type": "stream",
     "text": [
      "\u001b[A\u001b[A"
     ]
    },
    {
     "name": "stderr",
     "output_type": "stream",
     "text": [
      "\n",
      "\n"
     ]
    },
    {
     "name": "stderr",
     "output_type": "stream",
     "text": [
      "\r",
      "Eliminating: S:   0%|          | 0/2 [00:00<?, ?it/s]"
     ]
    },
    {
     "name": "stderr",
     "output_type": "stream",
     "text": [
      "\u001b[A\u001b[A"
     ]
    },
    {
     "name": "stderr",
     "output_type": "stream",
     "text": [
      "\n",
      "\n"
     ]
    },
    {
     "name": "stderr",
     "output_type": "stream",
     "text": [
      "\r",
      "Eliminating: I:   0%|          | 0/2 [00:00<?, ?it/s]"
     ]
    },
    {
     "name": "stderr",
     "output_type": "stream",
     "text": [
      "\u001b[A\u001b[A"
     ]
    },
    {
     "name": "stderr",
     "output_type": "stream",
     "text": [
      "\r",
      "Eliminating: I: 100%|██████████| 2/2 [00:00<00:00, 656.80it/s]"
     ]
    },
    {
     "name": "stderr",
     "output_type": "stream",
     "text": [
      "\n",
      "\n",
      "\n"
     ]
    },
    {
     "name": "stderr",
     "output_type": "stream",
     "text": [
      "\r",
      "  0%|          | 0/3 [00:00<?, ?it/s]"
     ]
    },
    {
     "name": "stderr",
     "output_type": "stream",
     "text": [
      "\u001b[A\u001b[A"
     ]
    },
    {
     "name": "stderr",
     "output_type": "stream",
     "text": [
      "\n",
      "\n"
     ]
    },
    {
     "name": "stderr",
     "output_type": "stream",
     "text": [
      "\r",
      "Finding Elimination Order: :   0%|          | 0/3 [00:00<?, ?it/s]"
     ]
    },
    {
     "name": "stderr",
     "output_type": "stream",
     "text": [
      "\u001b[A\u001b[A"
     ]
    },
    {
     "name": "stderr",
     "output_type": "stream",
     "text": [
      "\n",
      "\n",
      "\n"
     ]
    },
    {
     "name": "stderr",
     "output_type": "stream",
     "text": [
      "\r",
      "  0%|          | 0/3 [00:00<?, ?it/s]"
     ]
    },
    {
     "name": "stderr",
     "output_type": "stream",
     "text": [
      "\u001b[A\u001b[A\u001b[A"
     ]
    },
    {
     "name": "stderr",
     "output_type": "stream",
     "text": [
      "\n",
      "\n",
      "\n"
     ]
    },
    {
     "name": "stderr",
     "output_type": "stream",
     "text": [
      "\r",
      "Eliminating: S:   0%|          | 0/3 [00:00<?, ?it/s]"
     ]
    },
    {
     "name": "stderr",
     "output_type": "stream",
     "text": [
      "\u001b[A\u001b[A\u001b[A"
     ]
    },
    {
     "name": "stderr",
     "output_type": "stream",
     "text": [
      "\n",
      "\n",
      "\n"
     ]
    },
    {
     "name": "stderr",
     "output_type": "stream",
     "text": [
      "\r",
      "Eliminating: I:   0%|          | 0/3 [00:00<?, ?it/s]"
     ]
    },
    {
     "name": "stderr",
     "output_type": "stream",
     "text": [
      "\u001b[A\u001b[A\u001b[A"
     ]
    },
    {
     "name": "stderr",
     "output_type": "stream",
     "text": [
      "\n",
      "\n",
      "\n"
     ]
    },
    {
     "name": "stderr",
     "output_type": "stream",
     "text": [
      "\r",
      "Eliminating: L:   0%|          | 0/3 [00:00<?, ?it/s]"
     ]
    },
    {
     "name": "stderr",
     "output_type": "stream",
     "text": [
      "\u001b[A\u001b[A\u001b[A"
     ]
    },
    {
     "name": "stderr",
     "output_type": "stream",
     "text": [
      "\r",
      "Eliminating: L: 100%|██████████| 3/3 [00:00<00:00, 662.68it/s]"
     ]
    },
    {
     "name": "stderr",
     "output_type": "stream",
     "text": [
      "\n",
      "\r",
      "Finding Elimination Order: : 100%|██████████| 4/4 [00:00<00:00, 84.94it/s]"
     ]
    },
    {
     "name": "stderr",
     "output_type": "stream",
     "text": [
      "\n",
      "\r",
      "Finding Elimination Order: : 100%|██████████| 2/2 [00:00<00:00, 87.64it/s]"
     ]
    },
    {
     "name": "stderr",
     "output_type": "stream",
     "text": [
      "\n",
      "\r",
      "Finding Elimination Order: : 100%|██████████| 3/3 [00:00<00:00, 242.08it/s]"
     ]
    },
    {
     "name": "stderr",
     "output_type": "stream",
     "text": [
      "\n",
      "\r",
      "  0%|          | 0/3 [00:00<?, ?it/s]"
     ]
    },
    {
     "name": "stderr",
     "output_type": "stream",
     "text": [
      "\r",
      "Finding Elimination Order: :   0%|          | 0/3 [00:00<?, ?it/s]"
     ]
    },
    {
     "name": "stderr",
     "output_type": "stream",
     "text": [
      "\n"
     ]
    },
    {
     "name": "stderr",
     "output_type": "stream",
     "text": [
      "\r",
      "  0%|          | 0/3 [00:00<?, ?it/s]"
     ]
    },
    {
     "name": "stderr",
     "output_type": "stream",
     "text": [
      "\u001b[A"
     ]
    },
    {
     "name": "stderr",
     "output_type": "stream",
     "text": [
      "\n"
     ]
    },
    {
     "name": "stderr",
     "output_type": "stream",
     "text": [
      "\r",
      "Eliminating: S:   0%|          | 0/3 [00:00<?, ?it/s]"
     ]
    },
    {
     "name": "stderr",
     "output_type": "stream",
     "text": [
      "\u001b[A"
     ]
    },
    {
     "name": "stderr",
     "output_type": "stream",
     "text": [
      "\n"
     ]
    },
    {
     "name": "stderr",
     "output_type": "stream",
     "text": [
      "\r",
      "Eliminating: I:   0%|          | 0/3 [00:00<?, ?it/s]"
     ]
    },
    {
     "name": "stderr",
     "output_type": "stream",
     "text": [
      "\u001b[A"
     ]
    },
    {
     "name": "stderr",
     "output_type": "stream",
     "text": [
      "\n"
     ]
    },
    {
     "name": "stderr",
     "output_type": "stream",
     "text": [
      "\r",
      "Eliminating: D:   0%|          | 0/3 [00:00<?, ?it/s]"
     ]
    },
    {
     "name": "stderr",
     "output_type": "stream",
     "text": [
      "\u001b[A"
     ]
    },
    {
     "name": "stderr",
     "output_type": "stream",
     "text": [
      "\r",
      "Eliminating: D: 100%|██████████| 3/3 [00:00<00:00, 696.73it/s]"
     ]
    },
    {
     "name": "stderr",
     "output_type": "stream",
     "text": [
      "\n"
     ]
    }
   ],
   "source": [
    "p_ld_g = student_infer.query(['L','D'], evidence={'G':0})\n",
    "p_d_g = student_infer.query(['D'], evidence={'G':0})\n",
    "p_l_g = student_infer.query(['L'], evidence={'G':0})"
   ]
  },
  {
   "cell_type": "code",
   "execution_count": 66,
   "id": "36d0e709",
   "metadata": {
    "collapsed": true,
    "execution": {
     "iopub.execute_input": "2021-05-12T12:44:14.212289Z",
     "iopub.status.busy": "2021-05-12T12:44:14.211826Z",
     "iopub.status.idle": "2021-05-12T12:44:14.213696Z",
     "shell.execute_reply": "2021-05-12T12:44:14.214119Z"
    },
    "jupyter": {
     "outputs_hidden": true,
     "source_hidden": true
    },
    "slideshow": {
     "slide_type": "skip"
    },
    "tags": [
     "answer"
    ]
   },
   "outputs": [
    {
     "name": "stdout",
     "output_type": "stream",
     "text": [
      "+------+------+------------+\n",
      "| D    | L    |   phi(D,L) |\n",
      "+======+======+============+\n",
      "| D(0) | L(0) |     0.0796 |\n",
      "+------+------+------------+\n",
      "| D(0) | L(1) |     0.7160 |\n",
      "+------+------+------------+\n",
      "| D(1) | L(0) |     0.0204 |\n",
      "+------+------+------------+\n",
      "| D(1) | L(1) |     0.1840 |\n",
      "+------+------+------------+\n"
     ]
    }
   ],
   "source": [
    "print(p_ld_g)"
   ]
  },
  {
   "cell_type": "code",
   "execution_count": 67,
   "id": "2df5b48e",
   "metadata": {
    "collapsed": true,
    "execution": {
     "iopub.execute_input": "2021-05-12T12:44:14.217283Z",
     "iopub.status.busy": "2021-05-12T12:44:14.216785Z",
     "iopub.status.idle": "2021-05-12T12:44:14.218848Z",
     "shell.execute_reply": "2021-05-12T12:44:14.219239Z"
    },
    "jupyter": {
     "outputs_hidden": true,
     "source_hidden": true
    },
    "slideshow": {
     "slide_type": "skip"
    },
    "tags": [
     "answer"
    ]
   },
   "outputs": [
    {
     "name": "stdout",
     "output_type": "stream",
     "text": [
      "+------+------+------------+\n",
      "| D    | L    |   phi(D,L) |\n",
      "+======+======+============+\n",
      "| D(0) | L(0) |     0.0796 |\n",
      "+------+------+------------+\n",
      "| D(0) | L(1) |     0.7160 |\n",
      "+------+------+------------+\n",
      "| D(1) | L(0) |     0.0204 |\n",
      "+------+------+------------+\n",
      "| D(1) | L(1) |     0.1840 |\n",
      "+------+------+------------+\n"
     ]
    }
   ],
   "source": [
    "print(p_d_g.product(p_l_g, inplace=False) ) "
   ]
  },
  {
   "cell_type": "markdown",
   "id": "abcfc170",
   "metadata": {
    "slideshow": {
     "slide_type": "slide"
    }
   },
   "source": [
    "__2.__ \n",
    "\n",
    "Now look at the grade $G$  and SAT score $S$. Both variables are  dependent: they both depend on inteligence. E.g. once we know that the SAT score is high the probability of high inteligence goes up and so does the probability of the high grade:"
   ]
  },
  {
   "cell_type": "markdown",
   "id": "fbc55e5d",
   "metadata": {
    "slideshow": {
     "slide_type": "fragment"
    }
   },
   "source": [
    "$$P(G=g,S=s)=\\sum_i P(G=g|I=i)P(S=s|I=i)P(I=i)$$ "
   ]
  },
  {
   "cell_type": "markdown",
   "id": "bfd14ec3",
   "metadata": {
    "slideshow": {
     "slide_type": "fragment"
    }
   },
   "source": [
    "which in general will not factorise into:"
   ]
  },
  {
   "cell_type": "markdown",
   "id": "6535ad1d",
   "metadata": {
    "slideshow": {
     "slide_type": "fragment"
    }
   },
   "source": [
    "$$P(G=g)P(S=s)=\\sum_i P(G=g|I=i)P(i)\\sum_{i'}P(S=s|I=i')P(I=i')$$ "
   ]
  },
  {
   "cell_type": "markdown",
   "id": "92999aec",
   "metadata": {
    "slideshow": {
     "slide_type": "skip"
    }
   },
   "source": [
    "But if we fix the intelligence e.g. by measuring it separately then"
   ]
  },
  {
   "cell_type": "markdown",
   "id": "e3cd97b8",
   "metadata": {
    "slideshow": {
     "slide_type": "fragment"
    }
   },
   "source": [
    "$$P(G=g,S=s|I=i)=\\frac{P(G=g|I=i)P(S=s|I=i)P(I=i)}{P(I=i)} = P(G=g|I=i)P(S=s|I=i)$$ "
   ]
  },
  {
   "cell_type": "markdown",
   "id": "10abdf0d",
   "metadata": {
    "slideshow": {
     "slide_type": "skip"
    }
   },
   "source": [
    "and again we found that the variables are conditionally independent. "
   ]
  },
  {
   "cell_type": "markdown",
   "id": "75150f15",
   "metadata": {
    "slideshow": {
     "slide_type": "subslide"
    }
   },
   "source": [
    "__3.__ \n",
    "\n",
    "Finally let's consider variables $I$ and $D$. Those variables are independent by definition. But supose that we know the grade. If we know that that grade is high and the intelligence is medium than we are more likely  assume that the course was not difficult. This is known as _explaning away_: The high grade is explained away by the low difficulty of the course. "
   ]
  },
  {
   "cell_type": "markdown",
   "id": "755d280c",
   "metadata": {
    "slideshow": {
     "slide_type": "skip"
    }
   },
   "source": [
    "So by fixing the grade we have introduced the correlation betwee two independent variables:"
   ]
  },
  {
   "cell_type": "markdown",
   "id": "c0563d8d",
   "metadata": {
    "slideshow": {
     "slide_type": "fragment"
    }
   },
   "source": [
    "$$P(I=i,D=d|G=g)= P(G=g|I=i, D=d)P(I=i)P(D=d)$$"
   ]
  },
  {
   "cell_type": "markdown",
   "id": "f5259025",
   "metadata": {
    "slideshow": {
     "slide_type": "skip"
    }
   },
   "source": [
    "which in general will not be equal to\n"
   ]
  },
  {
   "cell_type": "markdown",
   "id": "6cbe1d06",
   "metadata": {
    "slideshow": {
     "slide_type": "fragment"
    }
   },
   "source": [
    "$$P(I=i|G=g)P(D=d|G=g)= \\frac{\\sum_{d'} P(G=g|I=i, D=d)P(I=i)P(D=d)}{P(G=g)}\\frac{\\sum_{i'} P(G=g|I=i, D=d)P(I=i)P(D=d)}{P(G=g)}$$"
   ]
  },
  {
   "cell_type": "markdown",
   "id": "303f5035",
   "metadata": {
    "slideshow": {
     "slide_type": "slide"
    }
   },
   "source": [
    "## D-separability"
   ]
  },
  {
   "cell_type": "markdown",
   "id": "94f76386",
   "metadata": {
    "slideshow": {
     "slide_type": "skip"
    }
   },
   "source": [
    "We have analysed three possible situations that can be graphically represents as:"
   ]
  },
  {
   "cell_type": "code",
   "execution_count": 68,
   "id": "bab72a6c",
   "metadata": {
    "execution": {
     "iopub.execute_input": "2021-05-12T12:44:14.222681Z",
     "iopub.status.busy": "2021-05-12T12:44:14.222196Z",
     "iopub.status.idle": "2021-05-12T12:44:14.223903Z",
     "shell.execute_reply": "2021-05-12T12:44:14.224224Z"
    },
    "slideshow": {
     "slide_type": "skip"
    },
    "tags": [
     "hide"
    ]
   },
   "outputs": [],
   "source": [
    "head_to_tail = graphviz.Digraph(graph_attr={'rankdir' : 'LR'}, node_attr={'shape':'circle'})\n",
    "head_to_tail.node('L')\n",
    "head_to_tail.node('D')\n",
    "head_to_tail.attr('node', shape='doublecircle')\n",
    "head_to_tail.node('G')\n",
    "\n",
    "head_to_tail.edges([('D','G'), ('G','L')])"
   ]
  },
  {
   "cell_type": "code",
   "execution_count": 69,
   "id": "38795dfc",
   "metadata": {
    "execution": {
     "iopub.execute_input": "2021-05-12T12:44:14.227024Z",
     "iopub.status.busy": "2021-05-12T12:44:14.226562Z",
     "iopub.status.idle": "2021-05-12T12:44:14.430260Z",
     "shell.execute_reply": "2021-05-12T12:44:14.430588Z"
    },
    "slideshow": {
     "slide_type": "fragment"
    }
   },
   "outputs": [
    {
     "data": {
      "image/svg+xml": [
       "<?xml version=\"1.0\" encoding=\"UTF-8\" standalone=\"no\"?>\n",
       "<!DOCTYPE svg PUBLIC \"-//W3C//DTD SVG 1.1//EN\"\n",
       " \"http://www.w3.org/Graphics/SVG/1.1/DTD/svg11.dtd\">\n",
       "<!-- Generated by graphviz version 2.47.1 (0)\n",
       " -->\n",
       "<!-- Pages: 1 -->\n",
       "<svg width=\"196pt\" height=\"52pt\"\n",
       " viewBox=\"0.00 0.00 196.00 52.00\" xmlns=\"http://www.w3.org/2000/svg\" xmlns:xlink=\"http://www.w3.org/1999/xlink\">\n",
       "<g id=\"graph0\" class=\"graph\" transform=\"scale(1 1) rotate(0) translate(4 48)\">\n",
       "<polygon fill=\"white\" stroke=\"transparent\" points=\"-4,4 -4,-48 192,-48 192,4 -4,4\"/>\n",
       "<!-- L -->\n",
       "<g id=\"node1\" class=\"node\">\n",
       "<title>L</title>\n",
       "<ellipse fill=\"none\" stroke=\"black\" cx=\"170\" cy=\"-22\" rx=\"18\" ry=\"18\"/>\n",
       "<text text-anchor=\"middle\" x=\"170\" y=\"-18.3\" font-family=\"Times,serif\" font-size=\"14.00\">L</text>\n",
       "</g>\n",
       "<!-- D -->\n",
       "<g id=\"node2\" class=\"node\">\n",
       "<title>D</title>\n",
       "<ellipse fill=\"none\" stroke=\"black\" cx=\"18\" cy=\"-22\" rx=\"18\" ry=\"18\"/>\n",
       "<text text-anchor=\"middle\" x=\"18\" y=\"-18.3\" font-family=\"Times,serif\" font-size=\"14.00\">D</text>\n",
       "</g>\n",
       "<!-- G -->\n",
       "<g id=\"node3\" class=\"node\">\n",
       "<title>G</title>\n",
       "<ellipse fill=\"none\" stroke=\"black\" cx=\"94\" cy=\"-22\" rx=\"18\" ry=\"18\"/>\n",
       "<ellipse fill=\"none\" stroke=\"black\" cx=\"94\" cy=\"-22\" rx=\"22\" ry=\"22\"/>\n",
       "<text text-anchor=\"middle\" x=\"94\" y=\"-18.3\" font-family=\"Times,serif\" font-size=\"14.00\">G</text>\n",
       "</g>\n",
       "<!-- D&#45;&gt;G -->\n",
       "<g id=\"edge1\" class=\"edge\">\n",
       "<title>D&#45;&gt;G</title>\n",
       "<path fill=\"none\" stroke=\"black\" d=\"M36.16,-22C43.84,-22 53.12,-22 61.95,-22\"/>\n",
       "<polygon fill=\"black\" stroke=\"black\" points=\"61.97,-25.5 71.97,-22 61.97,-18.5 61.97,-25.5\"/>\n",
       "</g>\n",
       "<!-- G&#45;&gt;L -->\n",
       "<g id=\"edge2\" class=\"edge\">\n",
       "<title>G&#45;&gt;L</title>\n",
       "<path fill=\"none\" stroke=\"black\" d=\"M116.01,-22C123.94,-22 133.09,-22 141.52,-22\"/>\n",
       "<polygon fill=\"black\" stroke=\"black\" points=\"141.69,-25.5 151.69,-22 141.69,-18.5 141.69,-25.5\"/>\n",
       "</g>\n",
       "</g>\n",
       "</svg>\n"
      ],
      "text/plain": [
       "<graphviz.dot.Digraph at 0x18abac970>"
      ]
     },
     "execution_count": 69,
     "metadata": {},
     "output_type": "execute_result"
    }
   ],
   "source": [
    "head_to_tail"
   ]
  },
  {
   "cell_type": "code",
   "execution_count": 70,
   "id": "6400b6eb",
   "metadata": {
    "execution": {
     "iopub.execute_input": "2021-05-12T12:44:14.434256Z",
     "iopub.status.busy": "2021-05-12T12:44:14.433806Z",
     "iopub.status.idle": "2021-05-12T12:44:14.435380Z",
     "shell.execute_reply": "2021-05-12T12:44:14.435697Z"
    },
    "slideshow": {
     "slide_type": "skip"
    },
    "tags": [
     "hide"
    ]
   },
   "outputs": [],
   "source": [
    "tail_to_tail = graphviz.Digraph(graph_attr={'rankdir' : 'TB'}, node_attr={'shape':'circle'})\n",
    "tail_to_tail.node('G')\n",
    "tail_to_tail.node('S')\n",
    "tail_to_tail.attr('node', shape='doublecircle')\n",
    "tail_to_tail.node('I')\n",
    "tail_to_tail.edges([('I','G'), ('I','S')])"
   ]
  },
  {
   "cell_type": "code",
   "execution_count": 71,
   "id": "7bf088eb",
   "metadata": {
    "execution": {
     "iopub.execute_input": "2021-05-12T12:44:14.438396Z",
     "iopub.status.busy": "2021-05-12T12:44:14.437942Z",
     "iopub.status.idle": "2021-05-12T12:44:14.625071Z",
     "shell.execute_reply": "2021-05-12T12:44:14.625456Z"
    },
    "slideshow": {
     "slide_type": "fragment"
    }
   },
   "outputs": [
    {
     "data": {
      "image/svg+xml": [
       "<?xml version=\"1.0\" encoding=\"UTF-8\" standalone=\"no\"?>\n",
       "<!DOCTYPE svg PUBLIC \"-//W3C//DTD SVG 1.1//EN\"\n",
       " \"http://www.w3.org/Graphics/SVG/1.1/DTD/svg11.dtd\">\n",
       "<!-- Generated by graphviz version 2.47.1 (0)\n",
       " -->\n",
       "<!-- Pages: 1 -->\n",
       "<svg width=\"98pt\" height=\"124pt\"\n",
       " viewBox=\"0.00 0.00 98.00 124.00\" xmlns=\"http://www.w3.org/2000/svg\" xmlns:xlink=\"http://www.w3.org/1999/xlink\">\n",
       "<g id=\"graph0\" class=\"graph\" transform=\"scale(1 1) rotate(0) translate(4 120)\">\n",
       "<polygon fill=\"white\" stroke=\"transparent\" points=\"-4,4 -4,-120 94,-120 94,4 -4,4\"/>\n",
       "<!-- G -->\n",
       "<g id=\"node1\" class=\"node\">\n",
       "<title>G</title>\n",
       "<ellipse fill=\"none\" stroke=\"black\" cx=\"18\" cy=\"-18\" rx=\"18\" ry=\"18\"/>\n",
       "<text text-anchor=\"middle\" x=\"18\" y=\"-14.3\" font-family=\"Times,serif\" font-size=\"14.00\">G</text>\n",
       "</g>\n",
       "<!-- S -->\n",
       "<g id=\"node2\" class=\"node\">\n",
       "<title>S</title>\n",
       "<ellipse fill=\"none\" stroke=\"black\" cx=\"72\" cy=\"-18\" rx=\"18\" ry=\"18\"/>\n",
       "<text text-anchor=\"middle\" x=\"72\" y=\"-14.3\" font-family=\"Times,serif\" font-size=\"14.00\">S</text>\n",
       "</g>\n",
       "<!-- I -->\n",
       "<g id=\"node3\" class=\"node\">\n",
       "<title>I</title>\n",
       "<ellipse fill=\"none\" stroke=\"black\" cx=\"45\" cy=\"-94\" rx=\"18\" ry=\"18\"/>\n",
       "<ellipse fill=\"none\" stroke=\"black\" cx=\"45\" cy=\"-94\" rx=\"22\" ry=\"22\"/>\n",
       "<text text-anchor=\"middle\" x=\"45\" y=\"-90.3\" font-family=\"Times,serif\" font-size=\"14.00\">I</text>\n",
       "</g>\n",
       "<!-- I&#45;&gt;G -->\n",
       "<g id=\"edge1\" class=\"edge\">\n",
       "<title>I&#45;&gt;G</title>\n",
       "<path fill=\"none\" stroke=\"black\" d=\"M37.76,-73.17C34.6,-64.49 30.84,-54.2 27.46,-44.92\"/>\n",
       "<polygon fill=\"black\" stroke=\"black\" points=\"30.69,-43.58 23.98,-35.39 24.12,-45.98 30.69,-43.58\"/>\n",
       "</g>\n",
       "<!-- I&#45;&gt;S -->\n",
       "<g id=\"edge2\" class=\"edge\">\n",
       "<title>I&#45;&gt;S</title>\n",
       "<path fill=\"none\" stroke=\"black\" d=\"M52.24,-73.17C55.4,-64.49 59.16,-54.2 62.54,-44.92\"/>\n",
       "<polygon fill=\"black\" stroke=\"black\" points=\"65.88,-45.98 66.02,-35.39 59.31,-43.58 65.88,-45.98\"/>\n",
       "</g>\n",
       "</g>\n",
       "</svg>\n"
      ],
      "text/plain": [
       "<graphviz.dot.Digraph at 0x18aba2df0>"
      ]
     },
     "execution_count": 71,
     "metadata": {},
     "output_type": "execute_result"
    }
   ],
   "source": [
    "tail_to_tail"
   ]
  },
  {
   "cell_type": "code",
   "execution_count": 72,
   "id": "e0407781",
   "metadata": {
    "execution": {
     "iopub.execute_input": "2021-05-12T12:44:14.629181Z",
     "iopub.status.busy": "2021-05-12T12:44:14.628602Z",
     "iopub.status.idle": "2021-05-12T12:44:14.630150Z",
     "shell.execute_reply": "2021-05-12T12:44:14.630523Z"
    },
    "slideshow": {
     "slide_type": "skip"
    },
    "tags": [
     "hide"
    ]
   },
   "outputs": [],
   "source": [
    "head_to_head = graphviz.Digraph(graph_attr={'rankdir' : 'TB'}, node_attr={'shape':'circle'})\n",
    "head_to_head.node('I')\n",
    "head_to_head.node('D')\n",
    "head_to_head.attr('node', shape='doublecircle')\n",
    "head_to_head.node('G')\n",
    "head_to_head.edges([('I','G'), ('D','G')])"
   ]
  },
  {
   "cell_type": "code",
   "execution_count": 73,
   "id": "fdc536d3",
   "metadata": {
    "execution": {
     "iopub.execute_input": "2021-05-12T12:44:14.633228Z",
     "iopub.status.busy": "2021-05-12T12:44:14.632726Z",
     "iopub.status.idle": "2021-05-12T12:44:14.820283Z",
     "shell.execute_reply": "2021-05-12T12:44:14.820718Z"
    },
    "slideshow": {
     "slide_type": "fragment"
    }
   },
   "outputs": [
    {
     "data": {
      "image/svg+xml": [
       "<?xml version=\"1.0\" encoding=\"UTF-8\" standalone=\"no\"?>\n",
       "<!DOCTYPE svg PUBLIC \"-//W3C//DTD SVG 1.1//EN\"\n",
       " \"http://www.w3.org/Graphics/SVG/1.1/DTD/svg11.dtd\">\n",
       "<!-- Generated by graphviz version 2.47.1 (0)\n",
       " -->\n",
       "<!-- Pages: 1 -->\n",
       "<svg width=\"98pt\" height=\"124pt\"\n",
       " viewBox=\"0.00 0.00 98.00 124.00\" xmlns=\"http://www.w3.org/2000/svg\" xmlns:xlink=\"http://www.w3.org/1999/xlink\">\n",
       "<g id=\"graph0\" class=\"graph\" transform=\"scale(1 1) rotate(0) translate(4 120)\">\n",
       "<polygon fill=\"white\" stroke=\"transparent\" points=\"-4,4 -4,-120 94,-120 94,4 -4,4\"/>\n",
       "<!-- I -->\n",
       "<g id=\"node1\" class=\"node\">\n",
       "<title>I</title>\n",
       "<ellipse fill=\"none\" stroke=\"black\" cx=\"18\" cy=\"-98\" rx=\"18\" ry=\"18\"/>\n",
       "<text text-anchor=\"middle\" x=\"18\" y=\"-94.3\" font-family=\"Times,serif\" font-size=\"14.00\">I</text>\n",
       "</g>\n",
       "<!-- G -->\n",
       "<g id=\"node3\" class=\"node\">\n",
       "<title>G</title>\n",
       "<ellipse fill=\"none\" stroke=\"black\" cx=\"45\" cy=\"-22\" rx=\"18\" ry=\"18\"/>\n",
       "<ellipse fill=\"none\" stroke=\"black\" cx=\"45\" cy=\"-22\" rx=\"22\" ry=\"22\"/>\n",
       "<text text-anchor=\"middle\" x=\"45\" y=\"-18.3\" font-family=\"Times,serif\" font-size=\"14.00\">G</text>\n",
       "</g>\n",
       "<!-- I&#45;&gt;G -->\n",
       "<g id=\"edge1\" class=\"edge\">\n",
       "<title>I&#45;&gt;G</title>\n",
       "<path fill=\"none\" stroke=\"black\" d=\"M23.86,-80.94C26.87,-72.68 30.65,-62.33 34.17,-52.68\"/>\n",
       "<polygon fill=\"black\" stroke=\"black\" points=\"37.57,-53.58 37.71,-42.99 30.99,-51.18 37.57,-53.58\"/>\n",
       "</g>\n",
       "<!-- D -->\n",
       "<g id=\"node2\" class=\"node\">\n",
       "<title>D</title>\n",
       "<ellipse fill=\"none\" stroke=\"black\" cx=\"72\" cy=\"-98\" rx=\"18\" ry=\"18\"/>\n",
       "<text text-anchor=\"middle\" x=\"72\" y=\"-94.3\" font-family=\"Times,serif\" font-size=\"14.00\">D</text>\n",
       "</g>\n",
       "<!-- D&#45;&gt;G -->\n",
       "<g id=\"edge2\" class=\"edge\">\n",
       "<title>D&#45;&gt;G</title>\n",
       "<path fill=\"none\" stroke=\"black\" d=\"M66.14,-80.94C63.13,-72.68 59.35,-62.33 55.83,-52.68\"/>\n",
       "<polygon fill=\"black\" stroke=\"black\" points=\"59.01,-51.18 52.29,-42.99 52.43,-53.58 59.01,-51.18\"/>\n",
       "</g>\n",
       "</g>\n",
       "</svg>\n"
      ],
      "text/plain": [
       "<graphviz.dot.Digraph at 0x18abacb50>"
      ]
     },
     "execution_count": 73,
     "metadata": {},
     "output_type": "execute_result"
    }
   ],
   "source": [
    "head_to_head"
   ]
  },
  {
   "cell_type": "markdown",
   "id": "b3087974",
   "metadata": {
    "slideshow": {
     "slide_type": "skip"
    }
   },
   "source": [
    "In the two first examples setting the value of the double circled node  breaks the connection between the other two variables and makes them conditionally independent. In the last example oposite happens: independent variables become dependent after fixing the value of double circle node.  "
   ]
  },
  {
   "cell_type": "markdown",
   "id": "d975d8a8",
   "metadata": {
    "slideshow": {
     "slide_type": "skip"
    }
   },
   "source": [
    "Those observation can be generalised by the notion of $d-separability\":"
   ]
  },
  {
   "cell_type": "markdown",
   "id": "b4c08b83",
   "metadata": {
    "slideshow": {
     "slide_type": "slide"
    }
   },
   "source": [
    "\"We wish to ascertain whether a particular conditional\n",
    "independence statement $A\\perp B | C$ is implied by a given directed acyclic graph. To\n",
    "do so, we consider all possible paths from any node in A to any node in B. Any such\n",
    "path is said to be blocked if it includes a node such that either\n",
    "\n",
    " 1. the arrows on the path meet either head-to-tail or tail-to-tail at the node, and the\n",
    "node is in the set C, or\n",
    " 2. the arrows meet head-to-head at the node, and neither the node, nor any of its\n",
    "descendants, is in the set C.\""
   ]
  },
  {
   "cell_type": "markdown",
   "id": "03cedb6e",
   "metadata": {
    "slideshow": {
     "slide_type": "-"
    }
   },
   "source": [
    "\"If all paths are blocked, then A is said to be _d-separated_ from B by C, and the joint\n",
    "distribution over all of the variables in the graph will satisfy $A\\perp B | C$.\" "
   ]
  },
  {
   "cell_type": "markdown",
   "id": "de8b3488",
   "metadata": {
    "slideshow": {
     "slide_type": "-"
    }
   },
   "source": [
    "Taken from \"Pattern Recognition and Machine Learning\" Ch. M. Bishop. "
   ]
  },
  {
   "cell_type": "code",
   "execution_count": 74,
   "id": "8bf30f0d",
   "metadata": {
    "execution": {
     "iopub.execute_input": "2021-05-12T12:44:14.826057Z",
     "iopub.status.busy": "2021-05-12T12:44:14.825494Z",
     "iopub.status.idle": "2021-05-12T12:44:15.010802Z",
     "shell.execute_reply": "2021-05-12T12:44:15.011182Z"
    },
    "slideshow": {
     "slide_type": "slide"
    }
   },
   "outputs": [
    {
     "data": {
      "image/svg+xml": [
       "<?xml version=\"1.0\" encoding=\"UTF-8\" standalone=\"no\"?>\n",
       "<!DOCTYPE svg PUBLIC \"-//W3C//DTD SVG 1.1//EN\"\n",
       " \"http://www.w3.org/Graphics/SVG/1.1/DTD/svg11.dtd\">\n",
       "<!-- Generated by graphviz version 2.47.1 (0)\n",
       " -->\n",
       "<!-- Pages: 1 -->\n",
       "<svg width=\"276pt\" height=\"188pt\"\n",
       " viewBox=\"0.00 0.00 276.44 188.00\" xmlns=\"http://www.w3.org/2000/svg\" xmlns:xlink=\"http://www.w3.org/1999/xlink\">\n",
       "<g id=\"graph0\" class=\"graph\" transform=\"scale(1 1) rotate(0) translate(4 184)\">\n",
       "<polygon fill=\"white\" stroke=\"transparent\" points=\"-4,4 -4,-184 272.44,-184 272.44,4 -4,4\"/>\n",
       "<!-- D -->\n",
       "<g id=\"node1\" class=\"node\">\n",
       "<title>D</title>\n",
       "<ellipse fill=\"none\" stroke=\"black\" cx=\"59.14\" cy=\"-162\" rx=\"59.29\" ry=\"18\"/>\n",
       "<text text-anchor=\"middle\" x=\"59.14\" y=\"-158.3\" font-family=\"Times,serif\" font-size=\"14.00\">Difficulty (2)</text>\n",
       "</g>\n",
       "<!-- G -->\n",
       "<g id=\"node4\" class=\"node\">\n",
       "<title>G</title>\n",
       "<ellipse fill=\"none\" stroke=\"black\" cx=\"81.14\" cy=\"-90\" rx=\"46.29\" ry=\"18\"/>\n",
       "<text text-anchor=\"middle\" x=\"81.14\" y=\"-86.3\" font-family=\"Times,serif\" font-size=\"14.00\">Grade (3)</text>\n",
       "</g>\n",
       "<!-- D&#45;&gt;G -->\n",
       "<g id=\"edge1\" class=\"edge\">\n",
       "<title>D&#45;&gt;G</title>\n",
       "<path fill=\"none\" stroke=\"black\" d=\"M64.47,-144.05C66.92,-136.26 69.89,-126.82 72.63,-118.08\"/>\n",
       "<polygon fill=\"black\" stroke=\"black\" points=\"76.06,-118.86 75.72,-108.28 69.38,-116.77 76.06,-118.86\"/>\n",
       "</g>\n",
       "<!-- I -->\n",
       "<g id=\"node2\" class=\"node\">\n",
       "<title>I</title>\n",
       "<ellipse fill=\"none\" stroke=\"black\" cx=\"202.14\" cy=\"-162\" rx=\"66.09\" ry=\"18\"/>\n",
       "<text text-anchor=\"middle\" x=\"202.14\" y=\"-158.3\" font-family=\"Times,serif\" font-size=\"14.00\">Intelligence (2)</text>\n",
       "</g>\n",
       "<!-- S -->\n",
       "<g id=\"node3\" class=\"node\">\n",
       "<title>S</title>\n",
       "<ellipse fill=\"none\" stroke=\"black\" cx=\"202.14\" cy=\"-90\" rx=\"35.19\" ry=\"18\"/>\n",
       "<text text-anchor=\"middle\" x=\"202.14\" y=\"-86.3\" font-family=\"Times,serif\" font-size=\"14.00\">Sat (2)</text>\n",
       "</g>\n",
       "<!-- I&#45;&gt;S -->\n",
       "<g id=\"edge3\" class=\"edge\">\n",
       "<title>I&#45;&gt;S</title>\n",
       "<path fill=\"none\" stroke=\"black\" d=\"M202.14,-143.7C202.14,-135.98 202.14,-126.71 202.14,-118.11\"/>\n",
       "<polygon fill=\"black\" stroke=\"black\" points=\"205.64,-118.1 202.14,-108.1 198.64,-118.1 205.64,-118.1\"/>\n",
       "</g>\n",
       "<!-- I&#45;&gt;G -->\n",
       "<g id=\"edge2\" class=\"edge\">\n",
       "<title>I&#45;&gt;G</title>\n",
       "<path fill=\"none\" stroke=\"black\" d=\"M175.29,-145.46C157.38,-135.1 133.7,-121.4 114.57,-110.34\"/>\n",
       "<polygon fill=\"black\" stroke=\"black\" points=\"116.27,-107.28 105.86,-105.3 112.77,-113.34 116.27,-107.28\"/>\n",
       "</g>\n",
       "<!-- L -->\n",
       "<g id=\"node5\" class=\"node\">\n",
       "<title>L</title>\n",
       "<ellipse fill=\"none\" stroke=\"black\" cx=\"81.14\" cy=\"-18\" rx=\"45.49\" ry=\"18\"/>\n",
       "<text text-anchor=\"middle\" x=\"81.14\" y=\"-14.3\" font-family=\"Times,serif\" font-size=\"14.00\">Letter (2)</text>\n",
       "</g>\n",
       "<!-- G&#45;&gt;L -->\n",
       "<g id=\"edge4\" class=\"edge\">\n",
       "<title>G&#45;&gt;L</title>\n",
       "<path fill=\"none\" stroke=\"black\" d=\"M81.14,-71.7C81.14,-63.98 81.14,-54.71 81.14,-46.11\"/>\n",
       "<polygon fill=\"black\" stroke=\"black\" points=\"84.64,-46.1 81.14,-36.1 77.64,-46.1 84.64,-46.1\"/>\n",
       "</g>\n",
       "</g>\n",
       "</svg>\n"
      ],
      "text/plain": [
       "<graphviz.dot.Digraph at 0x188ec0580>"
      ]
     },
     "execution_count": 74,
     "metadata": {},
     "output_type": "execute_result"
    }
   ],
   "source": [
    "student_gr"
   ]
  },
  {
   "cell_type": "code",
   "execution_count": 75,
   "id": "e3ceaaac",
   "metadata": {
    "execution": {
     "iopub.execute_input": "2021-05-12T12:44:15.014924Z",
     "iopub.status.busy": "2021-05-12T12:44:15.014284Z",
     "iopub.status.idle": "2021-05-12T12:44:15.016684Z",
     "shell.execute_reply": "2021-05-12T12:44:15.017058Z"
    },
    "slideshow": {
     "slide_type": "fragment"
    }
   },
   "outputs": [
    {
     "data": {
      "text/plain": [
       "(D ⟂ S, I)\n",
       "(I ⟂ D)\n",
       "(S ⟂ G, L, D | I)\n",
       "(G ⟂ S | I, D)\n",
       "(L ⟂ S, I, D | G)"
      ]
     },
     "execution_count": 75,
     "metadata": {},
     "output_type": "execute_result"
    }
   ],
   "source": [
    "student.local_independencies(['D', 'I', 'S', 'G', 'L'])"
   ]
  },
  {
   "cell_type": "code",
   "execution_count": 76,
   "id": "f5a6b1d0",
   "metadata": {
    "execution": {
     "iopub.execute_input": "2021-05-12T12:44:15.019565Z",
     "iopub.status.busy": "2021-05-12T12:44:15.019128Z",
     "iopub.status.idle": "2021-05-12T12:44:15.210841Z",
     "shell.execute_reply": "2021-05-12T12:44:15.211154Z"
    },
    "slideshow": {
     "slide_type": "slide"
    }
   },
   "outputs": [
    {
     "data": {
      "image/svg+xml": [
       "<?xml version=\"1.0\" encoding=\"UTF-8\" standalone=\"no\"?>\n",
       "<!DOCTYPE svg PUBLIC \"-//W3C//DTD SVG 1.1//EN\"\n",
       " \"http://www.w3.org/Graphics/SVG/1.1/DTD/svg11.dtd\">\n",
       "<!-- Generated by graphviz version 2.47.1 (0)\n",
       " -->\n",
       "<!-- Pages: 1 -->\n",
       "<svg width=\"276pt\" height=\"188pt\"\n",
       " viewBox=\"0.00 0.00 276.44 188.00\" xmlns=\"http://www.w3.org/2000/svg\" xmlns:xlink=\"http://www.w3.org/1999/xlink\">\n",
       "<g id=\"graph0\" class=\"graph\" transform=\"scale(1 1) rotate(0) translate(4 184)\">\n",
       "<polygon fill=\"white\" stroke=\"transparent\" points=\"-4,4 -4,-184 272.44,-184 272.44,4 -4,4\"/>\n",
       "<!-- D -->\n",
       "<g id=\"node1\" class=\"node\">\n",
       "<title>D</title>\n",
       "<ellipse fill=\"none\" stroke=\"black\" cx=\"59.14\" cy=\"-162\" rx=\"59.29\" ry=\"18\"/>\n",
       "<text text-anchor=\"middle\" x=\"59.14\" y=\"-158.3\" font-family=\"Times,serif\" font-size=\"14.00\">Difficulty (2)</text>\n",
       "</g>\n",
       "<!-- G -->\n",
       "<g id=\"node4\" class=\"node\">\n",
       "<title>G</title>\n",
       "<ellipse fill=\"none\" stroke=\"black\" cx=\"81.14\" cy=\"-90\" rx=\"46.29\" ry=\"18\"/>\n",
       "<text text-anchor=\"middle\" x=\"81.14\" y=\"-86.3\" font-family=\"Times,serif\" font-size=\"14.00\">Grade (3)</text>\n",
       "</g>\n",
       "<!-- D&#45;&gt;G -->\n",
       "<g id=\"edge1\" class=\"edge\">\n",
       "<title>D&#45;&gt;G</title>\n",
       "<path fill=\"none\" stroke=\"black\" d=\"M64.47,-144.05C66.92,-136.26 69.89,-126.82 72.63,-118.08\"/>\n",
       "<polygon fill=\"black\" stroke=\"black\" points=\"76.06,-118.86 75.72,-108.28 69.38,-116.77 76.06,-118.86\"/>\n",
       "</g>\n",
       "<!-- I -->\n",
       "<g id=\"node2\" class=\"node\">\n",
       "<title>I</title>\n",
       "<ellipse fill=\"none\" stroke=\"black\" cx=\"202.14\" cy=\"-162\" rx=\"66.09\" ry=\"18\"/>\n",
       "<text text-anchor=\"middle\" x=\"202.14\" y=\"-158.3\" font-family=\"Times,serif\" font-size=\"14.00\">Intelligence (2)</text>\n",
       "</g>\n",
       "<!-- S -->\n",
       "<g id=\"node3\" class=\"node\">\n",
       "<title>S</title>\n",
       "<ellipse fill=\"none\" stroke=\"black\" cx=\"202.14\" cy=\"-90\" rx=\"35.19\" ry=\"18\"/>\n",
       "<text text-anchor=\"middle\" x=\"202.14\" y=\"-86.3\" font-family=\"Times,serif\" font-size=\"14.00\">Sat (2)</text>\n",
       "</g>\n",
       "<!-- I&#45;&gt;S -->\n",
       "<g id=\"edge3\" class=\"edge\">\n",
       "<title>I&#45;&gt;S</title>\n",
       "<path fill=\"none\" stroke=\"black\" d=\"M202.14,-143.7C202.14,-135.98 202.14,-126.71 202.14,-118.11\"/>\n",
       "<polygon fill=\"black\" stroke=\"black\" points=\"205.64,-118.1 202.14,-108.1 198.64,-118.1 205.64,-118.1\"/>\n",
       "</g>\n",
       "<!-- I&#45;&gt;G -->\n",
       "<g id=\"edge2\" class=\"edge\">\n",
       "<title>I&#45;&gt;G</title>\n",
       "<path fill=\"none\" stroke=\"black\" d=\"M175.29,-145.46C157.38,-135.1 133.7,-121.4 114.57,-110.34\"/>\n",
       "<polygon fill=\"black\" stroke=\"black\" points=\"116.27,-107.28 105.86,-105.3 112.77,-113.34 116.27,-107.28\"/>\n",
       "</g>\n",
       "<!-- L -->\n",
       "<g id=\"node5\" class=\"node\">\n",
       "<title>L</title>\n",
       "<ellipse fill=\"none\" stroke=\"black\" cx=\"81.14\" cy=\"-18\" rx=\"45.49\" ry=\"18\"/>\n",
       "<text text-anchor=\"middle\" x=\"81.14\" y=\"-14.3\" font-family=\"Times,serif\" font-size=\"14.00\">Letter (2)</text>\n",
       "</g>\n",
       "<!-- G&#45;&gt;L -->\n",
       "<g id=\"edge4\" class=\"edge\">\n",
       "<title>G&#45;&gt;L</title>\n",
       "<path fill=\"none\" stroke=\"black\" d=\"M81.14,-71.7C81.14,-63.98 81.14,-54.71 81.14,-46.11\"/>\n",
       "<polygon fill=\"black\" stroke=\"black\" points=\"84.64,-46.1 81.14,-36.1 77.64,-46.1 84.64,-46.1\"/>\n",
       "</g>\n",
       "</g>\n",
       "</svg>\n"
      ],
      "text/plain": [
       "<graphviz.dot.Digraph at 0x188ec0580>"
      ]
     },
     "execution_count": 76,
     "metadata": {},
     "output_type": "execute_result"
    }
   ],
   "source": [
    "student_gr"
   ]
  },
  {
   "cell_type": "code",
   "execution_count": 77,
   "id": "3deaef9a",
   "metadata": {
    "execution": {
     "iopub.execute_input": "2021-05-12T12:44:15.215600Z",
     "iopub.status.busy": "2021-05-12T12:44:15.214978Z",
     "iopub.status.idle": "2021-05-12T12:44:15.217256Z",
     "shell.execute_reply": "2021-05-12T12:44:15.217654Z"
    },
    "slideshow": {
     "slide_type": "slide"
    }
   },
   "outputs": [
    {
     "data": {
      "text/plain": [
       "(D ⟂ S, I)\n",
       "(D ⟂ I | S)\n",
       "(D ⟂ S | I)\n",
       "(D ⟂ L | G)\n",
       "(D ⟂ L | S, G)\n",
       "(D ⟂ S, L | I, G)\n",
       "(D ⟂ S | I, L)\n",
       "(D ⟂ L | S, I, G)\n",
       "(D ⟂ S | I, G, L)\n",
       "(G ⟂ S | I)\n",
       "(G ⟂ S | I, L)\n",
       "(G ⟂ S | I, D)\n",
       "(G ⟂ S | I, L, D)\n",
       "(I ⟂ D)\n",
       "(I ⟂ D | S)\n",
       "(I ⟂ L | G)\n",
       "(I ⟂ L | S, G)\n",
       "(I ⟂ L | G, D)\n",
       "(I ⟂ L | S, G, D)\n",
       "(S ⟂ D)\n",
       "(S ⟂ G, L, D | I)\n",
       "(S ⟂ L | G)\n",
       "(S ⟂ L, D | I, G)\n",
       "(S ⟂ G, D | I, L)\n",
       "(S ⟂ G, L | I, D)\n",
       "(S ⟂ L | G, D)\n",
       "(S ⟂ D | I, G, L)\n",
       "(S ⟂ L | I, G, D)\n",
       "(S ⟂ G | I, L, D)\n",
       "(L ⟂ S | I)\n",
       "(L ⟂ S, I, D | G)\n",
       "(L ⟂ I, D | S, G)\n",
       "(L ⟂ S, D | I, G)\n",
       "(L ⟂ S | I, D)\n",
       "(L ⟂ S, I | G, D)\n",
       "(L ⟂ D | S, I, G)\n",
       "(L ⟂ I | S, G, D)\n",
       "(L ⟂ S | I, G, D)"
      ]
     },
     "execution_count": 77,
     "metadata": {},
     "output_type": "execute_result"
    }
   ],
   "source": [
    "student.get_independencies()"
   ]
  },
  {
   "cell_type": "code",
   "execution_count": null,
   "id": "8282130a",
   "metadata": {},
   "outputs": [],
   "source": []
  }
 ],
 "metadata": {
  "jupytext": {
   "text_representation": {
    "extension": ".Rmd",
    "format_name": "rmarkdown",
    "format_version": "1.2",
    "jupytext_version": "1.11.1"
   }
  },
  "kernelspec": {
   "display_name": "Python 3",
   "language": "python",
   "name": "python3"
  },
  "language_info": {
   "codemirror_mode": {
    "name": "ipython",
    "version": 3
   },
   "file_extension": ".py",
   "mimetype": "text/x-python",
   "name": "python",
   "nbconvert_exporter": "python",
   "pygments_lexer": "ipython3",
   "version": "3.9.2"
  }
 },
 "nbformat": 4,
 "nbformat_minor": 5
}