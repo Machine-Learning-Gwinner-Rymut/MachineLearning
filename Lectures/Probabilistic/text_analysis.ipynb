{
 "cells": [
  {
   "cell_type": "code",
   "execution_count": 1,
   "id": "78a88951",
   "metadata": {
    "execution": {
     "iopub.execute_input": "2021-05-05T13:41:42.693133Z",
     "iopub.status.busy": "2021-05-05T13:41:42.692327Z",
     "iopub.status.idle": "2021-05-05T13:41:43.360228Z",
     "shell.execute_reply": "2021-05-05T13:41:43.359650Z"
    },
    "slideshow": {
     "slide_type": "skip"
    },
    "tags": []
   },
   "outputs": [],
   "source": [
    "import pandas as pd\n",
    "import numpy as np\n",
    "import matplotlib.pyplot as plt\n",
    "from matplotlib import gridspec\n",
    "%matplotlib inline"
   ]
  },
  {
   "cell_type": "code",
   "execution_count": 2,
   "id": "b61258cc",
   "metadata": {
    "execution": {
     "iopub.execute_input": "2021-05-05T13:41:43.363857Z",
     "iopub.status.busy": "2021-05-05T13:41:43.363246Z",
     "iopub.status.idle": "2021-05-05T13:41:43.951012Z",
     "shell.execute_reply": "2021-05-05T13:41:43.951413Z"
    },
    "slideshow": {
     "slide_type": "skip"
    },
    "tags": []
   },
   "outputs": [],
   "source": [
    "from sklearn.model_selection import train_test_split"
   ]
  },
  {
   "cell_type": "code",
   "execution_count": 3,
   "id": "1e4a52eb",
   "metadata": {
    "execution": {
     "iopub.execute_input": "2021-05-05T13:41:43.954643Z",
     "iopub.status.busy": "2021-05-05T13:41:43.954051Z",
     "iopub.status.idle": "2021-05-05T13:41:43.955829Z",
     "shell.execute_reply": "2021-05-05T13:41:43.956227Z"
    },
    "slideshow": {
     "slide_type": "skip"
    },
    "tags": []
   },
   "outputs": [],
   "source": [
    "## This prevents execution of lengthy grid search at the end of notebook. \n",
    "## A shorter taking around six minutes grid search will still be executed.     \n",
    "RUN_GRID_SEARCH = False"
   ]
  },
  {
   "cell_type": "markdown",
   "id": "b5e3a278",
   "metadata": {
    "slideshow": {
     "slide_type": "slide"
    }
   },
   "source": [
    "# Text classification - Multinomial Bayes"
   ]
  },
  {
   "cell_type": "markdown",
   "id": "3e7d69d4",
   "metadata": {
    "slideshow": {
     "slide_type": "notes"
    }
   },
   "source": [
    "Bayes classifier  is often used in text classification e.g. for sentiment analysis or spam recognition. It assumes the so called \"bag of words model\". In this approach we treat a document as an unordered colllection of words (tokens) and only count the number of times each word was used in the document. The list of all worlds that we  consider is called the _vocabulary_. "
   ]
  },
  {
   "cell_type": "markdown",
   "id": "54b16e3c",
   "metadata": {
    "slideshow": {
     "slide_type": "notes"
    }
   },
   "source": [
    "We treat the vocabulary as __one__ giantic categorical feature $X$. Then each document of length $n$ can be viewed as  draw from the multinomial distribution i.e. we select _with replecement_ $n$ words at random from the vocabulary. For more information see the references below."
   ]
  },
  {
   "cell_type": "markdown",
   "id": "e558f08a",
   "metadata": {
    "slideshow": {
     "slide_type": "fragment"
    },
    "tags": []
   },
   "source": [
    "### References \n",
    " 1. A. McCallum and K. Nigam (1998). [A comparison of event models for Naive Bayes text classification](http://citeseerx.ist.psu.edu/viewdoc/summary?doi=10.1.1.46.1529). Proc. AAAI/ICML-98 Workshop on Learning for Text Categorization, pp. 41-48.\n",
    " 1. V. Metsis, I. Androutsopoulos and G. Paliouras (2006). [Spam filtering with Naive Bayes – Which Naive Bayes?](http://citeseerx.ist.psu.edu/viewdoc/summary?doi=10.1.1.61.5542) 3rd Conf. on Email and Anti-Spam (CEAS).\n"
   ]
  },
  {
   "cell_type": "markdown",
   "id": "7924c508",
   "metadata": {
    "slideshow": {
     "slide_type": "slide"
    },
    "tags": []
   },
   "source": [
    "## Training"
   ]
  },
  {
   "cell_type": "markdown",
   "id": "ef0fadf7",
   "metadata": {
    "slideshow": {
     "slide_type": "fragment"
    }
   },
   "source": [
    "## \"Bag of words\" model"
   ]
  },
  {
   "cell_type": "markdown",
   "id": "2aaa66c9",
   "metadata": {},
   "source": [
    "$$\\begin{vmatrix}\n",
    "  & | & 0 & 1 & 2 & \\cdots & n_{w}-1   \\\\\\hline\n",
    "0 & | & 0 & 2 & 0 & \\cdots & 0\\\\  \n",
    "1 & | & 1 & 1 & 0 & \\cdots & 3\\\\  \n",
    "\\vdots && \\vdots & \\vdots &\\vdots&\\ddots& \\vdots\\\\\n",
    "n_s-1 & | & 0 & 1 & 0 & \\cdots & 0\n",
    "\\end{vmatrix}$$"
   ]
  },
  {
   "cell_type": "markdown",
   "id": "ca2c1963",
   "metadata": {
    "slideshow": {
     "slide_type": "notes"
    }
   },
   "source": [
    "Our training data will consist of number of  documents with labels assigning them to $n_c$ different classes. "
   ]
  },
  {
   "cell_type": "markdown",
   "id": "168ba972",
   "metadata": {
    "slideshow": {
     "slide_type": "notes"
    },
    "tags": []
   },
   "source": [
    "We start by converting documents  into vectors. Each element of the vector corresponds to one word in the vocabulary and contains the number of times this word was used in the document. If $n_s $ is the number of documents(samples) nad $n_w$ is the number of words in the vocabulary then our data can be represented as $n_s\\times n_w$ matrix $\\mathbf{X}$ and  $y_i=0,\\ldots,n_c-1$ will represent  corresponding class label. "
   ]
  },
  {
   "cell_type": "markdown",
   "id": "0cfcb21c",
   "metadata": {
    "slideshow": {
     "slide_type": "notes"
    },
    "tags": []
   },
   "source": [
    "Let $m_i$ denote the  number of words in document $i$"
   ]
  },
  {
   "cell_type": "markdown",
   "id": "c26393ab",
   "metadata": {
    "slideshow": {
     "slide_type": "notes"
    },
    "tags": []
   },
   "source": [
    "$$m_i = \\sum_{j=0}^{n_w-1} X_{ij}$$"
   ]
  },
  {
   "cell_type": "markdown",
   "id": "094bd742",
   "metadata": {
    "slideshow": {
     "slide_type": "notes"
    }
   },
   "source": [
    "The total number of times the ith word was used in documents belonging to class $c$  will be denoted by $n^{(c)}_i$"
   ]
  },
  {
   "cell_type": "markdown",
   "id": "4dedcfc5",
   "metadata": {
    "slideshow": {
     "slide_type": "fragment"
    },
    "tags": []
   },
   "source": [
    "$$n^{(c)}_i= \\sum_{j=0}^{n_s-1} X_{ji}\\delta_{y_j,c},\n",
    "\\qquad \\delta_{a,b}=  \\begin{cases}\n",
    "1 & a=b\\\\\n",
    "0 & a\\neq b\n",
    "\\end{cases}\n",
    "$$"
   ]
  },
  {
   "cell_type": "markdown",
   "id": "0392e153",
   "metadata": {
    "slideshow": {
     "slide_type": "notes"
    },
    "tags": []
   },
   "source": [
    "The total number of worlds in documents in class $c$ will be denoted by $n^{c}$."
   ]
  },
  {
   "cell_type": "markdown",
   "id": "7a1dbb01",
   "metadata": {
    "slideshow": {
     "slide_type": "fragment"
    },
    "tags": []
   },
   "source": [
    "$$n^{(c)}= \\sum_{i=0}^{n_w-1} n^{(c)}_i = \\sum_{i=0}^{n_w-1}\\sum_{j=0}^{n_s-1} x_{ji}\\delta_{y_j,c}\n",
    "$$"
   ]
  },
  {
   "cell_type": "markdown",
   "id": "1bc4587f",
   "metadata": {
    "slideshow": {
     "slide_type": "notes"
    },
    "tags": []
   },
   "source": [
    "Then the smoothed estimator of the conditional probability that word $i$ will be used in document belonging to class $c$\n",
    "\n",
    "$$P(i|c)$$\n",
    "\n",
    "is "
   ]
  },
  {
   "cell_type": "markdown",
   "id": "4d53a2c8",
   "metadata": {
    "slideshow": {
     "slide_type": "fragment"
    },
    "tags": []
   },
   "source": [
    "$$\n",
    "p^{(c)}_{i} = \\frac{n^{(c)}_i+\\alpha}{n^{(c)}+n_w \\alpha}, \\quad \\alpha\\ge 0\n",
    "$$"
   ]
  },
  {
   "cell_type": "markdown",
   "id": "95fb96d7",
   "metadata": {
    "slideshow": {
     "slide_type": "notes"
    },
    "tags": []
   },
   "source": [
    "Once the $p^{(c)}_i$  are estimated we can estimate the conditional probability the whole  vector $\\mathbf{X}_j$   given by the multinomial distribution"
   ]
  },
  {
   "cell_type": "markdown",
   "id": "f662de62",
   "metadata": {
    "slideshow": {
     "slide_type": "slide"
    },
    "tags": []
   },
   "source": [
    "$$P(\\mathbf{X}_j|C=c)\n",
    "=\n",
    "\\frac{n^{(c)}!}{\\prod_{i=0}^{n_w-1} (n_i^{(c)}!)}\n",
    "\\prod_{i=0}^{n_w-1} \\left(p^{(c)}_i\\right)^{\\displaystyle X_{ji}}$$"
   ]
  },
  {
   "cell_type": "markdown",
   "id": "7a6a7e35",
   "metadata": {
    "slideshow": {
     "slide_type": "notes"
    },
    "tags": []
   },
   "source": [
    "In practice most of the $X_{ji}$ are zero and sums and products in the above expression have range only over the number of unique tokens in the document. \n",
    "\n",
    "Finally using Bayes theorem we obtain "
   ]
  },
  {
   "cell_type": "markdown",
   "id": "fdcb07b9",
   "metadata": {
    "slideshow": {
     "slide_type": "fragment"
    },
    "tags": []
   },
   "source": [
    "$$P(C=c|\\mathbf{X}_j) = \\frac{P(\\mathbf{X}_j|C=c)P(C=c)}{\\sum_c P(\\mathbf{X}_j|C=c)P(C=c)}$$"
   ]
  },
  {
   "cell_type": "markdown",
   "id": "b6623874",
   "metadata": {
    "slideshow": {
     "slide_type": "slide"
    },
    "tags": []
   },
   "source": [
    "## Amazon reviews"
   ]
  },
  {
   "cell_type": "markdown",
   "id": "6b08ff62",
   "metadata": {
    "slideshow": {
     "slide_type": "notes"
    },
    "tags": []
   },
   "source": [
    "We will use the Amazon review data set. This data set is very handy because it contains both documents (reviews) and labels (ratings). We can use it to train classifier predict ratings based on the review. The original data set is HUGE  and can be  _e.g._ found [here](http://jmcauley.ucsd.edu/data/amazon/). We will use the preprocessed data from [amazon_review_full.tar.gz](https://drive.google.com/file/d/0Bz8a_Dbh9QhbZVhsUnRWRDhETzA/view?usp=sharing) file on\n",
    "[ Xiang Zhang's Google Drive dir](https://drive.google.com/open?id=0Bz8a_Dbh9Qhbfll6bVpmNUtUcFdjYmF2SEpmZUZUcVNiMUw1TWN6RDV3a0JHT3kxLVhVR2M). However it still has 1.5GB of data when uncompressed. So for the sake of this lecture I have prepared a smaller sample that I have additionally compressed with 'bz2' reducing the size to \"only\" 41MB. You can play with original file by downloading it directly from the link above. "
   ]
  },
  {
   "cell_type": "markdown",
   "id": "8420f680",
   "metadata": {
    "slideshow": {
     "slide_type": "fragment"
    },
    "tags": []
   },
   "source": [
    "The data was selected using the code below. \n",
    "\n",
    "```python\n",
    "from sklearn.model_selection import train_test_split\n",
    "seed = 85865\n",
    "data = pd.read_csv(\"../../Data/amazon_reviews/amazon_review_full_csv/train.csv\",\n",
    "                   names=[\"rating\", \"title\", \"review\"])\n",
    "small_data,_ = train_test_split(data,train_size=300000,  stratify=data['rating'], random_state=seed)\n",
    "small_data.to_csv(\"../../Data/amazon_reviews/small.csv.bz2\", index=False, compression='bz2')\n",
    "```"
   ]
  },
  {
   "cell_type": "markdown",
   "id": "552c4539",
   "metadata": {
    "slideshow": {
     "slide_type": "notes"
    },
    "tags": []
   },
   "source": [
    "Use of the 'stratify' argument  guarantee that proportion of each ratings will be  preserved. In this case we will have same number of documents with each rating. The smaller file can be read in using:"
   ]
  },
  {
   "cell_type": "code",
   "execution_count": 4,
   "id": "83211885",
   "metadata": {
    "execution": {
     "iopub.execute_input": "2021-05-05T13:41:43.962179Z",
     "iopub.status.busy": "2021-05-05T13:41:43.961383Z",
     "iopub.status.idle": "2021-05-05T13:41:50.173795Z",
     "shell.execute_reply": "2021-05-05T13:41:50.174368Z"
    },
    "slideshow": {
     "slide_type": "fragment"
    },
    "tags": []
   },
   "outputs": [],
   "source": [
    "data = pd.read_csv(\"../../Data/amazon_reviews/small.csv.bz2\", compression='bz2')"
   ]
  },
  {
   "cell_type": "code",
   "execution_count": 5,
   "id": "c501ad74",
   "metadata": {
    "execution": {
     "iopub.execute_input": "2021-05-05T13:41:50.180323Z",
     "iopub.status.busy": "2021-05-05T13:41:50.179529Z",
     "iopub.status.idle": "2021-05-05T13:41:50.188836Z",
     "shell.execute_reply": "2021-05-05T13:41:50.189313Z"
    },
    "slideshow": {
     "slide_type": "fragment"
    },
    "tags": []
   },
   "outputs": [
    {
     "data": {
      "text/html": [
       "<div>\n",
       "<style scoped>\n",
       "    .dataframe tbody tr th:only-of-type {\n",
       "        vertical-align: middle;\n",
       "    }\n",
       "\n",
       "    .dataframe tbody tr th {\n",
       "        vertical-align: top;\n",
       "    }\n",
       "\n",
       "    .dataframe thead th {\n",
       "        text-align: right;\n",
       "    }\n",
       "</style>\n",
       "<table border=\"1\" class=\"dataframe\">\n",
       "  <thead>\n",
       "    <tr style=\"text-align: right;\">\n",
       "      <th></th>\n",
       "      <th>rating</th>\n",
       "      <th>title</th>\n",
       "      <th>review</th>\n",
       "    </tr>\n",
       "  </thead>\n",
       "  <tbody>\n",
       "    <tr>\n",
       "      <th>0</th>\n",
       "      <td>2</td>\n",
       "      <td>Way too dumbed down, even for fun history read...</td>\n",
       "      <td>True, I did want a fun historical read, a samp...</td>\n",
       "    </tr>\n",
       "    <tr>\n",
       "      <th>1</th>\n",
       "      <td>2</td>\n",
       "      <td>Too Narrow and no Wide option</td>\n",
       "      <td>I am returning these shoes as they are too nar...</td>\n",
       "    </tr>\n",
       "    <tr>\n",
       "      <th>2</th>\n",
       "      <td>3</td>\n",
       "      <td>Disappointing</td>\n",
       "      <td>I actually prefer their first book, which at l...</td>\n",
       "    </tr>\n",
       "  </tbody>\n",
       "</table>\n",
       "</div>"
      ],
      "text/plain": [
       "   rating                                              title  \\\n",
       "0       2  Way too dumbed down, even for fun history read...   \n",
       "1       2                      Too Narrow and no Wide option   \n",
       "2       3                                      Disappointing   \n",
       "\n",
       "                                              review  \n",
       "0  True, I did want a fun historical read, a samp...  \n",
       "1  I am returning these shoes as they are too nar...  \n",
       "2  I actually prefer their first book, which at l...  "
      ]
     },
     "execution_count": 5,
     "metadata": {},
     "output_type": "execute_result"
    }
   ],
   "source": [
    "data.head(3)"
   ]
  },
  {
   "cell_type": "markdown",
   "id": "632ee8c3",
   "metadata": {
    "slideshow": {
     "slide_type": "skip"
    }
   },
   "source": [
    "The file contains"
   ]
  },
  {
   "cell_type": "code",
   "execution_count": 6,
   "id": "bff9dd68",
   "metadata": {
    "execution": {
     "iopub.execute_input": "2021-05-05T13:41:50.193320Z",
     "iopub.status.busy": "2021-05-05T13:41:50.192572Z",
     "iopub.status.idle": "2021-05-05T13:41:50.196026Z",
     "shell.execute_reply": "2021-05-05T13:41:50.195538Z"
    },
    "slideshow": {
     "slide_type": "fragment"
    },
    "tags": []
   },
   "outputs": [
    {
     "data": {
      "text/plain": [
       "300000"
      ]
     },
     "execution_count": 6,
     "metadata": {},
     "output_type": "execute_result"
    }
   ],
   "source": [
    "len(data)"
   ]
  },
  {
   "cell_type": "markdown",
   "id": "98fe79be",
   "metadata": {
    "slideshow": {
     "slide_type": "notes"
    },
    "tags": []
   },
   "source": [
    "reviews. We will split this set into training and testing sets: "
   ]
  },
  {
   "cell_type": "code",
   "execution_count": 7,
   "id": "07a4f789",
   "metadata": {
    "execution": {
     "iopub.execute_input": "2021-05-05T13:41:50.200465Z",
     "iopub.status.busy": "2021-05-05T13:41:50.199765Z",
     "iopub.status.idle": "2021-05-05T13:41:50.341775Z",
     "shell.execute_reply": "2021-05-05T13:41:50.342350Z"
    },
    "slideshow": {
     "slide_type": "slide"
    },
    "tags": []
   },
   "outputs": [],
   "source": [
    "seed = 57576\n",
    "train_data, test_data = train_test_split(data,train_size=250000, test_size=50000, stratify=data['rating'], random_state = seed)"
   ]
  },
  {
   "cell_type": "markdown",
   "id": "92f6e598",
   "metadata": {
    "slideshow": {
     "slide_type": "notes"
    },
    "tags": []
   },
   "source": [
    "We can check that indeed we have equal number of documents for each rating. "
   ]
  },
  {
   "cell_type": "code",
   "execution_count": 8,
   "id": "e84b8cf3",
   "metadata": {
    "execution": {
     "iopub.execute_input": "2021-05-05T13:41:50.346815Z",
     "iopub.status.busy": "2021-05-05T13:41:50.346045Z",
     "iopub.status.idle": "2021-05-05T13:41:50.353096Z",
     "shell.execute_reply": "2021-05-05T13:41:50.353630Z"
    },
    "slideshow": {
     "slide_type": "fragment"
    },
    "tags": []
   },
   "outputs": [
    {
     "data": {
      "text/plain": [
       "1    50000\n",
       "2    50000\n",
       "3    50000\n",
       "4    50000\n",
       "5    50000\n",
       "Name: rating, dtype: int64"
      ]
     },
     "execution_count": 8,
     "metadata": {},
     "output_type": "execute_result"
    }
   ],
   "source": [
    "train_data.rating.value_counts()"
   ]
  },
  {
   "cell_type": "code",
   "execution_count": 9,
   "id": "97bfafc7",
   "metadata": {
    "execution": {
     "iopub.execute_input": "2021-05-05T13:41:50.357552Z",
     "iopub.status.busy": "2021-05-05T13:41:50.356899Z",
     "iopub.status.idle": "2021-05-05T13:41:50.361883Z",
     "shell.execute_reply": "2021-05-05T13:41:50.362448Z"
    },
    "slideshow": {
     "slide_type": "fragment"
    },
    "tags": []
   },
   "outputs": [
    {
     "data": {
      "text/plain": [
       "1    10000\n",
       "2    10000\n",
       "3    10000\n",
       "4    10000\n",
       "5    10000\n",
       "Name: rating, dtype: int64"
      ]
     },
     "execution_count": 9,
     "metadata": {},
     "output_type": "execute_result"
    }
   ],
   "source": [
    "test_data.rating.value_counts()"
   ]
  },
  {
   "cell_type": "code",
   "execution_count": 10,
   "id": "d414eaba",
   "metadata": {
    "execution": {
     "iopub.execute_input": "2021-05-05T13:41:50.370231Z",
     "iopub.status.busy": "2021-05-05T13:41:50.369525Z",
     "iopub.status.idle": "2021-05-05T13:41:50.372589Z",
     "shell.execute_reply": "2021-05-05T13:41:50.373116Z"
    },
    "slideshow": {
     "slide_type": "fragment"
    },
    "tags": []
   },
   "outputs": [
    {
     "data": {
      "text/html": [
       "<div>\n",
       "<style scoped>\n",
       "    .dataframe tbody tr th:only-of-type {\n",
       "        vertical-align: middle;\n",
       "    }\n",
       "\n",
       "    .dataframe tbody tr th {\n",
       "        vertical-align: top;\n",
       "    }\n",
       "\n",
       "    .dataframe thead th {\n",
       "        text-align: right;\n",
       "    }\n",
       "</style>\n",
       "<table border=\"1\" class=\"dataframe\">\n",
       "  <thead>\n",
       "    <tr style=\"text-align: right;\">\n",
       "      <th></th>\n",
       "      <th>rating</th>\n",
       "      <th>title</th>\n",
       "      <th>review</th>\n",
       "    </tr>\n",
       "  </thead>\n",
       "  <tbody>\n",
       "    <tr>\n",
       "      <th>266164</th>\n",
       "      <td>3</td>\n",
       "      <td>not for all homeschoolers</td>\n",
       "      <td>I bought this for my 4th grade daughter (homes...</td>\n",
       "    </tr>\n",
       "    <tr>\n",
       "      <th>178470</th>\n",
       "      <td>2</td>\n",
       "      <td>Basically a bragging biography of the author's...</td>\n",
       "      <td>The information in this book would consist of ...</td>\n",
       "    </tr>\n",
       "    <tr>\n",
       "      <th>271121</th>\n",
       "      <td>5</td>\n",
       "      <td>Better questions lead to better results</td>\n",
       "      <td>As a psychologist I understand the importance ...</td>\n",
       "    </tr>\n",
       "    <tr>\n",
       "      <th>39119</th>\n",
       "      <td>5</td>\n",
       "      <td>Great shoes</td>\n",
       "      <td>I really like these shoes! They have just the ...</td>\n",
       "    </tr>\n",
       "    <tr>\n",
       "      <th>281417</th>\n",
       "      <td>2</td>\n",
       "      <td>It was midly interesting</td>\n",
       "      <td>It was okay but I definately don't reccomend a...</td>\n",
       "    </tr>\n",
       "  </tbody>\n",
       "</table>\n",
       "</div>"
      ],
      "text/plain": [
       "        rating                                              title  \\\n",
       "266164       3                          not for all homeschoolers   \n",
       "178470       2  Basically a bragging biography of the author's...   \n",
       "271121       5            Better questions lead to better results   \n",
       "39119        5                                        Great shoes   \n",
       "281417       2                           It was midly interesting   \n",
       "\n",
       "                                                   review  \n",
       "266164  I bought this for my 4th grade daughter (homes...  \n",
       "178470  The information in this book would consist of ...  \n",
       "271121  As a psychologist I understand the importance ...  \n",
       "39119   I really like these shoes! They have just the ...  \n",
       "281417  It was okay but I definately don't reccomend a...  "
      ]
     },
     "execution_count": 10,
     "metadata": {},
     "output_type": "execute_result"
    }
   ],
   "source": [
    "train_data.head(5)"
   ]
  },
  {
   "cell_type": "markdown",
   "id": "c43b0c5f",
   "metadata": {
    "slideshow": {
     "slide_type": "slide"
    },
    "tags": []
   },
   "source": [
    "## Extracting features"
   ]
  },
  {
   "cell_type": "markdown",
   "id": "1bd021c1",
   "metadata": {
    "slideshow": {
     "slide_type": "notes"
    },
    "tags": []
   },
   "source": [
    "The next step is to convert each document into vector as described in the introduction.  This is actually a non trivial task. It requires first spliting text into _tokens_ (e.g. words). Not all letter combinations are meaningfull and we have decide which tokens are valid. Also it may be advantageous to  do _steming_: reduce the word to its _root_ word e.g. 'flying'->'fly. "
   ]
  },
  {
   "cell_type": "markdown",
   "id": "6ba231c4",
   "metadata": {
    "slideshow": {
     "slide_type": "notes"
    },
    "tags": []
   },
   "source": [
    "The scikit-learn library contains a [CountVectorizer](https://scikit-learn.org/stable/modules/generated/sklearn.feature_extraction.text.CountVectorizer.html) class that implements a simple tokenizer and occurence counting."
   ]
  },
  {
   "cell_type": "code",
   "execution_count": 11,
   "id": "ac3cf8bf",
   "metadata": {
    "execution": {
     "iopub.execute_input": "2021-05-05T13:41:50.376835Z",
     "iopub.status.busy": "2021-05-05T13:41:50.376223Z",
     "iopub.status.idle": "2021-05-05T13:41:50.385389Z",
     "shell.execute_reply": "2021-05-05T13:41:50.384850Z"
    },
    "slideshow": {
     "slide_type": "fragment"
    },
    "tags": []
   },
   "outputs": [],
   "source": [
    "from sklearn.feature_extraction.text import CountVectorizer"
   ]
  },
  {
   "cell_type": "code",
   "execution_count": 12,
   "id": "9a358a4e",
   "metadata": {
    "execution": {
     "iopub.execute_input": "2021-05-05T13:41:50.389155Z",
     "iopub.status.busy": "2021-05-05T13:41:50.388459Z",
     "iopub.status.idle": "2021-05-05T13:41:50.390289Z",
     "shell.execute_reply": "2021-05-05T13:41:50.390738Z"
    },
    "slideshow": {
     "slide_type": "fragment"
    },
    "tags": []
   },
   "outputs": [],
   "source": [
    "vectorizer = CountVectorizer(stop_words='english')"
   ]
  },
  {
   "cell_type": "markdown",
   "id": "122d1c78",
   "metadata": {
    "slideshow": {
     "slide_type": "notes"
    },
    "tags": []
   },
   "source": [
    "You should consult the [documentation](https://scikit-learn.org/stable/modules/generated/sklearn.feature_extraction.text.CountVectorizer.html)  for the full description of the available arguments. I used only one: `stop_words = 'english'` which enables the use of the internal list of tokens to reject (stop words) (but see  [the description here](https://scikit-learn.org/stable/modules/feature_extraction.html#stop-words)). "
   ]
  },
  {
   "cell_type": "markdown",
   "id": "712648f2",
   "metadata": {
    "slideshow": {
     "slide_type": "notes"
    },
    "tags": []
   },
   "source": [
    "The method `fit_transform` takes the dataset and prepares the vocabulary and then encodes the dataset. It's a  composition of `fit` and `transform` methods."
   ]
  },
  {
   "cell_type": "code",
   "execution_count": 13,
   "id": "10644373",
   "metadata": {
    "execution": {
     "iopub.execute_input": "2021-05-05T13:41:50.478867Z",
     "iopub.status.busy": "2021-05-05T13:41:50.439738Z",
     "iopub.status.idle": "2021-05-05T13:42:01.199508Z",
     "shell.execute_reply": "2021-05-05T13:42:01.200105Z"
    },
    "slideshow": {
     "slide_type": "fragment"
    },
    "tags": []
   },
   "outputs": [
    {
     "name": "stdout",
     "output_type": "stream",
     "text": [
      "CPU times: user 10.6 s, sys: 192 ms, total: 10.8 s\n",
      "Wall time: 10.8 s\n"
     ]
    }
   ],
   "source": [
    "%%time\n",
    "review_features = vectorizer.fit_transform(train_data.review)"
   ]
  },
  {
   "cell_type": "code",
   "execution_count": 14,
   "id": "e66bfb2d",
   "metadata": {
    "execution": {
     "iopub.execute_input": "2021-05-05T13:42:01.204619Z",
     "iopub.status.busy": "2021-05-05T13:42:01.203838Z",
     "iopub.status.idle": "2021-05-05T13:42:01.206416Z",
     "shell.execute_reply": "2021-05-05T13:42:01.207107Z"
    },
    "slideshow": {
     "slide_type": "fragment"
    },
    "tags": []
   },
   "outputs": [
    {
     "data": {
      "text/plain": [
       "(250000, 191164)"
      ]
     },
     "execution_count": 14,
     "metadata": {},
     "output_type": "execute_result"
    }
   ],
   "source": [
    "review_features.shape"
   ]
  },
  {
   "cell_type": "markdown",
   "id": "59832528",
   "metadata": {
    "slideshow": {
     "slide_type": "notes"
    },
    "tags": []
   },
   "source": [
    "As we can see the resulting matrix is huge!! And it's a  only a small version of data... But even this \"small\" version would take "
   ]
  },
  {
   "cell_type": "code",
   "execution_count": 15,
   "id": "279f9e4a",
   "metadata": {
    "execution": {
     "iopub.execute_input": "2021-05-05T13:42:01.211460Z",
     "iopub.status.busy": "2021-05-05T13:42:01.210705Z",
     "iopub.status.idle": "2021-05-05T13:42:01.213233Z",
     "shell.execute_reply": "2021-05-05T13:42:01.213705Z"
    },
    "slideshow": {
     "slide_type": "fragment"
    },
    "tags": []
   },
   "outputs": [
    {
     "data": {
      "text/plain": [
       "44.508837163448334"
      ]
     },
     "execution_count": 15,
     "metadata": {},
     "output_type": "execute_result"
    }
   ],
   "source": [
    "np.prod(review_features.shape)/2**30"
   ]
  },
  {
   "cell_type": "markdown",
   "id": "99b74e1e",
   "metadata": {
    "slideshow": {
     "slide_type": "notes"
    },
    "tags": []
   },
   "source": [
    "gigabytes of data assuming only one byte of data per entry. However each document contains only a very small subset of total vocabulary. So each row of this matrix contains mostly zeros e.g. in first five rows it is:"
   ]
  },
  {
   "cell_type": "code",
   "execution_count": 16,
   "id": "b6bbd295",
   "metadata": {
    "execution": {
     "iopub.execute_input": "2021-05-05T13:42:01.217504Z",
     "iopub.status.busy": "2021-05-05T13:42:01.216826Z",
     "iopub.status.idle": "2021-05-05T13:42:01.225757Z",
     "shell.execute_reply": "2021-05-05T13:42:01.226439Z"
    },
    "slideshow": {
     "slide_type": "fragment"
    },
    "tags": []
   },
   "outputs": [
    {
     "data": {
      "text/plain": [
       "array([27, 47, 63, 11, 18])"
      ]
     },
     "execution_count": 16,
     "metadata": {},
     "output_type": "execute_result"
    }
   ],
   "source": [
    "np.count_nonzero(review_features[:5,:].toarray(), axis = 1)"
   ]
  },
  {
   "cell_type": "markdown",
   "id": "9be3884a",
   "metadata": {
    "slideshow": {
     "slide_type": "notes"
    },
    "tags": []
   },
   "source": [
    "compared to "
   ]
  },
  {
   "cell_type": "code",
   "execution_count": 17,
   "id": "710caeb2",
   "metadata": {
    "execution": {
     "iopub.execute_input": "2021-05-05T13:42:01.230464Z",
     "iopub.status.busy": "2021-05-05T13:42:01.229678Z",
     "iopub.status.idle": "2021-05-05T13:42:01.232507Z",
     "shell.execute_reply": "2021-05-05T13:42:01.232963Z"
    },
    "slideshow": {
     "slide_type": "fragment"
    },
    "tags": []
   },
   "outputs": [
    {
     "data": {
      "text/plain": [
       "191164"
      ]
     },
     "execution_count": 17,
     "metadata": {},
     "output_type": "execute_result"
    }
   ],
   "source": [
    "review_features.shape[1]"
   ]
  },
  {
   "cell_type": "markdown",
   "id": "eb149c1b",
   "metadata": {
    "slideshow": {
     "slide_type": "skip"
    }
   },
   "source": [
    "row length. That's why it is stored in the compressed matrix format"
   ]
  },
  {
   "cell_type": "markdown",
   "id": "494775f8",
   "metadata": {
    "slideshow": {
     "slide_type": "slide"
    },
    "tags": []
   },
   "source": [
    "### Sparse matrices"
   ]
  },
  {
   "cell_type": "code",
   "execution_count": 18,
   "id": "a1577001",
   "metadata": {
    "execution": {
     "iopub.execute_input": "2021-05-05T13:42:01.236773Z",
     "iopub.status.busy": "2021-05-05T13:42:01.236065Z",
     "iopub.status.idle": "2021-05-05T13:42:01.238636Z",
     "shell.execute_reply": "2021-05-05T13:42:01.239074Z"
    },
    "slideshow": {
     "slide_type": "fragment"
    },
    "tags": []
   },
   "outputs": [
    {
     "data": {
      "text/plain": [
       "scipy.sparse.csr.csr_matrix"
      ]
     },
     "execution_count": 18,
     "metadata": {},
     "output_type": "execute_result"
    }
   ],
   "source": [
    "type(review_features)"
   ]
  },
  {
   "cell_type": "markdown",
   "id": "1abcf938",
   "metadata": {
    "slideshow": {
     "slide_type": "notes"
    },
    "tags": []
   },
   "source": [
    "and we had to  use `toarray` method above to convert it to normal numpy array. Be carefull not to call this methods on the whole matrix!!!\n",
    "\n",
    "The `nnz` attribute stores the number of actuall entries in the matrix"
   ]
  },
  {
   "cell_type": "code",
   "execution_count": 19,
   "id": "7bb1f6e3",
   "metadata": {
    "execution": {
     "iopub.execute_input": "2021-05-05T13:42:01.242450Z",
     "iopub.status.busy": "2021-05-05T13:42:01.241870Z",
     "iopub.status.idle": "2021-05-05T13:42:01.244215Z",
     "shell.execute_reply": "2021-05-05T13:42:01.244692Z"
    },
    "slideshow": {
     "slide_type": "fragment"
    },
    "tags": []
   },
   "outputs": [
    {
     "data": {
      "text/plain": [
       "7480565"
      ]
     },
     "execution_count": 19,
     "metadata": {},
     "output_type": "execute_result"
    }
   ],
   "source": [
    "review_features.nnz"
   ]
  },
  {
   "cell_type": "markdown",
   "id": "43b18b4d",
   "metadata": {
    "slideshow": {
     "slide_type": "notes"
    },
    "tags": []
   },
   "source": [
    "Resulting in only  small proportion of all the entries"
   ]
  },
  {
   "cell_type": "code",
   "execution_count": 20,
   "id": "04940736",
   "metadata": {
    "execution": {
     "iopub.execute_input": "2021-05-05T13:42:01.248375Z",
     "iopub.status.busy": "2021-05-05T13:42:01.247745Z",
     "iopub.status.idle": "2021-05-05T13:42:01.250065Z",
     "shell.execute_reply": "2021-05-05T13:42:01.250477Z"
    },
    "slideshow": {
     "slide_type": "fragment"
    },
    "tags": []
   },
   "outputs": [
    {
     "data": {
      "text/plain": [
       "0.0001565266472766839"
      ]
     },
     "execution_count": 20,
     "metadata": {},
     "output_type": "execute_result"
    }
   ],
   "source": [
    "review_features.nnz/np.prod(review_features.shape)"
   ]
  },
  {
   "cell_type": "code",
   "execution_count": 21,
   "id": "193e9ecb",
   "metadata": {
    "execution": {
     "iopub.execute_input": "2021-05-05T13:42:01.253634Z",
     "iopub.status.busy": "2021-05-05T13:42:01.253000Z",
     "iopub.status.idle": "2021-05-05T13:42:01.255022Z",
     "shell.execute_reply": "2021-05-05T13:42:01.255411Z"
    },
    "slideshow": {
     "slide_type": "skip"
    },
    "tags": []
   },
   "outputs": [
    {
     "name": "stdout",
     "output_type": "stream",
     "text": [
      "132758\n"
     ]
    }
   ],
   "source": [
    "price_i = vectorizer.vocabulary_['price']\n",
    "print(price_i)"
   ]
  },
  {
   "cell_type": "code",
   "execution_count": 22,
   "id": "3ecad969",
   "metadata": {
    "execution": {
     "iopub.execute_input": "2021-05-05T13:42:01.447974Z",
     "iopub.status.busy": "2021-05-05T13:42:01.417374Z",
     "iopub.status.idle": "2021-05-05T13:42:01.451221Z",
     "shell.execute_reply": "2021-05-05T13:42:01.451778Z"
    },
    "slideshow": {
     "slide_type": "skip"
    },
    "tags": []
   },
   "outputs": [
    {
     "data": {
      "text/plain": [
       "'price'"
      ]
     },
     "execution_count": 22,
     "metadata": {},
     "output_type": "execute_result"
    }
   ],
   "source": [
    "vectorizer.get_feature_names()[price_i]"
   ]
  },
  {
   "cell_type": "markdown",
   "id": "9f87d60b",
   "metadata": {
    "slideshow": {
     "slide_type": "notes"
    },
    "tags": []
   },
   "source": [
    "The vectorizer object stores the `vocabulary_` dictionary that maps words to   vector indices. "
   ]
  },
  {
   "cell_type": "markdown",
   "id": "5d172713",
   "metadata": {
    "slideshow": {
     "slide_type": "notes"
    },
    "tags": []
   },
   "source": [
    "and word list that does the oposite:"
   ]
  },
  {
   "cell_type": "markdown",
   "id": "788d3f21",
   "metadata": {
    "slideshow": {
     "slide_type": "slide"
    },
    "tags": []
   },
   "source": [
    "## Classification"
   ]
  },
  {
   "cell_type": "markdown",
   "id": "41aa755e",
   "metadata": {
    "slideshow": {
     "slide_type": "notes"
    },
    "tags": []
   },
   "source": [
    "We will again use the invaluable scikit-learn library which implements the Multinomial classifier. "
   ]
  },
  {
   "cell_type": "code",
   "execution_count": 23,
   "id": "da1129df",
   "metadata": {
    "execution": {
     "iopub.execute_input": "2021-05-05T13:42:01.456324Z",
     "iopub.status.busy": "2021-05-05T13:42:01.455486Z",
     "iopub.status.idle": "2021-05-05T13:42:01.460234Z",
     "shell.execute_reply": "2021-05-05T13:42:01.460759Z"
    },
    "slideshow": {
     "slide_type": "fragment"
    }
   },
   "outputs": [],
   "source": [
    "from sklearn.naive_bayes import MultinomialNB"
   ]
  },
  {
   "cell_type": "code",
   "execution_count": 24,
   "id": "439c5a9d",
   "metadata": {
    "execution": {
     "iopub.execute_input": "2021-05-05T13:42:01.464497Z",
     "iopub.status.busy": "2021-05-05T13:42:01.463839Z",
     "iopub.status.idle": "2021-05-05T13:42:01.466515Z",
     "shell.execute_reply": "2021-05-05T13:42:01.465913Z"
    },
    "slideshow": {
     "slide_type": "fragment"
    }
   },
   "outputs": [],
   "source": [
    "base_rating_classifier = MultinomialNB()"
   ]
  },
  {
   "cell_type": "code",
   "execution_count": 25,
   "id": "c0972d30",
   "metadata": {
    "execution": {
     "iopub.execute_input": "2021-05-05T13:42:01.470497Z",
     "iopub.status.busy": "2021-05-05T13:42:01.469679Z",
     "iopub.status.idle": "2021-05-05T13:42:01.612415Z",
     "shell.execute_reply": "2021-05-05T13:42:01.612921Z"
    },
    "slideshow": {
     "slide_type": "fragment"
    }
   },
   "outputs": [
    {
     "data": {
      "text/plain": [
       "MultinomialNB()"
      ]
     },
     "execution_count": 25,
     "metadata": {},
     "output_type": "execute_result"
    }
   ],
   "source": [
    "base_rating_classifier.fit(review_features, train_data.rating)"
   ]
  },
  {
   "cell_type": "code",
   "execution_count": 26,
   "id": "bfe819e9",
   "metadata": {
    "execution": {
     "iopub.execute_input": "2021-05-05T13:42:01.696999Z",
     "iopub.status.busy": "2021-05-05T13:42:01.655624Z",
     "iopub.status.idle": "2021-05-05T13:42:03.615096Z",
     "shell.execute_reply": "2021-05-05T13:42:03.615453Z"
    },
    "slideshow": {
     "slide_type": "fragment"
    }
   },
   "outputs": [
    {
     "name": "stdout",
     "output_type": "stream",
     "text": [
      "CPU times: user 1.97 s, sys: 18.8 ms, total: 1.99 s\n",
      "Wall time: 2 s\n"
     ]
    }
   ],
   "source": [
    "%%time\n",
    "test_features = vectorizer.transform(test_data.review)"
   ]
  },
  {
   "cell_type": "code",
   "execution_count": 27,
   "id": "1310c700",
   "metadata": {
    "execution": {
     "iopub.execute_input": "2021-05-05T13:42:03.618459Z",
     "iopub.status.busy": "2021-05-05T13:42:03.617954Z",
     "iopub.status.idle": "2021-05-05T13:42:03.647111Z",
     "shell.execute_reply": "2021-05-05T13:42:03.647525Z"
    },
    "slideshow": {
     "slide_type": "fragment"
    }
   },
   "outputs": [
    {
     "data": {
      "text/plain": [
       "0.43456"
      ]
     },
     "execution_count": 27,
     "metadata": {},
     "output_type": "execute_result"
    }
   ],
   "source": [
    "base_rating_classifier.score(test_features, test_data.rating)"
   ]
  },
  {
   "cell_type": "code",
   "execution_count": 28,
   "id": "17066c51",
   "metadata": {
    "execution": {
     "iopub.execute_input": "2021-05-05T13:42:03.650942Z",
     "iopub.status.busy": "2021-05-05T13:42:03.650321Z",
     "iopub.status.idle": "2021-05-05T13:42:03.652096Z",
     "shell.execute_reply": "2021-05-05T13:42:03.652519Z"
    },
    "slideshow": {
     "slide_type": "skip"
    }
   },
   "outputs": [],
   "source": [
    "from sklearn.metrics import accuracy_score"
   ]
  },
  {
   "cell_type": "code",
   "execution_count": 29,
   "id": "f82950c4",
   "metadata": {
    "execution": {
     "iopub.execute_input": "2021-05-05T13:42:03.655752Z",
     "iopub.status.busy": "2021-05-05T13:42:03.655189Z",
     "iopub.status.idle": "2021-05-05T13:42:03.679708Z",
     "shell.execute_reply": "2021-05-05T13:42:03.680281Z"
    },
    "slideshow": {
     "slide_type": "skip"
    }
   },
   "outputs": [],
   "source": [
    "base_predicted =  base_rating_classifier.predict(test_features)"
   ]
  },
  {
   "cell_type": "code",
   "execution_count": 30,
   "id": "0f4ba39f",
   "metadata": {
    "execution": {
     "iopub.execute_input": "2021-05-05T13:42:03.683826Z",
     "iopub.status.busy": "2021-05-05T13:42:03.683248Z",
     "iopub.status.idle": "2021-05-05T13:42:03.688495Z",
     "shell.execute_reply": "2021-05-05T13:42:03.688929Z"
    },
    "slideshow": {
     "slide_type": "skip"
    }
   },
   "outputs": [
    {
     "data": {
      "text/plain": [
       "0.43456"
      ]
     },
     "execution_count": 30,
     "metadata": {},
     "output_type": "execute_result"
    }
   ],
   "source": [
    "accuracy_score(test_data.rating, base_predicted)"
   ]
  },
  {
   "cell_type": "markdown",
   "id": "ac3a530c",
   "metadata": {
    "slideshow": {
     "slide_type": "notes"
    }
   },
   "source": [
    "The `score` method implements the acccuracy metric which  gives the percentage of correct classfications. "
   ]
  },
  {
   "cell_type": "markdown",
   "id": "c8e6f4e9",
   "metadata": {
    "slideshow": {
     "slide_type": "notes"
    }
   },
   "source": [
    "The accuracy does not look very good but keep in mind that  this is not binary classification.  We have five  ratings so random guessing would give us accuracy around 20%.  All the scores we have introduced in the 'categorical' notebook give similar (or identical) results. "
   ]
  },
  {
   "cell_type": "code",
   "execution_count": 31,
   "id": "8a5fbef3",
   "metadata": {
    "execution": {
     "iopub.execute_input": "2021-05-05T13:42:03.692177Z",
     "iopub.status.busy": "2021-05-05T13:42:03.691585Z",
     "iopub.status.idle": "2021-05-05T13:42:03.693548Z",
     "shell.execute_reply": "2021-05-05T13:42:03.693923Z"
    },
    "slideshow": {
     "slide_type": "slide"
    }
   },
   "outputs": [],
   "source": [
    "from sklearn.metrics import f1_score, precision_score, recall_score, precision_recall_fscore_support, classification_report"
   ]
  },
  {
   "cell_type": "code",
   "execution_count": 32,
   "id": "2b709ae4",
   "metadata": {
    "execution": {
     "iopub.execute_input": "2021-05-05T13:42:03.697157Z",
     "iopub.status.busy": "2021-05-05T13:42:03.696624Z",
     "iopub.status.idle": "2021-05-05T13:42:03.754231Z",
     "shell.execute_reply": "2021-05-05T13:42:03.754664Z"
    },
    "slideshow": {
     "slide_type": "-"
    }
   },
   "outputs": [
    {
     "name": "stdout",
     "output_type": "stream",
     "text": [
      "              precision    recall  f1-score   support\n",
      "\n",
      "           1      0.496     0.603     0.544     10000\n",
      "           2      0.361     0.356     0.359     10000\n",
      "           3      0.354     0.319     0.336     10000\n",
      "           4      0.392     0.328     0.357     10000\n",
      "           5      0.534     0.567     0.550     10000\n",
      "\n",
      "    accuracy                          0.435     50000\n",
      "   macro avg      0.427     0.435     0.429     50000\n",
      "weighted avg      0.427     0.435     0.429     50000\n",
      "\n"
     ]
    }
   ],
   "source": [
    "print(classification_report(test_data.rating, base_predicted, digits=3))"
   ]
  },
  {
   "cell_type": "code",
   "execution_count": 33,
   "id": "9f4593bc",
   "metadata": {
    "execution": {
     "iopub.execute_input": "2021-05-05T13:42:03.757376Z",
     "iopub.status.busy": "2021-05-05T13:42:03.756934Z",
     "iopub.status.idle": "2021-05-05T13:42:03.772279Z",
     "shell.execute_reply": "2021-05-05T13:42:03.772662Z"
    },
    "slideshow": {
     "slide_type": "fragment"
    }
   },
   "outputs": [
    {
     "data": {
      "text/plain": [
       "(0.4274804399940919, 0.43456, 0.42912122517647433, None)"
      ]
     },
     "execution_count": 33,
     "metadata": {},
     "output_type": "execute_result"
    }
   ],
   "source": [
    "precision_recall_fscore_support(test_data.rating, base_predicted, average='macro')"
   ]
  },
  {
   "cell_type": "code",
   "execution_count": 34,
   "id": "cfeb8210",
   "metadata": {
    "execution": {
     "iopub.execute_input": "2021-05-05T13:42:03.777588Z",
     "iopub.status.busy": "2021-05-05T13:42:03.777129Z",
     "iopub.status.idle": "2021-05-05T13:42:03.778955Z",
     "shell.execute_reply": "2021-05-05T13:42:03.779267Z"
    },
    "slideshow": {
     "slide_type": "skip"
    }
   },
   "outputs": [],
   "source": [
    "def plot_results(true_ratings, predictated_ratings):\n",
    "    fig, ax = plt.subplots(1,3, figsize=(18,5))\n",
    "    diffs = predictated_ratings - true_ratings\n",
    "    ax[0].hist(diffs, bins=9, range=(-4.5,4.5), density=True);\n",
    "    ax[0].set_xlabel(\"$\\delta$\")\n",
    "    ax[0].set_ylabel(\"$P(\\Delta r = \\delta)$\")\n",
    "    ax[1].hist(np.abs(diffs), bins=5, range=(-0.5,4.5), density=True);\n",
    "    ax[1].set_xlabel(\"$\\delta$\")\n",
    "    ax[1].set_ylabel(\"$P(|\\Delta r| = \\delta)$\")\n",
    "\n",
    "    ax[2].hist(np.abs(diffs), bins=5, range=(-0.5,4.5), density=True, cumulative=True, histtype='step');\n",
    "    ax[2].axhline(0.80, linewidth=0.75, color='grey');\n",
    "    ax[2].set_xlabel(\"$\\delta$\")\n",
    "    ax[2].set_ylabel(\"$P(\\Delta r \\leq \\delta)$\", fontsize=12)"
   ]
  },
  {
   "cell_type": "markdown",
   "id": "31b0df32",
   "metadata": {
    "slideshow": {
     "slide_type": "notes"
    }
   },
   "source": [
    "Accuracy counts only the ratings we got exactly right. However we are not dealing with real categorical (nominal) data. Our labels are _ordinals_ meaning that there is an order to ratings  and clearly predicting one instead of five is a bigger error then predicting four. In practice we may tolerate  _e.g._  to be one rating off.\n",
    "\n",
    "Let's look more closely how close we are with our classification.\n",
    "The function below calculates the histogram of differences between  predictions and true ratings and plots it. "
   ]
  },
  {
   "cell_type": "code",
   "execution_count": 35,
   "id": "c791369e",
   "metadata": {
    "execution": {
     "iopub.execute_input": "2021-05-05T13:42:03.816865Z",
     "iopub.status.busy": "2021-05-05T13:42:03.816379Z",
     "iopub.status.idle": "2021-05-05T13:42:04.223612Z",
     "shell.execute_reply": "2021-05-05T13:42:04.224001Z"
    },
    "slideshow": {
     "slide_type": "slide"
    }
   },
   "outputs": [
    {
     "data": {
      "image/png": "[encoded data removed]",
      "text/plain": [
       "<Figure size 1296x360 with 3 Axes>"
      ]
     },
     "metadata": {
      "needs_background": "light"
     },
     "output_type": "display_data"
    }
   ],
   "source": [
    "plot_results(test_data.rating, base_predicted)"
   ]
  },
  {
   "cell_type": "markdown",
   "id": "2c24dd17",
   "metadata": {
    "slideshow": {
     "slide_type": "notes"
    }
   },
   "source": [
    "We see that im 80% of cases we are just one rating off."
   ]
  },
  {
   "cell_type": "markdown",
   "id": "7b0481ee",
   "metadata": {
    "slideshow": {
     "slide_type": "notes"
    }
   },
   "source": [
    "We can get  similar results  with `confusion_matrix` functions from scikit-learn"
   ]
  },
  {
   "cell_type": "code",
   "execution_count": 36,
   "id": "85b81618",
   "metadata": {
    "execution": {
     "iopub.execute_input": "2021-05-05T13:42:04.227145Z",
     "iopub.status.busy": "2021-05-05T13:42:04.226601Z",
     "iopub.status.idle": "2021-05-05T13:42:04.228471Z",
     "shell.execute_reply": "2021-05-05T13:42:04.228877Z"
    },
    "slideshow": {
     "slide_type": "skip"
    }
   },
   "outputs": [],
   "source": [
    "from sklearn.metrics import confusion_matrix, plot_confusion_matrix"
   ]
  },
  {
   "cell_type": "markdown",
   "id": "adfd06ed",
   "metadata": {
    "slideshow": {
     "slide_type": "notes"
    }
   },
   "source": [
    "Please pay attention to `normalize` parameter. This displays  the relative frequencies of all possible outcomes combinations:   rows correspond to true labels, columns to predicted."
   ]
  },
  {
   "cell_type": "code",
   "execution_count": 37,
   "id": "9874717a",
   "metadata": {
    "execution": {
     "iopub.execute_input": "2021-05-05T13:42:04.231950Z",
     "iopub.status.busy": "2021-05-05T13:42:04.231433Z",
     "iopub.status.idle": "2021-05-05T13:42:04.259421Z",
     "shell.execute_reply": "2021-05-05T13:42:04.259748Z"
    },
    "slideshow": {
     "slide_type": "slide"
    }
   },
   "outputs": [
    {
     "data": {
      "text/plain": [
       "array([[0.12054, 0.04566, 0.0173 , 0.00656, 0.00994],\n",
       "       [0.05676, 0.07128, 0.04498, 0.01444, 0.01254],\n",
       "       [0.03072, 0.04652, 0.06374, 0.03716, 0.02186],\n",
       "       [0.01782, 0.0234 , 0.03852, 0.06554, 0.05472],\n",
       "       [0.01704, 0.0107 , 0.01534, 0.04346, 0.11346]])"
      ]
     },
     "execution_count": 37,
     "metadata": {},
     "output_type": "execute_result"
    }
   ],
   "source": [
    "outcome_freq = confusion_matrix(test_data.rating, base_predicted, normalize='all')\n",
    "outcome_freq"
   ]
  },
  {
   "cell_type": "markdown",
   "id": "d0c7db7a",
   "metadata": {
    "slideshow": {
     "slide_type": "skip"
    }
   },
   "source": [
    "It ads up to one as expected"
   ]
  },
  {
   "cell_type": "code",
   "execution_count": 38,
   "id": "ae863a6f",
   "metadata": {
    "execution": {
     "iopub.execute_input": "2021-05-05T13:42:04.262778Z",
     "iopub.status.busy": "2021-05-05T13:42:04.262207Z",
     "iopub.status.idle": "2021-05-05T13:42:04.264418Z",
     "shell.execute_reply": "2021-05-05T13:42:04.264774Z"
    },
    "slideshow": {
     "slide_type": "skip"
    }
   },
   "outputs": [
    {
     "data": {
      "text/plain": [
       "1.0"
      ]
     },
     "execution_count": 38,
     "metadata": {},
     "output_type": "execute_result"
    }
   ],
   "source": [
    "outcome_freq.sum()"
   ]
  },
  {
   "cell_type": "markdown",
   "id": "6340dcbd",
   "metadata": {
    "slideshow": {
     "slide_type": "skip"
    }
   },
   "source": [
    "We can get the counts of each outcomes by not requesting normalization"
   ]
  },
  {
   "cell_type": "code",
   "execution_count": 39,
   "id": "716a8f9d",
   "metadata": {
    "execution": {
     "iopub.execute_input": "2021-05-05T13:42:04.267458Z",
     "iopub.status.busy": "2021-05-05T13:42:04.266961Z",
     "iopub.status.idle": "2021-05-05T13:42:04.293252Z",
     "shell.execute_reply": "2021-05-05T13:42:04.293572Z"
    },
    "slideshow": {
     "slide_type": "fragment"
    }
   },
   "outputs": [
    {
     "data": {
      "text/plain": [
       "array([[6027, 2283,  865,  328,  497],\n",
       "       [2838, 3564, 2249,  722,  627],\n",
       "       [1536, 2326, 3187, 1858, 1093],\n",
       "       [ 891, 1170, 1926, 3277, 2736],\n",
       "       [ 852,  535,  767, 2173, 5673]])"
      ]
     },
     "execution_count": 39,
     "metadata": {},
     "output_type": "execute_result"
    }
   ],
   "source": [
    "confusion_matrix(test_data.rating, base_predicted)"
   ]
  },
  {
   "cell_type": "markdown",
   "id": "86b13638",
   "metadata": {
    "slideshow": {
     "slide_type": "skip"
    }
   },
   "source": [
    "scikit-learn provides also function for plotting  confusion matrix."
   ]
  },
  {
   "cell_type": "code",
   "execution_count": 40,
   "id": "1b18e984",
   "metadata": {
    "execution": {
     "iopub.execute_input": "2021-05-05T13:42:04.309683Z",
     "iopub.status.busy": "2021-05-05T13:42:04.309165Z",
     "iopub.status.idle": "2021-05-05T13:42:04.501001Z",
     "shell.execute_reply": "2021-05-05T13:42:04.501387Z"
    },
    "slideshow": {
     "slide_type": "slide"
    }
   },
   "outputs": [
    {
     "data": {
      "image/png": "[encoded data removed]",
      "text/plain": [
       "<Figure size 864x576 with 2 Axes>"
      ]
     },
     "metadata": {
      "needs_background": "light"
     },
     "output_type": "display_data"
    }
   ],
   "source": [
    "fig, ax = plt.subplots(figsize=(12,8))\n",
    "disp = plot_confusion_matrix(base_rating_classifier, test_features, test_data.rating, normalize='true', ax=ax);"
   ]
  },
  {
   "cell_type": "markdown",
   "id": "3b27796a",
   "metadata": {
    "slideshow": {
     "slide_type": "skip"
    }
   },
   "source": [
    " The normalization set to 'true' normalizes each row separately. We can check this by accesing the computed confusion matrix."
   ]
  },
  {
   "cell_type": "code",
   "execution_count": 41,
   "id": "d59780ec",
   "metadata": {
    "execution": {
     "iopub.execute_input": "2021-05-05T13:42:04.505189Z",
     "iopub.status.busy": "2021-05-05T13:42:04.504585Z",
     "iopub.status.idle": "2021-05-05T13:42:04.506792Z",
     "shell.execute_reply": "2021-05-05T13:42:04.507134Z"
    },
    "slideshow": {
     "slide_type": "skip"
    }
   },
   "outputs": [
    {
     "data": {
      "text/plain": [
       "array([1., 1., 1., 1., 1.])"
      ]
     },
     "execution_count": 41,
     "metadata": {},
     "output_type": "execute_result"
    }
   ],
   "source": [
    "disp.confusion_matrix.sum(axis=1)"
   ]
  },
  {
   "cell_type": "markdown",
   "id": "b9305248",
   "metadata": {
    "slideshow": {
     "slide_type": "notes"
    }
   },
   "source": [
    "We can see that the most extreme ratings are most often  predicted correctly, which maybe is not that suprising. "
   ]
  },
  {
   "cell_type": "markdown",
   "id": "0f4eac9d",
   "metadata": {
    "slideshow": {
     "slide_type": "notes"
    }
   },
   "source": [
    "If we want to display an already computed confusion matrix we can use the `ConfusionMatrixDisplay` class"
   ]
  },
  {
   "cell_type": "code",
   "execution_count": 42,
   "id": "2ecac558",
   "metadata": {
    "execution": {
     "iopub.execute_input": "2021-05-05T13:42:04.552863Z",
     "iopub.status.busy": "2021-05-05T13:42:04.547632Z",
     "iopub.status.idle": "2021-05-05T13:42:04.664799Z",
     "shell.execute_reply": "2021-05-05T13:42:04.665180Z"
    },
    "slideshow": {
     "slide_type": "slide"
    }
   },
   "outputs": [
    {
     "data": {
      "text/plain": [
       "Text(0, 0.5, 'true ratings')"
      ]
     },
     "execution_count": 42,
     "metadata": {},
     "output_type": "execute_result"
    },
    {
     "data": {
      "image/png": "[encoded data removed]",
      "text/plain": [
       "<Figure size 864x576 with 2 Axes>"
      ]
     },
     "metadata": {
      "needs_background": "light"
     },
     "output_type": "display_data"
    }
   ],
   "source": [
    "from sklearn.metrics import ConfusionMatrixDisplay\n",
    "cm_display = ConfusionMatrixDisplay(outcome_freq, display_labels=range(1,6))\n",
    "fig, ax = plt.subplots(figsize=(12,8))\n",
    "cm_display.plot(ax=ax);\n",
    "ax.set_xlabel('predicted ratings')\n",
    "ax.set_ylabel('true ratings')"
   ]
  },
  {
   "cell_type": "markdown",
   "id": "fb351f5d",
   "metadata": {
    "slideshow": {
     "slide_type": "slide"
    }
   },
   "source": [
    "#### Most probable words"
   ]
  },
  {
   "cell_type": "markdown",
   "id": "62aa3dfd",
   "metadata": {
    "slideshow": {
     "slide_type": "notes"
    }
   },
   "source": [
    "Let's look what are the most probable words in each category. The MultinomialNB makes the  logs of probabilities"
   ]
  },
  {
   "cell_type": "markdown",
   "id": "a3e1c294",
   "metadata": {
    "slideshow": {
     "slide_type": "fragment"
    }
   },
   "source": [
    "$$\\log P(X_i=i|R=r)=\\log p^{(r)}_{i}$$"
   ]
  },
  {
   "cell_type": "markdown",
   "id": "75b3a989",
   "metadata": {
    "slideshow": {
     "slide_type": "notes"
    }
   },
   "source": [
    "available as `feature_log_prob_` attribute. We can extract the index of highest number in an array using numpy function `argmax`"
   ]
  },
  {
   "cell_type": "code",
   "execution_count": 43,
   "id": "55583e1a",
   "metadata": {
    "execution": {
     "iopub.execute_input": "2021-05-05T13:42:04.667935Z",
     "iopub.status.busy": "2021-05-05T13:42:04.667495Z",
     "iopub.status.idle": "2021-05-05T13:42:04.671380Z",
     "shell.execute_reply": "2021-05-05T13:42:04.671741Z"
    },
    "slideshow": {
     "slide_type": "fragment"
    }
   },
   "outputs": [
    {
     "data": {
      "text/plain": [
       "array([25614, 25614, 25614, 25614, 25614])"
      ]
     },
     "execution_count": 43,
     "metadata": {},
     "output_type": "execute_result"
    }
   ],
   "source": [
    "most_probable = np.argmax(base_rating_classifier.feature_log_prob_,axis=1)\n",
    "most_probable"
   ]
  },
  {
   "cell_type": "markdown",
   "id": "bc61c5b4",
   "metadata": {
    "slideshow": {
     "slide_type": "skip"
    }
   },
   "source": [
    "To convert the indices to word in the vocabulary we will use an auxiliary function"
   ]
  },
  {
   "cell_type": "code",
   "execution_count": 44,
   "id": "f3d3eb30",
   "metadata": {
    "execution": {
     "iopub.execute_input": "2021-05-05T13:42:04.674646Z",
     "iopub.status.busy": "2021-05-05T13:42:04.674205Z",
     "iopub.status.idle": "2021-05-05T13:42:04.675943Z",
     "shell.execute_reply": "2021-05-05T13:42:04.676262Z"
    },
    "slideshow": {
     "slide_type": "fragment"
    }
   },
   "outputs": [],
   "source": [
    "def word(i):\n",
    "    return vectorizer.get_feature_names()[i]\n",
    "\n",
    "word = np.vectorize(word)"
   ]
  },
  {
   "cell_type": "markdown",
   "id": "de8ed33b",
   "metadata": {
    "slideshow": {
     "slide_type": "notes"
    }
   },
   "source": [
    "The numpy `vectorize` function takes a Python function and makes it _threadable_ over numpy arrays, but please note that this may be quite inneficient. "
   ]
  },
  {
   "cell_type": "code",
   "execution_count": 45,
   "id": "3e24de5a",
   "metadata": {
    "execution": {
     "iopub.execute_input": "2021-05-05T13:42:04.978488Z",
     "iopub.status.busy": "2021-05-05T13:42:04.811671Z",
     "iopub.status.idle": "2021-05-05T13:42:05.690425Z",
     "shell.execute_reply": "2021-05-05T13:42:05.691014Z"
    },
    "slideshow": {
     "slide_type": "fragment"
    }
   },
   "outputs": [
    {
     "data": {
      "text/plain": [
       "array(['book', 'book', 'book', 'book', 'book'], dtype='<U4')"
      ]
     },
     "execution_count": 45,
     "metadata": {},
     "output_type": "execute_result"
    }
   ],
   "source": [
    "word(most_probable)"
   ]
  },
  {
   "cell_type": "code",
   "execution_count": 46,
   "id": "5980bfc6",
   "metadata": {
    "execution": {
     "iopub.execute_input": "2021-05-05T13:42:05.696787Z",
     "iopub.status.busy": "2021-05-05T13:42:05.696049Z",
     "iopub.status.idle": "2021-05-05T13:42:05.698899Z",
     "shell.execute_reply": "2021-05-05T13:42:05.699431Z"
    },
    "slideshow": {
     "slide_type": "skip"
    }
   },
   "outputs": [
    {
     "name": "stdout",
     "output_type": "stream",
     "text": [
      "[0.76747753 0.89836094 0.86719317 0.02347942 0.20340148 0.39881874]\n",
      "[3 4 5 0 2 1]\n",
      "[0.02347942 0.20340148 0.39881874 0.76747753 0.86719317 0.89836094]\n"
     ]
    }
   ],
   "source": [
    "a = np.random.uniform(0,1,6)\n",
    "print(a)\n",
    "ia = np.argsort(a)\n",
    "print(ia)\n",
    "print(a[ia])"
   ]
  },
  {
   "cell_type": "markdown",
   "id": "375209a6",
   "metadata": {
    "slideshow": {
     "slide_type": "skip"
    }
   },
   "source": [
    "Below we take $n$ most probable words  for each rating"
   ]
  },
  {
   "cell_type": "markdown",
   "id": "96526438",
   "metadata": {
    "slideshow": {
     "slide_type": "notes"
    }
   },
   "source": [
    "We can look at more words using the `argsort` function which returns the indices of the array in the sorted by (ascending) values order"
   ]
  },
  {
   "cell_type": "code",
   "execution_count": 47,
   "id": "48d8368f",
   "metadata": {
    "execution": {
     "iopub.execute_input": "2021-05-05T13:42:05.703357Z",
     "iopub.status.busy": "2021-05-05T13:42:05.702698Z",
     "iopub.status.idle": "2021-05-05T13:42:05.749372Z",
     "shell.execute_reply": "2021-05-05T13:42:05.749857Z"
    },
    "slideshow": {
     "slide_type": "slide"
    }
   },
   "outputs": [],
   "source": [
    "n = 20 \n",
    "most_probable = np.argsort(base_rating_classifier.feature_log_prob_,axis=1)[:,-1:-n-1:-1]"
   ]
  },
  {
   "cell_type": "markdown",
   "id": "0f4d606a",
   "metadata": {
    "slideshow": {
     "slide_type": "notes"
    }
   },
   "source": [
    "`argsort` sorts in ascending order. To list last $n$ elements of an array  in reverse order we use  slice with negative stride. \n",
    "\n",
    "`[-1:-n-1:-1]` means: start from last element (first from the end) and  go down  to  but not including n+1 element from the end. "
   ]
  },
  {
   "cell_type": "code",
   "execution_count": 48,
   "id": "9bd87c45",
   "metadata": {
    "execution": {
     "iopub.execute_input": "2021-05-05T13:42:06.055300Z",
     "iopub.status.busy": "2021-05-05T13:42:05.886493Z",
     "iopub.status.idle": "2021-05-05T13:42:22.730809Z",
     "shell.execute_reply": "2021-05-05T13:42:22.730144Z"
    },
    "slideshow": {
     "slide_type": "fragment"
    }
   },
   "outputs": [],
   "source": [
    "words = word(most_probable)"
   ]
  },
  {
   "cell_type": "markdown",
   "id": "10f6a2e8",
   "metadata": {
    "slideshow": {
     "slide_type": "skip"
    }
   },
   "source": [
    "We can use Pandas dataframe to \"pretty print\" the  resulting array"
   ]
  },
  {
   "cell_type": "code",
   "execution_count": 49,
   "id": "234e2509",
   "metadata": {
    "execution": {
     "iopub.execute_input": "2021-05-05T13:42:22.751399Z",
     "iopub.status.busy": "2021-05-05T13:42:22.750626Z",
     "iopub.status.idle": "2021-05-05T13:42:22.753264Z",
     "shell.execute_reply": "2021-05-05T13:42:22.753840Z"
    },
    "slideshow": {
     "slide_type": "fragment"
    }
   },
   "outputs": [
    {
     "data": {
      "text/html": [
       "<div>\n",
       "<style scoped>\n",
       "    .dataframe tbody tr th:only-of-type {\n",
       "        vertical-align: middle;\n",
       "    }\n",
       "\n",
       "    .dataframe tbody tr th {\n",
       "        vertical-align: top;\n",
       "    }\n",
       "\n",
       "    .dataframe thead th {\n",
       "        text-align: right;\n",
       "    }\n",
       "</style>\n",
       "<table border=\"1\" class=\"dataframe\">\n",
       "  <thead>\n",
       "    <tr style=\"text-align: right;\">\n",
       "      <th></th>\n",
       "      <th>1</th>\n",
       "      <th>2</th>\n",
       "      <th>3</th>\n",
       "      <th>4</th>\n",
       "      <th>5</th>\n",
       "      <th>6</th>\n",
       "      <th>7</th>\n",
       "      <th>8</th>\n",
       "      <th>9</th>\n",
       "      <th>10</th>\n",
       "      <th>11</th>\n",
       "      <th>12</th>\n",
       "      <th>13</th>\n",
       "      <th>14</th>\n",
       "      <th>15</th>\n",
       "      <th>16</th>\n",
       "      <th>17</th>\n",
       "      <th>18</th>\n",
       "      <th>19</th>\n",
       "      <th>20</th>\n",
       "    </tr>\n",
       "  </thead>\n",
       "  <tbody>\n",
       "    <tr>\n",
       "      <th>1</th>\n",
       "      <td>book</td>\n",
       "      <td>just</td>\n",
       "      <td>like</td>\n",
       "      <td>don</td>\n",
       "      <td>time</td>\n",
       "      <td>good</td>\n",
       "      <td>movie</td>\n",
       "      <td>product</td>\n",
       "      <td>money</td>\n",
       "      <td>buy</td>\n",
       "      <td>read</td>\n",
       "      <td>bought</td>\n",
       "      <td>did</td>\n",
       "      <td>work</td>\n",
       "      <td>really</td>\n",
       "      <td>bad</td>\n",
       "      <td>use</td>\n",
       "      <td>better</td>\n",
       "      <td>got</td>\n",
       "      <td>waste</td>\n",
       "    </tr>\n",
       "    <tr>\n",
       "      <th>2</th>\n",
       "      <td>book</td>\n",
       "      <td>like</td>\n",
       "      <td>just</td>\n",
       "      <td>good</td>\n",
       "      <td>really</td>\n",
       "      <td>time</td>\n",
       "      <td>don</td>\n",
       "      <td>read</td>\n",
       "      <td>movie</td>\n",
       "      <td>better</td>\n",
       "      <td>great</td>\n",
       "      <td>did</td>\n",
       "      <td>use</td>\n",
       "      <td>bought</td>\n",
       "      <td>work</td>\n",
       "      <td>way</td>\n",
       "      <td>does</td>\n",
       "      <td>story</td>\n",
       "      <td>didn</td>\n",
       "      <td>buy</td>\n",
       "    </tr>\n",
       "    <tr>\n",
       "      <th>3</th>\n",
       "      <td>book</td>\n",
       "      <td>good</td>\n",
       "      <td>like</td>\n",
       "      <td>just</td>\n",
       "      <td>great</td>\n",
       "      <td>really</td>\n",
       "      <td>read</td>\n",
       "      <td>movie</td>\n",
       "      <td>time</td>\n",
       "      <td>don</td>\n",
       "      <td>better</td>\n",
       "      <td>little</td>\n",
       "      <td>story</td>\n",
       "      <td>think</td>\n",
       "      <td>does</td>\n",
       "      <td>did</td>\n",
       "      <td>use</td>\n",
       "      <td>album</td>\n",
       "      <td>work</td>\n",
       "      <td>way</td>\n",
       "    </tr>\n",
       "    <tr>\n",
       "      <th>4</th>\n",
       "      <td>book</td>\n",
       "      <td>good</td>\n",
       "      <td>great</td>\n",
       "      <td>like</td>\n",
       "      <td>just</td>\n",
       "      <td>read</td>\n",
       "      <td>really</td>\n",
       "      <td>time</td>\n",
       "      <td>movie</td>\n",
       "      <td>little</td>\n",
       "      <td>love</td>\n",
       "      <td>album</td>\n",
       "      <td>use</td>\n",
       "      <td>story</td>\n",
       "      <td>don</td>\n",
       "      <td>cd</td>\n",
       "      <td>think</td>\n",
       "      <td>better</td>\n",
       "      <td>does</td>\n",
       "      <td>best</td>\n",
       "    </tr>\n",
       "    <tr>\n",
       "      <th>5</th>\n",
       "      <td>book</td>\n",
       "      <td>great</td>\n",
       "      <td>like</td>\n",
       "      <td>just</td>\n",
       "      <td>read</td>\n",
       "      <td>good</td>\n",
       "      <td>love</td>\n",
       "      <td>time</td>\n",
       "      <td>best</td>\n",
       "      <td>really</td>\n",
       "      <td>cd</td>\n",
       "      <td>movie</td>\n",
       "      <td>album</td>\n",
       "      <td>music</td>\n",
       "      <td>ve</td>\n",
       "      <td>recommend</td>\n",
       "      <td>use</td>\n",
       "      <td>story</td>\n",
       "      <td>years</td>\n",
       "      <td>don</td>\n",
       "    </tr>\n",
       "  </tbody>\n",
       "</table>\n",
       "</div>"
      ],
      "text/plain": [
       "     1      2      3     4       5       6       7        8      9       10  \\\n",
       "1  book   just   like   don    time    good   movie  product  money     buy   \n",
       "2  book   like   just  good  really    time     don     read  movie  better   \n",
       "3  book   good   like  just   great  really    read    movie   time     don   \n",
       "4  book   good  great  like    just    read  really     time  movie  little   \n",
       "5  book  great   like  just    read    good    love     time   best  really   \n",
       "\n",
       "       11      12     13      14      15         16     17      18     19  \\\n",
       "1    read  bought    did    work  really        bad    use  better    got   \n",
       "2   great     did    use  bought    work        way   does   story   didn   \n",
       "3  better  little  story   think    does        did    use   album   work   \n",
       "4    love   album    use   story     don         cd  think  better   does   \n",
       "5      cd   movie  album   music      ve  recommend    use   story  years   \n",
       "\n",
       "      20  \n",
       "1  waste  \n",
       "2    buy  \n",
       "3    way  \n",
       "4   best  \n",
       "5    don  "
      ]
     },
     "execution_count": 49,
     "metadata": {},
     "output_type": "execute_result"
    }
   ],
   "source": [
    "pd.DataFrame(words, index =[1,2,3,4,5], columns=range(1,21))"
   ]
  },
  {
   "cell_type": "markdown",
   "id": "ee6c99db",
   "metadata": {
    "slideshow": {
     "slide_type": "slide"
    }
   },
   "source": [
    "## Hyperparameters tuning"
   ]
  },
  {
   "cell_type": "markdown",
   "id": "2432ebd3",
   "metadata": {
    "slideshow": {
     "slide_type": "notes"
    }
   },
   "source": [
    "While developing the text classifier above we had to set  a number of parameters. The `MultinomialNB` has only  one: `alpha`, but   vectorizer has several. Those parameters are called _hyperparameters_ to distinguish them from the parameters like $p^{(r)}_i$  that we are training. It is not clear a priori  what values of those hyperparameters will give us the best results. Unfortunatelly here we  are moving away from nice science of probability calculus  and enter the realm  of black magic of hyperparameters tuning.  "
   ]
  },
  {
   "cell_type": "markdown",
   "id": "c16cb0d4",
   "metadata": {
    "slideshow": {
     "slide_type": "notes"
    }
   },
   "source": [
    "The most obvious and conceptually easiest strategy is the search of the space of possible parameters. In practice this is of course not possible, but we can at least scan a part of the parameters space and get some feeling about performance. "
   ]
  },
  {
   "cell_type": "markdown",
   "id": "79316866",
   "metadata": {
    "slideshow": {
     "slide_type": "notes"
    }
   },
   "source": [
    "Before we begin we must however think a little bit about how are we going to measure the performance of  the classifier. I have already stated that we must not use the training set for evaluation. What about the testing set then? While not so obvious, when we are tuning the hyperparameters we are also in some sense training our model. So if we use the test set to choose best hyperparameters we cannot use this set for overall final evaluation. The solution is to  set aside yet another set called the _validation_ dataset and use this set for tuning hyperparameters. For more explanation see [this article](https://machinelearningmastery.com/difference-test-validation-datasets/)."
   ]
  },
  {
   "cell_type": "markdown",
   "id": "5e6a30bc",
   "metadata": {
    "slideshow": {
     "slide_type": "slide"
    }
   },
   "source": [
    "### Cross validation"
   ]
  },
  {
   "cell_type": "markdown",
   "id": "3666d888",
   "metadata": {
    "slideshow": {
     "slide_type": "notes"
    }
   },
   "source": [
    "Unfortunatelly  we usually have a finite amount of data and leaving aside test and validatation sets leaves less data for training. One of the strategies used to mitigate that is _k-fold cross validation_. This works like that: We divide our data in $k$ equal parts called folds.  Then we train our model $k$ times each time using different fold for testing and $k-1$ remaining folds for training. That way we get $k$ evaluations results that we can e.g. average. "
   ]
  },
  {
   "cell_type": "markdown",
   "id": "edead2a0",
   "metadata": {
    "slideshow": {
     "slide_type": "notes"
    }
   },
   "source": [
    "Fortunatelly scikit-learn  provides several functions to help us with cross validation."
   ]
  },
  {
   "cell_type": "code",
   "execution_count": 50,
   "id": "560c1d8b",
   "metadata": {
    "execution": {
     "iopub.execute_input": "2021-05-05T13:42:22.757385Z",
     "iopub.status.busy": "2021-05-05T13:42:22.756740Z",
     "iopub.status.idle": "2021-05-05T13:42:22.758740Z",
     "shell.execute_reply": "2021-05-05T13:42:22.759207Z"
    },
    "slideshow": {
     "slide_type": "fragment"
    }
   },
   "outputs": [],
   "source": [
    "from sklearn.model_selection import cross_val_score, cross_validate"
   ]
  },
  {
   "cell_type": "code",
   "execution_count": 51,
   "id": "fada996b",
   "metadata": {
    "execution": {
     "iopub.execute_input": "2021-05-05T13:42:22.763612Z",
     "iopub.status.busy": "2021-05-05T13:42:22.762990Z",
     "iopub.status.idle": "2021-05-05T13:42:32.633022Z",
     "shell.execute_reply": "2021-05-05T13:42:32.633754Z"
    },
    "slideshow": {
     "slide_type": "fragment"
    }
   },
   "outputs": [
    {
     "name": "stdout",
     "output_type": "stream",
     "text": [
      " 0.0 0.3805 [0.38456 0.37798 0.3768  0.38042 0.38284]\n"
     ]
    },
    {
     "name": "stdout",
     "output_type": "stream",
     "text": [
      " 1.0 0.4319 [0.43612 0.42952 0.42716 0.4326  0.43416]\n"
     ]
    },
    {
     "name": "stdout",
     "output_type": "stream",
     "text": [
      " 2.0 0.4346 [0.43864 0.4329  0.43104 0.43534 0.43518]\n"
     ]
    },
    {
     "name": "stdout",
     "output_type": "stream",
     "text": [
      " 3.0 0.4356 [0.43954 0.43406 0.43284 0.43566 0.43582]\n"
     ]
    },
    {
     "name": "stdout",
     "output_type": "stream",
     "text": [
      " 4.0 0.4356 [0.4398  0.43444 0.43312 0.43498 0.43552]\n"
     ]
    },
    {
     "name": "stdout",
     "output_type": "stream",
     "text": [
      " 5.0 0.4352 [0.43976 0.43422 0.43386 0.43392 0.43418]\n"
     ]
    },
    {
     "name": "stdout",
     "output_type": "stream",
     "text": [
      "10.0 0.4312 [0.43492 0.4306  0.43188 0.4296  0.42906]\n"
     ]
    },
    {
     "name": "stdout",
     "output_type": "stream",
     "text": [
      "20.0 0.4263 [0.42992 0.4256  0.4267  0.42628 0.4228 ]\n"
     ]
    },
    {
     "name": "stdout",
     "output_type": "stream",
     "text": [
      "30.0 0.4233 [0.42656 0.42226 0.42458 0.4237  0.4195 ]\n"
     ]
    },
    {
     "name": "stdout",
     "output_type": "stream",
     "text": [
      "50.0 0.4192 [0.42076 0.41884 0.42062 0.42006 0.41574]\n"
     ]
    }
   ],
   "source": [
    "for a in [0,1,2,3,4,5,10,20,30,50]:\n",
    "    scores = cross_val_score(MultinomialNB(alpha=a), review_features, train_data.rating,cv = 5, n_jobs=-1 )\n",
    "    print(\"{:4.1f} {:6.4f}\".format(a, scores.mean()), scores)"
   ]
  },
  {
   "cell_type": "markdown",
   "id": "83789d3f",
   "metadata": {
    "slideshow": {
     "slide_type": "notes"
    }
   },
   "source": [
    "The `cross_val_score` function can run its  training and scoring tasks concurrently. This is enabled by the `n_jobs` parameter  which indicated the number of concurrent processes we want to use. Be default this is `None` which is equvalent to one (no concurrency). Setting   it to -1 results in  automatic determination of number of processes to run and on computers with hyperthreading this will \n",
    "be twice the number of cores. For such small jobs as above this does not matter. But for larger jobs you should try different values of this parameter. Not always more processes is the better!"
   ]
  },
  {
   "cell_type": "markdown",
   "id": "58cdbce8",
   "metadata": {
    "slideshow": {
     "slide_type": "notes"
    }
   },
   "source": [
    "By deafult `cross_val_score` uses `score` function of the estimator which in this case was the accuracy score. We may change this by providing  `scoring` parameter"
   ]
  },
  {
   "cell_type": "code",
   "execution_count": 52,
   "id": "776b6a5d",
   "metadata": {
    "execution": {
     "iopub.execute_input": "2021-05-05T13:42:32.639530Z",
     "iopub.status.busy": "2021-05-05T13:42:32.638835Z",
     "iopub.status.idle": "2021-05-05T13:42:40.614757Z",
     "shell.execute_reply": "2021-05-05T13:42:40.615288Z"
    },
    "slideshow": {
     "slide_type": "slide"
    }
   },
   "outputs": [
    {
     "name": "stdout",
     "output_type": "stream",
     "text": [
      "alpha =  0.0 0.3778 [0.38199208 0.37528732 0.37386233 0.37788722 0.38006499]\n"
     ]
    },
    {
     "name": "stdout",
     "output_type": "stream",
     "text": [
      "alpha =  1.0 0.4269 [0.43113326 0.4246196  0.42185249 0.42778567 0.4291477 ]\n"
     ]
    },
    {
     "name": "stdout",
     "output_type": "stream",
     "text": [
      "alpha =  2.0 0.4315 [0.43550954 0.42982213 0.42775563 0.43239242 0.43208676]\n"
     ]
    },
    {
     "name": "stdout",
     "output_type": "stream",
     "text": [
      "alpha =  3.0 0.4341 [0.43791825 0.43258124 0.43106893 0.43442646 0.4343987 ]\n"
     ]
    },
    {
     "name": "stdout",
     "output_type": "stream",
     "text": [
      "alpha =  4.0 0.4353 [0.43947284 0.4341402  0.43258275 0.43502213 0.43520397]\n"
     ]
    },
    {
     "name": "stdout",
     "output_type": "stream",
     "text": [
      "alpha =  5.0 0.4358 [0.44033065 0.43489794 0.4342977  0.43481308 0.43479187]\n"
     ]
    },
    {
     "name": "stdout",
     "output_type": "stream",
     "text": [
      "alpha = 10.0 0.4340 [0.43762666 0.43347557 0.43467454 0.43249273 0.43171432]\n"
     ]
    },
    {
     "name": "stdout",
     "output_type": "stream",
     "text": [
      "alpha = 20.0 0.4296 [0.43326562 0.4289125  0.43024814 0.42974962 0.42597149]\n"
     ]
    },
    {
     "name": "stdout",
     "output_type": "stream",
     "text": [
      "alpha = 30.0 0.4265 [0.42980617 0.42532777 0.42791613 0.4269143  0.42238618]\n"
     ]
    },
    {
     "name": "stdout",
     "output_type": "stream",
     "text": [
      "alpha = 50.0 0.4219 [0.42362596 0.42133877 0.42350171 0.42282405 0.41817308]\n"
     ]
    }
   ],
   "source": [
    "for a in [0,1,2,3,4,5,10,20,30,50]:\n",
    "    scores = cross_val_score(MultinomialNB(alpha=a), review_features, train_data.rating,cv = 5, n_jobs=-1, scoring='f1_macro' )\n",
    "    print(\"alpha = {:4.1f} {:6.4f}\".format(a, scores.mean()), scores)"
   ]
  },
  {
   "cell_type": "markdown",
   "id": "2a9de912",
   "metadata": {
    "slideshow": {
     "slide_type": "notes"
    }
   },
   "source": [
    "Function `cross_validate` does the same but allows for multiple metrics  and reports more information _e.g._ time used for fit and scoring. "
   ]
  },
  {
   "cell_type": "code",
   "execution_count": 53,
   "id": "de2417f4",
   "metadata": {
    "execution": {
     "iopub.execute_input": "2021-05-05T13:42:40.619974Z",
     "iopub.status.busy": "2021-05-05T13:42:40.619308Z",
     "iopub.status.idle": "2021-05-05T13:42:41.541527Z",
     "shell.execute_reply": "2021-05-05T13:42:41.541988Z"
    },
    "slideshow": {
     "slide_type": "slide"
    }
   },
   "outputs": [],
   "source": [
    "cross_val_results = cross_validate(MultinomialNB(alpha=20), review_features, train_data.rating,cv = 5, n_jobs=-1, scoring=['accuracy', 'f1_macro', 'precision_macro'] )"
   ]
  },
  {
   "cell_type": "markdown",
   "id": "4dd2cd70",
   "metadata": {
    "slideshow": {
     "slide_type": "notes"
    }
   },
   "source": [
    "`cross_validata` returns its results in  format suitable for directly using it in pandas  dataframe which resulst in nicer output"
   ]
  },
  {
   "cell_type": "code",
   "execution_count": 54,
   "id": "584bb1c2",
   "metadata": {
    "execution": {
     "iopub.execute_input": "2021-05-05T13:42:41.553236Z",
     "iopub.status.busy": "2021-05-05T13:42:41.552528Z",
     "iopub.status.idle": "2021-05-05T13:42:41.555145Z",
     "shell.execute_reply": "2021-05-05T13:42:41.555713Z"
    },
    "slideshow": {
     "slide_type": "fragment"
    }
   },
   "outputs": [
    {
     "data": {
      "text/html": [
       "<div>\n",
       "<style scoped>\n",
       "    .dataframe tbody tr th:only-of-type {\n",
       "        vertical-align: middle;\n",
       "    }\n",
       "\n",
       "    .dataframe tbody tr th {\n",
       "        vertical-align: top;\n",
       "    }\n",
       "\n",
       "    .dataframe thead th {\n",
       "        text-align: right;\n",
       "    }\n",
       "</style>\n",
       "<table border=\"1\" class=\"dataframe\">\n",
       "  <thead>\n",
       "    <tr style=\"text-align: right;\">\n",
       "      <th></th>\n",
       "      <th>fit_time</th>\n",
       "      <th>score_time</th>\n",
       "      <th>test_accuracy</th>\n",
       "      <th>test_f1_macro</th>\n",
       "      <th>test_precision_macro</th>\n",
       "    </tr>\n",
       "  </thead>\n",
       "  <tbody>\n",
       "    <tr>\n",
       "      <th>0</th>\n",
       "      <td>0.198630</td>\n",
       "      <td>0.069675</td>\n",
       "      <td>0.42992</td>\n",
       "      <td>0.433266</td>\n",
       "      <td>0.457641</td>\n",
       "    </tr>\n",
       "    <tr>\n",
       "      <th>1</th>\n",
       "      <td>0.211211</td>\n",
       "      <td>0.092757</td>\n",
       "      <td>0.42560</td>\n",
       "      <td>0.428912</td>\n",
       "      <td>0.453154</td>\n",
       "    </tr>\n",
       "    <tr>\n",
       "      <th>2</th>\n",
       "      <td>0.235862</td>\n",
       "      <td>0.071976</td>\n",
       "      <td>0.42670</td>\n",
       "      <td>0.430248</td>\n",
       "      <td>0.453788</td>\n",
       "    </tr>\n",
       "    <tr>\n",
       "      <th>3</th>\n",
       "      <td>0.243671</td>\n",
       "      <td>0.061146</td>\n",
       "      <td>0.42628</td>\n",
       "      <td>0.429750</td>\n",
       "      <td>0.454511</td>\n",
       "    </tr>\n",
       "    <tr>\n",
       "      <th>4</th>\n",
       "      <td>0.236119</td>\n",
       "      <td>0.067014</td>\n",
       "      <td>0.42280</td>\n",
       "      <td>0.425971</td>\n",
       "      <td>0.452960</td>\n",
       "    </tr>\n",
       "  </tbody>\n",
       "</table>\n",
       "</div>"
      ],
      "text/plain": [
       "   fit_time  score_time  test_accuracy  test_f1_macro  test_precision_macro\n",
       "0  0.198630    0.069675        0.42992       0.433266              0.457641\n",
       "1  0.211211    0.092757        0.42560       0.428912              0.453154\n",
       "2  0.235862    0.071976        0.42670       0.430248              0.453788\n",
       "3  0.243671    0.061146        0.42628       0.429750              0.454511\n",
       "4  0.236119    0.067014        0.42280       0.425971              0.452960"
      ]
     },
     "execution_count": 54,
     "metadata": {},
     "output_type": "execute_result"
    }
   ],
   "source": [
    "pd.DataFrame(cross_val_results)"
   ]
  },
  {
   "cell_type": "markdown",
   "id": "7d4f4c41",
   "metadata": {
    "slideshow": {
     "slide_type": "slide"
    }
   },
   "source": [
    "### Grid search"
   ]
  },
  {
   "cell_type": "markdown",
   "id": "a877202e",
   "metadata": {
    "slideshow": {
     "slide_type": "notes"
    }
   },
   "source": [
    "In case of bigger number of different parameters writing our explicit search loops like above can be tedious. We can use the `GridSearchCV` class to combine search with cross validation."
   ]
  },
  {
   "cell_type": "code",
   "execution_count": 55,
   "id": "09853290",
   "metadata": {
    "execution": {
     "iopub.execute_input": "2021-05-05T13:42:41.559249Z",
     "iopub.status.busy": "2021-05-05T13:42:41.558546Z",
     "iopub.status.idle": "2021-05-05T13:42:41.561100Z",
     "shell.execute_reply": "2021-05-05T13:42:41.560523Z"
    },
    "slideshow": {
     "slide_type": "fragment"
    }
   },
   "outputs": [],
   "source": [
    "from sklearn.model_selection import GridSearchCV"
   ]
  },
  {
   "cell_type": "code",
   "execution_count": 56,
   "id": "76df56b2",
   "metadata": {
    "execution": {
     "iopub.execute_input": "2021-05-05T13:42:41.564677Z",
     "iopub.status.busy": "2021-05-05T13:42:41.563954Z",
     "iopub.status.idle": "2021-05-05T13:42:41.566114Z",
     "shell.execute_reply": "2021-05-05T13:42:41.566601Z"
    },
    "slideshow": {
     "slide_type": "fragment"
    }
   },
   "outputs": [],
   "source": [
    "param_grid = {'alpha': [0,1,2,3,4,5,10,20,30,40,50,60]}"
   ]
  },
  {
   "cell_type": "code",
   "execution_count": 57,
   "id": "da0911b3",
   "metadata": {
    "execution": {
     "iopub.execute_input": "2021-05-05T13:42:41.570848Z",
     "iopub.status.busy": "2021-05-05T13:42:41.570227Z",
     "iopub.status.idle": "2021-05-05T13:42:41.572184Z",
     "shell.execute_reply": "2021-05-05T13:42:41.572695Z"
    },
    "slideshow": {
     "slide_type": "fragment"
    }
   },
   "outputs": [],
   "source": [
    "grid_search = GridSearchCV(MultinomialNB(), param_grid=param_grid, n_jobs=6, cv=5, scoring='f1_macro')"
   ]
  },
  {
   "cell_type": "code",
   "execution_count": 58,
   "id": "1bf7ab5e",
   "metadata": {
    "execution": {
     "iopub.execute_input": "2021-05-05T13:42:41.576760Z",
     "iopub.status.busy": "2021-05-05T13:42:41.576168Z",
     "iopub.status.idle": "2021-05-05T13:42:49.036535Z",
     "shell.execute_reply": "2021-05-05T13:42:49.036935Z"
    },
    "slideshow": {
     "slide_type": "fragment"
    }
   },
   "outputs": [
    {
     "name": "stdout",
     "output_type": "stream",
     "text": [
      "CPU times: user 404 ms, sys: 250 ms, total: 654 ms\n",
      "Wall time: 7.46 s\n"
     ]
    },
    {
     "data": {
      "text/plain": [
       "GridSearchCV(cv=5, estimator=MultinomialNB(), n_jobs=6,\n",
       "             param_grid={'alpha': [0, 1, 2, 3, 4, 5, 10, 20, 30, 40, 50, 60]},\n",
       "             scoring='f1_macro')"
      ]
     },
     "execution_count": 58,
     "metadata": {},
     "output_type": "execute_result"
    }
   ],
   "source": [
    "%%time\n",
    "grid_search.fit(review_features, train_data.rating)"
   ]
  },
  {
   "cell_type": "markdown",
   "id": "4a018f75",
   "metadata": {
    "slideshow": {
     "slide_type": "notes"
    }
   },
   "source": [
    "The search results are reported in `cv_results_` attribute which can be  used directly  to construct a dataframe"
   ]
  },
  {
   "cell_type": "code",
   "execution_count": 59,
   "id": "c01147c3",
   "metadata": {
    "execution": {
     "iopub.execute_input": "2021-05-05T13:42:49.056807Z",
     "iopub.status.busy": "2021-05-05T13:42:49.056164Z",
     "iopub.status.idle": "2021-05-05T13:42:49.058610Z",
     "shell.execute_reply": "2021-05-05T13:42:49.058984Z"
    },
    "slideshow": {
     "slide_type": "slide"
    }
   },
   "outputs": [
    {
     "data": {
      "text/html": [
       "<div>\n",
       "<style scoped>\n",
       "    .dataframe tbody tr th:only-of-type {\n",
       "        vertical-align: middle;\n",
       "    }\n",
       "\n",
       "    .dataframe tbody tr th {\n",
       "        vertical-align: top;\n",
       "    }\n",
       "\n",
       "    .dataframe thead th {\n",
       "        text-align: right;\n",
       "    }\n",
       "</style>\n",
       "<table border=\"1\" class=\"dataframe\">\n",
       "  <thead>\n",
       "    <tr style=\"text-align: right;\">\n",
       "      <th></th>\n",
       "      <th>mean_fit_time</th>\n",
       "      <th>std_fit_time</th>\n",
       "      <th>mean_score_time</th>\n",
       "      <th>std_score_time</th>\n",
       "      <th>param_alpha</th>\n",
       "      <th>params</th>\n",
       "      <th>split0_test_score</th>\n",
       "      <th>split1_test_score</th>\n",
       "      <th>split2_test_score</th>\n",
       "      <th>split3_test_score</th>\n",
       "      <th>split4_test_score</th>\n",
       "      <th>mean_test_score</th>\n",
       "      <th>std_test_score</th>\n",
       "      <th>rank_test_score</th>\n",
       "    </tr>\n",
       "  </thead>\n",
       "  <tbody>\n",
       "    <tr>\n",
       "      <th>5</th>\n",
       "      <td>0.192622</td>\n",
       "      <td>0.025931</td>\n",
       "      <td>0.045009</td>\n",
       "      <td>0.006259</td>\n",
       "      <td>5</td>\n",
       "      <td>{'alpha': 5}</td>\n",
       "      <td>0.440331</td>\n",
       "      <td>0.434898</td>\n",
       "      <td>0.434298</td>\n",
       "      <td>0.434813</td>\n",
       "      <td>0.434792</td>\n",
       "      <td>0.435826</td>\n",
       "      <td>0.002262</td>\n",
       "      <td>1</td>\n",
       "    </tr>\n",
       "    <tr>\n",
       "      <th>4</th>\n",
       "      <td>0.199817</td>\n",
       "      <td>0.032881</td>\n",
       "      <td>0.039438</td>\n",
       "      <td>0.003407</td>\n",
       "      <td>4</td>\n",
       "      <td>{'alpha': 4}</td>\n",
       "      <td>0.439473</td>\n",
       "      <td>0.434140</td>\n",
       "      <td>0.432583</td>\n",
       "      <td>0.435022</td>\n",
       "      <td>0.435204</td>\n",
       "      <td>0.435284</td>\n",
       "      <td>0.002290</td>\n",
       "      <td>2</td>\n",
       "    </tr>\n",
       "    <tr>\n",
       "      <th>3</th>\n",
       "      <td>0.239651</td>\n",
       "      <td>0.003753</td>\n",
       "      <td>0.054683</td>\n",
       "      <td>0.004636</td>\n",
       "      <td>3</td>\n",
       "      <td>{'alpha': 3}</td>\n",
       "      <td>0.437918</td>\n",
       "      <td>0.432581</td>\n",
       "      <td>0.431069</td>\n",
       "      <td>0.434426</td>\n",
       "      <td>0.434399</td>\n",
       "      <td>0.434079</td>\n",
       "      <td>0.002292</td>\n",
       "      <td>3</td>\n",
       "    </tr>\n",
       "    <tr>\n",
       "      <th>6</th>\n",
       "      <td>0.247175</td>\n",
       "      <td>0.012876</td>\n",
       "      <td>0.046905</td>\n",
       "      <td>0.007500</td>\n",
       "      <td>10</td>\n",
       "      <td>{'alpha': 10}</td>\n",
       "      <td>0.437627</td>\n",
       "      <td>0.433476</td>\n",
       "      <td>0.434675</td>\n",
       "      <td>0.432493</td>\n",
       "      <td>0.431714</td>\n",
       "      <td>0.433997</td>\n",
       "      <td>0.002068</td>\n",
       "      <td>4</td>\n",
       "    </tr>\n",
       "    <tr>\n",
       "      <th>2</th>\n",
       "      <td>0.224818</td>\n",
       "      <td>0.011710</td>\n",
       "      <td>0.049853</td>\n",
       "      <td>0.005602</td>\n",
       "      <td>2</td>\n",
       "      <td>{'alpha': 2}</td>\n",
       "      <td>0.435510</td>\n",
       "      <td>0.429822</td>\n",
       "      <td>0.427756</td>\n",
       "      <td>0.432392</td>\n",
       "      <td>0.432087</td>\n",
       "      <td>0.431513</td>\n",
       "      <td>0.002610</td>\n",
       "      <td>5</td>\n",
       "    </tr>\n",
       "    <tr>\n",
       "      <th>7</th>\n",
       "      <td>0.208703</td>\n",
       "      <td>0.026036</td>\n",
       "      <td>0.049957</td>\n",
       "      <td>0.005545</td>\n",
       "      <td>20</td>\n",
       "      <td>{'alpha': 20}</td>\n",
       "      <td>0.433266</td>\n",
       "      <td>0.428912</td>\n",
       "      <td>0.430248</td>\n",
       "      <td>0.429750</td>\n",
       "      <td>0.425971</td>\n",
       "      <td>0.429629</td>\n",
       "      <td>0.002346</td>\n",
       "      <td>6</td>\n",
       "    </tr>\n",
       "    <tr>\n",
       "      <th>1</th>\n",
       "      <td>0.256699</td>\n",
       "      <td>0.034318</td>\n",
       "      <td>0.053458</td>\n",
       "      <td>0.003222</td>\n",
       "      <td>1</td>\n",
       "      <td>{'alpha': 1}</td>\n",
       "      <td>0.431133</td>\n",
       "      <td>0.424620</td>\n",
       "      <td>0.421852</td>\n",
       "      <td>0.427786</td>\n",
       "      <td>0.429148</td>\n",
       "      <td>0.426908</td>\n",
       "      <td>0.003300</td>\n",
       "      <td>7</td>\n",
       "    </tr>\n",
       "    <tr>\n",
       "      <th>8</th>\n",
       "      <td>0.226950</td>\n",
       "      <td>0.015044</td>\n",
       "      <td>0.048950</td>\n",
       "      <td>0.006238</td>\n",
       "      <td>30</td>\n",
       "      <td>{'alpha': 30}</td>\n",
       "      <td>0.429806</td>\n",
       "      <td>0.425328</td>\n",
       "      <td>0.427916</td>\n",
       "      <td>0.426914</td>\n",
       "      <td>0.422386</td>\n",
       "      <td>0.426470</td>\n",
       "      <td>0.002506</td>\n",
       "      <td>8</td>\n",
       "    </tr>\n",
       "    <tr>\n",
       "      <th>9</th>\n",
       "      <td>0.242415</td>\n",
       "      <td>0.007278</td>\n",
       "      <td>0.052390</td>\n",
       "      <td>0.005775</td>\n",
       "      <td>40</td>\n",
       "      <td>{'alpha': 40}</td>\n",
       "      <td>0.426554</td>\n",
       "      <td>0.422547</td>\n",
       "      <td>0.425360</td>\n",
       "      <td>0.424397</td>\n",
       "      <td>0.420039</td>\n",
       "      <td>0.423779</td>\n",
       "      <td>0.002284</td>\n",
       "      <td>9</td>\n",
       "    </tr>\n",
       "    <tr>\n",
       "      <th>10</th>\n",
       "      <td>0.205913</td>\n",
       "      <td>0.019067</td>\n",
       "      <td>0.046865</td>\n",
       "      <td>0.004854</td>\n",
       "      <td>50</td>\n",
       "      <td>{'alpha': 50}</td>\n",
       "      <td>0.423626</td>\n",
       "      <td>0.421339</td>\n",
       "      <td>0.423502</td>\n",
       "      <td>0.422824</td>\n",
       "      <td>0.418173</td>\n",
       "      <td>0.421893</td>\n",
       "      <td>0.002030</td>\n",
       "      <td>10</td>\n",
       "    </tr>\n",
       "    <tr>\n",
       "      <th>11</th>\n",
       "      <td>0.226746</td>\n",
       "      <td>0.014689</td>\n",
       "      <td>0.045144</td>\n",
       "      <td>0.004633</td>\n",
       "      <td>60</td>\n",
       "      <td>{'alpha': 60}</td>\n",
       "      <td>0.421649</td>\n",
       "      <td>0.419657</td>\n",
       "      <td>0.423444</td>\n",
       "      <td>0.421300</td>\n",
       "      <td>0.417112</td>\n",
       "      <td>0.420632</td>\n",
       "      <td>0.002132</td>\n",
       "      <td>11</td>\n",
       "    </tr>\n",
       "    <tr>\n",
       "      <th>0</th>\n",
       "      <td>0.318196</td>\n",
       "      <td>0.005800</td>\n",
       "      <td>0.057723</td>\n",
       "      <td>0.002610</td>\n",
       "      <td>0</td>\n",
       "      <td>{'alpha': 0}</td>\n",
       "      <td>0.381992</td>\n",
       "      <td>0.375287</td>\n",
       "      <td>0.373862</td>\n",
       "      <td>0.377887</td>\n",
       "      <td>0.380065</td>\n",
       "      <td>0.377819</td>\n",
       "      <td>0.002984</td>\n",
       "      <td>12</td>\n",
       "    </tr>\n",
       "  </tbody>\n",
       "</table>\n",
       "</div>"
      ],
      "text/plain": [
       "    mean_fit_time  std_fit_time  mean_score_time  std_score_time param_alpha  \\\n",
       "5        0.192622      0.025931         0.045009        0.006259           5   \n",
       "4        0.199817      0.032881         0.039438        0.003407           4   \n",
       "3        0.239651      0.003753         0.054683        0.004636           3   \n",
       "6        0.247175      0.012876         0.046905        0.007500          10   \n",
       "2        0.224818      0.011710         0.049853        0.005602           2   \n",
       "7        0.208703      0.026036         0.049957        0.005545          20   \n",
       "1        0.256699      0.034318         0.053458        0.003222           1   \n",
       "8        0.226950      0.015044         0.048950        0.006238          30   \n",
       "9        0.242415      0.007278         0.052390        0.005775          40   \n",
       "10       0.205913      0.019067         0.046865        0.004854          50   \n",
       "11       0.226746      0.014689         0.045144        0.004633          60   \n",
       "0        0.318196      0.005800         0.057723        0.002610           0   \n",
       "\n",
       "           params  split0_test_score  split1_test_score  split2_test_score  \\\n",
       "5    {'alpha': 5}           0.440331           0.434898           0.434298   \n",
       "4    {'alpha': 4}           0.439473           0.434140           0.432583   \n",
       "3    {'alpha': 3}           0.437918           0.432581           0.431069   \n",
       "6   {'alpha': 10}           0.437627           0.433476           0.434675   \n",
       "2    {'alpha': 2}           0.435510           0.429822           0.427756   \n",
       "7   {'alpha': 20}           0.433266           0.428912           0.430248   \n",
       "1    {'alpha': 1}           0.431133           0.424620           0.421852   \n",
       "8   {'alpha': 30}           0.429806           0.425328           0.427916   \n",
       "9   {'alpha': 40}           0.426554           0.422547           0.425360   \n",
       "10  {'alpha': 50}           0.423626           0.421339           0.423502   \n",
       "11  {'alpha': 60}           0.421649           0.419657           0.423444   \n",
       "0    {'alpha': 0}           0.381992           0.375287           0.373862   \n",
       "\n",
       "    split3_test_score  split4_test_score  mean_test_score  std_test_score  \\\n",
       "5            0.434813           0.434792         0.435826        0.002262   \n",
       "4            0.435022           0.435204         0.435284        0.002290   \n",
       "3            0.434426           0.434399         0.434079        0.002292   \n",
       "6            0.432493           0.431714         0.433997        0.002068   \n",
       "2            0.432392           0.432087         0.431513        0.002610   \n",
       "7            0.429750           0.425971         0.429629        0.002346   \n",
       "1            0.427786           0.429148         0.426908        0.003300   \n",
       "8            0.426914           0.422386         0.426470        0.002506   \n",
       "9            0.424397           0.420039         0.423779        0.002284   \n",
       "10           0.422824           0.418173         0.421893        0.002030   \n",
       "11           0.421300           0.417112         0.420632        0.002132   \n",
       "0            0.377887           0.380065         0.377819        0.002984   \n",
       "\n",
       "    rank_test_score  \n",
       "5                 1  \n",
       "4                 2  \n",
       "3                 3  \n",
       "6                 4  \n",
       "2                 5  \n",
       "7                 6  \n",
       "1                 7  \n",
       "8                 8  \n",
       "9                 9  \n",
       "10               10  \n",
       "11               11  \n",
       "0                12  "
      ]
     },
     "execution_count": 59,
     "metadata": {},
     "output_type": "execute_result"
    }
   ],
   "source": [
    "pd.DataFrame(grid_search.cv_results_).sort_values(by='rank_test_score')"
   ]
  },
  {
   "cell_type": "markdown",
   "id": "7b915ee0",
   "metadata": {
    "slideshow": {
     "slide_type": "notes"
    }
   },
   "source": [
    "The `fit` method by deafult selects the best set of paramters according to scoring metric and refits the estimator to all data using those parameters. The resulting object is stored in `best_estimator_` attribute"
   ]
  },
  {
   "cell_type": "code",
   "execution_count": 60,
   "id": "5f475df1",
   "metadata": {
    "execution": {
     "iopub.execute_input": "2021-05-05T13:42:49.061927Z",
     "iopub.status.busy": "2021-05-05T13:42:49.061419Z",
     "iopub.status.idle": "2021-05-05T13:42:49.084852Z",
     "shell.execute_reply": "2021-05-05T13:42:49.085272Z"
    },
    "slideshow": {
     "slide_type": "slide"
    }
   },
   "outputs": [],
   "source": [
    "best_clf = grid_search.best_estimator_\n",
    "best_predicted = best_clf.predict(test_features)"
   ]
  },
  {
   "cell_type": "code",
   "execution_count": 61,
   "id": "781df980",
   "metadata": {
    "execution": {
     "iopub.execute_input": "2021-05-05T13:42:49.088962Z",
     "iopub.status.busy": "2021-05-05T13:42:49.088370Z",
     "iopub.status.idle": "2021-05-05T13:42:49.107496Z",
     "shell.execute_reply": "2021-05-05T13:42:49.107890Z"
    },
    "slideshow": {
     "slide_type": "fragment"
    }
   },
   "outputs": [
    {
     "data": {
      "text/plain": [
       "0.4380273545266851"
      ]
     },
     "execution_count": 61,
     "metadata": {},
     "output_type": "execute_result"
    }
   ],
   "source": [
    "f1_score(test_data.rating, best_predicted, average='macro' )"
   ]
  },
  {
   "cell_type": "markdown",
   "id": "b8eb1fac",
   "metadata": {
    "slideshow": {
     "slide_type": "skip"
    }
   },
   "source": [
    "Comparing to the \"base\" accuracy"
   ]
  },
  {
   "cell_type": "code",
   "execution_count": 62,
   "id": "50a6e5ee",
   "metadata": {
    "execution": {
     "iopub.execute_input": "2021-05-05T13:42:49.111603Z",
     "iopub.status.busy": "2021-05-05T13:42:49.111058Z",
     "iopub.status.idle": "2021-05-05T13:42:49.117494Z",
     "shell.execute_reply": "2021-05-05T13:42:49.118041Z"
    },
    "slideshow": {
     "slide_type": "fragment"
    }
   },
   "outputs": [
    {
     "name": "stdout",
     "output_type": "stream",
     "text": [
      "base 0.435 best 0.438 diff 0.004 rel diff   1%\n"
     ]
    }
   ],
   "source": [
    "acc_best = accuracy_score(test_data.rating, best_predicted)\n",
    "acc_base = accuracy_score(test_data.rating, base_predicted)\n",
    "print(\"base {:.3f} best {:.3f} diff {:.3f} rel diff {:3.0f}%\".format(acc_base, acc_best, acc_best-acc_base,100*(acc_best-acc_base)/acc_base))"
   ]
  },
  {
   "cell_type": "code",
   "execution_count": 63,
   "id": "c4a2f7ab",
   "metadata": {
    "execution": {
     "iopub.execute_input": "2021-05-05T13:42:49.125394Z",
     "iopub.status.busy": "2021-05-05T13:42:49.124816Z",
     "iopub.status.idle": "2021-05-05T13:42:49.126385Z",
     "shell.execute_reply": "2021-05-05T13:42:49.126724Z"
    },
    "slideshow": {
     "slide_type": "skip"
    }
   },
   "outputs": [],
   "source": [
    "def evaluate_metrics(data, label, estimator, metrics):\n",
    "        result={}\n",
    "        predicted = estimator.predict(data)\n",
    "        for name, func in metrics.items():\n",
    "            result[name]= func(label, predicted)\n",
    "        return result    \n",
    "        \n",
    "def evaluate_estimators_on_metrics(data, labels, estimators, metrics):\n",
    "    results = {}\n",
    "    \n",
    "    for name, est in estimators.items():\n",
    "        results[name] = evaluate_metrics(data, labels, est, metrics)\n",
    "        \n",
    "    return results     \n",
    "            \n",
    "def compare_to(evaluation,base):\n",
    "    result = {}\n",
    "    base_res = evaluation[base]\n",
    "    for m_name, m in base_res.items():\n",
    "            metric_column = result.setdefault('metric',[])\n",
    "            metric_column.append(m_name)\n",
    "            base_m_column = result.setdefault(base,[])\n",
    "            base_m_column.append(m)\n",
    "            for e_name, res in evaluation.items():\n",
    "                if e_name != base:\n",
    "                    m_column = result.setdefault(e_name,[])\n",
    "                    current = evaluation[e_name]\n",
    "                    m_value = current[m_name]\n",
    "                    m_column.append(m_value)\n",
    "                    column = result.setdefault(e_name+'_diff',[])\n",
    "                    column.append(m_value-m)\n",
    "                    column = result.setdefault(e_name+'_rel',[])\n",
    "                    column.append((m_value-m)/m)\n",
    "                    \n",
    "                    \n",
    "    return  result     \n",
    "                \n",
    "    "
   ]
  },
  {
   "cell_type": "code",
   "execution_count": 64,
   "id": "6ea2a8ab",
   "metadata": {
    "execution": {
     "iopub.execute_input": "2021-05-05T13:42:49.129915Z",
     "iopub.status.busy": "2021-05-05T13:42:49.129336Z",
     "iopub.status.idle": "2021-05-05T13:42:49.131000Z",
     "shell.execute_reply": "2021-05-05T13:42:49.131387Z"
    }
   },
   "outputs": [],
   "source": [
    "f1_macro = lambda x,y: f1_score(x,y, average = 'macro')"
   ]
  },
  {
   "cell_type": "markdown",
   "id": "45651ed3",
   "metadata": {
    "slideshow": {
     "slide_type": "notes"
    }
   },
   "source": [
    "We see a very slight increase in accuracy.  This does not seem as a lot and for this particular example it isn't. But for some applications if accuracy translates  e.g. directly to our profit this gives us a 1% increase \"for free\". "
   ]
  },
  {
   "cell_type": "code",
   "execution_count": 65,
   "id": "16a22157",
   "metadata": {
    "execution": {
     "iopub.execute_input": "2021-05-05T13:42:49.134844Z",
     "iopub.status.busy": "2021-05-05T13:42:49.134318Z",
     "iopub.status.idle": "2021-05-05T13:42:49.215723Z",
     "shell.execute_reply": "2021-05-05T13:42:49.216104Z"
    },
    "slideshow": {
     "slide_type": "fragment"
    }
   },
   "outputs": [
    {
     "data": {
      "text/html": [
       "<div>\n",
       "<style scoped>\n",
       "    .dataframe tbody tr th:only-of-type {\n",
       "        vertical-align: middle;\n",
       "    }\n",
       "\n",
       "    .dataframe tbody tr th {\n",
       "        vertical-align: top;\n",
       "    }\n",
       "\n",
       "    .dataframe thead th {\n",
       "        text-align: right;\n",
       "    }\n",
       "</style>\n",
       "<table border=\"1\" class=\"dataframe\">\n",
       "  <thead>\n",
       "    <tr style=\"text-align: right;\">\n",
       "      <th></th>\n",
       "      <th>metric</th>\n",
       "      <th>base</th>\n",
       "      <th>best</th>\n",
       "      <th>best_diff</th>\n",
       "      <th>best_rel</th>\n",
       "    </tr>\n",
       "  </thead>\n",
       "  <tbody>\n",
       "    <tr>\n",
       "      <th>0</th>\n",
       "      <td>accuracy</td>\n",
       "      <td>0.434560</td>\n",
       "      <td>0.438280</td>\n",
       "      <td>0.003720</td>\n",
       "      <td>0.008560</td>\n",
       "    </tr>\n",
       "    <tr>\n",
       "      <th>1</th>\n",
       "      <td>f1_macro</td>\n",
       "      <td>0.429121</td>\n",
       "      <td>0.438027</td>\n",
       "      <td>0.008906</td>\n",
       "      <td>0.020754</td>\n",
       "    </tr>\n",
       "  </tbody>\n",
       "</table>\n",
       "</div>"
      ],
      "text/plain": [
       "     metric      base      best  best_diff  best_rel\n",
       "0  accuracy  0.434560  0.438280   0.003720  0.008560\n",
       "1  f1_macro  0.429121  0.438027   0.008906  0.020754"
      ]
     },
     "execution_count": 65,
     "metadata": {},
     "output_type": "execute_result"
    }
   ],
   "source": [
    "pd.DataFrame(\n",
    "    compare_to(\n",
    "        evaluate_estimators_on_metrics(test_features, test_data.rating, {'base': base_rating_classifier, 'best' :best_clf}, {'accuracy': accuracy_score, 'f1_macro': f1_macro}),\n",
    "        'base')\n",
    ")"
   ]
  },
  {
   "cell_type": "markdown",
   "id": "b22f1298",
   "metadata": {
    "slideshow": {
     "slide_type": "slide"
    }
   },
   "source": [
    "### Pipelines"
   ]
  },
  {
   "cell_type": "markdown",
   "id": "bdc3a181",
   "metadata": {
    "slideshow": {
     "slide_type": "-"
    }
   },
   "source": [
    "This is based on  scikit-learn : [Working with text data](https://scikit-learn.org/stable/tutorial/text_analytics/working_with_text_data.html) example."
   ]
  },
  {
   "cell_type": "markdown",
   "id": "0bd9cf21",
   "metadata": {
    "slideshow": {
     "slide_type": "notes"
    }
   },
   "source": [
    "Now we would like to optimize also the parameters of the `CountVectoriser`, but `GridSearchCV`accepts a single estimator object as input. We could write a  class that combines together `CountVectoriser` and `MultinomialNB` but we don't have to :) Scikit-learn provides an easy way to do it using it's `Pipeline` class. "
   ]
  },
  {
   "cell_type": "code",
   "execution_count": 66,
   "id": "a253a92f",
   "metadata": {
    "execution": {
     "iopub.execute_input": "2021-05-05T13:42:49.219319Z",
     "iopub.status.busy": "2021-05-05T13:42:49.218729Z",
     "iopub.status.idle": "2021-05-05T13:42:49.222136Z",
     "shell.execute_reply": "2021-05-05T13:42:49.222521Z"
    },
    "slideshow": {
     "slide_type": "fragment"
    }
   },
   "outputs": [],
   "source": [
    "from sklearn.pipeline import Pipeline"
   ]
  },
  {
   "cell_type": "code",
   "execution_count": 67,
   "id": "bc4eb785",
   "metadata": {
    "execution": {
     "iopub.execute_input": "2021-05-05T13:42:49.225845Z",
     "iopub.status.busy": "2021-05-05T13:42:49.225318Z",
     "iopub.status.idle": "2021-05-05T13:42:49.226998Z",
     "shell.execute_reply": "2021-05-05T13:42:49.227384Z"
    },
    "slideshow": {
     "slide_type": "fragment"
    }
   },
   "outputs": [],
   "source": [
    "rating_clf_pipe =  Pipeline([('vect', CountVectorizer(stop_words='english', max_df=0.25, min_df=10, max_features=None)),\n",
    "                       ('clf', MultinomialNB())])"
   ]
  },
  {
   "cell_type": "markdown",
   "id": "c156f9a4",
   "metadata": {
    "slideshow": {
     "slide_type": "notes"
    }
   },
   "source": [
    "This creates a  `Pipeline` object that has all the methods of the estimator object. The pipeline can consist of several transformer objects and an estimator object at the end (see [documentation](https://scikit-learn.org/stable/developers/develop.html) for description of estimators and other interfaces). The resulting object accepts data in format suitable for the first transformer, passes it through all transformers and to the estimator at the end. \n",
    "\n",
    "So we can fit  the review data with one method call"
   ]
  },
  {
   "cell_type": "code",
   "execution_count": 68,
   "id": "36245487",
   "metadata": {
    "execution": {
     "iopub.execute_input": "2021-05-05T13:42:49.312404Z",
     "iopub.status.busy": "2021-05-05T13:42:49.269421Z",
     "iopub.status.idle": "2021-05-05T13:42:59.879028Z",
     "shell.execute_reply": "2021-05-05T13:42:59.879510Z"
    },
    "slideshow": {
     "slide_type": "fragment"
    }
   },
   "outputs": [
    {
     "data": {
      "text/plain": [
       "Pipeline(steps=[('vect',\n",
       "                 CountVectorizer(max_df=0.25, min_df=10, stop_words='english')),\n",
       "                ('clf', MultinomialNB())])"
      ]
     },
     "execution_count": 68,
     "metadata": {},
     "output_type": "execute_result"
    }
   ],
   "source": [
    "rating_clf_pipe.fit(train_data.review, train_data.rating)"
   ]
  },
  {
   "cell_type": "code",
   "execution_count": 69,
   "id": "4b2d3543",
   "metadata": {
    "execution": {
     "iopub.execute_input": "2021-05-05T13:42:59.965821Z",
     "iopub.status.busy": "2021-05-05T13:42:59.924350Z",
     "iopub.status.idle": "2021-05-05T13:43:01.926174Z",
     "shell.execute_reply": "2021-05-05T13:43:01.926618Z"
    },
    "slideshow": {
     "slide_type": "fragment"
    }
   },
   "outputs": [
    {
     "data": {
      "text/plain": [
       "0.4296434331100539"
      ]
     },
     "execution_count": 69,
     "metadata": {},
     "output_type": "execute_result"
    }
   ],
   "source": [
    "f1_score(test_data.rating,rating_clf_pipe.predict(test_data.review), average='macro')"
   ]
  },
  {
   "cell_type": "markdown",
   "id": "e26a3b0c",
   "metadata": {
    "slideshow": {
     "slide_type": "notes"
    }
   },
   "source": [
    "Please note that this calls now take more time as they include costly tokenizing and word counting.  So our grid search will take much more time. The parameters to the grid search are passed as a  dictionary or a list of dictionaries. The keys in dictionaries denote the names of the parameters. They have  the name of the pipeline stage they refer to prepended to them with two underscores:"
   ]
  },
  {
   "cell_type": "code",
   "execution_count": 70,
   "id": "bc2989ac",
   "metadata": {
    "execution": {
     "iopub.execute_input": "2021-05-05T13:43:01.929944Z",
     "iopub.status.busy": "2021-05-05T13:43:01.929416Z",
     "iopub.status.idle": "2021-05-05T13:43:01.931671Z",
     "shell.execute_reply": "2021-05-05T13:43:01.931267Z"
    },
    "slideshow": {
     "slide_type": "slide"
    }
   },
   "outputs": [],
   "source": [
    "ratings_smaller_grid  = {'clf__alpha' : [1,5,20,30,40,50], 'vect__max_features':[5000, 10000, None]}"
   ]
  },
  {
   "cell_type": "code",
   "execution_count": 71,
   "id": "f17d27a8",
   "metadata": {
    "execution": {
     "iopub.execute_input": "2021-05-05T13:43:01.934614Z",
     "iopub.status.busy": "2021-05-05T13:43:01.934095Z",
     "iopub.status.idle": "2021-05-05T13:43:01.935962Z",
     "shell.execute_reply": "2021-05-05T13:43:01.936331Z"
    },
    "slideshow": {
     "slide_type": "fragment"
    }
   },
   "outputs": [],
   "source": [
    "pipeline_search = GridSearchCV(rating_clf_pipe, ratings_smaller_grid, n_jobs=6, cv=5, verbose=10)"
   ]
  },
  {
   "cell_type": "markdown",
   "id": "8da77aa1",
   "metadata": {
    "slideshow": {
     "slide_type": "skip"
    }
   },
   "source": [
    "Please be warned that the command below takes around six minutes on 6 cores i9 laptop :("
   ]
  },
  {
   "cell_type": "code",
   "execution_count": 72,
   "id": "90a0f810",
   "metadata": {
    "execution": {
     "iopub.execute_input": "2021-05-05T13:43:01.939605Z",
     "iopub.status.busy": "2021-05-05T13:43:01.939080Z",
     "iopub.status.idle": "2021-05-05T13:49:54.278284Z",
     "shell.execute_reply": "2021-05-05T13:49:54.278743Z"
    },
    "slideshow": {
     "slide_type": "slide"
    }
   },
   "outputs": [
    {
     "name": "stdout",
     "output_type": "stream",
     "text": [
      "Fitting 5 folds for each of 18 candidates, totalling 90 fits\n"
     ]
    },
    {
     "name": "stdout",
     "output_type": "stream",
     "text": [
      "CPU times: user 24 s, sys: 13.6 s, total: 37.6 s\n",
      "Wall time: 6min 52s\n"
     ]
    },
    {
     "data": {
      "text/html": [
       "<div>\n",
       "<style scoped>\n",
       "    .dataframe tbody tr th:only-of-type {\n",
       "        vertical-align: middle;\n",
       "    }\n",
       "\n",
       "    .dataframe tbody tr th {\n",
       "        vertical-align: top;\n",
       "    }\n",
       "\n",
       "    .dataframe thead th {\n",
       "        text-align: right;\n",
       "    }\n",
       "</style>\n",
       "<table border=\"1\" class=\"dataframe\">\n",
       "  <thead>\n",
       "    <tr style=\"text-align: right;\">\n",
       "      <th></th>\n",
       "      <th>mean_fit_time</th>\n",
       "      <th>std_fit_time</th>\n",
       "      <th>mean_score_time</th>\n",
       "      <th>std_score_time</th>\n",
       "      <th>param_clf__alpha</th>\n",
       "      <th>param_vect__max_features</th>\n",
       "      <th>params</th>\n",
       "      <th>split0_test_score</th>\n",
       "      <th>split1_test_score</th>\n",
       "      <th>split2_test_score</th>\n",
       "      <th>split3_test_score</th>\n",
       "      <th>split4_test_score</th>\n",
       "      <th>mean_test_score</th>\n",
       "      <th>std_test_score</th>\n",
       "      <th>rank_test_score</th>\n",
       "    </tr>\n",
       "  </thead>\n",
       "  <tbody>\n",
       "    <tr>\n",
       "      <th>0</th>\n",
       "      <td>11.662552</td>\n",
       "      <td>0.434132</td>\n",
       "      <td>2.893896</td>\n",
       "      <td>0.221506</td>\n",
       "      <td>1</td>\n",
       "      <td>5000</td>\n",
       "      <td>{'clf__alpha': 1, 'vect__max_features': 5000}</td>\n",
       "      <td>0.44424</td>\n",
       "      <td>0.43862</td>\n",
       "      <td>0.43916</td>\n",
       "      <td>0.44102</td>\n",
       "      <td>0.44108</td>\n",
       "      <td>0.440824</td>\n",
       "      <td>0.001970</td>\n",
       "      <td>15</td>\n",
       "    </tr>\n",
       "    <tr>\n",
       "      <th>1</th>\n",
       "      <td>11.375308</td>\n",
       "      <td>0.369094</td>\n",
       "      <td>2.780283</td>\n",
       "      <td>0.129585</td>\n",
       "      <td>1</td>\n",
       "      <td>10000</td>\n",
       "      <td>{'clf__alpha': 1, 'vect__max_features': 10000}</td>\n",
       "      <td>0.44410</td>\n",
       "      <td>0.43960</td>\n",
       "      <td>0.43748</td>\n",
       "      <td>0.44026</td>\n",
       "      <td>0.44226</td>\n",
       "      <td>0.440740</td>\n",
       "      <td>0.002270</td>\n",
       "      <td>16</td>\n",
       "    </tr>\n",
       "    <tr>\n",
       "      <th>2</th>\n",
       "      <td>11.159713</td>\n",
       "      <td>0.153259</td>\n",
       "      <td>2.678767</td>\n",
       "      <td>0.076289</td>\n",
       "      <td>1</td>\n",
       "      <td>None</td>\n",
       "      <td>{'clf__alpha': 1, 'vect__max_features': None}</td>\n",
       "      <td>0.43934</td>\n",
       "      <td>0.43444</td>\n",
       "      <td>0.43244</td>\n",
       "      <td>0.43640</td>\n",
       "      <td>0.43610</td>\n",
       "      <td>0.435744</td>\n",
       "      <td>0.002285</td>\n",
       "      <td>18</td>\n",
       "    </tr>\n",
       "    <tr>\n",
       "      <th>3</th>\n",
       "      <td>11.253991</td>\n",
       "      <td>0.079998</td>\n",
       "      <td>2.682096</td>\n",
       "      <td>0.020781</td>\n",
       "      <td>5</td>\n",
       "      <td>5000</td>\n",
       "      <td>{'clf__alpha': 5, 'vect__max_features': 5000}</td>\n",
       "      <td>0.44426</td>\n",
       "      <td>0.43872</td>\n",
       "      <td>0.43974</td>\n",
       "      <td>0.44108</td>\n",
       "      <td>0.44162</td>\n",
       "      <td>0.441084</td>\n",
       "      <td>0.001885</td>\n",
       "      <td>14</td>\n",
       "    </tr>\n",
       "  </tbody>\n",
       "</table>\n",
       "</div>"
      ],
      "text/plain": [
       "   mean_fit_time  std_fit_time  mean_score_time  std_score_time  \\\n",
       "0      11.662552      0.434132         2.893896        0.221506   \n",
       "1      11.375308      0.369094         2.780283        0.129585   \n",
       "2      11.159713      0.153259         2.678767        0.076289   \n",
       "3      11.253991      0.079998         2.682096        0.020781   \n",
       "\n",
       "  param_clf__alpha param_vect__max_features  \\\n",
       "0                1                     5000   \n",
       "1                1                    10000   \n",
       "2                1                     None   \n",
       "3                5                     5000   \n",
       "\n",
       "                                           params  split0_test_score  \\\n",
       "0   {'clf__alpha': 1, 'vect__max_features': 5000}            0.44424   \n",
       "1  {'clf__alpha': 1, 'vect__max_features': 10000}            0.44410   \n",
       "2   {'clf__alpha': 1, 'vect__max_features': None}            0.43934   \n",
       "3   {'clf__alpha': 5, 'vect__max_features': 5000}            0.44426   \n",
       "\n",
       "   split1_test_score  split2_test_score  split3_test_score  split4_test_score  \\\n",
       "0            0.43862            0.43916            0.44102            0.44108   \n",
       "1            0.43960            0.43748            0.44026            0.44226   \n",
       "2            0.43444            0.43244            0.43640            0.43610   \n",
       "3            0.43872            0.43974            0.44108            0.44162   \n",
       "\n",
       "   mean_test_score  std_test_score  rank_test_score  \n",
       "0         0.440824        0.001970               15  \n",
       "1         0.440740        0.002270               16  \n",
       "2         0.435744        0.002285               18  \n",
       "3         0.441084        0.001885               14  "
      ]
     },
     "execution_count": 72,
     "metadata": {},
     "output_type": "execute_result"
    }
   ],
   "source": [
    "%%time\n",
    "pipeline_search.fit(train_data.review, train_data.rating)\n",
    "pd.DataFrame(pipeline_search.cv_results_).head(4)"
   ]
  },
  {
   "cell_type": "code",
   "execution_count": 73,
   "id": "89ba4a36",
   "metadata": {
    "execution": {
     "iopub.execute_input": "2021-05-05T13:49:54.366495Z",
     "iopub.status.busy": "2021-05-05T13:49:54.323570Z",
     "iopub.status.idle": "2021-05-05T13:49:58.326661Z",
     "shell.execute_reply": "2021-05-05T13:49:58.327022Z"
    },
    "slideshow": {
     "slide_type": "fragment"
    }
   },
   "outputs": [
    {
     "data": {
      "text/html": [
       "<div>\n",
       "<style scoped>\n",
       "    .dataframe tbody tr th:only-of-type {\n",
       "        vertical-align: middle;\n",
       "    }\n",
       "\n",
       "    .dataframe tbody tr th {\n",
       "        vertical-align: top;\n",
       "    }\n",
       "\n",
       "    .dataframe thead th {\n",
       "        text-align: right;\n",
       "    }\n",
       "</style>\n",
       "<table border=\"1\" class=\"dataframe\">\n",
       "  <thead>\n",
       "    <tr style=\"text-align: right;\">\n",
       "      <th></th>\n",
       "      <th>metric</th>\n",
       "      <th>base</th>\n",
       "      <th>best</th>\n",
       "      <th>best_diff</th>\n",
       "      <th>best_rel</th>\n",
       "    </tr>\n",
       "  </thead>\n",
       "  <tbody>\n",
       "    <tr>\n",
       "      <th>0</th>\n",
       "      <td>accuracy</td>\n",
       "      <td>0.437660</td>\n",
       "      <td>0.446960</td>\n",
       "      <td>0.009300</td>\n",
       "      <td>0.021249</td>\n",
       "    </tr>\n",
       "    <tr>\n",
       "      <th>1</th>\n",
       "      <td>f1_macro</td>\n",
       "      <td>0.429643</td>\n",
       "      <td>0.439092</td>\n",
       "      <td>0.009449</td>\n",
       "      <td>0.021993</td>\n",
       "    </tr>\n",
       "  </tbody>\n",
       "</table>\n",
       "</div>"
      ],
      "text/plain": [
       "     metric      base      best  best_diff  best_rel\n",
       "0  accuracy  0.437660  0.446960   0.009300  0.021249\n",
       "1  f1_macro  0.429643  0.439092   0.009449  0.021993"
      ]
     },
     "execution_count": 73,
     "metadata": {},
     "output_type": "execute_result"
    }
   ],
   "source": [
    "pd.DataFrame(\n",
    "    compare_to(\n",
    "        evaluate_estimators_on_metrics(test_data.review, test_data.rating, \n",
    "                                       {'base': rating_clf_pipe, 'best' :pipeline_search.best_estimator_}, \n",
    "                                       {'accuracy': accuracy_score, 'f1_macro': f1_macro}),\n",
    "        'base')\n",
    ")"
   ]
  },
  {
   "cell_type": "markdown",
   "id": "e5e26ed3",
   "metadata": {
    "slideshow": {
     "slide_type": "skip"
    }
   },
   "source": [
    "We should of course also try to parametrize other parameters at the expense of more CPU time ... "
   ]
  },
  {
   "cell_type": "code",
   "execution_count": 74,
   "id": "1669ffbc",
   "metadata": {
    "execution": {
     "iopub.execute_input": "2021-05-05T13:49:58.330435Z",
     "iopub.status.busy": "2021-05-05T13:49:58.329926Z",
     "iopub.status.idle": "2021-05-05T13:49:58.331679Z",
     "shell.execute_reply": "2021-05-05T13:49:58.332103Z"
    },
    "slideshow": {
     "slide_type": "slide"
    }
   },
   "outputs": [],
   "source": [
    "ratings_bigger_grid  = {'clf__alpha' : [25,30,35,40], 'vect__max_features':[5000, 10000, 15000, None], \n",
    "                        'vect__max_df': [0.25, 0.5], 'vect__min_df':[1,10,25]}"
   ]
  },
  {
   "cell_type": "code",
   "execution_count": 75,
   "id": "8e9963dc",
   "metadata": {
    "execution": {
     "iopub.execute_input": "2021-05-05T13:49:58.334920Z",
     "iopub.status.busy": "2021-05-05T13:49:58.334431Z",
     "iopub.status.idle": "2021-05-05T13:49:58.336174Z",
     "shell.execute_reply": "2021-05-05T13:49:58.336527Z"
    },
    "slideshow": {
     "slide_type": "fragment"
    }
   },
   "outputs": [],
   "source": [
    "pipeline_bigger_search = GridSearchCV(rating_clf_pipe, ratings_bigger_grid, n_jobs=6, cv=5, verbose=10)"
   ]
  },
  {
   "cell_type": "code",
   "execution_count": 76,
   "id": "1c25470f",
   "metadata": {
    "execution": {
     "iopub.execute_input": "2021-05-05T13:49:58.341882Z",
     "iopub.status.busy": "2021-05-05T13:49:58.341282Z",
     "iopub.status.idle": "2021-05-05T13:50:10.808541Z",
     "shell.execute_reply": "2021-05-05T13:50:10.808895Z"
    },
    "slideshow": {
     "slide_type": "skip"
    }
   },
   "outputs": [
    {
     "name": "stdout",
     "output_type": "stream",
     "text": [
      "f1 score = 0.4379 accuracy = 0.4464\n",
      "CPU times: user 12.3 s, sys: 178 ms, total: 12.5 s\n",
      "Wall time: 12.5 s\n"
     ]
    }
   ],
   "source": [
    "%%time\n",
    "from sklearn.base import clone\n",
    "from pathlib import Path\n",
    "\n",
    "\n",
    "if RUN_GRID_SEARCH:\n",
    "    pipeline_bigger_search.fit(train_data.review, train_data.rating)\n",
    "    bigger_search_results = pd.DataFrame(pipeline_bigger_search.cv_results_)  \n",
    "    best_estimator = pipeline_bigger_search.best_estimator_\n",
    "    bigger_search_results.to_csv('grid_search.csv')\n",
    "else:\n",
    "    path = Path(\"grid_search.csv\")\n",
    "    if path.exists():\n",
    "        bigger_search_results = pd.read_csv(\"grid_search.csv\")\n",
    "        params = eval(bigger_search_results.params.iloc[bigger_search_results.rank_test_score.argmin()])\n",
    "        best_estimator = clone(rating_clf_pipe)\n",
    "        best_estimator.set_params(**params)\n",
    "        best_estimator.fit(train_data.review, train_data.rating)\n",
    "    else:\n",
    "        print(\"File grid_search.csv does not exists !\")\n",
    "        bigger_search_results = None    \n",
    "    \n",
    "if bigger_search_results is not None:\n",
    "    predicted = best_estimator.predict(test_data.review)\n",
    "    bigger_search_results_sorted = bigger_search_results.sort_values(by='rank_test_score')\n",
    "\n",
    "    print(\"f1 score = {:.4f} accuracy = {:.4f}\".format(f1_score(test_data.rating,predicted , average='macro'), accuracy_score(test_data.rating, predicted) ))\n",
    "    \n",
    "       "
   ]
  },
  {
   "cell_type": "markdown",
   "id": "570cdab5",
   "metadata": {
    "slideshow": {
     "slide_type": "notes"
    }
   },
   "source": [
    "Please be warned that if `RUN_GRID_SEARCH` is true, the command below takes over 30 minutes (!) on 6 cores i9 laptop :( I have included in the repository results for this run so you do not have to wait :)"
   ]
  },
  {
   "cell_type": "markdown",
   "id": "1b977c06",
   "metadata": {
    "slideshow": {
     "slide_type": "notes"
    }
   },
   "source": [
    "Please not that now we get much bigger optimal value for the parameter $\\alpha$. "
   ]
  },
  {
   "cell_type": "markdown",
   "id": "ca5f1d2d",
   "metadata": {
    "slideshow": {
     "slide_type": "slide"
    }
   },
   "source": [
    "### Randomized search"
   ]
  },
  {
   "cell_type": "markdown",
   "id": "fc2ccc05",
   "metadata": {
    "slideshow": {
     "slide_type": "-"
    }
   },
   "source": [
    "<img src='random_search.jpg'>"
   ]
  },
  {
   "cell_type": "code",
   "execution_count": 77,
   "id": "7e420e39",
   "metadata": {
    "execution": {
     "iopub.execute_input": "2021-05-05T13:50:10.811787Z",
     "iopub.status.busy": "2021-05-05T13:50:10.811303Z",
     "iopub.status.idle": "2021-05-05T13:50:10.813024Z",
     "shell.execute_reply": "2021-05-05T13:50:10.813480Z"
    },
    "slideshow": {
     "slide_type": "slide"
    }
   },
   "outputs": [],
   "source": [
    "from sklearn.model_selection import RandomizedSearchCV\n",
    "from scipy.stats import uniform"
   ]
  },
  {
   "cell_type": "code",
   "execution_count": 78,
   "id": "3b566458",
   "metadata": {
    "execution": {
     "iopub.execute_input": "2021-05-05T13:50:10.817794Z",
     "iopub.status.busy": "2021-05-05T13:50:10.817237Z",
     "iopub.status.idle": "2021-05-05T13:50:10.818944Z",
     "shell.execute_reply": "2021-05-05T13:50:10.819359Z"
    },
    "slideshow": {
     "slide_type": "fragment"
    }
   },
   "outputs": [],
   "source": [
    "randomized_search = RandomizedSearchCV(rating_clf_pipe, {'clf__alpha': uniform(1,50) , 'vect__max_features':[5000, 7000, 10000, None]}, n_iter = 18,n_jobs=6, cv=5, verbose=10)"
   ]
  },
  {
   "cell_type": "code",
   "execution_count": 79,
   "id": "ada36ff1",
   "metadata": {
    "execution": {
     "iopub.execute_input": "2021-05-05T13:50:10.822164Z",
     "iopub.status.busy": "2021-05-05T13:50:10.821683Z",
     "iopub.status.idle": "2021-05-05T13:57:21.392025Z",
     "shell.execute_reply": "2021-05-05T13:57:21.392475Z"
    },
    "slideshow": {
     "slide_type": "fragment"
    }
   },
   "outputs": [
    {
     "name": "stdout",
     "output_type": "stream",
     "text": [
      "Fitting 5 folds for each of 18 candidates, totalling 90 fits\n"
     ]
    }
   ],
   "source": [
    "randomized_search.fit(train_data.review, train_data.rating);"
   ]
  },
  {
   "cell_type": "code",
   "execution_count": 80,
   "id": "533d6271",
   "metadata": {
    "execution": {
     "iopub.execute_input": "2021-05-05T13:57:21.409935Z",
     "iopub.status.busy": "2021-05-05T13:57:21.409280Z",
     "iopub.status.idle": "2021-05-05T13:57:21.411667Z",
     "shell.execute_reply": "2021-05-05T13:57:21.412063Z"
    },
    "slideshow": {
     "slide_type": "slide"
    }
   },
   "outputs": [
    {
     "data": {
      "text/html": [
       "<div>\n",
       "<style scoped>\n",
       "    .dataframe tbody tr th:only-of-type {\n",
       "        vertical-align: middle;\n",
       "    }\n",
       "\n",
       "    .dataframe tbody tr th {\n",
       "        vertical-align: top;\n",
       "    }\n",
       "\n",
       "    .dataframe thead th {\n",
       "        text-align: right;\n",
       "    }\n",
       "</style>\n",
       "<table border=\"1\" class=\"dataframe\">\n",
       "  <thead>\n",
       "    <tr style=\"text-align: right;\">\n",
       "      <th></th>\n",
       "      <th>mean_fit_time</th>\n",
       "      <th>std_fit_time</th>\n",
       "      <th>mean_score_time</th>\n",
       "      <th>std_score_time</th>\n",
       "      <th>param_clf__alpha</th>\n",
       "      <th>param_vect__max_features</th>\n",
       "      <th>params</th>\n",
       "      <th>split0_test_score</th>\n",
       "      <th>split1_test_score</th>\n",
       "      <th>split2_test_score</th>\n",
       "      <th>split3_test_score</th>\n",
       "      <th>split4_test_score</th>\n",
       "      <th>mean_test_score</th>\n",
       "      <th>std_test_score</th>\n",
       "      <th>rank_test_score</th>\n",
       "    </tr>\n",
       "  </thead>\n",
       "  <tbody>\n",
       "    <tr>\n",
       "      <th>13</th>\n",
       "      <td>11.527397</td>\n",
       "      <td>0.101411</td>\n",
       "      <td>2.794854</td>\n",
       "      <td>0.053484</td>\n",
       "      <td>35.752945</td>\n",
       "      <td>10000</td>\n",
       "      <td>{'clf__alpha': 35.752944512901145, 'vect__max_...</td>\n",
       "      <td>0.44712</td>\n",
       "      <td>0.44248</td>\n",
       "      <td>0.44276</td>\n",
       "      <td>0.44464</td>\n",
       "      <td>0.44550</td>\n",
       "      <td>0.444500</td>\n",
       "      <td>0.001732</td>\n",
       "      <td>1</td>\n",
       "    </tr>\n",
       "    <tr>\n",
       "      <th>17</th>\n",
       "      <td>11.467945</td>\n",
       "      <td>0.690091</td>\n",
       "      <td>2.569311</td>\n",
       "      <td>0.403560</td>\n",
       "      <td>50.789173</td>\n",
       "      <td>10000</td>\n",
       "      <td>{'clf__alpha': 50.78917334943333, 'vect__max_f...</td>\n",
       "      <td>0.44684</td>\n",
       "      <td>0.44208</td>\n",
       "      <td>0.44264</td>\n",
       "      <td>0.44356</td>\n",
       "      <td>0.44448</td>\n",
       "      <td>0.443920</td>\n",
       "      <td>0.001673</td>\n",
       "      <td>2</td>\n",
       "    </tr>\n",
       "    <tr>\n",
       "      <th>15</th>\n",
       "      <td>11.216923</td>\n",
       "      <td>0.124364</td>\n",
       "      <td>2.700734</td>\n",
       "      <td>0.052349</td>\n",
       "      <td>21.144427</td>\n",
       "      <td>None</td>\n",
       "      <td>{'clf__alpha': 21.144426673253772, 'vect__max_...</td>\n",
       "      <td>0.44674</td>\n",
       "      <td>0.44242</td>\n",
       "      <td>0.44126</td>\n",
       "      <td>0.44444</td>\n",
       "      <td>0.44434</td>\n",
       "      <td>0.443840</td>\n",
       "      <td>0.001881</td>\n",
       "      <td>3</td>\n",
       "    </tr>\n",
       "    <tr>\n",
       "      <th>8</th>\n",
       "      <td>11.931529</td>\n",
       "      <td>0.122057</td>\n",
       "      <td>2.867116</td>\n",
       "      <td>0.083786</td>\n",
       "      <td>18.607815</td>\n",
       "      <td>10000</td>\n",
       "      <td>{'clf__alpha': 18.607815275942286, 'vect__max_...</td>\n",
       "      <td>0.44688</td>\n",
       "      <td>0.44080</td>\n",
       "      <td>0.44102</td>\n",
       "      <td>0.44370</td>\n",
       "      <td>0.44498</td>\n",
       "      <td>0.443476</td>\n",
       "      <td>0.002328</td>\n",
       "      <td>4</td>\n",
       "    </tr>\n",
       "    <tr>\n",
       "      <th>5</th>\n",
       "      <td>11.778027</td>\n",
       "      <td>0.065019</td>\n",
       "      <td>2.831853</td>\n",
       "      <td>0.111195</td>\n",
       "      <td>33.798644</td>\n",
       "      <td>7000</td>\n",
       "      <td>{'clf__alpha': 33.79864427749579, 'vect__max_f...</td>\n",
       "      <td>0.44616</td>\n",
       "      <td>0.44158</td>\n",
       "      <td>0.44112</td>\n",
       "      <td>0.44344</td>\n",
       "      <td>0.44490</td>\n",
       "      <td>0.443440</td>\n",
       "      <td>0.001917</td>\n",
       "      <td>5</td>\n",
       "    </tr>\n",
       "  </tbody>\n",
       "</table>\n",
       "</div>"
      ],
      "text/plain": [
       "    mean_fit_time  std_fit_time  mean_score_time  std_score_time  \\\n",
       "13      11.527397      0.101411         2.794854        0.053484   \n",
       "17      11.467945      0.690091         2.569311        0.403560   \n",
       "15      11.216923      0.124364         2.700734        0.052349   \n",
       "8       11.931529      0.122057         2.867116        0.083786   \n",
       "5       11.778027      0.065019         2.831853        0.111195   \n",
       "\n",
       "   param_clf__alpha param_vect__max_features  \\\n",
       "13        35.752945                    10000   \n",
       "17        50.789173                    10000   \n",
       "15        21.144427                     None   \n",
       "8         18.607815                    10000   \n",
       "5         33.798644                     7000   \n",
       "\n",
       "                                               params  split0_test_score  \\\n",
       "13  {'clf__alpha': 35.752944512901145, 'vect__max_...            0.44712   \n",
       "17  {'clf__alpha': 50.78917334943333, 'vect__max_f...            0.44684   \n",
       "15  {'clf__alpha': 21.144426673253772, 'vect__max_...            0.44674   \n",
       "8   {'clf__alpha': 18.607815275942286, 'vect__max_...            0.44688   \n",
       "5   {'clf__alpha': 33.79864427749579, 'vect__max_f...            0.44616   \n",
       "\n",
       "    split1_test_score  split2_test_score  split3_test_score  \\\n",
       "13            0.44248            0.44276            0.44464   \n",
       "17            0.44208            0.44264            0.44356   \n",
       "15            0.44242            0.44126            0.44444   \n",
       "8             0.44080            0.44102            0.44370   \n",
       "5             0.44158            0.44112            0.44344   \n",
       "\n",
       "    split4_test_score  mean_test_score  std_test_score  rank_test_score  \n",
       "13            0.44550         0.444500        0.001732                1  \n",
       "17            0.44448         0.443920        0.001673                2  \n",
       "15            0.44434         0.443840        0.001881                3  \n",
       "8             0.44498         0.443476        0.002328                4  \n",
       "5             0.44490         0.443440        0.001917                5  "
      ]
     },
     "execution_count": 80,
     "metadata": {},
     "output_type": "execute_result"
    }
   ],
   "source": [
    "pd.DataFrame(randomized_search.cv_results_).sort_values(['mean_test_score'], ascending=False).head(5)"
   ]
  },
  {
   "cell_type": "code",
   "execution_count": 81,
   "id": "50a67b25",
   "metadata": {
    "execution": {
     "iopub.execute_input": "2021-05-05T13:57:21.496912Z",
     "iopub.status.busy": "2021-05-05T13:57:21.456208Z",
     "iopub.status.idle": "2021-05-05T13:57:27.712424Z",
     "shell.execute_reply": "2021-05-05T13:57:27.712946Z"
    },
    "slideshow": {
     "slide_type": "fragment"
    }
   },
   "outputs": [
    {
     "data": {
      "text/html": [
       "<div>\n",
       "<style scoped>\n",
       "    .dataframe tbody tr th:only-of-type {\n",
       "        vertical-align: middle;\n",
       "    }\n",
       "\n",
       "    .dataframe tbody tr th {\n",
       "        vertical-align: top;\n",
       "    }\n",
       "\n",
       "    .dataframe thead th {\n",
       "        text-align: right;\n",
       "    }\n",
       "</style>\n",
       "<table border=\"1\" class=\"dataframe\">\n",
       "  <thead>\n",
       "    <tr style=\"text-align: right;\">\n",
       "      <th></th>\n",
       "      <th>metric</th>\n",
       "      <th>base</th>\n",
       "      <th>best_grid</th>\n",
       "      <th>best_grid_diff</th>\n",
       "      <th>best_grid_rel</th>\n",
       "      <th>best_rand</th>\n",
       "      <th>best_rand_diff</th>\n",
       "      <th>best_rand_rel</th>\n",
       "    </tr>\n",
       "  </thead>\n",
       "  <tbody>\n",
       "    <tr>\n",
       "      <th>0</th>\n",
       "      <td>accuracy</td>\n",
       "      <td>0.437660</td>\n",
       "      <td>0.446960</td>\n",
       "      <td>0.009300</td>\n",
       "      <td>0.021249</td>\n",
       "      <td>0.446920</td>\n",
       "      <td>0.009260</td>\n",
       "      <td>0.021158</td>\n",
       "    </tr>\n",
       "    <tr>\n",
       "      <th>1</th>\n",
       "      <td>f1_macro</td>\n",
       "      <td>0.429643</td>\n",
       "      <td>0.439092</td>\n",
       "      <td>0.009449</td>\n",
       "      <td>0.021993</td>\n",
       "      <td>0.438836</td>\n",
       "      <td>0.009192</td>\n",
       "      <td>0.021395</td>\n",
       "    </tr>\n",
       "  </tbody>\n",
       "</table>\n",
       "</div>"
      ],
      "text/plain": [
       "     metric      base  best_grid  best_grid_diff  best_grid_rel  best_rand  \\\n",
       "0  accuracy  0.437660   0.446960        0.009300       0.021249   0.446920   \n",
       "1  f1_macro  0.429643   0.439092        0.009449       0.021993   0.438836   \n",
       "\n",
       "   best_rand_diff  best_rand_rel  \n",
       "0        0.009260       0.021158  \n",
       "1        0.009192       0.021395  "
      ]
     },
     "execution_count": 81,
     "metadata": {},
     "output_type": "execute_result"
    }
   ],
   "source": [
    "pd.DataFrame(\n",
    "    compare_to(\n",
    "        evaluate_estimators_on_metrics(test_data.review, test_data.rating, \n",
    "                                       {'base': rating_clf_pipe, 'best_grid' :pipeline_search.best_estimator_, 'best_rand': randomized_search.best_estimator_}, \n",
    "                                       {'accuracy': accuracy_score, 'f1_macro': f1_macro}),\n",
    "        'base')\n",
    ")"
   ]
  }
 ],
 "metadata": {
  "jupytext": {
   "text_representation": {
    "extension": ".Rmd",
    "format_name": "rmarkdown",
    "format_version": "1.2",
    "jupytext_version": "1.11.1"
   }
  },
  "kernelspec": {
   "display_name": "Python 3",
   "language": "python",
   "name": "python3"
  },
  "language_info": {
   "codemirror_mode": {
    "name": "ipython",
    "version": 3
   },
   "file_extension": ".py",
   "mimetype": "text/x-python",
   "name": "python",
   "nbconvert_exporter": "python",
   "pygments_lexer": "ipython3",
   "version": "3.9.2"
  }
 },
 "nbformat": 4,
 "nbformat_minor": 5
}