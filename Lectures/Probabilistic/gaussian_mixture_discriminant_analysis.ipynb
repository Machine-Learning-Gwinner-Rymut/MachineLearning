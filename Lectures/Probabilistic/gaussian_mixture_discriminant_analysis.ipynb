{
 "cells": [
  {
   "cell_type": "code",
   "execution_count": 1,
   "id": "af6a0e23",
   "metadata": {
    "execution": {
     "iopub.execute_input": "2021-05-12T12:25:37.471586Z",
     "iopub.status.busy": "2021-05-12T12:25:37.470873Z",
     "iopub.status.idle": "2021-05-12T12:25:37.548531Z",
     "shell.execute_reply": "2021-05-12T12:25:37.548920Z"
    },
    "slideshow": {
     "slide_type": "skip"
    }
   },
   "outputs": [],
   "source": [
    "import numpy as np"
   ]
  },
  {
   "cell_type": "markdown",
   "id": "73ba9809",
   "metadata": {},
   "source": [
    "###  Custom estimator"
   ]
  },
  {
   "cell_type": "code",
   "execution_count": 2,
   "id": "ac2f61f1",
   "metadata": {
    "execution": {
     "iopub.execute_input": "2021-05-12T12:25:37.551988Z",
     "iopub.status.busy": "2021-05-12T12:25:37.551482Z",
     "iopub.status.idle": "2021-05-12T12:25:37.948385Z",
     "shell.execute_reply": "2021-05-12T12:25:37.948734Z"
    },
    "slideshow": {
     "slide_type": "slide"
    }
   },
   "outputs": [],
   "source": [
    "from sklearn.base import BaseEstimator, ClassifierMixin\n",
    "from sklearn.utils.validation import check_X_y, check_array, check_is_fitted\n",
    "\n",
    "from sklearn.mixture import GaussianMixture\n",
    "from scipy.stats import multivariate_normal"
   ]
  },
  {
   "cell_type": "code",
   "execution_count": 3,
   "id": "817b3855",
   "metadata": {
    "execution": {
     "iopub.execute_input": "2021-05-12T12:25:37.956267Z",
     "iopub.status.busy": "2021-05-12T12:25:37.955710Z",
     "iopub.status.idle": "2021-05-12T12:25:37.957548Z",
     "shell.execute_reply": "2021-05-12T12:25:37.957923Z"
    },
    "slideshow": {
     "slide_type": "slide"
    }
   },
   "outputs": [],
   "source": [
    "class GaussianMixtureDiscriminantAnalysis(BaseEstimator, ClassifierMixin):\n",
    "    def __init__(self, n_cmp = (2,2) , tol=1e-4 , max_iter=100 ):\n",
    "        super().__init__()\n",
    "        self.n_cmp = n_cmp\n",
    "        self.tol = tol\n",
    "        self.max_iter = max_iter\n",
    "\n",
    "    def fit(self, X, y):\n",
    "        self.X_, self.y_ = check_X_y(X, y)\n",
    "        self.cls_ = [GaussianMixture(n_components=n_cmp, tol=self.tol, max_iter=self.max_iter) for n_cmp in self.n_cmp]\n",
    "    \n",
    "        for l, cmp in enumerate(self.cls_):\n",
    "                cmp.fit(self.X_[self.y_==l])\n",
    "        \n",
    "        self.means_ = [cmp.means_ for cmp in self.cls_]\n",
    "        self.covs_  = [cmp.covariances_ for cmp in self.cls_]\n",
    "        self.pdfs_ = [[multivariate_normal(cmp.means_[i], cmp.covariances_[i]).pdf for i in range(cmp.n_components)] for cmp in self.cls_]\n",
    "        \n",
    "        return self  \n",
    "    \n",
    "    def predict_proba(self, X):\n",
    "        check_is_fitted(self)\n",
    "        p = np.zeros((len(X),2) )\n",
    "        for k,cmp in enumerate(self.cls_):\n",
    "            for i in range(cmp.n_components):\n",
    "                p[:,k]+= cmp.weights_[i]*self.pdfs_[k][i](X)\n",
    "           \n",
    "        return p[:,1]/(p.sum(1))\n",
    "        \n",
    "    def predict(self, X):\n",
    "        X = check_array(X)\n",
    "        return (self.predict_proba(X)>0.5).astype('int64')\n",
    "    "
   ]
  },
  {
   "cell_type": "code",
   "execution_count": 4,
   "id": "95d84e19",
   "metadata": {
    "execution": {
     "iopub.execute_input": "2021-05-12T12:25:37.960673Z",
     "iopub.status.busy": "2021-05-12T12:25:37.960152Z",
     "iopub.status.idle": "2021-05-12T12:25:37.961832Z",
     "shell.execute_reply": "2021-05-12T12:25:37.962198Z"
    },
    "slideshow": {
     "slide_type": "skip"
    }
   },
   "outputs": [],
   "source": [
    "from sklearn.model_selection import train_test_split"
   ]
  },
  {
   "cell_type": "code",
   "execution_count": 5,
   "id": "e867e43b",
   "metadata": {
    "execution": {
     "iopub.execute_input": "2021-05-12T12:25:37.965155Z",
     "iopub.status.busy": "2021-05-12T12:25:37.964664Z",
     "iopub.status.idle": "2021-05-12T12:25:37.973694Z",
     "shell.execute_reply": "2021-05-12T12:25:37.974381Z"
    },
    "slideshow": {
     "slide_type": "skip"
    }
   },
   "outputs": [],
   "source": [
    "half_circles = np.loadtxt('half_circles.txt')\n",
    "hc_train, hc_test = train_test_split(half_circles, test_size=0.25, stratify=half_circles[:,2])"
   ]
  },
  {
   "cell_type": "code",
   "execution_count": 6,
   "id": "b8e82a8e",
   "metadata": {
    "execution": {
     "iopub.execute_input": "2021-05-12T12:25:37.977800Z",
     "iopub.status.busy": "2021-05-12T12:25:37.977272Z",
     "iopub.status.idle": "2021-05-12T12:25:37.979052Z",
     "shell.execute_reply": "2021-05-12T12:25:37.979434Z"
    },
    "slideshow": {
     "slide_type": "skip"
    }
   },
   "outputs": [],
   "source": [
    "hc_train_labels = hc_train[:,2].astype('int32')\n",
    "hc_train_data   = hc_train[:,:2]"
   ]
  },
  {
   "cell_type": "code",
   "execution_count": 7,
   "id": "8cede662",
   "metadata": {
    "execution": {
     "iopub.execute_input": "2021-05-12T12:25:37.982379Z",
     "iopub.status.busy": "2021-05-12T12:25:37.981859Z",
     "iopub.status.idle": "2021-05-12T12:25:37.983601Z",
     "shell.execute_reply": "2021-05-12T12:25:37.983973Z"
    },
    "slideshow": {
     "slide_type": "skip"
    }
   },
   "outputs": [],
   "source": [
    "hc_test_labels = hc_test[:,2].astype('int32')\n",
    "hc_test_data   = hc_test[:,:2]"
   ]
  },
  {
   "cell_type": "code",
   "execution_count": 8,
   "id": "bd848c79",
   "metadata": {
    "execution": {
     "iopub.execute_input": "2021-05-12T12:25:37.986796Z",
     "iopub.status.busy": "2021-05-12T12:25:37.986299Z",
     "iopub.status.idle": "2021-05-12T12:25:37.987853Z",
     "shell.execute_reply": "2021-05-12T12:25:37.988261Z"
    },
    "slideshow": {
     "slide_type": "slide"
    }
   },
   "outputs": [],
   "source": [
    "gmd = GaussianMixtureDiscriminantAnalysis(n_cmp=(2,2))"
   ]
  },
  {
   "cell_type": "code",
   "execution_count": 9,
   "id": "8e1be9d1",
   "metadata": {
    "execution": {
     "iopub.execute_input": "2021-05-12T12:25:37.991525Z",
     "iopub.status.busy": "2021-05-12T12:25:37.990804Z",
     "iopub.status.idle": "2021-05-12T12:25:38.006482Z",
     "shell.execute_reply": "2021-05-12T12:25:38.006798Z"
    },
    "slideshow": {
     "slide_type": "fragment"
    }
   },
   "outputs": [
    {
     "data": {
      "text/plain": [
       "GaussianMixtureDiscriminantAnalysis()"
      ]
     },
     "execution_count": 9,
     "metadata": {},
     "output_type": "execute_result"
    }
   ],
   "source": [
    "gmd.fit(hc_train_data, hc_train_labels)"
   ]
  },
  {
   "cell_type": "code",
   "execution_count": 10,
   "id": "c9c1b9a5",
   "metadata": {
    "execution": {
     "iopub.execute_input": "2021-05-12T12:25:38.009887Z",
     "iopub.status.busy": "2021-05-12T12:25:38.009435Z",
     "iopub.status.idle": "2021-05-12T12:25:38.013607Z",
     "shell.execute_reply": "2021-05-12T12:25:38.013924Z"
    },
    "slideshow": {
     "slide_type": "fragment"
    }
   },
   "outputs": [
    {
     "data": {
      "text/plain": [
       "0.996"
      ]
     },
     "execution_count": 10,
     "metadata": {},
     "output_type": "execute_result"
    }
   ],
   "source": [
    "gmd.score(hc_train_data, hc_train_labels)"
   ]
  },
  {
   "cell_type": "code",
   "execution_count": 11,
   "id": "8e8b9ceb",
   "metadata": {
    "execution": {
     "iopub.execute_input": "2021-05-12T12:25:38.018365Z",
     "iopub.status.busy": "2021-05-12T12:25:38.017474Z",
     "iopub.status.idle": "2021-05-12T12:25:38.020378Z",
     "shell.execute_reply": "2021-05-12T12:25:38.020691Z"
    },
    "slideshow": {
     "slide_type": "fragment"
    }
   },
   "outputs": [
    {
     "data": {
      "text/plain": [
       "0.984"
      ]
     },
     "execution_count": 11,
     "metadata": {},
     "output_type": "execute_result"
    }
   ],
   "source": [
    "gmd.score(hc_test_data, hc_test_labels)"
   ]
  },
  {
   "cell_type": "code",
   "execution_count": 12,
   "id": "b8fffe1c",
   "metadata": {
    "execution": {
     "iopub.execute_input": "2021-05-12T12:25:38.023525Z",
     "iopub.status.busy": "2021-05-12T12:25:38.023036Z",
     "iopub.status.idle": "2021-05-12T12:25:38.025095Z",
     "shell.execute_reply": "2021-05-12T12:25:38.025467Z"
    },
    "slideshow": {
     "slide_type": "slide"
    }
   },
   "outputs": [],
   "source": [
    "from sklearn.model_selection import GridSearchCV"
   ]
  },
  {
   "cell_type": "code",
   "execution_count": 13,
   "id": "12cf3102",
   "metadata": {
    "execution": {
     "iopub.execute_input": "2021-05-12T12:25:38.028246Z",
     "iopub.status.busy": "2021-05-12T12:25:38.027775Z",
     "iopub.status.idle": "2021-05-12T12:25:38.029522Z",
     "shell.execute_reply": "2021-05-12T12:25:38.029894Z"
    },
    "slideshow": {
     "slide_type": "fragment"
    }
   },
   "outputs": [],
   "source": [
    "param_grid = {'n_cmp': [[1,1],(2,2),(3,3), (4,4), (5,5)]}"
   ]
  },
  {
   "cell_type": "code",
   "execution_count": 14,
   "id": "70a0c699",
   "metadata": {
    "execution": {
     "iopub.execute_input": "2021-05-12T12:25:38.032653Z",
     "iopub.status.busy": "2021-05-12T12:25:38.032211Z",
     "iopub.status.idle": "2021-05-12T12:25:38.034092Z",
     "shell.execute_reply": "2021-05-12T12:25:38.034484Z"
    },
    "slideshow": {
     "slide_type": "fragment"
    }
   },
   "outputs": [],
   "source": [
    "grid_search = GridSearchCV(GaussianMixtureDiscriminantAnalysis(), \n",
    "                           param_grid=param_grid, n_jobs=6, cv=5, scoring='accuracy')"
   ]
  },
  {
   "cell_type": "code",
   "execution_count": 15,
   "id": "2baa914e",
   "metadata": {
    "execution": {
     "iopub.execute_input": "2021-05-12T12:25:38.037637Z",
     "iopub.status.busy": "2021-05-12T12:25:38.037189Z",
     "iopub.status.idle": "2021-05-12T12:25:39.103186Z",
     "shell.execute_reply": "2021-05-12T12:25:39.103730Z"
    },
    "slideshow": {
     "slide_type": "slide"
    }
   },
   "outputs": [
    {
     "name": "stdout",
     "output_type": "stream",
     "text": [
      "CPU times: user 246 ms, sys: 62.2 ms, total: 308 ms\n",
      "Wall time: 1.06 s\n"
     ]
    },
    {
     "data": {
      "text/plain": [
       "GridSearchCV(cv=5, estimator=GaussianMixtureDiscriminantAnalysis(), n_jobs=6,\n",
       "             param_grid={'n_cmp': [[1, 1], (2, 2), (3, 3), (4, 4), (5, 5)]},\n",
       "             scoring='accuracy')"
      ]
     },
     "execution_count": 15,
     "metadata": {},
     "output_type": "execute_result"
    }
   ],
   "source": [
    "%%time\n",
    "grid_search.fit(hc_train_data, hc_train_labels)"
   ]
  },
  {
   "cell_type": "code",
   "execution_count": 16,
   "id": "9aaacc47",
   "metadata": {
    "execution": {
     "iopub.execute_input": "2021-05-12T12:25:39.107116Z",
     "iopub.status.busy": "2021-05-12T12:25:39.106550Z",
     "iopub.status.idle": "2021-05-12T12:25:39.424795Z",
     "shell.execute_reply": "2021-05-12T12:25:39.425229Z"
    },
    "slideshow": {
     "slide_type": "skip"
    }
   },
   "outputs": [],
   "source": [
    "import pandas as pd"
   ]
  },
  {
   "cell_type": "code",
   "execution_count": 17,
   "id": "d6de8c76",
   "metadata": {
    "execution": {
     "iopub.execute_input": "2021-05-12T12:25:39.432537Z",
     "iopub.status.busy": "2021-05-12T12:25:39.431745Z",
     "iopub.status.idle": "2021-05-12T12:25:39.442043Z",
     "shell.execute_reply": "2021-05-12T12:25:39.442498Z"
    },
    "slideshow": {
     "slide_type": "slide"
    }
   },
   "outputs": [
    {
     "data": {
      "text/html": [
       "<div>\n",
       "<style scoped>\n",
       "    .dataframe tbody tr th:only-of-type {\n",
       "        vertical-align: middle;\n",
       "    }\n",
       "\n",
       "    .dataframe tbody tr th {\n",
       "        vertical-align: top;\n",
       "    }\n",
       "\n",
       "    .dataframe thead th {\n",
       "        text-align: right;\n",
       "    }\n",
       "</style>\n",
       "<table border=\"1\" class=\"dataframe\">\n",
       "  <thead>\n",
       "    <tr style=\"text-align: right;\">\n",
       "      <th></th>\n",
       "      <th>param_n_cmp</th>\n",
       "      <th>mean_test_score</th>\n",
       "    </tr>\n",
       "  </thead>\n",
       "  <tbody>\n",
       "    <tr>\n",
       "      <th>2</th>\n",
       "      <td>(3, 3)</td>\n",
       "      <td>0.997333</td>\n",
       "    </tr>\n",
       "    <tr>\n",
       "      <th>3</th>\n",
       "      <td>(4, 4)</td>\n",
       "      <td>0.996000</td>\n",
       "    </tr>\n",
       "    <tr>\n",
       "      <th>1</th>\n",
       "      <td>(2, 2)</td>\n",
       "      <td>0.996000</td>\n",
       "    </tr>\n",
       "    <tr>\n",
       "      <th>4</th>\n",
       "      <td>(5, 5)</td>\n",
       "      <td>0.992000</td>\n",
       "    </tr>\n",
       "    <tr>\n",
       "      <th>0</th>\n",
       "      <td>[1, 1]</td>\n",
       "      <td>0.818667</td>\n",
       "    </tr>\n",
       "  </tbody>\n",
       "</table>\n",
       "</div>"
      ],
      "text/plain": [
       "  param_n_cmp  mean_test_score\n",
       "2      (3, 3)         0.997333\n",
       "3      (4, 4)         0.996000\n",
       "1      (2, 2)         0.996000\n",
       "4      (5, 5)         0.992000\n",
       "0      [1, 1]         0.818667"
      ]
     },
     "execution_count": 17,
     "metadata": {},
     "output_type": "execute_result"
    }
   ],
   "source": [
    "pd.DataFrame(grid_search.cv_results_).sort_values(by='rank_test_score')[['param_n_cmp','mean_test_score']]"
   ]
  },
  {
   "cell_type": "code",
   "execution_count": 18,
   "id": "b701dcf8",
   "metadata": {
    "execution": {
     "iopub.execute_input": "2021-05-12T12:25:39.447347Z",
     "iopub.status.busy": "2021-05-12T12:25:39.446593Z",
     "iopub.status.idle": "2021-05-12T12:25:39.448899Z",
     "shell.execute_reply": "2021-05-12T12:25:39.449408Z"
    },
    "slideshow": {
     "slide_type": "-"
    }
   },
   "outputs": [
    {
     "data": {
      "text/plain": [
       "0.996"
      ]
     },
     "execution_count": 18,
     "metadata": {},
     "output_type": "execute_result"
    }
   ],
   "source": [
    "grid_search.best_estimator_.score(hc_test_data, hc_test_labels)"
   ]
  },
  {
   "cell_type": "code",
   "execution_count": 19,
   "id": "93f3265a",
   "metadata": {
    "execution": {
     "iopub.execute_input": "2021-05-12T12:25:39.452710Z",
     "iopub.status.busy": "2021-05-12T12:25:39.452077Z",
     "iopub.status.idle": "2021-05-12T12:25:39.453943Z",
     "shell.execute_reply": "2021-05-12T12:25:39.454351Z"
    },
    "slideshow": {
     "slide_type": "slide"
    }
   },
   "outputs": [],
   "source": [
    "from sklearn.model_selection import RandomizedSearchCV\n",
    "from scipy.stats import randint"
   ]
  },
  {
   "cell_type": "code",
   "execution_count": 20,
   "id": "33fc5f62",
   "metadata": {
    "execution": {
     "iopub.execute_input": "2021-05-12T12:25:39.459111Z",
     "iopub.status.busy": "2021-05-12T12:25:39.458536Z",
     "iopub.status.idle": "2021-05-12T12:25:39.460328Z",
     "shell.execute_reply": "2021-05-12T12:25:39.460724Z"
    },
    "slideshow": {
     "slide_type": "fragment"
    }
   },
   "outputs": [],
   "source": [
    "class random_pairs:\n",
    "    def __init__(self,high1=2, high2=2):\n",
    "        self.high1_ = high1\n",
    "        self.high2_ = high2\n",
    "    \n",
    "    def rvs(self, size=1, random_state=None):\n",
    "        r1 = randint(1,self.high1_).rvs(size=size, random_state=random_state)\n",
    "        r2 = randint(1,self.high2_).rvs(size=size, random_state=None)\n",
    "        if size>1:\n",
    "            return list(zip(r1,r2))\n",
    "        else:\n",
    "            return r1[0], r2[0]\n",
    "        "
   ]
  },
  {
   "cell_type": "code",
   "execution_count": 21,
   "id": "586edf46",
   "metadata": {
    "execution": {
     "iopub.execute_input": "2021-05-12T12:25:39.463965Z",
     "iopub.status.busy": "2021-05-12T12:25:39.463405Z",
     "iopub.status.idle": "2021-05-12T12:25:39.465185Z",
     "shell.execute_reply": "2021-05-12T12:25:39.465570Z"
    },
    "slideshow": {
     "slide_type": "slide"
    }
   },
   "outputs": [],
   "source": [
    "randomized_search = RandomizedSearchCV(GaussianMixtureDiscriminantAnalysis(max_iter=500), {'n_cmp': random_pairs(7,7)},n_iter=10, cv=5)"
   ]
  },
  {
   "cell_type": "code",
   "execution_count": 22,
   "id": "bde942e6",
   "metadata": {
    "execution": {
     "iopub.execute_input": "2021-05-12T12:25:39.482431Z",
     "iopub.status.busy": "2021-05-12T12:25:39.481838Z",
     "iopub.status.idle": "2021-05-12T12:25:40.626702Z",
     "shell.execute_reply": "2021-05-12T12:25:40.627037Z"
    },
    "slideshow": {
     "slide_type": "fragment"
    }
   },
   "outputs": [],
   "source": [
    "randomized_search.fit(hc_train_data, hc_train_labels);"
   ]
  },
  {
   "cell_type": "code",
   "execution_count": 23,
   "id": "16d8af54",
   "metadata": {
    "execution": {
     "iopub.execute_input": "2021-05-12T12:25:40.636116Z",
     "iopub.status.busy": "2021-05-12T12:25:40.635463Z",
     "iopub.status.idle": "2021-05-12T12:25:40.638576Z",
     "shell.execute_reply": "2021-05-12T12:25:40.638855Z"
    },
    "slideshow": {
     "slide_type": "fragment"
    }
   },
   "outputs": [
    {
     "data": {
      "text/html": [
       "<div>\n",
       "<style scoped>\n",
       "    .dataframe tbody tr th:only-of-type {\n",
       "        vertical-align: middle;\n",
       "    }\n",
       "\n",
       "    .dataframe tbody tr th {\n",
       "        vertical-align: top;\n",
       "    }\n",
       "\n",
       "    .dataframe thead th {\n",
       "        text-align: right;\n",
       "    }\n",
       "</style>\n",
       "<table border=\"1\" class=\"dataframe\">\n",
       "  <thead>\n",
       "    <tr style=\"text-align: right;\">\n",
       "      <th></th>\n",
       "      <th>param_n_cmp</th>\n",
       "      <th>mean_test_score</th>\n",
       "    </tr>\n",
       "  </thead>\n",
       "  <tbody>\n",
       "    <tr>\n",
       "      <th>0</th>\n",
       "      <td>(2, 3)</td>\n",
       "      <td>0.993333</td>\n",
       "    </tr>\n",
       "    <tr>\n",
       "      <th>4</th>\n",
       "      <td>(6, 6)</td>\n",
       "      <td>0.993333</td>\n",
       "    </tr>\n",
       "    <tr>\n",
       "      <th>8</th>\n",
       "      <td>(6, 2)</td>\n",
       "      <td>0.993333</td>\n",
       "    </tr>\n",
       "    <tr>\n",
       "      <th>5</th>\n",
       "      <td>(2, 6)</td>\n",
       "      <td>0.990667</td>\n",
       "    </tr>\n",
       "    <tr>\n",
       "      <th>9</th>\n",
       "      <td>(2, 6)</td>\n",
       "      <td>0.990667</td>\n",
       "    </tr>\n",
       "    <tr>\n",
       "      <th>2</th>\n",
       "      <td>(2, 5)</td>\n",
       "      <td>0.989333</td>\n",
       "    </tr>\n",
       "    <tr>\n",
       "      <th>3</th>\n",
       "      <td>(4, 1)</td>\n",
       "      <td>0.966667</td>\n",
       "    </tr>\n",
       "    <tr>\n",
       "      <th>1</th>\n",
       "      <td>(3, 1)</td>\n",
       "      <td>0.960000</td>\n",
       "    </tr>\n",
       "    <tr>\n",
       "      <th>7</th>\n",
       "      <td>(1, 2)</td>\n",
       "      <td>0.946667</td>\n",
       "    </tr>\n",
       "    <tr>\n",
       "      <th>6</th>\n",
       "      <td>(1, 1)</td>\n",
       "      <td>0.818667</td>\n",
       "    </tr>\n",
       "  </tbody>\n",
       "</table>\n",
       "</div>"
      ],
      "text/plain": [
       "  param_n_cmp  mean_test_score\n",
       "0      (2, 3)         0.993333\n",
       "4      (6, 6)         0.993333\n",
       "8      (6, 2)         0.993333\n",
       "5      (2, 6)         0.990667\n",
       "9      (2, 6)         0.990667\n",
       "2      (2, 5)         0.989333\n",
       "3      (4, 1)         0.966667\n",
       "1      (3, 1)         0.960000\n",
       "7      (1, 2)         0.946667\n",
       "6      (1, 1)         0.818667"
      ]
     },
     "execution_count": 23,
     "metadata": {},
     "output_type": "execute_result"
    }
   ],
   "source": [
    "pd.DataFrame(randomized_search.cv_results_).sort_values(['mean_test_score'], ascending=False)[['param_n_cmp','mean_test_score']]"
   ]
  },
  {
   "cell_type": "code",
   "execution_count": null,
   "id": "77d0de88",
   "metadata": {},
   "outputs": [],
   "source": []
  }
 ],
 "metadata": {
  "jupytext": {
   "text_representation": {
    "extension": ".Rmd",
    "format_name": "rmarkdown",
    "format_version": "1.2",
    "jupytext_version": "1.11.1"
   }
  },
  "kernelspec": {
   "display_name": "Python 3",
   "language": "python",
   "name": "python3"
  },
  "language_info": {
   "codemirror_mode": {
    "name": "ipython",
    "version": 3
   },
   "file_extension": ".py",
   "mimetype": "text/x-python",
   "name": "python",
   "nbconvert_exporter": "python",
   "pygments_lexer": "ipython3",
   "version": "3.9.2"
  }
 },
 "nbformat": 4,
 "nbformat_minor": 5
}