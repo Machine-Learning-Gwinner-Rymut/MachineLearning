{
 "cells": [
  {
   "cell_type": "code",
   "execution_count": null,
   "id": "c52f19ee",
   "metadata": {
    "slideshow": {
     "slide_type": "skip"
    }
   },
   "outputs": [],
   "source": [
    "import numpy as np"
   ]
  },
  {
   "cell_type": "markdown",
   "id": "54a4e0f8",
   "metadata": {
    "slideshow": {
     "slide_type": "skip"
    }
   },
   "source": [
    "For all the visualisations we will be using the matplotlib library:"
   ]
  },
  {
   "cell_type": "code",
   "execution_count": null,
   "id": "6657abcb",
   "metadata": {
    "slideshow": {
     "slide_type": "skip"
    }
   },
   "outputs": [],
   "source": [
    "import matplotlib.pyplot as plt\n",
    "%matplotlib inline\n",
    "plt.rcParams['figure.figsize'] = (10.0, 8.0)"
   ]
  },
  {
   "cell_type": "markdown",
   "id": "d9210969",
   "metadata": {
    "slideshow": {
     "slide_type": "skip"
    }
   },
   "source": [
    "The second line above is an example of jupyter \"magic command\". This one ensures that the figures produced by matplotlib commands will be automatically displayed, without need for an explicit `show()` command. Third line sets the default figure size. "
   ]
  },
  {
   "cell_type": "markdown",
   "id": "e1fcc332",
   "metadata": {
    "slideshow": {
     "slide_type": "slide"
    }
   },
   "source": [
    "## Supervised learning"
   ]
  },
  {
   "cell_type": "markdown",
   "id": "b98b5cd7",
   "metadata": {
    "slideshow": {
     "slide_type": "skip"
    }
   },
   "source": [
    "Before we dive into deep learning we must establish what we mean by learning. Throughout this lecture we will be concerned only with one form of machine learning (ML) know as **supervised learning**. This is by far most popular  form of ML, one of the reasons being that it is the easiest, which does not mean easy. "
   ]
  },
  {
   "cell_type": "markdown",
   "id": "1363654f",
   "metadata": {
    "slideshow": {
     "slide_type": "skip"
    }
   },
   "source": [
    "With supervised learning we are presented with a sets of examples consistings of features and labels."
   ]
  },
  {
   "cell_type": "markdown",
   "id": "e5a8bcce",
   "metadata": {
    "slideshow": {
     "slide_type": "skip"
    }
   },
   "source": [
    "$\\newcommand{b}[1]{\\mathbf{#1}}$"
   ]
  },
  {
   "cell_type": "markdown",
   "id": "7f3bb561",
   "metadata": {
    "slideshow": {
     "slide_type": "fragment"
    }
   },
   "source": [
    "$$\\begin{array}{ccc}\n",
    "\\text{features} & & \\text{labels}\\\\\n",
    "(x_{0,0},x_{0,1},\\ldots,x_{0,N-1}) &\\rightarrow &  \\left(y_{0,0},y_{0,1},\\ldots,y_{0,M-1}\\right)\\\\\n",
    "(x_{1,0},x_{1,1},\\ldots,x_{1,N-1}) &\\rightarrow &  \\left(y_{1,0},y_{1,1},\\ldots,y_{1,M-1}\\right)\\\\\n",
    "(x_{2,0},x_{2,1},\\ldots,x_{2,N-1}) &\\rightarrow &  \\left(y_{2,0},y_{2,1},\\ldots,y_{2,M-1}\\right)\\\\\n",
    "&\\vdots&\n",
    "\\end{array}\n",
    "$$"
   ]
  },
  {
   "cell_type": "markdown",
   "id": "2997dc7d",
   "metadata": {
    "slideshow": {
     "slide_type": "skip"
    }
   },
   "source": [
    " The goal is to learn the unknow _mapping_ or _function_ from features to labels"
   ]
  },
  {
   "cell_type": "markdown",
   "id": "063276ea",
   "metadata": {
    "slideshow": {
     "slide_type": "fragment"
    }
   },
   "source": [
    "$$\\displaystyle f: \\mathbf{X} \\longrightarrow \\mathbf{Y}$$"
   ]
  },
  {
   "cell_type": "markdown",
   "id": "e077bd61",
   "metadata": {
    "slideshow": {
     "slide_type": "skip"
    }
   },
   "source": [
    "Often such mapping will be called a *model*."
   ]
  },
  {
   "cell_type": "markdown",
   "id": "9feb475d",
   "metadata": {
    "slideshow": {
     "slide_type": "slide"
    }
   },
   "source": [
    "## Loss"
   ]
  },
  {
   "cell_type": "markdown",
   "id": "31972921",
   "metadata": {
    "slideshow": {
     "slide_type": "skip"
    }
   },
   "source": [
    "This is accomplished by defining a loss function that measures how good, or rather how bad is our mapping  in predicting the labels. The loss is usually a sum on losses of each individual feature/label pair   "
   ]
  },
  {
   "cell_type": "markdown",
   "id": "fc4c02f9",
   "metadata": {
    "slideshow": {
     "slide_type": "fragment"
    }
   },
   "source": [
    "$\\newcommand{\\loss}{\\operatorname{loss}}$\n",
    "$$\\loss\\left(\\mathbf{y},\\;f(\\mathbf{x})\\right)=  \\sum_{i} \\loss(\\b{y}_i, f(\\b{x}_i)) $$"
   ]
  },
  {
   "cell_type": "markdown",
   "id": "34dc1b95",
   "metadata": {
    "slideshow": {
     "slide_type": "skip"
    }
   },
   "source": [
    "Then learning can be formaly reframed as problem of finding a mapping that minimizes the loss"
   ]
  },
  {
   "cell_type": "markdown",
   "id": "f63b3566",
   "metadata": {
    "slideshow": {
     "slide_type": "fragment"
    }
   },
   "source": [
    "$\\newcommand{\\argmin}{\\operatorname*{argmin}}$\n",
    "$$f =\\argmin_f\\loss\\left(\\mathbf{y},\\,f(\\mathbf{x})\\right)$$"
   ]
  },
  {
   "cell_type": "markdown",
   "id": "4495fb2a",
   "metadata": {
    "slideshow": {
     "slide_type": "slide"
    }
   },
   "source": [
    "### Mean square loss (MSE)"
   ]
  },
  {
   "cell_type": "markdown",
   "id": "b61c1641",
   "metadata": {
    "slideshow": {
     "slide_type": "skip"
    }
   },
   "source": [
    "An example of loss function would be the mean square loss"
   ]
  },
  {
   "cell_type": "markdown",
   "id": "59257dd8",
   "metadata": {
    "slideshow": {
     "slide_type": "fragment"
    }
   },
   "source": [
    "$$\\loss\\left(\\mathbf{y}_i,\\,f(\\mathbf{x}_i)\\right)=\\frac{1}{2}\\frac{1}{M}\\sum_{j}^M\\left(y_{ij}-f(\\b{x}_i)_j\\right)^2$$"
   ]
  },
  {
   "cell_type": "markdown",
   "id": "511eea4d",
   "metadata": {
    "slideshow": {
     "slide_type": "slide"
    }
   },
   "source": [
    "## Distributions"
   ]
  },
  {
   "cell_type": "markdown",
   "id": "4dde81b4",
   "metadata": {
    "slideshow": {
     "slide_type": "skip"
    }
   },
   "source": [
    "The above formulation is too simplistic for most of the real world examples. In reality the mapping from features to labels is seldom deterministic. So instead of mapping the relation between features and labels is better described by a conditional distribution "
   ]
  },
  {
   "cell_type": "markdown",
   "id": "1798df5a",
   "metadata": {
    "slideshow": {
     "slide_type": "fragment"
    }
   },
   "source": [
    "$$P(\\b{y}|\\b{x})$$"
   ]
  },
  {
   "cell_type": "markdown",
   "id": "57da6949",
   "metadata": {
    "slideshow": {
     "slide_type": "skip"
    }
   },
   "source": [
    "that represenst the probability that given features $\\b{x}$ labels will have value $\\b{y}$. "
   ]
  },
  {
   "cell_type": "markdown",
   "id": "9429a36f",
   "metadata": {
    "slideshow": {
     "slide_type": "skip"
    }
   },
   "source": [
    "Then we proceed in the same way as before  looking for a distribution that mininimilizes the loss with respect to the data"
   ]
  },
  {
   "cell_type": "markdown",
   "id": "589095ab",
   "metadata": {
    "slideshow": {
     "slide_type": "fragment"
    }
   },
   "source": [
    "$$P = \\argmin_{\\tilde{P}}\\loss\\left(\\mathbf{y},\\b{x},\\tilde{P}\\right)$$"
   ]
  },
  {
   "cell_type": "markdown",
   "id": "da44466d",
   "metadata": {
    "slideshow": {
     "slide_type": "slide"
    }
   },
   "source": [
    "### Negative Logarithm Likelihood (NLL)"
   ]
  },
  {
   "cell_type": "markdown",
   "id": "4a1cec71",
   "metadata": {
    "slideshow": {
     "slide_type": "skip"
    }
   },
   "source": [
    "Given a distribution $P$ and the data, one measure of goodness of fit would be  the likelihood: the probability that we observed our data under this distribution. The bigger this probability the better this distribution describes the data."
   ]
  },
  {
   "cell_type": "markdown",
   "id": "694ef35a",
   "metadata": {
    "slideshow": {
     "slide_type": "skip"
    }
   },
   "source": [
    "We assume all our examples to be independent so the resulting probability is the product of probabilities of observing each example"
   ]
  },
  {
   "cell_type": "markdown",
   "id": "ac7a885b",
   "metadata": {
    "slideshow": {
     "slide_type": "fragment"
    }
   },
   "source": [
    "$$\\tilde{P}(\\b{y}|\\b{x})=\\prod_{i}\\tilde{P}(\\b{y}_i| \\b{x}_i)$$"
   ]
  },
  {
   "cell_type": "markdown",
   "id": "6bec9fec",
   "metadata": {
    "slideshow": {
     "slide_type": "skip"
    }
   },
   "source": [
    "Taking the logarithm changes the product into a sum. As logarithm is a monotonic function it does not change the location of minima and maxima."
   ]
  },
  {
   "cell_type": "markdown",
   "id": "fefec932",
   "metadata": {
    "slideshow": {
     "slide_type": "fragment"
    }
   },
   "source": [
    "$$\\log \\tilde{P}(\\b{y}|\\b{x})=\\sum_{i}\\log \\tilde{P}(\\b{y}_i| \\b{x}_i)$$"
   ]
  },
  {
   "cell_type": "markdown",
   "id": "b11845ea",
   "metadata": {
    "slideshow": {
     "slide_type": "skip"
    }
   },
   "source": [
    "And finally taking the negative assures us that the results is non negative and makes it a loss function as now a bigger the value indicates a worst match"
   ]
  },
  {
   "cell_type": "markdown",
   "id": "87c8a0fb",
   "metadata": {
    "slideshow": {
     "slide_type": "fragment"
    }
   },
   "source": [
    "$$-\\sum_{i}\\log \\tilde P(\\b{y}_i| \\b{x}_i)$$"
   ]
  },
  {
   "cell_type": "markdown",
   "id": "e7e5d8a0",
   "metadata": {
    "slideshow": {
     "slide_type": "slide"
    }
   },
   "source": [
    "## Cross entropy"
   ]
  },
  {
   "cell_type": "markdown",
   "id": "2d63c04d",
   "metadata": {
    "slideshow": {
     "slide_type": "fragment"
    }
   },
   "source": [
    "$$-\\frac{1}{N}\\sum_{i}\\log \\tilde P(\\b{y}_i| \\b{x}_i)\\approx \\left\\langle\\log \\tilde P(\\b{y}_i| \\b{x}_i)\\right\\rangle\n",
    "=\\int\\text{d}\\b{x} P(\\b{x})\\int\\text{d}\\b{y} P(\\b{y}| \\b{x})\\log \\tilde P(\\b{y}| \\b{x})$$"
   ]
  },
  {
   "cell_type": "markdown",
   "id": "5c9b5d58",
   "metadata": {
    "slideshow": {
     "slide_type": "skip"
    }
   },
   "source": [
    "The maximal likelihood is a general method of finding loss functions. Let's see some examples. We start with regression"
   ]
  },
  {
   "cell_type": "markdown",
   "id": "b0fee968",
   "metadata": {
    "slideshow": {
     "slide_type": "slide"
    }
   },
   "source": [
    "## Regression"
   ]
  },
  {
   "cell_type": "markdown",
   "id": "4dc5627b",
   "metadata": {
    "slideshow": {
     "slide_type": "skip"
    }
   },
   "source": [
    "We assume that we are given noisy data "
   ]
  },
  {
   "cell_type": "markdown",
   "id": "507a1cfd",
   "metadata": {
    "slideshow": {
     "slide_type": "fragment"
    }
   },
   "source": [
    "$$y_i = f(x_i)+\\epsilon_i\\quad \\epsilon_i \\sim \\mathcal{N}(0,\\sigma)$$ "
   ]
  },
  {
   "cell_type": "markdown",
   "id": "b42563fa",
   "metadata": {
    "slideshow": {
     "slide_type": "skip"
    }
   },
   "source": [
    "in other words $y_i$ is drawn from the distribution "
   ]
  },
  {
   "cell_type": "markdown",
   "id": "8f507b7e",
   "metadata": {
    "slideshow": {
     "slide_type": "fragment"
    }
   },
   "source": [
    "$$y_i \\sim \\mathcal{N}\\left(f(x_i),\\sigma\\right)$$"
   ]
  },
  {
   "cell_type": "markdown",
   "id": "d91d6fea",
   "metadata": {
    "slideshow": {
     "slide_type": "skip"
    }
   },
   "source": [
    "so\n"
   ]
  },
  {
   "cell_type": "markdown",
   "id": "c39d90dc",
   "metadata": {
    "slideshow": {
     "slide_type": "slide"
    }
   },
   "source": [
    "$$P(\\b{y}|\\b{x}) = \\sum_i \\frac{1}{\\sqrt{2\\pi}\\sigma}e^{\\displaystyle-\\frac{\\left(y_i-f(x_i)\\right)^2}{2\\sigma^2}}$$"
   ]
  },
  {
   "cell_type": "markdown",
   "id": "d20c9ee7",
   "metadata": {
    "slideshow": {
     "slide_type": "skip"
    }
   },
   "source": [
    "and "
   ]
  },
  {
   "cell_type": "markdown",
   "id": "0e3774c7",
   "metadata": {
    "slideshow": {
     "slide_type": "fragment"
    }
   },
   "source": [
    "$$-\\log P(\\b{y}|\\b{x}) = N\\frac{1}{2}\\log\\left(2 \\pi \\sigma^2\\right) + \\frac{1}{2 \\sigma^2}\\sum_{i}\\left(y_i-f(x_i)\\right)^2  $$"
   ]
  },
  {
   "cell_type": "markdown",
   "id": "97446a6e",
   "metadata": {
    "slideshow": {
     "slide_type": "skip"
    }
   },
   "source": [
    "For simplicity let's assume that we know $\\sigma$ then optimizing NNL is same as optimizing MSE. This remain true even if we don't know $\\sigma$ (why?). "
   ]
  },
  {
   "cell_type": "markdown",
   "id": "5d58a682",
   "metadata": {
    "slideshow": {
     "slide_type": "slide"
    }
   },
   "source": [
    "## Classification"
   ]
  },
  {
   "cell_type": "markdown",
   "id": "cae94f70",
   "metadata": {
    "slideshow": {
     "slide_type": "skip"
    }
   },
   "source": [
    "In classification the labels form  a discrete set of classes: "
   ]
  },
  {
   "cell_type": "markdown",
   "id": "0d9bac1c",
   "metadata": {
    "slideshow": {
     "slide_type": "fragment"
    }
   },
   "source": [
    "$$\\b{Y}=\\{C_0,\\ldots,C_{M-1}\\}$$"
   ]
  },
  {
   "cell_type": "markdown",
   "id": "01ac272a",
   "metadata": {
    "slideshow": {
     "slide_type": "skip"
    }
   },
   "source": [
    "and the goal of the algorith is to predict the class $C_j$ given the feature vector $\\b{x}$. Instead of predicting the labels directlty we will be predicting the conditional probability that an exemplar with given features vector belongs to given class:"
   ]
  },
  {
   "cell_type": "markdown",
   "id": "2b46467c",
   "metadata": {
    "slideshow": {
     "slide_type": "skip"
    }
   },
   "source": [
    "Having the set of features and labels the probaility that we have observed the labels under distribution $P$ is"
   ]
  },
  {
   "cell_type": "markdown",
   "id": "335b05b4",
   "metadata": {
    "slideshow": {
     "slide_type": "fragment"
    }
   },
   "source": [
    "$$\\prod_i P(y_i|\\b{x}_i) $$"
   ]
  },
  {
   "cell_type": "markdown",
   "id": "418991e8",
   "metadata": {
    "slideshow": {
     "slide_type": "skip"
    }
   },
   "source": [
    "which converts to negative likelihood loss:"
   ]
  },
  {
   "cell_type": "markdown",
   "id": "3c419ca9",
   "metadata": {
    "slideshow": {
     "slide_type": "fragment"
    }
   },
   "source": [
    "$$-\\sum_i \\log P(y_i|\\b{x}_i) =-\\sum_i \\sum_j l_{ij} \\log P(C_j|\\b{x}_i)$$"
   ]
  },
  {
   "cell_type": "markdown",
   "id": "2167355d",
   "metadata": {
    "slideshow": {
     "slide_type": "skip"
    }
   },
   "source": [
    "Vector $\\b{l}_i$ is a one-hot encoding of label $y_i$: "
   ]
  },
  {
   "cell_type": "markdown",
   "id": "1482e0c4",
   "metadata": {
    "slideshow": {
     "slide_type": "fragment"
    }
   },
   "source": [
    "$$l_{ij}= \\begin{cases}\n",
    "1 & y_i=C_j\\\\\n",
    "0 & \\text{otherwise}\n",
    "\\end{cases}\n",
    "$$"
   ]
  },
  {
   "cell_type": "markdown",
   "id": "3be93078",
   "metadata": {
    "slideshow": {
     "slide_type": "slide"
    }
   },
   "source": [
    "## Regression example"
   ]
  },
  {
   "cell_type": "markdown",
   "id": "63e9e2f5",
   "metadata": {
    "slideshow": {
     "slide_type": "skip"
    }
   },
   "source": [
    "We will load some prepared data"
   ]
  },
  {
   "cell_type": "code",
   "execution_count": null,
   "id": "4e58a88a",
   "metadata": {
    "slideshow": {
     "slide_type": "fragment"
    }
   },
   "outputs": [],
   "source": [
    "data = np.load(\"../data/sgd_data.npy\")"
   ]
  },
  {
   "cell_type": "markdown",
   "id": "652e1043",
   "metadata": {
    "slideshow": {
     "slide_type": "skip"
    }
   },
   "source": [
    "and take first 50 rows of it. "
   ]
  },
  {
   "cell_type": "code",
   "execution_count": null,
   "id": "b49bbef4",
   "metadata": {
    "slideshow": {
     "slide_type": "fragment"
    }
   },
   "outputs": [],
   "source": [
    "rxs = data[:50,0]\n",
    "rys = data[:50,1]"
   ]
  },
  {
   "cell_type": "markdown",
   "id": "c80c867e",
   "metadata": {
    "slideshow": {
     "slide_type": "skip"
    }
   },
   "source": [
    "That's how the data looks like:"
   ]
  },
  {
   "cell_type": "code",
   "execution_count": null,
   "id": "42161218",
   "metadata": {
    "slideshow": {
     "slide_type": "slide"
    }
   },
   "outputs": [],
   "source": [
    "plt.scatter(rxs,rys, alpha=0.7, color='none', edgecolor=\"black\");"
   ]
  },
  {
   "cell_type": "markdown",
   "id": "04eeadda",
   "metadata": {
    "slideshow": {
     "slide_type": "skip"
    }
   },
   "source": [
    "To find the mapping corresponding to this data we will use the MSE loss. Untill now all was rather abstract, we were talking about optimizing over a space of all possible functions. That's obviously not possible. The way to proceed is to take a familly of functions parametrized with some set of parameters and optimize over the space of those parameters. "
   ]
  },
  {
   "cell_type": "markdown",
   "id": "8d13cf9c",
   "metadata": {
    "slideshow": {
     "slide_type": "slide"
    }
   },
   "source": [
    "## Model capacity, underfitting and overfitting"
   ]
  },
  {
   "cell_type": "markdown",
   "id": "1adf7fe3",
   "metadata": {
    "slideshow": {
     "slide_type": "skip"
    }
   },
   "source": [
    "A popular familly of functions are the polynomials of a given degree, the parameters being the polynomial coefficients.  "
   ]
  },
  {
   "cell_type": "markdown",
   "id": "e4790a03",
   "metadata": {
    "slideshow": {
     "slide_type": "skip"
    }
   },
   "source": [
    "We will be not fitting the polynomials ourself. Instead we will use a  function `polyfit` from numpy that performs the optimization with respect to MSE loss. Then we will use function `polyval` to calculate the predictons and error:"
   ]
  },
  {
   "cell_type": "code",
   "execution_count": null,
   "id": "be838227",
   "metadata": {
    "slideshow": {
     "slide_type": "fragment"
    }
   },
   "outputs": [],
   "source": [
    "train_errors = []\n",
    "polys  = []\n",
    "for deg in range(28):\n",
    "    p = np.polyfit(rxs, rys,deg)\n",
    "    polys.append(p)\n",
    "    pred_rys = np.polyval(p, rxs) \n",
    "    resid = pred_rys-rys\n",
    "    err_train= 0.5*np.dot(resid, resid)/len(rxs)\n",
    "    train_errors.append(np.array([deg, err_train]))\n",
    "fit_res_train = np.stack(train_errors,axis=0)    "
   ]
  },
  {
   "cell_type": "markdown",
   "id": "1d02dbbe",
   "metadata": {
    "slideshow": {
     "slide_type": "skip"
    }
   },
   "source": [
    "And here is how the MSE looks as a function of the polynomial degree:"
   ]
  },
  {
   "cell_type": "code",
   "execution_count": null,
   "id": "9a18b31f",
   "metadata": {
    "slideshow": {
     "slide_type": "slide"
    }
   },
   "outputs": [],
   "source": [
    "plt.grid()\n",
    "plt.scatter(fit_res_train[:,0], fit_res_train[:,1]);"
   ]
  },
  {
   "cell_type": "markdown",
   "id": "4ad9831e",
   "metadata": {
    "slideshow": {
     "slide_type": "skip"
    }
   },
   "source": [
    "As you can see the error is high for low degrees and then falls sharply around degree five (could you predict that looking at the data?) and continues to decrease, albeit slowly,  as the degree increases. "
   ]
  },
  {
   "cell_type": "markdown",
   "id": "cc451540",
   "metadata": {
    "slideshow": {
     "slide_type": "skip"
    }
   },
   "source": [
    "This is a typical behaviour. The polynomial degree is a measure of the model *capacity*. Clearly a polynomial of degree zero (a constant) or one (straight line) is not capable of representing the data. We say that the model *underfits*. As the degree increases the model can represent a larger class of functions and the error gets smaller. Does it mean that we should look for polynomials of yet higher degrees?    "
   ]
  },
  {
   "cell_type": "markdown",
   "id": "26ae0bf4",
   "metadata": {
    "slideshow": {
     "slide_type": "skip"
    }
   },
   "source": [
    "To answer this questions let's take another 25 examples from the data"
   ]
  },
  {
   "cell_type": "code",
   "execution_count": null,
   "id": "013dd834",
   "metadata": {
    "slideshow": {
     "slide_type": "slide"
    }
   },
   "outputs": [],
   "source": [
    "rxs_valid = data[50:75,0]\n",
    "rys_valid = data[50:75,1]"
   ]
  },
  {
   "cell_type": "markdown",
   "id": "68eec404",
   "metadata": {
    "slideshow": {
     "slide_type": "skip"
    }
   },
   "source": [
    "And check how the model performs on them"
   ]
  },
  {
   "cell_type": "code",
   "execution_count": null,
   "id": "0e9b3ea8",
   "metadata": {
    "slideshow": {
     "slide_type": "skip"
    }
   },
   "outputs": [],
   "source": [
    "validation_errors =[]\n",
    "for deg in range(28):\n",
    "    p = polys[deg]\n",
    "    pred_ys = np.polyval(p, rxs_valid) \n",
    "    resid = pred_ys-rys_valid\n",
    "    err_valid= 0.5*np.dot(resid, resid)/len(rxs_valid)\n",
    "    validation_errors.append(np.array([deg, err_valid]))\n",
    "fit_res_valid = np.stack(validation_errors, axis=0)    "
   ]
  },
  {
   "cell_type": "code",
   "execution_count": null,
   "id": "5dae4756",
   "metadata": {
    "slideshow": {
     "slide_type": "slide"
    }
   },
   "outputs": [],
   "source": [
    "filter = ((fit_res_valid[:,0]>0) & (fit_res_valid[:,0]<25) )\n",
    "plt.scatter(fit_res_train[filter,0], fit_res_train[filter,1])\n",
    "plt.scatter(fit_res_valid[filter,0], fit_res_valid[filter,1], c='red');"
   ]
  },
  {
   "cell_type": "markdown",
   "id": "185979d0",
   "metadata": {
    "slideshow": {
     "slide_type": "skip"
    }
   },
   "source": [
    "We see that this *validation error* behaves at the begining similarly to training error. It's decreases with increasing degree. But at certain moment it start to increase in this case quite dramaticaly."
   ]
  },
  {
   "cell_type": "markdown",
   "id": "db21f88a",
   "metadata": {
    "slideshow": {
     "slide_type": "skip"
    }
   },
   "source": [
    "This unfortunately is also typical. Let's look what happens:"
   ]
  },
  {
   "cell_type": "code",
   "execution_count": null,
   "id": "850a5b98",
   "metadata": {
    "slideshow": {
     "slide_type": "slide"
    }
   },
   "outputs": [],
   "source": [
    "xs = np.linspace(-np.pi, np.pi,500)\n",
    "ys = np.polyval(polys[19],xs)\n",
    "plt.scatter(rxs,rys, alpha=0.7, color='none', edgecolor=\"black\", label=\"training\");\n",
    "plt.scatter(rxs_valid,rys_valid, alpha=0.7, color='none', edgecolor=\"red\", label=\"validation\");\n",
    "plt.legend()\n",
    "plt.plot(xs,ys);"
   ]
  },
  {
   "cell_type": "markdown",
   "id": "37f28e11",
   "metadata": {
    "slideshow": {
     "slide_type": "skip"
    }
   },
   "source": [
    "As the capacity of model increases it approximates the training data better and better. But it has **no incentive** to keep error low in the regions outside data points. We say that model *overfits* and does not generalise. "
   ]
  },
  {
   "cell_type": "markdown",
   "id": "b204a1cf",
   "metadata": {
    "slideshow": {
     "slide_type": "slide"
    }
   },
   "source": [
    "### That's why the minimisation of loss on the training set is NOT the goal of  training! This is a mean to an end, which is generalisation, that is low error on data that model was not trained with. "
   ]
  },
  {
   "cell_type": "markdown",
   "id": "127e388a",
   "metadata": {
    "slideshow": {
     "slide_type": "skip"
    }
   },
   "source": [
    "Actually if we wanted the network to be 100%accurate on the data we are traning it on we could just memorise them :) "
   ]
  },
  {
   "cell_type": "markdown",
   "id": "187d8542",
   "metadata": {
    "slideshow": {
     "slide_type": "skip"
    }
   },
   "source": [
    "## Loss vs error"
   ]
  },
  {
   "cell_type": "markdown",
   "id": "6fa6ec76",
   "metadata": {
    "slideshow": {
     "slide_type": "skip"
    }
   },
   "source": [
    "We reserve the name loss to functions that we will optimize (minimize) during the learning. By error we mean any  measure of deviance of the model prediction from the \"groud-truth\". So MSE is both loss function and an error, while NLL is not usually denoted as an error. On contrary percentage of misclasified examples is an error but not a loss function that could be used in gradient descent (see next notebook). "
   ]
  },
  {
   "cell_type": "markdown",
   "id": "5217f99f",
   "metadata": {
    "slideshow": {
     "slide_type": "skip"
    }
   },
   "source": [
    "Loss and error are of course strongly correlated: lower loss usually implies lower error, but at certain point, especially in classification, this may be not the case: reducing loss does not have to decrease the error. "
   ]
  },
  {
   "cell_type": "markdown",
   "id": "d1ea104c",
   "metadata": {
    "slideshow": {
     "slide_type": "skip"
    }
   },
   "source": [
    "That said from the previous regression example we can infer that we have several kinds of error. "
   ]
  },
  {
   "cell_type": "markdown",
   "id": "c0eb5b94",
   "metadata": {
    "slideshow": {
     "slide_type": "slide"
    }
   },
   "source": [
    "## Training error"
   ]
  },
  {
   "cell_type": "markdown",
   "id": "b9a2a010",
   "metadata": {
    "slideshow": {
     "slide_type": "skip"
    }
   },
   "source": [
    "This is the error achieved on the training set i.e. the set used for training the model. The training loss is used as the function to be optimized. As we have seen that does not guarantie us that the model will perform well on other data. "
   ]
  },
  {
   "cell_type": "markdown",
   "id": "a6bb9e70",
   "metadata": {
    "slideshow": {
     "slide_type": "fragment"
    }
   },
   "source": [
    "## Validation error "
   ]
  },
  {
   "cell_type": "markdown",
   "id": "039cdbab",
   "metadata": {
    "slideshow": {
     "slide_type": "skip"
    }
   },
   "source": [
    "This  is the  error on a set of data never seen by the learning model. It is an approximates of the generalisation error which itself is impossible to measure. This is the error that we would like to keep low. "
   ]
  },
  {
   "cell_type": "markdown",
   "id": "a57d1ec2",
   "metadata": {
    "slideshow": {
     "slide_type": "fragment"
    }
   },
   "source": [
    "## Bayes error"
   ]
  },
  {
   "cell_type": "markdown",
   "id": "dfac62d4",
   "metadata": {
    "slideshow": {
     "slide_type": "skip"
    }
   },
   "source": [
    "Let's check the error on the function that was used to produce the data:"
   ]
  },
  {
   "cell_type": "code",
   "execution_count": null,
   "id": "a8980ebb",
   "metadata": {
    "slideshow": {
     "slide_type": "slide"
    }
   },
   "outputs": [],
   "source": [
    "rys_true =  np.sin(2.188*rxs+1)\n",
    "residue = rys_true-rys\n",
    "0.5*np.mean(residue*residue)"
   ]
  },
  {
   "cell_type": "markdown",
   "id": "6c888ac7",
   "metadata": {
    "slideshow": {
     "slide_type": "skip"
    }
   },
   "source": [
    "As you can see it is not zero. That is because the data is noisy and the mapping is not deterministic. This is an error that we will never get rid of, it is inherent in the problem. Sometimes it's called the Bayes error."
   ]
  },
  {
   "cell_type": "code",
   "execution_count": null,
   "id": "425b9dda",
   "metadata": {
    "slideshow": {
     "slide_type": "fragment"
    }
   },
   "outputs": [],
   "source": [
    "ys_true = np.sin(2.188*xs+1)\n",
    "plt.scatter(rxs,rys, alpha=0.7, color='none', edgecolor=\"black\", label=\"training\");\n",
    "plt.scatter(rxs_valid,rys_valid, alpha=0.7, color='none', edgecolor=\"red\", label=\"validation\");\n",
    "plt.legend()\n",
    "plt.plot(xs,ys_true);"
   ]
  },
  {
   "cell_type": "markdown",
   "id": "3f00e1ea",
   "metadata": {
    "slideshow": {
     "slide_type": "slide"
    }
   },
   "source": [
    "## Generalisation"
   ]
  },
  {
   "cell_type": "markdown",
   "id": "bb5fa95f",
   "metadata": {
    "slideshow": {
     "slide_type": "skip"
    }
   },
   "source": [
    "As we have stressed the real goal of training is to train a model that generalises well. However be warned that this is not a well posed problem. To illustrate this please look at the data below"
   ]
  },
  {
   "cell_type": "code",
   "execution_count": null,
   "id": "4784a3f0",
   "metadata": {
    "slideshow": {
     "slide_type": "slide"
    }
   },
   "outputs": [],
   "source": [
    "data_resonance = np.load('../data/resonance.npy')\n",
    "ros = data_resonance[:,0]\n",
    "rAs = data_resonance[:,1]\n",
    "#plt.plot(os, As);\n",
    "plt.scatter(ros,rAs);"
   ]
  },
  {
   "cell_type": "markdown",
   "id": "7ef5cb8b",
   "metadata": {
    "slideshow": {
     "slide_type": "skip"
    }
   },
   "source": [
    "The points seem to lie on a rather simple curve and we can try to approximate it be a polynomial of fourth degree"
   ]
  },
  {
   "cell_type": "code",
   "execution_count": null,
   "id": "9d37c677",
   "metadata": {
    "slideshow": {
     "slide_type": "slide"
    }
   },
   "outputs": [],
   "source": [
    "p  = np.polyfit(ros, rAs,5)\n",
    "xs = np.linspace(-1,1,100)\n",
    "plt.scatter(ros,rAs);\n",
    "plt.plot(xs,np.polyval(p, xs),'-r');"
   ]
  },
  {
   "cell_type": "markdown",
   "id": "079aee73",
   "metadata": {
    "slideshow": {
     "slide_type": "skip"
    }
   },
   "source": [
    "However the real function used to generate the data looks like this"
   ]
  },
  {
   "cell_type": "code",
   "execution_count": null,
   "id": "807a905f",
   "metadata": {
    "slideshow": {
     "slide_type": "skip"
    }
   },
   "outputs": [],
   "source": [
    "from scipy.stats import norm\n",
    "def func(x,a=1,mu=0, sigma=1):\n",
    "    return np.sqrt(1-x*x)+a*norm(mu, sigma).pdf(x) "
   ]
  },
  {
   "cell_type": "code",
   "execution_count": null,
   "id": "d8b7303d",
   "metadata": {
    "slideshow": {
     "slide_type": "skip"
    }
   },
   "outputs": [],
   "source": [
    "a=0.02\n",
    "mu =0.35333\n",
    "sigma = 0.005"
   ]
  },
  {
   "cell_type": "code",
   "execution_count": null,
   "id": "6a565586",
   "metadata": {
    "slideshow": {
     "slide_type": "slide"
    }
   },
   "outputs": [],
   "source": [
    "xs = np.linspace(-1,1,1000)\n",
    "plt.scatter(ros,rAs);\n",
    "plt.plot(xs,np.polyval(p, xs),'-r')\n",
    "plt.plot(xs,func(xs,a,mu, sigma),'-g');"
   ]
  },
  {
   "cell_type": "markdown",
   "id": "01cefe52",
   "metadata": {
    "slideshow": {
     "slide_type": "skip"
    }
   },
   "source": [
    "I admit this is a contrived example but illustrates an important point. The real loss that we would like to optimize is this"
   ]
  },
  {
   "cell_type": "markdown",
   "id": "7abab24b",
   "metadata": {
    "slideshow": {
     "slide_type": "slide"
    }
   },
   "source": [
    "$$\\argmin_{\\tilde{P}}\\int\\text{d}\\b{x} P(\\b{x})\\text{d}\\b{y} P(\\b{y}|\\b{x})\\loss\\left(\\b{y},\\b{x},\\tilde{P}\\right)$$"
   ]
  },
  {
   "cell_type": "markdown",
   "id": "cf76a2b3",
   "metadata": {
    "slideshow": {
     "slide_type": "slide"
    }
   },
   "source": [
    "$$\\int\\text{d}\\b{x} P(\\b{x})\\text{d}\\b{y} P(\\b{y}|\\b{x})\\loss\\left(\\b{y},\\b{x},\\tilde{P}\\right)\n",
    "=E_{P(y,x)}\\left[\\loss\\left(\\b{y},\\b{x},\\tilde{P}\\right)\\right] \n",
    "\\approx \\sum_i \\loss\\left(\\b{y_i},\\b{x_i},\\tilde{P}\\right)\n",
    "$$"
   ]
  },
  {
   "cell_type": "markdown",
   "id": "6fa8ed8c",
   "metadata": {
    "slideshow": {
     "slide_type": "skip"
    }
   },
   "source": [
    "In the above $P$ stands for the real distribution and $\\tilde{P}$ for the model. Calculating  this error requires the knowledge of the real $P$. If we new it we would not be training :( The training and validation losses are an approximation to this formula. But those approximation are good as long as we sample the whole space of $x$. Please note that in general $\\b{X}$ is of very high dimensions.  Sampling the whole space is impossible and we can only sample some \"regions of interest\". In principle the data collected by definition samples the most probable regions, but we may have some hidden \"peaks\": low probability events with big influence on the model."
   ]
  },
  {
   "cell_type": "markdown",
   "id": "331169c1",
   "metadata": {
    "slideshow": {
     "slide_type": "skip"
    }
   },
   "source": [
    "As an example please imagine that you are collecting data while you drive. For example from a camera. How many times did a pedestrian jump in front of you? This is an example of \"peak\" in the data: a low probability event with very big consequences. And we know that pedestrains sometimes walk in front of a car. Sometimes we have no idea that some region of data distribution has been left over. "
   ]
  },
  {
   "cell_type": "markdown",
   "id": "6750392a",
   "metadata": {
    "slideshow": {
     "slide_type": "skip"
    }
   },
   "source": [
    "You can find many, not so dramatic, real examples of unsufficient sampling. Just search for \"data biases\". "
   ]
  },
  {
   "cell_type": "markdown",
   "id": "37f74bf7",
   "metadata": {
    "slideshow": {
     "slide_type": "skip"
    }
   },
   "source": [
    "This is not intended to sound pesimistic. We just want you to remember that with supervised learning **your model will be only as good as your data**. "
   ]
  },
  {
   "cell_type": "markdown",
   "id": "d5ab5732",
   "metadata": {
    "slideshow": {
     "slide_type": "skip"
    }
   },
   "source": [
    "## What comes next"
   ]
  },
  {
   "cell_type": "markdown",
   "id": "a50f8357",
   "metadata": {
    "slideshow": {
     "slide_type": "skip"
    }
   },
   "source": [
    "This notebook was intended to give you a notion of what supervising learning is and of it's limitations. The next notebook will go into technical details how to find the model that minimzes loss function."
   ]
  },
  {
   "cell_type": "markdown",
   "id": "7504bc72",
   "metadata": {
    "slideshow": {
     "slide_type": "slide"
    }
   },
   "source": [
    "## Takeaways"
   ]
  },
  {
   "cell_type": "markdown",
   "id": "65a55627",
   "metadata": {
    "slideshow": {
     "slide_type": "fragment"
    }
   },
   "source": [
    "Supervised learning consists of finding a model that best describes a mapping between sets of features and labels. "
   ]
  },
  {
   "cell_type": "markdown",
   "id": "5cd7f3ee",
   "metadata": {
    "slideshow": {
     "slide_type": "fragment"
    }
   },
   "source": [
    "This is achieved by minimizing a suitably choosen loss function"
   ]
  },
  {
   "cell_type": "markdown",
   "id": "652ee0fa",
   "metadata": {
    "slideshow": {
     "slide_type": "fragment"
    }
   },
   "source": [
    "The goal is to have low validation error, not only the training error. "
   ]
  },
  {
   "cell_type": "markdown",
   "id": "27bf53d3",
   "metadata": {
    "slideshow": {
     "slide_type": "fragment"
    }
   },
   "source": [
    "The model is only as good as the collected data is representative."
   ]
  },
  {
   "cell_type": "code",
   "execution_count": null,
   "id": "1f18dcf9",
   "metadata": {},
   "outputs": [],
   "source": []
  }
 ],
 "metadata": {
  "jupytext": {
   "cell_metadata_json": true,
   "text_representation": {
    "extension": ".Rmd",
    "format_name": "rmarkdown",
    "format_version": "1.2",
    "jupytext_version": "1.11.1"
   }
  },
  "kernelspec": {
   "display_name": "Python 3",
   "language": "python",
   "name": "python3"
  }
 },
 "nbformat": 4,
 "nbformat_minor": 5
}