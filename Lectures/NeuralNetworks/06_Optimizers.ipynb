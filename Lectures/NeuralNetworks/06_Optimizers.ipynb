{
 "cells": [
  {
   "cell_type": "code",
   "execution_count": null,
   "id": "9b5c99bd",
   "metadata": {
    "slideshow": {
     "slide_type": "skip"
    }
   },
   "outputs": [],
   "source": [
    "%load_ext autoreload\n",
    "%autoreload 2"
   ]
  },
  {
   "cell_type": "code",
   "execution_count": null,
   "id": "cd0eb274",
   "metadata": {
    "slideshow": {
     "slide_type": "skip"
    }
   },
   "outputs": [],
   "source": [
    "from IPython.core.display import Image"
   ]
  },
  {
   "cell_type": "code",
   "execution_count": null,
   "id": "3c4b93fc",
   "metadata": {
    "slideshow": {
     "slide_type": "slide"
    }
   },
   "outputs": [],
   "source": [
    "Image(filename='../img//boromir.png')"
   ]
  },
  {
   "cell_type": "markdown",
   "id": "09c4d887",
   "metadata": {
    "slideshow": {
     "slide_type": "skip"
    }
   },
   "source": [
    "<!-- <img src='../img//boromir.png'/> "
   ]
  },
  {
   "cell_type": "code",
   "execution_count": null,
   "id": "a027d0af",
   "metadata": {
    "slideshow": {
     "slide_type": "skip"
    },
    "tags": []
   },
   "outputs": [],
   "source": [
    "import numpy as np\n",
    "import matplotlib.pyplot as plt\n",
    "%matplotlib inline\n",
    "import torch, torchvision"
   ]
  },
  {
   "cell_type": "code",
   "execution_count": null,
   "id": "cc27bb42",
   "metadata": {
    "slideshow": {
     "slide_type": "skip"
    }
   },
   "outputs": [],
   "source": [
    "import sys\n",
    "sys.path.append('../../')\n",
    "from mchlearn import utils"
   ]
  },
  {
   "cell_type": "markdown",
   "id": "23ed217a",
   "metadata": {
    "slideshow": {
     "slide_type": "slide"
    }
   },
   "source": [
    "# Optimizers"
   ]
  },
  {
   "cell_type": "markdown",
   "id": "f4e7417d",
   "metadata": {},
   "source": [
    "[An overview of gradient descent optimization algorithms](http://ruder.io/optimizing-gradient-descent/)"
   ]
  },
  {
   "cell_type": "markdown",
   "id": "85e3fbbd",
   "metadata": {
    "slideshow": {
     "slide_type": "slide"
    }
   },
   "source": [
    "## Gradient Descent"
   ]
  },
  {
   "cell_type": "markdown",
   "id": "7410351d",
   "metadata": {
    "slideshow": {
     "slide_type": "fragment"
    }
   },
   "source": [
    "$$\\begin{align}\n",
    "\\theta_{t+1}& = \\theta^{t}-\\eta\\nabla_\\theta L(\\theta_t)\n",
    "\\end{align}\n",
    "$$"
   ]
  },
  {
   "cell_type": "code",
   "execution_count": null,
   "id": "a453e516",
   "metadata": {
    "slideshow": {
     "slide_type": "slide"
    }
   },
   "outputs": [],
   "source": [
    "data = np.load(\"../data/sgd_data.npy\").astype('float32')"
   ]
  },
  {
   "cell_type": "code",
   "execution_count": null,
   "id": "83d820c7",
   "metadata": {},
   "outputs": [],
   "source": [
    "sin_example = utils.SinFitExample(data)"
   ]
  },
  {
   "cell_type": "code",
   "execution_count": null,
   "id": "6c374886",
   "metadata": {},
   "outputs": [],
   "source": [
    "sin_example.display_data();"
   ]
  },
  {
   "cell_type": "code",
   "execution_count": null,
   "id": "1178896d",
   "metadata": {
    "slideshow": {
     "slide_type": "skip"
    }
   },
   "outputs": [],
   "source": [
    "def fitf(x,o,t):\n",
    "    return np.sin(x*o+t)\n",
    "\n",
    "def fitf_tensor(x,o,t):\n",
    "    return np.moveaxis(np.sin(np.tensordot(np.atleast_1d(x),o,0)+t),0,-1)\n",
    "\n",
    "def mse(f, x, y, o, t):\n",
    "        err = f(x,o,t)-y\n",
    "        return 0.5*np.sum(err*err, axis=-1)/len(x)"
   ]
  },
  {
   "cell_type": "code",
   "execution_count": null,
   "id": "19f92a3f",
   "metadata": {
    "slideshow": {
     "slide_type": "skip"
    }
   },
   "outputs": [],
   "source": [
    "t_rxs = torch.from_numpy(data[:400,0])\n",
    "t_rys = torch.from_numpy(data[:400,1])"
   ]
  },
  {
   "cell_type": "code",
   "execution_count": null,
   "id": "94dbb907",
   "metadata": {
    "slideshow": {
     "slide_type": "skip"
    }
   },
   "outputs": [],
   "source": [
    "loss_f = torch.nn.MSELoss()"
   ]
  },
  {
   "cell_type": "code",
   "execution_count": null,
   "id": "ac998ccd",
   "metadata": {
    "slideshow": {
     "slide_type": "slide"
    }
   },
   "outputs": [],
   "source": [
    "rdataset = torch.utils.data.TensorDataset(t_rxs, t_rys)"
   ]
  },
  {
   "cell_type": "code",
   "execution_count": null,
   "id": "06c10da0",
   "metadata": {
    "slideshow": {
     "slide_type": "slide"
    }
   },
   "outputs": [],
   "source": [
    "onebatchloader = torch.utils.data.DataLoader(rdataset, batch_size=len(rdataset), shuffle=False);"
   ]
  },
  {
   "cell_type": "code",
   "execution_count": null,
   "id": "44533a92",
   "metadata": {
    "slideshow": {
     "slide_type": "-"
    }
   },
   "outputs": [],
   "source": [
    "p = torch.FloatTensor([3.2,-0.4])\n",
    "p.requires_grad_(True)\n",
    "gd = torch.optim.SGD([p], lr=0.2)\n",
    "sin_example.run_example(p, gd, onebatchloader);"
   ]
  },
  {
   "cell_type": "code",
   "execution_count": null,
   "id": "f27c4d44",
   "metadata": {
    "slideshow": {
     "slide_type": "slide"
    }
   },
   "outputs": [],
   "source": [
    "batch_data_loader = torch.utils.data.DataLoader(rdataset, batch_size=50, shuffle=True)"
   ]
  },
  {
   "cell_type": "code",
   "execution_count": null,
   "id": "64757acb",
   "metadata": {},
   "outputs": [],
   "source": [
    "p = torch.FloatTensor([3.2,-0.4])\n",
    "p.requires_grad_(True)\n",
    "gd = torch.optim.SGD([p], lr=0.2)\n",
    "sin_example.run_example(p, gd, batch_data_loader);"
   ]
  },
  {
   "cell_type": "markdown",
   "id": "2897c361",
   "metadata": {
    "slideshow": {
     "slide_type": "slide"
    }
   },
   "source": [
    "## \"Ravine\""
   ]
  },
  {
   "cell_type": "code",
   "execution_count": null,
   "id": "7f924e44",
   "metadata": {
    "slideshow": {
     "slide_type": "fragment"
    }
   },
   "outputs": [],
   "source": [
    "rav_par = np.asarray([1.0,10.0]).astype('float32')"
   ]
  },
  {
   "cell_type": "code",
   "execution_count": null,
   "id": "4107669d",
   "metadata": {
    "slideshow": {
     "slide_type": "fragment"
    }
   },
   "outputs": [],
   "source": [
    "ravine_example = utils.RavineExample(rav_par)"
   ]
  },
  {
   "cell_type": "code",
   "execution_count": null,
   "id": "40a8e223",
   "metadata": {
    "slideshow": {
     "slide_type": "slide"
    }
   },
   "outputs": [],
   "source": [
    "p = torch.FloatTensor([-8, 3])\n",
    "p.requires_grad_(True);\n",
    "gd = torch.optim.SGD([p], lr=0.01)\n",
    "ravine_example.run_example(p, gd,100,1.0 );"
   ]
  },
  {
   "cell_type": "markdown",
   "id": "42877f94",
   "metadata": {
    "slideshow": {
     "slide_type": "slide"
    }
   },
   "source": [
    "## Gradient Descent with Momentum"
   ]
  },
  {
   "cell_type": "markdown",
   "id": "fccb6ea5",
   "metadata": {
    "slideshow": {
     "slide_type": "fragment"
    }
   },
   "source": [
    "$$\\begin{align}\n",
    "v_{t+1}& = \\mu v_{t} + (1-\\beta)\\nabla_\\theta L(\\theta_t)\\\\\n",
    "\\theta_{t+1}& = \\theta_{t}-\\eta v_{t+1}\n",
    "\\end{align}\n",
    "$$"
   ]
  },
  {
   "cell_type": "code",
   "execution_count": null,
   "id": "a8da29b1",
   "metadata": {
    "slideshow": {
     "slide_type": "slide"
    }
   },
   "outputs": [],
   "source": [
    "p = torch.FloatTensor([-8, 3])\n",
    "p.requires_grad_(True);\n",
    "gd = torch.optim.SGD([p], lr=0.021, momentum=0.5)\n",
    "ravine_example.run_example(p, gd,100,1.0 );"
   ]
  },
  {
   "cell_type": "code",
   "execution_count": null,
   "id": "178cdbae",
   "metadata": {
    "slideshow": {
     "slide_type": "slide"
    }
   },
   "outputs": [],
   "source": [
    "p = torch.FloatTensor([3.2,-0.4])\n",
    "p.requires_grad_(True)\n",
    "gd = torch.optim.SGD([p], lr=0.01, momentum=0.9)\n",
    "sin_example.run_example(p, gd, batch_data_loader);"
   ]
  },
  {
   "cell_type": "markdown",
   "id": "af2301d9",
   "metadata": {
    "slideshow": {
     "slide_type": "slide"
    }
   },
   "source": [
    "$$\\begin{align}\n",
    "v_{t+1}& = \\mu v_{t} + (1-\\beta)\\nabla_\\theta L(\\theta_t)\\\\\n",
    "\\theta_{t+1}& = \\theta_{t}-\\eta v_{t+1}\n",
    "\\end{align}\n",
    "$$"
   ]
  },
  {
   "cell_type": "markdown",
   "id": "49321fed",
   "metadata": {
    "slideshow": {
     "slide_type": "fragment"
    }
   },
   "source": [
    "$$v_{t+1} = \\mu v_{t} + (1-\\beta)g_t$$"
   ]
  },
  {
   "cell_type": "markdown",
   "id": "65ea035f",
   "metadata": {
    "slideshow": {
     "slide_type": "fragment"
    }
   },
   "source": [
    "$$v_1 = (1-\\beta)g_0$$"
   ]
  },
  {
   "cell_type": "markdown",
   "id": "c87433a1",
   "metadata": {
    "slideshow": {
     "slide_type": "fragment"
    }
   },
   "source": [
    "$$v_2 = \\mu (1-\\beta)g_0+(1-\\beta) g_1$$"
   ]
  },
  {
   "cell_type": "markdown",
   "id": "3fb8f63d",
   "metadata": {
    "slideshow": {
     "slide_type": "fragment"
    }
   },
   "source": [
    "$$v_3 = \\mu\\left(\\mu (1-\\beta)g_0+(1-\\beta) g_1\\right)+(1-\\beta)g_2$$"
   ]
  },
  {
   "cell_type": "markdown",
   "id": "f2acbb50",
   "metadata": {
    "slideshow": {
     "slide_type": "slide"
    }
   },
   "source": [
    "$$v_3 = \\mu^2 (1-\\beta)g_0+\\mu (1-\\beta) g_1\n",
    "+(1-\\beta)g_2$$"
   ]
  },
  {
   "cell_type": "markdown",
   "id": "d92fb847",
   "metadata": {
    "slideshow": {
     "slide_type": "fragment"
    }
   },
   "source": [
    "$$v_t = (1-\\beta)\\sum_{i=1}^t \\mu^{i-1}g_{t-i}$$"
   ]
  },
  {
   "cell_type": "code",
   "execution_count": null,
   "id": "15d60095",
   "metadata": {
    "slideshow": {
     "slide_type": "slide"
    }
   },
   "outputs": [],
   "source": [
    "ns = np.arange(0,100)\n",
    "for mu in [0.9, 0.7,0.5, 0.25]:\n",
    "    plt.plot(ns,mu**ns,'.', label=\"%4.2f\" % (mu,))\n",
    "plt.legend();"
   ]
  },
  {
   "cell_type": "markdown",
   "id": "b0e86288",
   "metadata": {
    "slideshow": {
     "slide_type": "slide"
    }
   },
   "source": [
    "## Nesterov Accelerated Gradient Descent"
   ]
  },
  {
   "cell_type": "code",
   "execution_count": null,
   "id": "1e52f1b4",
   "metadata": {
    "slideshow": {
     "slide_type": "fragment"
    }
   },
   "outputs": [],
   "source": [
    "Image(filename=\"nesterov_update_vector.png\")"
   ]
  },
  {
   "cell_type": "markdown",
   "id": "3ccefb7a",
   "metadata": {
    "slideshow": {
     "slide_type": "slide"
    }
   },
   "source": [
    "$$\\begin{align}\n",
    "v_{t+1}& = \\mu v_{t} + \\nabla_\\theta L(\\theta_t-\\eta \\mu v_t)\\\\\n",
    "\\theta_{t+1}& = \\theta_{t}-\\eta v_{t+1}\n",
    "\\end{align}\n",
    "$$"
   ]
  },
  {
   "cell_type": "markdown",
   "id": "f06585f5",
   "metadata": {
    "slideshow": {
     "slide_type": "fragment"
    }
   },
   "source": [
    "$$r_t = \\theta_t-\\eta\\mu v_t$$\n",
    "$$\\theta_t = r_t+\\eta\\mu v_t$$"
   ]
  },
  {
   "cell_type": "markdown",
   "id": "54e96f79",
   "metadata": {
    "slideshow": {
     "slide_type": "fragment"
    }
   },
   "source": [
    "$$\\begin{align}\n",
    "v_{t+1}& = \\mu v_{t} + \\nabla_r L(r)\\\\\n",
    "r_{t+1}& = r_{t}-\\eta\\left(\\nabla_r L(r) +\\mu v^{t+1}\\right)\n",
    "\\end{align}\n",
    "$$"
   ]
  },
  {
   "cell_type": "code",
   "execution_count": null,
   "id": "894eb289",
   "metadata": {
    "slideshow": {
     "slide_type": "slide"
    }
   },
   "outputs": [],
   "source": [
    "p = torch.FloatTensor([-8, 3])\n",
    "p.requires_grad_(True);\n",
    "gd = torch.optim.SGD([p], lr=0.01, momentum=0.9, nesterov=True)\n",
    "ravine_example.run_example(p, gd,100,1.0 );"
   ]
  },
  {
   "cell_type": "code",
   "execution_count": null,
   "id": "3a80f90a",
   "metadata": {
    "slideshow": {
     "slide_type": "slide"
    }
   },
   "outputs": [],
   "source": [
    "p = torch.FloatTensor([3.2,-0.4])\n",
    "p.requires_grad_(True)\n",
    "gd = torch.optim.SGD([p], lr=0.03, momentum=0.9, nesterov=True)\n",
    "sin_example.run_example(p, gd, batch_data_loader);"
   ]
  },
  {
   "cell_type": "markdown",
   "id": "73d6b4cf",
   "metadata": {
    "slideshow": {
     "slide_type": "slide"
    }
   },
   "source": [
    "## Adaptive gradient: Adagrad"
   ]
  },
  {
   "cell_type": "markdown",
   "id": "bc27bc27",
   "metadata": {
    "slideshow": {
     "slide_type": "fragment"
    }
   },
   "source": [
    "$$\\begin{align}\n",
    "v_{t+1}& =\\nabla_\\theta L(\\theta^t)\\\\\n",
    "G_{t+1}&=G_{t}+\\left(\\nabla_\\theta L(\\theta_t)\\right)^2\\\\\n",
    "\\theta_{t+1}& = \\theta_{t}-\\frac{\\eta}{\\sqrt{G_{t+1}+\\epsilon}} v_{t+1}\n",
    "\\end{align}\n",
    "$$"
   ]
  },
  {
   "cell_type": "code",
   "execution_count": null,
   "id": "75491458",
   "metadata": {
    "slideshow": {
     "slide_type": "slide"
    }
   },
   "outputs": [],
   "source": [
    "p = torch.FloatTensor([-8, 3])\n",
    "p.requires_grad_(True);\n",
    "gd = torch.optim.Adagrad([p], lr=2.0)\n",
    "ravine_example.run_example(p, gd,100,1.0 );"
   ]
  },
  {
   "cell_type": "code",
   "execution_count": null,
   "id": "679934da",
   "metadata": {
    "slideshow": {
     "slide_type": "slide"
    }
   },
   "outputs": [],
   "source": [
    "p = torch.FloatTensor([3.2,-0.4])\n",
    "p.requires_grad_(True)\n",
    "gd = torch.optim.Adagrad([p], lr=.2)\n",
    "sin_example.run_example(p, gd, batch_data_loader);"
   ]
  },
  {
   "cell_type": "markdown",
   "id": "9888db5e",
   "metadata": {
    "slideshow": {
     "slide_type": "slide"
    }
   },
   "source": [
    "## RMSProp"
   ]
  },
  {
   "cell_type": "markdown",
   "id": "a7dfec35",
   "metadata": {
    "slideshow": {
     "slide_type": "fragment"
    }
   },
   "source": [
    "$$\\begin{align}\n",
    "v_{t+1}& =\\nabla_\\theta L(\\theta_t)\\\\\n",
    "E[g^2]_{t+1}&=\\gamma E[g^2]_t+(1-\\gamma)\\left(\\nabla_\\theta L(\\theta_t)\\right)^2\\\\\n",
    "\\theta_{t+1}& = \\theta_{t}-\\frac{\\eta}{\\sqrt{E[g^2]_{t+1}+\\epsilon}} v_{t+1}\n",
    "\\end{align}\n",
    "$$"
   ]
  },
  {
   "cell_type": "code",
   "execution_count": null,
   "id": "ee08e9b1",
   "metadata": {
    "slideshow": {
     "slide_type": "slide"
    }
   },
   "outputs": [],
   "source": [
    "p = torch.FloatTensor([-8, 3])\n",
    "p.requires_grad_(True);\n",
    "gd = torch.optim.RMSprop([p], lr=1.0)\n",
    "ravine_example.run_example(p, gd,100,1.0 );"
   ]
  },
  {
   "cell_type": "code",
   "execution_count": null,
   "id": "95917a65",
   "metadata": {
    "slideshow": {
     "slide_type": "slide"
    }
   },
   "outputs": [],
   "source": [
    "p = torch.FloatTensor([3.2,-0.4])\n",
    "p.requires_grad_(True)\n",
    "gd = torch.optim.RMSprop([p], lr=0.1)\n",
    "sin_example.run_example(p, gd, batch_data_loader);"
   ]
  },
  {
   "cell_type": "markdown",
   "id": "e7e54848",
   "metadata": {
    "slideshow": {
     "slide_type": "slide"
    }
   },
   "source": [
    "## Adadelta"
   ]
  },
  {
   "cell_type": "markdown",
   "id": "073394b1",
   "metadata": {
    "slideshow": {
     "slide_type": "skip"
    }
   },
   "source": [
    "Units do not match! "
   ]
  },
  {
   "cell_type": "markdown",
   "id": "d070dd3b",
   "metadata": {
    "slideshow": {
     "slide_type": "fragment"
    }
   },
   "source": [
    "$$\\begin{align}\n",
    "v^{t+1}& =\\nabla_\\theta L(\\theta^t)\\\\\n",
    "E[g^2]_{t+1}&=\\gamma E[g^2]_t+(1-\\gamma)\\left(\\nabla_\\theta L(\\theta^t)\\right)^2\\\\\n",
    "E[\\Delta\\theta^2]_t & = \\gamma E[\\Delta\\theta]_{t-1} +(1-\\gamma)\\Delta\\theta^2_t\\\\\n",
    "\\theta_{t+1}& = \\theta_{t}-\\frac{\\eta E[\\Delta\\theta^2]_t}{\\sqrt{E[g^2]_{t+1}+\\epsilon}} v_{t+1}\n",
    "\\end{align}\n",
    "$$"
   ]
  },
  {
   "cell_type": "code",
   "execution_count": null,
   "id": "3704ce08",
   "metadata": {
    "slideshow": {
     "slide_type": "slide"
    }
   },
   "outputs": [],
   "source": [
    "p = torch.FloatTensor([-8, 3])\n",
    "p.requires_grad_(True);\n",
    "gd = torch.optim.Adadelta([p], lr=4.0)\n",
    "ravine_example.run_example(p, gd,2100,1.0 );"
   ]
  },
  {
   "cell_type": "code",
   "execution_count": null,
   "id": "cedc041d",
   "metadata": {
    "slideshow": {
     "slide_type": "slide"
    }
   },
   "outputs": [],
   "source": [
    "p = torch.FloatTensor([3.2,-0.4])\n",
    "p.requires_grad_(True)\n",
    "gd = torch.optim.Adadelta([p], lr=4.0)\n",
    "sin_example.run_example(p, gd, batch_data_loader);"
   ]
  },
  {
   "cell_type": "markdown",
   "id": "064355b9",
   "metadata": {
    "slideshow": {
     "slide_type": "slide"
    }
   },
   "source": [
    "### Adam: Adaptive Momentum Estimation "
   ]
  },
  {
   "cell_type": "markdown",
   "id": "db615ace",
   "metadata": {
    "slideshow": {
     "slide_type": "fragment"
    }
   },
   "source": [
    "$$\\begin{split}\n",
    "m_t &= \\beta_1 m_{t-1} + (1-\\beta_1) g_t \\\\\n",
    "v_t &= \\beta_2 v_{t-1} + (1-\\beta_2) g^2_t \\\\\n",
    "\\end{split}\n",
    "$$"
   ]
  },
  {
   "cell_type": "markdown",
   "id": "84e8b53f",
   "metadata": {
    "slideshow": {
     "slide_type": "fragment"
    }
   },
   "source": [
    "$$\\theta_{t+1} = \\theta_t -\\frac{\\eta}{\\sqrt{v}+\\epsilon}m_t $$"
   ]
  },
  {
   "cell_type": "code",
   "execution_count": null,
   "id": "457c615d",
   "metadata": {
    "slideshow": {
     "slide_type": "slide"
    }
   },
   "outputs": [],
   "source": [
    "p = torch.FloatTensor([-8, 3])\n",
    "p.requires_grad_(True);\n",
    "gd = torch.optim.Adam([p], lr=0.5)\n",
    "ravine_example.run_example(p, gd,2100,1.0 );"
   ]
  },
  {
   "cell_type": "code",
   "execution_count": null,
   "id": "29121f8b",
   "metadata": {
    "slideshow": {
     "slide_type": "slide"
    }
   },
   "outputs": [],
   "source": [
    "p = torch.FloatTensor([3.4,-0.4])\n",
    "p.requires_grad_(True)\n",
    "gd = torch.optim.Adam([p], lr=0.5)\n",
    "sin_example.run_example(p, gd, batch_data_loader);"
   ]
  },
  {
   "cell_type": "code",
   "execution_count": null,
   "id": "2c49d566",
   "metadata": {},
   "outputs": [],
   "source": []
  }
 ],
 "metadata": {
  "jupytext": {
   "cell_metadata_json": true,
   "text_representation": {
    "extension": ".Rmd",
    "format_name": "rmarkdown",
    "format_version": "1.2",
    "jupytext_version": "1.11.1"
   }
  },
  "kernelspec": {
   "display_name": "Python 3",
   "language": "python",
   "name": "python3"
  }
 },
 "nbformat": 4,
 "nbformat_minor": 5
}