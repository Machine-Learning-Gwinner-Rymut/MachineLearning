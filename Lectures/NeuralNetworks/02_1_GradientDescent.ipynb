{
 "cells": [
  {
   "cell_type": "code",
   "execution_count": null,
   "id": "15c8e39c",
   "metadata": {
    "slideshow": {
     "slide_type": "skip"
    }
   },
   "outputs": [],
   "source": [
    "import numpy as np\n",
    "import matplotlib.pyplot as plt\n",
    "%matplotlib inline\n",
    "plt.rcParams[\"figure.figsize\"] = (10,8)"
   ]
  },
  {
   "cell_type": "markdown",
   "id": "b05b2445",
   "metadata": {
    "slideshow": {
     "slide_type": "slide"
    }
   },
   "source": [
    "# Gradient Descent"
   ]
  },
  {
   "cell_type": "markdown",
   "id": "1bc222b1",
   "metadata": {
    "slideshow": {
     "slide_type": "slide"
    }
   },
   "source": [
    "$\\newcommand{\\loss}{\\operatorname{loss}}\\newcommand{\\argmin}{\\operatorname*{argmin}}$\n",
    "$$f =\\argmin_f\\loss\\left(\\mathbf{y},\\,f(\\mathbf{x})\\right)$$"
   ]
  },
  {
   "cell_type": "markdown",
   "id": "e4bcad96",
   "metadata": {
    "slideshow": {
     "slide_type": "fragment"
    }
   },
   "source": [
    "$$f(\\mathbf{x})=f(\\mathbf{x}|\\mathbf{w})$$"
   ]
  },
  {
   "cell_type": "markdown",
   "id": "3791475d",
   "metadata": {
    "slideshow": {
     "slide_type": "fragment"
    }
   },
   "source": [
    "$\\newcommand{\\loss}{\\operatorname{loss}}\\newcommand{\\argmin}{\\operatorname*{argmin}}$\n",
    "$$f =\\argmin_f\\loss\\left(\\mathbf{y},\\,f(\\mathbf{x})\\right)\n",
    "= \\argmin_\\mathbf{w}\\loss\\left(\\mathbf{y},\\,f(\\mathbf{x}|\\mathbf{w})\\right)$$"
   ]
  },
  {
   "cell_type": "markdown",
   "id": "30fd2eca",
   "metadata": {
    "slideshow": {
     "slide_type": "skip"
    }
   },
   "source": [
    "As stated previously supervised learning is usually performed by minimizing a loss function with respect to its parameters. Usually the number of those parameters is very big, on the order of millions for modern neural networks. Most efficient minimization algorithms use some form gradient descent."
   ]
  },
  {
   "cell_type": "markdown",
   "id": "c5772868",
   "metadata": {
    "slideshow": {
     "slide_type": "skip"
    }
   },
   "source": [
    "Gradient of a scalar function of $N$ parameters $\\textbf{w}=\\left(w_0,\\ldots,w_{N-1}\\right)$ is a vector of all partial variables with respect to $w_i$:"
   ]
  },
  {
   "cell_type": "markdown",
   "id": "3fdab41a",
   "metadata": {
    "slideshow": {
     "slide_type": "skip"
    }
   },
   "source": [
    "$$\\newcommand{\\grad}{\\operatorname{grad}}$$"
   ]
  },
  {
   "cell_type": "markdown",
   "id": "a92df968",
   "metadata": {
    "slideshow": {
     "slide_type": "slide"
    }
   },
   "source": [
    "$$\\grad_\\textbf{w} L(\\mathbf{w}) \\equiv\n",
    "\\left(\\frac{\\partial L(\\mathbf{w})}{\\partial w_0},\\ldots, \\frac{\\partial L(\\mathbf{w})}{\\partial w_{N-1}}\\right)\n",
    "$$"
   ]
  },
  {
   "cell_type": "markdown",
   "id": "2b7452aa",
   "metadata": {
    "slideshow": {
     "slide_type": "skip"
    }
   },
   "source": [
    "Gradient has the property that it points in the local direction in which the functions increases most rapidly (steepest ascent), so in the oposite direction function decreases most rapidly (steepest descent)."
   ]
  },
  {
   "cell_type": "markdown",
   "id": "8f454358",
   "metadata": {
    "slideshow": {
     "slide_type": "skip"
    }
   },
   "source": [
    "Based on this the idea of the stepest descent algorithm is  to make steps in the direction  oposite to the gradient:"
   ]
  },
  {
   "cell_type": "markdown",
   "id": "bb80875d",
   "metadata": {
    "slideshow": {
     "slide_type": "slide"
    }
   },
   "source": [
    "```\n",
    "w = w_start\n",
    "while(not minimised):\n",
    "    g = grad(L,w)\n",
    "    w = w - eta*g\n",
    "```"
   ]
  },
  {
   "cell_type": "markdown",
   "id": "2eff3882",
   "metadata": {
    "slideshow": {
     "slide_type": "skip"
    }
   },
   "source": [
    "If this looks to good to be true, it is :(\n",
    "\n",
    "First of all this algorithm can only takes us to a local minimum. But even this is not guarantied. The gradient contains only *local* information if the function changes rapidly we take to big steps we may overshoot the minimum and the proccess may be even divergent. On the other hand if the functions does not change rapidly the gradient becomes small, and so our steps and the algorith can take very long to converge. Thus  the parameter eta the so called *learning rate* plays in this proccess a crucial role. \n",
    "\n",
    "Later we will use more sophisticated algorithms that adjust the learning rate automaticaly, but for the moment we will stick with this \"plain vanilla\" gradient descent."
   ]
  },
  {
   "cell_type": "markdown",
   "id": "ea20db69",
   "metadata": {
    "slideshow": {
     "slide_type": "slide"
    }
   },
   "source": [
    "## 1D example"
   ]
  },
  {
   "cell_type": "markdown",
   "id": "d1bf3b3e",
   "metadata": {
    "slideshow": {
     "slide_type": "skip"
    }
   },
   "source": [
    "We will start with a simple  quadratic function of one parameter:"
   ]
  },
  {
   "cell_type": "code",
   "execution_count": null,
   "id": "e1edacac",
   "metadata": {},
   "outputs": [],
   "source": [
    "def f(x, a = 1):\n",
    "    return 0.5*a*x*x\n",
    "\n",
    "def grad_f(x, a=1):\n",
    "    return a*x"
   ]
  },
  {
   "cell_type": "markdown",
   "id": "2a8e9635",
   "metadata": {
    "slideshow": {
     "slide_type": "skip"
    }
   },
   "source": [
    "Below we visualize the function and its gradient in several points. Please not that gradient of one paremeter function is a scalar. The arrow in the figure represent the magnitude and the sign of the gradient."
   ]
  },
  {
   "cell_type": "code",
   "execution_count": null,
   "id": "6f398908",
   "metadata": {
    "slideshow": {
     "slide_type": "fragment"
    }
   },
   "outputs": [],
   "source": [
    "xs = np.linspace(-4,4,200)\n",
    "a=13/3.0\n",
    "ys = f(xs,a)\n",
    "plt.plot(xs,ys);"
   ]
  },
  {
   "cell_type": "code",
   "execution_count": null,
   "id": "44f44513",
   "metadata": {
    "slideshow": {
     "slide_type": "slide"
    }
   },
   "outputs": [],
   "source": [
    "xs = np.linspace(-4,4,200)\n",
    "a=13/3.0\n",
    "ys = f(xs,a)\n",
    "plt.plot(xs,ys)\n",
    "plt.xlim(-15,15)\n",
    "for x in [-4,-3,-2,-1, 0.5, 0.1,  1.5, 2.5, 3.5]:\n",
    "    plt.arrow(x, f(x,a),-grad_f(x,a),0, color='red', width=0.01, head_width=0.4, length_includes_head=True)"
   ]
  },
  {
   "cell_type": "markdown",
   "id": "9406f044",
   "metadata": {
    "slideshow": {
     "slide_type": "skip"
    }
   },
   "source": [
    "As you can see the arrow point in the right direction (minimu) but we have to tune the learning rate as not overshoot from one slope to another.\n",
    "\n",
    "Below is a simple implementation and visualisation of steepest descent. Please play with the learning rate. How many different \"regimes\" can you detect? Which learning rate would get you to minimum in a fastest way?"
   ]
  },
  {
   "cell_type": "markdown",
   "id": "bb2fbb51",
   "metadata": {
    "slideshow": {
     "slide_type": "slide"
    }
   },
   "source": [
    "### Learning rate"
   ]
  },
  {
   "cell_type": "code",
   "execution_count": null,
   "id": "28df6d6d",
   "metadata": {
    "slideshow": {
     "slide_type": "-"
    }
   },
   "outputs": [],
   "source": [
    "x  = 2\n",
    "plt.scatter([x], [f(x,a)],facecolor='green', s=100)\n",
    "eta = 0.5\n",
    "ys = f(xs,a)\n",
    "plt.plot(xs,ys)\n",
    "for i in  range(7):\n",
    "    x_next= x - eta*grad_f(x,a)\n",
    "    plt.plot([x, x_next], [f(x,a),f(x_next,a)],c='red')\n",
    "    x= x_next\n",
    "    plt.scatter([x], [f(x,a)],c='red')\n",
    "  "
   ]
  },
  {
   "cell_type": "markdown",
   "id": "b18e000d",
   "metadata": {
    "slideshow": {
     "slide_type": "slide"
    }
   },
   "source": [
    "## 2D example"
   ]
  },
  {
   "cell_type": "markdown",
   "id": "6334d931",
   "metadata": {
    "slideshow": {
     "slide_type": "skip"
    }
   },
   "source": [
    "Lets move to a more interesting 2D example. \n",
    "\n",
    "We start by loading some data:"
   ]
  },
  {
   "cell_type": "code",
   "execution_count": null,
   "id": "7c5feae2",
   "metadata": {
    "slideshow": {
     "slide_type": "fragment"
    }
   },
   "outputs": [],
   "source": [
    "data = np.load(\"../data/sgd_data.npy\")\n",
    "rxs = data[:50,0]\n",
    "rys = data[:50,1]"
   ]
  },
  {
   "cell_type": "code",
   "execution_count": null,
   "id": "e12cf645",
   "metadata": {
    "slideshow": {
     "slide_type": "slide"
    }
   },
   "outputs": [],
   "source": [
    "plt.scatter(rxs,rys, alpha=0.7, color='none', edgecolor=\"black\");"
   ]
  },
  {
   "cell_type": "markdown",
   "id": "3f843ac0",
   "metadata": {
    "slideshow": {
     "slide_type": "skip"
    }
   },
   "source": [
    "We have \"learn\" the function represented by this data. We  restrict our search to functions of the form:"
   ]
  },
  {
   "cell_type": "markdown",
   "id": "53a857f4",
   "metadata": {
    "slideshow": {
     "slide_type": "fragment"
    }
   },
   "source": [
    "$$f(x|\\omega, t) = \\sin(\\omega x +t)$$"
   ]
  },
  {
   "cell_type": "markdown",
   "id": "797653d9",
   "metadata": {
    "slideshow": {
     "slide_type": "skip"
    }
   },
   "source": [
    "Here $x$ is the input argument and $\\omega$ and $t$ are parameters that define the function."
   ]
  },
  {
   "cell_type": "markdown",
   "id": "dcfe147c",
   "metadata": {
    "slideshow": {
     "slide_type": "skip"
    }
   },
   "source": [
    "The python definition would be:"
   ]
  },
  {
   "cell_type": "code",
   "execution_count": null,
   "id": "72817428",
   "metadata": {
    "slideshow": {
     "slide_type": "slide"
    }
   },
   "outputs": [],
   "source": [
    "def fitf(x,o,t):\n",
    "    return np.sin(x*o+t)"
   ]
  },
  {
   "cell_type": "markdown",
   "id": "09c34245",
   "metadata": {
    "slideshow": {
     "slide_type": "fragment"
    }
   },
   "source": [
    "$$MSE(\\omega,t|\\textbf{x},\\textbf{y}) = \\frac{1}{2}\\frac{1}{N}\\sum_{i=1}^N \\left(y_i-f(x_i|\\omega, t)\\right)^2 $$"
   ]
  },
  {
   "cell_type": "code",
   "execution_count": null,
   "id": "6d5a517e",
   "metadata": {
    "slideshow": {
     "slide_type": "fragment"
    }
   },
   "outputs": [],
   "source": [
    "def mse(f, x, y, o, t):\n",
    "        err = f(x,o,t)-y\n",
    "        return 0.5*np.sum(err*err, axis=-1)/len(x)"
   ]
  },
  {
   "cell_type": "markdown",
   "id": "423580f3",
   "metadata": {
    "slideshow": {
     "slide_type": "skip"
    }
   },
   "source": [
    "In the return statement the sum is taken over the last dimension of the tensor. When this tensor is an array as was the case so far this is just a normal sum. The neccesity of this form will be clear in a moment when we will visualize the error functions."
   ]
  },
  {
   "cell_type": "markdown",
   "id": "0793196a",
   "metadata": {
    "slideshow": {
     "slide_type": "skip"
    }
   },
   "source": [
    "The loss function is a scalar function of two parameters. We will visualize it using `countourf` function from matplotlib.  This function takes three parameters,  each a two dimensional array with same dimensions. \n",
    "\n",
    "\n",
    "```python\n",
    "contourf(x,y,z)\n",
    "```"
   ]
  },
  {
   "cell_type": "markdown",
   "id": "8866f7f3",
   "metadata": {
    "slideshow": {
     "slide_type": "skip"
    }
   },
   "source": [
    "Arrays x and y define a regular grid of points. x contains the x coordinates and y corresponding y coordinates. Array z contains the value of function (z coordinate) at this point."
   ]
  },
  {
   "cell_type": "markdown",
   "id": "135928ba",
   "metadata": {
    "slideshow": {
     "slide_type": "skip"
    }
   },
   "source": [
    "$$z_{ij}= f(x_{ij}, y_{ij})$$"
   ]
  },
  {
   "cell_type": "markdown",
   "id": "8ab68ad0",
   "metadata": {
    "slideshow": {
     "slide_type": "skip"
    }
   },
   "source": [
    "<div>\n",
    "    The arrays x and y can automatically generated using function <code>meshgrid</code> from numpy:\n",
    "    </div>"
   ]
  },
  {
   "cell_type": "code",
   "execution_count": null,
   "id": "be1bbb05",
   "metadata": {
    "slideshow": {
     "slide_type": "skip"
    }
   },
   "outputs": [],
   "source": [
    "grid_size = 500\n",
    "os = np.linspace(0, 2*np.pi, grid_size)\n",
    "ts = np.linspace(-np.pi,np.pi,grid_size)\n",
    "otg = np.meshgrid(os,ts)"
   ]
  },
  {
   "cell_type": "markdown",
   "id": "df9315c5",
   "metadata": {
    "slideshow": {
     "slide_type": "skip"
    }
   },
   "source": [
    "otg[0] now contains the  grid values of $\\omega$ parameter and otg[1] grid values of $t$ parameter."
   ]
  },
  {
   "cell_type": "markdown",
   "id": "f59bcdaf",
   "metadata": {
    "slideshow": {
     "slide_type": "skip"
    }
   },
   "source": [
    "To calculate the z values we need to evaluate the `fitf` for every pair of $\\omega$ and $t$ in otg:"
   ]
  },
  {
   "cell_type": "code",
   "execution_count": null,
   "id": "2622a68b",
   "metadata": {
    "slideshow": {
     "slide_type": "skip"
    }
   },
   "outputs": [],
   "source": [
    "%%time\n",
    "vg = np.empty((grid_size,grid_size))\n",
    "for i in range(grid_size):\n",
    "    for j in range(grid_size):\n",
    "        vg[i,j]=mse(fitf, rxs,rys, otg[0][i,j], otg[1][i,j])"
   ]
  },
  {
   "cell_type": "markdown",
   "id": "3fb5db5c",
   "metadata": {
    "slideshow": {
     "slide_type": "skip"
    }
   },
   "source": [
    "While this approach works it's not a good idea in general as explained in tensorsComputations notebook. Instead of using explicit loops we should use implicit looping provided by numpy. Below is a version of `fitf` function that takes tensor arguments for $\\omega$ nad $t$ and loops simulatneously over both of them.  Those tensor must have same shapes."
   ]
  },
  {
   "cell_type": "code",
   "execution_count": null,
   "id": "16a0a9b2",
   "metadata": {
    "slideshow": {
     "slide_type": "skip"
    }
   },
   "outputs": [],
   "source": [
    "def fitf_tensor(x,o,t):\n",
    "    return np.moveaxis(np.sin(np.tensordot(np.atleast_1d(x),o,0)+t),0,-1)"
   ]
  },
  {
   "cell_type": "markdown",
   "id": "2875c022",
   "metadata": {
    "slideshow": {
     "slide_type": "skip"
    }
   },
   "source": [
    "Let's pry this function appart."
   ]
  },
  {
   "cell_type": "markdown",
   "id": "be674cf6",
   "metadata": {
    "slideshow": {
     "slide_type": "skip"
    }
   },
   "source": [
    "For simplicity let's assume that $x$ is one dimensional tensor and $\\omega$ and $t$ are two dimensional."
   ]
  },
  {
   "cell_type": "markdown",
   "id": "b84792bc",
   "metadata": {
    "slideshow": {
     "slide_type": "skip"
    }
   },
   "source": [
    "Function `tensordot` whit last argument zero is an outer product so the result is a three dimensional tensor"
   ]
  },
  {
   "cell_type": "markdown",
   "id": "486b3316",
   "metadata": {
    "slideshow": {
     "slide_type": "skip"
    }
   },
   "source": [
    "$$x_i o_{jk}$$"
   ]
  },
  {
   "cell_type": "markdown",
   "id": "0b930581",
   "metadata": {
    "slideshow": {
     "slide_type": "skip"
    }
   },
   "source": [
    "Then we add to it a two dimensional tensor $t$ which is broadcast to three dimensions and the result is:"
   ]
  },
  {
   "cell_type": "markdown",
   "id": "dbfbf27b",
   "metadata": {
    "slideshow": {
     "slide_type": "skip"
    }
   },
   "source": [
    "$$x_i o_{jk}+t_{jk}$$"
   ]
  },
  {
   "cell_type": "markdown",
   "id": "67dfadca",
   "metadata": {
    "slideshow": {
     "slide_type": "skip"
    }
   },
   "source": [
    "Then applying `sin` function calculates sine of all the elements and returns them as three dimensional array of the same shape."
   ]
  },
  {
   "cell_type": "markdown",
   "id": "b9e701dd",
   "metadata": {
    "slideshow": {
     "slide_type": "skip"
    }
   },
   "source": [
    "Finally as we want the $i$ dimension to be the last so we transpose it using `moveaxis`."
   ]
  },
  {
   "cell_type": "code",
   "execution_count": null,
   "id": "a906441b",
   "metadata": {
    "slideshow": {
     "slide_type": "skip"
    }
   },
   "outputs": [],
   "source": [
    "%%time\n",
    "vg = mse(fitf_tensor, rxs, rys, otg[0], otg[1])"
   ]
  },
  {
   "cell_type": "markdown",
   "id": "ae8faabc",
   "metadata": {
    "slideshow": {
     "slide_type": "skip"
    }
   },
   "source": [
    "As you can see this is much faster :)"
   ]
  },
  {
   "cell_type": "code",
   "execution_count": null,
   "id": "35dd8d81",
   "metadata": {
    "slideshow": {
     "slide_type": "slide"
    }
   },
   "outputs": [],
   "source": [
    "from matplotlib import gridspec\n",
    "\n",
    "fig = plt.figure(figsize=(9,8))\n",
    "gs=gridspec.GridSpec(1,2, width_ratios=[4,0.2])\n",
    "ax1 = plt.subplot(gs[0])\n",
    "ax2 = plt.subplot(gs[1])\n",
    "cs=ax1.contourf(otg[0], otg[1],vg, levels=40);\n",
    "fig.colorbar(cs, cax=ax2);\n",
    "ax1.scatter([2.188], [1],c='none', s=80, edgecolor='red');"
   ]
  },
  {
   "cell_type": "markdown",
   "id": "387af716",
   "metadata": {
    "slideshow": {
     "slide_type": "skip"
    }
   },
   "source": [
    "This plot explains why we have used the $\\sin$ function in our example. We wanted a function that even with only two parameters gives a non trivial loss function \"landscape\"."
   ]
  },
  {
   "cell_type": "markdown",
   "id": "cb6c8b53",
   "metadata": {
    "slideshow": {
     "slide_type": "slide"
    }
   },
   "source": [
    "## Gradient Descent"
   ]
  },
  {
   "cell_type": "markdown",
   "id": "8487e2ce",
   "metadata": {
    "slideshow": {
     "slide_type": "skip"
    }
   },
   "source": [
    "To implement the gradient descent we have to calculate the gradient of this function\n",
    "For this simple function we can do it analiticaly. First for parameter $\\omega$:"
   ]
  },
  {
   "cell_type": "markdown",
   "id": "a0e6965d",
   "metadata": {
    "slideshow": {
     "slide_type": "fragment"
    }
   },
   "source": [
    "$$\\frac{\\partial }{\\partial \\omega}MSE(\\omega,t) = -\\frac{1}{N}\\sum_{i=1}^N  \\left(y_i-f(x_i|\\omega, t)\\right)\\cos(\\omega x +t) x$$"
   ]
  },
  {
   "cell_type": "markdown",
   "id": "cac634ee",
   "metadata": {
    "slideshow": {
     "slide_type": "skip"
    }
   },
   "source": [
    "and for parameter $t$:"
   ]
  },
  {
   "cell_type": "markdown",
   "id": "4e430af5",
   "metadata": {
    "slideshow": {
     "slide_type": "fragment"
    }
   },
   "source": [
    "$$\\frac{\\partial }{\\partial t}MSE(\\omega,t) = \\frac{1}{N}\\sum_{i=1}^N  \\left(y_i-f(x_i|\\omega, t)\\right)\\cos(\\omega x +t) $$"
   ]
  },
  {
   "cell_type": "markdown",
   "id": "6ac44a14",
   "metadata": {
    "slideshow": {
     "slide_type": "skip"
    }
   },
   "source": [
    "And this is the equivalent Python function:"
   ]
  },
  {
   "cell_type": "code",
   "execution_count": null,
   "id": "aefcf118",
   "metadata": {
    "slideshow": {
     "slide_type": "skip"
    }
   },
   "outputs": [],
   "source": [
    "def grad(x,y, o, t):\n",
    "    residue = y-np.sin(o*x+t)\n",
    "    return np.array((\n",
    "        -np.sum(residue*np.cos(o*x+t)*x),\n",
    "        -np.sum(residue*np.cos(o*x+t))\n",
    "         \n",
    "    ))/len(x)"
   ]
  },
  {
   "cell_type": "markdown",
   "id": "a847aab9",
   "metadata": {
    "slideshow": {
     "slide_type": "skip"
    }
   },
   "source": [
    "Below is the implementation and visualization of the stepest descent algorithm. Please play with parameters: starting point, learning rate and number of iterations."
   ]
  },
  {
   "cell_type": "code",
   "execution_count": null,
   "id": "a8249e98",
   "metadata": {
    "slideshow": {
     "slide_type": "slide"
    }
   },
   "outputs": [],
   "source": [
    "fig, ax =  plt.subplots(1,2,figsize=(16,8))\n",
    "ax[0].contourf(otg[0], otg[1],vg, levels=20)\n",
    "p =[3, 1]\n",
    "ax[0].scatter([p[0]], [p[1]],c='none', s=20, edgecolor='red')\n",
    "eta = 0.1\n",
    "trajectory_list=[]\n",
    "n_iter = 50\n",
    "for i in range(n_iter):\n",
    "    g = grad(rxs, rys, p[0], p[1])\n",
    "    p -= eta*g\n",
    "    trajectory_list.append(np.concatenate((g,p,[mse(fitf,rxs, rys,*p)])))\n",
    "    ax[0].scatter([p[0]], [p[1]],c='red', s=20, edgecolor='red')\n",
    "print(p, -g)\n",
    "trajectory=np.stack(trajectory_list)\n",
    "ax[1].plot(np.arange(n_iter),trajectory[:,-1],'.')\n",
    "ax[1].set_xlabel(\"n iterations\")\n",
    "ax[1].set_ylabel(\"MSE\", color=\"blue\")\n",
    "\n",
    "tw = ax[1].twinx()\n",
    "tw.spines['right'].set_color('red')\n",
    "tw.tick_params(axis='y', colors='red')\n",
    "tw.set_ylabel(\"||grad||\", color=\"red\")\n",
    "\n",
    "tw.plot(np.arange(n_iter),np.linalg.norm(trajectory[:,:2], axis=1),'.r')\n",
    "\n",
    "# The commands below ensure that the zero of lefvt and right vertical axes are on the same level. \n",
    "# If error does not go to zero this may cause gradinet not to be displayed\n",
    "l1,u1 = ax[1].get_ylim()\n",
    "l2,u2 = tw.get_ylim();\n",
    "nl2=(u2-l2)/(u1-l1)*l1\n",
    "dl2=nl2-l2\n",
    "tw.set_ylim(l2+dl2,u2+dl2);\n",
    "# This is just for notebook, so I can split it on two slides. You can remove this while playing with this\n",
    "plt.close() "
   ]
  },
  {
   "cell_type": "code",
   "execution_count": null,
   "id": "d2686523",
   "metadata": {
    "slideshow": {
     "slide_type": "slide"
    }
   },
   "outputs": [],
   "source": [
    "fig"
   ]
  },
  {
   "cell_type": "markdown",
   "id": "99942e5d",
   "metadata": {
    "slideshow": {
     "slide_type": "skip"
    }
   },
   "source": [
    "Figure on the left show the trajectory superimposed on the MSE plot. On the right we show the MSE error and length of the gradient as a function of the number of iterations."
   ]
  },
  {
   "cell_type": "markdown",
   "id": "e15efb7b",
   "metadata": {
    "slideshow": {
     "slide_type": "skip"
    }
   },
   "source": [
    "### Stoping criterion"
   ]
  },
  {
   "cell_type": "markdown",
   "id": "eb2b8c8f",
   "metadata": {
    "slideshow": {
     "slide_type": "slide"
    }
   },
   "source": [
    "## Blind date"
   ]
  },
  {
   "cell_type": "markdown",
   "id": "69d1d256",
   "metadata": {
    "slideshow": {
     "slide_type": "skip"
    }
   },
   "source": [
    "Now imagine you are doing it blindly :) \n",
    "\n",
    "Please find  good parameters using this \"hidden\" data without looking at the landscape plot. That should give you some idea how difficult this may be in case of neural network where we cannot visualize the loss function."
   ]
  },
  {
   "cell_type": "code",
   "execution_count": null,
   "id": "7ef2fa8f",
   "metadata": {
    "slideshow": {
     "slide_type": "fragment"
    }
   },
   "outputs": [],
   "source": [
    "data_hidden = np.load(\"../data/sgd_data_hidden.npy\")\n",
    "rxs_hidden = data_hidden[:,0]\n",
    "rys_hidden = data_hidden[:,1]"
   ]
  },
  {
   "cell_type": "code",
   "execution_count": null,
   "id": "2941862d",
   "metadata": {
    "slideshow": {
     "slide_type": "skip"
    }
   },
   "outputs": [],
   "source": [
    "fig, ax =  plt.subplots(1,2,figsize=(16,8))\n",
    "ax[0].set_xlim(0, 2*np.pi)\n",
    "ax[0].set_ylim(-np.pi, np.pi)\n",
    "\n",
    "p =[2, 1]\n",
    "ax[0].scatter([p[0]], [p[1]],c='none', s=20, edgecolor='red')\n",
    "eta = 0.2\n",
    "trajectory_list=[]\n",
    "n_iter = 50\n",
    "for i in range(n_iter):\n",
    "    g = grad(rxs_hidden, rys_hidden, p[0], p[1])\n",
    "    p -= eta*g\n",
    "    trajectory_list.append(np.concatenate((g,p,[mse(fitf,rxs_hidden, rys_hidden,*p)])))\n",
    "    ax[0].scatter([p[0]], [p[1]],c='red', s=20, edgecolor='red')\n",
    "print(p, -g)\n",
    "trajectory=np.stack(trajectory_list)\n",
    "ax[1].plot(np.arange(n_iter),trajectory[:,-1],'.')\n",
    "ax[1].set_xlabel(\"n iterations\")\n",
    "tw = ax[1].twinx()\n",
    "tw.plot(np.arange(n_iter),np.linalg.norm(trajectory[:,:2], axis=1),'.r')\n",
    "\n",
    "ax[1].set_ylabel(\"MSE\", color=\"blue\")\n",
    "\n",
    "tw.spines['right'].set_color('red')\n",
    "tw.tick_params(axis='y', colors='red')\n",
    "tw.set_ylabel(\"||grad||\", color=\"red\");\n",
    "plt.close()"
   ]
  },
  {
   "cell_type": "code",
   "execution_count": null,
   "id": "10fbc2c8",
   "metadata": {
    "slideshow": {
     "slide_type": "slide"
    }
   },
   "outputs": [],
   "source": [
    "fig"
   ]
  }
 ],
 "metadata": {
  "jupytext": {
   "cell_metadata_json": true,
   "formats": "ipynb,Rmd",
   "text_representation": {
    "extension": ".Rmd",
    "format_name": "rmarkdown",
    "format_version": "1.2",
    "jupytext_version": "1.11.1"
   }
  },
  "kernelspec": {
   "display_name": "Python 3",
   "language": "python",
   "name": "python3"
  }
 },
 "nbformat": 4,
 "nbformat_minor": 5
}