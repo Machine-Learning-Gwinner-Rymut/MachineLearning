{
 "cells": [
  {
   "cell_type": "code",
   "execution_count": null,
   "id": "2e5b3e62",
   "metadata": {
    "slideshow": {
     "slide_type": "skip"
    }
   },
   "outputs": [],
   "source": [
    "import numpy as np\n",
    "import matplotlib.pyplot as plt\n",
    "%matplotlib inline"
   ]
  },
  {
   "cell_type": "code",
   "execution_count": null,
   "id": "7d230546",
   "metadata": {
    "slideshow": {
     "slide_type": "skip"
    }
   },
   "outputs": [],
   "source": [
    "from IPython.core.display import Image, SVG"
   ]
  },
  {
   "cell_type": "markdown",
   "id": "fb8ccdd4",
   "metadata": {
    "slideshow": {
     "slide_type": "slide"
    }
   },
   "source": [
    "# Autodifferentiation"
   ]
  },
  {
   "cell_type": "markdown",
   "id": "a3bf74e5",
   "metadata": {
    "slideshow": {
     "slide_type": "skip"
    }
   },
   "source": [
    "So far we have while performing the gradient descent we have used analitically derived formulas for the gradient. This is clearly impractical for larger systems. The core functionality of all of the neural networks libraries are *autodiferentiation* capabilities. We will explore them using a poipular PyTorch library. "
   ]
  },
  {
   "cell_type": "markdown",
   "id": "de9a02bc",
   "metadata": {
    "slideshow": {
     "slide_type": "skip"
    }
   },
   "source": [
    "We start by loading and visualizing the same example as in the gradient descent:"
   ]
  },
  {
   "cell_type": "code",
   "execution_count": null,
   "id": "2d64a051",
   "metadata": {
    "slideshow": {
     "slide_type": "skip"
    }
   },
   "outputs": [],
   "source": [
    "data = np.load(\"../data/sgd_data.npy\").astype('float32')\n",
    "rxs = data[:50,0]\n",
    "rys = data[:50,1]"
   ]
  },
  {
   "cell_type": "markdown",
   "id": "8950e604",
   "metadata": {
    "slideshow": {
     "slide_type": "skip"
    }
   },
   "source": [
    "Please note that we have explicitely changed the type to `float32`. This is a good practice when training neural networks. First the data will take less memory and second this will enable training on GPUs in the future. "
   ]
  },
  {
   "cell_type": "code",
   "execution_count": null,
   "id": "ca0e6681",
   "metadata": {
    "slideshow": {
     "slide_type": "skip"
    }
   },
   "outputs": [],
   "source": [
    "plt.scatter(rxs,rys, alpha=0.7, color='none', edgecolor=\"black\");"
   ]
  },
  {
   "cell_type": "markdown",
   "id": "2a896dd6",
   "metadata": {
    "slideshow": {
     "slide_type": "skip"
    }
   },
   "source": [
    "We will be fitting function"
   ]
  },
  {
   "cell_type": "markdown",
   "id": "f1eaeac0",
   "metadata": {
    "slideshow": {
     "slide_type": "slide"
    }
   },
   "source": [
    "$$f(x|\\omega, t) = \\sin(\\omega x +t)$$"
   ]
  },
  {
   "cell_type": "markdown",
   "id": "01f7b4a3",
   "metadata": {
    "slideshow": {
     "slide_type": "skip"
    }
   },
   "source": [
    "by minimizing the mean squared error: "
   ]
  },
  {
   "cell_type": "markdown",
   "id": "6200b4d9",
   "metadata": {},
   "source": [
    "$$MSE(\\omega,t|\\textbf{x},\\textbf{y}) = \\frac{1}{2}\\frac{1}{N}\\sum_{i=1}^N \\left(y_i-f(x_i|\\omega, t)\\right)^2 $$"
   ]
  },
  {
   "cell_type": "code",
   "execution_count": null,
   "id": "d80681e6",
   "metadata": {
    "slideshow": {
     "slide_type": "skip"
    }
   },
   "outputs": [],
   "source": [
    "def mse(f, x, y, o, t):\n",
    "        err = f(x,o,t)-y\n",
    "        return 0.5*np.sum(err*err, axis=-1)/len(x)\n",
    "    \n",
    "#Tensor version of the fit function described in GradientDescent notebook. \n",
    "def fitf_tensor(x,o,t):\n",
    "    return np.moveaxis(np.sin(np.tensordot(np.atleast_1d(x),o,0)+t),0,-1)"
   ]
  },
  {
   "cell_type": "code",
   "execution_count": null,
   "id": "e13fae9c",
   "metadata": {
    "slideshow": {
     "slide_type": "skip"
    }
   },
   "outputs": [],
   "source": [
    "grid_size = 500\n",
    "os = np.linspace(0, 2*np.pi, grid_size)\n",
    "ts = np.linspace(-np.pi,np.pi,grid_size)\n",
    "otg = np.meshgrid(os,ts)\n",
    "\n",
    "vg = mse(fitf_tensor, rxs, rys, otg[0], otg[1])"
   ]
  },
  {
   "cell_type": "code",
   "execution_count": null,
   "id": "a23edfaa",
   "metadata": {
    "slideshow": {
     "slide_type": "slide"
    }
   },
   "outputs": [],
   "source": [
    "from matplotlib import gridspec\n",
    "\n",
    "fig = plt.figure(figsize=(9,8))\n",
    "gs=gridspec.GridSpec(1,2, width_ratios=[4,0.2])\n",
    "ax1 = plt.subplot(gs[0])\n",
    "ax2 = plt.subplot(gs[1])\n",
    "cs=ax1.contourf(otg[0], otg[1],vg, levels=40);\n",
    "fig.colorbar(cs, cax=ax2);\n",
    "ax1.scatter([2.188], [1],c='none', s=80, edgecolor='red');"
   ]
  },
  {
   "cell_type": "markdown",
   "id": "5b64b2f1",
   "metadata": {
    "slideshow": {
     "slide_type": "skip"
    }
   },
   "source": [
    "We will be using the [PyTorch](https://pytorch.org) package which is the second (and rising fast) most popular neural network library.  Let's start by importing it:"
   ]
  },
  {
   "cell_type": "code",
   "execution_count": null,
   "id": "0cddaeb2",
   "metadata": {
    "slideshow": {
     "slide_type": "slide"
    }
   },
   "outputs": [],
   "source": [
    "import torch "
   ]
  },
  {
   "cell_type": "markdown",
   "id": "ac0e4138",
   "metadata": {
    "slideshow": {
     "slide_type": "skip"
    }
   },
   "source": [
    "Torch has its own implementation of tensors and before use we have convert `numpy` arrays to torch tensors:"
   ]
  },
  {
   "cell_type": "code",
   "execution_count": null,
   "id": "e06f401b",
   "metadata": {
    "slideshow": {
     "slide_type": "fragment"
    }
   },
   "outputs": [],
   "source": [
    "t_rxs = torch.from_numpy(rxs)\n",
    "t_rys = torch.from_numpy(rys)"
   ]
  },
  {
   "cell_type": "markdown",
   "id": "07cb03ba",
   "metadata": {
    "slideshow": {
     "slide_type": "skip"
    }
   },
   "source": [
    "We will now create the tensors for parameters to be optimized: `o` and `t`."
   ]
  },
  {
   "cell_type": "code",
   "execution_count": null,
   "id": "f6ae0696",
   "metadata": {
    "slideshow": {
     "slide_type": "fragment"
    }
   },
   "outputs": [],
   "source": [
    "o = torch.FloatTensor([3]) # One dimensional tensor of length 1 with value  3.0\n",
    "t = torch.FloatTensor([1]) # One dimensional tensor of length 1 with value  1.0"
   ]
  },
  {
   "cell_type": "markdown",
   "id": "dd1c9af0",
   "metadata": {
    "slideshow": {
     "slide_type": "skip"
    }
   },
   "source": [
    "The `torch` module has the ability to track the gradients of the functions. To this end we must mark the variables with respect to which the derivatives will be taken. In our case we want derivatives with respect to `o` and `t`. We do it by setting the `requires_grad` attribute of those tensors. This can be done using method `requires_grad_`:"
   ]
  },
  {
   "cell_type": "code",
   "execution_count": null,
   "id": "159c4b2b",
   "metadata": {
    "slideshow": {
     "slide_type": "fragment"
    }
   },
   "outputs": [],
   "source": [
    "o.requires_grad_(True)\n",
    "t.requires_grad_(True);"
   ]
  },
  {
   "cell_type": "markdown",
   "id": "e59ef072",
   "metadata": {
    "slideshow": {
     "slide_type": "skip"
    }
   },
   "source": [
    "By convention  methods that modify tensors in place have names that end in `_`."
   ]
  },
  {
   "cell_type": "markdown",
   "id": "d7ba4230",
   "metadata": {
    "slideshow": {
     "slide_type": "skip"
    }
   },
   "source": [
    "Now PyTorch will track the gradients with respect to `o` and `t` for every expression which  contains those variables. And we can use it to make our gradient descent: "
   ]
  },
  {
   "cell_type": "code",
   "execution_count": null,
   "id": "f114818a",
   "metadata": {
    "slideshow": {
     "slide_type": "slide"
    }
   },
   "outputs": [],
   "source": [
    "fig, ax =  plt.subplots(figsize=(8,8))\n",
    "ax.contourf(otg[0], otg[1],vg, levels=20)\n",
    "p = [o.item(), t.item()]\n",
    "ax.scatter([p[0]], [p[1]],c='none', s=20, edgecolor='red')\n",
    "eta = 0.1\n",
    "trajectory_list=[]\n",
    "n_iter = 50\n",
    "for i in range(n_iter):\n",
    "    if not ( o.grad is None):\n",
    "        o.grad.data.zero_()\n",
    "    if not ( t.grad is None):\n",
    "        t.grad.data.zero_()\n",
    "        \n",
    "    prediction = torch.sin(t_rxs*o+t)\n",
    "    residual = t_rys-prediction;\n",
    "    loss = 0.5*torch.mean(residual*residual)\n",
    "    loss.backward()\n",
    "    o.data.sub_(eta*o.grad)\n",
    "    t.data.sub_(eta*t.grad)\n",
    "    p =  [o.item(), t.item()]\n",
    " \n",
    "    ax.scatter(p[0:1], p[1:],c='red', s=20, edgecolor='red')\n",
    "    plt.close()\n"
   ]
  },
  {
   "cell_type": "code",
   "execution_count": null,
   "id": "e70a29b8",
   "metadata": {
    "slideshow": {
     "slide_type": "slide"
    }
   },
   "outputs": [],
   "source": [
    "fig"
   ]
  },
  {
   "cell_type": "markdown",
   "id": "af5afbd4",
   "metadata": {
    "slideshow": {
     "slide_type": "skip"
    }
   },
   "source": [
    "So let's look closely at the core loop:"
   ]
  },
  {
   "cell_type": "code",
   "execution_count": null,
   "id": "2f6e013a",
   "metadata": {
    "slideshow": {
     "slide_type": "slide"
    }
   },
   "outputs": [],
   "source": [
    "for i in range(n_iter):\n",
    "    # attribute grad is not defined before we call backward for the first time\n",
    "    # so we must check if it is None or not before stting it to zero. \n",
    "    # We have to set to to zero because backward() adds gradients to previous values.  \n",
    "    if not ( o.grad is None):\n",
    "        o.grad.data.zero_()\n",
    "    if not ( t.grad is None):\n",
    "        t.grad.data.zero_()\n",
    "        \n",
    "    prediction = torch.sin(t_rxs*o+t)\n",
    "    residual = t_rys-prediction;\n",
    "    loss = 0.5*torch.mean(residual*residual)\n",
    "    # This call calculates the gradient of loss with respect to all tensors that have \n",
    "    # require_grad set to True\n",
    "    loss.backward() \n",
    "    #This make the descent step. We use the underlying `data` attribute to modify parameters\n",
    "    #because it's not alloved to change in-place tensors with require_grad set to True \n",
    "    o.data.sub_(eta*o.grad)\n",
    "    t.data.sub_(eta*t.grad)    "
   ]
  },
  {
   "cell_type": "markdown",
   "id": "c1cf5973",
   "metadata": {
    "slideshow": {
     "slide_type": "skip"
    }
   },
   "source": [
    "We start by zeroing the gradients because default behaviour is to accumulate them. However at the begining the object that holds gradients does not exists so we have to check for that."
   ]
  },
  {
   "cell_type": "markdown",
   "id": "c617268a",
   "metadata": {
    "slideshow": {
     "slide_type": "skip"
    }
   },
   "source": [
    "Next we just calculate the loss and call `backward` on it. This function traverse the *computations graph* backward and calculates gradients. Then the `grad` attribute of `o` and `t` contains the gradient of loss with respect to `o` and `t`."
   ]
  },
  {
   "cell_type": "markdown",
   "id": "614b1781",
   "metadata": {
    "slideshow": {
     "slide_type": "skip"
    }
   },
   "source": [
    " We substract those gradients from the values of `o` and `t` using method `sub_`. By convention  methods that modify the object in place have names that end in `_`. Another technical detail is that we are not allowed to modify in place a variable that requires grad, as this could potentially disrupt the  gradient calculations. That's why we do it by using the `data` attribute that holds reference to underlying tensor. "
   ]
  },
  {
   "cell_type": "markdown",
   "id": "ffb719b3",
   "metadata": {
    "slideshow": {
     "slide_type": "slide"
    }
   },
   "source": [
    "### Computations graph"
   ]
  },
  {
   "cell_type": "markdown",
   "id": "d3ecfbb7",
   "metadata": {
    "slideshow": {
     "slide_type": "skip"
    }
   },
   "source": [
    "All this magic depends on so called \"computations graph\" which describes all the computations done while calculating the loss. Below is a visualisation of actual  computation graph in this case. "
   ]
  },
  {
   "cell_type": "code",
   "execution_count": null,
   "id": "d5c36b5c",
   "metadata": {
    "slideshow": {
     "slide_type": "slide"
    }
   },
   "outputs": [],
   "source": [
    "SVG(filename='../figures/call_graph.svg')"
   ]
  },
  {
   "cell_type": "markdown",
   "id": "b76ca43a",
   "metadata": {
    "slideshow": {
     "slide_type": "skip"
    }
   },
   "source": [
    "This can be written as a series of operations:"
   ]
  },
  {
   "cell_type": "markdown",
   "id": "05052187",
   "metadata": {
    "slideshow": {
     "slide_type": "slide"
    }
   },
   "source": [
    "$$v_0 = \\frac{1}{2} v_1 \\qquad v_1 = \\operatorname{mean}(v_2)$$\n",
    "\n",
    "$$v_2 = v_3 \\cdot v_4\n",
    "\\qquad\n",
    "v_3 = y - v_5$$\n",
    "\n",
    "$$v_4 = y - v_5\\qquad v_5=\\sin(v_6)$$\n",
    "\n",
    "$$v_6= v_7 + v_8\\qquad v_7 = o*x $$\n",
    "\n",
    "$$v_8 = t$$"
   ]
  },
  {
   "cell_type": "raw",
   "id": "db9b8044",
   "metadata": {
    "slideshow": {
     "slide_type": "skip"
    }
   },
   "source": [
    "To differentiate we use the chain rule"
   ]
  },
  {
   "cell_type": "markdown",
   "id": "25eeda7a",
   "metadata": {
    "slideshow": {
     "slide_type": "subslide"
    }
   },
   "source": [
    "$$\\frac{d v_0}{d t}=\\frac{d v_0}{d v_1}\\frac{d v_1}{d t} $$"
   ]
  },
  {
   "cell_type": "markdown",
   "id": "7960aa14",
   "metadata": {
    "slideshow": {
     "slide_type": "fragment"
    }
   },
   "source": [
    "$$\\frac{d v_0}{d v_1}=\\frac{1}{2}$$"
   ]
  },
  {
   "cell_type": "markdown",
   "id": "352c3dea",
   "metadata": {
    "slideshow": {
     "slide_type": "skip"
    }
   },
   "source": [
    "Then  we do it again with the derivative of the next term"
   ]
  },
  {
   "cell_type": "markdown",
   "id": "3c8b2754",
   "metadata": {
    "slideshow": {
     "slide_type": "subslide"
    }
   },
   "source": [
    "$$\\frac{d v_1}{d t}=\\frac{d v_1}{d v_2}\\frac{d v_2}{d t}$$"
   ]
  },
  {
   "cell_type": "markdown",
   "id": "30815a31",
   "metadata": {
    "slideshow": {
     "slide_type": "skip"
    }
   },
   "source": [
    "Because $v_2$ is a vector this is equal to"
   ]
  },
  {
   "cell_type": "markdown",
   "id": "6718566a",
   "metadata": {
    "slideshow": {
     "slide_type": "subslide"
    }
   },
   "source": [
    "$$\\sum_i \\frac{d v_1}{d v_{2i}}\\frac{d v_{2i}}{d t}$$"
   ]
  },
  {
   "cell_type": "markdown",
   "id": "0bc27c49",
   "metadata": {
    "slideshow": {
     "slide_type": "fragment"
    }
   },
   "source": [
    "$$v_1 = \\frac{1}{N}\\sum_{i=1}^N v_{2i}$$"
   ]
  },
  {
   "cell_type": "markdown",
   "id": "3b1b51ec",
   "metadata": {
    "slideshow": {
     "slide_type": "skip"
    }
   },
   "source": [
    "so"
   ]
  },
  {
   "cell_type": "markdown",
   "id": "af7e384a",
   "metadata": {
    "slideshow": {
     "slide_type": "fragment"
    }
   },
   "source": [
    "$$\\frac{d v_1}{d v_{2i}}=\\frac{1}{N}$$"
   ]
  },
  {
   "cell_type": "markdown",
   "id": "cfebc9c6",
   "metadata": {
    "slideshow": {
     "slide_type": "skip"
    }
   },
   "source": [
    "and "
   ]
  },
  {
   "cell_type": "markdown",
   "id": "bb4e0fac",
   "metadata": {
    "slideshow": {
     "slide_type": "fragment"
    }
   },
   "source": [
    "$$\\frac{d v_1}{d t} = \\sum_i \\frac{d v_1}{d v_{2i}}\\frac{d v_{2i}}{d t}=\\frac{1}{N}\\sum_i  \\frac{d v_{2i}}{d t}$$"
   ]
  },
  {
   "cell_type": "markdown",
   "id": "5098cf7d",
   "metadata": {
    "slideshow": {
     "slide_type": "skip"
    }
   },
   "source": [
    "And we continue with next term:"
   ]
  },
  {
   "cell_type": "markdown",
   "id": "f26ba963",
   "metadata": {
    "slideshow": {
     "slide_type": "subslide"
    }
   },
   "source": [
    "$$\\frac{d v_{2i}}{d t} = \\sum_{j}\\frac{d v_{2i}}{d v_{3j}}\\frac{d v_{3j}}{d t}+\\sum_{j}\\frac{d v_{2i}}{d v_{4j}}\\frac{d v_{4j}}{d t}$$"
   ]
  },
  {
   "cell_type": "markdown",
   "id": "8bf663ed",
   "metadata": {
    "slideshow": {
     "slide_type": "fragment"
    }
   },
   "source": [
    "$$\\frac{d v_{2i}}{d v_{3j}} = \\delta_{ij} v_{4j}\\qquad\\frac{d v_{2i}}{d v_{4j}} = \\delta_{ij} v_{3j}$$"
   ]
  },
  {
   "cell_type": "markdown",
   "id": "beec9d8e",
   "metadata": {
    "slideshow": {
     "slide_type": "fragment"
    }
   },
   "source": [
    "$$\\frac{d v_{2i}}{d t} = v_{4i}\\frac{d v_{3i}}{d t} + v_{3i}\\frac{d v_{4i}}{d t}$$"
   ]
  },
  {
   "cell_type": "markdown",
   "id": "84c3e490",
   "metadata": {
    "slideshow": {
     "slide_type": "skip"
    }
   },
   "source": [
    "and next one"
   ]
  },
  {
   "cell_type": "markdown",
   "id": "cf124f28",
   "metadata": {
    "slideshow": {
     "slide_type": "subslide"
    }
   },
   "source": [
    "$$\\frac{d v_{3i}}{d t}=\n",
    "\\sum_{j}\n",
    "\\frac{d v_{3i}}{d v_{5j}}\\frac{d v_{5j}}{d t}$$"
   ]
  },
  {
   "cell_type": "markdown",
   "id": "a3b4da88",
   "metadata": {
    "slideshow": {
     "slide_type": "fragment"
    }
   },
   "source": [
    "$$\\frac{d v_{4i}}{d t}=\n",
    "\\sum_{j}\n",
    "\\frac{d v_{4i}}{d v_{5j}}\\frac{d v_{5j}}{d t}$$"
   ]
  },
  {
   "cell_type": "markdown",
   "id": "aa9f3e0a",
   "metadata": {
    "slideshow": {
     "slide_type": "fragment"
    }
   },
   "source": [
    "$$\\frac{d v_{3i}}{d v_{5j}}=\\frac{d v_{4i}}{d v_{5j}}=-1$$"
   ]
  },
  {
   "cell_type": "markdown",
   "id": "d98a6af6",
   "metadata": {
    "slideshow": {
     "slide_type": "skip"
    }
   },
   "source": [
    "and so on: "
   ]
  },
  {
   "cell_type": "markdown",
   "id": "b3d4a09a",
   "metadata": {
    "slideshow": {
     "slide_type": "subslide"
    }
   },
   "source": [
    "$$\\frac{d v_{5i}}{d t}=\\sum_{j}\\frac{d v_{5i}}{d v_{6j}}\\frac{d v_{6j}}{d t}$$"
   ]
  },
  {
   "cell_type": "markdown",
   "id": "1212efb4",
   "metadata": {
    "slideshow": {
     "slide_type": "fragment"
    }
   },
   "source": [
    "$$\\frac{d v_{5i}}{d v_{6j}}=\\delta_{ij} \\cos(v_{6j})$$"
   ]
  },
  {
   "cell_type": "markdown",
   "id": "3b5efe68",
   "metadata": {
    "slideshow": {
     "slide_type": "subslide"
    }
   },
   "source": [
    "$$\\frac{d v_{6i}}{d t}=\\sum_j \\frac{d v_{6j}}{d v_{7j}}\\frac{d v_{7j}}{d t}\n",
    "+ \\sum_j \\frac{d v_{6j}}{d v_{8j}}\\frac{d v_{8j}}{d t}\n",
    "$$"
   ]
  },
  {
   "cell_type": "markdown",
   "id": "7b38973f",
   "metadata": {
    "slideshow": {
     "slide_type": "fragment"
    }
   },
   "source": [
    "$$\\frac{d v_{7j}}{d t}  = 0$$"
   ]
  },
  {
   "cell_type": "markdown",
   "id": "8f073e68",
   "metadata": {
    "slideshow": {
     "slide_type": "fragment"
    }
   },
   "source": [
    "$$\\frac{d v_{8j}}{d t}  = 1$$"
   ]
  },
  {
   "cell_type": "markdown",
   "id": "2ade0b4c",
   "metadata": {
    "slideshow": {
     "slide_type": "skip"
    }
   },
   "source": [
    "What is important is that at every stage we need only the local values of the gradient and the variables at the given graph node. The final gradient is obtained by multiplying all the gradients  going backward through the graph. "
   ]
  },
  {
   "cell_type": "markdown",
   "id": "47509f38",
   "metadata": {
    "slideshow": {
     "slide_type": "slide"
    }
   },
   "source": [
    "## Optimizer"
   ]
  },
  {
   "cell_type": "markdown",
   "id": "13cac68b",
   "metadata": {
    "slideshow": {
     "slide_type": "skip"
    }
   },
   "source": [
    "Finally let's add one more improvement. So far we were using a very simple gradient descent strategy. This will change and to this end PyTorch encapsulates the gradient steping in separate object called *optimizer*."
   ]
  },
  {
   "cell_type": "code",
   "execution_count": null,
   "id": "8b89da33",
   "metadata": {
    "slideshow": {
     "slide_type": "slide"
    }
   },
   "outputs": [],
   "source": [
    "o = torch.FloatTensor([3])\n",
    "t = torch.FloatTensor([1])\n",
    "o.requires_grad_(True)\n",
    "t.requires_grad_(True);"
   ]
  },
  {
   "cell_type": "code",
   "execution_count": null,
   "id": "f1fa687e",
   "metadata": {
    "slideshow": {
     "slide_type": "fragment"
    }
   },
   "outputs": [],
   "source": [
    "optim = torch.optim.SGD([o,t],lr=0.1)"
   ]
  },
  {
   "cell_type": "markdown",
   "id": "cc7fea2f",
   "metadata": {
    "slideshow": {
     "slide_type": "skip"
    }
   },
   "source": [
    "SGD stands for \"Stochastic Gradient Descent\". The \"stochastic\" part will be explained later, but actually it just does the plain gradient descent. The parameter `lr`(learning rate)  is our `eta`. "
   ]
  },
  {
   "cell_type": "code",
   "execution_count": null,
   "id": "4a70ddfe",
   "metadata": {
    "slideshow": {
     "slide_type": "slide"
    }
   },
   "outputs": [],
   "source": [
    "fig, ax =  plt.subplots(figsize=(8,8))\n",
    "ax.contourf(otg[0], otg[1],vg, levels=20)\n",
    "p = [o.item(), t.item()]\n",
    "ax.scatter([p[0]], [p[1]],c='none', s=20, edgecolor='red')\n",
    "n_iter = 50\n",
    "for i in range(n_iter):\n",
    "    optim.zero_grad()\n",
    "        \n",
    "    prediction = torch.sin(t_rxs*o+t)\n",
    "    residual = t_rys-prediction;\n",
    "    loss = 0.5*torch.mean(residual*residual)\n",
    "    loss.backward()\n",
    "    optim.step()\n",
    "    p =  [o.item(), t.item()]\n",
    " \n",
    "    ax.scatter(p[0:1], p[1:],c='red', s=20, edgecolor='red')\n",
    "    plt.close()\n"
   ]
  },
  {
   "cell_type": "code",
   "execution_count": null,
   "id": "31b246cf",
   "metadata": {
    "slideshow": {
     "slide_type": "slide"
    }
   },
   "outputs": [],
   "source": [
    "fig"
   ]
  },
  {
   "cell_type": "markdown",
   "id": "a31af769",
   "metadata": {
    "slideshow": {
     "slide_type": "slide"
    }
   },
   "source": [
    "## Loss function"
   ]
  },
  {
   "cell_type": "markdown",
   "id": "767b765d",
   "metadata": {
    "slideshow": {
     "slide_type": "skip"
    }
   },
   "source": [
    "We also do not have to write our own loss functions:"
   ]
  },
  {
   "cell_type": "code",
   "execution_count": null,
   "id": "bddb176f",
   "metadata": {
    "slideshow": {
     "slide_type": "slide"
    }
   },
   "outputs": [],
   "source": [
    "o = torch.FloatTensor([3])\n",
    "t = torch.FloatTensor([1])\n",
    "o.requires_grad_(True)\n",
    "t.requires_grad_(True);"
   ]
  },
  {
   "cell_type": "code",
   "execution_count": null,
   "id": "47e62bda",
   "metadata": {
    "slideshow": {
     "slide_type": "fragment"
    }
   },
   "outputs": [],
   "source": [
    "loss_f = torch.nn.MSELoss()"
   ]
  },
  {
   "cell_type": "code",
   "execution_count": null,
   "id": "786be727",
   "metadata": {
    "slideshow": {
     "slide_type": "fragment"
    }
   },
   "outputs": [],
   "source": [
    "optim = torch.optim.SGD([o,t],lr=0.1)"
   ]
  },
  {
   "cell_type": "code",
   "execution_count": null,
   "id": "4363bef9",
   "metadata": {
    "slideshow": {
     "slide_type": "slide"
    }
   },
   "outputs": [],
   "source": [
    "fig, ax =  plt.subplots(figsize=(8,8))\n",
    "ax.contourf(otg[0], otg[1],vg, levels=20)\n",
    "p = [o.item(), t.item()]\n",
    "ax.scatter([p[0]], [p[1]],c='none', s=20, edgecolor='red')\n",
    "n_iter = 50\n",
    "for i in range(n_iter):\n",
    "    optim.zero_grad()\n",
    "        \n",
    "    prediction = torch.sin(t_rxs*o+t)\n",
    "    loss = loss_f(prediction, t_rys)\n",
    "    loss.backward()\n",
    "    optim.step()\n",
    "    p =  [o.item(), t.item()]\n",
    " \n",
    "    ax.scatter(p[0:1], p[1:],c='red', s=20, edgecolor='red')\n",
    "    plt.close()\n"
   ]
  },
  {
   "cell_type": "code",
   "execution_count": null,
   "id": "ed2e80f7",
   "metadata": {
    "slideshow": {
     "slide_type": "slide"
    }
   },
   "outputs": [],
   "source": [
    "fig"
   ]
  },
  {
   "cell_type": "markdown",
   "id": "554f1536",
   "metadata": {
    "slideshow": {
     "slide_type": "skip"
    }
   },
   "source": [
    "As you can see thare is a slight difference, the steps seem to be longer. That's because the `MSELoss` does not contain the one  $\\frac{1}{2}$ factor, so the gradient is twice as long.  "
   ]
  }
 ],
 "metadata": {
  "jupytext": {
   "cell_metadata_json": true,
   "text_representation": {
    "extension": ".Rmd",
    "format_name": "rmarkdown",
    "format_version": "1.2",
    "jupytext_version": "1.11.1"
   }
  },
  "kernelspec": {
   "display_name": "Python 3",
   "language": "python",
   "name": "python3"
  }
 },
 "nbformat": 4,
 "nbformat_minor": 5
}