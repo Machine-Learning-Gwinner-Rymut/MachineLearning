{
 "cells": [
  {
   "cell_type": "code",
   "execution_count": null,
   "id": "d8882fef",
   "metadata": {
    "slideshow": {
     "slide_type": "skip"
    }
   },
   "outputs": [],
   "source": [
    "%load_ext autoreload\n",
    "%autoreload 2"
   ]
  },
  {
   "cell_type": "markdown",
   "id": "b91129be",
   "metadata": {
    "slideshow": {
     "slide_type": "slide"
    }
   },
   "source": [
    "# Stochastic Gradient Descent"
   ]
  },
  {
   "cell_type": "code",
   "execution_count": null,
   "id": "3f2044be",
   "metadata": {
    "slideshow": {
     "slide_type": "skip"
    }
   },
   "outputs": [],
   "source": [
    "import numpy as np\n",
    "import matplotlib.pyplot as plt\n",
    "from matplotlib import gridspec\n",
    "import torch\n",
    "%matplotlib inline"
   ]
  },
  {
   "cell_type": "code",
   "execution_count": null,
   "id": "27fd5d5b",
   "metadata": {
    "slideshow": {
     "slide_type": "skip"
    }
   },
   "outputs": [],
   "source": [
    "import sys\n",
    "sys.path.append('../..')\n",
    "from mchlearn import utils"
   ]
  },
  {
   "cell_type": "markdown",
   "id": "f9784ff2",
   "metadata": {
    "slideshow": {
     "slide_type": "skip"
    }
   },
   "source": [
    "We retrace the steps from the `AutoDifferentiation` notebook. We will start with first 100 rows of data."
   ]
  },
  {
   "cell_type": "code",
   "execution_count": null,
   "id": "b58d3488",
   "metadata": {
    "slideshow": {
     "slide_type": "skip"
    }
   },
   "outputs": [],
   "source": [
    "data = np.load(\"../data/sgd_data.npy\").astype('float32')\n",
    "rxs = data[:100,0]\n",
    "rys = data[:100,1]"
   ]
  },
  {
   "cell_type": "code",
   "execution_count": null,
   "id": "147403aa",
   "metadata": {
    "slideshow": {
     "slide_type": "skip"
    }
   },
   "outputs": [],
   "source": [
    "plt.scatter(rxs,rys, alpha=0.7, color='none', edgecolor=\"black\");"
   ]
  },
  {
   "cell_type": "code",
   "execution_count": null,
   "id": "2736845d",
   "metadata": {
    "slideshow": {
     "slide_type": "skip"
    }
   },
   "outputs": [],
   "source": [
    "def fitf(x,o,t):\n",
    "    return np.sin(x*o+t)\n",
    "\n",
    "def fitf_tensor(x,o,t):\n",
    "    return np.moveaxis(np.sin(np.tensordot(np.atleast_1d(x),o,0)+t),0,-1)\n",
    "\n",
    "def mse(f, x, y, o, t):\n",
    "        err = f(x,o,t)-y\n",
    "        return 0.5*np.sum(err*err, axis=-1)/len(x)\n",
    "\n",
    "grid_size = 400\n",
    "os = np.linspace(0, 7, grid_size)\n",
    "ts = np.linspace(-np.pi,np.pi,grid_size)\n",
    "otg = np.meshgrid(os,ts)\n",
    "\n",
    "vg = mse(fitf_tensor, rxs, rys, otg[0], otg[1])\n",
    "\n",
    "def grad(x,y, o, t):\n",
    "    return np.array((\n",
    "        -2*np.sum((y-np.sin(o*x+t))*np.cos(o*x+t)*x),\n",
    "        -2*np.sum((y-np.sin(o*x+t))*np.cos(o*x+t))\n",
    "    ))/len(x)"
   ]
  },
  {
   "cell_type": "code",
   "execution_count": null,
   "id": "3a343b6a",
   "metadata": {
    "slideshow": {
     "slide_type": "slide"
    }
   },
   "outputs": [],
   "source": [
    "t_rxs = torch.from_numpy(rxs)\n",
    "t_rys = torch.from_numpy(rys)"
   ]
  },
  {
   "cell_type": "code",
   "execution_count": null,
   "id": "9c72e240",
   "metadata": {
    "slideshow": {
     "slide_type": "-"
    }
   },
   "outputs": [],
   "source": [
    "p = torch.FloatTensor([3,1])\n",
    "p.requires_grad_(True);"
   ]
  },
  {
   "cell_type": "code",
   "execution_count": null,
   "id": "e30edcf8",
   "metadata": {
    "slideshow": {
     "slide_type": "-"
    }
   },
   "outputs": [],
   "source": [
    "gd = torch.optim.SGD([p], lr=0.1)"
   ]
  },
  {
   "cell_type": "code",
   "execution_count": null,
   "id": "0937ed0c",
   "metadata": {
    "slideshow": {
     "slide_type": "-"
    }
   },
   "outputs": [],
   "source": [
    "loss_f = torch.nn.MSELoss()"
   ]
  },
  {
   "cell_type": "code",
   "execution_count": null,
   "id": "5605b4c9",
   "metadata": {
    "slideshow": {
     "slide_type": "slide"
    }
   },
   "outputs": [],
   "source": [
    "%%time\n",
    "fig_gd, ax =  plt.subplots(1,2,figsize=(16,8))\n",
    "ax[0].contourf(otg[0], otg[1],vg, levels=20)\n",
    "ax[0].scatter([p[0].item()], [p[1].item()],c='none', s=20, edgecolor='red')\n",
    "eta = 0.1\n",
    "trajectory_list=[]\n",
    "n_iter = 50\n",
    "for i in range(n_iter):\n",
    "    gd.zero_grad()\n",
    "    prediction = torch.sin(t_rxs*p[0]+p[1])\n",
    "    loss = loss_f(prediction, t_rys)\n",
    "    loss.backward()\n",
    "    gd.step()\n",
    "    np_p = p.detach().numpy()\n",
    "    trajectory_list.append(np.concatenate((p.grad.numpy(),np_p,[mse(fitf,rxs, rys,*np_p)])))\n",
    "    ax[0].scatter([np_p[0]], [np_p[1]],c='red', s=20, edgecolor='red')\n",
    "\n",
    "trajectory_gd=np.stack(trajectory_list)\n",
    "utils.plot_grad_and_trajectory(ax[1], trajectory_gd)\n",
    "ax[1].set_xlabel(\"epoch\")\n",
    "plt.close()"
   ]
  },
  {
   "cell_type": "code",
   "execution_count": null,
   "id": "49355f49",
   "metadata": {
    "slideshow": {
     "slide_type": "slide"
    }
   },
   "outputs": [],
   "source": [
    "fig_gd"
   ]
  },
  {
   "cell_type": "markdown",
   "id": "4f5f8475",
   "metadata": {
    "slideshow": {
     "slide_type": "skip"
    }
   },
   "source": [
    "This is a \"plain vanilla\" implementation of gradient descent. However a big drawback of this method is that the time for one iteration is proportional to the size of the training data set. This is not a problem in this case as the data set is very small, but soon our data will grow much bigger. "
   ]
  },
  {
   "cell_type": "markdown",
   "id": "9867d3cd",
   "metadata": {
    "slideshow": {
     "slide_type": "slide"
    }
   },
   "source": [
    "$\\newcommand{\\b}[1]{\\mathbf{#1}}$\n",
    "$\\newcommand{\\grad}{\\operatorname{grad}}$\n",
    "$$\\grad_\\textbf{w}  L(\\b{y},\\b{x}|\\b{w}) =\\frac{1}{N}\\sum_{i=0}^{N-1} \\grad_\\textbf{w}  L(\\b{y}_i,\\b{x}_i|\\b{w}) \n",
    "$$"
   ]
  },
  {
   "cell_type": "markdown",
   "id": "44118d3a",
   "metadata": {
    "slideshow": {
     "slide_type": "slide"
    }
   },
   "source": [
    "# Stochastic gradient \n"
   ]
  },
  {
   "cell_type": "markdown",
   "id": "e7a087f9",
   "metadata": {
    "slideshow": {
     "slide_type": "skip"
    }
   },
   "source": [
    "So far we have calculated the gradient as a sum over the whole data set:"
   ]
  },
  {
   "cell_type": "markdown",
   "id": "4ba0053c",
   "metadata": {
    "slideshow": {
     "slide_type": "skip"
    }
   },
   "source": [
    "As you may recall from theory of probability  and statistics this sum is an approximation of the  real loss averaged over the  (unknown)  distribution of data $P(\\b{y},\\b{x})$. "
   ]
  },
  {
   "cell_type": "markdown",
   "id": "e25e58f0",
   "metadata": {
    "slideshow": {
     "slide_type": "fragment"
    }
   },
   "source": [
    "$$\\frac{1}{N}\\sum_{i=0}^{N-1} \\grad_\\textbf{w}  L(\\b{y}_i,\\b{x}_i|\\b{w}) \n",
    "\\approx \\left\\langle \\grad_\\textbf{w}  L(\\b{y},\\b{x}|\\b{w}) \\right\\rangle_{P(\\b{y},\\b{x})}\n",
    "$$"
   ]
  },
  {
   "cell_type": "markdown",
   "id": "3cdc4b22",
   "metadata": {
    "slideshow": {
     "slide_type": "skip"
    }
   },
   "source": [
    "When $N$ becomes very large, we can sacrifice some precision by taking only a subset of the data $\\{(\\b{y}_{i_0}, \\b{x}_{i_0}), \\ldots,(\\b{y}_{i_{M-1}}, \\b{x}_{i_{M-1}}  )\\}$ to calculate gradient:  "
   ]
  },
  {
   "cell_type": "markdown",
   "id": "650048dd",
   "metadata": {
    "slideshow": {
     "slide_type": "fragment"
    }
   },
   "source": [
    "$$\n",
    "\\left\\langle \\grad_\\textbf{w}  L(\\b{y},\\b{x}|\\b{w}) \\right\\rangle_{P(\\b{y},\\b{x})}\\approx  \\grad_\\textbf{w} \\frac{1}{M}\\sum_{j=0}^{M-1} L(\\b{y}_{i_j},\\b{x}_{i_j}|\\b{w}),\\quad\\text{where}\\quad M\\ll N\n",
    "$$"
   ]
  },
  {
   "cell_type": "markdown",
   "id": "ae52ea2e",
   "metadata": {
    "slideshow": {
     "slide_type": "skip"
    }
   },
   "source": [
    "This will be illustrated below. \n",
    "Instead of taking the whole data sample, we draw smaller *batches* from it. We then calculate the gradient over this batch. The red arrows represent gradient batches, and the blue arrow the whole sample gradient. "
   ]
  },
  {
   "cell_type": "markdown",
   "id": "21109cd0",
   "metadata": {
    "slideshow": {
     "slide_type": "skip"
    }
   },
   "source": [
    "To draw random batch samples we use function `random.choice(sample_size, batch_size)` that draws `batch_size` numbers from range (0,sample_size-1) without replacement  and returns an array containing them. This array is then used to index the original data sample. This is called \"fancy indexing\" in numpy. "
   ]
  },
  {
   "cell_type": "code",
   "execution_count": null,
   "id": "c919a704",
   "metadata": {
    "slideshow": {
     "slide_type": "slide"
    }
   },
   "outputs": [],
   "source": [
    "p=(3,1) # (o,t) parameters\n",
    "sample_size = 100\n",
    "batch_size = 25\n",
    "fig, ax = plt.subplots(1,2, figsize=(12,6))\n",
    "g  = grad(data[:sample_size,0], data[:sample_size,1],*p)\n",
    "ax[0].set_xlim(-3,3);\n",
    "ax[0].set_ylim(-3,3);  \n",
    "ax[0].arrow(0,0,g[0],g[1],color='blue', width=0.01, head_width=0.05, length_includes_head=True, zorder=10)\n",
    "ax[1].set_xlim(-1.2,1.2);\n",
    "ax[1].set_ylim(-1.2,1.2);   \n",
    "ng = g/np.linalg.norm(g)\n",
    "ax[1].arrow(0,0, ng[0], ng[1],color='blue', width=0.01, head_width=0.05, length_includes_head=True,  zorder=10)\n",
    "for i in range(12):\n",
    "    batch_i = np.random.choice(sample_size, batch_size)\n",
    "    g=grad(data[batch_i,0], data[batch_i,1],*p)\n",
    "    ax[0].arrow(0,0,g[0],g[1],color='red', width=0.01, head_width=0.05, length_includes_head=True, zorder=1)\n",
    "    ng = g/np.linalg.norm(g)\n",
    "    ax[1].arrow(0,0,ng[0],ng[1],color='red', width=0.01, head_width=0.05, length_includes_head=True, zorder=1)\n",
    "plt.close()    "
   ]
  },
  {
   "cell_type": "code",
   "execution_count": null,
   "id": "3c800106",
   "metadata": {
    "slideshow": {
     "slide_type": "slide"
    }
   },
   "outputs": [],
   "source": [
    "fig"
   ]
  },
  {
   "cell_type": "markdown",
   "id": "3bb8b451",
   "metadata": {
    "slideshow": {
     "slide_type": "skip"
    }
   },
   "source": [
    "The figure on the left show the gradients, on the right we display same gradients but normalized to better compare their directions.   "
   ]
  },
  {
   "cell_type": "markdown",
   "id": "3e657462",
   "metadata": {
    "slideshow": {
     "slide_type": "skip"
    }
   },
   "source": [
    "As you can see the gradients fluctuate but point more or less in the same direction. The fluctuations are getting smaller when batch size gets bigger. Please experiment with this number and see it yourself. The biggest possible sample size is 1000. "
   ]
  },
  {
   "cell_type": "markdown",
   "id": "c1ebef19",
   "metadata": {
    "slideshow": {
     "slide_type": "skip"
    }
   },
   "source": [
    "Below we take first four batches of data and display the mean square error function for each of them. As you can see while differening, they maintain the same structure. Again with bigger data sizes and bigger batches they will differ less."
   ]
  },
  {
   "cell_type": "code",
   "execution_count": null,
   "id": "4169dd74",
   "metadata": {
    "slideshow": {
     "slide_type": "slide"
    }
   },
   "outputs": [],
   "source": [
    "sample_size = 100\n",
    "batch_size = 25"
   ]
  },
  {
   "cell_type": "code",
   "execution_count": null,
   "id": "bdb89d86",
   "metadata": {
    "slideshow": {
     "slide_type": "fragment"
    }
   },
   "outputs": [],
   "source": [
    "fig, ax = plt.subplots(2,2, figsize=(12,12))\n",
    "os = np.linspace(0, 2*np.pi, 400)\n",
    "ts = np.linspace(-np.pi,np.pi,400)\n",
    "otg = np.meshgrid(os,ts)\n",
    "for i in range(4):    \n",
    "    vg = mse(fitf_tensor, \n",
    "             data[i*batch_size:(i+1)*batch_size,0], \n",
    "             data[i*batch_size:(i+1)*batch_size,1], otg[0], otg[1])\n",
    "    ax.reshape(-1)[i].contourf(otg[0], otg[1],vg, levels=20)\n",
    "plt.close()    "
   ]
  },
  {
   "cell_type": "code",
   "execution_count": null,
   "id": "b477d00e",
   "metadata": {
    "slideshow": {
     "slide_type": "slide"
    }
   },
   "outputs": [],
   "source": [
    "fig"
   ]
  },
  {
   "cell_type": "markdown",
   "id": "c018b7e0",
   "metadata": {
    "slideshow": {
     "slide_type": "slide"
    }
   },
   "source": [
    "## Stochastic gradient descent"
   ]
  },
  {
   "cell_type": "markdown",
   "id": "6088ccc6",
   "metadata": {
    "slideshow": {
     "slide_type": "skip"
    }
   },
   "source": [
    "Below we implement \"plain vanilla\" stochastics gradient descent (SGD). In each iteration we first shufle randomly the data and then split it into batches using function `array_split`. The for each  batch we calculate the gradient and update the parameters accordingly. That way for a single iteration we can get many more parameters updates then in simple gradient descent. This can be seen on the righthand side plot."
   ]
  },
  {
   "cell_type": "code",
   "execution_count": null,
   "id": "7251158d",
   "metadata": {
    "slideshow": {
     "slide_type": "slide"
    }
   },
   "outputs": [],
   "source": [
    "t_data = torch.from_numpy(data)"
   ]
  },
  {
   "cell_type": "code",
   "execution_count": null,
   "id": "a2f1c04f",
   "metadata": {
    "slideshow": {
     "slide_type": "-"
    }
   },
   "outputs": [],
   "source": [
    "p = torch.FloatTensor([3,1])\n",
    "p.requires_grad_(True);"
   ]
  },
  {
   "cell_type": "code",
   "execution_count": null,
   "id": "4dc2f6d6",
   "metadata": {
    "slideshow": {
     "slide_type": "-"
    }
   },
   "outputs": [],
   "source": [
    "sgd = torch.optim.SGD([p], lr=0.1)"
   ]
  },
  {
   "cell_type": "code",
   "execution_count": null,
   "id": "ca105930",
   "metadata": {
    "slideshow": {
     "slide_type": "-"
    }
   },
   "outputs": [],
   "source": [
    "loss_f = torch.nn.MSELoss()"
   ]
  },
  {
   "cell_type": "code",
   "execution_count": null,
   "id": "a6672049",
   "metadata": {
    "slideshow": {
     "slide_type": "slide"
    }
   },
   "outputs": [],
   "source": [
    "%%time\n",
    "sample_size = 100\n",
    "batch_size  = 20\n",
    "n_batches = (sample_size+batch_size-1)/batch_size\n",
    "fig_sgd, ax =  plt.subplots(1,2,figsize=(16,8))\n",
    "ax[0].contourf(otg[0], otg[1],vg, levels=20)\n",
    "ax[0].scatter([p[0].item()], [p[1].item()],c='none', s=20, edgecolor='red')\n",
    "eta = 0.1\n",
    "trajectory_list=[]\n",
    "n_iter = 50\n",
    "for i in range(n_iter):\n",
    "    perm = np.random.permutation(sample_size)\n",
    "    batches = np.array_split(perm,n_batches)\n",
    "    for b in batches:\n",
    "        sgd.zero_grad()\n",
    "        prediction = torch.sin(t_data[b,0]*p[0]+p[1])\n",
    "        loss = loss_f(prediction, t_data[b,1])\n",
    "        loss.backward()\n",
    "        sgd.step()\n",
    "        np_p = p.detach().numpy()\n",
    "        trajectory_list.append(np.concatenate((p.grad.numpy(),np_p,[mse(fitf,rxs, rys,*np_p)])))\n",
    "        ax[0].scatter([np_p[0]], [np_p[1]],c='red', s=20, edgecolor='red')\n",
    "\n",
    "trajectory_sgd=np.stack(trajectory_list)\n",
    "utils.plot_grad_and_trajectory(ax[1], trajectory_sgd)\n",
    "ax[1].set_xlabel(\"epoch\")\n",
    "plt.close()"
   ]
  },
  {
   "cell_type": "code",
   "execution_count": null,
   "id": "4c8061b7",
   "metadata": {
    "slideshow": {
     "slide_type": "slide"
    }
   },
   "outputs": [],
   "source": [
    "fig_sgd"
   ]
  },
  {
   "cell_type": "markdown",
   "id": "a98cd7a3",
   "metadata": {
    "slideshow": {
     "slide_type": "skip"
    }
   },
   "source": [
    "In the gradient fluctuations you can clearly see the stochastic part of the algorith. Again those fluctuations will be smaller for bigger batch sizes."
   ]
  },
  {
   "cell_type": "markdown",
   "id": "2fb33b1e",
   "metadata": {
    "slideshow": {
     "slide_type": "skip"
    }
   },
   "source": [
    "A you can see comparing this to Gradient descent"
   ]
  },
  {
   "cell_type": "code",
   "execution_count": null,
   "id": "a81c24ea",
   "metadata": {
    "slideshow": {
     "slide_type": "slide"
    }
   },
   "outputs": [],
   "source": [
    "fig_gd"
   ]
  },
  {
   "cell_type": "markdown",
   "id": "33586aed",
   "metadata": {
    "slideshow": {
     "slide_type": "skip"
    }
   },
   "source": [
    " SGD algorithm converges more quickly. This can be better seen in the plot below. The horizontal  axis unit is one epoc, that is one pass over all data. The stochastic gradients descent makes more steps in one epoch in approximately same time as  gradient descent makes one step. "
   ]
  },
  {
   "cell_type": "code",
   "execution_count": null,
   "id": "79020043",
   "metadata": {
    "slideshow": {
     "slide_type": "slide"
    }
   },
   "outputs": [],
   "source": [
    "fig_comp , ax = plt.subplots(figsize=(8,8))\n",
    "utils.plot_trajectory(ax, trajectory_gd,1, label=\"Gradient Descent\")\n",
    "utils.plot_trajectory(ax,trajectory_sgd, n_batches, label=\"Stochastic Gradient Descent\")\n",
    "ax.legend()\n",
    "ax.set_xlabel(\"epoch\");"
   ]
  },
  {
   "cell_type": "markdown",
   "id": "3f8ac167",
   "metadata": {
    "slideshow": {
     "slide_type": "slide"
    }
   },
   "source": [
    "## Datasets utils"
   ]
  },
  {
   "cell_type": "markdown",
   "id": "510b7a62",
   "metadata": {
    "slideshow": {
     "slide_type": "skip"
    }
   },
   "source": [
    "PyTorch library provides also some utilities in form of the `Dataset` and `DataLoader` interfaces that facilitiate  iteration over batches."
   ]
  },
  {
   "cell_type": "code",
   "execution_count": null,
   "id": "51ec8dc1",
   "metadata": {
    "slideshow": {
     "slide_type": "slide"
    }
   },
   "outputs": [],
   "source": [
    "p = torch.FloatTensor([3,1])\n",
    "p.requires_grad_(True);"
   ]
  },
  {
   "cell_type": "code",
   "execution_count": null,
   "id": "a844e855",
   "metadata": {
    "slideshow": {
     "slide_type": "-"
    }
   },
   "outputs": [],
   "source": [
    "sgd = torch.optim.SGD([p], lr=0.1)"
   ]
  },
  {
   "cell_type": "code",
   "execution_count": null,
   "id": "c968a670",
   "metadata": {
    "slideshow": {
     "slide_type": "-"
    }
   },
   "outputs": [],
   "source": [
    "loss_f = torch.nn.MSELoss(reduction='sum')"
   ]
  },
  {
   "cell_type": "code",
   "execution_count": null,
   "id": "1fff8895",
   "metadata": {
    "slideshow": {
     "slide_type": "slide"
    }
   },
   "outputs": [],
   "source": [
    "dataset = torch.utils.data.TensorDataset(t_data)"
   ]
  },
  {
   "cell_type": "code",
   "execution_count": null,
   "id": "f3177837",
   "metadata": {
    "slideshow": {
     "slide_type": "fragment"
    }
   },
   "outputs": [],
   "source": [
    "train, test = torch.utils.data.random_split(dataset,(800,200))"
   ]
  },
  {
   "cell_type": "code",
   "execution_count": null,
   "id": "235fd7f6",
   "metadata": {
    "slideshow": {
     "slide_type": "fragment"
    }
   },
   "outputs": [],
   "source": [
    "train_loader = torch.utils.data.DataLoader(train, batch_size=100, shuffle=True)"
   ]
  },
  {
   "cell_type": "code",
   "execution_count": null,
   "id": "1f70c97a",
   "metadata": {
    "slideshow": {
     "slide_type": "slide"
    }
   },
   "outputs": [],
   "source": [
    "%%time\n",
    "errors = []\n",
    "n_iter = 50\n",
    "verbose = 0\n",
    "for i in range(n_iter):\n",
    "    mse_train_error = 0\n",
    "    train_count = 0\n",
    "    for b, in train_loader:\n",
    "        train_count+=len(b)\n",
    "        sgd.zero_grad()\n",
    "        prediction = torch.sin(b[:,0]*p[0]+p[1])\n",
    "        loss = loss_f(prediction, b[:,1])\n",
    "        mse_train_error += loss.item()\n",
    "        loss /= len(b)\n",
    "        loss.backward()\n",
    "        sgd.step()\n",
    "    mse_train_error /= train_count     \n",
    "    with torch.no_grad():\n",
    "        mse_test_error = 0.0\n",
    "        test_count = 0\n",
    "        for b, in train_loader:\n",
    "            prediction = torch.sin(b[:,0]*p[0]+p[1])\n",
    "            test_count +=len(b)\n",
    "            mse_test_error += torch.nn.functional.mse_loss(prediction, b[:,1], reduction='sum').item()\n",
    "        mse_test_error/=test_count\n",
    "        errors.append((i,mse_train_error, mse_test_error))\n",
    "        if verbose > 0:\n",
    "            print(f\"{i:4d} {loss.item():6.4f} {mse_test_error.item():6.4f}\")\n",
    "errors = np.stack(errors,0)        "
   ]
  },
  {
   "cell_type": "code",
   "execution_count": null,
   "id": "df7ef2e4",
   "metadata": {
    "slideshow": {
     "slide_type": "slide"
    }
   },
   "outputs": [],
   "source": [
    "plt.plot(errors[:,0], errors[:,1], '.', label='train');\n",
    "plt.plot(errors[:,0], errors[:,2], '.', label='test');\n",
    "plt.legend();"
   ]
  },
  {
   "cell_type": "code",
   "execution_count": null,
   "id": "f0b5ab02",
   "metadata": {},
   "outputs": [],
   "source": []
  }
 ],
 "metadata": {
  "jupytext": {
   "cell_metadata_json": true,
   "text_representation": {
    "extension": ".Rmd",
    "format_name": "rmarkdown",
    "format_version": "1.2",
    "jupytext_version": "1.11.1"
   }
  },
  "kernelspec": {
   "display_name": "Python 3",
   "language": "python",
   "name": "python3"
  }
 },
 "nbformat": 4,
 "nbformat_minor": 5
}