{
 "cells": [
  {
   "cell_type": "code",
   "execution_count": null,
   "id": "e9c4984d",
   "metadata": {
    "slideshow": {
     "slide_type": "skip"
    }
   },
   "outputs": [],
   "source": [
    "from IPython.core.display import Image, SVG"
   ]
  },
  {
   "cell_type": "code",
   "execution_count": null,
   "id": "a26f7008",
   "metadata": {
    "slideshow": {
     "slide_type": "skip"
    }
   },
   "outputs": [],
   "source": [
    "import numpy as np\n",
    "import matplotlib.pyplot as plt\n",
    "%matplotlib inline\n",
    "plt.rcParams[\"figure.figsize\"] = (10,8)"
   ]
  },
  {
   "cell_type": "markdown",
   "id": "61182a4d",
   "metadata": {
    "slideshow": {
     "slide_type": "slide"
    }
   },
   "source": [
    "# Neural networks "
   ]
  },
  {
   "cell_type": "markdown",
   "id": "4985a603",
   "metadata": {
    "slideshow": {
     "slide_type": "skip"
    }
   },
   "source": [
    "As we have learned in the previous notebook  a key ingredient of the supervised learning is finding a mapping that minimizes loss over a given data set. As we cannot generally find a minimum in a set of all functions (and actually we do not want to) we are looking for the minimum in a familly of functions defined by some set of parameters. "
   ]
  },
  {
   "cell_type": "markdown",
   "id": "820459f5",
   "metadata": {
    "slideshow": {
     "slide_type": "skip"
    }
   },
   "source": [
    "The loss function the becomes the function of those parameters only. "
   ]
  },
  {
   "cell_type": "markdown",
   "id": "890a3c7e",
   "metadata": {
    "slideshow": {
     "slide_type": "skip"
    }
   },
   "source": [
    "The neural networks make up such a familly of functions. Those functions are made up by composing together many elementary simple functions. Those  elementary functions are usually called neurons. "
   ]
  },
  {
   "cell_type": "markdown",
   "id": "5862f8b0",
   "metadata": {
    "slideshow": {
     "slide_type": "fragment"
    }
   },
   "source": [
    "$$f(\\mathbf{x})=f(\\mathbf{x}|\\mathbf{w})$$"
   ]
  },
  {
   "cell_type": "markdown",
   "id": "9851406f",
   "metadata": {
    "slideshow": {
     "slide_type": "slide"
    }
   },
   "source": [
    "# Neuron"
   ]
  },
  {
   "cell_type": "markdown",
   "id": "78365487",
   "metadata": {
    "slideshow": {
     "slide_type": "skip"
    }
   },
   "source": [
    "A single neuron can have many inputs and only one output.  "
   ]
  },
  {
   "cell_type": "code",
   "execution_count": null,
   "id": "fe416c14",
   "metadata": {
    "slideshow": {
     "slide_type": "skip"
    }
   },
   "outputs": [],
   "source": [
    "from IPython.core.display import SVG"
   ]
  },
  {
   "cell_type": "code",
   "execution_count": null,
   "id": "77881683",
   "metadata": {},
   "outputs": [],
   "source": [
    "SVG(filename='../figures/perceptron.svg')"
   ]
  },
  {
   "cell_type": "markdown",
   "id": "49b0e6c6",
   "metadata": {
    "slideshow": {
     "slide_type": "skip"
    }
   },
   "source": [
    "There is a number $w_i$, called *weight*, associated with each input. Each input value $x_i$ is multiplied by the weight and the results are added together and Then another  $b$ called \n",
    "*bias* is added to the sum:"
   ]
  },
  {
   "cell_type": "markdown",
   "id": "05876f21",
   "metadata": {
    "slideshow": {
     "slide_type": "fragment"
    }
   },
   "source": [
    "$$o = \\sum_k w_k x_k +b$$"
   ]
  },
  {
   "cell_type": "markdown",
   "id": "082efd82",
   "metadata": {
    "slideshow": {
     "slide_type": "skip"
    }
   },
   "source": [
    " and the result is used as an argument of an *activation function*.  "
   ]
  },
  {
   "cell_type": "markdown",
   "id": "5d07419e",
   "metadata": {
    "slideshow": {
     "slide_type": "fragment"
    }
   },
   "source": [
    "$$y = a(o) = a\\left(\\sum_k w_k x_k + b\\right)$$"
   ]
  },
  {
   "cell_type": "markdown",
   "id": "2101895b",
   "metadata": {
    "slideshow": {
     "slide_type": "skip"
    }
   },
   "source": [
    "Together weights, bias and activation function define the behaviour of the neuron. The activation function is chosen once and remains constant. The weights and bias are the parameters that  have to be optimized during learning. "
   ]
  },
  {
   "cell_type": "markdown",
   "id": "7c9eeb72",
   "metadata": {
    "slideshow": {
     "slide_type": "slide"
    }
   },
   "source": [
    "# Activation functions"
   ]
  },
  {
   "cell_type": "markdown",
   "id": "47334811",
   "metadata": {
    "slideshow": {
     "slide_type": "skip"
    }
   },
   "source": [
    "The simplest activation function would be the identity, which can be also considered as no activation function"
   ]
  },
  {
   "cell_type": "markdown",
   "id": "468c27c3",
   "metadata": {
    "slideshow": {
     "slide_type": "slide"
    }
   },
   "source": [
    "### Identity "
   ]
  },
  {
   "cell_type": "markdown",
   "id": "ea0e9063",
   "metadata": {
    "slideshow": {
     "slide_type": "fragment"
    }
   },
   "source": [
    "$$a(x)=x$$"
   ]
  },
  {
   "cell_type": "markdown",
   "id": "6ad5d18d",
   "metadata": {
    "slideshow": {
     "slide_type": "skip"
    }
   },
   "source": [
    "However this means that all that the neuron, or a collection of neurons can calculate are just affine functions. This is a much to small family for any practical use. "
   ]
  },
  {
   "cell_type": "markdown",
   "id": "519adbf2",
   "metadata": {
    "slideshow": {
     "slide_type": "skip"
    }
   },
   "source": [
    "To be able to represent more complicated functions we need to add some *non-linearity*"
   ]
  },
  {
   "cell_type": "markdown",
   "id": "4298acb2",
   "metadata": {
    "slideshow": {
     "slide_type": "slide"
    }
   },
   "source": [
    "### Step function"
   ]
  },
  {
   "cell_type": "markdown",
   "id": "d92e46bb",
   "metadata": {
    "slideshow": {
     "slide_type": "fragment"
    }
   },
   "source": [
    "$$\n",
    "\\Theta(x) = \\begin{cases}\n",
    "0 & x\\leq0 \\\\\n",
    "1 & x>0\n",
    "\\end{cases}\n",
    "$$"
   ]
  },
  {
   "cell_type": "markdown",
   "id": "aaf0fa7c",
   "metadata": {
    "lines_to_next_cell": 0,
    "slideshow": {
     "slide_type": "slide"
    }
   },
   "source": [
    "### Sigmoid"
   ]
  },
  {
   "cell_type": "markdown",
   "id": "cc862975",
   "metadata": {
    "slideshow": {
     "slide_type": "skip"
    }
   },
   "source": [
    "\n"
   ]
  },
  {
   "cell_type": "markdown",
   "id": "84e9c57b",
   "metadata": {
    "slideshow": {
     "slide_type": "fragment"
    }
   },
   "source": [
    "$$s(x) = \\frac{1}{1+e^{-x}} = \\frac{e^x}{1+e^x}$$"
   ]
  },
  {
   "cell_type": "code",
   "execution_count": null,
   "id": "4227a777",
   "metadata": {
    "slideshow": {
     "slide_type": "slide"
    }
   },
   "outputs": [],
   "source": [
    "def s(x):\n",
    "    return 1.0/(1.0+np.exp(-x))"
   ]
  },
  {
   "cell_type": "code",
   "execution_count": null,
   "id": "cbe60bd9",
   "metadata": {
    "slideshow": {
     "slide_type": "fragment"
    }
   },
   "outputs": [],
   "source": [
    "xs = np.linspace(-10,10,100)\n",
    "plt.plot(xs,s(xs),'-')\n",
    "plt.grid()"
   ]
  },
  {
   "cell_type": "markdown",
   "id": "0e514d3c",
   "metadata": {
    "slideshow": {
     "slide_type": "slide"
    }
   },
   "source": [
    "### Softmax"
   ]
  },
  {
   "cell_type": "markdown",
   "id": "9bf8bcbb",
   "metadata": {
    "slideshow": {
     "slide_type": "fragment"
    }
   },
   "source": [
    "$$y_i = \\frac{e^{o_i}}{\\sum_i e^{o_i}}$$ "
   ]
  },
  {
   "cell_type": "markdown",
   "id": "ac74f424",
   "metadata": {
    "slideshow": {
     "slide_type": "fragment"
    }
   },
   "source": [
    "$$\\sum_i y_i = 1$$"
   ]
  },
  {
   "cell_type": "markdown",
   "id": "d1c99ad8",
   "metadata": {
    "slideshow": {
     "slide_type": "slide"
    }
   },
   "source": [
    "### Tanh"
   ]
  },
  {
   "cell_type": "markdown",
   "id": "8dc939d9",
   "metadata": {
    "slideshow": {
     "slide_type": "fragment"
    }
   },
   "source": [
    "$$ \\tanh(x) =\\frac{e^{x}-e^{-x}}{e^x+e^{-x}}$$"
   ]
  },
  {
   "cell_type": "code",
   "execution_count": null,
   "id": "41cbd2ca",
   "metadata": {
    "slideshow": {
     "slide_type": "fragment"
    }
   },
   "outputs": [],
   "source": [
    "plt.plot(xs,np.tanh(xs),'-');"
   ]
  },
  {
   "cell_type": "markdown",
   "id": "aaedcda0",
   "metadata": {
    "slideshow": {
     "slide_type": "skip"
    }
   },
   "source": [
    "$$\\tanh(x) = 2 s(2 x) -1 $$"
   ]
  },
  {
   "cell_type": "markdown",
   "id": "d4c5c4ba",
   "metadata": {
    "slideshow": {
     "slide_type": "slide"
    }
   },
   "source": [
    "### Rectified Linear Unit ( ReLU)"
   ]
  },
  {
   "cell_type": "markdown",
   "id": "40378c2f",
   "metadata": {
    "slideshow": {
     "slide_type": "fragment"
    }
   },
   "source": [
    "$$\n",
    "\\newcommand{\\relu}{\\operatorname{relu}}\n",
    "\\relu(x) = \\begin{cases}\n",
    "0 & x<=0 \\\\\n",
    "x & x>0\n",
    "\\end{cases}\n",
    "$$"
   ]
  },
  {
   "cell_type": "code",
   "execution_count": null,
   "id": "8ac8286b",
   "metadata": {
    "slideshow": {
     "slide_type": "slide"
    }
   },
   "outputs": [],
   "source": [
    "import torch\n",
    "relu = torch.nn.ReLU()"
   ]
  },
  {
   "cell_type": "code",
   "execution_count": null,
   "id": "1d7a2133",
   "metadata": {
    "slideshow": {
     "slide_type": "fragment"
    }
   },
   "outputs": [],
   "source": [
    "plt.plot(xs,relu(torch.from_numpy(xs)).numpy(),'-')\n",
    "plt.show()"
   ]
  },
  {
   "cell_type": "markdown",
   "id": "370055b6",
   "metadata": {
    "slideshow": {
     "slide_type": "slide"
    }
   },
   "source": [
    "### Hiden layer"
   ]
  },
  {
   "cell_type": "code",
   "execution_count": null,
   "id": "528acfd7",
   "metadata": {},
   "outputs": [],
   "source": [
    "SVG(filename='../figures/hidden_layer.svg')"
   ]
  },
  {
   "cell_type": "markdown",
   "id": "b13b9d68",
   "metadata": {
    "slideshow": {
     "slide_type": "slide"
    }
   },
   "source": [
    "$$h_i = a^{(1)}\\left(\\sum_{j}w^{(1)}_{ij}x_j + b^{(1)}_i\\right)$$"
   ]
  },
  {
   "cell_type": "markdown",
   "id": "7970c662",
   "metadata": {
    "slideshow": {
     "slide_type": "fragment"
    }
   },
   "source": [
    "$$h = a^{(1)}\\left(w^{(1)}x + b^{(1)}\\right)$$"
   ]
  },
  {
   "cell_type": "markdown",
   "id": "2ba42a55",
   "metadata": {
    "slideshow": {
     "slide_type": "fragment"
    }
   },
   "source": [
    "$$y =  a^{(2)}\\left(\\sum_{j}w^{(2)}_{ij}h_j + b^{(2)}_i\\right)$$"
   ]
  },
  {
   "cell_type": "markdown",
   "id": "a163717a",
   "metadata": {
    "slideshow": {
     "slide_type": "fragment"
    }
   },
   "source": [
    "\n",
    "\n",
    "\n",
    "\n",
    "\n",
    "\n",
    "\n",
    "\n",
    "\n",
    "$$y =  a^{(2)}\\left(w^{(2)}h + b^{(2)}\\right)$$"
   ]
  },
  {
   "cell_type": "markdown",
   "id": "a4eab6ca",
   "metadata": {
    "slideshow": {
     "slide_type": "fragment"
    }
   },
   "source": [
    "$$ \n",
    "y = a^{(2)}\\left(\n",
    "w^{(2)}a^{(1)}\\left(w^{(1)}x + b^{(1)}\n",
    "\\right)+b^{(2)}\n",
    "\\right)$$"
   ]
  },
  {
   "cell_type": "markdown",
   "id": "77f88709",
   "metadata": {
    "slideshow": {
     "slide_type": "slide"
    }
   },
   "source": [
    "# Multilayer perceptron"
   ]
  },
  {
   "cell_type": "code",
   "execution_count": null,
   "id": "cc74f734",
   "metadata": {
    "slideshow": {
     "slide_type": "slide"
    }
   },
   "outputs": [],
   "source": [
    "SVG(filename ='../figures/MLP.svg')"
   ]
  },
  {
   "cell_type": "code",
   "execution_count": null,
   "id": "bfa20fd8",
   "metadata": {
    "slideshow": {
     "slide_type": "slide"
    }
   },
   "outputs": [],
   "source": [
    "import torch.nn as nn\n",
    "import torch"
   ]
  },
  {
   "cell_type": "code",
   "execution_count": null,
   "id": "e744ff44",
   "metadata": {},
   "outputs": [],
   "source": [
    "torch.__version__"
   ]
  },
  {
   "cell_type": "code",
   "execution_count": null,
   "id": "ce6fc7f2",
   "metadata": {
    "slideshow": {
     "slide_type": "fragment"
    }
   },
   "outputs": [],
   "source": [
    "net = nn.Sequential(nn.Linear(in_features=1, out_features=128), nn.ReLU(),\n",
    "                   nn.Linear(in_features=128, out_features=64), nn.ReLU(), \n",
    "                   nn.Linear(in_features=64, out_features=32), nn.ReLU(), \n",
    "                   nn.Linear(in_features=32, out_features=1))"
   ]
  },
  {
   "cell_type": "markdown",
   "id": "20f0780f",
   "metadata": {
    "slideshow": {
     "slide_type": "fragment"
    }
   },
   "source": [
    "How many parameters does this network have?"
   ]
  },
  {
   "cell_type": "code",
   "execution_count": null,
   "id": "639d8aaa",
   "metadata": {
    "slideshow": {
     "slide_type": "slide"
    }
   },
   "outputs": [],
   "source": [
    "data = np.load(\"../data/sgd_data.npy\").astype('float32')\n",
    "rxs = data[:50,0]\n",
    "rys = data[:50,1]\n",
    "rxs_valid = data[50:75,0]\n",
    "rys_valid = data[50:75,1]"
   ]
  },
  {
   "cell_type": "code",
   "execution_count": null,
   "id": "41c23534",
   "metadata": {
    "slideshow": {
     "slide_type": "fragment"
    }
   },
   "outputs": [],
   "source": [
    "t_rxs = torch.from_numpy(rxs).view(-1,1)\n",
    "t_rys = torch.from_numpy(rys).view(-1,1)\n",
    "t_rxs_valid = torch.from_numpy(rxs_valid).view(-1,1)\n",
    "t_rys_valid = torch.from_numpy(rys_valid).view(-1,1)"
   ]
  },
  {
   "cell_type": "code",
   "execution_count": null,
   "id": "d3145b7c",
   "metadata": {
    "slideshow": {
     "slide_type": "slide"
    }
   },
   "outputs": [],
   "source": [
    "loss_f = nn.MSELoss()"
   ]
  },
  {
   "cell_type": "code",
   "execution_count": null,
   "id": "31b931cc",
   "metadata": {},
   "outputs": [],
   "source": [
    "optim = torch.optim.SGD(net.parameters(),lr=0.001)"
   ]
  },
  {
   "cell_type": "code",
   "execution_count": null,
   "id": "13d1005c",
   "metadata": {
    "slideshow": {
     "slide_type": "slide"
    }
   },
   "outputs": [],
   "source": [
    "%%time \n",
    "for epoch in range(25000):\n",
    "    optim.zero_grad()\n",
    "    pred = net(t_rxs)\n",
    "    loss = loss_f(pred, t_rys)\n",
    "    loss.backward()\n",
    "    with torch.no_grad():\n",
    "        pred_valid = net(t_rxs_valid)\n",
    "        loss_valid = loss_f(pred_valid, t_rys_valid)\n",
    "    optim.step()\n",
    "print(loss, loss_valid)"
   ]
  },
  {
   "cell_type": "code",
   "execution_count": null,
   "id": "4540cb4b",
   "metadata": {
    "slideshow": {
     "slide_type": "slide"
    }
   },
   "outputs": [],
   "source": [
    "xs = np.linspace(-np.pi, np.pi, 200).astype('float32')\n",
    "t_ys = net(torch.from_numpy(xs).view(-1,1))"
   ]
  },
  {
   "cell_type": "code",
   "execution_count": null,
   "id": "2ce52efe",
   "metadata": {
    "slideshow": {
     "slide_type": "fragment"
    }
   },
   "outputs": [],
   "source": [
    "plt.scatter(rxs, rys, color='none', edgecolors='black')\n",
    "plt.scatter(rxs_valid, rys_valid, color='none', edgecolors='red')\n",
    "plt.plot(xs,t_ys.detach().numpy());"
   ]
  },
  {
   "cell_type": "code",
   "execution_count": null,
   "id": "78abeae7",
   "metadata": {
    "slideshow": {
     "slide_type": "skip"
    }
   },
   "outputs": [],
   "source": []
  },
  {
   "cell_type": "code",
   "execution_count": null,
   "id": "4e2c886e",
   "metadata": {
    "slideshow": {
     "slide_type": "skip"
    }
   },
   "outputs": [],
   "source": []
  }
 ],
 "metadata": {
  "jupytext": {
   "cell_metadata_json": true,
   "text_representation": {
    "extension": ".Rmd",
    "format_name": "rmarkdown",
    "format_version": "1.2",
    "jupytext_version": "1.11.1"
   }
  },
  "kernelspec": {
   "display_name": "Python 3",
   "language": "python",
   "name": "python3"
  }
 },
 "nbformat": 4,
 "nbformat_minor": 5
}