{
 "cells": [
  {
   "cell_type": "code",
   "execution_count": null,
   "id": "4c657808",
   "metadata": {
    "slideshow": {
     "slide_type": "skip"
    }
   },
   "outputs": [],
   "source": [
    "import torch\n",
    "import torchvision\n",
    "from torch import nn\n",
    "import matplotlib.pyplot as plt\n",
    "import numpy as np\n",
    "%matplotlib inline"
   ]
  },
  {
   "cell_type": "markdown",
   "id": "0177af3d",
   "metadata": {
    "slideshow": {
     "slide_type": "slide"
    }
   },
   "source": [
    "# Classification "
   ]
  },
  {
   "cell_type": "markdown",
   "id": "891f09dc",
   "metadata": {},
   "source": [
    "As the classification example we will use the \"Hello World!\" of machine learning: [\"The MNIST Database of hanwritten digits\"](http://yann.lecun.com/exdb/mnist/). "
   ]
  },
  {
   "cell_type": "markdown",
   "id": "5ba502ea",
   "metadata": {
    "slideshow": {
     "slide_type": "slide"
    }
   },
   "source": [
    "## MNIST"
   ]
  },
  {
   "cell_type": "markdown",
   "id": "e32f5bfe",
   "metadata": {
    "slideshow": {
     "slide_type": "skip"
    }
   },
   "source": [
    "This dataset bundled in many machine learning libraries and PyTorch is no exception. "
   ]
  },
  {
   "cell_type": "code",
   "execution_count": null,
   "id": "4a48cc55",
   "metadata": {
    "slideshow": {
     "slide_type": "skip"
    }
   },
   "outputs": [],
   "source": [
    "torchvision.__version__"
   ]
  },
  {
   "cell_type": "code",
   "execution_count": null,
   "id": "a07c29a0",
   "metadata": {
    "slideshow": {
     "slide_type": "slide"
    }
   },
   "outputs": [],
   "source": [
    "train_data = torchvision.datasets.MNIST('./data/mnist', train=True, download=True)\n",
    "test_data  = torchvision.datasets.MNIST('./data/mnist', train=False, download=True)"
   ]
  },
  {
   "cell_type": "code",
   "execution_count": null,
   "id": "7c2924cb",
   "metadata": {
    "slideshow": {
     "slide_type": "slide"
    }
   },
   "outputs": [],
   "source": [
    "train_features   = train_data.data.to(dtype=torch.float32)\n",
    "train_labels = train_data.targets"
   ]
  },
  {
   "cell_type": "markdown",
   "id": "632d665b",
   "metadata": {
    "slideshow": {
     "slide_type": "skip"
    }
   },
   "source": [
    "The data consists of 28 by 28 pixels 8bit grayscale images of handwritten digits, the labels are integers denoting corresponding digits:"
   ]
  },
  {
   "cell_type": "code",
   "execution_count": null,
   "id": "0de2eb85",
   "metadata": {
    "slideshow": {
     "slide_type": "slide"
    }
   },
   "outputs": [],
   "source": [
    "fig_mnist, axes = plt.subplots(2,4, figsize=(16,8))\n",
    "for i in range(8):\n",
    "    ax=axes.ravel()[i]\n",
    "    ax.imshow(train_features[i].numpy(), cmap='Greys');\n",
    "    ax.set_title(train_labels[i].item(), fontsize=20)"
   ]
  },
  {
   "cell_type": "markdown",
   "id": "c28cfa2a",
   "metadata": {
    "slideshow": {
     "slide_type": "skip"
    }
   },
   "source": [
    "For the purpose of this notebook I will load only a sybset of data. This will make the training of the network much quicker. "
   ]
  },
  {
   "cell_type": "code",
   "execution_count": null,
   "id": "8d5c9a47",
   "metadata": {
    "slideshow": {
     "slide_type": "fragment"
    }
   },
   "outputs": [],
   "source": [
    "n_samples = 12000"
   ]
  },
  {
   "cell_type": "markdown",
   "id": "f68231f1",
   "metadata": {
    "slideshow": {
     "slide_type": "skip"
    }
   },
   "source": [
    "Because we will be using the fully connected neural network as our classifier I will flatten each image to 28x28 long 1D array. I will also normalize the grayscale values to [0,1). "
   ]
  },
  {
   "cell_type": "code",
   "execution_count": null,
   "id": "0587f257",
   "metadata": {
    "slideshow": {
     "slide_type": "slide"
    }
   },
   "outputs": [],
   "source": [
    "dataset = torch.utils.data.TensorDataset( \n",
    "    (train_features[:n_samples]/256.0).view(-1,28*28), \n",
    "    train_labels[:n_samples])"
   ]
  },
  {
   "cell_type": "code",
   "execution_count": null,
   "id": "7753ed8f",
   "metadata": {
    "slideshow": {
     "slide_type": "fragment"
    }
   },
   "outputs": [],
   "source": [
    "train_dataset, validation_dataset = torch.utils.data.random_split(dataset, (10000,2000))"
   ]
  },
  {
   "cell_type": "code",
   "execution_count": null,
   "id": "8c3ef3d8",
   "metadata": {
    "slideshow": {
     "slide_type": "fragment"
    }
   },
   "outputs": [],
   "source": [
    "train_loader = torch.utils.data.DataLoader(train_dataset, \n",
    "                                           batch_size = 100, \n",
    "                                           shuffle = True)\n",
    "validation_loader = torch.utils.data.DataLoader(validation_dataset, \n",
    "                                           batch_size = 100, \n",
    "                                           shuffle = True)"
   ]
  },
  {
   "cell_type": "code",
   "execution_count": null,
   "id": "7374f121",
   "metadata": {
    "slideshow": {
     "slide_type": "slide"
    }
   },
   "outputs": [],
   "source": [
    "test_features   = test_data.data.to(dtype=torch.float32)\n",
    "test_labels = test_data.targets\n",
    "test_dataset = torch.utils.data.TensorDataset(\n",
    "    (test_features/256.0).view(-1,28*28), test_labels)"
   ]
  },
  {
   "cell_type": "markdown",
   "id": "97ded2c9",
   "metadata": {
    "slideshow": {
     "slide_type": "slide"
    }
   },
   "source": [
    "## Cross entropy"
   ]
  },
  {
   "cell_type": "markdown",
   "id": "0877f542",
   "metadata": {
    "slideshow": {
     "slide_type": "skip"
    }
   },
   "source": [
    "For classification problems  with $M$  possible categories $C=\\{0,\\ldots,M-1\\}$ the output of the model  is a 1D vector with $M$ entries corresponding to probabilities  for each class"
   ]
  },
  {
   "cell_type": "markdown",
   "id": "387016b1",
   "metadata": {
    "slideshow": {
     "slide_type": "fragment"
    }
   },
   "source": [
    "$$o^l_i = P(i | \\mathbf{x}_i)$$"
   ]
  },
  {
   "cell_type": "markdown",
   "id": "7b462ef0",
   "metadata": {
    "slideshow": {
     "slide_type": "skip"
    }
   },
   "source": [
    "where $l$ is the index of the  last layer. This is achieved by the _softmax_ activation function on the last layer:"
   ]
  },
  {
   "cell_type": "markdown",
   "id": "b5024f73",
   "metadata": {
    "slideshow": {
     "slide_type": "fragment"
    }
   },
   "source": [
    "$$o^{l}_i = \\frac{ e^{\\displaystyle o^{l-1}_i}}{\\sum_{i=0}^{M-1}e^{\\displaystyle o^{l-1}_i}}$$"
   ]
  },
  {
   "cell_type": "markdown",
   "id": "17c6b868",
   "metadata": {
    "slideshow": {
     "slide_type": "skip"
    }
   },
   "source": [
    "Where $o^{l-1}_i$ is the output of the previous layer.  I will  use the word _layer_ in a generalized sense. A layer is a single operation so for example the  activation function application is considered as a separate layer. "
   ]
  },
  {
   "cell_type": "markdown",
   "id": "ab8f6dfb",
   "metadata": {
    "slideshow": {
     "slide_type": "skip"
    }
   },
   "source": [
    "We will use the  _Negative Log Likelihood_ loss:"
   ]
  },
  {
   "cell_type": "markdown",
   "id": "f7cd4f69",
   "metadata": {},
   "source": [
    "$$-\\sum_{i=0}^N\\log P(c_i|\\mathbf{x}_i) = -\\sum_{i=0}^N\\log a_{ c_{\\scriptstyle i}}$$ "
   ]
  },
  {
   "cell_type": "markdown",
   "id": "a71d9d75",
   "metadata": {
    "slideshow": {
     "slide_type": "skip"
    }
   },
   "source": [
    "where $c_i$  is the category corresponding to features $\\mathbf{x}_i$. "
   ]
  },
  {
   "cell_type": "markdown",
   "id": "ce41e661",
   "metadata": {
    "slideshow": {
     "slide_type": "skip"
    }
   },
   "source": [
    "This is often written in _cross entropy_ form:"
   ]
  },
  {
   "cell_type": "markdown",
   "id": "13b727a5",
   "metadata": {
    "slideshow": {
     "slide_type": "fragment"
    }
   },
   "source": [
    "$$-\\sum_{i=0}^N\n",
    "\\sum_{j=0}^{M-1} l_{ij} \\log a_{j}$$ "
   ]
  },
  {
   "cell_type": "markdown",
   "id": "7c1b2694",
   "metadata": {
    "slideshow": {
     "slide_type": "skip"
    }
   },
   "source": [
    "where $l_{ij}$ are _one-hot_ encoded categories:"
   ]
  },
  {
   "cell_type": "markdown",
   "id": "057d1803",
   "metadata": {
    "slideshow": {
     "slide_type": "fragment"
    }
   },
   "source": [
    "$$ l_{ij} =\\begin{cases}\n",
    "1 & c_i = j \\\\\n",
    "0 & c_i\\neq j\n",
    "\\end{cases}\n",
    "$$"
   ]
  },
  {
   "cell_type": "markdown",
   "id": "fa711384",
   "metadata": {
    "slideshow": {
     "slide_type": "slide"
    }
   },
   "source": [
    "## The model "
   ]
  },
  {
   "cell_type": "markdown",
   "id": "6422efe0",
   "metadata": {
    "slideshow": {
     "slide_type": "skip"
    }
   },
   "source": [
    "We will use a fully  four  fully connected layers with `ReLU` activation layers in between as our model and `softmax` as the last layer.  The model can be easily constructed using the PyTorch `nn.Sequential` class:"
   ]
  },
  {
   "cell_type": "code",
   "execution_count": null,
   "id": "03b0f8df",
   "metadata": {
    "slideshow": {
     "slide_type": "fragment"
    }
   },
   "outputs": [],
   "source": [
    "model = torch.nn.Sequential(\n",
    "    nn.Linear(28*28,1200), nn.ReLU(),\n",
    "    nn.Linear(1200,600), nn.ReLU(),\n",
    "    nn.Linear(600,300), nn.ReLU(),\n",
    "    nn.Linear(300,10), nn.Softmax(dim=1)\n",
    ")"
   ]
  },
  {
   "cell_type": "markdown",
   "id": "66335f22",
   "metadata": {
    "slideshow": {
     "slide_type": "skip"
    }
   },
   "source": [
    "The network has 28x28=784 inputs and ten outputs which correspond to ten possible categories.  The model parameters: weights and biases are initalized randomly (more on this in other lectures). Let's check how this model performs, we will use   the `torch.no_grad()` _context manager_ to temporalily switch off gradient calculations"
   ]
  },
  {
   "cell_type": "code",
   "execution_count": null,
   "id": "4c0eaec0",
   "metadata": {
    "slideshow": {
     "slide_type": "fragment"
    }
   },
   "outputs": [],
   "source": [
    "with torch.no_grad():\n",
    "    pred = model(train_dataset[:][0])"
   ]
  },
  {
   "cell_type": "markdown",
   "id": "25fdc3b1",
   "metadata": {
    "slideshow": {
     "slide_type": "skip"
    }
   },
   "source": [
    "Tensor `pred` contains the predicted probabilities for each  digit for each input:"
   ]
  },
  {
   "cell_type": "code",
   "execution_count": null,
   "id": "a706a510",
   "metadata": {
    "slideshow": {
     "slide_type": "fragment"
    }
   },
   "outputs": [],
   "source": [
    "pred[:4]"
   ]
  },
  {
   "cell_type": "markdown",
   "id": "c92ba613",
   "metadata": {
    "slideshow": {
     "slide_type": "skip"
    }
   },
   "source": [
    "As we can see the distribution looks rather uniform. We can check that indeed the probabilities for each category sum to one:"
   ]
  },
  {
   "cell_type": "code",
   "execution_count": null,
   "id": "066660eb",
   "metadata": {
    "slideshow": {
     "slide_type": "fragment"
    }
   },
   "outputs": [],
   "source": [
    "pred.sum(1)"
   ]
  },
  {
   "cell_type": "markdown",
   "id": "388df5c5",
   "metadata": {
    "slideshow": {
     "slide_type": "skip"
    }
   },
   "source": [
    "The accuracy of  clasification can be calculated as follows: "
   ]
  },
  {
   "cell_type": "code",
   "execution_count": null,
   "id": "a4621ea2",
   "metadata": {
    "slideshow": {
     "slide_type": "slide"
    }
   },
   "outputs": [],
   "source": [
    "def accuracy(pred, labels):\n",
    "    return torch.sum(torch.argmax(pred,axis = 1)==labels).to(dtype=torch.float32).item()/len(labels)"
   ]
  },
  {
   "cell_type": "markdown",
   "id": "3bf44c95",
   "metadata": {
    "slideshow": {
     "slide_type": "skip"
    }
   },
   "source": [
    "Let's break down this function. The `argmax` function with `axis` argument equal to one for each row returns the index of the column containing the largest value. This is next compared with actual labels.   Finally we use implicit conversion of `False` to zero and `True` to one to calculate the number of labels predicted correctly. We finally divide by the length of the dataset to obtain accuracy. The conversion to float is needed because otherwise the integer arthmetic is used. "
   ]
  },
  {
   "cell_type": "markdown",
   "id": "e1c7cdc8",
   "metadata": {
    "slideshow": {
     "slide_type": "skip"
    }
   },
   "source": [
    "Not suprisingly our accuracy is even worse then random guessing"
   ]
  },
  {
   "cell_type": "code",
   "execution_count": null,
   "id": "eb3db2e0",
   "metadata": {
    "slideshow": {
     "slide_type": "fragment"
    }
   },
   "outputs": [],
   "source": [
    "accuracy(pred, train_dataset[:][1])"
   ]
  },
  {
   "cell_type": "markdown",
   "id": "f6113331",
   "metadata": {
    "slideshow": {
     "slide_type": "skip"
    }
   },
   "source": [
    "We will  define another  accuracy function for further convenience: "
   ]
  },
  {
   "cell_type": "code",
   "execution_count": null,
   "id": "2899c069",
   "metadata": {
    "slideshow": {
     "slide_type": "skip"
    }
   },
   "outputs": [],
   "source": [
    "def model_accuracy(model, dataset):\n",
    "    features, labels = dataset[:]\n",
    "    with torch.no_grad():\n",
    "        pred = model(features)\n",
    "    return accuracy(pred, labels)"
   ]
  },
  {
   "cell_type": "markdown",
   "id": "adfb9a79",
   "metadata": {
    "slideshow": {
     "slide_type": "skip"
    }
   },
   "source": [
    "Before we start training we need the loss function:"
   ]
  },
  {
   "cell_type": "code",
   "execution_count": null,
   "id": "90bfb025",
   "metadata": {
    "slideshow": {
     "slide_type": "slide"
    }
   },
   "outputs": [],
   "source": [
    "def my_nll_loss(pred,labels):\n",
    "    return -torch.mean(\n",
    "        torch.log(0.0000001+pred[range(len(labels)),labels])\n",
    "                      )"
   ]
  },
  {
   "cell_type": "markdown",
   "id": "c1606687",
   "metadata": {
    "slideshow": {
     "slide_type": "skip"
    }
   },
   "source": [
    "Let's break it down: the `pred[range(len(labels)),labels]`  expression takes from each row $i$ of the `pred` tensor the value from the column $\\mathtt{labels}_i$ which is the probability of the correct label. We then take the logarithm and average over all examples. The small value is added in case one of the entries would be zero.  "
   ]
  },
  {
   "cell_type": "markdown",
   "id": "8f6a5595",
   "metadata": {
    "slideshow": {
     "slide_type": "skip"
    }
   },
   "source": [
    "After all this being said we can finally start training:"
   ]
  },
  {
   "cell_type": "code",
   "execution_count": null,
   "id": "23712014",
   "metadata": {
    "slideshow": {
     "slide_type": "fragment"
    }
   },
   "outputs": [],
   "source": [
    "optim = torch.optim.SGD(model.parameters(), lr=0.1)"
   ]
  },
  {
   "cell_type": "code",
   "execution_count": null,
   "id": "962b18f7",
   "metadata": {
    "slideshow": {
     "slide_type": "fragment"
    }
   },
   "outputs": [],
   "source": [
    "%%time\n",
    "for e in range(5):\n",
    "    for features, labels in train_loader:        \n",
    "        optim.zero_grad()\n",
    "        pred = model(features)\n",
    "        loss = my_nll_loss(pred, labels)\n",
    "        loss.backward()\n",
    "        optim.step()   \n",
    "    print(e, loss.item())        "
   ]
  },
  {
   "cell_type": "markdown",
   "id": "940f92ba",
   "metadata": {
    "slideshow": {
     "slide_type": "skip"
    }
   },
   "source": [
    "Because logarthmic is a monotonicaly increasing function the accuracy functions will work even if the outputs do not represent probabilities. "
   ]
  },
  {
   "cell_type": "code",
   "execution_count": null,
   "id": "675502bb",
   "metadata": {
    "slideshow": {
     "slide_type": "fragment"
    }
   },
   "outputs": [],
   "source": [
    "model_accuracy(model, train_dataset)"
   ]
  },
  {
   "cell_type": "markdown",
   "id": "cb2c7171",
   "metadata": {
    "slideshow": {
     "slide_type": "skip"
    }
   },
   "source": [
    "As you can see the accuracy has increased greatly. But really important is the accuracy on the test data set:"
   ]
  },
  {
   "cell_type": "code",
   "execution_count": null,
   "id": "e866b633",
   "metadata": {
    "slideshow": {
     "slide_type": "fragment"
    }
   },
   "outputs": [],
   "source": [
    "model_accuracy(model, test_dataset)"
   ]
  },
  {
   "cell_type": "markdown",
   "id": "d2571332",
   "metadata": {
    "slideshow": {
     "slide_type": "skip"
    }
   },
   "source": [
    "After training the model we can save it to file:"
   ]
  },
  {
   "cell_type": "code",
   "execution_count": null,
   "id": "94f61a85",
   "metadata": {
    "slideshow": {
     "slide_type": "slide"
    }
   },
   "outputs": [],
   "source": [
    "torch.save(model,\"mnist.pt\")"
   ]
  },
  {
   "cell_type": "markdown",
   "id": "bc836ce1",
   "metadata": {
    "slideshow": {
     "slide_type": "skip"
    }
   },
   "source": [
    "and load later"
   ]
  },
  {
   "cell_type": "code",
   "execution_count": null,
   "id": "c9a4f9d3",
   "metadata": {
    "slideshow": {
     "slide_type": "slide"
    }
   },
   "outputs": [],
   "source": [
    "copy = torch.load(\"mnist.pt\")"
   ]
  },
  {
   "cell_type": "code",
   "execution_count": null,
   "id": "751c4f0a",
   "metadata": {
    "slideshow": {
     "slide_type": "fragment"
    }
   },
   "outputs": [],
   "source": [
    "with torch.no_grad():\n",
    "    pred = torch.softmax(copy(train_dataset[:][0]),1)\n",
    "    ac = torch.sum(torch.argmax(pred,1)==train_dataset[:][1]).to(dtype=torch.float32)/len(train_dataset)\n",
    "ac "
   ]
  },
  {
   "cell_type": "markdown",
   "id": "e6f90e40",
   "metadata": {
    "slideshow": {
     "slide_type": "slide"
    }
   },
   "source": [
    "## Using PyTorch loss functions"
   ]
  },
  {
   "cell_type": "markdown",
   "id": "92519d7b",
   "metadata": {
    "slideshow": {
     "slide_type": "skip"
    }
   },
   "source": [
    "Our formulation of the loss function required calculation of the  logarithm of the softmax function. Doing those two operations separately is slower and numerically unstable. That's why PyTorch privides an implementation of the `log_softmax` function that does  both operations together. Please note that now the outputs of the model do not represent the probabilities."
   ]
  },
  {
   "cell_type": "code",
   "execution_count": null,
   "id": "1f0a5aaf",
   "metadata": {
    "slideshow": {
     "slide_type": "fragment"
    }
   },
   "outputs": [],
   "source": [
    "model = torch.nn.Sequential(\n",
    "    nn.Linear(28*28,1200), nn.ReLU(),\n",
    "    nn.Linear(1200,600), nn.ReLU(),\n",
    "    nn.Linear(600,300), nn.ReLU(),\n",
    "    nn.Linear(300,10), nn.LogSoftmax(dim=1)\n",
    ")"
   ]
  },
  {
   "cell_type": "markdown",
   "id": "18aa2887",
   "metadata": {
    "slideshow": {
     "slide_type": "skip"
    }
   },
   "source": [
    "We can now use the provided  negative likelihood loss function that expects the logarithms of probabilities as its input:"
   ]
  },
  {
   "cell_type": "code",
   "execution_count": null,
   "id": "fbf23cda",
   "metadata": {
    "slideshow": {
     "slide_type": "fragment"
    }
   },
   "outputs": [],
   "source": [
    "nll_loss = torch.nn.NLLLoss()"
   ]
  },
  {
   "cell_type": "code",
   "execution_count": null,
   "id": "6b3d98a2",
   "metadata": {
    "slideshow": {
     "slide_type": "fragment"
    }
   },
   "outputs": [],
   "source": [
    "optim = torch.optim.SGD(model.parameters(), lr=0.1)"
   ]
  },
  {
   "cell_type": "code",
   "execution_count": null,
   "id": "95c08946",
   "metadata": {
    "slideshow": {
     "slide_type": "slide"
    }
   },
   "outputs": [],
   "source": [
    "%%time\n",
    "for e in range(5):\n",
    "    for features, labels in train_loader:        \n",
    "        optim.zero_grad()\n",
    "        pred = model(features)\n",
    "        loss = nll_loss(pred,labels)\n",
    "        loss.backward()\n",
    "        optim.step()   \n",
    "    print(e, loss.item())        "
   ]
  },
  {
   "cell_type": "markdown",
   "id": "4586ba9c",
   "metadata": {
    "slideshow": {
     "slide_type": "skip"
    }
   },
   "source": [
    "The accuracy functions will still work because the logarithm is monotonically increasing function.  "
   ]
  },
  {
   "cell_type": "code",
   "execution_count": null,
   "id": "2fcccc55",
   "metadata": {
    "slideshow": {
     "slide_type": "fragment"
    }
   },
   "outputs": [],
   "source": [
    "model_accuracy(model, train_dataset)"
   ]
  },
  {
   "cell_type": "code",
   "execution_count": null,
   "id": "1ed7309c",
   "metadata": {
    "slideshow": {
     "slide_type": "fragment"
    }
   },
   "outputs": [],
   "source": [
    "model_accuracy(model, test_dataset)"
   ]
  },
  {
   "cell_type": "markdown",
   "id": "987ba952",
   "metadata": {
    "slideshow": {
     "slide_type": "skip"
    }
   },
   "source": [
    "And finally we can drop the last activation layer"
   ]
  },
  {
   "cell_type": "code",
   "execution_count": null,
   "id": "b76979ef",
   "metadata": {
    "slideshow": {
     "slide_type": "slide"
    }
   },
   "outputs": [],
   "source": [
    "model = torch.nn.Sequential(\n",
    "    nn.Linear(28*28,1200), nn.ReLU(),\n",
    "    nn.Linear(1200,600), nn.ReLU(),\n",
    "    nn.Linear(600,300), nn.ReLU(),\n",
    "    nn.Linear(300,10)\n",
    ")"
   ]
  },
  {
   "cell_type": "markdown",
   "id": "e170336f",
   "metadata": {
    "slideshow": {
     "slide_type": "skip"
    }
   },
   "source": [
    "and use the cross entropy loss function that  calculates the log softmax internally"
   ]
  },
  {
   "cell_type": "code",
   "execution_count": null,
   "id": "bf4f2801",
   "metadata": {
    "slideshow": {
     "slide_type": "fragment"
    }
   },
   "outputs": [],
   "source": [
    "ce_loss = torch.nn.CrossEntropyLoss()"
   ]
  },
  {
   "cell_type": "code",
   "execution_count": null,
   "id": "4e5719bc",
   "metadata": {
    "slideshow": {
     "slide_type": "fragment"
    }
   },
   "outputs": [],
   "source": [
    "optim = torch.optim.SGD(model.parameters(), lr=0.1)"
   ]
  },
  {
   "cell_type": "code",
   "execution_count": null,
   "id": "df0323ec",
   "metadata": {
    "slideshow": {
     "slide_type": "slide"
    }
   },
   "outputs": [],
   "source": [
    "%%time\n",
    "for e in range(5):\n",
    "    for features, labels in train_loader:        \n",
    "        optim.zero_grad()\n",
    "        pred = model(features)\n",
    "        loss = ce_loss(pred,labels)\n",
    "        loss.backward()\n",
    "        optim.step()   \n",
    "    print(e, loss.item())        "
   ]
  },
  {
   "cell_type": "markdown",
   "id": "f1a044d6",
   "metadata": {
    "slideshow": {
     "slide_type": "skip"
    }
   },
   "source": [
    "The accuracy functions will still work as before, because softmax  does not change the relative order of the input values."
   ]
  },
  {
   "cell_type": "code",
   "execution_count": null,
   "id": "69513c0a",
   "metadata": {
    "slideshow": {
     "slide_type": "fragment"
    }
   },
   "outputs": [],
   "source": [
    "model_accuracy(model, train_dataset)"
   ]
  },
  {
   "cell_type": "code",
   "execution_count": null,
   "id": "d1af2386",
   "metadata": {
    "slideshow": {
     "slide_type": "fragment"
    }
   },
   "outputs": [],
   "source": [
    "model_accuracy(model, test_dataset)"
   ]
  },
  {
   "cell_type": "markdown",
   "id": "8dbedaf2",
   "metadata": {
    "slideshow": {
     "slide_type": "slide"
    }
   },
   "source": [
    "## MSE loss"
   ]
  },
  {
   "cell_type": "markdown",
   "id": "d8583599",
   "metadata": {
    "slideshow": {
     "slide_type": "skip"
    }
   },
   "source": [
    "And finally we will use the MSE loss for comparison. To this end we have to one-hot encode the labels:"
   ]
  },
  {
   "cell_type": "code",
   "execution_count": null,
   "id": "a5d9945c",
   "metadata": {
    "slideshow": {
     "slide_type": "fragment"
    }
   },
   "outputs": [],
   "source": [
    "one_hot_labels = torch.zeros(n_samples, 10).to(dtype=torch.float32)\n",
    "one_hot_labels[range(n_samples),train_labels[:n_samples]] =  1.0"
   ]
  },
  {
   "cell_type": "code",
   "execution_count": null,
   "id": "784ae018",
   "metadata": {
    "slideshow": {
     "slide_type": "slide"
    }
   },
   "outputs": [],
   "source": [
    "one_hot_dataset = torch.utils.data.TensorDataset( \n",
    "    (train_features[:n_samples]/256.0).view(-1,28*28), \n",
    "    one_hot_labels)"
   ]
  },
  {
   "cell_type": "code",
   "execution_count": null,
   "id": "819c50be",
   "metadata": {
    "slideshow": {
     "slide_type": "fragment"
    }
   },
   "outputs": [],
   "source": [
    "one_hot_train_dataset, one_hot_validation_dataset = torch.utils.data.random_split(one_hot_dataset,(10000,2000))"
   ]
  },
  {
   "cell_type": "code",
   "execution_count": null,
   "id": "af4d2212",
   "metadata": {
    "slideshow": {
     "slide_type": "fragment"
    }
   },
   "outputs": [],
   "source": [
    "one_hot_train_loader = torch.utils.data.DataLoader(one_hot_train_dataset, batch_size=100)"
   ]
  },
  {
   "cell_type": "code",
   "execution_count": null,
   "id": "75b39262",
   "metadata": {
    "slideshow": {
     "slide_type": "fragment"
    }
   },
   "outputs": [],
   "source": [
    "model = torch.nn.Sequential(\n",
    "    nn.Linear(28*28,1200), nn.ReLU(),\n",
    "    nn.Linear(1200,600), nn.ReLU(),\n",
    "    nn.Linear(600,300), nn.ReLU(),\n",
    "    nn.Linear(300,10), nn.Softmax(dim=1)\n",
    ")"
   ]
  },
  {
   "cell_type": "code",
   "execution_count": null,
   "id": "e663317b",
   "metadata": {
    "slideshow": {
     "slide_type": "fragment"
    }
   },
   "outputs": [],
   "source": [
    "optim = torch.optim.SGD(model.parameters(), lr=0.1)"
   ]
  },
  {
   "cell_type": "code",
   "execution_count": null,
   "id": "db75ac1b",
   "metadata": {
    "slideshow": {
     "slide_type": "slide"
    }
   },
   "outputs": [],
   "source": [
    "mse_loss = torch.nn.MSELoss()"
   ]
  },
  {
   "cell_type": "code",
   "execution_count": null,
   "id": "0ef3af74",
   "metadata": {
    "slideshow": {
     "slide_type": "-"
    }
   },
   "outputs": [],
   "source": [
    "%%time\n",
    "for e in range(5):\n",
    "    for features, labels in one_hot_train_loader:        \n",
    "        optim.zero_grad()\n",
    "        pred = model(features)\n",
    "        loss = mse_loss(pred,labels)\n",
    "        loss.backward()\n",
    "        optim.step()   \n",
    "    print(e, loss.item())        "
   ]
  },
  {
   "cell_type": "code",
   "execution_count": null,
   "id": "0e014ffe",
   "metadata": {
    "slideshow": {
     "slide_type": "fragment"
    }
   },
   "outputs": [],
   "source": [
    "model_accuracy(model, train_dataset)"
   ]
  },
  {
   "cell_type": "code",
   "execution_count": null,
   "id": "909d28ee",
   "metadata": {
    "slideshow": {
     "slide_type": "fragment"
    }
   },
   "outputs": [],
   "source": [
    "model_accuracy(model, test_dataset)"
   ]
  },
  {
   "cell_type": "markdown",
   "id": "5431260a",
   "metadata": {
    "slideshow": {
     "slide_type": "skip"
    }
   },
   "source": [
    "As we can see the accuracy is much smaller: the convergence is slower. In the next notebook we will take a look at why it is so. "
   ]
  }
 ],
 "metadata": {
  "jupytext": {
   "cell_metadata_json": true,
   "text_representation": {
    "extension": ".Rmd",
    "format_name": "rmarkdown",
    "format_version": "1.2",
    "jupytext_version": "1.11.1"
   }
  },
  "kernelspec": {
   "display_name": "Python 3",
   "language": "python",
   "name": "python3"
  }
 },
 "nbformat": 4,
 "nbformat_minor": 5
}