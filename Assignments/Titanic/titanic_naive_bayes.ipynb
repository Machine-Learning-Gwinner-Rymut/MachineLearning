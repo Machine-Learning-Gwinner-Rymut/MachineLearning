{
 "cells": [
  {
   "cell_type": "markdown",
   "id": "b6a6cdb2",
   "metadata": {},
   "source": [
    "### Małgorzata Gwinner\n",
    "### Jarosław Rymut"
   ]
  },
  {
   "cell_type": "markdown",
   "id": "f5a67889",
   "metadata": {
    "slideshow": {
     "slide_type": "slide"
    }
   },
   "source": [
    "# Titanic dataset"
   ]
  },
  {
   "cell_type": "markdown",
   "id": "d47eda29",
   "metadata": {},
   "source": [
    "This assigment consists of the introductory problem [Titanic: Machine Learning from Disaster](https://www.kaggle.com/c/titanic). The goal is to train a classifier to predict persons that have survived the disaster. "
   ]
  },
  {
   "cell_type": "markdown",
   "id": "716c4347",
   "metadata": {},
   "source": [
    "We will start by reading in the, by now standard, Titanic dataset. It contains information about passengers of the Titanic. The information includes i.a. sex, age, name  and passenger class as well as information if the passenger survived or died in the disaster. You can find more details about this data set [here](http://campus.lakeforest.edu/frank/FILES/MLFfiles/Bio150/Titanic/TitanicMETA.pdf). "
   ]
  },
  {
   "cell_type": "markdown",
   "id": "0605bfc9",
   "metadata": {},
   "source": [
    "The data  is in \"coma separated values\" (csv) format and to read it we will use the [pandas](https://pandas.pydata.org) library. Pandas  provides tools for manipulating  data frames and series and is wildly used in data science projects. \n",
    "\n",
    "Please note that this is NOT a pandas manual. For detailed explanation of the concepts and functions used here you should consult the [documentation](https://pandas.pydata.org/pandas-docs/stable/getting_started/index.html). "
   ]
  },
  {
   "cell_type": "code",
   "execution_count": 1,
   "id": "3838c3eb",
   "metadata": {},
   "outputs": [],
   "source": [
    "import numpy as np\n",
    "import matplotlib.pyplot as plt\n",
    "import pandas as pd"
   ]
  },
  {
   "cell_type": "code",
   "execution_count": 2,
   "id": "d0e961c5",
   "metadata": {},
   "outputs": [],
   "source": [
    "data_all = pd.read_csv(\"titanic3.csv\")"
   ]
  },
  {
   "cell_type": "markdown",
   "id": "ade27293",
   "metadata": {},
   "source": [
    "`data_all` is a pandas  [_DataFrame_](https://pandas.pydata.org/pandas-docs/stable/reference/api/pandas.DataFrame.html) object. "
   ]
  },
  {
   "cell_type": "code",
   "execution_count": 3,
   "id": "498ca6fd",
   "metadata": {},
   "outputs": [
    {
     "data": {
      "text/plain": [
       "pandas.core.frame.DataFrame"
      ]
     },
     "execution_count": 3,
     "metadata": {},
     "output_type": "execute_result"
    }
   ],
   "source": [
    "type(data_all)"
   ]
  },
  {
   "cell_type": "markdown",
   "id": "a8c7dfcb",
   "metadata": {},
   "source": [
    "We can check what attributes are stored in the DataFrame by listing the column names:"
   ]
  },
  {
   "cell_type": "code",
   "execution_count": 4,
   "id": "8bef7517",
   "metadata": {},
   "outputs": [
    {
     "data": {
      "text/plain": [
       "Index(['Unnamed: 0', 'pclass', 'survived', 'name', 'sex', 'age', 'sibsp',\n",
       "       'parch', 'ticket', 'fare', 'cabin', 'embarked', 'boat', 'body',\n",
       "       'home.dest'],\n",
       "      dtype='object')"
      ]
     },
     "execution_count": 4,
     "metadata": {},
     "output_type": "execute_result"
    }
   ],
   "source": [
    "data_all.columns"
   ]
  },
  {
   "cell_type": "markdown",
   "id": "bd7dcbd8",
   "metadata": {},
   "source": [
    "or get a quick preview using ```head``` function: "
   ]
  },
  {
   "cell_type": "code",
   "execution_count": 5,
   "id": "e5c724c3",
   "metadata": {},
   "outputs": [
    {
     "data": {
      "text/html": [
       "<div>\n",
       "<style scoped>\n",
       "    .dataframe tbody tr th:only-of-type {\n",
       "        vertical-align: middle;\n",
       "    }\n",
       "\n",
       "    .dataframe tbody tr th {\n",
       "        vertical-align: top;\n",
       "    }\n",
       "\n",
       "    .dataframe thead th {\n",
       "        text-align: right;\n",
       "    }\n",
       "</style>\n",
       "<table border=\"1\" class=\"dataframe\">\n",
       "  <thead>\n",
       "    <tr style=\"text-align: right;\">\n",
       "      <th></th>\n",
       "      <th>Unnamed: 0</th>\n",
       "      <th>pclass</th>\n",
       "      <th>survived</th>\n",
       "      <th>name</th>\n",
       "      <th>sex</th>\n",
       "      <th>age</th>\n",
       "      <th>sibsp</th>\n",
       "      <th>parch</th>\n",
       "      <th>ticket</th>\n",
       "      <th>fare</th>\n",
       "      <th>cabin</th>\n",
       "      <th>embarked</th>\n",
       "      <th>boat</th>\n",
       "      <th>body</th>\n",
       "      <th>home.dest</th>\n",
       "    </tr>\n",
       "  </thead>\n",
       "  <tbody>\n",
       "    <tr>\n",
       "      <th>0</th>\n",
       "      <td>0</td>\n",
       "      <td>1</td>\n",
       "      <td>1</td>\n",
       "      <td>Allen, Miss. Elisabeth Walton</td>\n",
       "      <td>female</td>\n",
       "      <td>29.0000</td>\n",
       "      <td>0</td>\n",
       "      <td>0</td>\n",
       "      <td>24160</td>\n",
       "      <td>211.3375</td>\n",
       "      <td>B5</td>\n",
       "      <td>S</td>\n",
       "      <td>2</td>\n",
       "      <td>NaN</td>\n",
       "      <td>St Louis, MO</td>\n",
       "    </tr>\n",
       "    <tr>\n",
       "      <th>1</th>\n",
       "      <td>1</td>\n",
       "      <td>1</td>\n",
       "      <td>1</td>\n",
       "      <td>Allison, Master. Hudson Trevor</td>\n",
       "      <td>male</td>\n",
       "      <td>0.9167</td>\n",
       "      <td>1</td>\n",
       "      <td>2</td>\n",
       "      <td>113781</td>\n",
       "      <td>151.5500</td>\n",
       "      <td>C22 C26</td>\n",
       "      <td>S</td>\n",
       "      <td>11</td>\n",
       "      <td>NaN</td>\n",
       "      <td>Montreal, PQ / Chesterville, ON</td>\n",
       "    </tr>\n",
       "  </tbody>\n",
       "</table>\n",
       "</div>"
      ],
      "text/plain": [
       "   Unnamed: 0  pclass  survived                            name     sex  \\\n",
       "0           0       1         1   Allen, Miss. Elisabeth Walton  female   \n",
       "1           1       1         1  Allison, Master. Hudson Trevor    male   \n",
       "\n",
       "       age  sibsp  parch  ticket      fare    cabin embarked boat  body  \\\n",
       "0  29.0000      0      0   24160  211.3375       B5        S    2   NaN   \n",
       "1   0.9167      1      2  113781  151.5500  C22 C26        S   11   NaN   \n",
       "\n",
       "                         home.dest  \n",
       "0                     St Louis, MO  \n",
       "1  Montreal, PQ / Chesterville, ON  "
      ]
     },
     "execution_count": 5,
     "metadata": {},
     "output_type": "execute_result"
    }
   ],
   "source": [
    "data_all.head(2)"
   ]
  },
  {
   "cell_type": "markdown",
   "id": "c9cce6fd",
   "metadata": {},
   "source": [
    "For the description of those features please see the before mentioned [link](http://campus.lakeforest.edu/frank/FILES/MLFfiles/Bio150/Titanic/TitanicMETA.pdf). "
   ]
  },
  {
   "cell_type": "markdown",
   "id": "a6110bbd",
   "metadata": {},
   "source": [
    "Another usefull function is ```info```:"
   ]
  },
  {
   "cell_type": "code",
   "execution_count": 6,
   "id": "d9ac3f50",
   "metadata": {},
   "outputs": [
    {
     "name": "stdout",
     "output_type": "stream",
     "text": [
      "<class 'pandas.core.frame.DataFrame'>\n",
      "RangeIndex: 1309 entries, 0 to 1308\n",
      "Data columns (total 15 columns):\n",
      " #   Column      Non-Null Count  Dtype  \n",
      "---  ------      --------------  -----  \n",
      " 0   Unnamed: 0  1309 non-null   int64  \n",
      " 1   pclass      1309 non-null   int64  \n",
      " 2   survived    1309 non-null   int64  \n",
      " 3   name        1309 non-null   object \n",
      " 4   sex         1309 non-null   object \n",
      " 5   age         1046 non-null   float64\n",
      " 6   sibsp       1309 non-null   int64  \n",
      " 7   parch       1309 non-null   int64  \n",
      " 8   ticket      1309 non-null   object \n",
      " 9   fare        1308 non-null   float64\n",
      " 10  cabin       295 non-null    object \n",
      " 11  embarked    1307 non-null   object \n",
      " 12  boat        486 non-null    object \n",
      " 13  body        121 non-null    float64\n",
      " 14  home.dest   745 non-null    object \n",
      "dtypes: float64(3), int64(5), object(7)\n",
      "memory usage: 153.5+ KB\n"
     ]
    }
   ],
   "source": [
    "data_all.info()"
   ]
  },
  {
   "cell_type": "markdown",
   "id": "0c708596",
   "metadata": {},
   "source": [
    "As we can see not all attributes are known (non-null) for every passanger. This is a frequent situation in real datasets. "
   ]
  },
  {
   "cell_type": "code",
   "execution_count": 7,
   "id": "2337644d",
   "metadata": {},
   "outputs": [
    {
     "data": {
      "text/plain": [
       "0    0.618029\n",
       "1    0.381971\n",
       "Name: survived, dtype: float64"
      ]
     },
     "execution_count": 7,
     "metadata": {},
     "output_type": "execute_result"
    }
   ],
   "source": [
    "data_all.survived.value_counts()/len(data_all)"
   ]
  },
  {
   "cell_type": "code",
   "execution_count": 8,
   "id": "8203257d",
   "metadata": {},
   "outputs": [],
   "source": [
    "### Train/test split"
   ]
  },
  {
   "cell_type": "markdown",
   "id": "d92f97f2",
   "metadata": {},
   "source": [
    "As in every machine learning problem we should split our data into training and testing sets."
   ]
  },
  {
   "cell_type": "code",
   "execution_count": 9,
   "id": "62a7f56d",
   "metadata": {},
   "outputs": [],
   "source": [
    "from sklearn.model_selection import train_test_split"
   ]
  },
  {
   "cell_type": "code",
   "execution_count": 10,
   "id": "62651610",
   "metadata": {},
   "outputs": [],
   "source": [
    "seed =5657\n",
    "data, test_data = train_test_split(data_all, train_size=0.8, stratify=data_all.survived, random_state=seed)"
   ]
  },
  {
   "cell_type": "code",
   "execution_count": 11,
   "id": "be9eccb5",
   "metadata": {},
   "outputs": [
    {
     "name": "stdout",
     "output_type": "stream",
     "text": [
      "<class 'pandas.core.frame.DataFrame'>\n",
      "Int64Index: 1047 entries, 207 to 1206\n",
      "Data columns (total 15 columns):\n",
      " #   Column      Non-Null Count  Dtype  \n",
      "---  ------      --------------  -----  \n",
      " 0   Unnamed: 0  1047 non-null   int64  \n",
      " 1   pclass      1047 non-null   int64  \n",
      " 2   survived    1047 non-null   int64  \n",
      " 3   name        1047 non-null   object \n",
      " 4   sex         1047 non-null   object \n",
      " 5   age         845 non-null    float64\n",
      " 6   sibsp       1047 non-null   int64  \n",
      " 7   parch       1047 non-null   int64  \n",
      " 8   ticket      1047 non-null   object \n",
      " 9   fare        1046 non-null   float64\n",
      " 10  cabin       242 non-null    object \n",
      " 11  embarked    1045 non-null   object \n",
      " 12  boat        389 non-null    object \n",
      " 13  body        92 non-null     float64\n",
      " 14  home.dest   608 non-null    object \n",
      "dtypes: float64(3), int64(5), object(7)\n",
      "memory usage: 130.9+ KB\n"
     ]
    }
   ],
   "source": [
    "data.info()"
   ]
  },
  {
   "cell_type": "code",
   "execution_count": 12,
   "id": "2d83356e",
   "metadata": {},
   "outputs": [
    {
     "data": {
      "text/plain": [
       "0    0.617956\n",
       "1    0.382044\n",
       "Name: survived, dtype: float64"
      ]
     },
     "execution_count": 12,
     "metadata": {},
     "output_type": "execute_result"
    }
   ],
   "source": [
    "data.survived.value_counts()/len(data)"
   ]
  },
  {
   "cell_type": "code",
   "execution_count": 13,
   "id": "e2d1297e",
   "metadata": {},
   "outputs": [
    {
     "data": {
      "text/plain": [
       "0    0.618321\n",
       "1    0.381679\n",
       "Name: survived, dtype: float64"
      ]
     },
     "execution_count": 13,
     "metadata": {},
     "output_type": "execute_result"
    }
   ],
   "source": [
    "test_data.survived.value_counts()/len(test_data)"
   ]
  },
  {
   "cell_type": "markdown",
   "id": "e6e4fd35",
   "metadata": {},
   "source": [
    "## Problem 1"
   ]
  },
  {
   "cell_type": "markdown",
   "id": "6b130bbc",
   "metadata": {},
   "source": [
    "__a) Implement a Bayes classifier for predicting passenger survival  using sex and pclass  features.__"
   ]
  },
  {
   "cell_type": "markdown",
   "id": "fe2af5a8",
   "metadata": {},
   "source": [
    "Actually this problem will be solved for you below to serve as an tutorial on pandas :) "
   ]
  },
  {
   "cell_type": "markdown",
   "id": "6f7fca6d",
   "metadata": {},
   "source": [
    "#### Preliminaries"
   ]
  },
  {
   "cell_type": "markdown",
   "id": "5f882cf6",
   "metadata": {},
   "source": [
    "We will start by extracting from the frame  only the information we need:"
   ]
  },
  {
   "cell_type": "code",
   "execution_count": 14,
   "id": "1260a022",
   "metadata": {},
   "outputs": [],
   "source": [
    "data_selected = data[['pclass', 'sex', 'survived']]"
   ]
  },
  {
   "cell_type": "code",
   "execution_count": 15,
   "id": "82584ddf",
   "metadata": {},
   "outputs": [
    {
     "name": "stdout",
     "output_type": "stream",
     "text": [
      "<class 'pandas.core.frame.DataFrame'>\n",
      "Int64Index: 1047 entries, 207 to 1206\n",
      "Data columns (total 3 columns):\n",
      " #   Column    Non-Null Count  Dtype \n",
      "---  ------    --------------  ----- \n",
      " 0   pclass    1047 non-null   int64 \n",
      " 1   sex       1047 non-null   object\n",
      " 2   survived  1047 non-null   int64 \n",
      "dtypes: int64(2), object(1)\n",
      "memory usage: 32.7+ KB\n"
     ]
    }
   ],
   "source": [
    "data_selected.info()"
   ]
  },
  {
   "cell_type": "code",
   "execution_count": 16,
   "id": "30aac967",
   "metadata": {},
   "outputs": [
    {
     "data": {
      "text/html": [
       "<div>\n",
       "<style scoped>\n",
       "    .dataframe tbody tr th:only-of-type {\n",
       "        vertical-align: middle;\n",
       "    }\n",
       "\n",
       "    .dataframe tbody tr th {\n",
       "        vertical-align: top;\n",
       "    }\n",
       "\n",
       "    .dataframe thead th {\n",
       "        text-align: right;\n",
       "    }\n",
       "</style>\n",
       "<table border=\"1\" class=\"dataframe\">\n",
       "  <thead>\n",
       "    <tr style=\"text-align: right;\">\n",
       "      <th></th>\n",
       "      <th>pclass</th>\n",
       "      <th>sex</th>\n",
       "      <th>survived</th>\n",
       "    </tr>\n",
       "  </thead>\n",
       "  <tbody>\n",
       "    <tr>\n",
       "      <th>207</th>\n",
       "      <td>1</td>\n",
       "      <td>female</td>\n",
       "      <td>1</td>\n",
       "    </tr>\n",
       "    <tr>\n",
       "      <th>363</th>\n",
       "      <td>2</td>\n",
       "      <td>male</td>\n",
       "      <td>0</td>\n",
       "    </tr>\n",
       "    <tr>\n",
       "      <th>966</th>\n",
       "      <td>3</td>\n",
       "      <td>female</td>\n",
       "      <td>0</td>\n",
       "    </tr>\n",
       "    <tr>\n",
       "      <th>1292</th>\n",
       "      <td>3</td>\n",
       "      <td>male</td>\n",
       "      <td>0</td>\n",
       "    </tr>\n",
       "    <tr>\n",
       "      <th>118</th>\n",
       "      <td>1</td>\n",
       "      <td>male</td>\n",
       "      <td>0</td>\n",
       "    </tr>\n",
       "  </tbody>\n",
       "</table>\n",
       "</div>"
      ],
      "text/plain": [
       "      pclass     sex  survived\n",
       "207        1  female         1\n",
       "363        2    male         0\n",
       "966        3  female         0\n",
       "1292       3    male         0\n",
       "118        1    male         0"
      ]
     },
     "execution_count": 16,
     "metadata": {},
     "output_type": "execute_result"
    }
   ],
   "source": [
    "data_selected.head(5)"
   ]
  },
  {
   "cell_type": "code",
   "execution_count": 17,
   "id": "b57a3754",
   "metadata": {},
   "outputs": [],
   "source": [
    "grouped = data_selected.groupby(['survived','sex','pclass'])"
   ]
  },
  {
   "cell_type": "markdown",
   "id": "862a0f5d",
   "metadata": {},
   "source": [
    "We can count the number of passegers in each group using function ```size```:"
   ]
  },
  {
   "cell_type": "markdown",
   "id": "1e7b4bf8",
   "metadata": {},
   "source": [
    "First we need to group passengers according to sex, class and survival status. This can be achieved using  the [`groupby`](https://pandas.pydata.org/pandas-docs/stable/reference/api/pandas.DataFrame.groupby.html) function:"
   ]
  },
  {
   "cell_type": "code",
   "execution_count": 18,
   "id": "0d1a00b9",
   "metadata": {},
   "outputs": [],
   "source": [
    "counts = grouped.size()"
   ]
  },
  {
   "cell_type": "markdown",
   "id": "4ba2a1aa",
   "metadata": {},
   "source": [
    "Object ```counts``` contains all the information that we need to construct the classifier:"
   ]
  },
  {
   "cell_type": "code",
   "execution_count": 19,
   "id": "c8ad6847",
   "metadata": {},
   "outputs": [
    {
     "data": {
      "text/plain": [
       "survived  sex     pclass\n",
       "0         female  1           3\n",
       "                  2          10\n",
       "                  3          81\n",
       "          male    1          95\n",
       "                  2         125\n",
       "                  3         333\n",
       "1         female  1         120\n",
       "                  2          72\n",
       "                  3          85\n",
       "          male    1          45\n",
       "                  2          17\n",
       "                  3          61\n",
       "dtype: int64"
      ]
     },
     "execution_count": 19,
     "metadata": {},
     "output_type": "execute_result"
    }
   ],
   "source": [
    "counts"
   ]
  },
  {
   "cell_type": "markdown",
   "id": "33fc0e35",
   "metadata": {},
   "source": [
    "`counts` is a pandas [_Series_](https://pandas.pydata.org/pandas-docs/stable/reference/api/pandas.Series.html) object indexed by a [_MultiIndex_](https://pandas.pydata.org/pandas-docs/stable/user_guide/advanced.html#advanced-hierarchical)."
   ]
  },
  {
   "cell_type": "code",
   "execution_count": 20,
   "id": "b53dd0d8",
   "metadata": {},
   "outputs": [
    {
     "data": {
      "text/plain": [
       "MultiIndex([(0, 'female', 1),\n",
       "            (0, 'female', 2),\n",
       "            (0, 'female', 3),\n",
       "            (0,   'male', 1),\n",
       "            (0,   'male', 2),\n",
       "            (0,   'male', 3),\n",
       "            (1, 'female', 1),\n",
       "            (1, 'female', 2),\n",
       "            (1, 'female', 3),\n",
       "            (1,   'male', 1),\n",
       "            (1,   'male', 2),\n",
       "            (1,   'male', 3)],\n",
       "           names=['survived', 'sex', 'pclass'])"
      ]
     },
     "execution_count": 20,
     "metadata": {},
     "output_type": "execute_result"
    }
   ],
   "source": [
    "counts.index"
   ]
  },
  {
   "cell_type": "markdown",
   "id": "a8897e11",
   "metadata": {},
   "source": [
    "We can treat a multi-indexed series as an multi-dimensional table with each level of the index corresponding to one dimension. You can index `counts` to obtain information on specified entry: "
   ]
  },
  {
   "cell_type": "code",
   "execution_count": 21,
   "id": "72bbc742",
   "metadata": {},
   "outputs": [
    {
     "data": {
      "text/plain": [
       "72"
      ]
     },
     "execution_count": 21,
     "metadata": {},
     "output_type": "execute_result"
    }
   ],
   "source": [
    "counts[1,'female',2]"
   ]
  },
  {
   "cell_type": "markdown",
   "id": "2c85b1b0",
   "metadata": {},
   "source": [
    "The index is hierarchical, if we do not provide all indices, a subset of elements will be returned e.g. "
   ]
  },
  {
   "cell_type": "code",
   "execution_count": 22,
   "id": "fabecc94",
   "metadata": {},
   "outputs": [
    {
     "data": {
      "text/plain": [
       "pclass\n",
       "1    120\n",
       "2     72\n",
       "3     85\n",
       "dtype: int64"
      ]
     },
     "execution_count": 22,
     "metadata": {},
     "output_type": "execute_result"
    }
   ],
   "source": [
    "counts[1,'female']"
   ]
  },
  {
   "cell_type": "markdown",
   "id": "64dcac22",
   "metadata": {},
   "source": [
    "list the number of male surviving women  in each class. Similarly "
   ]
  },
  {
   "cell_type": "code",
   "execution_count": 23,
   "id": "ea5e46ed",
   "metadata": {},
   "outputs": [
    {
     "data": {
      "text/plain": [
       "sex     pclass\n",
       "female  1         120\n",
       "        2          72\n",
       "        3          85\n",
       "male    1          45\n",
       "        2          17\n",
       "        3          61\n",
       "dtype: int64"
      ]
     },
     "execution_count": 23,
     "metadata": {},
     "output_type": "execute_result"
    }
   ],
   "source": [
    "counts[1]"
   ]
  },
  {
   "cell_type": "markdown",
   "id": "387eca2b",
   "metadata": {},
   "source": [
    "lists the number of survivors for each sex and class."
   ]
  },
  {
   "cell_type": "markdown",
   "id": "cc072eec",
   "metadata": {},
   "source": [
    "It is however better to use the `loc` function. With this function we can also use the _slicing_ notation. For example "
   ]
  },
  {
   "cell_type": "code",
   "execution_count": 24,
   "id": "ee7f3738",
   "metadata": {},
   "outputs": [
    {
     "data": {
      "text/plain": [
       "survived  sex     pclass\n",
       "0         female  3          81\n",
       "          male    3         333\n",
       "dtype: int64"
      ]
     },
     "execution_count": 24,
     "metadata": {},
     "output_type": "execute_result"
    }
   ],
   "source": [
    "counts.loc[0, :,3]"
   ]
  },
  {
   "cell_type": "markdown",
   "id": "0ab8a0d0",
   "metadata": {},
   "source": [
    "list non-survivors in third class  regardless of sex. "
   ]
  },
  {
   "cell_type": "markdown",
   "id": "60eb4b81",
   "metadata": {},
   "source": [
    "Both `[]` and `loc[]` can  also take a _tuple_ as an argument: "
   ]
  },
  {
   "cell_type": "code",
   "execution_count": 25,
   "id": "4a522e68",
   "metadata": {},
   "outputs": [
    {
     "data": {
      "text/plain": [
       "81"
      ]
     },
     "execution_count": 25,
     "metadata": {},
     "output_type": "execute_result"
    }
   ],
   "source": [
    "counts.loc[(0, 'female',3)]"
   ]
  },
  {
   "cell_type": "markdown",
   "id": "4b598954",
   "metadata": {},
   "source": [
    "but the use of slice notation in tuple is not permitted. You can use it by providing an explicit _slice_ object "
   ]
  },
  {
   "cell_type": "code",
   "execution_count": 26,
   "id": "d65d92b8",
   "metadata": {},
   "outputs": [
    {
     "data": {
      "text/plain": [
       "survived  sex     pclass\n",
       "0         female  3          81\n",
       "          male    3         333\n",
       "dtype: int64"
      ]
     },
     "execution_count": 26,
     "metadata": {},
     "output_type": "execute_result"
    }
   ],
   "source": [
    "counts.loc[(0, slice(None),3)]"
   ]
  },
  {
   "cell_type": "markdown",
   "id": "55e5504a",
   "metadata": {},
   "source": [
    "Function `sum`  as expected returns the sum of all the entries of the series"
   ]
  },
  {
   "cell_type": "code",
   "execution_count": 27,
   "id": "373688d1",
   "metadata": {},
   "outputs": [
    {
     "name": "stdout",
     "output_type": "stream",
     "text": [
      "1047 400 647\n",
      "True\n"
     ]
    }
   ],
   "source": [
    "n_passengers = counts.sum()\n",
    "n_survivors = counts[1].sum()\n",
    "n_dead = counts[0].sum()\n",
    "\n",
    "print(n_passengers, n_survivors, n_dead)\n",
    "print(n_survivors+n_dead==n_passengers)"
   ]
  },
  {
   "cell_type": "markdown",
   "id": "d50c533d",
   "metadata": {},
   "source": [
    "### Classifier"
   ]
  },
  {
   "cell_type": "markdown",
   "id": "388b7f7e",
   "metadata": {},
   "source": [
    "To implement classifier we need to calculate the conditional probability of survival given sex and class:"
   ]
  },
  {
   "cell_type": "markdown",
   "id": "0c73098a",
   "metadata": {},
   "source": [
    "$$P(survived|sex, pclass)$$"
   ]
  },
  {
   "cell_type": "markdown",
   "id": "e2fd563a",
   "metadata": {},
   "source": [
    "$survived$ here is the label taht can take two values 0 for dead and 1 fro survivors, but we can  calculate only the survival probability because of the realation"
   ]
  },
  {
   "cell_type": "markdown",
   "id": "eb3a6579",
   "metadata": {},
   "source": [
    "$$P(survived=1|sex, pclass)+P(survived=0|sex, pclass)=1$$"
   ]
  },
  {
   "cell_type": "markdown",
   "id": "f7bb6db9",
   "metadata": {},
   "source": [
    "We can use the Bayes theorem but it will be actually quicker to calculate it directly from the definition:"
   ]
  },
  {
   "cell_type": "markdown",
   "id": "629706d8",
   "metadata": {},
   "source": [
    "$$P(survived|sex, pclass)=\\frac{P(survived,sex, pclass)}{P(sex, pclass)}\n",
    "\\approx \\frac{\\#(survived,sex, pclass)}{\\#(sex,pclass)}$$"
   ]
  },
  {
   "cell_type": "markdown",
   "id": "7ed64a7a",
   "metadata": {},
   "source": [
    "where by $\\#$ I have denoted the number of passengers with given attributes. For example the probability of survival for a women traveling in second class is: "
   ]
  },
  {
   "cell_type": "markdown",
   "id": "e9663241",
   "metadata": {},
   "source": [
    "$$\\frac{\\text{number of women in second class that survived}}{\\text{number of women in second class}}$$"
   ]
  },
  {
   "cell_type": "markdown",
   "id": "5350f392",
   "metadata": {},
   "source": [
    "which we can calculate as"
   ]
  },
  {
   "cell_type": "code",
   "execution_count": 28,
   "id": "3bfe82f9",
   "metadata": {},
   "outputs": [
    {
     "data": {
      "text/plain": [
       "0.8780487804878049"
      ]
     },
     "execution_count": 28,
     "metadata": {},
     "output_type": "execute_result"
    }
   ],
   "source": [
    "counts[(1,'female',2)]/(counts[(1,'female',2)]+counts[(0,'female',2)])"
   ]
  },
  {
   "cell_type": "markdown",
   "id": "2f756292",
   "metadata": {},
   "source": [
    "This operation has to be repeated for every sex and class combination. We do not have to do it index by index. Pandas have overloaded arithmetic operations that work  on all indices at once e.g. "
   ]
  },
  {
   "cell_type": "code",
   "execution_count": 29,
   "id": "350c0ad2",
   "metadata": {},
   "outputs": [],
   "source": [
    "by_sex_class = counts.loc[0]+counts.loc[1]"
   ]
  },
  {
   "cell_type": "markdown",
   "id": "ed870df0",
   "metadata": {},
   "source": [
    "creates a series with number of passengers of each gender and class"
   ]
  },
  {
   "cell_type": "code",
   "execution_count": 30,
   "id": "d0ad52ba",
   "metadata": {},
   "outputs": [
    {
     "data": {
      "text/plain": [
       "sex     pclass\n",
       "female  1         123\n",
       "        2          82\n",
       "        3         166\n",
       "male    1         140\n",
       "        2         142\n",
       "        3         394\n",
       "dtype: int64"
      ]
     },
     "execution_count": 30,
     "metadata": {},
     "output_type": "execute_result"
    }
   ],
   "source": [
    "by_sex_class"
   ]
  },
  {
   "cell_type": "markdown",
   "id": "8a368ede",
   "metadata": {},
   "source": [
    "Same effect can be achieved by passing `level` argument to the series `sum` function. The level argument lists the levels which are __not__ summed over. In other words those are the levels left after summation. To sum over the `survived` level we use"
   ]
  },
  {
   "cell_type": "code",
   "execution_count": 31,
   "id": "d360045f",
   "metadata": {},
   "outputs": [],
   "source": [
    "by_sex_class = counts.sum(level=['sex','pclass'])"
   ]
  },
  {
   "cell_type": "markdown",
   "id": "f3772c98",
   "metadata": {},
   "source": [
    "Using `counts` and `by_sex_class` you can calculate required conditional propabilities. "
   ]
  },
  {
   "cell_type": "code",
   "execution_count": 32,
   "id": "a7cfc9d3",
   "metadata": {
    "tags": []
   },
   "outputs": [],
   "source": [
    "p_surv_cond_sex_pclass = (counts/by_sex_class)\n",
    "p_surv_cond_sex_pclass = p_surv_cond_sex_pclass.reorder_levels(['survived','sex','pclass']).sort_index()"
   ]
  },
  {
   "cell_type": "code",
   "execution_count": 33,
   "id": "fa0f4be9",
   "metadata": {
    "tags": []
   },
   "outputs": [
    {
     "data": {
      "text/plain": [
       "survived  sex     pclass\n",
       "0         female  1         0.024390\n",
       "                  2         0.121951\n",
       "                  3         0.487952\n",
       "          male    1         0.678571\n",
       "                  2         0.880282\n",
       "                  3         0.845178\n",
       "1         female  1         0.975610\n",
       "                  2         0.878049\n",
       "                  3         0.512048\n",
       "          male    1         0.321429\n",
       "                  2         0.119718\n",
       "                  3         0.154822\n",
       "dtype: float64"
      ]
     },
     "execution_count": 33,
     "metadata": {},
     "output_type": "execute_result"
    }
   ],
   "source": [
    "p_surv_cond_sex_pclass"
   ]
  },
  {
   "cell_type": "markdown",
   "id": "fcccbc9c",
   "metadata": {
    "tags": []
   },
   "source": [
    "In the above expression we have used a very useful feature of pandas series. When performing an arithmetic operation  the elements of the series are _joined_ based on the common index levels.  "
   ]
  },
  {
   "cell_type": "markdown",
   "id": "7af25e55",
   "metadata": {
    "tags": []
   },
   "source": [
    "`counts` have three levels of index"
   ]
  },
  {
   "cell_type": "code",
   "execution_count": 34,
   "id": "459d02a1",
   "metadata": {
    "tags": []
   },
   "outputs": [
    {
     "data": {
      "text/plain": [
       "FrozenList(['survived', 'sex', 'pclass'])"
      ]
     },
     "execution_count": 34,
     "metadata": {},
     "output_type": "execute_result"
    }
   ],
   "source": [
    "counts.index.names"
   ]
  },
  {
   "cell_type": "markdown",
   "id": "81915190",
   "metadata": {
    "tags": []
   },
   "source": [
    "and `by_sex_class` has two"
   ]
  },
  {
   "cell_type": "code",
   "execution_count": 35,
   "id": "b8c9a61e",
   "metadata": {
    "tags": []
   },
   "outputs": [
    {
     "data": {
      "text/plain": [
       "FrozenList(['sex', 'pclass'])"
      ]
     },
     "execution_count": 35,
     "metadata": {},
     "output_type": "execute_result"
    }
   ],
   "source": [
    "by_sex_class.index.names"
   ]
  },
  {
   "cell_type": "markdown",
   "id": "56a5386a",
   "metadata": {
    "tags": []
   },
   "source": [
    "Levels 'sex' and 'pclass' are common to both indexes so the expression"
   ]
  },
  {
   "cell_type": "markdown",
   "id": "b9bef6e0",
   "metadata": {
    "tags": []
   },
   "source": [
    "```p_surv_cond_sex_pclass = (counts/by_sex_class)```"
   ]
  },
  {
   "cell_type": "markdown",
   "id": "310d275c",
   "metadata": {},
   "source": [
    "will have a three level index with  levels 'survived', 'sex' and 'pclass'  and is equivalent to:"
   ]
  },
  {
   "cell_type": "code",
   "execution_count": 36,
   "id": "83564a02",
   "metadata": {
    "tags": []
   },
   "outputs": [],
   "source": [
    "p_surv_cond_sex_pclass = pd.Series(0,index=counts.index)\n",
    "for survived, sex, pclass in counts.index: \n",
    "    p = counts.loc[survived, sex, pclass]/by_sex_class.loc[sex, pclass]\n",
    "    p_surv_cond_sex_pclass.loc[(survived, sex, pclass)] = p"
   ]
  },
  {
   "cell_type": "markdown",
   "id": "e4432657",
   "metadata": {
    "tags": []
   },
   "source": [
    "Unfortunately this join operation also reorders the levels of the multi index so we have to order them back using `reorder_levels` and `sort_index` function."
   ]
  },
  {
   "cell_type": "markdown",
   "id": "2549e071",
   "metadata": {
    "tags": []
   },
   "source": [
    "```p_surv_cond_sex_pclass = (counts/by_sex_class).reorder_levels(['survived','sex','pclass']).sort_index()```"
   ]
  },
  {
   "cell_type": "markdown",
   "id": "01427f4f",
   "metadata": {},
   "source": [
    "We can check that we indeed get the identical values"
   ]
  },
  {
   "cell_type": "code",
   "execution_count": 37,
   "id": "d9006224",
   "metadata": {
    "tags": []
   },
   "outputs": [
    {
     "data": {
      "text/plain": [
       "sex     pclass\n",
       "female  1         1.0\n",
       "        2         1.0\n",
       "        3         1.0\n",
       "male    1         1.0\n",
       "        2         1.0\n",
       "        3         1.0\n",
       "dtype: float64"
      ]
     },
     "execution_count": 37,
     "metadata": {},
     "output_type": "execute_result"
    }
   ],
   "source": [
    "p_surv_cond_sex_pclass.sum(level=['sex', 'pclass'])"
   ]
  },
  {
   "cell_type": "markdown",
   "id": "16b376d1",
   "metadata": {},
   "source": [
    "#### b) Calculate TPR and FPR on the train and test set. Draw the ROC curve and calculate AUC score"
   ]
  },
  {
   "cell_type": "markdown",
   "id": "a8c1e230",
   "metadata": {},
   "source": [
    "The TPR is the fraction of survivors that were classified as survivors. And FPR is the fraction of dead persons that were classified as survivors. We classify a person as survivor when the probability of survival is  greater or equal to one half. "
   ]
  },
  {
   "cell_type": "markdown",
   "id": "6522ceeb",
   "metadata": {},
   "source": [
    "For ROC and AUC use the functions from scikit-learn library."
   ]
  },
  {
   "cell_type": "code",
   "execution_count": 38,
   "id": "eb9b985d",
   "metadata": {},
   "outputs": [],
   "source": [
    "from sklearn.metrics import roc_auc_score, roc_curve"
   ]
  },
  {
   "cell_type": "markdown",
   "id": "878af7e1",
   "metadata": {},
   "source": [
    "###### Calculate for the train set"
   ]
  },
  {
   "cell_type": "markdown",
   "id": "9cb13c8f",
   "metadata": {},
   "source": [
    "Extract the real number of the survived:"
   ]
  },
  {
   "cell_type": "code",
   "execution_count": 39,
   "id": "f4246fd8",
   "metadata": {},
   "outputs": [],
   "source": [
    "survived_real = data_selected['survived']"
   ]
  },
  {
   "cell_type": "markdown",
   "id": "d59e13cc",
   "metadata": {},
   "source": [
    "Probability of survival for each passenger:"
   ]
  },
  {
   "cell_type": "code",
   "execution_count": 40,
   "id": "03a058a2",
   "metadata": {},
   "outputs": [],
   "source": [
    "def calc_surv_probs(p_series, data, features):\n",
    "    cols = (data[f] for f in features)\n",
    "    probs = np.array([p_series[1].loc[c] for c in zip(*cols)])\n",
    "    return probs"
   ]
  },
  {
   "cell_type": "code",
   "execution_count": 41,
   "id": "078ea59a",
   "metadata": {},
   "outputs": [
    {
     "data": {
      "text/plain": [
       "array([0.97560976, 0.11971831, 0.51204819, ..., 0.51204819, 0.15482234,\n",
       "       0.15482234])"
      ]
     },
     "execution_count": 41,
     "metadata": {},
     "output_type": "execute_result"
    }
   ],
   "source": [
    "surv_probs = calc_surv_probs(p_surv_cond_sex_pclass, data_selected, ['sex', 'pclass'])\n",
    "surv_probs"
   ]
  },
  {
   "cell_type": "markdown",
   "id": "54acec9f",
   "metadata": {},
   "source": [
    "As given in the task, we classify a person as survivor when the probability of survival is greater or equal to one half, so:"
   ]
  },
  {
   "cell_type": "code",
   "execution_count": 42,
   "id": "2aa64469",
   "metadata": {},
   "outputs": [],
   "source": [
    "surv_probs_classified = (surv_probs>=0.5)"
   ]
  },
  {
   "cell_type": "markdown",
   "id": "ca33e16e",
   "metadata": {},
   "source": [
    "The fraction of survivors that were classified as survivors:"
   ]
  },
  {
   "cell_type": "code",
   "execution_count": 43,
   "id": "747ca4b2",
   "metadata": {},
   "outputs": [
    {
     "data": {
      "text/plain": [
       "0.792741165234002"
      ]
     },
     "execution_count": 43,
     "metadata": {},
     "output_type": "execute_result"
    }
   ],
   "source": [
    "(survived_real==surv_probs_classified).sum()/n_passengers"
   ]
  },
  {
   "cell_type": "markdown",
   "id": "84ce715e",
   "metadata": {},
   "source": [
    "TPR and FPR:"
   ]
  },
  {
   "cell_type": "code",
   "execution_count": 44,
   "id": "85799aa7",
   "metadata": {},
   "outputs": [
    {
     "name": "stdout",
     "output_type": "stream",
     "text": [
      "TPR: 0.6925\n",
      "FPR: 0.14528593508500773\n"
     ]
    }
   ],
   "source": [
    "def calc_tpr_fpr(real, predicted):\n",
    "    all_positive = (real==1).sum()\n",
    "    all_negative = (real==0).sum()\n",
    "    \n",
    "    tpr = 1 - ((real > predicted).sum()/all_positive)\n",
    "    fpr = (real < predicted).sum()/all_negative\n",
    "    return tpr, fpr\n",
    "\n",
    "tpr, fpr = calc_tpr_fpr(survived_real, surv_probs_classified)\n",
    "print(\"TPR: \"+str(tpr))\n",
    "print(\"FPR: \"+str(fpr))"
   ]
  },
  {
   "cell_type": "markdown",
   "id": "c0210fcb",
   "metadata": {},
   "source": [
    "ROC curve:"
   ]
  },
  {
   "cell_type": "code",
   "execution_count": 45,
   "id": "ba40b846",
   "metadata": {
    "scrolled": false
   },
   "outputs": [
    {
     "data": {
      "image/png": "[encoded data removed]",
      "text/plain": [
       "<Figure size 432x288 with 1 Axes>"
      ]
     },
     "metadata": {
      "needs_background": "light"
     },
     "output_type": "display_data"
    }
   ],
   "source": [
    "fprs, tprs, thds = roc_curve(survived_real, surv_probs)\n",
    "\n",
    "plt.scatter([fpr], [tpr])\n",
    "plt.plot(fprs, tprs)\n",
    "plt.xlabel(\"FPR\")\n",
    "plt.ylabel(\"TPR\")\n",
    "plt.show()"
   ]
  },
  {
   "cell_type": "markdown",
   "id": "f067d13a",
   "metadata": {},
   "source": [
    "AUC:"
   ]
  },
  {
   "cell_type": "code",
   "execution_count": 46,
   "id": "31a92e51",
   "metadata": {},
   "outputs": [
    {
     "name": "stdout",
     "output_type": "stream",
     "text": [
      "AUC: 0.8327163833075735\n"
     ]
    }
   ],
   "source": [
    "auc = roc_auc_score(survived_real, surv_probs)\n",
    "print(\"AUC: \"+str(auc))"
   ]
  },
  {
   "cell_type": "markdown",
   "id": "aad24123",
   "metadata": {},
   "source": [
    "###### Calculate for the test set"
   ]
  },
  {
   "cell_type": "code",
   "execution_count": 47,
   "id": "c8f216d9",
   "metadata": {},
   "outputs": [],
   "source": [
    "test_data_selected = test_data[['pclass', 'sex', 'survived']].copy()"
   ]
  },
  {
   "cell_type": "code",
   "execution_count": 48,
   "id": "13b96906",
   "metadata": {},
   "outputs": [],
   "source": [
    "test_grouped = test_data_selected.groupby(['survived','sex','pclass'])"
   ]
  },
  {
   "cell_type": "code",
   "execution_count": 49,
   "id": "a27e434b",
   "metadata": {},
   "outputs": [],
   "source": [
    "test_counts = test_grouped.size()"
   ]
  },
  {
   "cell_type": "code",
   "execution_count": 50,
   "id": "76a4d4fe",
   "metadata": {},
   "outputs": [],
   "source": [
    "test_n_passengers = test_counts.sum()\n",
    "test_n_survivors = test_counts[1].sum()\n",
    "test_n_dead = test_counts[0].sum()\n",
    "test_by_sex_class = test_counts.sum(level=['sex','pclass'])"
   ]
  },
  {
   "cell_type": "code",
   "execution_count": 51,
   "id": "35e239b4",
   "metadata": {
    "tags": []
   },
   "outputs": [],
   "source": [
    "test_p_surv_cond_sex_pclass = pd.Series(0,index=test_counts.index)\n",
    "for survived, sex, pclass in test_counts.index: \n",
    "    p = test_counts.loc[survived, sex, pclass]/test_by_sex_class.loc[sex, pclass]\n",
    "    test_p_surv_cond_sex_pclass.loc[(survived, sex, pclass)] = p"
   ]
  },
  {
   "cell_type": "markdown",
   "id": "d99e4691",
   "metadata": {},
   "source": [
    "Extract the real number of the survived:"
   ]
  },
  {
   "cell_type": "code",
   "execution_count": 52,
   "id": "5fd28d09",
   "metadata": {},
   "outputs": [],
   "source": [
    "test_survived_real = test_data_selected['survived']"
   ]
  },
  {
   "cell_type": "markdown",
   "id": "c7d532e8",
   "metadata": {},
   "source": [
    "Probability of survival for each passenger:"
   ]
  },
  {
   "cell_type": "code",
   "execution_count": 53,
   "id": "26958990",
   "metadata": {},
   "outputs": [],
   "source": [
    "test_surv_probs = calc_surv_probs(test_p_surv_cond_sex_pclass, test_data_selected, ['sex', 'pclass'])"
   ]
  },
  {
   "cell_type": "markdown",
   "id": "6a635b64",
   "metadata": {},
   "source": [
    "As given in the task, we classify a person as survivor when the probability of survival is greater or equal to one half, so:"
   ]
  },
  {
   "cell_type": "code",
   "execution_count": 54,
   "id": "feab9123",
   "metadata": {},
   "outputs": [],
   "source": [
    "test_surv_probs_classified = (test_surv_probs>=0.5)"
   ]
  },
  {
   "cell_type": "markdown",
   "id": "76d91275",
   "metadata": {},
   "source": [
    "The fraction of survivors that were classified as survivors:"
   ]
  },
  {
   "cell_type": "code",
   "execution_count": 55,
   "id": "babd8548",
   "metadata": {},
   "outputs": [
    {
     "data": {
      "text/plain": [
       "0.7595419847328244"
      ]
     },
     "execution_count": 55,
     "metadata": {},
     "output_type": "execute_result"
    }
   ],
   "source": [
    "(test_survived_real==test_surv_probs_classified).sum()/test_n_passengers"
   ]
  },
  {
   "cell_type": "markdown",
   "id": "303e15bd",
   "metadata": {},
   "source": [
    "TPR and FPR:"
   ]
  },
  {
   "cell_type": "code",
   "execution_count": 56,
   "id": "ab4a3f9b",
   "metadata": {},
   "outputs": [
    {
     "name": "stdout",
     "output_type": "stream",
     "text": [
      "TPR: 0.41000000000000003\n",
      "FPR: 0.024691358024691357\n"
     ]
    }
   ],
   "source": [
    "test_tpr, test_fpr = calc_tpr_fpr(test_survived_real, test_surv_probs_classified)\n",
    "print(\"TPR: \"+str(test_tpr))\n",
    "print(\"FPR: \"+str(test_fpr))"
   ]
  },
  {
   "cell_type": "markdown",
   "id": "83a3b718",
   "metadata": {},
   "source": [
    "ROC curve:"
   ]
  },
  {
   "cell_type": "code",
   "execution_count": 57,
   "id": "011702f6",
   "metadata": {},
   "outputs": [
    {
     "data": {
      "image/png": "[encoded data removed]",
      "text/plain": [
       "<Figure size 432x288 with 1 Axes>"
      ]
     },
     "metadata": {
      "needs_background": "light"
     },
     "output_type": "display_data"
    }
   ],
   "source": [
    "test_fprs, test_tprs, test_thds = roc_curve(test_survived_real, test_surv_probs)\n",
    "\n",
    "plt.scatter([test_fpr], [test_tpr])\n",
    "plt.plot(test_fprs, test_tprs)\n",
    "plt.xlabel(\"FPR\")\n",
    "plt.ylabel(\"TPR\")\n",
    "plt.show()"
   ]
  },
  {
   "cell_type": "markdown",
   "id": "1f203f9d",
   "metadata": {},
   "source": [
    "AUC:"
   ]
  },
  {
   "cell_type": "code",
   "execution_count": 58,
   "id": "4f19337c",
   "metadata": {},
   "outputs": [
    {
     "name": "stdout",
     "output_type": "stream",
     "text": [
      "AUC: 0.7910802469135803\n"
     ]
    }
   ],
   "source": [
    "auc = roc_auc_score(test_survived_real, test_surv_probs)\n",
    "print(\"AUC: \"+str(auc))"
   ]
  },
  {
   "cell_type": "markdown",
   "id": "418ce60a",
   "metadata": {},
   "source": [
    "#### c) Are those features conditionally independent? "
   ]
  },
  {
   "cell_type": "markdown",
   "id": "8d233b3e",
   "metadata": {},
   "source": [
    "To answer this question we need to compare conditional probability distribution"
   ]
  },
  {
   "cell_type": "markdown",
   "id": "00dd2ffe",
   "metadata": {},
   "source": [
    "$$P(sex,pclass|survived)$$"
   ]
  },
  {
   "cell_type": "markdown",
   "id": "46020687",
   "metadata": {},
   "source": [
    "with"
   ]
  },
  {
   "cell_type": "markdown",
   "id": "118e8e07",
   "metadata": {},
   "source": [
    "$$P(sex|survived)\\times P(pclass|survived)$$ "
   ]
  },
  {
   "cell_type": "markdown",
   "id": "9d2e4fe6",
   "metadata": {},
   "source": [
    "Please note that $survived$ is actually a label for the survival status: 1 for survived and 0 for dead. "
   ]
  },
  {
   "cell_type": "markdown",
   "id": "b370c5a3",
   "metadata": {},
   "source": [
    "By definition"
   ]
  },
  {
   "cell_type": "markdown",
   "id": "8eaa6114",
   "metadata": {},
   "source": [
    "$$P(sex,pclass|survived)= \\frac{P(sex,pclass,survived)}{P(survived)}$$"
   ]
  },
  {
   "cell_type": "markdown",
   "id": "3fd6957d",
   "metadata": {},
   "source": [
    "which can be calculated based on the `counts` object. "
   ]
  },
  {
   "cell_type": "markdown",
   "id": "8d9da127",
   "metadata": {},
   "source": [
    "As given by the definition:"
   ]
  },
  {
   "cell_type": "code",
   "execution_count": 59,
   "id": "ce1de585",
   "metadata": {},
   "outputs": [],
   "source": [
    "p_sex_pclass_cond_survived = counts/counts.sum(level='survived')"
   ]
  },
  {
   "cell_type": "markdown",
   "id": "e62bbd97",
   "metadata": {},
   "source": [
    "By analogy, same goes with P(sex|survived) and P(pclass|survived)"
   ]
  },
  {
   "cell_type": "code",
   "execution_count": 60,
   "id": "0c90184d",
   "metadata": {},
   "outputs": [],
   "source": [
    "p_sex_cond_survived = counts.sum(level=['survived', 'sex'])/counts.sum(level='survived')\n",
    "p_pclass_cond_survived = counts.sum(level=['survived', 'pclass'])/counts.sum(level='survived')"
   ]
  },
  {
   "cell_type": "code",
   "execution_count": 61,
   "id": "3cfffdf2",
   "metadata": {},
   "outputs": [],
   "source": [
    "multiplication = p_sex_cond_survived * p_pclass_cond_survived"
   ]
  },
  {
   "cell_type": "markdown",
   "id": "64eee59d",
   "metadata": {},
   "source": [
    "Now, it's time to compare:"
   ]
  },
  {
   "cell_type": "code",
   "execution_count": 62,
   "id": "2b2a8eb7",
   "metadata": {},
   "outputs": [
    {
     "data": {
      "text/plain": [
       "survived  sex     pclass\n",
       "0         female  1        -0.017369\n",
       "                  2        -0.014859\n",
       "                  3         0.032228\n",
       "          male    1         0.017369\n",
       "                  2         0.014859\n",
       "                  3        -0.032228\n",
       "1         female  1         0.014344\n",
       "                  2         0.025919\n",
       "                  3        -0.040263\n",
       "          male    1        -0.014344\n",
       "                  2        -0.025919\n",
       "                  3         0.040263\n",
       "dtype: float64"
      ]
     },
     "execution_count": 62,
     "metadata": {},
     "output_type": "execute_result"
    }
   ],
   "source": [
    "p_sex_pclass_cond_survived - multiplication"
   ]
  },
  {
   "cell_type": "markdown",
   "id": "3c3b5918",
   "metadata": {},
   "source": [
    "Because the differences are non-zero, we can say that the features aren't independent."
   ]
  },
  {
   "cell_type": "markdown",
   "id": "d28da71f",
   "metadata": {},
   "source": [
    "__d) Implement a Naive bayes classifier using same features and compare it with a).__"
   ]
  },
  {
   "cell_type": "markdown",
   "id": "7e247409",
   "metadata": {},
   "source": [
    "Please calculate the FPR and TPR as well as AUC and draw the ROC curve for train and test datasets. "
   ]
  },
  {
   "cell_type": "markdown",
   "id": "3e83a0d1",
   "metadata": {},
   "source": [
    "We  have already calculated the probability "
   ]
  },
  {
   "cell_type": "markdown",
   "id": "8ff4e514",
   "metadata": {},
   "source": [
    "$$P_{NB}(sex,pclass|survived) = P(sex|survived)\\times P(pclass|survived)$$"
   ]
  },
  {
   "cell_type": "markdown",
   "id": "73b2056a",
   "metadata": {},
   "source": [
    "From which we can calculate "
   ]
  },
  {
   "cell_type": "markdown",
   "id": "50ba1772",
   "metadata": {},
   "source": [
    "$$P_{NB}(survived|sex,pclass)= \\frac{P_{NB}(sex,pclass|survived)P(survived)}{P_{NB}(sex,pclass)}$$"
   ]
  },
  {
   "cell_type": "markdown",
   "id": "4fdc9819",
   "metadata": {},
   "source": [
    "where the denominator is also calculated from the factorised probabilities"
   ]
  },
  {
   "cell_type": "markdown",
   "id": "a434bde2",
   "metadata": {},
   "source": [
    "$$P_{NB}(sex,pclass)= P_{NB}(sex,pclass|survived=1)P(survived=1)+P_{NB}(sex,pclass|survived=0)P(survived=0)$$"
   ]
  },
  {
   "cell_type": "markdown",
   "id": "33fc5e60",
   "metadata": {},
   "source": [
    "That is very important because the result must be a probability and add up to one"
   ]
  },
  {
   "cell_type": "markdown",
   "id": "be1c103c",
   "metadata": {},
   "source": [
    "$$P_{NB}(survived=1|sex,pclass)+P_{NB}(survived=0|sex,pclass)=1$$"
   ]
  },
  {
   "cell_type": "markdown",
   "id": "d770e0f2",
   "metadata": {},
   "source": [
    "for each sex and passenger class. "
   ]
  },
  {
   "cell_type": "code",
   "execution_count": 63,
   "id": "ae9bdec4",
   "metadata": {},
   "outputs": [],
   "source": [
    "p_surv = counts.sum(level='survived')/counts.sum()"
   ]
  },
  {
   "cell_type": "code",
   "execution_count": 64,
   "id": "ff009808",
   "metadata": {},
   "outputs": [],
   "source": [
    "nb_above = p_sex_pclass_cond_survived*p_surv"
   ]
  },
  {
   "cell_type": "markdown",
   "id": "8856441e",
   "metadata": {},
   "source": [
    "The denominator is actually a sum of nb_above of anything but sex and pclass, so:"
   ]
  },
  {
   "cell_type": "code",
   "execution_count": 65,
   "id": "ec923719",
   "metadata": {},
   "outputs": [],
   "source": [
    "p_nb_sex_pclass = nb_above.sum(level=['sex', 'pclass'])"
   ]
  },
  {
   "cell_type": "markdown",
   "id": "a1b2aad2",
   "metadata": {},
   "source": [
    "And now, having them both we can get $$P_{NB}(survived|sex, pclass)$$"
   ]
  },
  {
   "cell_type": "code",
   "execution_count": 66,
   "id": "d81e0449",
   "metadata": {},
   "outputs": [],
   "source": [
    "p_nb_surv_cond_sex_pclass = nb_above/p_nb_sex_pclass\n",
    "p_nb_surv_cond_sex_pclass = p_nb_surv_cond_sex_pclass.reorder_levels(['survived','sex','pclass']).sort_index()"
   ]
  },
  {
   "cell_type": "markdown",
   "id": "50fb7c7d",
   "metadata": {},
   "source": [
    "Just to be sure, we check if the result adds up to one:"
   ]
  },
  {
   "cell_type": "code",
   "execution_count": 67,
   "id": "0f859af0",
   "metadata": {},
   "outputs": [
    {
     "data": {
      "text/plain": [
       "sex     pclass\n",
       "female  1         1.0\n",
       "        2         1.0\n",
       "        3         1.0\n",
       "male    1         1.0\n",
       "        2         1.0\n",
       "        3         1.0\n",
       "dtype: float64"
      ]
     },
     "execution_count": 67,
     "metadata": {},
     "output_type": "execute_result"
    }
   ],
   "source": [
    "p_nb_surv_cond_sex_pclass.sum(level=['sex', 'pclass'])"
   ]
  },
  {
   "cell_type": "markdown",
   "id": "eadc3e31",
   "metadata": {},
   "source": [
    "Now, knowing that it does, we can calculate TPR and FPR"
   ]
  },
  {
   "cell_type": "code",
   "execution_count": 68,
   "id": "3c5fd936",
   "metadata": {},
   "outputs": [],
   "source": [
    "nb_probs = calc_surv_probs(p_nb_surv_cond_sex_pclass, data_selected, ['sex', 'pclass'])"
   ]
  },
  {
   "cell_type": "code",
   "execution_count": 69,
   "id": "2f7458df",
   "metadata": {},
   "outputs": [],
   "source": [
    "nb_classified = (nb_probs>= 0.5)"
   ]
  },
  {
   "cell_type": "code",
   "execution_count": 70,
   "id": "47618012",
   "metadata": {},
   "outputs": [
    {
     "data": {
      "text/plain": [
       "0.792741165234002"
      ]
     },
     "execution_count": 70,
     "metadata": {},
     "output_type": "execute_result"
    }
   ],
   "source": [
    "(survived_real==nb_classified).sum()/n_passengers"
   ]
  },
  {
   "cell_type": "code",
   "execution_count": 71,
   "id": "358c0536",
   "metadata": {},
   "outputs": [
    {
     "name": "stdout",
     "output_type": "stream",
     "text": [
      "NB TPR: 0.6925\n",
      "NB FPR: 0.14528593508500773\n"
     ]
    }
   ],
   "source": [
    "nb_tpr, nb_fpr = calc_tpr_fpr(survived_real, nb_classified)\n",
    "print(\"NB TPR: \"+str(nb_tpr))\n",
    "print(\"NB FPR: \"+str(nb_fpr))"
   ]
  },
  {
   "cell_type": "markdown",
   "id": "60c0f833",
   "metadata": {},
   "source": [
    "We can now also compare it with a) "
   ]
  },
  {
   "cell_type": "code",
   "execution_count": 72,
   "id": "f8d584a0",
   "metadata": {
    "scrolled": false
   },
   "outputs": [
    {
     "data": {
      "image/png": "[encoded data removed]",
      "text/plain": [
       "<Figure size 432x288 with 1 Axes>"
      ]
     },
     "metadata": {
      "needs_background": "light"
     },
     "output_type": "display_data"
    }
   ],
   "source": [
    "nb_fprs, nb_tprs, nb_thds = roc_curve(survived_real, nb_probs)\n",
    "\n",
    "plt.scatter([nb_fpr], [nb_tpr], edgecolors='blue', facecolors='white',label='Bayes')\n",
    "plt.plot(nb_fprs, nb_tprs,  c='blue')\n",
    "\n",
    "plt.scatter([fpr], [tpr], edgecolors='red', facecolors='white',label='NaiveBayes')\n",
    "plt.plot(fprs, tprs,  c='red')\n",
    "\n",
    "\n",
    "plt.xlabel(\"FPR\")\n",
    "plt.ylabel(\"TPR\")\n",
    "plt.legend()\n",
    "plt.show()"
   ]
  },
  {
   "cell_type": "markdown",
   "id": "e4d2d96d",
   "metadata": {},
   "source": [
    "AUC:"
   ]
  },
  {
   "cell_type": "code",
   "execution_count": 73,
   "id": "b00f45d2",
   "metadata": {},
   "outputs": [
    {
     "name": "stdout",
     "output_type": "stream",
     "text": [
      "AUC: 0.8327163833075735\n"
     ]
    }
   ],
   "source": [
    "nb_auc = roc_auc_score(survived_real, nb_probs)\n",
    "print(\"AUC: \"+str(nb_auc))"
   ]
  },
  {
   "cell_type": "markdown",
   "id": "7d32e976",
   "metadata": {},
   "source": [
    "## Problem 2"
   ]
  },
  {
   "cell_type": "markdown",
   "id": "1360cb08",
   "metadata": {},
   "source": [
    "##### Add age as a feature and implement naive bayes classifier. "
   ]
  },
  {
   "cell_type": "markdown",
   "id": "f7179099",
   "metadata": {},
   "source": [
    "Compute the FPR, TPR and AUC as well as draw the ROC curve. "
   ]
  },
  {
   "cell_type": "markdown",
   "id": "be6aba3f",
   "metadata": {},
   "source": [
    "#### Hint: \n",
    "Consider using it as a categorical variable"
   ]
  },
  {
   "cell_type": "markdown",
   "id": "cb6e9f4c",
   "metadata": {},
   "source": [
    "We start by constructning a new dataframe with age added:"
   ]
  },
  {
   "cell_type": "code",
   "execution_count": 74,
   "id": "2d46fcea",
   "metadata": {},
   "outputs": [],
   "source": [
    "data_with_age = data_selected.copy()"
   ]
  },
  {
   "cell_type": "code",
   "execution_count": 75,
   "id": "b90fd43f",
   "metadata": {},
   "outputs": [],
   "source": [
    "data_with_age['age'] = data['age']"
   ]
  },
  {
   "cell_type": "markdown",
   "id": "c66e6031",
   "metadata": {},
   "source": [
    "###  Missing values ! :( "
   ]
  },
  {
   "cell_type": "markdown",
   "id": "7aa8620d",
   "metadata": {},
   "source": [
    "Unfortunatelly there is a problem. Not all passengers have their age assigned, as we can check by inspecting the dataframe:"
   ]
  },
  {
   "cell_type": "code",
   "execution_count": 76,
   "id": "0b1f9c6f",
   "metadata": {},
   "outputs": [
    {
     "name": "stdout",
     "output_type": "stream",
     "text": [
      "<class 'pandas.core.frame.DataFrame'>\n",
      "Int64Index: 1047 entries, 207 to 1206\n",
      "Data columns (total 4 columns):\n",
      " #   Column    Non-Null Count  Dtype  \n",
      "---  ------    --------------  -----  \n",
      " 0   pclass    1047 non-null   int64  \n",
      " 1   sex       1047 non-null   object \n",
      " 2   survived  1047 non-null   int64  \n",
      " 3   age       845 non-null    float64\n",
      "dtypes: float64(1), int64(2), object(1)\n",
      "memory usage: 40.9+ KB\n"
     ]
    }
   ],
   "source": [
    "data_with_age.info()"
   ]
  },
  {
   "cell_type": "markdown",
   "id": "93d08048",
   "metadata": {},
   "source": [
    "We can see that there are only 1046 non-null entries for 'age'. We can do it also directly by using the `isna` methods"
   ]
  },
  {
   "cell_type": "code",
   "execution_count": 77,
   "id": "43d5a10b",
   "metadata": {},
   "outputs": [
    {
     "data": {
      "text/plain": [
       "202"
      ]
     },
     "execution_count": 77,
     "metadata": {},
     "output_type": "execute_result"
    }
   ],
   "source": [
    "data['age'].isna().sum()"
   ]
  },
  {
   "cell_type": "markdown",
   "id": "04bcf388",
   "metadata": {},
   "source": [
    "This problem is unfortunatelly very common in data science and machine learning. I will present here several  methods of dealing with this problem."
   ]
  },
  {
   "cell_type": "markdown",
   "id": "77eeba56",
   "metadata": {},
   "source": [
    "First solution is to ignore the missing data _i.e._ delete all rows with missing entries. This can be easilly achieved  using `pandas.DataFrame.dropna` method:"
   ]
  },
  {
   "cell_type": "code",
   "execution_count": 78,
   "id": "ee502d23",
   "metadata": {},
   "outputs": [],
   "source": [
    "data_with_age_cleaned = data_with_age.dropna()"
   ]
  },
  {
   "cell_type": "code",
   "execution_count": 79,
   "id": "9b81b35b",
   "metadata": {},
   "outputs": [
    {
     "name": "stdout",
     "output_type": "stream",
     "text": [
      "<class 'pandas.core.frame.DataFrame'>\n",
      "Int64Index: 845 entries, 207 to 1206\n",
      "Data columns (total 4 columns):\n",
      " #   Column    Non-Null Count  Dtype  \n",
      "---  ------    --------------  -----  \n",
      " 0   pclass    845 non-null    int64  \n",
      " 1   sex       845 non-null    object \n",
      " 2   survived  845 non-null    int64  \n",
      " 3   age       845 non-null    float64\n",
      "dtypes: float64(1), int64(2), object(1)\n",
      "memory usage: 33.0+ KB\n"
     ]
    }
   ],
   "source": [
    "data_with_age_cleaned.info()"
   ]
  },
  {
   "cell_type": "markdown",
   "id": "df58249d",
   "metadata": {},
   "source": [
    "Second method is to fill in the missing values. A good choice would be the  average age (or median)"
   ]
  },
  {
   "cell_type": "code",
   "execution_count": 80,
   "id": "421aca0a",
   "metadata": {},
   "outputs": [
    {
     "data": {
      "text/plain": [
       "30.152169585798816"
      ]
     },
     "execution_count": 80,
     "metadata": {},
     "output_type": "execute_result"
    }
   ],
   "source": [
    "data_with_age_cleaned.age.mean()"
   ]
  },
  {
   "cell_type": "code",
   "execution_count": 81,
   "id": "2fbedcdf",
   "metadata": {},
   "outputs": [],
   "source": [
    "data_with_age_filled = data_with_age.fillna(data_with_age.age.median())"
   ]
  },
  {
   "cell_type": "markdown",
   "id": "4153cdb9",
   "metadata": {},
   "source": [
    "The statistical functions conveniently just disregard the missing data. "
   ]
  },
  {
   "cell_type": "code",
   "execution_count": 82,
   "id": "58eb2bb6",
   "metadata": {},
   "outputs": [
    {
     "name": "stdout",
     "output_type": "stream",
     "text": [
      "<class 'pandas.core.frame.DataFrame'>\n",
      "Int64Index: 1047 entries, 207 to 1206\n",
      "Data columns (total 4 columns):\n",
      " #   Column    Non-Null Count  Dtype  \n",
      "---  ------    --------------  -----  \n",
      " 0   pclass    1047 non-null   int64  \n",
      " 1   sex       1047 non-null   object \n",
      " 2   survived  1047 non-null   int64  \n",
      " 3   age       1047 non-null   float64\n",
      "dtypes: float64(1), int64(2), object(1)\n",
      "memory usage: 40.9+ KB\n"
     ]
    }
   ],
   "source": [
    "data_with_age_filled.info()"
   ]
  },
  {
   "cell_type": "code",
   "execution_count": 83,
   "id": "fe755ea7",
   "metadata": {},
   "outputs": [
    {
     "data": {
      "text/plain": [
       "29.736946800382043"
      ]
     },
     "execution_count": 83,
     "metadata": {},
     "output_type": "execute_result"
    }
   ],
   "source": [
    "data_with_age_filled.age.mean()"
   ]
  },
  {
   "cell_type": "markdown",
   "id": "0a72a507",
   "metadata": {},
   "source": [
    "A more \"sophisticated\" method would be to will the missing values based on the group statistics e.g. average age of persons with same sex and pclass. That can be achieved using `groupby`, and `apply` methods. We could do it in one line, but I will rather do it step by step. "
   ]
  },
  {
   "cell_type": "markdown",
   "id": "038f4a70",
   "metadata": {},
   "source": [
    "We start by grouping  data by sex and pclass. We do not group by survived, those are the labels and after training we would not have access to them. "
   ]
  },
  {
   "cell_type": "code",
   "execution_count": 84,
   "id": "9ce0069b",
   "metadata": {},
   "outputs": [],
   "source": [
    "grouped = data_with_age.groupby(['sex', 'pclass'])"
   ]
  },
  {
   "cell_type": "markdown",
   "id": "32db835f",
   "metadata": {},
   "source": [
    "Now we would like to take each group, calculate the mean age, and use it to fill the 'na\" values in the group. This can be achieved using the `apply` method"
   ]
  },
  {
   "cell_type": "code",
   "execution_count": 85,
   "id": "e9b486e8",
   "metadata": {},
   "outputs": [],
   "source": [
    "data_with_age_group_filled = grouped.apply(\n",
    "    lambda g: g.fillna({'age':g.age.mean()})\n",
    "                        )"
   ]
  },
  {
   "cell_type": "markdown",
   "id": "fd9b1d2a",
   "metadata": {},
   "source": [
    "The `apply` method takes a function as argument. This functions expects a DataFrame and returs a DataFrame. The groups are passed one by one to this function and the results are assempled together back into the resulting  dataframe."
   ]
  },
  {
   "cell_type": "code",
   "execution_count": 86,
   "id": "72e71e86",
   "metadata": {},
   "outputs": [
    {
     "name": "stdout",
     "output_type": "stream",
     "text": [
      "<class 'pandas.core.frame.DataFrame'>\n",
      "MultiIndex: 1047 entries, ('female', 1, 207) to ('male', 3, 1206)\n",
      "Data columns (total 4 columns):\n",
      " #   Column    Non-Null Count  Dtype  \n",
      "---  ------    --------------  -----  \n",
      " 0   pclass    1047 non-null   int64  \n",
      " 1   sex       1047 non-null   object \n",
      " 2   survived  1047 non-null   int64  \n",
      " 3   age       1047 non-null   float64\n",
      "dtypes: float64(1), int64(2), object(1)\n",
      "memory usage: 77.4+ KB\n"
     ]
    }
   ],
   "source": [
    "data_with_age_group_filled.info()"
   ]
  },
  {
   "cell_type": "code",
   "execution_count": 87,
   "id": "474bb213",
   "metadata": {},
   "outputs": [
    {
     "data": {
      "text/plain": [
       "29.594626185476997"
      ]
     },
     "execution_count": 87,
     "metadata": {},
     "output_type": "execute_result"
    }
   ],
   "source": [
    "data_with_age_group_filled.age.mean()"
   ]
  },
  {
   "cell_type": "markdown",
   "id": "614b56b7",
   "metadata": {},
   "source": [
    "The last method would be to treat the missing data as separate age category. "
   ]
  },
  {
   "cell_type": "markdown",
   "id": "887f8465",
   "metadata": {},
   "source": [
    "Now we will divide age into categories. Just for fun I will define a function that returns a categorizing function"
   ]
  },
  {
   "cell_type": "code",
   "execution_count": 88,
   "id": "6e310646",
   "metadata": {},
   "outputs": [],
   "source": [
    "def make_age_categorizer(limits, lbls):\n",
    "    def categorizer(age):\n",
    "        if not pd.isna(age):\n",
    "            for i,l in enumerate(limits):\n",
    "                if age<=l:\n",
    "                    return lbls[i]\n",
    "            return lbls[-1]    \n",
    "        else:\n",
    "            return 'unc'\n",
    "\n",
    "    return categorizer\n",
    "    "
   ]
  },
  {
   "cell_type": "markdown",
   "id": "6354984b",
   "metadata": {},
   "source": [
    "Somewhat arbitrarly I will classify all younger then 12 years as children, between 12 and 60 as adults and older as seniors"
   ]
  },
  {
   "cell_type": "code",
   "execution_count": 89,
   "id": "f6f3a13a",
   "metadata": {},
   "outputs": [],
   "source": [
    "ctg = make_age_categorizer([12,60],['child','adult','senior'])"
   ]
  },
  {
   "cell_type": "markdown",
   "id": "b770d8d2",
   "metadata": {},
   "source": [
    "We can use the `cgt` function to add new column containing age categories to dataframe"
   ]
  },
  {
   "cell_type": "code",
   "execution_count": 90,
   "id": "cb8609ef",
   "metadata": {},
   "outputs": [],
   "source": [
    "data_with_age['age_category']=data_with_age.age.apply(ctg)"
   ]
  },
  {
   "cell_type": "markdown",
   "id": "78fb8ca9",
   "metadata": {},
   "source": [
    "and group it by all categories"
   ]
  },
  {
   "cell_type": "code",
   "execution_count": 91,
   "id": "216790cf",
   "metadata": {},
   "outputs": [],
   "source": [
    "counts_with_age = data_with_age.groupby( ['survived', 'sex', 'pclass', 'age_category']).size()"
   ]
  },
  {
   "cell_type": "code",
   "execution_count": 92,
   "id": "8283abd8",
   "metadata": {},
   "outputs": [
    {
     "data": {
      "text/plain": [
       "survived  sex     pclass  age_category\n",
       "0         female  1       adult             2\n",
       "                          child             1\n",
       "                  2       adult             9\n",
       "                          unc               1\n",
       "                  3       adult            47\n",
       "                          child            10\n",
       "                          unc              24\n",
       "          male    1       adult            69\n",
       "                          senior           13\n",
       "                          unc              13\n",
       "                  2       adult           109\n",
       "                          senior            5\n",
       "                          unc              11\n",
       "                  3       adult           213\n",
       "                          child            20\n",
       "                          senior            4\n",
       "                          unc              96\n",
       "1         female  1       adult           107\n",
       "                          senior            4\n",
       "                          unc               9\n",
       "                  2       adult            63\n",
       "                          child             8\n",
       "                          unc               1\n",
       "                  3       adult            44\n",
       "                          child            13\n",
       "                          senior            1\n",
       "                          unc              27\n",
       "          male    1       adult            35\n",
       "                          child             3\n",
       "                          unc               7\n",
       "                  2       adult             7\n",
       "                          child             9\n",
       "                          unc               1\n",
       "                  3       adult            39\n",
       "                          child            10\n",
       "                          unc              12\n",
       "dtype: int64"
      ]
     },
     "execution_count": 92,
     "metadata": {},
     "output_type": "execute_result"
    }
   ],
   "source": [
    "counts_with_age"
   ]
  },
  {
   "cell_type": "markdown",
   "id": "ee404bd5",
   "metadata": {},
   "source": [
    "From now on we can proceed as before"
   ]
  },
  {
   "cell_type": "markdown",
   "id": "4b6beb84",
   "metadata": {},
   "source": [
    "### Solution"
   ]
  },
  {
   "cell_type": "markdown",
   "id": "7ecec3f9",
   "metadata": {},
   "source": [
    "prepare data"
   ]
  },
  {
   "cell_type": "code",
   "execution_count": 93,
   "id": "1f3ff130",
   "metadata": {},
   "outputs": [],
   "source": [
    "groups = ['sex', 'pclass', 'age_category']\n",
    "groups_full = ['survived'] + groups"
   ]
  },
  {
   "cell_type": "code",
   "execution_count": 94,
   "id": "a006c7fe",
   "metadata": {
    "scrolled": false
   },
   "outputs": [
    {
     "data": {
      "text/plain": [
       "survived  sex     pclass  age_category\n",
       "0         female  1       adult             2\n",
       "                          child             1\n",
       "                  2       adult             9\n",
       "                          unc               1\n",
       "                  3       adult            47\n",
       "                          child            10\n",
       "                          unc              24\n",
       "          male    1       adult            69\n",
       "                          senior           13\n",
       "                          unc              13\n",
       "                  2       adult           109\n",
       "                          senior            5\n",
       "                          unc              11\n",
       "                  3       adult           213\n",
       "                          child            20\n",
       "                          senior            4\n",
       "                          unc              96\n",
       "1         female  1       adult           107\n",
       "                          senior            4\n",
       "                          unc               9\n",
       "                  2       adult            63\n",
       "                          child             8\n",
       "                          unc               1\n",
       "                  3       adult            44\n",
       "                          child            13\n",
       "                          senior            1\n",
       "                          unc              27\n",
       "          male    1       adult            35\n",
       "                          child             3\n",
       "                          unc               7\n",
       "                  2       adult             7\n",
       "                          child             9\n",
       "                          unc               1\n",
       "                  3       adult            39\n",
       "                          child            10\n",
       "                          unc              12\n",
       "dtype: int64"
      ]
     },
     "metadata": {},
     "output_type": "display_data"
    }
   ],
   "source": [
    "data_age = data[['pclass', 'sex', 'survived', 'age']].copy()\n",
    "data_age['age_category'] = data_age.age.apply(ctg)\n",
    "data_age_grouped = data_age.groupby(groups_full)\n",
    "age_counts = data_age_grouped.size()\n",
    "age_passengers = age_counts.sum(level=groups)\n",
    "#p_surv_age = (age_counts / age_passengers).reorder_levels(groups_full).sort_index()\n",
    "display(age_counts)"
   ]
  },
  {
   "cell_type": "markdown",
   "id": "c6617e12",
   "metadata": {},
   "source": [
    "prepare test data"
   ]
  },
  {
   "cell_type": "code",
   "execution_count": 95,
   "id": "21ab4d4a",
   "metadata": {},
   "outputs": [
    {
     "data": {
      "text/plain": [
       "survived  sex     pclass  age_category\n",
       "0         female  1       adult            1\n",
       "                          senior           1\n",
       "                  2       adult            2\n",
       "                  3       adult           17\n",
       "                          child            6\n",
       "                          unc              6\n",
       "          male    1       adult           15\n",
       "                          senior           1\n",
       "                          unc              7\n",
       "                  2       adult           21\n",
       "                  3       adult           49\n",
       "                          child            3\n",
       "                          senior           1\n",
       "                          unc             32\n",
       "1         female  1       adult           16\n",
       "                          senior           1\n",
       "                          unc              2\n",
       "                  2       adult           16\n",
       "                          child            5\n",
       "                          unc              1\n",
       "                  3       adult           13\n",
       "                          child            1\n",
       "                          unc              7\n",
       "          male    1       adult           13\n",
       "                          child            1\n",
       "                          senior           1\n",
       "                          unc              1\n",
       "                  2       adult            4\n",
       "                          child            2\n",
       "                          senior           1\n",
       "                          unc              1\n",
       "                  3       adult            8\n",
       "                          child            2\n",
       "                          unc              4\n",
       "dtype: int64"
      ]
     },
     "metadata": {},
     "output_type": "display_data"
    }
   ],
   "source": [
    "test_data_age = test_data[['pclass', 'sex', 'survived', 'age']].copy()\n",
    "test_data_age['age_category'] = test_data_age.age.apply(ctg)\n",
    "test_data_age_grouped = test_data_age.groupby(groups_full)\n",
    "test_age_counts = test_data_age_grouped.size()\n",
    "test_age_passengers = test_age_counts.sum(level=groups)\n",
    "#test_p_surv_age = (test_age_counts / test_age_passengers).reorder_levels(groups_full).sort_index()\n",
    "display(test_age_counts)"
   ]
  },
  {
   "cell_type": "markdown",
   "id": "dfa943e8",
   "metadata": {},
   "source": [
    "Classifier"
   ]
  },
  {
   "cell_type": "code",
   "execution_count": 96,
   "id": "89f8e86a",
   "metadata": {
    "scrolled": true
   },
   "outputs": [
    {
     "data": {
      "text/plain": [
       "survived\n",
       "0    0.617956\n",
       "1    0.382044\n",
       "dtype: float64"
      ]
     },
     "execution_count": 96,
     "metadata": {},
     "output_type": "execute_result"
    }
   ],
   "source": [
    "p_surv = age_counts.sum(level='survived') / age_counts.sum()\n",
    "p_surv"
   ]
  },
  {
   "cell_type": "code",
   "execution_count": 97,
   "id": "18095cde",
   "metadata": {
    "scrolled": false
   },
   "outputs": [
    {
     "data": {
      "text/plain": [
       "survived  sex   \n",
       "0         female    0.145286\n",
       "          male      0.854714\n",
       "1         female    0.692500\n",
       "          male      0.307500\n",
       "dtype: float64"
      ]
     },
     "metadata": {},
     "output_type": "display_data"
    },
    {
     "data": {
      "text/plain": [
       "survived  pclass\n",
       "0         1         0.151468\n",
       "          2         0.208655\n",
       "          3         0.639876\n",
       "1         1         0.412500\n",
       "          2         0.222500\n",
       "          3         0.365000\n",
       "dtype: float64"
      ]
     },
     "metadata": {},
     "output_type": "display_data"
    },
    {
     "data": {
      "text/plain": [
       "survived  age_category\n",
       "0         adult           0.693972\n",
       "          child           0.047913\n",
       "          unc             0.224111\n",
       "          senior          0.034003\n",
       "1         adult           0.737500\n",
       "          senior          0.012500\n",
       "          unc             0.142500\n",
       "          child           0.107500\n",
       "dtype: float64"
      ]
     },
     "metadata": {},
     "output_type": "display_data"
    }
   ],
   "source": [
    "p_sex = age_counts.sum(level=['survived','sex']) / age_counts.sum(level='survived')\n",
    "display(p_sex)\n",
    "p_class = age_counts.sum(level=['survived','pclass']) / age_counts.sum(level='survived')\n",
    "display(p_class)\n",
    "p_age = age_counts.sum(level=['survived','age_category']) / age_counts.sum(level='survived')\n",
    "display(p_age)"
   ]
  },
  {
   "cell_type": "code",
   "execution_count": 98,
   "id": "b90161b2",
   "metadata": {},
   "outputs": [],
   "source": [
    "test_p_sex = test_age_counts.sum(level=['survived','sex']) / test_age_counts.sum(level='survived')\n",
    "test_p_class = test_age_counts.sum(level=['survived','pclass']) / test_age_counts.sum(level='survived')\n",
    "test_p_age = test_age_counts.sum(level=['survived','age_category']) / test_age_counts.sum(level='survived')"
   ]
  },
  {
   "cell_type": "code",
   "execution_count": 99,
   "id": "23a4c8c9",
   "metadata": {},
   "outputs": [
    {
     "data": {
      "text/plain": [
       "sex     pclass  age_category\n",
       "female  1       adult           0.104107\n",
       "                child           0.000955\n",
       "                senior          0.003820\n",
       "                unc             0.008596\n",
       "        2       adult           0.068768\n",
       "                child           0.007641\n",
       "                unc             0.001910\n",
       "        3       adult           0.086915\n",
       "                child           0.021968\n",
       "                senior          0.000955\n",
       "                unc             0.048711\n",
       "male    1       adult           0.099331\n",
       "                child           0.002865\n",
       "                senior          0.012416\n",
       "                unc             0.019102\n",
       "        2       adult           0.110793\n",
       "                child           0.008596\n",
       "                senior          0.004776\n",
       "                unc             0.011461\n",
       "        3       adult           0.240688\n",
       "                child           0.028653\n",
       "                senior          0.003820\n",
       "                unc             0.103152\n",
       "dtype: float64"
      ]
     },
     "metadata": {},
     "output_type": "display_data"
    }
   ],
   "source": [
    "p_group = age_counts.sum(level=groups) / age_counts.sum()\n",
    "p_group = p_group.reorder_levels(groups).sort_index()\n",
    "display(p_group)\n",
    "\n",
    "test_p_group = test_age_counts.sum(level=groups) / test_age_counts.sum()\n",
    "test_p_group = test_p_group.reorder_levels(groups).sort_index()"
   ]
  },
  {
   "cell_type": "code",
   "execution_count": 100,
   "id": "bf49fc5e",
   "metadata": {
    "scrolled": false
   },
   "outputs": [
    {
     "data": {
      "text/plain": [
       "survived  sex     pclass  age_category\n",
       "0         female  1       adult           0.015272\n",
       "                          child           0.001054\n",
       "                          unc             0.004932\n",
       "                          senior          0.000748\n",
       "                  2       adult           0.021038\n",
       "                          child           0.001452\n",
       "                          unc             0.006794\n",
       "                          senior          0.001031\n",
       "                  3       adult           0.064515\n",
       "                          child           0.004454\n",
       "                          unc             0.020835\n",
       "                          senior          0.003161\n",
       "          male    1       adult           0.089843\n",
       "                          child           0.006203\n",
       "                          unc             0.029014\n",
       "                          senior          0.004402\n",
       "                  2       adult           0.123763\n",
       "                          child           0.008545\n",
       "                          unc             0.039968\n",
       "                          senior          0.006064\n",
       "                  3       adult           0.379541\n",
       "                          child           0.026204\n",
       "                          unc             0.122569\n",
       "                          senior          0.018597\n",
       "1         female  1       adult           0.210671\n",
       "                          senior          0.003571\n",
       "                          unc             0.040706\n",
       "                          child           0.030708\n",
       "                  2       adult           0.113635\n",
       "                          senior          0.001926\n",
       "                          unc             0.021957\n",
       "                          child           0.016564\n",
       "                  3       adult           0.186412\n",
       "                          senior          0.003160\n",
       "                          unc             0.036019\n",
       "                          child           0.027172\n",
       "          male    1       adult           0.093547\n",
       "                          senior          0.001586\n",
       "                          unc             0.018075\n",
       "                          child           0.013636\n",
       "                  2       adult           0.050459\n",
       "                          senior          0.000855\n",
       "                          unc             0.009750\n",
       "                          child           0.007355\n",
       "                  3       adult           0.082775\n",
       "                          senior          0.001403\n",
       "                          unc             0.015994\n",
       "                          child           0.012066\n",
       "dtype: float64"
      ]
     },
     "metadata": {},
     "output_type": "display_data"
    }
   ],
   "source": [
    "p = p_sex * p_class * p_age\n",
    "# p = p.reorder_levels(groups_full).sort_index().fillna(0)\n",
    "display(p)\n",
    "\n",
    "test_p = test_p_sex * test_p_class * test_p_age"
   ]
  },
  {
   "cell_type": "code",
   "execution_count": 101,
   "id": "815ca08c",
   "metadata": {
    "scrolled": false
   },
   "outputs": [],
   "source": [
    "# \"normalize\"\n",
    "nb_p = p / p.sum(level=groups)\n",
    "nb_p = nb_p.reorder_levels(groups_full).sort_index()\n",
    "# write probability of survival everywhere\n",
    "nb_p.loc[0] = nb_p.loc[0].apply(lambda x: 1 - x).values\n",
    "\n",
    "test_nb_p = test_p / test_p.sum(level=groups)\n",
    "test_nb_p = test_nb_p.reorder_levels(groups_full).sort_index()\n",
    "test_nb_p.loc[0] = test_nb_p.loc[0].apply(lambda x: 1 - x).values"
   ]
  },
  {
   "cell_type": "code",
   "execution_count": 102,
   "id": "323c4fee",
   "metadata": {},
   "outputs": [
    {
     "name": "stdout",
     "output_type": "stream",
     "text": [
      "predicted survivor rate: 0.4556\n",
      "  vs real: 0.3820\n",
      "predicted test survivor rate: 0.5382\n",
      "  vs real: 0.3817\n"
     ]
    }
   ],
   "source": [
    "survivors_classified = (nb_p >= 0.5)\n",
    "test_survivors_classified = (test_nb_p >= 0.5)\n",
    "\n",
    "print(\"predicted survivor rate: {:.4f}\".format(age_counts[survivors_classified].sum() / age_counts.sum()))\n",
    "print(\"  vs real: {:.4f}\".format(age_counts.loc[1].sum() / age_counts.sum()))\n",
    "print(\"predicted test survivor rate: {:.4f}\".format(test_age_counts[test_survivors_classified].sum() / test_age_counts.sum()))\n",
    "print(\"  vs real: {:.4f}\".format(test_age_counts.loc[1].sum() / test_age_counts.sum()))"
   ]
  },
  {
   "cell_type": "markdown",
   "id": "0402746f",
   "metadata": {},
   "source": [
    "Compute TPR and FPR"
   ]
  },
  {
   "cell_type": "code",
   "execution_count": 103,
   "id": "9d95a02d",
   "metadata": {},
   "outputs": [
    {
     "name": "stdout",
     "output_type": "stream",
     "text": [
      "      PP     PN\n",
      "pos TP:314 FN: 86\n",
      "neg FP:163 TN:484\n",
      "\n",
      "TPR: 0.79, FNR: 0.21\n",
      "FPR: 0.25, TNR: 0.75\n",
      "\n",
      "test:\n",
      "TPR: 0.77, FPR: 0.40\n"
     ]
    }
   ],
   "source": [
    "_p = age_counts.loc[1].sum() # survivors\n",
    "_n = age_counts.loc[0].sum()\n",
    "\n",
    "_tp = age_counts[survivors_classified].loc[1].sum()\n",
    "_fp = age_counts[survivors_classified].loc[0].sum()\n",
    "_fn = _p - _tp\n",
    "_tn = _n - _fp\n",
    "\n",
    "print(\"      PP     PN\")\n",
    "print(\"pos TP:{:3d} FN:{:3d}\".format(_tp, _fn))\n",
    "print(\"neg FP:{:3d} TN:{:3d}\".format(_fp, _tn))\n",
    "print()\n",
    "\n",
    "_tpr = _tp / _p\n",
    "_fpr = _fp / _n\n",
    "_fnr = _fn / _p\n",
    "_tnr = _tn / _n\n",
    "\n",
    "print(\"TPR: {:.2f}, FNR: {:.2f}\".format(_tpr, _fnr))\n",
    "print(\"FPR: {:.2f}, TNR: {:.2f}\".format(_fpr, _tnr))\n",
    "print()\n",
    "\n",
    "test_tpr = test_age_counts[test_survivors_classified].loc[1].sum() / test_age_counts.loc[1].sum()\n",
    "test_fpr = test_age_counts[test_survivors_classified].loc[0].sum() / test_age_counts.loc[0].sum()\n",
    "\n",
    "print(\"test:\\nTPR: {:.2f}, FPR: {:.2f}\".format(test_tpr, test_fpr))"
   ]
  },
  {
   "cell_type": "markdown",
   "id": "e1cea641",
   "metadata": {},
   "source": [
    "ROC Curve"
   ]
  },
  {
   "cell_type": "code",
   "execution_count": 104,
   "id": "8b496161",
   "metadata": {},
   "outputs": [],
   "source": [
    "from sklearn.metrics import roc_auc_score, roc_curve"
   ]
  },
  {
   "cell_type": "code",
   "execution_count": 105,
   "id": "344c4f2e",
   "metadata": {},
   "outputs": [],
   "source": [
    "data_age_pred = data_age.join(survivors_classified.rename('predicted'), on=groups_full)\n",
    "data_age_pred = data_age_pred.join(nb_p.rename('probability'), on=groups_full)\n",
    "test_data_age_pred = test_data_age.join(test_survivors_classified.rename('predicted'), on=groups_full)\n",
    "test_data_age_pred = test_data_age_pred.join(test_nb_p.rename('probability'), on=groups_full)"
   ]
  },
  {
   "cell_type": "code",
   "execution_count": 106,
   "id": "8a0dab20",
   "metadata": {},
   "outputs": [
    {
     "data": {
      "image/png": "[encoded data removed]",
      "text/plain": [
       "<Figure size 432x288 with 1 Axes>"
      ]
     },
     "metadata": {
      "needs_background": "light"
     },
     "output_type": "display_data"
    }
   ],
   "source": [
    "actual = data_age_pred['survived']\n",
    "#predicted = data_age_pred['predicted'].astype(int)\n",
    "predicted = data_age_pred['probability']\n",
    "\n",
    "fprs, tprs, thds = roc_curve(actual, predicted)\n",
    "\n",
    "plt.scatter([_fpr], [_tpr], edgecolors='red', facecolors='white',label='NaiveBayes')\n",
    "plt.plot(fprs, tprs,  c='red')\n",
    "\n",
    "plt.xlabel(\"FPR\")\n",
    "plt.ylabel(\"TPR\")\n",
    "plt.legend()\n",
    "plt.show()"
   ]
  },
  {
   "cell_type": "code",
   "execution_count": 107,
   "id": "bca983e3",
   "metadata": {
    "scrolled": true
   },
   "outputs": [
    {
     "data": {
      "image/png": "[encoded data removed]",
      "text/plain": [
       "<Figure size 432x288 with 1 Axes>"
      ]
     },
     "metadata": {
      "needs_background": "light"
     },
     "output_type": "display_data"
    }
   ],
   "source": [
    "test_actual = test_data_age_pred['survived']\n",
    "#test_predicted = test_data_age_pred['predicted'].astype(int)\n",
    "test_predicted = test_data_age_pred['probability']\n",
    "\n",
    "test_fprs, test_tprs, test_thds = roc_curve(test_actual, test_predicted)\n",
    "\n",
    "plt.scatter([test_fpr], [test_tpr], edgecolors='red', facecolors='white',label='NaiveBayes')\n",
    "plt.plot(test_fprs, test_tprs,  c='red')\n",
    "\n",
    "plt.title(\"test data\")\n",
    "plt.xlabel(\"FPR\")\n",
    "plt.ylabel(\"TPR\")\n",
    "plt.legend()\n",
    "plt.show()"
   ]
  },
  {
   "cell_type": "markdown",
   "id": "105e4d1d",
   "metadata": {},
   "source": [
    "AUC:"
   ]
  },
  {
   "cell_type": "code",
   "execution_count": 108,
   "id": "256183a9",
   "metadata": {},
   "outputs": [
    {
     "name": "stdout",
     "output_type": "stream",
     "text": [
      "AUC: 0.865923\n",
      "test AUC: 0.777685\n"
     ]
    }
   ],
   "source": [
    "auc = roc_auc_score(actual, predicted)\n",
    "print(\"AUC: {:.6f}\".format(auc))\n",
    "\n",
    "test_auc = roc_auc_score(test_actual, test_predicted)\n",
    "print(\"test AUC: {:.6f}\".format(test_auc))"
   ]
  }
 ],
 "metadata": {
  "jupytext": {
   "text_representation": {
    "extension": ".Rmd",
    "format_name": "rmarkdown",
    "format_version": "1.2",
    "jupytext_version": "1.11.1"
   }
  },
  "kernelspec": {
   "display_name": "Python 3",
   "language": "python",
   "name": "python3"
  },
  "language_info": {
   "codemirror_mode": {
    "name": "ipython",
    "version": 3
   },
   "file_extension": ".py",
   "mimetype": "text/x-python",
   "name": "python",
   "nbconvert_exporter": "python",
   "pygments_lexer": "ipython3",
   "version": "3.9.5"
  }
 },
 "nbformat": 4,
 "nbformat_minor": 5
}
