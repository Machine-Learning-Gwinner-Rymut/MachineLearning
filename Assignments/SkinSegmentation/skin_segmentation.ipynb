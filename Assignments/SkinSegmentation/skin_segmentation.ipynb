{
 "cells": [
  {
   "cell_type": "markdown",
   "id": "6d1e9bb7",
   "metadata": {},
   "source": [
    "### Małgorzata Gwinner\n",
    "### Jarosław Rymut"
   ]
  },
  {
   "cell_type": "markdown",
   "id": "5539653b",
   "metadata": {},
   "source": [
    "# Skin segmentation "
   ]
  },
  {
   "cell_type": "markdown",
   "id": "2d3d38b4",
   "metadata": {},
   "source": [
    "In this assignement you will train classifier to assign colors to skin or no skin classes. The data is taken from [Skin Segmentation Data Set](http://archive.ics.uci.edu/ml/datasets/Skin+Segmentation#) in the UCI Machine Learning repository."
   ]
  },
  {
   "cell_type": "markdown",
   "id": "459c7408",
   "metadata": {},
   "source": [
    "The  data is in a plain text format and contains four columns. First three contain RGB color data  represented as integers in the range 0-255, and the last column is an integer label  with 1 representing skin and 2 representing no skin. This file we can load directly into a numpy array:"
   ]
  },
  {
   "cell_type": "markdown",
   "id": "c11b1387",
   "metadata": {},
   "source": [
    "You have to install the [scrapbook](https://github.com/nteract/scrapbook) module before using this notebook.  This will help me to automatically scan notebooks  using [papermill](https://github.com/nteract/papermill) module :) "
   ]
  },
  {
   "cell_type": "code",
   "execution_count": 1,
   "id": "4ee52a1d",
   "metadata": {},
   "outputs": [
    {
     "name": "stderr",
     "output_type": "stream",
     "text": [
      "/home/gosia/.local/lib/python3.8/site-packages/papermill/iorw.py:50: FutureWarning: pyarrow.HadoopFileSystem is deprecated as of 2.0.0, please use pyarrow.fs.HadoopFileSystem instead.\n",
      "  from pyarrow import HadoopFileSystem\n"
     ]
    }
   ],
   "source": [
    "import numpy as np\n",
    "import scrapbook as sb\n",
    "import matplotlib.pyplot as plt"
   ]
  },
  {
   "cell_type": "markdown",
   "id": "f336b3e1",
   "metadata": {},
   "source": [
    "Please fill your firstname and name in the cell below."
   ]
  },
  {
   "cell_type": "code",
   "execution_count": 2,
   "id": "e33a2e3b",
   "metadata": {},
   "outputs": [
    {
     "data": {
      "application/scrapbook.scrap.json+json": {
       "data": [
        "Malgorzata",
        "Gwinner"
       ],
       "encoder": "json",
       "name": "person1",
       "version": 1
      }
     },
     "metadata": {
      "scrapbook": {
       "data": true,
       "display": false,
       "name": "person1"
      }
     },
     "output_type": "display_data"
    },
    {
     "data": {
      "text/plain": [
       "['Malgorzata', 'Gwinner']"
      ]
     },
     "metadata": {
      "scrapbook": {
       "data": false,
       "display": true,
       "name": "person1"
      }
     },
     "output_type": "display_data"
    },
    {
     "data": {
      "application/scrapbook.scrap.json+json": {
       "data": [
        "Jarosław",
        "Rymut"
       ],
       "encoder": "json",
       "name": "person2",
       "version": 1
      }
     },
     "metadata": {
      "scrapbook": {
       "data": true,
       "display": false,
       "name": "person2"
      }
     },
     "output_type": "display_data"
    },
    {
     "data": {
      "text/plain": [
       "['Jarosław', 'Rymut']"
      ]
     },
     "metadata": {
      "scrapbook": {
       "data": false,
       "display": true,
       "name": "person2"
      }
     },
     "output_type": "display_data"
    }
   ],
   "source": [
    "sb.glue('person1',['Malgorzata', 'Gwinner'], display=True)\n",
    "# In case of the two-person team add second persons\n",
    "sb.glue('person2',['Jarosław', 'Rymut'], display=True)"
   ]
  },
  {
   "cell_type": "code",
   "execution_count": 3,
   "id": "2ea6b28b",
   "metadata": {},
   "outputs": [],
   "source": [
    "data = np.loadtxt('data/Skin_NonSkin.txt')"
   ]
  },
  {
   "cell_type": "code",
   "execution_count": 4,
   "id": "8487d3ca",
   "metadata": {},
   "outputs": [
    {
     "data": {
      "text/plain": [
       "array([[ 74.,  85., 123.,   1.],\n",
       "       [ 73.,  84., 122.,   1.],\n",
       "       [ 72.,  83., 121.,   1.],\n",
       "       ...,\n",
       "       [163., 162., 112.,   2.],\n",
       "       [163., 162., 112.,   2.],\n",
       "       [255., 255., 255.,   2.]])"
      ]
     },
     "execution_count": 4,
     "metadata": {},
     "output_type": "execute_result"
    }
   ],
   "source": [
    "data"
   ]
  },
  {
   "cell_type": "code",
   "execution_count": 5,
   "id": "25aeab40",
   "metadata": {},
   "outputs": [],
   "source": [
    "rgb  = data[:,:3]\n",
    "lbl = data[:,3].astype('int32') # some function expect labels to be integers\n",
    "lbl = 2 - lbl"
   ]
  },
  {
   "cell_type": "markdown",
   "id": "4b1a6f61",
   "metadata": {},
   "source": [
    "We see that the classes are not balanced:"
   ]
  },
  {
   "cell_type": "code",
   "execution_count": 6,
   "id": "e11870b8",
   "metadata": {},
   "outputs": [
    {
     "data": {
      "text/plain": [
       "array([194198,  50859])"
      ]
     },
     "execution_count": 6,
     "metadata": {},
     "output_type": "execute_result"
    }
   ],
   "source": [
    "np.bincount(lbl)"
   ]
  },
  {
   "cell_type": "markdown",
   "id": "903ab5aa",
   "metadata": {},
   "source": [
    "## Problem 1 "
   ]
  },
  {
   "cell_type": "markdown",
   "id": "ec09192b",
   "metadata": {},
   "source": [
    "Compare the performance of the QuadraticDiscriminantAnalysis, LinearDiscriminativeAnalysis and NaiveBayes classifiers on this set. Use the `sklearn` library when needed. Compare the confusion matrices (tnr,  fnr,fpr,tpr), precision and f1_ score and auc_score, as well ROC curves. Prepare a summary table with all the numerical scores one row per classifier and one column per metric (use pandas.DataFame). Plot all  ROC curves on the same plot and label them accordingly. Assume that skin is positive and non-skin negative. "
   ]
  },
  {
   "cell_type": "markdown",
   "id": "ec3e15da",
   "metadata": {},
   "source": [
    "__Hint__ as you will be repeating this,  it's probably a good idea  to write a python function that does all the analysis. "
   ]
  },
  {
   "cell_type": "code",
   "execution_count": 7,
   "id": "b2b5d178",
   "metadata": {},
   "outputs": [],
   "source": [
    "import pandas as pd\n",
    "from sklearn.metrics import roc_auc_score, roc_curve, f1_score, precision_score, confusion_matrix\n",
    "\n",
    "def analize(cls, name, train_X, train_Y, test_X, test_Y):\n",
    "    cls.fit(train_X, train_Y)\n",
    "    proba = cls.predict_proba(test_X)[:,1]\n",
    "    classified = proba>=0.5\n",
    "    tnr, fpr, fnr, tpr = confusion_matrix(test_Y, classified, normalize=\"true\").ravel()\n",
    "    precision = precision_score(test_Y, classified)\n",
    "    f1 = f1_score(test_Y, classified)\n",
    "    auc = roc_auc_score(test_Y, proba)\n",
    "    fprs, tprs, thds = roc_curve(test_Y, proba)\n",
    "    return  pd.DataFrame({'tnr':[tnr],\n",
    "                          'fpr':[fpr],\n",
    "                          'fnr':[fnr],\n",
    "                          'tpr':[tpr],\n",
    "                          'precision' : [precision],\n",
    "                          'f1' :[f1],\n",
    "                          'auc' :[auc]\n",
    "                           }, index=[name]), fprs, tprs, thds"
   ]
  },
  {
   "cell_type": "code",
   "execution_count": 8,
   "id": "54f2f47c",
   "metadata": {},
   "outputs": [],
   "source": [
    "from sklearn.discriminant_analysis import QuadraticDiscriminantAnalysis, LinearDiscriminantAnalysis\n",
    "from sklearn.naive_bayes import GaussianNB"
   ]
  },
  {
   "cell_type": "code",
   "execution_count": 9,
   "id": "0669af1d",
   "metadata": {},
   "outputs": [],
   "source": [
    "quadratic = QuadraticDiscriminantAnalysis\n",
    "linear = LinearDiscriminantAnalysis\n",
    "gaussian = GaussianNB\n",
    "\n",
    "seed = 1028"
   ]
  },
  {
   "cell_type": "code",
   "execution_count": 10,
   "id": "1c4db151",
   "metadata": {},
   "outputs": [],
   "source": [
    "from sklearn.model_selection import train_test_split\n",
    "\n",
    "rgb_train, rgb_test, lbl_train, lbl_test = train_test_split(rgb, lbl, random_state = seed)"
   ]
  },
  {
   "cell_type": "code",
   "execution_count": 11,
   "id": "e1fec593",
   "metadata": {
    "scrolled": true
   },
   "outputs": [],
   "source": [
    "#analize(None, 'qda', None, None, None, None)"
   ]
  },
  {
   "cell_type": "markdown",
   "id": "845ac6db",
   "metadata": {},
   "source": [
    "For each classifier use the scrapbook to save results. For each string subsitute the corresponding value."
   ]
  },
  {
   "cell_type": "code",
   "execution_count": 12,
   "id": "420e0e44",
   "metadata": {
    "scrolled": true
   },
   "outputs": [
    {
     "data": {
      "application/scrapbook.scrap.pandas+json": {
       "data": "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",
       "encoder": "pandas",
       "name": "qda",
       "version": 1
      }
     },
     "metadata": {
      "scrapbook": {
       "data": true,
       "display": false,
       "name": "qda"
      }
     },
     "output_type": "display_data"
    },
    {
     "data": {
      "text/html": [
       "<div>\n",
       "<style scoped>\n",
       "    .dataframe tbody tr th:only-of-type {\n",
       "        vertical-align: middle;\n",
       "    }\n",
       "\n",
       "    .dataframe tbody tr th {\n",
       "        vertical-align: top;\n",
       "    }\n",
       "\n",
       "    .dataframe thead th {\n",
       "        text-align: right;\n",
       "    }\n",
       "</style>\n",
       "<table border=\"1\" class=\"dataframe\">\n",
       "  <thead>\n",
       "    <tr style=\"text-align: right;\">\n",
       "      <th></th>\n",
       "      <th>tnr</th>\n",
       "      <th>fpr</th>\n",
       "      <th>fnr</th>\n",
       "      <th>tpr</th>\n",
       "      <th>precision</th>\n",
       "      <th>f1</th>\n",
       "      <th>auc</th>\n",
       "    </tr>\n",
       "  </thead>\n",
       "  <tbody>\n",
       "    <tr>\n",
       "      <th>qda</th>\n",
       "      <td>0.998556</td>\n",
       "      <td>0.001444</td>\n",
       "      <td>0.07661</td>\n",
       "      <td>0.92339</td>\n",
       "      <td>0.994109</td>\n",
       "      <td>0.957445</td>\n",
       "      <td>0.999693</td>\n",
       "    </tr>\n",
       "  </tbody>\n",
       "</table>\n",
       "</div>"
      ],
      "text/plain": [
       "          tnr       fpr      fnr      tpr  precision        f1       auc\n",
       "qda  0.998556  0.001444  0.07661  0.92339   0.994109  0.957445  0.999693"
      ]
     },
     "metadata": {
      "scrapbook": {
       "data": false,
       "display": true,
       "name": "qda"
      }
     },
     "output_type": "display_data"
    }
   ],
   "source": [
    "qda,qa ,qb, qc = analize(quadratic(), 'qda', rgb_train, lbl_train, rgb_test, lbl_test)\n",
    "sb.glue('qda', qda, display=True)"
   ]
  },
  {
   "cell_type": "code",
   "execution_count": 13,
   "id": "eea07bbb",
   "metadata": {},
   "outputs": [
    {
     "data": {
      "application/scrapbook.scrap.pandas+json": {
       "data": "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",
       "encoder": "pandas",
       "name": "lda",
       "version": 1
      }
     },
     "metadata": {
      "scrapbook": {
       "data": true,
       "display": false,
       "name": "lda"
      }
     },
     "output_type": "display_data"
    },
    {
     "data": {
      "text/html": [
       "<div>\n",
       "<style scoped>\n",
       "    .dataframe tbody tr th:only-of-type {\n",
       "        vertical-align: middle;\n",
       "    }\n",
       "\n",
       "    .dataframe tbody tr th {\n",
       "        vertical-align: top;\n",
       "    }\n",
       "\n",
       "    .dataframe thead th {\n",
       "        text-align: right;\n",
       "    }\n",
       "</style>\n",
       "<table border=\"1\" class=\"dataframe\">\n",
       "  <thead>\n",
       "    <tr style=\"text-align: right;\">\n",
       "      <th></th>\n",
       "      <th>tnr</th>\n",
       "      <th>fpr</th>\n",
       "      <th>fnr</th>\n",
       "      <th>tpr</th>\n",
       "      <th>precision</th>\n",
       "      <th>f1</th>\n",
       "      <th>auc</th>\n",
       "    </tr>\n",
       "  </thead>\n",
       "  <tbody>\n",
       "    <tr>\n",
       "      <th>lda</th>\n",
       "      <td>0.938791</td>\n",
       "      <td>0.061209</td>\n",
       "      <td>0.098812</td>\n",
       "      <td>0.901188</td>\n",
       "      <td>0.795309</td>\n",
       "      <td>0.844944</td>\n",
       "      <td>0.947</td>\n",
       "    </tr>\n",
       "  </tbody>\n",
       "</table>\n",
       "</div>"
      ],
      "text/plain": [
       "          tnr       fpr       fnr       tpr  precision        f1    auc\n",
       "lda  0.938791  0.061209  0.098812  0.901188   0.795309  0.844944  0.947"
      ]
     },
     "metadata": {
      "scrapbook": {
       "data": false,
       "display": true,
       "name": "lda"
      }
     },
     "output_type": "display_data"
    }
   ],
   "source": [
    "lda,la ,lb, lc = analize(linear(), 'lda', rgb_train, lbl_train, rgb_test, lbl_test)\n",
    "sb.glue('lda', lda, display=True)"
   ]
  },
  {
   "cell_type": "code",
   "execution_count": 14,
   "id": "b9628812",
   "metadata": {},
   "outputs": [
    {
     "data": {
      "application/scrapbook.scrap.pandas+json": {
       "data": "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",
       "encoder": "pandas",
       "name": "nb",
       "version": 1
      }
     },
     "metadata": {
      "scrapbook": {
       "data": true,
       "display": false,
       "name": "nb"
      }
     },
     "output_type": "display_data"
    },
    {
     "data": {
      "text/html": [
       "<div>\n",
       "<style scoped>\n",
       "    .dataframe tbody tr th:only-of-type {\n",
       "        vertical-align: middle;\n",
       "    }\n",
       "\n",
       "    .dataframe tbody tr th {\n",
       "        vertical-align: top;\n",
       "    }\n",
       "\n",
       "    .dataframe thead th {\n",
       "        text-align: right;\n",
       "    }\n",
       "</style>\n",
       "<table border=\"1\" class=\"dataframe\">\n",
       "  <thead>\n",
       "    <tr style=\"text-align: right;\">\n",
       "      <th></th>\n",
       "      <th>tnr</th>\n",
       "      <th>fpr</th>\n",
       "      <th>fnr</th>\n",
       "      <th>tpr</th>\n",
       "      <th>precision</th>\n",
       "      <th>f1</th>\n",
       "      <th>auc</th>\n",
       "    </tr>\n",
       "  </thead>\n",
       "  <tbody>\n",
       "    <tr>\n",
       "      <th>nb</th>\n",
       "      <td>0.97316</td>\n",
       "      <td>0.02684</td>\n",
       "      <td>0.266573</td>\n",
       "      <td>0.733427</td>\n",
       "      <td>0.878218</td>\n",
       "      <td>0.799318</td>\n",
       "      <td>0.940881</td>\n",
       "    </tr>\n",
       "  </tbody>\n",
       "</table>\n",
       "</div>"
      ],
      "text/plain": [
       "        tnr      fpr       fnr       tpr  precision        f1       auc\n",
       "nb  0.97316  0.02684  0.266573  0.733427   0.878218  0.799318  0.940881"
      ]
     },
     "metadata": {
      "scrapbook": {
       "data": false,
       "display": true,
       "name": "nb"
      }
     },
     "output_type": "display_data"
    }
   ],
   "source": [
    "nb,nba , nbb, nbc = analize(gaussian(), 'nb', rgb_train, lbl_train, rgb_test, lbl_test)\n",
    "sb.glue('nb', nb, display=True)"
   ]
  },
  {
   "cell_type": "markdown",
   "id": "ad3c9a3a",
   "metadata": {},
   "source": [
    "Now, we merge it into a summary table with all the numerical scores:"
   ]
  },
  {
   "cell_type": "code",
   "execution_count": 15,
   "id": "ac3e64ff",
   "metadata": {},
   "outputs": [
    {
     "data": {
      "text/html": [
       "<div>\n",
       "<style scoped>\n",
       "    .dataframe tbody tr th:only-of-type {\n",
       "        vertical-align: middle;\n",
       "    }\n",
       "\n",
       "    .dataframe tbody tr th {\n",
       "        vertical-align: top;\n",
       "    }\n",
       "\n",
       "    .dataframe thead th {\n",
       "        text-align: right;\n",
       "    }\n",
       "</style>\n",
       "<table border=\"1\" class=\"dataframe\">\n",
       "  <thead>\n",
       "    <tr style=\"text-align: right;\">\n",
       "      <th></th>\n",
       "      <th>tnr</th>\n",
       "      <th>fpr</th>\n",
       "      <th>fnr</th>\n",
       "      <th>tpr</th>\n",
       "      <th>precision</th>\n",
       "      <th>f1</th>\n",
       "      <th>auc</th>\n",
       "    </tr>\n",
       "  </thead>\n",
       "  <tbody>\n",
       "    <tr>\n",
       "      <th>qda</th>\n",
       "      <td>0.998556</td>\n",
       "      <td>0.001444</td>\n",
       "      <td>0.076610</td>\n",
       "      <td>0.923390</td>\n",
       "      <td>0.994109</td>\n",
       "      <td>0.957445</td>\n",
       "      <td>0.999693</td>\n",
       "    </tr>\n",
       "    <tr>\n",
       "      <th>lda</th>\n",
       "      <td>0.938791</td>\n",
       "      <td>0.061209</td>\n",
       "      <td>0.098812</td>\n",
       "      <td>0.901188</td>\n",
       "      <td>0.795309</td>\n",
       "      <td>0.844944</td>\n",
       "      <td>0.947000</td>\n",
       "    </tr>\n",
       "    <tr>\n",
       "      <th>nb</th>\n",
       "      <td>0.973160</td>\n",
       "      <td>0.026840</td>\n",
       "      <td>0.266573</td>\n",
       "      <td>0.733427</td>\n",
       "      <td>0.878218</td>\n",
       "      <td>0.799318</td>\n",
       "      <td>0.940881</td>\n",
       "    </tr>\n",
       "  </tbody>\n",
       "</table>\n",
       "</div>"
      ],
      "text/plain": [
       "          tnr       fpr       fnr       tpr  precision        f1       auc\n",
       "qda  0.998556  0.001444  0.076610  0.923390   0.994109  0.957445  0.999693\n",
       "lda  0.938791  0.061209  0.098812  0.901188   0.795309  0.844944  0.947000\n",
       "nb   0.973160  0.026840  0.266573  0.733427   0.878218  0.799318  0.940881"
      ]
     },
     "execution_count": 15,
     "metadata": {},
     "output_type": "execute_result"
    }
   ],
   "source": [
    "pd.concat([qda, lda, nb])"
   ]
  },
  {
   "cell_type": "markdown",
   "id": "d461050f",
   "metadata": {},
   "source": [
    "also please save the ROC plot"
   ]
  },
  {
   "cell_type": "code",
   "execution_count": 16,
   "id": "bef0783c",
   "metadata": {},
   "outputs": [
    {
     "data": {
      "image/png": "[encoded data removed]",
      "text/plain": [
       "<Figure size 640x480 with 1 Axes>"
      ]
     },
     "metadata": {
      "scrapbook": {
       "data": false,
       "display": true,
       "name": "ROC"
      }
     },
     "output_type": "display_data"
    }
   ],
   "source": [
    "fig, ax = plt.subplots()\n",
    "#plot ROCs\n",
    "\n",
    "ax.plot(qa, qb, label=\"qda\")\n",
    "ax.plot(la, lb, label=\"lda\")\n",
    "ax.plot(nba, nbb, label=\"nb\")\n",
    "ax.legend()\n",
    "sb.glue('ROC',fig, \"display\", display=True);"
   ]
  },
  {
   "cell_type": "code",
   "execution_count": 17,
   "id": "b8d6f3de",
   "metadata": {},
   "outputs": [
    {
     "data": {
      "text/plain": [
       "0.20753947040892526"
      ]
     },
     "execution_count": 17,
     "metadata": {},
     "output_type": "execute_result"
    }
   ],
   "source": [
    "lbl.sum()/len(lbl)"
   ]
  },
  {
   "cell_type": "code",
   "execution_count": null,
   "id": "57c86a88",
   "metadata": {},
   "outputs": [],
   "source": []
  },
  {
   "cell_type": "markdown",
   "id": "932b5050",
   "metadata": {},
   "source": [
    "## Problem 2"
   ]
  },
  {
   "cell_type": "markdown",
   "id": "3444b30b",
   "metadata": {},
   "source": [
    "Repeat same analysis but with RGB  data converted to Hue  Saturation Value (HSV) format. You can use the `colorsys` module for conversion. Use the scrapbook again for saving your results appending \"\\_hsv\" to variable name e.g."
   ]
  },
  {
   "cell_type": "code",
   "execution_count": 18,
   "id": "0b048036",
   "metadata": {},
   "outputs": [
    {
     "data": {
      "application/scrapbook.scrap.json+json": {
       "data": [
        "tnr",
        "fpr",
        "fnr",
        "tpr",
        "precision",
        "f1",
        "auc"
       ],
       "encoder": "json",
       "name": "qda_hsv",
       "version": 1
      }
     },
     "metadata": {
      "scrapbook": {
       "data": true,
       "display": false,
       "name": "qda_hsv"
      }
     },
     "output_type": "display_data"
    },
    {
     "data": {
      "text/plain": [
       "['tnr', 'fpr', 'fnr', 'tpr', 'precision', 'f1', 'auc']"
      ]
     },
     "metadata": {
      "scrapbook": {
       "data": false,
       "display": true,
       "name": "qda_hsv"
      }
     },
     "output_type": "display_data"
    }
   ],
   "source": [
    "sb.glue('qda_hsv',['tnr', 'fpr', 'fnr', 'tpr', 'precision', 'f1', 'auc'], display=True)"
   ]
  },
  {
   "cell_type": "code",
   "execution_count": 19,
   "id": "312aee5d",
   "metadata": {},
   "outputs": [],
   "source": [
    "from colorsys import rgb_to_hsv\n",
    "hsv = np.asarray([rgb_to_hsv(*row) for row in rgb]) #inneficient but it does not matter"
   ]
  },
  {
   "cell_type": "code",
   "execution_count": 20,
   "id": "77618500",
   "metadata": {},
   "outputs": [
    {
     "data": {
      "text/plain": [
       "array([[6.29251701e-01, 3.98373984e-01, 1.23000000e+02],\n",
       "       [6.29251701e-01, 4.01639344e-01, 1.22000000e+02],\n",
       "       [6.29251701e-01, 4.04958678e-01, 1.21000000e+02],\n",
       "       ...,\n",
       "       [1.63398693e-01, 3.12883436e-01, 1.63000000e+02],\n",
       "       [1.63398693e-01, 3.12883436e-01, 1.63000000e+02],\n",
       "       [0.00000000e+00, 0.00000000e+00, 2.55000000e+02]])"
      ]
     },
     "execution_count": 20,
     "metadata": {},
     "output_type": "execute_result"
    }
   ],
   "source": [
    "hsv"
   ]
  },
  {
   "cell_type": "code",
   "execution_count": null,
   "id": "5f860df6",
   "metadata": {},
   "outputs": [],
   "source": []
  }
 ],
 "metadata": {
  "jupytext": {
   "text_representation": {
    "extension": ".Rmd",
    "format_name": "rmarkdown",
    "format_version": "1.2",
    "jupytext_version": "1.11.1"
   }
  },
  "kernelspec": {
   "display_name": "Python 3",
   "language": "python",
   "name": "python3"
  },
  "language_info": {
   "codemirror_mode": {
    "name": "ipython",
    "version": 3
   },
   "file_extension": ".py",
   "mimetype": "text/x-python",
   "name": "python",
   "nbconvert_exporter": "python",
   "pygments_lexer": "ipython3",
   "version": "3.8.10"
  }
 },
 "nbformat": 4,
 "nbformat_minor": 5
}
