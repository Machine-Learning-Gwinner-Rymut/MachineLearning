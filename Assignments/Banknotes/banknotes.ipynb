{
 "cells": [
  {
   "cell_type": "markdown",
   "metadata": {},
   "source": [
    "# Counterfeit detection"
   ]
  },
  {
   "cell_type": "markdown",
   "metadata": {},
   "source": [
    "The task in this assignment is to detect the  counterfeit banknotes. The data set is based on [banknote authentication Data Set ](https://archive.ics.uci.edu/ml/datasets/banknote+authentication#) from UCI Machine Learning repository. The first three columns denote different parameters obtained from the photographs of the banknotes and last colum provides the label. Frankly as the dataset does not have any description I don't know  which labels corresponds to real and which to counterfeited banknotes. let's assume that label one (positive) denotes the clounterfeits. The set  \"banknote_authentication.csv\" can be found in the data  directory."
   ]
  },
  {
   "cell_type": "code",
   "execution_count": 1,
   "metadata": {},
   "outputs": [
    {
     "name": "stderr",
     "output_type": "stream",
     "text": [
      "/home/gosia/.local/lib/python3.8/site-packages/papermill/iorw.py:50: FutureWarning: pyarrow.HadoopFileSystem is deprecated as of 2.0.0, please use pyarrow.fs.HadoopFileSystem instead.\n",
      "  from pyarrow import HadoopFileSystem\n"
     ]
    }
   ],
   "source": [
    "import pandas as pd\n",
    "import numpy as np\n",
    "import matplotlib.pyplot as plt\n",
    "import scipy.stats as st\n",
    "import scrapbook as sb\n",
    "\n",
    "from sklearn.metrics import roc_curve, roc_auc_score, confusion_matrix, f1_score, precision_score\n",
    "from sklearn.model_selection import train_test_split\n",
    "seed = 5657"
   ]
  },
  {
   "cell_type": "code",
   "execution_count": 2,
   "metadata": {},
   "outputs": [
    {
     "data": {
      "application/scrapbook.scrap.json+json": {
       "data": [
        "Malgorzata",
        "Gwinner"
       ],
       "encoder": "json",
       "name": "person1",
       "version": 1
      }
     },
     "metadata": {
      "scrapbook": {
       "data": true,
       "display": false,
       "name": "person1"
      }
     },
     "output_type": "display_data"
    },
    {
     "data": {
      "text/plain": [
       "['Malgorzata', 'Gwinner']"
      ]
     },
     "metadata": {
      "scrapbook": {
       "data": false,
       "display": true,
       "name": "person1"
      }
     },
     "output_type": "display_data"
    },
    {
     "data": {
      "application/scrapbook.scrap.json+json": {
       "data": [
        "Jarosław",
        "Rymut"
       ],
       "encoder": "json",
       "name": "person2",
       "version": 1
      }
     },
     "metadata": {
      "scrapbook": {
       "data": true,
       "display": false,
       "name": "person2"
      }
     },
     "output_type": "display_data"
    },
    {
     "data": {
      "text/plain": [
       "['Jarosław', 'Rymut']"
      ]
     },
     "metadata": {
      "scrapbook": {
       "data": false,
       "display": true,
       "name": "person2"
      }
     },
     "output_type": "display_data"
    }
   ],
   "source": [
    "sb.glue('person1',['Malgorzata', 'Gwinner'], display=True)\n",
    "sb.glue('person2',['Jarosław', 'Rymut'], display=True)"
   ]
  },
  {
   "cell_type": "code",
   "execution_count": 3,
   "metadata": {},
   "outputs": [],
   "source": [
    "data = pd.read_csv('data/banknote_authentication.csv')"
   ]
  },
  {
   "cell_type": "code",
   "execution_count": 4,
   "metadata": {
    "scrolled": true
   },
   "outputs": [
    {
     "data": {
      "text/html": [
       "<div>\n",
       "<style scoped>\n",
       "    .dataframe tbody tr th:only-of-type {\n",
       "        vertical-align: middle;\n",
       "    }\n",
       "\n",
       "    .dataframe tbody tr th {\n",
       "        vertical-align: top;\n",
       "    }\n",
       "\n",
       "    .dataframe thead th {\n",
       "        text-align: right;\n",
       "    }\n",
       "</style>\n",
       "<table border=\"1\" class=\"dataframe\">\n",
       "  <thead>\n",
       "    <tr style=\"text-align: right;\">\n",
       "      <th></th>\n",
       "      <th>a1</th>\n",
       "      <th>a2</th>\n",
       "      <th>a3</th>\n",
       "      <th>counterfeit</th>\n",
       "    </tr>\n",
       "  </thead>\n",
       "  <tbody>\n",
       "    <tr>\n",
       "      <th>0</th>\n",
       "      <td>12.3784</td>\n",
       "      <td>0.70403</td>\n",
       "      <td>-7.58360</td>\n",
       "      <td>0</td>\n",
       "    </tr>\n",
       "    <tr>\n",
       "      <th>1</th>\n",
       "      <td>8.1881</td>\n",
       "      <td>-3.13380</td>\n",
       "      <td>-2.52760</td>\n",
       "      <td>0</td>\n",
       "    </tr>\n",
       "    <tr>\n",
       "      <th>2</th>\n",
       "      <td>-10.8679</td>\n",
       "      <td>9.49260</td>\n",
       "      <td>-1.41160</td>\n",
       "      <td>1</td>\n",
       "    </tr>\n",
       "    <tr>\n",
       "      <th>3</th>\n",
       "      <td>-8.7903</td>\n",
       "      <td>7.97350</td>\n",
       "      <td>-0.45475</td>\n",
       "      <td>1</td>\n",
       "    </tr>\n",
       "    <tr>\n",
       "      <th>4</th>\n",
       "      <td>-5.5167</td>\n",
       "      <td>10.93900</td>\n",
       "      <td>-0.40820</td>\n",
       "      <td>1</td>\n",
       "    </tr>\n",
       "  </tbody>\n",
       "</table>\n",
       "</div>"
      ],
      "text/plain": [
       "        a1        a2       a3  counterfeit\n",
       "0  12.3784   0.70403 -7.58360            0\n",
       "1   8.1881  -3.13380 -2.52760            0\n",
       "2 -10.8679   9.49260 -1.41160            1\n",
       "3  -8.7903   7.97350 -0.45475            1\n",
       "4  -5.5167  10.93900 -0.40820            1"
      ]
     },
     "execution_count": 4,
     "metadata": {},
     "output_type": "execute_result"
    }
   ],
   "source": [
    "data.head()"
   ]
  },
  {
   "cell_type": "code",
   "execution_count": 5,
   "metadata": {},
   "outputs": [],
   "source": [
    "def scores(name, prediction, data):\n",
    "    tnr, fpr, fnr, tpr = confusion_matrix(data, prediction > 0.5, normalize='true').ravel()\n",
    "    precision = precision_score(data, prediction > 0.5)\n",
    "    f1 = f1_score(data, prediction > 0.5)\n",
    "    auc = roc_auc_score(data, prediction)\n",
    "    fprs, tprs, thds = roc_curve(data, prediction)\n",
    "    return  pd.DataFrame({'tnr':[tnr],\n",
    "                          'fpr':[fpr],\n",
    "                          'fnr':[fnr],\n",
    "                          'tpr':[tpr],\n",
    "                          'precision' : [precision],\n",
    "                          'f1' :[f1],\n",
    "                          'auc' :[auc]\n",
    "                           }, index=[name]), fprs, tprs, thds\n",
    "\n",
    "def prepare_plot():\n",
    "    fig, ax = plt.subplots()\n",
    "    ax.set_aspect(1)\n",
    "    ax.set_xlabel('FPR')\n",
    "    ax.set_ylabel('TPR')\n",
    "    ax.plot([0, 1], [0, 1], linewidth=1, linestyle='--', color='grey')\n",
    "    return fig, ax"
   ]
  },
  {
   "cell_type": "markdown",
   "metadata": {},
   "source": [
    "## Problem "
   ]
  },
  {
   "cell_type": "markdown",
   "metadata": {},
   "source": [
    "### A."
   ]
  },
  {
   "cell_type": "markdown",
   "metadata": {},
   "source": [
    "Perform the Quadratic Discriminant Analysis on this set. Calculate the confusion matrix, AUC score and plot the ROC curve. Please use `scrapbook` to store your results. "
   ]
  },
  {
   "cell_type": "code",
   "execution_count": 6,
   "metadata": {},
   "outputs": [],
   "source": [
    "data_train, data_test = train_test_split(data, test_size = 0.4, stratify = data['counterfeit'], random_state = seed)\n",
    "\n",
    "data_train_input = data_train.loc[:, 'a1':'a3']\n",
    "data_train_labels = data_train['counterfeit']\n",
    "data_test_input = data_test.loc[:, 'a1':'a3']\n",
    "data_test_labels = data_test['counterfeit']"
   ]
  },
  {
   "cell_type": "code",
   "execution_count": 7,
   "metadata": {},
   "outputs": [
    {
     "data": {
      "text/plain": [
       "QuadraticDiscriminantAnalysis()"
      ]
     },
     "execution_count": 7,
     "metadata": {},
     "output_type": "execute_result"
    }
   ],
   "source": [
    "from sklearn.discriminant_analysis import QuadraticDiscriminantAnalysis\n",
    "qda = QuadraticDiscriminantAnalysis()\n",
    "qda.fit(data_train_input, data_train_labels)"
   ]
  },
  {
   "cell_type": "code",
   "execution_count": 8,
   "metadata": {},
   "outputs": [],
   "source": [
    "test_proba = qda.predict_proba(data_test_input)[:,1]"
   ]
  },
  {
   "cell_type": "code",
   "execution_count": 9,
   "metadata": {},
   "outputs": [
    {
     "data": {
      "application/scrapbook.scrap.pandas+json": {
       "data": "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",
       "encoder": "pandas",
       "name": "A_scores",
       "version": 1
      }
     },
     "metadata": {
      "scrapbook": {
       "data": true,
       "display": false,
       "name": "A_scores"
      }
     },
     "output_type": "display_data"
    },
    {
     "data": {
      "text/html": [
       "<div>\n",
       "<style scoped>\n",
       "    .dataframe tbody tr th:only-of-type {\n",
       "        vertical-align: middle;\n",
       "    }\n",
       "\n",
       "    .dataframe tbody tr th {\n",
       "        vertical-align: top;\n",
       "    }\n",
       "\n",
       "    .dataframe thead th {\n",
       "        text-align: right;\n",
       "    }\n",
       "</style>\n",
       "<table border=\"1\" class=\"dataframe\">\n",
       "  <thead>\n",
       "    <tr style=\"text-align: right;\">\n",
       "      <th></th>\n",
       "      <th>tnr</th>\n",
       "      <th>fpr</th>\n",
       "      <th>fnr</th>\n",
       "      <th>tpr</th>\n",
       "      <th>precision</th>\n",
       "      <th>f1</th>\n",
       "      <th>auc</th>\n",
       "    </tr>\n",
       "  </thead>\n",
       "  <tbody>\n",
       "    <tr>\n",
       "      <th>QDA</th>\n",
       "      <td>0.811475</td>\n",
       "      <td>0.188525</td>\n",
       "      <td>0.179487</td>\n",
       "      <td>0.820513</td>\n",
       "      <td>0.776699</td>\n",
       "      <td>0.798005</td>\n",
       "      <td>0.871732</td>\n",
       "    </tr>\n",
       "  </tbody>\n",
       "</table>\n",
       "</div>"
      ],
      "text/plain": [
       "          tnr       fpr       fnr       tpr  precision        f1       auc\n",
       "QDA  0.811475  0.188525  0.179487  0.820513   0.776699  0.798005  0.871732"
      ]
     },
     "metadata": {
      "scrapbook": {
       "data": false,
       "display": true,
       "name": "A_scores"
      }
     },
     "output_type": "display_data"
    }
   ],
   "source": [
    "qda, qda_fprs, qda_tprs, qda_thds = scores('QDA', test_proba, data_test_labels)\n",
    "sb.glue('A_scores', qda, display=True)"
   ]
  },
  {
   "cell_type": "markdown",
   "metadata": {},
   "source": [
    "also please save the ROC plot"
   ]
  },
  {
   "cell_type": "code",
   "execution_count": 10,
   "metadata": {
    "scrolled": false
   },
   "outputs": [
    {
     "data": {
      "image/png": "[encoded data removed]",
      "text/plain": [
       "<Figure size 640x480 with 1 Axes>"
      ]
     },
     "metadata": {
      "scrapbook": {
       "data": false,
       "display": true,
       "name": "A_ROC"
      }
     },
     "output_type": "display_data"
    }
   ],
   "source": [
    "fig, ax = prepare_plot()\n",
    "ax.plot(qda_fprs, qda_tprs, label=\"{1:5.3f} {0:s} \".format('qda', qda['auc'][0]))\n",
    "ax.legend()\n",
    "sb.glue('A_ROC',fig, \"display\", display=True)"
   ]
  },
  {
   "cell_type": "markdown",
   "metadata": {},
   "source": [
    "### B."
   ]
  },
  {
   "cell_type": "markdown",
   "metadata": {},
   "source": [
    "Perform Gaussian Mixture Discriminant Analysis on this set as described in the `gaussian_mixture_model_EM_algorithm` notebook. Use two components for positives and two components for negatives. Calculate the confusion matrix, AUC score and plot the ROC curve. "
   ]
  },
  {
   "cell_type": "code",
   "execution_count": 11,
   "metadata": {},
   "outputs": [],
   "source": [
    "train_r = data_train[data_train['counterfeit']==0].loc[:,'a1':'a3']\n",
    "train_c = data_train[data_train['counterfeit']==1].loc[:,'a1':'a3']"
   ]
  },
  {
   "cell_type": "code",
   "execution_count": 12,
   "metadata": {},
   "outputs": [],
   "source": [
    "from sklearn.mixture import GaussianMixture\n",
    "gm_r = GaussianMixture(n_components = 2)\n",
    "gm_c = GaussianMixture(n_components = 2)"
   ]
  },
  {
   "cell_type": "code",
   "execution_count": 13,
   "metadata": {},
   "outputs": [
    {
     "data": {
      "text/plain": [
       "GaussianMixture(n_components=2)"
      ]
     },
     "execution_count": 13,
     "metadata": {},
     "output_type": "execute_result"
    }
   ],
   "source": [
    "gm_r.fit(train_r)\n",
    "gm_c.fit(train_c)"
   ]
  },
  {
   "cell_type": "code",
   "execution_count": 14,
   "metadata": {},
   "outputs": [],
   "source": [
    "def make_pdf(cmp):\n",
    "    \"\"\"\n",
    "    Takes a GaussianMixture object and returns corresponding\n",
    "    probability distribution function\n",
    "    \"\"\"\n",
    "    n_cmp = cmp.n_components\n",
    "    dists = [st.multivariate_normal(cmp.means_[i], cmp.covariances_[i]) for i in range(n_cmp)]\n",
    "    def pdf(x):\n",
    "        p = 0.0\n",
    "        for i in range(n_cmp):\n",
    "            p+= cmp.weights_[i]*dists[i].pdf(x)\n",
    "        return p\n",
    "    \n",
    "    return pdf\n",
    "    \n",
    "    \n",
    "def make_predict_proba(cmp0, cmp1, pi0=0.5, pi1=.5):\n",
    "    \"\"\"\n",
    "    Takes two GaussianMixture object and corresponding priors and returns \n",
    "    pdf for conditional probability P(c=1|x)\n",
    "    \"\"\"\n",
    "    pdf0 = make_pdf(cmp0)\n",
    "    pdf1 = make_pdf(cmp1)\n",
    "    def p(x):\n",
    "        p0=pi0*pdf0(x)\n",
    "        p1=pi1*pdf1(x)\n",
    "        return p1/(p1+p0)    \n",
    "        \n",
    "    return p\n",
    "        "
   ]
  },
  {
   "cell_type": "code",
   "execution_count": 15,
   "metadata": {
    "scrolled": false
   },
   "outputs": [],
   "source": [
    "mgda = make_predict_proba(gm_r, gm_c, pi1=0.44)\n",
    "mgda_test_proba = mgda(data_test_input)"
   ]
  },
  {
   "cell_type": "code",
   "execution_count": 16,
   "metadata": {},
   "outputs": [
    {
     "data": {
      "application/scrapbook.scrap.pandas+json": {
       "data": "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",
       "encoder": "pandas",
       "name": "B_scores",
       "version": 1
      }
     },
     "metadata": {
      "scrapbook": {
       "data": true,
       "display": false,
       "name": "B_scores"
      }
     },
     "output_type": "display_data"
    },
    {
     "data": {
      "text/html": [
       "<div>\n",
       "<style scoped>\n",
       "    .dataframe tbody tr th:only-of-type {\n",
       "        vertical-align: middle;\n",
       "    }\n",
       "\n",
       "    .dataframe tbody tr th {\n",
       "        vertical-align: top;\n",
       "    }\n",
       "\n",
       "    .dataframe thead th {\n",
       "        text-align: right;\n",
       "    }\n",
       "</style>\n",
       "<table border=\"1\" class=\"dataframe\">\n",
       "  <thead>\n",
       "    <tr style=\"text-align: right;\">\n",
       "      <th></th>\n",
       "      <th>tnr</th>\n",
       "      <th>fpr</th>\n",
       "      <th>fnr</th>\n",
       "      <th>tpr</th>\n",
       "      <th>precision</th>\n",
       "      <th>f1</th>\n",
       "      <th>auc</th>\n",
       "    </tr>\n",
       "  </thead>\n",
       "  <tbody>\n",
       "    <tr>\n",
       "      <th>GMDA</th>\n",
       "      <td>0.934426</td>\n",
       "      <td>0.065574</td>\n",
       "      <td>0.164103</td>\n",
       "      <td>0.835897</td>\n",
       "      <td>0.910615</td>\n",
       "      <td>0.871658</td>\n",
       "      <td>0.963388</td>\n",
       "    </tr>\n",
       "  </tbody>\n",
       "</table>\n",
       "</div>"
      ],
      "text/plain": [
       "           tnr       fpr       fnr       tpr  precision        f1       auc\n",
       "GMDA  0.934426  0.065574  0.164103  0.835897   0.910615  0.871658  0.963388"
      ]
     },
     "metadata": {
      "scrapbook": {
       "data": false,
       "display": true,
       "name": "B_scores"
      }
     },
     "output_type": "display_data"
    }
   ],
   "source": [
    "gmda, gmda_fprs, gmda_tprs, gmda_thds = scores('GMDA', mgda_test_proba, data_test_labels)\n",
    "sb.glue('B_scores', gmda, display=True)"
   ]
  },
  {
   "cell_type": "markdown",
   "metadata": {},
   "source": [
    "also please save the ROC plot"
   ]
  },
  {
   "cell_type": "code",
   "execution_count": 17,
   "metadata": {},
   "outputs": [
    {
     "data": {
      "image/png": "[encoded data removed]",
      "text/plain": [
       "<Figure size 640x480 with 1 Axes>"
      ]
     },
     "metadata": {
      "scrapbook": {
       "data": false,
       "display": true,
       "name": "B_ROC"
      }
     },
     "output_type": "display_data"
    }
   ],
   "source": [
    "fig, ax = prepare_plot()\n",
    "ax.plot(qda_fprs, qda_tprs, label=\"{1:5.3f} {0:s} \".format('qda', qda['auc'][0]))\n",
    "ax.plot(gmda_fprs, gmda_tprs, label=\"{1:5.3f} {0:s} \".format('gmda', gmda['auc'][0]))\n",
    "ax.legend()\n",
    "sb.glue('B_ROC',fig, \"display\", display=True)"
   ]
  },
  {
   "cell_type": "markdown",
   "metadata": {},
   "source": [
    "### C."
   ]
  },
  {
   "cell_type": "markdown",
   "metadata": {},
   "source": [
    "Use k-fold cross validation to find the optimal number of gaussian components for each class. As before calculate the confusion matrix, AUC score and plot the ROC curve for the best classifier. "
   ]
  },
  {
   "cell_type": "markdown",
   "metadata": {},
   "source": [
    "__Hint__ use the `StratifiedKFold` function from scikit-learn library to generate folds. "
   ]
  },
  {
   "cell_type": "code",
   "execution_count": 18,
   "metadata": {},
   "outputs": [],
   "source": [
    "pi = 0.44"
   ]
  },
  {
   "cell_type": "code",
   "execution_count": 19,
   "metadata": {},
   "outputs": [],
   "source": [
    "def prepare(n0, n1, train, pi):\n",
    "    gm0 = GaussianMixture(n_components=n0)\n",
    "    gm1 = GaussianMixture(n_components=n1)\n",
    "    gm0.fit(train[train.iloc[:,-1]==0].iloc[:,:-1])\n",
    "    gm1.fit(train[train.iloc[:,-1]==1].iloc[:,:-1])\n",
    "    mpp = make_predict_proba(gm0, gm1, pi1=pi)\n",
    "    return mpp\n",
    "\n",
    "def run(n_cmp0, n_cmp1, train, test, pi):\n",
    "    mpp = prepare(n_cmp0, n_cmp1, train, pi)\n",
    "    proba_test = mpp(test.iloc[:,:-1])\n",
    "    return f1_score(test.iloc[:,-1], proba_test>0.5)"
   ]
  },
  {
   "cell_type": "code",
   "execution_count": 20,
   "metadata": {
    "scrolled": false
   },
   "outputs": [
    {
     "name": "stdout",
     "output_type": "stream",
     "text": [
      "(13, 11) 0.9508285635283948\n"
     ]
    }
   ],
   "source": [
    "from sklearn.model_selection import StratifiedKFold\n",
    "\n",
    "skf = StratifiedKFold(n_splits=5, shuffle=True)\n",
    "skf_start = 10\n",
    "skf_end = 20\n",
    "skf_count = skf_end - skf_start\n",
    "mat = np.zeros((skf_count, skf_count))\n",
    "\n",
    "mat_best = 0.0\n",
    "mat_index = (0, 0)\n",
    "\n",
    "for n0 in range(skf_start, skf_end):\n",
    "    print(n0, '/', skf_start, '-', skf_end, end='\\r') # progress...\n",
    "    for n1 in range(skf_start, skf_end):\n",
    "        f1 = 0.0\n",
    "        for train_index, test_index in skf.split(data_train_input, data_train_labels):\n",
    "            f1 += run(n0, n1, data_train.iloc[train_index], data_train.iloc[test_index], pi)\n",
    "        mat[n0 - skf_start, n1 - skf_start] = f1 / 5\n",
    "        if (f1 / 5) > mat_best:\n",
    "            mat_best = f1 / 5\n",
    "            mat_index = (n0, n1)\n",
    "\n",
    "best_index = np.unravel_index(np.argmax(mat, axis=None), mat.shape)\n",
    "values = tuple(x + skf_start for x in best_index)\n",
    "print(values, mat[best_index])"
   ]
  },
  {
   "cell_type": "code",
   "execution_count": 21,
   "metadata": {
    "scrolled": false
   },
   "outputs": [
    {
     "data": {
      "image/png": "[encoded data removed]",
      "text/plain": [
       "<Figure size 640x480 with 1 Axes>"
      ]
     },
     "metadata": {},
     "output_type": "display_data"
    },
    {
     "data": {
      "image/png": "[encoded data removed]",
      "text/plain": [
       "<Figure size 640x480 with 1 Axes>"
      ]
     },
     "metadata": {},
     "output_type": "display_data"
    }
   ],
   "source": [
    "plt.imshow(\n",
    "    mat,\n",
    "    interpolation='none',\n",
    "    cmap='RdPu',\n",
    "    extent=[skf_start-0.5, skf_end-0.5, skf_end-0.5, skf_start-0.5], #order is important!\n",
    ")\n",
    "plt.show()"
   ]
  },
  {
   "cell_type": "markdown",
   "metadata": {},
   "source": [
    "Store the results for the best estimator"
   ]
  },
  {
   "cell_type": "code",
   "execution_count": 22,
   "metadata": {},
   "outputs": [],
   "source": [
    "mpp_best = prepare(values[0], values[1], data_train, pi)\n",
    "mpp_proba = mpp_best(data_test_input)"
   ]
  },
  {
   "cell_type": "code",
   "execution_count": 23,
   "metadata": {},
   "outputs": [
    {
     "data": {
      "application/scrapbook.scrap.pandas+json": {
       "data": "UEFSMRUEFRAVFEwVAhUEEgAACBzW0eZ9ikvuPxUAFRIVFiwVAhUEFQYVBhwYCNbR5n2KS+4/GAjW0eZ9ikvuPxYAKAjW0eZ9ikvuPxgI1tHmfYpL7j8AAAAJIAIAAAACAQECACbIARwVChk1BAAGGRgDdG5yFQIWAha4ARbAASY4JggcGAjW0eZ9ikvuPxgI1tHmfYpL7j8WACgI1tHmfYpL7j8YCNbR5n2KS+4/ABksFQQVBBUCABUAFQQVAgAAABUEFRAVFEwVAhUEEgAACByf4pIhWEerPxUAFRIVFiwVAhUEFQYVBhwYCJ/ikiFYR6s/GAif4pIhWEerPxYAKAif4pIhWEerPxgIn+KSIVhHqz8AAAAJIAIAAAACAQECACbCBBwVChk1BAAGGRgDZnByFQIWAha4ARbAASayAyaCAxwYCJ/ikiFYR6s/GAif4pIhWEerPxYAKAif4pIhWEerPxgIn+KSIVhHqz8AGSwVBBUEFQIAFQAVBBUCAAAAFQQVEBUUTBUCFQQSAAAIHBImYRImYaI/FQAVEhUWLBUCFQQVBhUGHBgIEiZhEiZhoj8YCBImYRImYaI/FgAoCBImYRImYaI/GAgSJmESJmGiPwAAAAkgAgAAAAIBAQIAJsAHHBUKGTUEAAYZGANmbnIVAhYCFrgBFsABJrAGJoAGHBgIEiZhEiZhoj8YCBImYRImYaI/FgAoCBImYRImYaI/GAgSJmESJmGiPwAZLBUEFQQVAgAVABUEFQIAAAAVBBUQFRRMFQIVBBIAAAgcn+3Znu3Z7j8VABUSFRYsFQIVBBUGFQYcGAif7dme7dnuPxgIn+3Znu3Z7j8WACgIn+3Znu3Z7j8YCJ/t2Z7t2e4/AAAACSACAAAAAgEBAgAmvgocFQoZNQQABhkYA3RwchUCFgIWuAEWwAEmrgkm/ggcGAif7dme7dnuPxgIn+3Znu3Z7j8WACgIn+3Znu3Z7j8YCJ/t2Z7t2e4/ABksFQQVBBUCABUAFQQVAgAAABUEFRAVFEwVAhUEEgAACBzqCLFNK+7tPxUAFRIVFiwVAhUEFQYVBhwYCOoIsU0r7u0/GAjqCLFNK+7tPxYAKAjqCLFNK+7tPxgI6gixTSvu7T8AAAAJIAIAAAACAQECACa8DRwVChk1BAAGGRgJcHJlY2lzaW9uFQIWAha4ARbAASasDCb8CxwYCOoIsU0r7u0/GAjqCLFNK+7tPxYAKAjqCLFNK+7tPxgI6gixTSvu7T8AGSwVBBUEFQIAFQAVBBUCAAAAFQQVEBUUTBUCFQQSAAAIHA2JeTtDYu4/FQAVEhUWLBUCFQQVBhUGHBgIDYl5O0Ni7j8YCA2JeTtDYu4/FgAoCA2JeTtDYu4/GAgNiXk7Q2LuPwAAAAkgAgAAAAIBAQIAJsYQHBUKGTUEAAYZGAJmMRUCFgIWuAEWwAEmtg8mhg8cGAgNiXk7Q2LuPxgIDYl5O0Ni7j8WACgIDYl5O0Ni7j8YCA2JeTtDYu4/ABksFQQVBBUCABUAFQQVAgAAABUEFRAVFEwVAhUEEgAACBwwHyErNLjvPxUAFRIVFiwVAhUEFQYVBhwYCDAfISs0uO8/GAgwHyErNLjvPxYAKAgwHyErNLjvPxgIMB8hKzS47z8AAAAJIAIAAAACAQECACbCExwVChk1BAAGGRgDYXVjFQIWAha4ARbAASayEiaCEhwYCDAfISs0uO8/GAgwHyErNLjvPxYAKAgwHyErNLjvPxgIMB8hKzS47z8AGSwVBBUEFQIAFQAVBBUCAAAAFQQVEBUUTBUCFQQSAAAIHAQAAABHTURBFQAVEhUWLBUCFQQVBhUGHDYAKARHTURBGARHTURBAAAACSACAAAAAgEBAgAmiBYcFQwZNQQABhkYEV9faW5kZXhfbGV2ZWxfMF9fFQIWAhaAARaIASawFSaAFRw2ACgER01EQRgER01EQQAZLBUEFQQVAgAVABUEFQIAAAAVAhmcNQAYBnNjaGVtYRUQABUKJQIYA3RucgAVCiUCGANmcHIAFQolAhgDZm5yABUKJQIYA3RwcgAVCiUCGAlwcmVjaXNpb24AFQolAhgCZjEAFQolAhgDYXVjABUMJQIYEV9faW5kZXhfbGV2ZWxfMF9fJQBMHAAAABYCGRwZjCbIARwVChk1BAAGGRgDdG5yFQIWAha4ARbAASY4JggcGAjW0eZ9ikvuPxgI1tHmfYpL7j8WACgI1tHmfYpL7j8YCNbR5n2KS+4/ABksFQQVBBUCABUAFQQVAgAAACbCBBwVChk1BAAGGRgDZnByFQIWAha4ARbAASayAyaCAxwYCJ/ikiFYR6s/GAif4pIhWEerPxYAKAif4pIhWEerPxgIn+KSIVhHqz8AGSwVBBUEFQIAFQAVBBUCAAAAJsAHHBUKGTUEAAYZGANmbnIVAhYCFrgBFsABJrAGJoAGHBgIEiZhEiZhoj8YCBImYRImYaI/FgAoCBImYRImYaI/GAgSJmESJmGiPwAZLBUEFQQVAgAVABUEFQIAAAAmvgocFQoZNQQABhkYA3RwchUCFgIWuAEWwAEmrgkm/ggcGAif7dme7dnuPxgIn+3Znu3Z7j8WACgIn+3Znu3Z7j8YCJ/t2Z7t2e4/ABksFQQVBBUCABUAFQQVAgAAACa8DRwVChk1BAAGGRgJcHJlY2lzaW9uFQIWAha4ARbAASasDCb8CxwYCOoIsU0r7u0/GAjqCLFNK+7tPxYAKAjqCLFNK+7tPxgI6gixTSvu7T8AGSwVBBUEFQIAFQAVBBUCAAAAJsYQHBUKGTUEAAYZGAJmMRUCFgIWuAEWwAEmtg8mhg8cGAgNiXk7Q2LuPxgIDYl5O0Ni7j8WACgIDYl5O0Ni7j8YCA2JeTtDYu4/ABksFQQVBBUCABUAFQQVAgAAACbCExwVChk1BAAGGRgDYXVjFQIWAha4ARbAASayEiaCEhwYCDAfISs0uO8/GAgwHyErNLjvPxYAKAgwHyErNLjvPxgIMB8hKzS47z8AGSwVBBUEFQIAFQAVBBUCAAAAJogWHBUMGTUEAAYZGBFfX2luZGV4X2xldmVsXzBfXxUCFgIWgAEWiAEmsBUmgBUcNgAoBEdNREEYBEdNREEAGSwVBBUEFQIAFQAVBBUCAAAAFogLFgImyAEWyAsUAAAZLBgGcGFuZGFzGIIJeyJpbmRleF9jb2x1bW5zIjogWyJfX2luZGV4X2xldmVsXzBfXyJdLCAiY29sdW1uX2luZGV4ZXMiOiBbeyJuYW1lIjogbnVsbCwgImZpZWxkX25hbWUiOiBudWxsLCAicGFuZGFzX3R5cGUiOiAidW5pY29kZSIsICJudW1weV90eXBlIjogIm9iamVjdCIsICJtZXRhZGF0YSI6IHsiZW5jb2RpbmciOiAiVVRGLTgifX1dLCAiY29sdW1ucyI6IFt7Im5hbWUiOiAidG5yIiwgImZpZWxkX25hbWUiOiAidG5yIiwgInBhbmRhc190eXBlIjogImZsb2F0NjQiLCAibnVtcHlfdHlwZSI6ICJmbG9hdDY0IiwgIm1ldGFkYXRhIjogbnVsbH0sIHsibmFtZSI6ICJmcHIiLCAiZmllbGRfbmFtZSI6ICJmcHIiLCAicGFuZGFzX3R5cGUiOiAiZmxvYXQ2NCIsICJudW1weV90eXBlIjogImZsb2F0NjQiLCAibWV0YWRhdGEiOiBudWxsfSwgeyJuYW1lIjogImZuciIsICJmaWVsZF9uYW1lIjogImZuciIsICJwYW5kYXNfdHlwZSI6ICJmbG9hdDY0IiwgIm51bXB5X3R5cGUiOiAiZmxvYXQ2NCIsICJtZXRhZGF0YSI6IG51bGx9LCB7Im5hbWUiOiAidHByIiwgImZpZWxkX25hbWUiOiAidHByIiwgInBhbmRhc190eXBlIjogImZsb2F0NjQiLCAibnVtcHlfdHlwZSI6ICJmbG9hdDY0IiwgIm1ldGFkYXRhIjogbnVsbH0sIHsibmFtZSI6ICJwcmVjaXNpb24iLCAiZmllbGRfbmFtZSI6ICJwcmVjaXNpb24iLCAicGFuZGFzX3R5cGUiOiAiZmxvYXQ2NCIsICJudW1weV90eXBlIjogImZsb2F0NjQiLCAibWV0YWRhdGEiOiBudWxsfSwgeyJuYW1lIjogImYxIiwgImZpZWxkX25hbWUiOiAiZjEiLCAicGFuZGFzX3R5cGUiOiAiZmxvYXQ2NCIsICJudW1weV90eXBlIjogImZsb2F0NjQiLCAibWV0YWRhdGEiOiBudWxsfSwgeyJuYW1lIjogImF1YyIsICJmaWVsZF9uYW1lIjogImF1YyIsICJwYW5kYXNfdHlwZSI6ICJmbG9hdDY0IiwgIm51bXB5X3R5cGUiOiAiZmxvYXQ2NCIsICJtZXRhZGF0YSI6IG51bGx9LCB7Im5hbWUiOiBudWxsLCAiZmllbGRfbmFtZSI6ICJfX2luZGV4X2xldmVsXzBfXyIsICJwYW5kYXNfdHlwZSI6ICJ1bmljb2RlIiwgIm51bXB5X3R5cGUiOiAib2JqZWN0IiwgIm1ldGFkYXRhIjogbnVsbH1dLCAiY3JlYXRvciI6IHsibGlicmFyeSI6ICJweWFycm93IiwgInZlcnNpb24iOiAiNC4wLjAifSwgInBhbmRhc192ZXJzaW9uIjogIjEuMi40In0AGAxBUlJPVzpzY2hlbWEYrBEvLy8vLzNnR0FBQVFBQUFBQUFBS0FBNEFCZ0FGQUFnQUNnQUFBQUFCQkFBUUFBQUFBQUFLQUF3QUFBQUVBQWdBQ2dBQUFMZ0VBQUFFQUFBQUFRQUFBQXdBQUFBSUFBd0FCQUFJQUFnQUFBQUlBQUFBRUFBQUFBWUFBQUJ3WVc1a1lYTUFBSUlFQUFCN0ltbHVaR1Y0WDJOdmJIVnRibk1pT2lCYklsOWZhVzVrWlhoZmJHVjJaV3hmTUY5ZklsMHNJQ0pqYjJ4MWJXNWZhVzVrWlhobGN5STZJRnQ3SW01aGJXVWlPaUJ1ZFd4c0xDQWlabWxsYkdSZmJtRnRaU0k2SUc1MWJHd3NJQ0p3WVc1a1lYTmZkSGx3WlNJNklDSjFibWxqYjJSbElpd2dJbTUxYlhCNVgzUjVjR1VpT2lBaWIySnFaV04wSWl3Z0ltMWxkR0ZrWVhSaElqb2dleUpsYm1OdlpHbHVaeUk2SUNKVlZFWXRPQ0o5ZlYwc0lDSmpiMngxYlc1eklqb2dXM3NpYm1GdFpTSTZJQ0owYm5JaUxDQWlabWxsYkdSZmJtRnRaU0k2SUNKMGJuSWlMQ0FpY0dGdVpHRnpYM1I1Y0dVaU9pQWlabXh2WVhRMk5DSXNJQ0p1ZFcxd2VWOTBlWEJsSWpvZ0ltWnNiMkYwTmpRaUxDQWliV1YwWVdSaGRHRWlPaUJ1ZFd4c2ZTd2dleUp1WVcxbElqb2dJbVp3Y2lJc0lDSm1hV1ZzWkY5dVlXMWxJam9nSW1ad2NpSXNJQ0p3WVc1a1lYTmZkSGx3WlNJNklDSm1iRzloZERZMElpd2dJbTUxYlhCNVgzUjVjR1VpT2lBaVpteHZZWFEyTkNJc0lDSnRaWFJoWkdGMFlTSTZJRzUxYkd4OUxDQjdJbTVoYldVaU9pQWlabTV5SWl3Z0ltWnBaV3hrWDI1aGJXVWlPaUFpWm01eUlpd2dJbkJoYm1SaGMxOTBlWEJsSWpvZ0ltWnNiMkYwTmpRaUxDQWliblZ0Y0hsZmRIbHdaU0k2SUNKbWJHOWhkRFkwSWl3Z0ltMWxkR0ZrWVhSaElqb2diblZzYkgwc0lIc2libUZ0WlNJNklDSjBjSElpTENBaVptbGxiR1JmYm1GdFpTSTZJQ0owY0hJaUxDQWljR0Z1WkdGelgzUjVjR1VpT2lBaVpteHZZWFEyTkNJc0lDSnVkVzF3ZVY5MGVYQmxJam9nSW1ac2IyRjBOalFpTENBaWJXVjBZV1JoZEdFaU9pQnVkV3hzZlN3Z2V5SnVZVzFsSWpvZ0luQnlaV05wYzJsdmJpSXNJQ0ptYVdWc1pGOXVZVzFsSWpvZ0luQnlaV05wYzJsdmJpSXNJQ0p3WVc1a1lYTmZkSGx3WlNJNklDSm1iRzloZERZMElpd2dJbTUxYlhCNVgzUjVjR1VpT2lBaVpteHZZWFEyTkNJc0lDSnRaWFJoWkdGMFlTSTZJRzUxYkd4OUxDQjdJbTVoYldVaU9pQWlaakVpTENBaVptbGxiR1JmYm1GdFpTSTZJQ0ptTVNJc0lDSndZVzVrWVhOZmRIbHdaU0k2SUNKbWJHOWhkRFkwSWl3Z0ltNTFiWEI1WDNSNWNHVWlPaUFpWm14dllYUTJOQ0lzSUNKdFpYUmhaR0YwWVNJNklHNTFiR3g5TENCN0ltNWhiV1VpT2lBaVlYVmpJaXdnSW1acFpXeGtYMjVoYldVaU9pQWlZWFZqSWl3Z0luQmhibVJoYzE5MGVYQmxJam9nSW1ac2IyRjBOalFpTENBaWJuVnRjSGxmZEhsd1pTSTZJQ0ptYkc5aGREWTBJaXdnSW0xbGRHRmtZWFJoSWpvZ2JuVnNiSDBzSUhzaWJtRnRaU0k2SUc1MWJHd3NJQ0ptYVdWc1pGOXVZVzFsSWpvZ0lsOWZhVzVrWlhoZmJHVjJaV3hmTUY5Zklpd2dJbkJoYm1SaGMxOTBlWEJsSWpvZ0luVnVhV052WkdVaUxDQWliblZ0Y0hsZmRIbHdaU0k2SUNKdlltcGxZM1FpTENBaWJXVjBZV1JoZEdFaU9pQnVkV3hzZlYwc0lDSmpjbVZoZEc5eUlqb2dleUpzYVdKeVlYSjVJam9nSW5CNVlYSnliM2NpTENBaWRtVnljMmx2YmlJNklDSTBMakF1TUNKOUxDQWljR0Z1WkdGelgzWmxjbk5wYjI0aU9pQWlNUzR5TGpRaWZRQUFDQUFBQUdBQkFBQWtBUUFBK0FBQUFNd0FBQUNZQUFBQWJBQUFBRUFBQUFBRUFBQUEwUDcvL3dBQUFRVVFBQUFBS0FBQUFBUUFBQUFBQUFBQUVRQUFBRjlmYVc1a1pYaGZiR1YyWld4Zk1GOWZBQUFBQkFBRUFBUUFBQUFJLy8vL0FBQUJBeEFBQUFBVUFBQUFCQUFBQUFBQUFBQURBQUFBWVhWakFQYisvLzhBQUFJQU1QLy8vd0FBQVFNUUFBQUFGQUFBQUFRQUFBQUFBQUFBQWdBQUFHWXhBQUFlLy8vL0FBQUNBRmovLy84QUFBRURFQUFBQUJ3QUFBQUVBQUFBQUFBQUFBa0FBQUJ3Y21WamFYTnBiMjRBQUFCTy8vLy9BQUFDQUlqLy8vOEFBQUVERUFBQUFCUUFBQUFFQUFBQUFBQUFBQU1BQUFCMGNISUFkdi8vL3dBQUFnQ3cvLy8vQUFBQkF4QUFBQUFVQUFBQUJBQUFBQUFBQUFBREFBQUFabTV5QUo3Ly8vOEFBQUlBMlAvLy93QUFBUU1RQUFBQUZBQUFBQVFBQUFBQUFBQUFBd0FBQUdad2NnREcvLy8vQUFBQ0FCQUFGQUFJQUFZQUJ3QU1BQUFBRUFBUUFBQUFBQUFCQXhBQUFBQWNBQUFBQkFBQUFBQUFBQUFEQUFBQWRHNXlBQUFBQmdBSUFBWUFCZ0FBQUFBQUFnQT0AGB9wYXJxdWV0LWNwcC1hcnJvdyB2ZXJzaW9uIDQuMC4wGYwcAAAcAAAcAAAcAAAcAAAcAAAcAAAcAAAABREAAFBBUjE=",
       "encoder": "pandas",
       "name": "C_scores",
       "version": 1
      }
     },
     "metadata": {
      "scrapbook": {
       "data": true,
       "display": false,
       "name": "C_scores"
      }
     },
     "output_type": "display_data"
    },
    {
     "data": {
      "text/html": [
       "<div>\n",
       "<style scoped>\n",
       "    .dataframe tbody tr th:only-of-type {\n",
       "        vertical-align: middle;\n",
       "    }\n",
       "\n",
       "    .dataframe tbody tr th {\n",
       "        vertical-align: top;\n",
       "    }\n",
       "\n",
       "    .dataframe thead th {\n",
       "        text-align: right;\n",
       "    }\n",
       "</style>\n",
       "<table border=\"1\" class=\"dataframe\">\n",
       "  <thead>\n",
       "    <tr style=\"text-align: right;\">\n",
       "      <th></th>\n",
       "      <th>tnr</th>\n",
       "      <th>fpr</th>\n",
       "      <th>fnr</th>\n",
       "      <th>tpr</th>\n",
       "      <th>precision</th>\n",
       "      <th>f1</th>\n",
       "      <th>auc</th>\n",
       "    </tr>\n",
       "  </thead>\n",
       "  <tbody>\n",
       "    <tr>\n",
       "      <th>GMDA</th>\n",
       "      <td>0.946721</td>\n",
       "      <td>0.053279</td>\n",
       "      <td>0.035897</td>\n",
       "      <td>0.964103</td>\n",
       "      <td>0.935323</td>\n",
       "      <td>0.949495</td>\n",
       "      <td>0.991236</td>\n",
       "    </tr>\n",
       "  </tbody>\n",
       "</table>\n",
       "</div>"
      ],
      "text/plain": [
       "           tnr       fpr       fnr       tpr  precision        f1       auc\n",
       "GMDA  0.946721  0.053279  0.035897  0.964103   0.935323  0.949495  0.991236"
      ]
     },
     "metadata": {
      "scrapbook": {
       "data": false,
       "display": true,
       "name": "C_scores"
      }
     },
     "output_type": "display_data"
    }
   ],
   "source": [
    "mpp, mpp_fprs, mpp_tprs, mpp_thds = scores('GMDA', mpp_proba, data_test_labels)\n",
    "sb.glue('C_scores', mpp, display=True)"
   ]
  },
  {
   "cell_type": "markdown",
   "metadata": {},
   "source": [
    "also please save the ROC plot"
   ]
  },
  {
   "cell_type": "code",
   "execution_count": 24,
   "metadata": {},
   "outputs": [
    {
     "data": {
      "image/png": "[encoded data removed]",
      "text/plain": [
       "<Figure size 640x480 with 1 Axes>"
      ]
     },
     "metadata": {
      "scrapbook": {
       "data": false,
       "display": true,
       "name": "C_ROC"
      }
     },
     "output_type": "display_data"
    }
   ],
   "source": [
    "fig, ax = prepare_plot()\n",
    "ax.plot(qda_fprs, qda_tprs, label=\"{1:5.3f} {0:s} \".format('qda', qda['auc'][0]))\n",
    "ax.plot(gmda_fprs, gmda_tprs, label=\"{1:5.3f} {0:s} \".format('gmda', gmda['auc'][0]))\n",
    "ax.plot(mpp_fprs, mpp_tprs, label=\"{1:5.3f} {0:s} \".format('mpp', mpp['auc'][0]))\n",
    "ax.legend()\n",
    "sb.glue('C_ROC',fig, \"display\", display=True)"
   ]
  },
  {
   "cell_type": "markdown",
   "metadata": {},
   "source": [
    "## D.  "
   ]
  },
  {
   "cell_type": "markdown",
   "metadata": {},
   "source": [
    "Assume that 1% of all the customers in your store presents a counterfeit 100PLN bill. If you accept the counterfeit bill you loose 100PLN. If you reject a valid bill,  you may loose the purchase, you estimate this loss as 15PLN on average. For each of the three classifiers find the threshold that minimises your losses and calculates the minimum loss for each classifier. Show the optimal classifiers points on the ROC curves."
   ]
  },
  {
   "cell_type": "code",
   "execution_count": 34,
   "metadata": {},
   "outputs": [],
   "source": [
    "def cost(fprs, tprs, thds, colour, label):\n",
    "    cost = 100*(1-tprs)*0.01+15*fprs*0.99\n",
    "    min_cost = np.min(cost)\n",
    "    i = np.argmin(cost)\n",
    "    ax.plot(fprs, tprs, color = colour, label = label)\n",
    "    ax.scatter([fprs[i]], [tprs[i]], facecolor = colour, edgecolor = colour)\n",
    "    return min_cost, thds[i]"
   ]
  },
  {
   "cell_type": "markdown",
   "metadata": {},
   "source": [
    "also please save the ROC plot"
   ]
  },
  {
   "cell_type": "code",
   "execution_count": 39,
   "metadata": {},
   "outputs": [
    {
     "data": {
      "image/png": "[encoded data removed]",
      "text/plain": [
       "<Figure size 640x480 with 1 Axes>"
      ]
     },
     "metadata": {
      "scrapbook": {
       "data": false,
       "display": true,
       "name": "D_ROC"
      }
     },
     "output_type": "display_data"
    }
   ],
   "source": [
    "fig, ax = prepare_plot()\n",
    "qda_cost, qda_threshold = cost(qda_fprs, qda_tprs, qda_thds, \"orange\", label=\"{1:5.3f} {0:s} \".format('qda', qda['auc'][0]))\n",
    "gmda_cost, gmda_threshold = cost(gmda_fprs, gmda_tprs, gmda_thds, \"blue\", label=\"{1:5.3f} {0:s} \".format('gmda', gmda['auc'][0]))\n",
    "mpp_cost, mpp_threshold = cost(mpp_fprs, mpp_tprs, mpp_thds, \"red\", label=\"{1:5.3f} {0:s} \".format('mpp', mpp['auc'][0]))\n",
    "\n",
    "ax.legend()\n",
    "sb.glue('D_ROC',fig, \"display\", display=True)\n",
    "\n",
    "qda[\"cost\"] = qda_cost\n",
    "qda[\"threshold\"] = qda_threshold\n",
    "gmda[\"cost\"] = gmda_cost\n",
    "gmda[\"threshold\"] = gmda_threshold\n",
    "mpp[\"cost\"] = mpp_cost\n",
    "mpp[\"threshold\"] = mpp_threshold"
   ]
  },
  {
   "cell_type": "code",
   "execution_count": 40,
   "metadata": {},
   "outputs": [
    {
     "data": {
      "application/scrapbook.scrap.pandas+json": {
       "data": "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",
       "encoder": "pandas",
       "name": "D_A_scores",
       "version": 1
      }
     },
     "metadata": {
      "scrapbook": {
       "data": true,
       "display": false,
       "name": "D_A_scores"
      }
     },
     "output_type": "display_data"
    },
    {
     "data": {
      "text/html": [
       "<div>\n",
       "<style scoped>\n",
       "    .dataframe tbody tr th:only-of-type {\n",
       "        vertical-align: middle;\n",
       "    }\n",
       "\n",
       "    .dataframe tbody tr th {\n",
       "        vertical-align: top;\n",
       "    }\n",
       "\n",
       "    .dataframe thead th {\n",
       "        text-align: right;\n",
       "    }\n",
       "</style>\n",
       "<table border=\"1\" class=\"dataframe\">\n",
       "  <thead>\n",
       "    <tr style=\"text-align: right;\">\n",
       "      <th></th>\n",
       "      <th>tnr</th>\n",
       "      <th>fpr</th>\n",
       "      <th>fnr</th>\n",
       "      <th>tpr</th>\n",
       "      <th>precision</th>\n",
       "      <th>f1</th>\n",
       "      <th>auc</th>\n",
       "      <th>cost</th>\n",
       "      <th>threshold</th>\n",
       "    </tr>\n",
       "  </thead>\n",
       "  <tbody>\n",
       "    <tr>\n",
       "      <th>QDA</th>\n",
       "      <td>0.811475</td>\n",
       "      <td>0.188525</td>\n",
       "      <td>0.179487</td>\n",
       "      <td>0.820513</td>\n",
       "      <td>0.776699</td>\n",
       "      <td>0.798005</td>\n",
       "      <td>0.871732</td>\n",
       "      <td>0.923077</td>\n",
       "      <td>0.996152</td>\n",
       "    </tr>\n",
       "  </tbody>\n",
       "</table>\n",
       "</div>"
      ],
      "text/plain": [
       "          tnr       fpr       fnr       tpr  precision        f1       auc  \\\n",
       "QDA  0.811475  0.188525  0.179487  0.820513   0.776699  0.798005  0.871732   \n",
       "\n",
       "         cost  threshold  \n",
       "QDA  0.923077   0.996152  "
      ]
     },
     "metadata": {
      "scrapbook": {
       "data": false,
       "display": true,
       "name": "D_A_scores"
      }
     },
     "output_type": "display_data"
    }
   ],
   "source": [
    "sb.glue('D_A_scores',qda, display=True)"
   ]
  },
  {
   "cell_type": "code",
   "execution_count": 41,
   "metadata": {},
   "outputs": [
    {
     "data": {
      "application/scrapbook.scrap.pandas+json": {
       "data": "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",
       "encoder": "pandas",
       "name": "D_B_scores",
       "version": 1
      }
     },
     "metadata": {
      "scrapbook": {
       "data": true,
       "display": false,
       "name": "D_B_scores"
      }
     },
     "output_type": "display_data"
    },
    {
     "data": {
      "text/html": [
       "<div>\n",
       "<style scoped>\n",
       "    .dataframe tbody tr th:only-of-type {\n",
       "        vertical-align: middle;\n",
       "    }\n",
       "\n",
       "    .dataframe tbody tr th {\n",
       "        vertical-align: top;\n",
       "    }\n",
       "\n",
       "    .dataframe thead th {\n",
       "        text-align: right;\n",
       "    }\n",
       "</style>\n",
       "<table border=\"1\" class=\"dataframe\">\n",
       "  <thead>\n",
       "    <tr style=\"text-align: right;\">\n",
       "      <th></th>\n",
       "      <th>tnr</th>\n",
       "      <th>fpr</th>\n",
       "      <th>fnr</th>\n",
       "      <th>tpr</th>\n",
       "      <th>precision</th>\n",
       "      <th>f1</th>\n",
       "      <th>auc</th>\n",
       "      <th>cost</th>\n",
       "      <th>threshold</th>\n",
       "    </tr>\n",
       "  </thead>\n",
       "  <tbody>\n",
       "    <tr>\n",
       "      <th>GMDA</th>\n",
       "      <td>0.934426</td>\n",
       "      <td>0.065574</td>\n",
       "      <td>0.164103</td>\n",
       "      <td>0.835897</td>\n",
       "      <td>0.910615</td>\n",
       "      <td>0.871658</td>\n",
       "      <td>0.963388</td>\n",
       "      <td>0.374359</td>\n",
       "      <td>0.914679</td>\n",
       "    </tr>\n",
       "  </tbody>\n",
       "</table>\n",
       "</div>"
      ],
      "text/plain": [
       "           tnr       fpr       fnr       tpr  precision        f1       auc  \\\n",
       "GMDA  0.934426  0.065574  0.164103  0.835897   0.910615  0.871658  0.963388   \n",
       "\n",
       "          cost  threshold  \n",
       "GMDA  0.374359   0.914679  "
      ]
     },
     "metadata": {
      "scrapbook": {
       "data": false,
       "display": true,
       "name": "D_B_scores"
      }
     },
     "output_type": "display_data"
    }
   ],
   "source": [
    "sb.glue('D_B_scores',gmda, display=True)"
   ]
  },
  {
   "cell_type": "code",
   "execution_count": 42,
   "metadata": {},
   "outputs": [
    {
     "data": {
      "application/scrapbook.scrap.pandas+json": {
       "data": "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",
       "encoder": "pandas",
       "name": "D_C_scores",
       "version": 1
      }
     },
     "metadata": {
      "scrapbook": {
       "data": true,
       "display": false,
       "name": "D_C_scores"
      }
     },
     "output_type": "display_data"
    },
    {
     "data": {
      "text/html": [
       "<div>\n",
       "<style scoped>\n",
       "    .dataframe tbody tr th:only-of-type {\n",
       "        vertical-align: middle;\n",
       "    }\n",
       "\n",
       "    .dataframe tbody tr th {\n",
       "        vertical-align: top;\n",
       "    }\n",
       "\n",
       "    .dataframe thead th {\n",
       "        text-align: right;\n",
       "    }\n",
       "</style>\n",
       "<table border=\"1\" class=\"dataframe\">\n",
       "  <thead>\n",
       "    <tr style=\"text-align: right;\">\n",
       "      <th></th>\n",
       "      <th>tnr</th>\n",
       "      <th>fpr</th>\n",
       "      <th>fnr</th>\n",
       "      <th>tpr</th>\n",
       "      <th>precision</th>\n",
       "      <th>f1</th>\n",
       "      <th>auc</th>\n",
       "      <th>cost</th>\n",
       "      <th>threshold</th>\n",
       "    </tr>\n",
       "  </thead>\n",
       "  <tbody>\n",
       "    <tr>\n",
       "      <th>GMDA</th>\n",
       "      <td>0.946721</td>\n",
       "      <td>0.053279</td>\n",
       "      <td>0.035897</td>\n",
       "      <td>0.964103</td>\n",
       "      <td>0.935323</td>\n",
       "      <td>0.949495</td>\n",
       "      <td>0.991236</td>\n",
       "      <td>0.307692</td>\n",
       "      <td>0.998741</td>\n",
       "    </tr>\n",
       "  </tbody>\n",
       "</table>\n",
       "</div>"
      ],
      "text/plain": [
       "           tnr       fpr       fnr       tpr  precision        f1       auc  \\\n",
       "GMDA  0.946721  0.053279  0.035897  0.964103   0.935323  0.949495  0.991236   \n",
       "\n",
       "          cost  threshold  \n",
       "GMDA  0.307692   0.998741  "
      ]
     },
     "metadata": {
      "scrapbook": {
       "data": false,
       "display": true,
       "name": "D_C_scores"
      }
     },
     "output_type": "display_data"
    }
   ],
   "source": [
    "sb.glue('D_C_scores',mpp, display=True)"
   ]
  },
  {
   "cell_type": "code",
   "execution_count": null,
   "metadata": {},
   "outputs": [],
   "source": []
  }
 ],
 "metadata": {
  "kernelspec": {
   "display_name": "Python 3",
   "language": "python",
   "name": "python3"
  },
  "language_info": {
   "codemirror_mode": {
    "name": "ipython",
    "version": 3
   },
   "file_extension": ".py",
   "mimetype": "text/x-python",
   "name": "python",
   "nbconvert_exporter": "python",
   "pygments_lexer": "ipython3",
   "version": "3.8.10"
  }
 },
 "nbformat": 4,
 "nbformat_minor": 4
}
